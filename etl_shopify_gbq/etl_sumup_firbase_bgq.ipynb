{
 "cells": [
  {
   "cell_type": "code",
   "execution_count": null,
   "metadata": {},
   "outputs": [],
   "source": [
    "#to open cred files\n",
    "import os\n",
    "#cleaning and operations\n",
    "import pandas as pd\n",
    "import numpy as np\n",
    "#to read translations\n",
    "import json\n",
    "import unidecode"
   ]
  },
  {
   "cell_type": "code",
   "execution_count": null,
   "metadata": {},
   "outputs": [],
   "source": [
    "#bigquery\n",
    "import pandas_gbq\n",
    "from google.cloud import bigquery"
   ]
  },
  {
   "cell_type": "code",
   "execution_count": null,
   "metadata": {},
   "outputs": [],
   "source": [
    "#FIREBASE\n",
    "from firebase_admin import credentials,storage,firestore,initialize_app"
   ]
  },
  {
   "cell_type": "code",
   "execution_count": null,
   "metadata": {},
   "outputs": [],
   "source": [
    "from dotenv import load_dotenv\n",
    "load_dotenv('/Users/daniel/OAN/credentials/contoan/.env')"
   ]
  },
  {
   "cell_type": "code",
   "execution_count": null,
   "metadata": {},
   "outputs": [],
   "source": [
    "## OPEN CONECTION TO BIGQUERRY\n",
    "client = bigquery.Client()\n",
    "dataset_id = \"{}.contoan\".format(client.project)\n",
    "dataset = bigquery.Dataset(dataset_id)"
   ]
  },
  {
   "cell_type": "code",
   "execution_count": null,
   "metadata": {},
   "outputs": [],
   "source": [
    "filename=os.environ['FIREBASE_FILENAME']\n",
    "#OPEN CONECTION TO FIREBASE\n",
    "cred = credentials.Certificate(filename)\n",
    "firebase = initialize_app(cred)\n",
    "\n",
    "db = firestore.client()"
   ]
  },
  {
   "cell_type": "markdown",
   "metadata": {},
   "source": [
    "## CONNCET TO SUMUP"
   ]
  },
  {
   "cell_type": "code",
   "execution_count": null,
   "metadata": {},
   "outputs": [],
   "source": [
    "import requests"
   ]
  },
  {
   "cell_type": "code",
   "execution_count": null,
   "metadata": {},
   "outputs": [],
   "source": [
    "creds_sumup = json.load(open(sumup_file,'r'))"
   ]
  },
  {
   "cell_type": "code",
   "execution_count": null,
   "metadata": {},
   "outputs": [],
   "source": [
    "authorize_url = creds_sumup[\"authorize_url\"]\n",
    "token_url = creds_sumup[\"token_url\"]"
   ]
  },
  {
   "cell_type": "code",
   "execution_count": null,
   "metadata": {},
   "outputs": [],
   "source": [
    "client_id = creds_sumup[\"client_id\"]\n",
    "client_secret = creds_sumup[\"client_secret\"]"
   ]
  },
  {
   "cell_type": "code",
   "execution_count": null,
   "metadata": {},
   "outputs": [],
   "source": [
    "callback_uri = creds_sumup[\"redirect_uris\"]"
   ]
  },
  {
   "cell_type": "code",
   "execution_count": null,
   "metadata": {},
   "outputs": [],
   "source": [
    "scopes = ['transactions.history','user.profile','user.profile_readonly']"
   ]
  },
  {
   "cell_type": "code",
   "execution_count": null,
   "metadata": {},
   "outputs": [],
   "source": [
    "trans_hist = \"https://api.sumup.com/v0.1/me/transactions/history\""
   ]
  },
  {
   "cell_type": "code",
   "execution_count": null,
   "metadata": {},
   "outputs": [],
   "source": [
    "authorization_redirect_url = (authorize_url +\n",
    "                              '?response_type=code&client_id=' +\n",
    "                              client_id +\n",
    "                              '&redirect_uri=' + \n",
    "                              callback_uri[0] +\n",
    "                              '&scope='+scopes[0])"
   ]
  },
  {
   "cell_type": "code",
   "execution_count": null,
   "metadata": {},
   "outputs": [],
   "source": [
    "print(authorization_redirect_url)"
   ]
  },
  {
   "cell_type": "code",
   "execution_count": null,
   "metadata": {},
   "outputs": [],
   "source": [
    "data = {'grant_type': 'authorization_code',\n",
    "        'code': \"#COPIAR DE LA URL ANTERIOR#\",\n",
    "        'redirect_uri': callback_uri}\n",
    "access_token_response = requests.post(token_url,\n",
    "                                      data=data,\n",
    "                                      verify=False,\n",
    "                                      allow_redirects=False,\n",
    "                                      auth=(client_id, client_secret))\n"
   ]
  },
  {
   "cell_type": "code",
   "execution_count": null,
   "metadata": {},
   "outputs": [],
   "source": [
    "tokens = json.loads(access_token_response.text)\n",
    "access_token = tokens['access_token']"
   ]
  },
  {
   "cell_type": "code",
   "execution_count": null,
   "metadata": {},
   "outputs": [],
   "source": [
    "api_call_headers = {'Authorization': 'Bearer ' + access_token}\n",
    "params = {\n",
    "    \"limit\":1000\n",
    "}\n",
    "api_call_response = requests.get(trans_hist, \n",
    "                                 headers=api_call_headers, \n",
    "                                 params=params,\n",
    "                                 verify=False)"
   ]
  },
  {
   "cell_type": "code",
   "execution_count": null,
   "metadata": {},
   "outputs": [],
   "source": [
    "api_call_response.status_code"
   ]
  },
  {
   "cell_type": "code",
   "execution_count": null,
   "metadata": {},
   "outputs": [],
   "source": [
    "ventas_sumup = api_call_response.json()"
   ]
  },
  {
   "cell_type": "code",
   "execution_count": null,
   "metadata": {},
   "outputs": [],
   "source": [
    "ventas_sumup = ventas_sumup['items']"
   ]
  },
  {
   "cell_type": "code",
   "execution_count": null,
   "metadata": {},
   "outputs": [],
   "source": [
    "df_ventas_sumup = pd.DataFrame(ventas_sumup)"
   ]
  },
  {
   "cell_type": "code",
   "execution_count": null,
   "metadata": {},
   "outputs": [],
   "source": [
    "df_ventas_sumup.product_summary = df_ventas_sumup.product_summary.fillna('Nan')"
   ]
  },
  {
   "cell_type": "code",
   "execution_count": null,
   "metadata": {},
   "outputs": [],
   "source": [
    "df_ventas_sumup.head()"
   ]
  },
  {
   "cell_type": "code",
   "execution_count": null,
   "metadata": {},
   "outputs": [],
   "source": [
    "df_ventas_sumup.timestamp.max()"
   ]
  },
  {
   "cell_type": "code",
   "execution_count": null,
   "metadata": {},
   "outputs": [],
   "source": [
    "df_ventas_sumup.timestamp.min()"
   ]
  },
  {
   "cell_type": "code",
   "execution_count": null,
   "metadata": {},
   "outputs": [],
   "source": [
    "def count_prods(x):\n",
    "    mantecas = 0\n",
    "    balsamos = 0\n",
    "    cremas = 0\n",
    "    donation= 0\n",
    "    packs_hidra = 0\n",
    "    amount = x['amount']\n",
    "    product_summary = x['product_summary']\n",
    "    if product_summary != \"Nan\":\n",
    "        if product_summary == \"02 - Manteca de karité pura - 100 ml\":\n",
    "            mantecas =1\n",
    "        elif product_summary == \"03 - Bálsamo Labial\":\n",
    "            balsamos =1\n",
    "        elif product_summary == \"04 - Crema de Manos\":\n",
    "            cremas =1\n",
    "        elif product_summary == '01 - Pack \"La más hidratada del lugar\"':\n",
    "            packs_hidra = 1\n",
    "        elif product_summary == 'Donacion (1€)':\n",
    "            donation = 1 \n",
    "        elif 1 < len(product_summary.split(' x ')):\n",
    "            p_sum = product_summary.split(' x ')\n",
    "            prod = p_sum[1]\n",
    "            n_prod = int(p_sum[0])\n",
    "            if prod == \"02 - Manteca de karité pura - 100 ml\":\n",
    "                mantecas =n_prod\n",
    "            elif prod == \"03 - Bálsamo Labial\":\n",
    "                balsamos =n_prod\n",
    "            elif prod == \"04 - Crema de Manos\":\n",
    "                cremas =n_prod\n",
    "            elif prod == '01 - Pack \"La más hidratada del lugar\"':\n",
    "                packs_hidra = n_prod\n",
    "            elif prod == 'Donacion (1€)':\n",
    "                donation = n_prod\n",
    "    else:\n",
    "        if amount % 17 == 0:\n",
    "            packs_hidra = int(amount/17)\n",
    "        elif amount % 8 == 0:\n",
    "            mantecas = int(amount/8)\n",
    "        elif amount % 6 == 0:\n",
    "            cremas = int(amount/8)\n",
    "        elif amount % 4 == 0:\n",
    "            balsamos = int(amount/8)\n",
    "            \n",
    "    return pd.Series([packs_hidra,mantecas,cremas,balsamos,donation])"
   ]
  },
  {
   "cell_type": "code",
   "execution_count": null,
   "metadata": {},
   "outputs": [],
   "source": [
    "df_ventas_sumup[['packHidra_nb',\n",
    "                 'manteca_nb',\n",
    "                'crema_nb',\n",
    "                'balsamo_nb',\n",
    "                'donation']]=df_ventas_sumup.apply(lambda x: count_prods(x),axis=1)"
   ]
  },
  {
   "cell_type": "code",
   "execution_count": null,
   "metadata": {},
   "outputs": [],
   "source": [
    "df_ventas_sumup[['packHidra_nb',\n",
    "                 'manteca_nb',\n",
    "                'crema_nb',\n",
    "                'balsamo_nb',\n",
    "                'donation']].sum()"
   ]
  },
  {
   "cell_type": "code",
   "execution_count": null,
   "metadata": {},
   "outputs": [],
   "source": [
    "df_ventas_sumup.timestamp = pd.to_datetime(df_ventas_sumup.timestamp)"
   ]
  },
  {
   "cell_type": "code",
   "execution_count": null,
   "metadata": {},
   "outputs": [],
   "source": [
    "df_ventas_sumup_2020 = df_ventas_sumup[(df_ventas_sumup.timestamp.dt.year == 2020) &\n",
    "                                       (df_ventas_sumup.status == \"SUCCESSFUL\")]"
   ]
  },
  {
   "cell_type": "code",
   "execution_count": null,
   "metadata": {},
   "outputs": [],
   "source": [
    "df_ventas_sumup_2020[['packHidra_nb',\n",
    "                 'manteca_nb',\n",
    "                'crema_nb',\n",
    "                'balsamo_nb',\n",
    "                'donation']].sum()"
   ]
  },
  {
   "cell_type": "code",
   "execution_count": null,
   "metadata": {},
   "outputs": [],
   "source": [
    "df_ventas_sumup_2020['amount'].sum()"
   ]
  },
  {
   "cell_type": "markdown",
   "metadata": {},
   "source": [
    "### SUBIR A FIREBASE"
   ]
  },
  {
   "cell_type": "markdown",
   "metadata": {},
   "source": [
    "### ACTUALIZAR BIGQUERY"
   ]
  },
  {
   "cell_type": "code",
   "execution_count": null,
   "metadata": {},
   "outputs": [],
   "source": []
  }
 ],
 "metadata": {
  "kernelspec": {
   "display_name": "Python 3",
   "language": "python",
   "name": "python3"
  },
  "language_info": {
   "codemirror_mode": {
    "name": "ipython",
    "version": 3
   },
   "file_extension": ".py",
   "mimetype": "text/x-python",
   "name": "python",
   "nbconvert_exporter": "python",
   "pygments_lexer": "ipython3",
   "version": "3.8.3"
  }
 },
 "nbformat": 4,
 "nbformat_minor": 2
}

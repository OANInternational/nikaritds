{
 "cells": [
  {
   "cell_type": "markdown",
   "metadata": {},
   "source": [
    "# ETL de ventas de SUMUP"
   ]
  },
  {
   "cell_type": "markdown",
   "metadata": {},
   "source": [
    "Extraeremos las ventas a través de la API de SUMUP y añadiremos esa información a las bases de datos de ventas Nikarit en Bigquery y en Firebase. <br>\n",
    "¿Qué es SUMUP? - Sumup es la aplicación que usamos para registrar ventas cuando estamos en mercadillos. Registramos tanto ventas manuales como ventas a través del datáfono de SUMUP <br>\n",
    "<br>\n",
    "La idea es integrar estas ventas con las ventas online en una misma base de datos"
   ]
  },
  {
   "cell_type": "code",
   "execution_count": 1,
   "metadata": {},
   "outputs": [],
   "source": [
    "#to open cred files\n",
    "import os\n",
    "#cleaning and operations\n",
    "import pandas as pd\n",
    "import numpy as np\n",
    "#to get values of API\n",
    "import json\n",
    "import unidecode\n",
    "import requests"
   ]
  },
  {
   "cell_type": "code",
   "execution_count": 2,
   "metadata": {},
   "outputs": [],
   "source": [
    "from time import sleep"
   ]
  },
  {
   "cell_type": "code",
   "execution_count": 3,
   "metadata": {},
   "outputs": [],
   "source": [
    "from requests.packages.urllib3.exceptions import InsecureRequestWarning\n",
    "\n",
    "requests.packages.urllib3.disable_warnings(InsecureRequestWarning)"
   ]
  },
  {
   "cell_type": "code",
   "execution_count": 4,
   "metadata": {},
   "outputs": [],
   "source": [
    "#bigquery\n",
    "import pandas_gbq\n",
    "from google.cloud import bigquery"
   ]
  },
  {
   "cell_type": "code",
   "execution_count": 5,
   "metadata": {},
   "outputs": [],
   "source": [
    "#FIREBASE\n",
    "from firebase_admin import credentials,storage,firestore,initialize_app"
   ]
  },
  {
   "cell_type": "code",
   "execution_count": 6,
   "metadata": {},
   "outputs": [
    {
     "data": {
      "text/plain": [
       "True"
      ]
     },
     "execution_count": 6,
     "metadata": {},
     "output_type": "execute_result"
    }
   ],
   "source": [
    "from dotenv import load_dotenv\n",
    "load_dotenv('/Users/daniel/OAN/credentials/contoan/.env')"
   ]
  },
  {
   "cell_type": "code",
   "execution_count": 84,
   "metadata": {},
   "outputs": [],
   "source": [
    "## OPEN CONECTION TO BIGQUERRY\n",
    "gbq_client = bigquery.Client()\n",
    "dataset_id = \"{}.contoan\".format(client.project)\n",
    "dataset = bigquery.Dataset(dataset_id)"
   ]
  },
  {
   "cell_type": "code",
   "execution_count": 8,
   "metadata": {},
   "outputs": [],
   "source": [
    "filename=os.environ['FIREBASE_FILENAME']\n",
    "#OPEN CONECTION TO FIREBASE\n",
    "cred = credentials.Certificate(filename)\n",
    "firebase = initialize_app(cred)\n",
    "\n",
    "db = firestore.client()"
   ]
  },
  {
   "cell_type": "markdown",
   "metadata": {},
   "source": [
    "## NOS CONECTAMOS A SUMUP"
   ]
  },
  {
   "cell_type": "code",
   "execution_count": 9,
   "metadata": {},
   "outputs": [],
   "source": [
    "#cogemos la ruta del archivo con las credenciales de sumup\n",
    "sumup_file = os.environ['SUMUP']"
   ]
  },
  {
   "cell_type": "code",
   "execution_count": 10,
   "metadata": {},
   "outputs": [],
   "source": [
    "#abrimos el archivo y lo cargamos en un diccionario\n",
    "creds_sumup = json.load(open(sumup_file,'r'))"
   ]
  },
  {
   "cell_type": "code",
   "execution_count": 11,
   "metadata": {},
   "outputs": [],
   "source": [
    "#endpoints de autentificación\n",
    "authorize_url = creds_sumup[\"authorize_url\"]\n",
    "token_url = creds_sumup[\"token_url\"]"
   ]
  },
  {
   "cell_type": "code",
   "execution_count": 12,
   "metadata": {},
   "outputs": [],
   "source": [
    "client_id = creds_sumup[\"client_id\"]\n",
    "client_secret = creds_sumup[\"client_secret\"]"
   ]
  },
  {
   "cell_type": "code",
   "execution_count": 13,
   "metadata": {},
   "outputs": [],
   "source": [
    "callback_uri = creds_sumup[\"redirect_uris\"]"
   ]
  },
  {
   "cell_type": "code",
   "execution_count": 14,
   "metadata": {},
   "outputs": [],
   "source": [
    "scopes = ['transactions.history','user.profile','user.profile_readonly']"
   ]
  },
  {
   "cell_type": "markdown",
   "metadata": {},
   "source": [
    "info sobre las transacciones - # https://developer.sumup.com/rest-api/#tag/Transactions"
   ]
  },
  {
   "cell_type": "code",
   "execution_count": 15,
   "metadata": {},
   "outputs": [],
   "source": [
    "#para conseguir todas las transacciones\n",
    "trans_hist = \"https://api.sumup.com/v0.1/me/transactions/history\"\n",
    "\n",
    "#para conseguir más información de cada una de las transacciones\n",
    "transaction_url = \"https://api.sumup.com/v0.1/me/transactions\""
   ]
  },
  {
   "cell_type": "markdown",
   "metadata": {},
   "source": [
    "### AUTENTIFICACION EN SUMUP PARA OBTENER CÓDIGO\n",
    "Tal y como describe en documentación, la api de sumup, para poder recibir un token de acceso necesita <br>\n",
    "que te autentiques como usuario para poder darte un token de acceso que puede permitirte <br>\n",
    "acceder a la información de tu usuario"
   ]
  },
  {
   "cell_type": "code",
   "execution_count": 16,
   "metadata": {},
   "outputs": [],
   "source": [
    "authorization_redirect_url = (authorize_url +\n",
    "                              '?response_type=code&client_id=' +\n",
    "                              client_id +\n",
    "                              '&redirect_uri=' + \n",
    "                              callback_uri[0] +\n",
    "                              '&scope='+scopes[0])"
   ]
  },
  {
   "cell_type": "code",
   "execution_count": 18,
   "metadata": {},
   "outputs": [],
   "source": [
    "print(authorization_redirect_url)"
   ]
  },
  {
   "cell_type": "code",
   "execution_count": 20,
   "metadata": {},
   "outputs": [],
   "source": [
    "#Añadimos el código que nos ha generado\n",
    "code = input('enter code:\\n')"
   ]
  },
  {
   "cell_type": "code",
   "execution_count": 21,
   "metadata": {},
   "outputs": [],
   "source": [
    "#cojemos el token de acceso\n",
    "data = {'grant_type': 'authorization_code',\n",
    "        'code': code,\n",
    "        'redirect_uri': callback_uri}\n",
    "access_token_response = requests.post(token_url,\n",
    "                                      data=data,\n",
    "                                      verify=False,\n",
    "                                      allow_redirects=False,\n",
    "                                      auth=(client_id, client_secret))\n"
   ]
  },
  {
   "cell_type": "code",
   "execution_count": 22,
   "metadata": {},
   "outputs": [],
   "source": [
    "tokens = json.loads(access_token_response.text)\n",
    "access_token = tokens['access_token']"
   ]
  },
  {
   "cell_type": "markdown",
   "metadata": {},
   "source": [
    "---- ya estamos autenticados"
   ]
  },
  {
   "cell_type": "markdown",
   "metadata": {},
   "source": [
    "## COGEMOS LISTADO DE TRANSACCIONES"
   ]
  },
  {
   "cell_type": "code",
   "execution_count": 23,
   "metadata": {},
   "outputs": [],
   "source": [
    "api_call_headers = {'Authorization': 'Bearer ' + access_token}\n",
    "params = {\n",
    "    \"limit\":1000\n",
    "}\n",
    "api_call_response = requests.get(trans_hist, \n",
    "                                 headers=api_call_headers, \n",
    "                                 params=params,\n",
    "                                 verify=False)"
   ]
  },
  {
   "cell_type": "code",
   "execution_count": 25,
   "metadata": {},
   "outputs": [
    {
     "data": {
      "text/plain": [
       "'todo correcto'"
      ]
     },
     "execution_count": 25,
     "metadata": {},
     "output_type": "execute_result"
    }
   ],
   "source": [
    "'todo correcto' if api_call_response.status_code == 200 else 'La liaste'"
   ]
  },
  {
   "cell_type": "code",
   "execution_count": 26,
   "metadata": {},
   "outputs": [],
   "source": [
    "ventas_sumup = api_call_response.json()"
   ]
  },
  {
   "cell_type": "code",
   "execution_count": 27,
   "metadata": {},
   "outputs": [],
   "source": [
    "ventas_sumup = ventas_sumup['items']"
   ]
  },
  {
   "cell_type": "code",
   "execution_count": 28,
   "metadata": {},
   "outputs": [],
   "source": [
    "df_ventas_sumup = pd.DataFrame(ventas_sumup)"
   ]
  },
  {
   "cell_type": "code",
   "execution_count": 29,
   "metadata": {},
   "outputs": [
    {
     "data": {
      "text/plain": [
       "(647, 19)"
      ]
     },
     "execution_count": 29,
     "metadata": {},
     "output_type": "execute_result"
    }
   ],
   "source": [
    "df_ventas_sumup.shape"
   ]
  },
  {
   "cell_type": "markdown",
   "metadata": {},
   "source": [
    "### COGEMOS LA INFORMACION DE LOS PRODUCTOS QUE SE VENDIERON EN CADA VENTA"
   ]
  },
  {
   "cell_type": "code",
   "execution_count": 30,
   "metadata": {},
   "outputs": [],
   "source": [
    "def get_info_trans(x):\n",
    "    products = []\n",
    "    lat = 0\n",
    "    lon = 0\n",
    "    transaction=''\n",
    "    transaction_id=x\n",
    "    params = {\n",
    "        \"id\":transaction_id\n",
    "    }\n",
    "    api_call_response = requests.get(transaction_url, \n",
    "                                     headers=api_call_headers, \n",
    "                                     params=params,\n",
    "                                     verify=False)\n",
    "    status = api_call_response.status_code\n",
    "    if status != 200:\n",
    "        raise('error in {} - {}'.format(x,status))\n",
    "    \n",
    "    else:\n",
    "        transaction = api_call_response.json()\n",
    "        products = transaction['products']\n",
    "        lat = transaction['lat']\n",
    "        lon = transaction['lon']\n",
    "    sleep(0.01)\n",
    "    return pd.Series([products,lat,lon])"
   ]
  },
  {
   "cell_type": "code",
   "execution_count": 31,
   "metadata": {},
   "outputs": [],
   "source": [
    "df_ventas_sumup[['products','lat','lon']] = df_ventas_sumup['transaction_id'].apply(lambda x: get_info_trans(x))"
   ]
  },
  {
   "cell_type": "markdown",
   "metadata": {},
   "source": [
    "### TRANSFORMAMOS LA INFORMACION PARA QUE ESTE IGUAL QUE EN LA BBDD"
   ]
  },
  {
   "cell_type": "markdown",
   "metadata": {},
   "source": [
    "#### COGEMOS listado de productos únicos "
   ]
  },
  {
   "cell_type": "code",
   "execution_count": 32,
   "metadata": {},
   "outputs": [],
   "source": [
    "l_all_prods = df_ventas_sumup['products'].to_list()"
   ]
  },
  {
   "cell_type": "code",
   "execution_count": 34,
   "metadata": {},
   "outputs": [],
   "source": [
    "l_prods = []\n",
    "for prods in l_all_prods:\n",
    "    l_prods = l_prods+prods"
   ]
  },
  {
   "cell_type": "code",
   "execution_count": 35,
   "metadata": {},
   "outputs": [],
   "source": [
    "df_prods = pd.DataFrame(l_prods)"
   ]
  },
  {
   "cell_type": "code",
   "execution_count": 36,
   "metadata": {},
   "outputs": [
    {
     "data": {
      "text/html": [
       "<div>\n",
       "<style scoped>\n",
       "    .dataframe tbody tr th:only-of-type {\n",
       "        vertical-align: middle;\n",
       "    }\n",
       "\n",
       "    .dataframe tbody tr th {\n",
       "        vertical-align: top;\n",
       "    }\n",
       "\n",
       "    .dataframe thead th {\n",
       "        text-align: right;\n",
       "    }\n",
       "</style>\n",
       "<table border=\"1\" class=\"dataframe\">\n",
       "  <thead>\n",
       "    <tr style=\"text-align: right;\">\n",
       "      <th></th>\n",
       "      <th>name</th>\n",
       "      <th>price</th>\n",
       "      <th>vat_rate</th>\n",
       "      <th>price_with_vat</th>\n",
       "    </tr>\n",
       "  </thead>\n",
       "  <tbody>\n",
       "    <tr>\n",
       "      <th>0</th>\n",
       "      <td></td>\n",
       "      <td>1.00</td>\n",
       "      <td>NaN</td>\n",
       "      <td>NaN</td>\n",
       "    </tr>\n",
       "    <tr>\n",
       "      <th>1</th>\n",
       "      <td>Nikarit</td>\n",
       "      <td>27.00</td>\n",
       "      <td>NaN</td>\n",
       "      <td>NaN</td>\n",
       "    </tr>\n",
       "    <tr>\n",
       "      <th>111</th>\n",
       "      <td>02 - Manteca de karité pura - 100 ml</td>\n",
       "      <td>6.61</td>\n",
       "      <td>0.21</td>\n",
       "      <td>8.0</td>\n",
       "    </tr>\n",
       "    <tr>\n",
       "      <th>112</th>\n",
       "      <td>04 - Crema de Manos</td>\n",
       "      <td>4.96</td>\n",
       "      <td>0.21</td>\n",
       "      <td>6.0</td>\n",
       "    </tr>\n",
       "    <tr>\n",
       "      <th>113</th>\n",
       "      <td>01 - Pack \"La más hidratada del lugar\"</td>\n",
       "      <td>14.05</td>\n",
       "      <td>0.21</td>\n",
       "      <td>17.0</td>\n",
       "    </tr>\n",
       "    <tr>\n",
       "      <th>115</th>\n",
       "      <td>Donacion (1€)</td>\n",
       "      <td>1.00</td>\n",
       "      <td>0.00</td>\n",
       "      <td>1.0</td>\n",
       "    </tr>\n",
       "    <tr>\n",
       "      <th>117</th>\n",
       "      <td>03 - Bálsamo Labial</td>\n",
       "      <td>3.31</td>\n",
       "      <td>0.21</td>\n",
       "      <td>4.0</td>\n",
       "    </tr>\n",
       "    <tr>\n",
       "      <th>145</th>\n",
       "      <td>Donacion (10€)</td>\n",
       "      <td>10.00</td>\n",
       "      <td>0.00</td>\n",
       "      <td>10.0</td>\n",
       "    </tr>\n",
       "  </tbody>\n",
       "</table>\n",
       "</div>"
      ],
      "text/plain": [
       "                                       name  price  vat_rate  price_with_vat\n",
       "0                                             1.00       NaN             NaN\n",
       "1                                   Nikarit  27.00       NaN             NaN\n",
       "111    02 - Manteca de karité pura - 100 ml   6.61      0.21             8.0\n",
       "112                     04 - Crema de Manos   4.96      0.21             6.0\n",
       "113  01 - Pack \"La más hidratada del lugar\"  14.05      0.21            17.0\n",
       "115                           Donacion (1€)   1.00      0.00             1.0\n",
       "117                     03 - Bálsamo Labial   3.31      0.21             4.0\n",
       "145                          Donacion (10€)  10.00      0.00            10.0"
      ]
     },
     "execution_count": 36,
     "metadata": {},
     "output_type": "execute_result"
    }
   ],
   "source": [
    "df_prods[['name','price','vat_rate','price_with_vat']].drop_duplicates(subset=['name'])"
   ]
  },
  {
   "cell_type": "code",
   "execution_count": 37,
   "metadata": {},
   "outputs": [],
   "source": [
    "prods_name = df_prods['name'].unique()"
   ]
  },
  {
   "cell_type": "markdown",
   "metadata": {},
   "source": [
    "### los productos que estan en blanco, es porque no se dieron de alta en la venta"
   ]
  },
  {
   "cell_type": "code",
   "execution_count": 38,
   "metadata": {},
   "outputs": [
    {
     "data": {
      "text/plain": [
       "array(['', 'Nikarit', '02 - Manteca de karité pura - 100 ml',\n",
       "       '04 - Crema de Manos', '01 - Pack \"La más hidratada del lugar\"',\n",
       "       'Donacion (1€)', '03 - Bálsamo Labial', 'Donacion (10€)'],\n",
       "      dtype=object)"
      ]
     },
     "execution_count": 38,
     "metadata": {},
     "output_type": "execute_result"
    }
   ],
   "source": [
    "prods_name"
   ]
  },
  {
   "cell_type": "code",
   "execution_count": 39,
   "metadata": {},
   "outputs": [],
   "source": [
    "d_prods_trans = {\n",
    "    '':'',\n",
    "    'Nikarit':'',\n",
    "    '02 - Manteca de karité pura - 100 ml':'manteca_nb',\n",
    "    '04 - Crema de Manos':'crema_nb', \n",
    "    '03 - Bálsamo Labial':'balsamo_nb',\n",
    "    '01 - Pack \"La más hidratada del lugar\"':'packHidra_nb',\n",
    "    'Donacion (1€)':'donation', \n",
    "    'Donacion (10€)':'donation'\n",
    "}"
   ]
  },
  {
   "cell_type": "code",
   "execution_count": 40,
   "metadata": {},
   "outputs": [],
   "source": [
    "def count_prods(x):\n",
    "    mantecas = 0\n",
    "    balsamos = 0\n",
    "    cremas = 0\n",
    "    donation= 0\n",
    "    packs_hidra = 0\n",
    "    amount = x['amount']\n",
    "    prods = x['products']\n",
    "    count_prods = {\n",
    "        'manteca_nb':0,\n",
    "        'crema_nb':0,\n",
    "        'balsamo_nb':0,\n",
    "        'packHidra_nb':0,\n",
    "        'donation':0\n",
    "    }\n",
    "    \n",
    "    #indicador para saber si se ha informado el producto en la venta\n",
    "    match_prod = 0\n",
    "    for pro in prods:\n",
    "        ks = pro.keys()\n",
    "        pp = d_prods_trans[pro['name']]\n",
    "        tot_price = pro['total_with_vat'] if 'total_with_vat' in ks else pro['total_price']\n",
    "        quant = pro['quantity']\n",
    "        \n",
    "        #En donaciones meteremos los euros de donacion\n",
    "        if pp == 'donation' :\n",
    "            count_prods[pp]=count_prods[pp]+tot_price\n",
    "            match_prod = 1\n",
    "        #el resto de productos meteremos la cantidad que se ha vendido\n",
    "        elif pp != '':\n",
    "            count_prods[pp]=count_prods[pp]+quant\n",
    "            match_prod = 1\n",
    "            \n",
    "    #Para aquellos donde no se declaró producto intentaremos inducirlo por la cantidad vendida     \n",
    "    if match_prod == 0:\n",
    "        if amount % 17 == 0:\n",
    "            count_prods['packHidra_nb'] = int(amount/17)\n",
    "        elif amount % 8 == 0:\n",
    "            count_prods['manteca_nb'] = int(amount/8)\n",
    "        elif amount % 6 == 0:\n",
    "            count_prods['crema_nb'] = int(amount/6)\n",
    "        elif amount % 4 == 0:\n",
    "            count_prods['balsamo_nb'] = int(amount/4)\n",
    "\n",
    "    return pd.Series([count_prods[i] for i in count_prods])"
   ]
  },
  {
   "cell_type": "code",
   "execution_count": 41,
   "metadata": {},
   "outputs": [],
   "source": [
    "df_ventas_sumup[['manteca_nb',\n",
    "                'crema_nb',\n",
    "                'balsamo_nb',\n",
    "                 'packHidra_nb',\n",
    "                'donation']]=df_ventas_sumup.apply(lambda x: count_prods(x),axis=1)"
   ]
  },
  {
   "cell_type": "code",
   "execution_count": 42,
   "metadata": {},
   "outputs": [
    {
     "data": {
      "text/plain": [
       "packHidra_nb     64.0\n",
       "manteca_nb      304.0\n",
       "crema_nb        259.0\n",
       "balsamo_nb      330.0\n",
       "donation        323.0\n",
       "dtype: float64"
      ]
     },
     "execution_count": 42,
     "metadata": {},
     "output_type": "execute_result"
    }
   ],
   "source": [
    "df_ventas_sumup[['packHidra_nb',\n",
    "                 'manteca_nb',\n",
    "                'crema_nb',\n",
    "                'balsamo_nb',\n",
    "                'donation']].sum()"
   ]
  },
  {
   "cell_type": "code",
   "execution_count": 43,
   "metadata": {},
   "outputs": [
    {
     "data": {
      "text/plain": [
       "'2020-03-11T13:00:35.047Z'"
      ]
     },
     "execution_count": 43,
     "metadata": {},
     "output_type": "execute_result"
    }
   ],
   "source": [
    "df_ventas_sumup.timestamp.max()"
   ]
  },
  {
   "cell_type": "code",
   "execution_count": 44,
   "metadata": {},
   "outputs": [
    {
     "data": {
      "text/plain": [
       "'2019-05-18T06:33:08.623Z'"
      ]
     },
     "execution_count": 44,
     "metadata": {},
     "output_type": "execute_result"
    }
   ],
   "source": [
    "df_ventas_sumup.timestamp.min()"
   ]
  },
  {
   "cell_type": "code",
   "execution_count": 45,
   "metadata": {},
   "outputs": [],
   "source": [
    "df_ventas_sumup['creation_date'] = df_ventas_sumup.timestamp\n",
    "df_ventas_sumup['close_date'] = df_ventas_sumup.timestamp"
   ]
  },
  {
   "cell_type": "code",
   "execution_count": 46,
   "metadata": {},
   "outputs": [],
   "source": [
    "trad_paytype = {'POS':'card','CASH':'cash'}"
   ]
  },
  {
   "cell_type": "code",
   "execution_count": 47,
   "metadata": {},
   "outputs": [],
   "source": [
    "df_ventas_sumup['payment_type'] = df_ventas_sumup['payment_type'].apply(lambda x: trad_paytype[x])"
   ]
  },
  {
   "cell_type": "code",
   "execution_count": 48,
   "metadata": {},
   "outputs": [],
   "source": [
    "df_ventas_sumup['manteca_unit_price'] = 8\n",
    "df_ventas_sumup['crema_unit_price'] = 6\n",
    "df_ventas_sumup['balsamo_unit_price'] = 4\n",
    "df_ventas_sumup['packHidra_unit_price']= 17"
   ]
  },
  {
   "cell_type": "code",
   "execution_count": 49,
   "metadata": {},
   "outputs": [],
   "source": [
    "refs = ['manteca','crema','balsamo','packHidra']"
   ]
  },
  {
   "cell_type": "code",
   "execution_count": 50,
   "metadata": {},
   "outputs": [],
   "source": [
    "for pro in refs:\n",
    "    df_ventas_sumup[pro+'_total_price'] = df_ventas_sumup[pro+'_unit_price'] * df_ventas_sumup[pro+'_nb']  "
   ]
  },
  {
   "cell_type": "code",
   "execution_count": 51,
   "metadata": {},
   "outputs": [],
   "source": [
    "df_ventas_sumup['total_tax'] = df_ventas_sumup.apply(lambda x: sum([x[r+'_total_price']*0.21 for r in refs]),axis=1)"
   ]
  },
  {
   "cell_type": "code",
   "execution_count": 52,
   "metadata": {},
   "outputs": [],
   "source": [
    "df_ventas_sumup['subtotal_price'] = df_ventas_sumup['amount']-df_ventas_sumup['donation']"
   ]
  },
  {
   "cell_type": "code",
   "execution_count": 53,
   "metadata": {},
   "outputs": [],
   "source": [
    "df_ventas_sumup['origin'] = 'sumup'"
   ]
  },
  {
   "cell_type": "markdown",
   "metadata": {},
   "source": [
    "### SUBIR A FIREBASE"
   ]
  },
  {
   "cell_type": "code",
   "execution_count": 54,
   "metadata": {},
   "outputs": [],
   "source": [
    "sales_col = db.collection('Nikarit_Sales')"
   ]
  },
  {
   "cell_type": "markdown",
   "metadata": {},
   "source": [
    "#### renombrar columnas para que coincidan con documentos anteriores de la bbdd"
   ]
  },
  {
   "cell_type": "code",
   "execution_count": 55,
   "metadata": {},
   "outputs": [],
   "source": [
    "cols = df_ventas_sumup.columns"
   ]
  },
  {
   "cell_type": "code",
   "execution_count": 63,
   "metadata": {},
   "outputs": [],
   "source": [
    "d_cols = dict(zip(cols,cols))"
   ]
  },
  {
   "cell_type": "code",
   "execution_count": 64,
   "metadata": {},
   "outputs": [],
   "source": [
    "d_cols['user']='sumup_user'\n",
    "d_cols['lat']='latitude'\n",
    "d_cols['lon']='longitude'\n",
    "d_cols['payment_type'] = 'gateway'\n",
    "d_cols['amount'] = 'total_price'\n",
    "d_cols['transaction_id'] = 'sumup_transaction_id'"
   ]
  },
  {
   "cell_type": "code",
   "execution_count": 65,
   "metadata": {},
   "outputs": [],
   "source": [
    "df_ventas_sumup = df_ventas_sumup.rename(columns=d_cols)"
   ]
  },
  {
   "cell_type": "code",
   "execution_count": 66,
   "metadata": {},
   "outputs": [],
   "source": [
    "fire_cols = ['sumup_user', 'sumup_transaction_id', 'creation_date', 'close_date', 'latitude', 'longitude', 'total_tax',\n",
    " 'total_price', 'subtotal_price', 'gateway', 'origin', 'manteca_unit_price', 'crema_unit_price',\n",
    " 'balsamo_unit_price', 'packHidra_unit_price','manteca_nb', 'crema_nb', 'balsamo_nb', 'packHidra_nb',\n",
    " 'manteca_total_price', 'crema_total_price','balsamo_total_price', 'packHidra_total_price']"
   ]
  },
  {
   "cell_type": "code",
   "execution_count": 102,
   "metadata": {},
   "outputs": [
    {
     "data": {
      "text/plain": [
       "'estan todos los campos que queremos subir'"
      ]
     },
     "execution_count": 102,
     "metadata": {},
     "output_type": "execute_result"
    }
   ],
   "source": [
    "resta = set(fire_cols)-set(df_ventas_sumup.columns)\n",
    "'estan todos los campos que queremos subir' if len(resta)==0 else 'faltan -'+str(resta)"
   ]
  },
  {
   "cell_type": "markdown",
   "metadata": {},
   "source": [
    "### LOOP POR TODAS LAS VENTAS"
   ]
  },
  {
   "cell_type": "code",
   "execution_count": 103,
   "metadata": {},
   "outputs": [],
   "source": [
    "sumup_ventas = df_ventas_sumup[fire_cols].T.to_dict()"
   ]
  },
  {
   "cell_type": "code",
   "execution_count": 104,
   "metadata": {},
   "outputs": [],
   "source": [
    "for i in sumup_ventas:\n",
    "    row = sumup_ventas[i]\n",
    "    doc_acc = sales_col.add(row)[1]\n",
    "    doc_acc_id = doc_acc.id\n",
    "    doc_acc.update({'id':doc_acc_id})"
   ]
  },
  {
   "cell_type": "markdown",
   "metadata": {},
   "source": [
    "## ACTUALIZAR BIGQUERY"
   ]
  },
  {
   "cell_type": "code",
   "execution_count": 83,
   "metadata": {},
   "outputs": [
    {
     "name": "stderr",
     "output_type": "stream",
     "text": [
      "1it [00:04,  4.53s/it]\n"
     ]
    }
   ],
   "source": [
    "df_ventas_sumup.to_gbq('{}.sumup_sales'.format(dataset.dataset_id),\n",
    "                       project_id=dataset.project,\n",
    "                       if_exists='replace')"
   ]
  },
  {
   "cell_type": "code",
   "execution_count": 88,
   "metadata": {},
   "outputs": [
    {
     "data": {
      "text/plain": [
       "'oan-nikarit'"
      ]
     },
     "execution_count": 88,
     "metadata": {},
     "output_type": "execute_result"
    }
   ],
   "source": [
    "dataset.project"
   ]
  },
  {
   "cell_type": "code",
   "execution_count": 90,
   "metadata": {},
   "outputs": [],
   "source": [
    "ss = gbq_client.get_table('oan-nikarit.contoan.sumup_sales')"
   ]
  },
  {
   "cell_type": "code",
   "execution_count": 94,
   "metadata": {},
   "outputs": [
    {
     "data": {
      "text/plain": [
       "647"
      ]
     },
     "execution_count": 94,
     "metadata": {},
     "output_type": "execute_result"
    }
   ],
   "source": [
    "ss.num_rows"
   ]
  }
 ],
 "metadata": {
  "kernelspec": {
   "display_name": "Python 3",
   "language": "python",
   "name": "python3"
  },
  "language_info": {
   "codemirror_mode": {
    "name": "ipython",
    "version": 3
   },
   "file_extension": ".py",
   "mimetype": "text/x-python",
   "name": "python",
   "nbconvert_exporter": "python",
   "pygments_lexer": "ipython3",
   "version": "3.8.3"
  }
 },
 "nbformat": 4,
 "nbformat_minor": 2
}

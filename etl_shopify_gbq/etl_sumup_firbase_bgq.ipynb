{
 "cells": [
  {
   "cell_type": "markdown",
   "metadata": {},
   "source": [
    "# ETL de ventas de SUMUP"
   ]
  },
  {
   "cell_type": "markdown",
   "metadata": {},
   "source": [
    "Extraeremos las ventas a través de la API de SUMUP y añadiremos esa información a las bases de datos de ventas Nikarit en Bigquery y en Firebase. <br>\n",
    "¿Qué es SUMUP? - Sumup es la aplicación que usamos para registrar ventas cuando estamos en mercadillos. Registramos tanto ventas manuales como ventas a través del datáfono de SUMUP <br>\n",
    "<br>\n",
    "La idea es integrar estas ventas con las ventas online en una misma base de datos"
   ]
  },
  {
   "cell_type": "code",
   "execution_count": 1,
   "metadata": {},
   "outputs": [],
   "source": [
    "# Imports\n",
    "import pandas as pd\n",
    "\n",
    "import requests\n",
    "import yaml\n",
    "import json\n",
    "import os\n",
    "import firebase_admin\n",
    "import subprocess\n",
    "import googleapiclient.discovery\n",
    "import string\n",
    "import numpy as np\n",
    "\n",
    "from time import sleep\n",
    "\n",
    "from google.oauth2 import service_account\n",
    "from google.cloud import bigquery\n",
    "\n",
    "\n",
    "from datetime import datetime,timedelta\n",
    "\n",
    "#Firbease (pip install firebase_admin)\n",
    "from firebase_admin import credentials\n",
    "from firebase_admin import firestore\n",
    "\n",
    "## google cloud\n",
    "import google.auth.transport.requests as grequests\n",
    "from google.oauth2.id_token import fetch_id_token\n",
    "\n",
    "from dotenv import load_dotenv\n",
    " \n",
    "load_dotenv(dotenv_path='/Users/daniel/OAN/credentials/miong/.env')\n",
    "\n",
    "shop_url = os.environ['SHOPIFY_ACCESS_URL']\n",
    "\n",
    "cloudCreds = os.environ['CLOUD_CREDS']\n"
   ]
  },
  {
   "cell_type": "markdown",
   "metadata": {},
   "source": [
    "## GLOBAL VARIABLES"
   ]
  },
  {
   "cell_type": "code",
   "execution_count": 2,
   "metadata": {},
   "outputs": [],
   "source": [
    "CREATEDBYTYPE_SYSTEM = \"system\"\n",
    "CREATEDBYTYPE_USER = \"user\"\n",
    "CREATEDBYTYPE_SUMUP = \"sumup\""
   ]
  },
  {
   "cell_type": "code",
   "execution_count": 3,
   "metadata": {},
   "outputs": [],
   "source": [
    "OAN_account = \"5Tv2u4n8BReebmKUNIuN\"\n",
    "DONANTES_ID = os.environ['DONANTES_ID']\n",
    "creation_date = datetime.today().isoformat()[:-3]+'Z'"
   ]
  },
  {
   "cell_type": "code",
   "execution_count": 4,
   "metadata": {},
   "outputs": [],
   "source": [
    "DANIEL_USER_ID = \"z5m936GA0t3vHM28QKhR\"\n",
    "BOT_USER_ID = \"oXJJEfAEPxFYtdJ2pnaU\"\n",
    "INVENTORY_DANIEL = \"ojyJQVfxUeu33AzOehNw\""
   ]
  },
  {
   "cell_type": "code",
   "execution_count": 5,
   "metadata": {},
   "outputs": [],
   "source": [
    "CLIENTGENDERFEMALE = \"Female\"\n",
    "CLIENTGENDERMALE = \"Male\"\n",
    "CLIENTGENDERUNKNOWN = \"Unknown\""
   ]
  },
  {
   "cell_type": "code",
   "execution_count": 6,
   "metadata": {},
   "outputs": [],
   "source": [
    "GATEWAYCASH = \"cash\"\n",
    "GATEWAYCARD = \"card\"\n",
    "GATEWAYPAYPAL = \"paypal\"\n",
    "GATEWAYSHOPIFY = \"shopify_payments\""
   ]
  },
  {
   "cell_type": "code",
   "execution_count": 7,
   "metadata": {},
   "outputs": [],
   "source": [
    "URL_onCreateSaleAPI = \"https://us-central1-oan-miong.cloudfunctions.net/onCreateSaleAPI\""
   ]
  },
  {
   "cell_type": "code",
   "execution_count": 8,
   "metadata": {},
   "outputs": [],
   "source": [
    "#para conseguir todas las transacciones\n",
    "URL_transHist = \"https://api.sumup.com/v0.1/me/transactions/history\"\n",
    "\n",
    "#para conseguir más información de cada una de las transacciones\n",
    "URL_transactions = \"https://api.sumup.com/v0.1/me/transactions\""
   ]
  },
  {
   "cell_type": "markdown",
   "metadata": {},
   "source": [
    "# ETL MAPPING"
   ]
  },
  {
   "cell_type": "markdown",
   "metadata": {},
   "source": [
    "### PRODUCTOS"
   ]
  },
  {
   "cell_type": "code",
   "execution_count": 10,
   "metadata": {},
   "outputs": [],
   "source": [
    "sql = \"\"\"\n",
    "    SELECT *\n",
    "    FROM `oan-miong.firestore_export.shopProductTypesView`\n",
    "    WHERE account = \"5Tv2u4n8BReebmKUNIuN\"\n",
    "\"\"\"\n",
    "\n",
    "# Run a Standard SQL query using the environment's default project\n",
    "df_productos = pd.read_gbq(sql, dialect='standard')"
   ]
  },
  {
   "cell_type": "code",
   "execution_count": 11,
   "metadata": {},
   "outputs": [],
   "source": [
    "prods_name = df_productos['name'].to_list()"
   ]
  },
  {
   "cell_type": "code",
   "execution_count": 12,
   "metadata": {},
   "outputs": [],
   "source": [
    "d_prods_transProd = dict(zip(prods_name,[\"\" for a in prods_name]))\n",
    "d_prods_transId = dict(zip(prods_name,[\"\" for a in prods_name]))"
   ]
  },
  {
   "cell_type": "code",
   "execution_count": 13,
   "metadata": {},
   "outputs": [],
   "source": [
    "miOngProducts = df_productos['name'].to_list()\n",
    "miOngProducts.sort()"
   ]
  },
  {
   "cell_type": "code",
   "execution_count": 14,
   "metadata": {},
   "outputs": [],
   "source": [
    "d_prods_transProd = {'03 - Bálsamo Labial': 'Balsamo labial',\n",
    "                     '02 - Manteca de karité pura - 100 ml': 'Bote manteca pura 100ml',\n",
    "                     '05 - Bolsitas de Tela Africana': 'Bolsa africana',\n",
    "                     '06 - Donaciones (1€)': 'Donacion',\n",
    "                     '04 - Crema de Manos': 'Crema de manos',\n",
    "                     '01 - Pack \"La más hidratada del lugar\"': 'Pack la mas hidratada',\n",
    "                     'Jaboncito': 'BIO - Jabon ECO de 20g - Natura',\n",
    "                     'Estrellita Navidad': 'Estrellas ',\n",
    "                     'Crema Corporal BIO': 'BIO - Crema Corporal ECO 200 ml - Natura',\n",
    "                     'Crema de Manos BIO': 'BIO - Crema de manos ECO 50ml - NAAY',\n",
    "                     'Jabon Sólido ECO 135g': 'BIO - Jabon Pastilla Olor neutro ECO 130 g - Natura',\n",
    "                     'Batic Africano': 'Donacion',\n",
    "                     'Balsamo Labial BIO': 'BIO - Balsamo labial Vegano ECO 15ml - NAAY',\n",
    "                     'Manteca de karité BIO': 'BIO - Manteca de karite ECO 100ml',\n",
    "                     'Importe personalizado': 'Donacion',\n",
    "                     'Tote Bag': 'Tote bag',\n",
    "                     'Cartera': 'Donacion',\n",
    "                     'Neceser': 'Donacion',\n",
    "                     'Pack Bio': 'BIO - Pack la mas hidratada',\n",
    "                     'Llavero Africano': 'Donacion',\n",
    "                     'Custom amount': 'Donacion',\n",
    "                     'Pack Jabon y Crema Corporal': 'Pack 100% Benin',\n",
    "                     'Pack Navideño': 'Pack navideño 2023'}"
   ]
  },
  {
   "cell_type": "code",
   "execution_count": 15,
   "metadata": {},
   "outputs": [],
   "source": [
    "for prod in d_prods_transProd:\n",
    "    if d_prods_transProd[prod] != 'Donacion':\n",
    "        d_prods_transId[prod] = df_productos[df_productos['name']==d_prods_transProd[prod]]['id'].iloc[0]\n",
    "    else:\n",
    "        d_prods_transId[prod] = 'Donacion'"
   ]
  },
  {
   "cell_type": "markdown",
   "metadata": {},
   "source": [
    "### MERCADILLOS"
   ]
  },
  {
   "cell_type": "code",
   "execution_count": 16,
   "metadata": {},
   "outputs": [],
   "source": [
    "MERCADILLOZIELO = \"Lj5kN2g1MKCKPnOvCntZ\"\n",
    "MERCADILLOLASROZAS = \"UI8ZyG7ttkWt1UO7H5aV\"\n",
    "MERCADILLOMAGIAPORBENIN = \"8Vj96dZ5OHL7MMGiXZ9I\"\n",
    "MERCADILLOOTROS = \"ueILrWpu2TYsLElIBeFW\""
   ]
  },
  {
   "cell_type": "code",
   "execution_count": 17,
   "metadata": {},
   "outputs": [],
   "source": [
    "d_fechas_mercadillos = {'2021-11-27': '',\n",
    "                         '2022-04-22': MERCADILLOMAGIAPORBENIN,\n",
    "                         '2022-04-23': MERCADILLOMAGIAPORBENIN,\n",
    "                         '2022-04-24': MERCADILLOMAGIAPORBENIN,\n",
    "                         '2022-12-17': MERCADILLOZIELO,\n",
    "                         '2023-03-04': MERCADILLOLASROZAS,\n",
    "                         '2023-04-02': MERCADILLOLASROZAS,\n",
    "                         '2023-05-05': MERCADILLOOTROS,\n",
    "                         '2023-05-06': MERCADILLOLASROZAS,\n",
    "                         '2023-05-19': MERCADILLOMAGIAPORBENIN,\n",
    "                         '2023-05-20': MERCADILLOMAGIAPORBENIN,\n",
    "                         '2023-05-21': MERCADILLOMAGIAPORBENIN,\n",
    "                         '2023-06-01': MERCADILLOLASROZAS,\n",
    "                         '2023-06-03': MERCADILLOLASROZAS,\n",
    "                         '2023-06-17': MERCADILLOOTROS,\n",
    "                         '2023-07-07': '',\n",
    "                         '2023-10-07': MERCADILLOLASROZAS,\n",
    "                         '2023-12-01': '',\n",
    "                         '2023-12-02': MERCADILLOZIELO,\n",
    "                         '2023-12-16': '',\n",
    "                         '2023-12-19': ''}"
   ]
  },
  {
   "cell_type": "markdown",
   "metadata": {},
   "source": [
    "# FUNCTIONS"
   ]
  },
  {
   "cell_type": "code",
   "execution_count": 18,
   "metadata": {},
   "outputs": [],
   "source": [
    "def createSaleDict(code,dataSale):\n",
    "    randomId = db.collection('tmp').document().id\n",
    "    creation_date = datetime.today().isoformat()[:-3]+'Z'\n",
    "    sale = {\n",
    "            \"context\":{\n",
    "                \"id\":randomId,\n",
    "                \"account\":OAN_account,\n",
    "                \"createdAt\":dataSale[\"createdAt\"],\n",
    "                \"createdBy\":BOT_USER_ID,\n",
    "                \"createdByType\":CREATEDBYTYPE_SUMUP,\n",
    "                \"lastUpdateAt\":creation_date,\n",
    "                \"lastUpdateBy\":\"\"\n",
    "            },\n",
    "            \"code\": code,\n",
    "            \"accountingItem\" : \"\",\n",
    "            \"inventory\": INVENTORY_DANIEL,\n",
    "            \"customer\":dataSale[\"customer\"],\n",
    "            \"clientEmail\" : \"\",\n",
    "            \"clientName\" : \"\",\n",
    "            \"clientLastName\" : \"\",\n",
    "            \"clientGender\" : CLIENTGENDERUNKNOWN,\n",
    "            \"clientPhone\" : \"\",\n",
    "            \"clientAddress\" : \"\",\n",
    "\n",
    "            \"closeDate\" : dataSale[\"closeDate\"],\n",
    "\n",
    "            \"discountPrice\" : 0,\n",
    "            \"totalPrice\" : dataSale[\"totalPrice\"],\n",
    "            \"subtotalPrice\" : dataSale[\"subtotalPrice\"],\n",
    "            \"totalTax\" : dataSale[\"totalTax\"],\n",
    "            \"taxesIncluded\" : True,\n",
    "            \"donation\":dataSale[\"donation\"],\n",
    "            \"buyerAcceptsMarketing\" : False,\n",
    "            \"orderId\":\"\",\n",
    "            \"orderStatusUrl\" : \"\",\n",
    "            \"gateway\" : dataSale[\"gateway\"],\n",
    "            \"latitude\" : dataSale[\"latitude\"],\n",
    "            \"longitude\" : dataSale[\"longitude\"],\n",
    "            \"country\" : \"Spain\",\n",
    "            \"province\" : \"\",\n",
    "            \"city\" : \"\",\n",
    "            \"zip\" : \"\",\n",
    "            \"arePricesWithoutTaxes\":False,\n",
    "            \"products\":dataSale[\"productos\"] #[{\"productType\" : d_prods_transId[a['name']], \"quantity\":a['quantity'], \"unitPrice\":a['price']}]\n",
    "\n",
    "        }\n",
    "\n",
    "    data = {\n",
    "            \"accountId\":OAN_account,\n",
    "            \"userId\":BOT_USER_ID,\n",
    "            \"sale\":sale\n",
    "            }\n",
    "\n",
    "    SaleItem = {\n",
    "        \"data\": data\n",
    "    }\n",
    "    return SaleItem"
   ]
  },
  {
   "cell_type": "markdown",
   "metadata": {},
   "source": [
    "## ACCESS FIREBASE"
   ]
  },
  {
   "cell_type": "code",
   "execution_count": 19,
   "metadata": {
    "scrolled": true
   },
   "outputs": [
    {
     "data": {
      "text/plain": [
       "<firebase_admin.App at 0x7fa936ad9ee0>"
      ]
     },
     "execution_count": 19,
     "metadata": {},
     "output_type": "execute_result"
    }
   ],
   "source": [
    "# Use a service account\n",
    "cred = credentials.Certificate(cloudCreds)\n",
    "firebase_admin.initialize_app(cred)"
   ]
  },
  {
   "cell_type": "code",
   "execution_count": 20,
   "metadata": {},
   "outputs": [],
   "source": [
    "db = firestore.client()"
   ]
  },
  {
   "cell_type": "markdown",
   "metadata": {},
   "source": [
    "## ACCESS TO FUNCTION CLOUD"
   ]
  },
  {
   "cell_type": "code",
   "execution_count": 21,
   "metadata": {},
   "outputs": [],
   "source": [
    "url = URL_onCreateSaleAPI\n",
    "auth_req = grequests.Request()\n",
    "id_token = fetch_id_token(auth_req, url)\n",
    "headers = {\"Authorization\":\"Bearer {}\".format(id_token),\n",
    "           'Content-type': 'application/json'}"
   ]
  },
  {
   "cell_type": "code",
   "execution_count": 22,
   "metadata": {},
   "outputs": [],
   "source": [
    "#r = grequests.requests.post(url, json=SaleItemEx,headers=headers)"
   ]
  },
  {
   "cell_type": "markdown",
   "metadata": {},
   "source": [
    "## NOS CONECTAMOS A SUMUP"
   ]
  },
  {
   "cell_type": "code",
   "execution_count": 23,
   "metadata": {},
   "outputs": [],
   "source": [
    "#cogemos la ruta del archivo con las credenciales de sumup\n",
    "sumup_file = os.environ['SUMUP']\n",
    "#abrimos el archivo y lo cargamos en un diccionario\n",
    "creds_sumup = json.load(open(sumup_file,'r'))\n",
    "#endpoints de autentificación\n",
    "authorize_url = creds_sumup[\"authorize_url\"]\n",
    "token_url = creds_sumup[\"token_url\"]\n",
    "client_id = creds_sumup[\"client_id\"]\n",
    "client_secret = creds_sumup[\"client_secret\"]\n",
    "callback_uri = creds_sumup[\"redirect_uris\"]\n",
    "scopes = ['transactions.history','user.profile','user.profile_readonly']"
   ]
  },
  {
   "cell_type": "markdown",
   "metadata": {},
   "source": [
    "info sobre las transacciones - # https://developer.sumup.com/rest-api/#tag/Transactions"
   ]
  },
  {
   "cell_type": "markdown",
   "metadata": {},
   "source": [
    "### AUTENTIFICACION EN SUMUP PARA OBTENER CÓDIGO\n",
    "Tal y como describe en documentación, la api de sumup, para poder recibir un token de acceso necesita <br>\n",
    "que te autentiques como usuario para poder darte un token de acceso que puede permitirte <br>\n",
    "acceder a la información de tu usuario"
   ]
  },
  {
   "cell_type": "code",
   "execution_count": 24,
   "metadata": {},
   "outputs": [
    {
     "name": "stdout",
     "output_type": "stream",
     "text": [
      "https://api.sumup.com/authorize?response_type=code&client_id=cc_classic_zrN4KqPtdpjz0nLtCEiP6tXBN3E5M&redirect_uri=http://oan.miong.es&scope=transactions.history\n"
     ]
    }
   ],
   "source": [
    "authorization_redirect_url = (authorize_url +\n",
    "                              '?response_type=code&client_id=' +\n",
    "                              client_id +\n",
    "                              '&redirect_uri=' + \n",
    "                              callback_uri[0] +\n",
    "                              '&scope='+scopes[0])\n",
    "print(authorization_redirect_url)"
   ]
  },
  {
   "cell_type": "code",
   "execution_count": 26,
   "metadata": {},
   "outputs": [
    {
     "name": "stdout",
     "output_type": "stream",
     "text": [
      "enter code:\n",
      "wNbFC3AePnc6TqSBs5oM9wqBzGvewAPjsRmw\n"
     ]
    }
   ],
   "source": [
    "#Añadimos el código que nos ha generado\n",
    "code = input('enter code:\\n')"
   ]
  },
  {
   "cell_type": "code",
   "execution_count": 27,
   "metadata": {},
   "outputs": [],
   "source": [
    "#cojemos el token de acceso\n",
    "data = {'grant_type': 'authorization_code',\n",
    "        'code': code,\n",
    "        'redirect_uri': callback_uri}\n",
    "access_token_response = requests.post(token_url,\n",
    "                                      data=data,\n",
    "                                      allow_redirects=False,\n",
    "                                      auth=(client_id, client_secret))\n",
    "\n",
    "tokens = json.loads(access_token_response.text)\n",
    "access_token = tokens['access_token']\n",
    "api_call_headers = {'Authorization': 'Bearer ' + access_token}"
   ]
  },
  {
   "cell_type": "markdown",
   "metadata": {},
   "source": [
    "---- ya estamos autenticados"
   ]
  },
  {
   "cell_type": "markdown",
   "metadata": {},
   "source": [
    "## COGEMOS LISTADO DE TRANSACCIONES"
   ]
  },
  {
   "cell_type": "code",
   "execution_count": 28,
   "metadata": {},
   "outputs": [],
   "source": [
    "sumupSalesFirebase = db.collection('shopSales'\n",
    "                             ).where(u'context.account', u'==',OAN_account\n",
    "                                    ).where(\"context.createdByType\", \"==\", \"sumup\"\n",
    "                                          ).stream()"
   ]
  },
  {
   "cell_type": "code",
   "execution_count": 29,
   "metadata": {},
   "outputs": [],
   "source": [
    "l_sumupsales = []\n",
    "for sale in sumupSalesFirebase:\n",
    "    #print(payout)\n",
    "    l_sumupsales.append(sale.to_dict())"
   ]
  },
  {
   "cell_type": "code",
   "execution_count": 30,
   "metadata": {},
   "outputs": [],
   "source": [
    "dfFirebase = pd.DataFrame(l_sumupsales)"
   ]
  },
  {
   "cell_type": "code",
   "execution_count": 48,
   "metadata": {},
   "outputs": [
    {
     "data": {
      "text/plain": [
       "(1296, 31)"
      ]
     },
     "execution_count": 48,
     "metadata": {},
     "output_type": "execute_result"
    }
   ],
   "source": [
    "dfFirebase.shape"
   ]
  },
  {
   "cell_type": "code",
   "execution_count": 38,
   "metadata": {},
   "outputs": [],
   "source": [
    "dfFirebaseReciente = dfFirebase[dfFirebase['context'].apply(lambda x: x['lastUpdateAt'] < '2023-12-01')]"
   ]
  },
  {
   "cell_type": "code",
   "execution_count": 47,
   "metadata": {},
   "outputs": [
    {
     "data": {
      "text/plain": [
       "(774, 31)"
      ]
     },
     "execution_count": 47,
     "metadata": {},
     "output_type": "execute_result"
    }
   ],
   "source": [
    "dfFirebaseReciente.shape"
   ]
  },
  {
   "cell_type": "code",
   "execution_count": 49,
   "metadata": {},
   "outputs": [],
   "source": [
    "maxFirebaseDate = dfFirebaseReciente.closeDate.max()[:-2]"
   ]
  },
  {
   "cell_type": "code",
   "execution_count": 50,
   "metadata": {},
   "outputs": [
    {
     "data": {
      "text/plain": [
       "'2021-11-27T19:28:29.76'"
      ]
     },
     "execution_count": 50,
     "metadata": {},
     "output_type": "execute_result"
    }
   ],
   "source": [
    "maxFirebaseDate"
   ]
  },
  {
   "cell_type": "code",
   "execution_count": 51,
   "metadata": {},
   "outputs": [],
   "source": [
    "params = {\n",
    "    \"limit\":1000,\n",
    "    \"oldest_time\":maxFirebaseDate,\n",
    "}\n",
    "api_call_response = requests.get(URL_transHist, \n",
    "                                 headers=api_call_headers, \n",
    "                                 params=params)"
   ]
  },
  {
   "cell_type": "code",
   "execution_count": 52,
   "metadata": {},
   "outputs": [
    {
     "data": {
      "text/plain": [
       "'todo correcto'"
      ]
     },
     "execution_count": 52,
     "metadata": {},
     "output_type": "execute_result"
    }
   ],
   "source": [
    "'todo correcto' if api_call_response.status_code == 200 else 'La liaste'"
   ]
  },
  {
   "cell_type": "code",
   "execution_count": 53,
   "metadata": {},
   "outputs": [],
   "source": [
    "ventasSumupJson = api_call_response.json()"
   ]
  },
  {
   "cell_type": "code",
   "execution_count": 54,
   "metadata": {},
   "outputs": [],
   "source": [
    "ventasSumup = ventasSumupJson['items']"
   ]
  },
  {
   "cell_type": "code",
   "execution_count": 55,
   "metadata": {},
   "outputs": [],
   "source": [
    "dfVentasSumupAll = pd.DataFrame(ventasSumup)"
   ]
  },
  {
   "cell_type": "code",
   "execution_count": 56,
   "metadata": {},
   "outputs": [
    {
     "data": {
      "text/plain": [
       "9557.66"
      ]
     },
     "execution_count": 56,
     "metadata": {},
     "output_type": "execute_result"
    }
   ],
   "source": [
    "dfVentasSumupAll['amount'].sum()"
   ]
  },
  {
   "cell_type": "code",
   "execution_count": 57,
   "metadata": {},
   "outputs": [
    {
     "data": {
      "text/plain": [
       "(576, 20)"
      ]
     },
     "execution_count": 57,
     "metadata": {},
     "output_type": "execute_result"
    }
   ],
   "source": [
    "dfVentasSumupAll.shape"
   ]
  },
  {
   "cell_type": "code",
   "execution_count": 58,
   "metadata": {},
   "outputs": [
    {
     "data": {
      "text/plain": [
       "Index(['id', 'transaction_id', 'user', 'type', 'status', 'timestamp',\n",
       "       'currency', 'amount', 'transaction_code', 'product_summary',\n",
       "       'installments_count', 'payment_type', 'entry_mode', 'card_type',\n",
       "       'payouts_total', 'payouts_received', 'payout_date', 'payout_plan',\n",
       "       'payout_type', 'refunded_amount'],\n",
       "      dtype='object')"
      ]
     },
     "execution_count": 58,
     "metadata": {},
     "output_type": "execute_result"
    }
   ],
   "source": [
    "dfVentasSumupAll.columns"
   ]
  },
  {
   "cell_type": "code",
   "execution_count": 59,
   "metadata": {},
   "outputs": [
    {
     "data": {
      "text/plain": [
       "SUCCESSFUL    522\n",
       "FAILED         54\n",
       "Name: status, dtype: int64"
      ]
     },
     "execution_count": 59,
     "metadata": {},
     "output_type": "execute_result"
    }
   ],
   "source": [
    "dfVentasSumupAll[\"status\"].value_counts()"
   ]
  },
  {
   "cell_type": "code",
   "execution_count": 60,
   "metadata": {},
   "outputs": [],
   "source": [
    "dfVentasSumup = dfVentasSumupAll[dfVentasSumupAll[\"status\"] == \"SUCCESSFUL\"].copy()"
   ]
  },
  {
   "cell_type": "code",
   "execution_count": 76,
   "metadata": {},
   "outputs": [
    {
     "data": {
      "text/plain": [
       "8638.65"
      ]
     },
     "execution_count": 76,
     "metadata": {},
     "output_type": "execute_result"
    }
   ],
   "source": [
    "dfVentasSumup['amount'].sum()"
   ]
  },
  {
   "cell_type": "markdown",
   "metadata": {},
   "source": [
    "### Tratamiento de los que tiene product_summary"
   ]
  },
  {
   "cell_type": "code",
   "execution_count": 77,
   "metadata": {},
   "outputs": [],
   "source": [
    "dfVentasSumupConProduct = dfVentasSumup[~dfVentasSumup[\"product_summary\"].isnull()].reset_index(drop=True).copy()"
   ]
  },
  {
   "cell_type": "code",
   "execution_count": 63,
   "metadata": {},
   "outputs": [],
   "source": [
    "dfVentasSumupConProduct['quantity'] = dfVentasSumupConProduct[\"product_summary\"\n",
    "                                                             ].apply(lambda x: str(x).split(\" x \")) \\\n",
    "                                                                .apply(lambda x: int(x[0]) if len(x)>1\n",
    "                                                                    else 1)"
   ]
  },
  {
   "cell_type": "code",
   "execution_count": 64,
   "metadata": {},
   "outputs": [],
   "source": [
    "dfVentasSumupConProduct['product'] = dfVentasSumupConProduct[\"product_summary\"\n",
    "                                                             ].apply(lambda x: str(x).split(\" x \")) \\\n",
    "                                                                .apply(lambda x: x[1] if len(x)>1\n",
    "                                                                                else x[0])"
   ]
  },
  {
   "cell_type": "code",
   "execution_count": 66,
   "metadata": {},
   "outputs": [],
   "source": [
    "listaConProd = list(dfVentasSumupConProduct['product'].unique())"
   ]
  },
  {
   "cell_type": "code",
   "execution_count": 67,
   "metadata": {},
   "outputs": [],
   "source": [
    "listaConProdAll = dict(zip(listaConProd,\n",
    "                           [d_prods_transId[a] \n",
    "                            if a in d_prods_transProd.keys() \n",
    "                            else 'Donacion' \n",
    "                            for a in listaConProd]\n",
    "                          )\n",
    "                      )\n"
   ]
  },
  {
   "cell_type": "code",
   "execution_count": 68,
   "metadata": {},
   "outputs": [],
   "source": [
    "dfVentasSumupConProduct['productPrice'] = dfVentasSumupConProduct['amount']/dfVentasSumupConProduct['quantity']"
   ]
  },
  {
   "cell_type": "code",
   "execution_count": 69,
   "metadata": {},
   "outputs": [],
   "source": [
    "def matcheoProdsCon(x):\n",
    "    prods = []\n",
    "    donacion = 0\n",
    "    for a in x:\n",
    "        if listaConProdAll[x['product']] != 'Donacion':\n",
    "            prods = [{'productType':listaConProdAll[x['product']] ,\n",
    "                                          'quantity':x['quantity'],\n",
    "                                          'unitPrice': x['productPrice']}]\n",
    "            \n",
    "        else:\n",
    "            donacion = float(x['amount'])\n",
    "    return pd.Series([donacion, prods])"
   ]
  },
  {
   "cell_type": "code",
   "execution_count": 70,
   "metadata": {},
   "outputs": [],
   "source": [
    "dfVentasSumupConProduct[['donation','productos']] = dfVentasSumupConProduct.apply(lambda x: \n",
    "                                                                                  matcheoProdsCon(x), axis=1)\n"
   ]
  },
  {
   "cell_type": "markdown",
   "metadata": {},
   "source": [
    "### COGEMOS LA INFORMACION DE LOS PRODUCTOS QUE SE VENDIERON EN CADA VENTA"
   ]
  },
  {
   "cell_type": "code",
   "execution_count": 515,
   "metadata": {},
   "outputs": [],
   "source": [
    "transactions = dfVentasSumupConProduct['transaction_id'].to_list()"
   ]
  },
  {
   "cell_type": "code",
   "execution_count": 526,
   "metadata": {},
   "outputs": [],
   "source": [
    "def get_info_trans(x):\n",
    "    products = []\n",
    "    lat = 0\n",
    "    lon = 0\n",
    "    transaction=''\n",
    "    transaction_id=x\n",
    "    params = {\n",
    "        \"id\":transaction_id\n",
    "    }\n",
    "    api_call_response = requests.get(URL_transactions, \n",
    "                                     headers=api_call_headers, \n",
    "                                     params=params)\n",
    "    status = api_call_response.status_code\n",
    "    if status != 200:\n",
    "        raise('error in {} - {}'.format(x,status))\n",
    "    \n",
    "    else:\n",
    "        transaction = api_call_response.json()\n",
    "        products = transaction['products']\n",
    "        lat = transaction['lat']\n",
    "        lon = transaction['lon']\n",
    "    sleep(2.5)\n",
    "    print(transactions.index(x))\n",
    "    return pd.Series([products,lat,lon])"
   ]
  },
  {
   "cell_type": "code",
   "execution_count": 527,
   "metadata": {},
   "outputs": [
    {
     "data": {
      "text/plain": [
       "(173, 22)"
      ]
     },
     "execution_count": 527,
     "metadata": {},
     "output_type": "execute_result"
    }
   ],
   "source": [
    "dfVentasSumupConProduct2.shape"
   ]
  },
  {
   "cell_type": "code",
   "execution_count": null,
   "metadata": {},
   "outputs": [],
   "source": [
    "dfVentasSumupConProduct2[['products','lat','lon']] = dfVentasSumupConProduct2['transaction_id'\n",
    "                                                                       ].apply(lambda x: get_info_trans(x))\n"
   ]
  },
  {
   "cell_type": "code",
   "execution_count": 190,
   "metadata": {},
   "outputs": [],
   "source": [
    "#df_ventas_sumup_original = df_ventas_sumupNan.copy()"
   ]
  },
  {
   "cell_type": "code",
   "execution_count": 342,
   "metadata": {},
   "outputs": [],
   "source": [
    "df_ventas_sumup = df_ventas_sumupNan.copy()"
   ]
  },
  {
   "cell_type": "code",
   "execution_count": 343,
   "metadata": {},
   "outputs": [
    {
     "data": {
      "text/plain": [
       "(159, 26)"
      ]
     },
     "execution_count": 343,
     "metadata": {},
     "output_type": "execute_result"
    }
   ],
   "source": [
    "df_ventas_sumup.shape"
   ]
  },
  {
   "cell_type": "code",
   "execution_count": 344,
   "metadata": {},
   "outputs": [],
   "source": [
    "df_ventas_sumup = df_ventas_sumup[df_ventas_sumup['status']==\"SUCCESSFUL\"].reset_index()"
   ]
  },
  {
   "cell_type": "code",
   "execution_count": 345,
   "metadata": {},
   "outputs": [
    {
     "data": {
      "text/plain": [
       "(149, 27)"
      ]
     },
     "execution_count": 345,
     "metadata": {},
     "output_type": "execute_result"
    }
   ],
   "source": [
    "df_ventas_sumup.shape"
   ]
  },
  {
   "cell_type": "markdown",
   "metadata": {},
   "source": [
    "### TRANSFORMAMOS LA INFORMACION PARA QUE ESTE IGUAL QUE EN LA BBDD"
   ]
  },
  {
   "cell_type": "markdown",
   "metadata": {},
   "source": [
    "#### COGEMOS listado de productos únicos "
   ]
  },
  {
   "cell_type": "code",
   "execution_count": 346,
   "metadata": {},
   "outputs": [],
   "source": [
    "l_all_prods = df_ventas_sumup['products'].to_list()"
   ]
  },
  {
   "cell_type": "code",
   "execution_count": 347,
   "metadata": {},
   "outputs": [],
   "source": [
    "l_prods = []\n",
    "for prods in l_all_prods:\n",
    "    l_prods = l_prods+prods"
   ]
  },
  {
   "cell_type": "code",
   "execution_count": 348,
   "metadata": {},
   "outputs": [],
   "source": [
    "df_prods = pd.DataFrame(l_prods)"
   ]
  },
  {
   "cell_type": "code",
   "execution_count": 349,
   "metadata": {},
   "outputs": [
    {
     "data": {
      "text/html": [
       "<div>\n",
       "<style scoped>\n",
       "    .dataframe tbody tr th:only-of-type {\n",
       "        vertical-align: middle;\n",
       "    }\n",
       "\n",
       "    .dataframe tbody tr th {\n",
       "        vertical-align: top;\n",
       "    }\n",
       "\n",
       "    .dataframe thead th {\n",
       "        text-align: right;\n",
       "    }\n",
       "</style>\n",
       "<table border=\"1\" class=\"dataframe\">\n",
       "  <thead>\n",
       "    <tr style=\"text-align: right;\">\n",
       "      <th></th>\n",
       "      <th>name</th>\n",
       "      <th>price</th>\n",
       "      <th>vat_rate</th>\n",
       "      <th>price_with_vat</th>\n",
       "    </tr>\n",
       "  </thead>\n",
       "  <tbody>\n",
       "    <tr>\n",
       "      <th>0</th>\n",
       "      <td>03 - Bálsamo Labial</td>\n",
       "      <td>3.31</td>\n",
       "      <td>0.21</td>\n",
       "      <td>4.0</td>\n",
       "    </tr>\n",
       "    <tr>\n",
       "      <th>1</th>\n",
       "      <td>02 - Manteca de karité pura - 100 ml</td>\n",
       "      <td>8.26</td>\n",
       "      <td>0.21</td>\n",
       "      <td>10.0</td>\n",
       "    </tr>\n",
       "    <tr>\n",
       "      <th>4</th>\n",
       "      <td>05 - Bolsitas de Tela Africana</td>\n",
       "      <td>4.13</td>\n",
       "      <td>0.21</td>\n",
       "      <td>5.0</td>\n",
       "    </tr>\n",
       "    <tr>\n",
       "      <th>5</th>\n",
       "      <td>06 - Donaciones (1€)</td>\n",
       "      <td>1.00</td>\n",
       "      <td>0.00</td>\n",
       "      <td>1.0</td>\n",
       "    </tr>\n",
       "    <tr>\n",
       "      <th>10</th>\n",
       "      <td>04 - Crema de Manos</td>\n",
       "      <td>4.96</td>\n",
       "      <td>0.21</td>\n",
       "      <td>6.0</td>\n",
       "    </tr>\n",
       "    <tr>\n",
       "      <th>27</th>\n",
       "      <td>01 - Pack \"La más hidratada del lugar\"</td>\n",
       "      <td>16.53</td>\n",
       "      <td>0.21</td>\n",
       "      <td>20.0</td>\n",
       "    </tr>\n",
       "    <tr>\n",
       "      <th>30</th>\n",
       "      <td>Jaboncito</td>\n",
       "      <td>1.00</td>\n",
       "      <td>0.00</td>\n",
       "      <td>1.0</td>\n",
       "    </tr>\n",
       "    <tr>\n",
       "      <th>31</th>\n",
       "      <td>Estrellita Navidad</td>\n",
       "      <td>1.00</td>\n",
       "      <td>0.00</td>\n",
       "      <td>1.0</td>\n",
       "    </tr>\n",
       "    <tr>\n",
       "      <th>37</th>\n",
       "      <td>Crema Corporal BIO</td>\n",
       "      <td>14.88</td>\n",
       "      <td>0.21</td>\n",
       "      <td>18.0</td>\n",
       "    </tr>\n",
       "    <tr>\n",
       "      <th>39</th>\n",
       "      <td>Crema de Manos BIO</td>\n",
       "      <td>6.61</td>\n",
       "      <td>0.21</td>\n",
       "      <td>8.0</td>\n",
       "    </tr>\n",
       "    <tr>\n",
       "      <th>41</th>\n",
       "      <td>Jabon Sólido ECO 135g</td>\n",
       "      <td>5.37</td>\n",
       "      <td>0.21</td>\n",
       "      <td>6.5</td>\n",
       "    </tr>\n",
       "    <tr>\n",
       "      <th>42</th>\n",
       "      <td>Batic Africano</td>\n",
       "      <td>1.00</td>\n",
       "      <td>0.00</td>\n",
       "      <td>1.0</td>\n",
       "    </tr>\n",
       "    <tr>\n",
       "      <th>43</th>\n",
       "      <td>Balsamo Labial BIO</td>\n",
       "      <td>4.96</td>\n",
       "      <td>0.21</td>\n",
       "      <td>6.0</td>\n",
       "    </tr>\n",
       "    <tr>\n",
       "      <th>44</th>\n",
       "      <td>Manteca de karité BIO</td>\n",
       "      <td>12.50</td>\n",
       "      <td>0.00</td>\n",
       "      <td>12.5</td>\n",
       "    </tr>\n",
       "    <tr>\n",
       "      <th>45</th>\n",
       "      <td>Importe personalizado</td>\n",
       "      <td>0.45</td>\n",
       "      <td>0.10</td>\n",
       "      <td>0.5</td>\n",
       "    </tr>\n",
       "    <tr>\n",
       "      <th>100</th>\n",
       "      <td>Tote Bag</td>\n",
       "      <td>8.26</td>\n",
       "      <td>0.21</td>\n",
       "      <td>10.0</td>\n",
       "    </tr>\n",
       "    <tr>\n",
       "      <th>127</th>\n",
       "      <td>Cartera</td>\n",
       "      <td>12.40</td>\n",
       "      <td>0.21</td>\n",
       "      <td>15.0</td>\n",
       "    </tr>\n",
       "    <tr>\n",
       "      <th>134</th>\n",
       "      <td>Neceser</td>\n",
       "      <td>8.26</td>\n",
       "      <td>0.21</td>\n",
       "      <td>10.0</td>\n",
       "    </tr>\n",
       "    <tr>\n",
       "      <th>168</th>\n",
       "      <td>Pack Bio</td>\n",
       "      <td>20.66</td>\n",
       "      <td>0.21</td>\n",
       "      <td>25.0</td>\n",
       "    </tr>\n",
       "    <tr>\n",
       "      <th>187</th>\n",
       "      <td>Llavero Africano</td>\n",
       "      <td>4.00</td>\n",
       "      <td>NaN</td>\n",
       "      <td>NaN</td>\n",
       "    </tr>\n",
       "    <tr>\n",
       "      <th>258</th>\n",
       "      <td>Custom amount</td>\n",
       "      <td>8.26</td>\n",
       "      <td>0.21</td>\n",
       "      <td>10.0</td>\n",
       "    </tr>\n",
       "    <tr>\n",
       "      <th>362</th>\n",
       "      <td>Pack Jabon y Crema Corporal</td>\n",
       "      <td>19.83</td>\n",
       "      <td>0.21</td>\n",
       "      <td>24.0</td>\n",
       "    </tr>\n",
       "  </tbody>\n",
       "</table>\n",
       "</div>"
      ],
      "text/plain": [
       "                                       name  price  vat_rate  price_with_vat\n",
       "0                       03 - Bálsamo Labial   3.31      0.21             4.0\n",
       "1      02 - Manteca de karité pura - 100 ml   8.26      0.21            10.0\n",
       "4            05 - Bolsitas de Tela Africana   4.13      0.21             5.0\n",
       "5                      06 - Donaciones (1€)   1.00      0.00             1.0\n",
       "10                      04 - Crema de Manos   4.96      0.21             6.0\n",
       "27   01 - Pack \"La más hidratada del lugar\"  16.53      0.21            20.0\n",
       "30                                Jaboncito   1.00      0.00             1.0\n",
       "31                       Estrellita Navidad   1.00      0.00             1.0\n",
       "37                       Crema Corporal BIO  14.88      0.21            18.0\n",
       "39                       Crema de Manos BIO   6.61      0.21             8.0\n",
       "41                    Jabon Sólido ECO 135g   5.37      0.21             6.5\n",
       "42                           Batic Africano   1.00      0.00             1.0\n",
       "43                       Balsamo Labial BIO   4.96      0.21             6.0\n",
       "44                    Manteca de karité BIO  12.50      0.00            12.5\n",
       "45                    Importe personalizado   0.45      0.10             0.5\n",
       "100                                Tote Bag   8.26      0.21            10.0\n",
       "127                                 Cartera  12.40      0.21            15.0\n",
       "134                                 Neceser   8.26      0.21            10.0\n",
       "168                                Pack Bio  20.66      0.21            25.0\n",
       "187                        Llavero Africano   4.00       NaN             NaN\n",
       "258                           Custom amount   8.26      0.21            10.0\n",
       "362             Pack Jabon y Crema Corporal  19.83      0.21            24.0"
      ]
     },
     "execution_count": 349,
     "metadata": {},
     "output_type": "execute_result"
    }
   ],
   "source": [
    "df_prods[['name','price','vat_rate','price_with_vat']].drop_duplicates(subset=['name'])"
   ]
  },
  {
   "cell_type": "code",
   "execution_count": 350,
   "metadata": {},
   "outputs": [],
   "source": [
    "prods_name = df_prods['name'].unique()"
   ]
  },
  {
   "cell_type": "code",
   "execution_count": 351,
   "metadata": {},
   "outputs": [],
   "source": [
    "prods_name.sort()"
   ]
  },
  {
   "cell_type": "markdown",
   "metadata": {},
   "source": [
    "### los productos que estan en blanco, es porque no se dieron de alta en la venta"
   ]
  },
  {
   "cell_type": "markdown",
   "metadata": {},
   "source": [
    "## GESTIONAR EL MATCHEO"
   ]
  },
  {
   "cell_type": "markdown",
   "metadata": {},
   "source": [
    "## GET DATA WANTED"
   ]
  },
  {
   "cell_type": "code",
   "execution_count": 388,
   "metadata": {},
   "outputs": [],
   "source": [
    "def matcheoProds(x):\n",
    "    prods = []\n",
    "    donacion = 0\n",
    "    for a in x:\n",
    "        if \"price_with_vat\" in a.keys() and d_prods_transId[a['name']] != 'Donacion':\n",
    "            prods = prods + [{\"productType\" : d_prods_transId[a['name']],\n",
    "                                              \"quantity\":a['quantity'],\n",
    "                                              \"unitPrice\":a['price_with_vat']\n",
    "                                             }]\n",
    "        elif d_prods_transId[a['name']] != 'Donacion':\n",
    "            prods = prods + [{\"productType\" : d_prods_transId[a['name']],\n",
    "                                              \"quantity\":a['quantity'],\n",
    "                                              \"unitPrice\":a['price']\n",
    "                                             }]\n",
    "        elif d_prods_transId[a['name']] == 'Donacion' and \"total_with_vat\" in a.keys():\n",
    "            donacion = donacion+float(a['total_with_vat'])\n",
    "        elif d_prods_transId[a['name']] == 'Donacion':\n",
    "            donacion = donacion+float(a['total_price'])\n",
    "    return pd.Series([donacion, prods])"
   ]
  },
  {
   "cell_type": "code",
   "execution_count": 985,
   "metadata": {},
   "outputs": [],
   "source": [
    "df_ventas_sumup = dfVentasSumupConProduct.copy()"
   ]
  },
  {
   "cell_type": "code",
   "execution_count": 987,
   "metadata": {},
   "outputs": [
    {
     "data": {
      "text/plain": [
       "Index(['id', 'transaction_id', 'user', 'type', 'status', 'timestamp',\n",
       "       'currency', 'amount', 'transaction_code', 'product_summary',\n",
       "       'installments_count', 'payment_type', 'entry_mode', 'card_type',\n",
       "       'payouts_total', 'payouts_received', 'payout_date', 'payout_plan',\n",
       "       'payout_type', 'refunded_amount', 'quantity', 'product', 'productPrice',\n",
       "       'donation', 'productos'],\n",
       "      dtype='object')"
      ]
     },
     "execution_count": 987,
     "metadata": {},
     "output_type": "execute_result"
    }
   ],
   "source": [
    "df_ventas_sumup.columns"
   ]
  },
  {
   "cell_type": "code",
   "execution_count": 990,
   "metadata": {},
   "outputs": [],
   "source": [
    "df_ventas_sumup[['donation','productos']] = df_ventas_sumup.apply(lambda x: matcheoProdsCon(x),axis=1)"
   ]
  },
  {
   "cell_type": "code",
   "execution_count": null,
   "metadata": {},
   "outputs": [],
   "source": []
  },
  {
   "cell_type": "code",
   "execution_count": 577,
   "metadata": {},
   "outputs": [],
   "source": [
    "df_ventas_sumup['createdAt'] = df_ventas_sumup.timestamp\n",
    "df_ventas_sumup['closeDate'] = df_ventas_sumup.timestamp\n",
    "\n",
    "trad_paytype = {'POS':'card','CASH':'cash','ECOM':'card'}\n",
    "\n",
    "df_ventas_sumup['gateway'] = df_ventas_sumup['payment_type'].apply(lambda x: trad_paytype[x]) \n"
   ]
  },
  {
   "cell_type": "code",
   "execution_count": 579,
   "metadata": {},
   "outputs": [
    {
     "data": {
      "text/plain": [
       "Index(['id', 'transaction_id', 'user', 'type', 'status', 'timestamp',\n",
       "       'currency', 'amount', 'transaction_code', 'product_summary',\n",
       "       'installments_count', 'payment_type', 'entry_mode', 'card_type',\n",
       "       'payouts_total', 'payouts_received', 'payout_date', 'payout_plan',\n",
       "       'payout_type', 'refunded_amount', 'quantity', 'product', 'productPrice',\n",
       "       'donation', 'productos', 'createdAt', 'closeDate', 'gateway'],\n",
       "      dtype='object')"
      ]
     },
     "execution_count": 579,
     "metadata": {},
     "output_type": "execute_result"
    }
   ],
   "source": [
    "df_ventas_sumup.columns"
   ]
  },
  {
   "cell_type": "code",
   "execution_count": 1081,
   "metadata": {},
   "outputs": [],
   "source": [
    "bolla=0\n",
    "if bolla == 1:\n",
    "    df_ventas_sumup['totalTax'] = df_ventas_sumup['products'].apply(lambda x: round(sum([a['vat_amount'] \n",
    "                                                                                    for a in x\n",
    "                                                                                   if 'vat_amount' in a.keys()]\n",
    "                                                                                       ),2\n",
    "                                                                                   )\n",
    "                                                                    )\n",
    "                                                    \n",
    "else:                                                               \n",
    "    df_ventas_sumup['totalTax'] = (df_ventas_sumup['amount']-df_ventas_sumup['donation'])*(1-1/1.21)\n",
    "    df_ventas_sumup['lat'] = None\n",
    "    df_ventas_sumup['lon'] = None\n",
    "\n",
    "df_ventas_sumup['subtotalPrice'] = df_ventas_sumup['amount']-df_ventas_sumup['donation']\n"
   ]
  },
  {
   "cell_type": "code",
   "execution_count": 1085,
   "metadata": {},
   "outputs": [
    {
     "data": {
      "text/plain": [
       "42262.5"
      ]
     },
     "execution_count": 1085,
     "metadata": {},
     "output_type": "execute_result"
    }
   ],
   "source": [
    "df_ventas_sumup['donation'].sum()"
   ]
  },
  {
   "cell_type": "code",
   "execution_count": 1086,
   "metadata": {},
   "outputs": [
    {
     "data": {
      "text/plain": [
       "4703.53"
      ]
     },
     "execution_count": 1086,
     "metadata": {},
     "output_type": "execute_result"
    }
   ],
   "source": [
    "df_ventas_sumup['amount'].sum()"
   ]
  },
  {
   "cell_type": "code",
   "execution_count": 1083,
   "metadata": {},
   "outputs": [
    {
     "data": {
      "text/plain": [
       "-6518.498925619834"
      ]
     },
     "execution_count": 1083,
     "metadata": {},
     "output_type": "execute_result"
    }
   ],
   "source": [
    "df_ventas_sumup['totalTax'].sum()"
   ]
  },
  {
   "cell_type": "code",
   "execution_count": 589,
   "metadata": {},
   "outputs": [],
   "source": [
    "df_ventas_sumup['latitude'] = df_ventas_sumup['lat']\n",
    "df_ventas_sumup['longitude'] = df_ventas_sumup['lon']\n",
    "df_ventas_sumup['totalPrice'] = df_ventas_sumup['amount']"
   ]
  },
  {
   "cell_type": "code",
   "execution_count": 596,
   "metadata": {},
   "outputs": [],
   "source": [
    "df_ventas_sumup['customer'] = pd.to_datetime(df_ventas_sumup['closeDate']\n",
    "                                            ).dt.date.apply(lambda x: d_fechas_mercadillos[str(x)]\n",
    "                                                           )"
   ]
  },
  {
   "cell_type": "code",
   "execution_count": 449,
   "metadata": {},
   "outputs": [],
   "source": [
    "colsToMatch = []"
   ]
  },
  {
   "cell_type": "code",
   "execution_count": 977,
   "metadata": {},
   "outputs": [
    {
     "data": {
      "text/plain": [
       "(373, 36)"
      ]
     },
     "execution_count": 977,
     "metadata": {},
     "output_type": "execute_result"
    }
   ],
   "source": [
    "df_ventas_sumup.shape"
   ]
  },
  {
   "cell_type": "code",
   "execution_count": 1087,
   "metadata": {},
   "outputs": [
    {
     "data": {
      "text/plain": [
       "(522, 12)"
      ]
     },
     "execution_count": 1087,
     "metadata": {},
     "output_type": "execute_result"
    }
   ],
   "source": [
    "dfVentasfinal.shape"
   ]
  },
  {
   "cell_type": "code",
   "execution_count": 635,
   "metadata": {},
   "outputs": [],
   "source": [
    "cols = ['latitude','longitude','totalPrice','customer','subtotalPrice',\n",
    "                                           'totalTax','gateway','createdAt','closeDate','donation','productos']\n",
    "dfVentasfinal = pd.concat([df_ventas_sumup[cols],\n",
    "                           df_ventas_sumupNoProd[cols]\n",
    "                          ],\n",
    "                          axis=0).reset_index()"
   ]
  },
  {
   "cell_type": "code",
   "execution_count": 1095,
   "metadata": {},
   "outputs": [],
   "source": [
    "def matcheoProdsDonacion(x):\n",
    "    donacion = 0\n",
    "    if len(x['productos'])==0:\n",
    "        donacion = x['totalPrice']\n",
    "    else:\n",
    "        donacion = x['totalPrice']-np.array([a['quantity']*a['unitPrice'] for a in x['productos']]).sum()\n",
    "    return pd.Series(donacion)"
   ]
  },
  {
   "cell_type": "code",
   "execution_count": 1099,
   "metadata": {},
   "outputs": [],
   "source": [
    "dfVentasfinal['subtotalPrice'] = dfVentasfinal['totalPrice']-dfVentasfinal['donation'] "
   ]
  },
  {
   "cell_type": "code",
   "execution_count": 638,
   "metadata": {},
   "outputs": [],
   "source": [
    "alldata = dfVentasfinal.T.to_dict()"
   ]
  },
  {
   "cell_type": "code",
   "execution_count": 1125,
   "metadata": {},
   "outputs": [],
   "source": [
    "dfVentasfinal.to_csv('dataFinal.csv',index=False)"
   ]
  },
  {
   "cell_type": "code",
   "execution_count": 1126,
   "metadata": {},
   "outputs": [],
   "source": [
    "dfVentasfinalcsv = pd.read_csv('dataFinal.csv',index_col='index')"
   ]
  },
  {
   "cell_type": "code",
   "execution_count": null,
   "metadata": {},
   "outputs": [],
   "source": [
    "alldata = dfVentasfinalcsv.T.to_dict()"
   ]
  },
  {
   "cell_type": "code",
   "execution_count": null,
   "metadata": {},
   "outputs": [],
   "source": [
    "db.collection('info').document(OAN_account+\"-shopSales\")."
   ]
  },
  {
   "cell_type": "code",
   "execution_count": null,
   "metadata": {},
   "outputs": [],
   "source": []
  },
  {
   "cell_type": "code",
   "execution_count": 640,
   "metadata": {},
   "outputs": [],
   "source": [
    "code = db.collection('info').document(OAN_account+\"-shopSales\").get().to_dict()['counter']\n",
    "for i in alldata:\n",
    "    dataSale = alldata[i]\n",
    "    dataSaleJson = createSaleDict(code,dataSale)\n",
    "    code = code+1\n",
    "    r = grequests.requests.post(url, json=dataSaleJson,headers=headers)"
   ]
  },
  {
   "cell_type": "code",
   "execution_count": 641,
   "metadata": {},
   "outputs": [
    {
     "data": {
      "text/plain": [
       "update_time {\n",
       "  seconds: 1703042979\n",
       "  nanos: 751534000\n",
       "}"
      ]
     },
     "execution_count": 641,
     "metadata": {},
     "output_type": "execute_result"
    }
   ],
   "source": [
    "#actualizar el counter\n",
    "db.collection('info').document(OAN_account+'-shopSales').update({'counter':code})"
   ]
  },
  {
   "cell_type": "markdown",
   "metadata": {},
   "source": [
    "### ADD TO GBQ"
   ]
  },
  {
   "cell_type": "code",
   "execution_count": 684,
   "metadata": {},
   "outputs": [
    {
     "data": {
      "text/plain": [
       "(522, 12)"
      ]
     },
     "execution_count": 684,
     "metadata": {},
     "output_type": "execute_result"
    }
   ],
   "source": [
    "dfVentasfinal.shape"
   ]
  },
  {
   "cell_type": "code",
   "execution_count": 74,
   "metadata": {},
   "outputs": [],
   "source": [
    "querySales = '''\n",
    "            SELECT *\n",
    "            FROM `oan-miong.firestore_export.shopSales`\n",
    "            '''\n",
    "dfGbqSales = pd.read_gbq(query=querySales)"
   ]
  },
  {
   "cell_type": "code",
   "execution_count": 75,
   "metadata": {},
   "outputs": [
    {
     "data": {
      "text/plain": [
       "(3379, 37)"
      ]
     },
     "execution_count": 75,
     "metadata": {},
     "output_type": "execute_result"
    }
   ],
   "source": [
    "dfGbqSales.shape"
   ]
  },
  {
   "cell_type": "code",
   "execution_count": 69,
   "metadata": {},
   "outputs": [],
   "source": [
    "shopSalesQuery = db.collection('shopSales').stream()"
   ]
  },
  {
   "cell_type": "code",
   "execution_count": 70,
   "metadata": {},
   "outputs": [],
   "source": [
    "shopSalesDocs = []\n",
    "for shoSale in shopSalesQuery:\n",
    "    shopSalesDocs.append(shoSale.to_dict())"
   ]
  },
  {
   "cell_type": "code",
   "execution_count": 71,
   "metadata": {},
   "outputs": [],
   "source": [
    "dfFirebase = pd.DataFrame(shopSalesDocs)"
   ]
  },
  {
   "cell_type": "code",
   "execution_count": 73,
   "metadata": {},
   "outputs": [
    {
     "data": {
      "text/plain": [
       "(3380, 33)"
      ]
     },
     "execution_count": 73,
     "metadata": {},
     "output_type": "execute_result"
    }
   ],
   "source": [
    "dfFirebase.shape"
   ]
  },
  {
   "cell_type": "code",
   "execution_count": 76,
   "metadata": {},
   "outputs": [],
   "source": [
    "colsToAdd = dfFirebase['context'].iloc[1000].keys()\n",
    "for col in colsToAdd:\n",
    "    dfFirebase[col] = dfFirebase['context'].apply(lambda x: x[col] if col in x.keys() else \"\")"
   ]
  },
  {
   "cell_type": "code",
   "execution_count": 77,
   "metadata": {},
   "outputs": [],
   "source": [
    "dfFirebase['action'] = 'created'"
   ]
  },
  {
   "cell_type": "code",
   "execution_count": 78,
   "metadata": {},
   "outputs": [],
   "source": [
    "dfFirebase['timestamp'] = dfFirebase['createdAt']"
   ]
  },
  {
   "cell_type": "code",
   "execution_count": 79,
   "metadata": {},
   "outputs": [],
   "source": [
    "dfFirebase['closeDate'] = dfFirebase['closeDate'].fillna(dfFirebase['createdAt'])"
   ]
  },
  {
   "cell_type": "code",
   "execution_count": 80,
   "metadata": {},
   "outputs": [],
   "source": [
    "colsInGbq = list(dfFirebase.columns)\n",
    "for notCol in list(set(dfFirebase.columns)-set(dfGbqSales.columns)):\n",
    "    colsInGbq.remove(notCol)"
   ]
  },
  {
   "cell_type": "code",
   "execution_count": 81,
   "metadata": {},
   "outputs": [],
   "source": [
    "colsInGbq = dfGbqSales.columns"
   ]
  },
  {
   "cell_type": "code",
   "execution_count": 82,
   "metadata": {},
   "outputs": [],
   "source": [
    "dfFirebasetoUpdate = dfFirebase[colsInGbq].copy()"
   ]
  },
  {
   "cell_type": "code",
   "execution_count": 83,
   "metadata": {},
   "outputs": [],
   "source": [
    "dfFirebasetoUpdate['code'] = dfFirebasetoUpdate['code'].fillna(0).apply(lambda x: 0 if x == None else int(x))\n",
    "dfFirebasetoUpdate['discountPrice'] = dfFirebasetoUpdate['discountPrice'].apply(lambda x: 0 if x == \"\" \n",
    "                                                                                                or x == None\n",
    "                                                                                            else float(x))\n"
   ]
  },
  {
   "cell_type": "code",
   "execution_count": 84,
   "metadata": {},
   "outputs": [
    {
     "data": {
      "text/plain": [
       "(3379, 37)"
      ]
     },
     "execution_count": 84,
     "metadata": {},
     "output_type": "execute_result"
    }
   ],
   "source": [
    "dfGbqSales.shape"
   ]
  },
  {
   "cell_type": "code",
   "execution_count": 85,
   "metadata": {},
   "outputs": [],
   "source": [
    "#dfFinal = pd.concat([dfGbqSales,dfFirebasetoUpdate])\n",
    "dfFinal = dfFirebasetoUpdate"
   ]
  },
  {
   "cell_type": "code",
   "execution_count": 86,
   "metadata": {},
   "outputs": [],
   "source": [
    "dfFinal['discountPrice'] = dfFinal['discountPrice'].apply(lambda x: 0 if x == \"\" or x == None\n",
    "                                                                                            else float(x))"
   ]
  },
  {
   "cell_type": "code",
   "execution_count": 87,
   "metadata": {},
   "outputs": [
    {
     "data": {
      "text/plain": [
       "(3380, 37)"
      ]
     },
     "execution_count": 87,
     "metadata": {},
     "output_type": "execute_result"
    }
   ],
   "source": [
    "dfFinal.shape"
   ]
  },
  {
   "cell_type": "code",
   "execution_count": 88,
   "metadata": {},
   "outputs": [],
   "source": [
    "dfFinal['code'] = dfFinal['code'].apply(int)"
   ]
  },
  {
   "cell_type": "code",
   "execution_count": 89,
   "metadata": {},
   "outputs": [],
   "source": [
    "colsToStr = list(dfFinal.columns)\n",
    "for a in ['code','totalPrice','subtotalPrice','totalTax','donation','latitude','longitude','discountPrice']:\n",
    "    colsToStr.remove(a)"
   ]
  },
  {
   "cell_type": "code",
   "execution_count": 90,
   "metadata": {},
   "outputs": [],
   "source": [
    "for a in colsToStr:\n",
    "    dfFinal[a] = dfFinal[a].astype(str)"
   ]
  },
  {
   "cell_type": "code",
   "execution_count": 91,
   "metadata": {},
   "outputs": [
    {
     "data": {
      "text/html": [
       "<div>\n",
       "<style scoped>\n",
       "    .dataframe tbody tr th:only-of-type {\n",
       "        vertical-align: middle;\n",
       "    }\n",
       "\n",
       "    .dataframe tbody tr th {\n",
       "        vertical-align: top;\n",
       "    }\n",
       "\n",
       "    .dataframe thead th {\n",
       "        text-align: right;\n",
       "    }\n",
       "</style>\n",
       "<table border=\"1\" class=\"dataframe\">\n",
       "  <thead>\n",
       "    <tr style=\"text-align: right;\">\n",
       "      <th></th>\n",
       "      <th>id</th>\n",
       "      <th>action</th>\n",
       "      <th>timestamp</th>\n",
       "      <th>account</th>\n",
       "      <th>createdByType</th>\n",
       "      <th>createdBy</th>\n",
       "      <th>lastUpdateBy</th>\n",
       "      <th>createdAt</th>\n",
       "      <th>lastUpdateAt</th>\n",
       "      <th>code</th>\n",
       "      <th>...</th>\n",
       "      <th>buyerAcceptsMarketing</th>\n",
       "      <th>orderStatusUrl</th>\n",
       "      <th>gateway</th>\n",
       "      <th>latitude</th>\n",
       "      <th>longitude</th>\n",
       "      <th>country</th>\n",
       "      <th>province</th>\n",
       "      <th>city</th>\n",
       "      <th>zip</th>\n",
       "      <th>products</th>\n",
       "    </tr>\n",
       "  </thead>\n",
       "  <tbody>\n",
       "  </tbody>\n",
       "</table>\n",
       "<p>0 rows × 37 columns</p>\n",
       "</div>"
      ],
      "text/plain": [
       "Empty DataFrame\n",
       "Columns: [id, action, timestamp, account, createdByType, createdBy, lastUpdateBy, createdAt, lastUpdateAt, code, orderId, accountingItem, inventory, customer, clientEmail, clientName, clientLastName, clientGender, clientPhone, clientAddress, closeDate, discountPrice, totalPrice, subtotalPrice, totalTax, taxesIncluded, donation, buyerAcceptsMarketing, orderStatusUrl, gateway, latitude, longitude, country, province, city, zip, products]\n",
       "Index: []\n",
       "\n",
       "[0 rows x 37 columns]"
      ]
     },
     "execution_count": 91,
     "metadata": {},
     "output_type": "execute_result"
    }
   ],
   "source": [
    "dfFinal[dfFinal['closeDate'].isnull()]"
   ]
  },
  {
   "cell_type": "code",
   "execution_count": 92,
   "metadata": {},
   "outputs": [
    {
     "name": "stdout",
     "output_type": "stream",
     "text": [
      "<class 'pandas.core.frame.DataFrame'>\n",
      "RangeIndex: 3380 entries, 0 to 3379\n",
      "Data columns (total 37 columns):\n",
      " #   Column                 Non-Null Count  Dtype  \n",
      "---  ------                 --------------  -----  \n",
      " 0   id                     3380 non-null   object \n",
      " 1   action                 3380 non-null   object \n",
      " 2   timestamp              3380 non-null   object \n",
      " 3   account                3380 non-null   object \n",
      " 4   createdByType          3380 non-null   object \n",
      " 5   createdBy              3380 non-null   object \n",
      " 6   lastUpdateBy           3380 non-null   object \n",
      " 7   createdAt              3380 non-null   object \n",
      " 8   lastUpdateAt           3380 non-null   object \n",
      " 9   code                   3380 non-null   int64  \n",
      " 10  orderId                3380 non-null   object \n",
      " 11  accountingItem         3380 non-null   object \n",
      " 12  inventory              3380 non-null   object \n",
      " 13  customer               3380 non-null   object \n",
      " 14  clientEmail            3380 non-null   object \n",
      " 15  clientName             3380 non-null   object \n",
      " 16  clientLastName         3380 non-null   object \n",
      " 17  clientGender           3380 non-null   object \n",
      " 18  clientPhone            3380 non-null   object \n",
      " 19  clientAddress          3380 non-null   object \n",
      " 20  closeDate              3380 non-null   object \n",
      " 21  discountPrice          3380 non-null   float64\n",
      " 22  totalPrice             3380 non-null   float64\n",
      " 23  subtotalPrice          3380 non-null   float64\n",
      " 24  totalTax               3380 non-null   float64\n",
      " 25  taxesIncluded          3380 non-null   object \n",
      " 26  donation               1994 non-null   float64\n",
      " 27  buyerAcceptsMarketing  3380 non-null   object \n",
      " 28  orderStatusUrl         3380 non-null   object \n",
      " 29  gateway                3380 non-null   object \n",
      " 30  latitude               2396 non-null   float64\n",
      " 31  longitude              2396 non-null   float64\n",
      " 32  country                3380 non-null   object \n",
      " 33  province               3380 non-null   object \n",
      " 34  city                   3380 non-null   object \n",
      " 35  zip                    3380 non-null   object \n",
      " 36  products               3380 non-null   object \n",
      "dtypes: float64(7), int64(1), object(29)\n",
      "memory usage: 977.2+ KB\n"
     ]
    }
   ],
   "source": [
    "dfFinal.info()"
   ]
  },
  {
   "cell_type": "markdown",
   "metadata": {},
   "source": [
    "## ACTUALIZAR BIGQUERY"
   ]
  },
  {
   "cell_type": "code",
   "execution_count": 93,
   "metadata": {},
   "outputs": [],
   "source": [
    "bgq_client = bigquery.Client()"
   ]
  },
  {
   "cell_type": "code",
   "execution_count": 94,
   "metadata": {},
   "outputs": [
    {
     "name": "stderr",
     "output_type": "stream",
     "text": [
      "100%|██████████| 1/1 [00:00<00:00, 1760.09it/s]\n"
     ]
    }
   ],
   "source": [
    "dfFinal.to_gbq('oan-miong.firestore_export.shopSales',\n",
    "                       project_id='oan-miong',\n",
    "                       if_exists='replace')"
   ]
  },
  {
   "cell_type": "code",
   "execution_count": 95,
   "metadata": {},
   "outputs": [],
   "source": [
    "sql = \"\"\"\n",
    "CREATE OR REPLACE TABLE `oan-miong.firestore_export.shopSales` AS\n",
    "SELECT * EXCEPT (products),\n",
    "    ARRAY(\n",
    "      SELECT STRUCT(\n",
    "\n",
    "      JSON_VALUE(prod, '$.productType') AS productType,\n",
    "      CAST(REPLACE(JSON_VALUE(prod, '$.quantity'),\".0\",\"\") AS INT64) AS quantity,\n",
    "      CAST(JSON_VALUE(prod, '$.unitPrice') AS FLOAT64) AS unitPrice\n",
    "      )\n",
    "      FROM UNNEST(JSON_EXTRACT_ARRAY(products, '$')) AS prod) AS products\n",
    "FROM\n",
    "  `oan-miong.firestore_export.shopSales`\n",
    "\"\"\""
   ]
  },
  {
   "cell_type": "code",
   "execution_count": 96,
   "metadata": {},
   "outputs": [],
   "source": [
    "query_job = bgq_client.query(sql)"
   ]
  },
  {
   "cell_type": "code",
   "execution_count": 97,
   "metadata": {},
   "outputs": [],
   "source": [
    "rows = query_job.result()"
   ]
  },
  {
   "cell_type": "code",
   "execution_count": null,
   "metadata": {},
   "outputs": [],
   "source": []
  }
 ],
 "metadata": {
  "kernelspec": {
   "display_name": "Python 3",
   "language": "python",
   "name": "python3"
  },
  "language_info": {
   "codemirror_mode": {
    "name": "ipython",
    "version": 3
   },
   "file_extension": ".py",
   "mimetype": "text/x-python",
   "name": "python",
   "nbconvert_exporter": "python",
   "pygments_lexer": "ipython3",
   "version": "3.8.3"
  }
 },
 "nbformat": 4,
 "nbformat_minor": 2
}

{
 "cells": [
  {
   "cell_type": "code",
   "execution_count": 1,
   "metadata": {},
   "outputs": [
    {
     "name": "stdout",
     "output_type": "stream",
     "text": [
      "beginning etl of accounting ... \n"
     ]
    }
   ],
   "source": [
    "#to open cred files\n",
    "import os\n",
    "\n",
    "#Data transformation\n",
    "import pandas as pd\n",
    "\n",
    "#solve problems with reords\n",
    "import pandas_gbq\n",
    "\n",
    "#bigquery\n",
    "from google.cloud import bigquery\n",
    "\n",
    "#FIREBASE\n",
    "import firebase_admin\n",
    "\n",
    "from firebase_admin import credentials\n",
    "from firebase_admin import firestore\n",
    "\n",
    "from dotenv import load_dotenv\n",
    "load_dotenv('/Users/daniel/OAN/credentials/miong/.env')\n",
    "\n",
    "print('beginning etl of accounting ... ')\n",
    "\n",
    "#OPEN CONECTION TO FIREBASE\n",
    "filename=os.environ['FIREBASE_MIONG_FILENAME']"
   ]
  },
  {
   "cell_type": "code",
   "execution_count": 2,
   "metadata": {},
   "outputs": [],
   "source": [
    "## OPEN CONECTION TO BIGQUERRY\n",
    "bgq_client = bigquery.Client()\n",
    "dataset_id = \"{}.firestore_export\".format(bgq_client.project)\n",
    "dataset = bigquery.Dataset(dataset_id)"
   ]
  },
  {
   "cell_type": "code",
   "execution_count": 3,
   "metadata": {},
   "outputs": [],
   "source": [
    "cred = credentials.Certificate(filename)\n",
    "firebase_admin.initialize_app(cred)\n",
    "\n",
    "db = firestore.client()"
   ]
  },
  {
   "cell_type": "code",
   "execution_count": 4,
   "metadata": {},
   "outputs": [],
   "source": [
    "#get all the collection of OAN\n",
    "col_query = db.collection('accountingItems').stream()"
   ]
  },
  {
   "cell_type": "code",
   "execution_count": 5,
   "metadata": {},
   "outputs": [],
   "source": [
    "#save it in a list of dictionaries\n",
    "accounts = []\n",
    "for acc in col_query:\n",
    "    accounts.append(acc.to_dict())"
   ]
  },
  {
   "cell_type": "code",
   "execution_count": 6,
   "metadata": {},
   "outputs": [],
   "source": [
    "def convData(acc):\n",
    "    for item in acc['context']:\n",
    "        acc[item] = acc['context'][item]\n",
    "    return acc"
   ]
  },
  {
   "cell_type": "code",
   "execution_count": 7,
   "metadata": {},
   "outputs": [],
   "source": [
    "accounting = []\n",
    "for acc in accounts:\n",
    "    accounting.append(convData(acc))"
   ]
  },
  {
   "cell_type": "code",
   "execution_count": 8,
   "metadata": {},
   "outputs": [],
   "source": [
    "#convert to dataframe\n",
    "accounting = pd.DataFrame(accounts)"
   ]
  },
  {
   "cell_type": "code",
   "execution_count": 9,
   "metadata": {},
   "outputs": [
    {
     "name": "stdout",
     "output_type": "stream",
     "text": [
      "<class 'pandas.core.frame.DataFrame'>\n",
      "RangeIndex: 4005 entries, 0 to 4004\n",
      "Data columns (total 30 columns):\n",
      " #   Column                   Non-Null Count  Dtype  \n",
      "---  ------                   --------------  -----  \n",
      " 0   description              3916 non-null   object \n",
      " 1   targetIntervention       3991 non-null   object \n",
      " 2   vat                      3754 non-null   object \n",
      " 3   originProject            3985 non-null   object \n",
      " 4   targetAccountingAccount  4005 non-null   object \n",
      " 5   originPhase              1719 non-null   object \n",
      " 6   context                  4005 non-null   object \n",
      " 7   type                     4005 non-null   object \n",
      " 8   responsible              4005 non-null   object \n",
      " 9   originAccountingAccount  4005 non-null   object \n",
      " 10  files                    654 non-null    object \n",
      " 11  targetProject            3991 non-null   object \n",
      " 12  vatAmount                4005 non-null   float64\n",
      " 13  amount                   4005 non-null   float64\n",
      " 14  originIntervention       3985 non-null   object \n",
      " 15  baseAmount               4005 non-null   float64\n",
      " 16  concept                  4005 non-null   object \n",
      " 17  executedAt               4005 non-null   object \n",
      " 18  code                     4005 non-null   int64  \n",
      " 19  tags                     4002 non-null   object \n",
      " 20  targetPhase              1703 non-null   object \n",
      " 21  createdAt                4005 non-null   object \n",
      " 22  account                  4005 non-null   object \n",
      " 23  lastUpdateAt             3859 non-null   object \n",
      " 24  createdBy                4005 non-null   object \n",
      " 25  createdByType            4005 non-null   object \n",
      " 26  lastUpdateBy             3859 non-null   object \n",
      " 27  id                       4005 non-null   object \n",
      " 28  last_update_by           1 non-null      object \n",
      " 29  last_update_at           1 non-null      object \n",
      "dtypes: float64(3), int64(1), object(26)\n",
      "memory usage: 938.8+ KB\n"
     ]
    }
   ],
   "source": [
    "accounting.info()"
   ]
  },
  {
   "cell_type": "code",
   "execution_count": 10,
   "metadata": {},
   "outputs": [],
   "source": [
    "df = accounting[['id','account','createdByType','createdBy','lastUpdateBy',\n",
    " 'createdAt','lastUpdateAt','code','executedAt','responsible',\n",
    " 'concept','description','type','originProject','originIntervention','originPhase',\n",
    " 'targetProject','targetIntervention','tags','originAccountingAccount',\n",
    " 'targetAccountingAccount','amount','baseAmount','vat','vatAmount','files']].copy()"
   ]
  },
  {
   "cell_type": "code",
   "execution_count": 24,
   "metadata": {},
   "outputs": [],
   "source": [
    "df['files'] = df['files'].apply(lambda x: None if type(x) == type(0.0) else x)"
   ]
  },
  {
   "cell_type": "code",
   "execution_count": 25,
   "metadata": {},
   "outputs": [],
   "source": [
    "for a in df.columns:\n",
    "    if a in ['id','account','createdByType','createdBy','lastUpdateBy',\n",
    " 'createdAt','lastUpdateAt','executedAt','responsible',\n",
    " 'concept','description','type','originProject','originIntervention','originPhase',\n",
    " 'targetProject','targetIntervention','originAccountingAccount',\n",
    " 'targetAccountingAccount']:\n",
    "    \n",
    "        df[a] = df[a].astype(str)\n",
    "    elif a in ['files','tags']:\n",
    "        df[a] = df[a].apply(lambda x: [str(item) for item in x] if x else [])\n",
    "    elif a == 'code':\n",
    "        df[a] = df[a].apply(int)\n",
    "    else:\n",
    "        df[a] = df[a].apply(lambda x: float(x) if x \n",
    "                                               else 0.0 if x == ''\n",
    "                                               else 0.0)\n",
    "        \n",
    "        "
   ]
  },
  {
   "cell_type": "code",
   "execution_count": 26,
   "metadata": {},
   "outputs": [],
   "source": [
    "table_id = \"{}.accountingItems\".format(dataset.dataset_id)\n",
    "proj = bgq_client.project"
   ]
  },
  {
   "cell_type": "code",
   "execution_count": 27,
   "metadata": {},
   "outputs": [
    {
     "data": {
      "text/plain": [
       "<google.cloud.bigquery.job.LoadJob at 0x7fc5b8c43ac0>"
      ]
     },
     "execution_count": 27,
     "metadata": {},
     "output_type": "execute_result"
    }
   ],
   "source": [
    "job_config = bigquery.LoadJobConfig(\n",
    "    # Specify a (partial) schema. All columns are always written to the\n",
    "    # table. The schema is used to assist in data type definitions.\n",
    "    schema=[\n",
    "        # Specify the type of columns whose type cannot be auto-detected. For\n",
    "        # example the \"title\" column uses pandas dtype \"object\", so its\n",
    "        # data type is ambiguous.\n",
    "        bigquery.SchemaField(\"tags\", \"STRING\",mode='REPEATED'),\n",
    "        # Indexes are written if included in the schema by name.\n",
    "        bigquery.SchemaField(\"files\", \"STRING\",mode='REPEATED'),\n",
    "    ],\n",
    "    # Optionally, set the write disposition. BigQuery appends loaded rows\n",
    "    # to an existing table by default, but with WRITE_TRUNCATE write\n",
    "    # disposition it replaces the table with the loaded data.\n",
    "    write_disposition=\"WRITE_TRUNCATE\",\n",
    ")\n",
    "\n",
    "job = bgq_client.load_table_from_dataframe(\n",
    "    df, table_id, project=bgq_client.project,\n",
    "    job_config=job_config\n",
    ")  # Make an API request.\n",
    "job.result()  # Wait for the job to complete."
   ]
  },
  {
   "cell_type": "code",
   "execution_count": null,
   "metadata": {},
   "outputs": [],
   "source": []
  },
  {
   "cell_type": "code",
   "execution_count": null,
   "metadata": {},
   "outputs": [],
   "source": []
  },
  {
   "cell_type": "code",
   "execution_count": 15,
   "metadata": {},
   "outputs": [],
   "source": [
    "df_oan = df[df['account']=='5Tv2u4n8BReebmKUNIuN'].copy()"
   ]
  },
  {
   "cell_type": "code",
   "execution_count": 16,
   "metadata": {},
   "outputs": [],
   "source": [
    "df_oanProjet = df_oan.pivot_table('amount','originProject','type',aggfunc='sum').reset_index()"
   ]
  },
  {
   "cell_type": "code",
   "execution_count": 17,
   "metadata": {},
   "outputs": [],
   "source": [
    "df_oantargProjet = df_oan.pivot_table('amount','targetProject','type',aggfunc='sum').reset_index()"
   ]
  },
  {
   "cell_type": "code",
   "execution_count": 18,
   "metadata": {},
   "outputs": [],
   "source": [
    "df_oantargProjet['originProject'] = df_oantargProjet['targetProject']\n",
    "df_oantargProjet['movementOut'] = df_oantargProjet['movement']"
   ]
  },
  {
   "cell_type": "code",
   "execution_count": 19,
   "metadata": {},
   "outputs": [],
   "source": [
    "df_oanProjetMerge = pd.merge(df_oanProjet,df_oantargProjet[['originProject','movementOut']],\n",
    "         how='outer',on='originProject')"
   ]
  },
  {
   "cell_type": "code",
   "execution_count": 20,
   "metadata": {},
   "outputs": [],
   "source": [
    "df_oanProjetMerge['saldo'] = (df_oanProjetMerge['movement'] + df_oanProjetMerge['income'] - \n",
    "                         df_oanProjetMerge['expense'] - df_oanProjetMerge['movementOut']\n",
    "                        )"
   ]
  },
  {
   "cell_type": "code",
   "execution_count": 21,
   "metadata": {},
   "outputs": [
    {
     "data": {
      "text/html": [
       "<div>\n",
       "<style scoped>\n",
       "    .dataframe tbody tr th:only-of-type {\n",
       "        vertical-align: middle;\n",
       "    }\n",
       "\n",
       "    .dataframe tbody tr th {\n",
       "        vertical-align: top;\n",
       "    }\n",
       "\n",
       "    .dataframe thead th {\n",
       "        text-align: right;\n",
       "    }\n",
       "</style>\n",
       "<table border=\"1\" class=\"dataframe\">\n",
       "  <thead>\n",
       "    <tr style=\"text-align: right;\">\n",
       "      <th>type</th>\n",
       "      <th>originProject</th>\n",
       "      <th>expense</th>\n",
       "      <th>income</th>\n",
       "      <th>movement</th>\n",
       "      <th>movementOut</th>\n",
       "      <th>saldo</th>\n",
       "    </tr>\n",
       "  </thead>\n",
       "  <tbody>\n",
       "    <tr>\n",
       "      <th>0</th>\n",
       "      <td></td>\n",
       "      <td>NaN</td>\n",
       "      <td>4715.085</td>\n",
       "      <td>NaN</td>\n",
       "      <td>NaN</td>\n",
       "      <td>NaN</td>\n",
       "    </tr>\n",
       "    <tr>\n",
       "      <th>1</th>\n",
       "      <td>0DmODGTOEiM5lg9SGx0J</td>\n",
       "      <td>64706.618793</td>\n",
       "      <td>76130.590</td>\n",
       "      <td>82011.60</td>\n",
       "      <td>82011.60</td>\n",
       "      <td>11423.971207</td>\n",
       "    </tr>\n",
       "    <tr>\n",
       "      <th>2</th>\n",
       "      <td>1Vf1UJblYQLmUE6lis98</td>\n",
       "      <td>11.480000</td>\n",
       "      <td>NaN</td>\n",
       "      <td>NaN</td>\n",
       "      <td>NaN</td>\n",
       "      <td>NaN</td>\n",
       "    </tr>\n",
       "    <tr>\n",
       "      <th>3</th>\n",
       "      <td>4zcptWXv2IqQFkIMz2MP</td>\n",
       "      <td>11254.250000</td>\n",
       "      <td>17732.830</td>\n",
       "      <td>41972.25</td>\n",
       "      <td>41972.25</td>\n",
       "      <td>6478.580000</td>\n",
       "    </tr>\n",
       "    <tr>\n",
       "      <th>4</th>\n",
       "      <td>6rV0deyXVSpuu2BfJOGw</td>\n",
       "      <td>1806.440000</td>\n",
       "      <td>NaN</td>\n",
       "      <td>NaN</td>\n",
       "      <td>NaN</td>\n",
       "      <td>NaN</td>\n",
       "    </tr>\n",
       "    <tr>\n",
       "      <th>5</th>\n",
       "      <td>95ZS5IjRXGdsbGi2FjJj</td>\n",
       "      <td>4390.540000</td>\n",
       "      <td>4616.000</td>\n",
       "      <td>6572.53</td>\n",
       "      <td>6572.53</td>\n",
       "      <td>225.460000</td>\n",
       "    </tr>\n",
       "    <tr>\n",
       "      <th>6</th>\n",
       "      <td>9nACWEXRQYYX1kud5V1s</td>\n",
       "      <td>2154.970000</td>\n",
       "      <td>79.980</td>\n",
       "      <td>5091.46</td>\n",
       "      <td>5091.46</td>\n",
       "      <td>-2074.990000</td>\n",
       "    </tr>\n",
       "    <tr>\n",
       "      <th>7</th>\n",
       "      <td>KmRoKdZ3jNI0mbQD56YG</td>\n",
       "      <td>3907.120000</td>\n",
       "      <td>7270.690</td>\n",
       "      <td>2904.30</td>\n",
       "      <td>2904.30</td>\n",
       "      <td>3363.570000</td>\n",
       "    </tr>\n",
       "    <tr>\n",
       "      <th>8</th>\n",
       "      <td>RaIH6dfSXt4V7vm6jmVE</td>\n",
       "      <td>497.810000</td>\n",
       "      <td>80.000</td>\n",
       "      <td>NaN</td>\n",
       "      <td>NaN</td>\n",
       "      <td>NaN</td>\n",
       "    </tr>\n",
       "    <tr>\n",
       "      <th>9</th>\n",
       "      <td>fzA9DsrefkcRTASwzolq</td>\n",
       "      <td>731.400000</td>\n",
       "      <td>700.930</td>\n",
       "      <td>NaN</td>\n",
       "      <td>NaN</td>\n",
       "      <td>NaN</td>\n",
       "    </tr>\n",
       "    <tr>\n",
       "      <th>10</th>\n",
       "      <td>nan</td>\n",
       "      <td>NaN</td>\n",
       "      <td>595.500</td>\n",
       "      <td>NaN</td>\n",
       "      <td>NaN</td>\n",
       "      <td>NaN</td>\n",
       "    </tr>\n",
       "    <tr>\n",
       "      <th>11</th>\n",
       "      <td>opunMdqGyXDlfQ9DYIbN</td>\n",
       "      <td>12716.730000</td>\n",
       "      <td>12696.940</td>\n",
       "      <td>6953.43</td>\n",
       "      <td>6953.43</td>\n",
       "      <td>-19.790000</td>\n",
       "    </tr>\n",
       "    <tr>\n",
       "      <th>12</th>\n",
       "      <td>vjogz5F5ZDJLHXBARKWr</td>\n",
       "      <td>1739.940000</td>\n",
       "      <td>2988.270</td>\n",
       "      <td>4349.65</td>\n",
       "      <td>4349.65</td>\n",
       "      <td>1248.330000</td>\n",
       "    </tr>\n",
       "    <tr>\n",
       "      <th>13</th>\n",
       "      <td>xgdBdXRY0fI98GwSfcO9</td>\n",
       "      <td>NaN</td>\n",
       "      <td>NaN</td>\n",
       "      <td>480.00</td>\n",
       "      <td>480.00</td>\n",
       "      <td>NaN</td>\n",
       "    </tr>\n",
       "  </tbody>\n",
       "</table>\n",
       "</div>"
      ],
      "text/plain": [
       "type         originProject       expense     income  movement  movementOut  \\\n",
       "0                                    NaN   4715.085       NaN          NaN   \n",
       "1     0DmODGTOEiM5lg9SGx0J  64706.618793  76130.590  82011.60     82011.60   \n",
       "2     1Vf1UJblYQLmUE6lis98     11.480000        NaN       NaN          NaN   \n",
       "3     4zcptWXv2IqQFkIMz2MP  11254.250000  17732.830  41972.25     41972.25   \n",
       "4     6rV0deyXVSpuu2BfJOGw   1806.440000        NaN       NaN          NaN   \n",
       "5     95ZS5IjRXGdsbGi2FjJj   4390.540000   4616.000   6572.53      6572.53   \n",
       "6     9nACWEXRQYYX1kud5V1s   2154.970000     79.980   5091.46      5091.46   \n",
       "7     KmRoKdZ3jNI0mbQD56YG   3907.120000   7270.690   2904.30      2904.30   \n",
       "8     RaIH6dfSXt4V7vm6jmVE    497.810000     80.000       NaN          NaN   \n",
       "9     fzA9DsrefkcRTASwzolq    731.400000    700.930       NaN          NaN   \n",
       "10                     nan           NaN    595.500       NaN          NaN   \n",
       "11    opunMdqGyXDlfQ9DYIbN  12716.730000  12696.940   6953.43      6953.43   \n",
       "12    vjogz5F5ZDJLHXBARKWr   1739.940000   2988.270   4349.65      4349.65   \n",
       "13    xgdBdXRY0fI98GwSfcO9           NaN        NaN    480.00       480.00   \n",
       "\n",
       "type         saldo  \n",
       "0              NaN  \n",
       "1     11423.971207  \n",
       "2              NaN  \n",
       "3      6478.580000  \n",
       "4              NaN  \n",
       "5       225.460000  \n",
       "6     -2074.990000  \n",
       "7      3363.570000  \n",
       "8              NaN  \n",
       "9              NaN  \n",
       "10             NaN  \n",
       "11      -19.790000  \n",
       "12     1248.330000  \n",
       "13             NaN  "
      ]
     },
     "execution_count": 21,
     "metadata": {},
     "output_type": "execute_result"
    }
   ],
   "source": [
    "df_oanProjetMerge"
   ]
  },
  {
   "cell_type": "code",
   "execution_count": null,
   "metadata": {},
   "outputs": [],
   "source": []
  }
 ],
 "metadata": {
  "kernelspec": {
   "display_name": "Python 3",
   "language": "python",
   "name": "python3"
  },
  "language_info": {
   "codemirror_mode": {
    "name": "ipython",
    "version": 3
   },
   "file_extension": ".py",
   "mimetype": "text/x-python",
   "name": "python",
   "nbconvert_exporter": "python",
   "pygments_lexer": "ipython3",
   "version": "3.8.3"
  }
 },
 "nbformat": 4,
 "nbformat_minor": 4
}

{
 "cells": [
  {
   "cell_type": "code",
   "execution_count": 1,
   "metadata": {},
   "outputs": [
    {
     "name": "stdout",
     "output_type": "stream",
     "text": [
      "beginning etl of accounting ... \n"
     ]
    }
   ],
   "source": [
    "#to open cred files\n",
    "import os\n",
    "\n",
    "#Data transformation\n",
    "import pandas as pd\n",
    "\n",
    "#solve problems with reords\n",
    "import pandas_gbq\n",
    "\n",
    "#bigquery\n",
    "from google.cloud import bigquery\n",
    "\n",
    "#FIREBASE\n",
    "import firebase_admin\n",
    "\n",
    "from firebase_admin import credentials\n",
    "from firebase_admin import firestore\n",
    "\n",
    "from dotenv import load_dotenv\n",
    "load_dotenv('/Users/daniel/OAN/credentials/miong/.env')\n",
    "\n",
    "print('beginning etl of accounting ... ')\n",
    "\n",
    "#OPEN CONECTION TO FIREBASE\n",
    "filename=os.environ['FIREBASE_MIONG_FILENAME']"
   ]
  },
  {
   "cell_type": "code",
   "execution_count": 2,
   "metadata": {},
   "outputs": [],
   "source": [
    "## OPEN CONECTION TO BIGQUERRY\n",
    "bgq_client = bigquery.Client()\n",
    "dataset_id = \"{}.firestore_export\".format(bgq_client.project)\n",
    "dataset = bigquery.Dataset(dataset_id)"
   ]
  },
  {
   "cell_type": "code",
   "execution_count": 3,
   "metadata": {},
   "outputs": [],
   "source": [
    "cred = credentials.Certificate(filename)\n",
    "firebase_admin.initialize_app(cred)\n",
    "\n",
    "db = firestore.client()"
   ]
  },
  {
   "cell_type": "code",
   "execution_count": 4,
   "metadata": {},
   "outputs": [],
   "source": [
    "#get all the collection of OAN\n",
    "col_query = db.collection('accountingItems').stream()"
   ]
  },
  {
   "cell_type": "code",
   "execution_count": 5,
   "metadata": {},
   "outputs": [],
   "source": [
    "#save it in a list of dictionaries\n",
    "accounts = []\n",
    "for acc in col_query:\n",
    "    accounts.append(acc.to_dict())"
   ]
  },
  {
   "cell_type": "code",
   "execution_count": 6,
   "metadata": {},
   "outputs": [],
   "source": [
    "def convData(acc):\n",
    "    for item in acc['context']:\n",
    "        acc[item] = acc['context'][item]\n",
    "    return acc"
   ]
  },
  {
   "cell_type": "code",
   "execution_count": 7,
   "metadata": {},
   "outputs": [],
   "source": [
    "accounting = []\n",
    "for acc in accounts:\n",
    "    accounting.append(convData(acc))"
   ]
  },
  {
   "cell_type": "code",
   "execution_count": 8,
   "metadata": {},
   "outputs": [],
   "source": [
    "#convert to dataframe\n",
    "accounting = pd.DataFrame(accounts)"
   ]
  },
  {
   "cell_type": "code",
   "execution_count": 9,
   "metadata": {},
   "outputs": [
    {
     "name": "stdout",
     "output_type": "stream",
     "text": [
      "<class 'pandas.core.frame.DataFrame'>\n",
      "RangeIndex: 4005 entries, 0 to 4004\n",
      "Data columns (total 30 columns):\n",
      " #   Column                   Non-Null Count  Dtype  \n",
      "---  ------                   --------------  -----  \n",
      " 0   code                     4005 non-null   int64  \n",
      " 1   baseAmount               4005 non-null   float64\n",
      " 2   originIntervention       3985 non-null   object \n",
      " 3   type                     4005 non-null   object \n",
      " 4   responsible              4005 non-null   object \n",
      " 5   originAccountingAccount  4005 non-null   object \n",
      " 6   targetAccountingAccount  4005 non-null   object \n",
      " 7   description              3916 non-null   object \n",
      " 8   targetIntervention       3991 non-null   object \n",
      " 9   amount                   4005 non-null   float64\n",
      " 10  files                    654 non-null    object \n",
      " 11  targetPhase              1703 non-null   object \n",
      " 12  vatAmount                4005 non-null   float64\n",
      " 13  targetProject            3991 non-null   object \n",
      " 14  concept                  4005 non-null   object \n",
      " 15  context                  4005 non-null   object \n",
      " 16  originProject            3985 non-null   object \n",
      " 17  tags                     4002 non-null   object \n",
      " 18  vat                      3754 non-null   object \n",
      " 19  originPhase              1719 non-null   object \n",
      " 20  executedAt               4005 non-null   object \n",
      " 21  id                       4005 non-null   object \n",
      " 22  lastUpdateBy             3859 non-null   object \n",
      " 23  createdByType            4005 non-null   object \n",
      " 24  createdAt                4005 non-null   object \n",
      " 25  createdBy                4005 non-null   object \n",
      " 26  account                  4005 non-null   object \n",
      " 27  lastUpdateAt             3859 non-null   object \n",
      " 28  last_update_at           1 non-null      object \n",
      " 29  last_update_by           1 non-null      object \n",
      "dtypes: float64(3), int64(1), object(26)\n",
      "memory usage: 938.8+ KB\n"
     ]
    }
   ],
   "source": [
    "accounting.info()"
   ]
  },
  {
   "cell_type": "code",
   "execution_count": 36,
   "metadata": {},
   "outputs": [],
   "source": [
    "df = accounting[['id','account','createdByType','createdBy','lastUpdateBy',\n",
    " 'createdAt','lastUpdateAt','code','executedAt','responsible',\n",
    " 'concept','description','type','originProject','originIntervention','originPhase',\n",
    " 'targetProject','targetIntervention','tags','originAccountingAccount',\n",
    " 'targetAccountingAccount','amount','baseAmount','vat','vatAmount','files']].copy()"
   ]
  },
  {
   "cell_type": "code",
   "execution_count": 47,
   "metadata": {},
   "outputs": [],
   "source": [
    "for a in df.columns:\n",
    "    if a in ['id','account','createdByType','createdBy','lastUpdateBy',\n",
    " 'createdAt','lastUpdateAt','executedAt','responsible',\n",
    " 'concept','description','type','originProject','originIntervention','originPhase',\n",
    " 'targetProject','targetIntervention','originAccountingAccount',\n",
    " 'targetAccountingAccount']:\n",
    "    \n",
    "        df[a] = df[a].astype(str)\n",
    "    elif a in ['files','tags']:\n",
    "        df[a] = df[a].apply(lambda x: x if x else [])\n",
    "    elif a == 'code':\n",
    "        df[a] = df[a].apply(int)\n",
    "    else:\n",
    "        df[a] = df[a].apply(lambda x: float(x) if x \n",
    "                                               else 0.0 if x == ''\n",
    "                                               else 0.0)\n",
    "        \n",
    "        "
   ]
  },
  {
   "cell_type": "code",
   "execution_count": 48,
   "metadata": {},
   "outputs": [],
   "source": [
    "table_id = \"{}.accountingItems\".format(dataset.dataset_id)\n",
    "proj = bgq_client.project"
   ]
  },
  {
   "cell_type": "code",
   "execution_count": 50,
   "metadata": {},
   "outputs": [
    {
     "data": {
      "text/plain": [
       "<google.cloud.bigquery.job.LoadJob at 0x7fd93c47e2b0>"
      ]
     },
     "execution_count": 50,
     "metadata": {},
     "output_type": "execute_result"
    }
   ],
   "source": [
    "job_config = bigquery.LoadJobConfig(\n",
    "    # Specify a (partial) schema. All columns are always written to the\n",
    "    # table. The schema is used to assist in data type definitions.\n",
    "    schema=[\n",
    "        # Specify the type of columns whose type cannot be auto-detected. For\n",
    "        # example the \"title\" column uses pandas dtype \"object\", so its\n",
    "        # data type is ambiguous.\n",
    "        bigquery.SchemaField(\"tags\", \"STRING\",mode='REPEATED',),\n",
    "        # Indexes are written if included in the schema by name.\n",
    "        bigquery.SchemaField(\"files\", \"STRING\",mode='REPEATED'),\n",
    "    ],\n",
    "    # Optionally, set the write disposition. BigQuery appends loaded rows\n",
    "    # to an existing table by default, but with WRITE_TRUNCATE write\n",
    "    # disposition it replaces the table with the loaded data.\n",
    "    write_disposition=\"WRITE_TRUNCATE\",\n",
    ")\n",
    "\n",
    "job = bgq_client.load_table_from_dataframe(\n",
    "    df, table_id, project=bgq_client.project,\n",
    "    job_config=job_config\n",
    ")  # Make an API request.\n",
    "job.result()  # Wait for the job to complete."
   ]
  },
  {
   "cell_type": "code",
   "execution_count": null,
   "metadata": {},
   "outputs": [],
   "source": []
  },
  {
   "cell_type": "code",
   "execution_count": 23,
   "metadata": {},
   "outputs": [
    {
     "name": "stderr",
     "output_type": "stream",
     "text": [
      "1it [00:11, 11.75s/it]"
     ]
    },
    {
     "name": "stdout",
     "output_type": "stream",
     "text": [
      "done.\n"
     ]
    },
    {
     "name": "stderr",
     "output_type": "stream",
     "text": [
      "\n"
     ]
    }
   ],
   "source": [
    "\n",
    "\n",
    "pandas_gbq.to_gbq(\n",
    "    accounting, table_id, project_id=bgq_client.project, if_exists='replace',\n",
    ")\n",
    "\n",
    "print('done.')"
   ]
  },
  {
   "cell_type": "code",
   "execution_count": 16,
   "metadata": {},
   "outputs": [
    {
     "data": {
      "text/plain": [
       "Index(['targetAccountingAccount', 'originProject', 'responsible', 'code',\n",
       "       'context', 'type', 'targetProject', 'originAccountingAccount',\n",
       "       'description', 'originIntervention', 'tags', 'targetPhase', 'concept',\n",
       "       'files', 'baseAmount', 'amount', 'executedAt', 'vat', 'vatAmount',\n",
       "       'targetIntervention', 'originPhase'],\n",
       "      dtype='object')"
      ]
     },
     "execution_count": 16,
     "metadata": {},
     "output_type": "execute_result"
    }
   ],
   "source": [
    "accounting.columns"
   ]
  },
  {
   "cell_type": "code",
   "execution_count": null,
   "metadata": {},
   "outputs": [],
   "source": []
  },
  {
   "cell_type": "code",
   "execution_count": null,
   "metadata": {},
   "outputs": [],
   "source": [
    "id\tSTRING\tNULLABLE\t\n",
    "account\tSTRING\tNULLABLE\t\n",
    "createdByType\tSTRING\tNULLABLE\t\n",
    "createdBy\tSTRING\tNULLABLE\t\n",
    "lastUpdateBy\tSTRING\tNULLABLE\t\n",
    "createdAt\tSTRING\tNULLABLE\t\n",
    "lastUpdateAt\tSTRING\tNULLABLE\t\n",
    "code\tINTEGER\tNULLABLE\t\n",
    "executedAt\tSTRING\tNULLABLE\t\n",
    "responsible\tSTRING\tNULLABLE\t\n",
    "concept\tSTRING\tNULLABLE\t\n",
    "description\tSTRING\tNULLABLE\t\n",
    "type\tSTRING\tNULLABLE\t\n",
    "originProject\tSTRING\tNULLABLE\t\n",
    "originIntervention\tSTRING\tNULLABLE\t\n",
    "originPhase\tSTRING\tNULLABLE\t\n",
    "targetProject\tSTRING\tNULLABLE\t\n",
    "targetIntervention\tSTRING\tNULLABLE\t\n",
    "tags\tSTRING\tREPEATED\t\n",
    "originAccountingAccount\tSTRING\tNULLABLE\t\n",
    "targetAccountingAccount\tSTRING\tNULLABLE\t\n",
    "amount\tFLOAT\tNULLABLE\t\n",
    "baseAmount\tFLOAT\tNULLABLE\t\n",
    "vat\tFLOAT\tNULLABLE\t\n",
    "vatAmount\tFLOAT\tNULLABLE\t\n",
    "files\tRECORD\tREPEATED\t\n"
   ]
  }
 ],
 "metadata": {
  "kernelspec": {
   "display_name": "Python 3",
   "language": "python",
   "name": "python3"
  },
  "language_info": {
   "codemirror_mode": {
    "name": "ipython",
    "version": 3
   },
   "file_extension": ".py",
   "mimetype": "text/x-python",
   "name": "python",
   "nbconvert_exporter": "python",
   "pygments_lexer": "ipython3",
   "version": "3.8.3"
  }
 },
 "nbformat": 4,
 "nbformat_minor": 4
}

{
 "cells": [
  {
   "cell_type": "code",
   "execution_count": 1,
   "metadata": {},
   "outputs": [
    {
     "name": "stdout",
     "output_type": "stream",
     "text": [
      "beginning etl of accounting ... \n"
     ]
    }
   ],
   "source": [
    "#to open cred files\n",
    "import os\n",
    "\n",
    "#Data transformation\n",
    "import pandas as pd\n",
    "\n",
    "#bigquery\n",
    "from google.cloud import bigquery\n",
    "\n",
    "#FIREBASE\n",
    "import firebase_admin\n",
    "\n",
    "from firebase_admin import credentials\n",
    "from firebase_admin import firestore\n",
    "\n",
    "from dotenv import load_dotenv\n",
    "load_dotenv('/Users/daniel/OAN/credentials/miong/.env')\n",
    "\n",
    "print('beginning etl of accounting ... ')\n",
    "\n",
    "#OPEN CONECTION TO FIREBASE\n",
    "filename=os.environ['FIREBASE_MIONG_FILENAME']"
   ]
  },
  {
   "cell_type": "code",
   "execution_count": 2,
   "metadata": {},
   "outputs": [],
   "source": [
    "## OPEN CONECTION TO BIGQUERRY\n",
    "bgq_client = bigquery.Client()\n",
    "dataset_id = \"{}.oan\".format(bgq_client.project)\n",
    "dataset = bigquery.Dataset(dataset_id)"
   ]
  },
  {
   "cell_type": "code",
   "execution_count": 3,
   "metadata": {},
   "outputs": [],
   "source": [
    "cred = credentials.Certificate(filename)\n",
    "firebase_admin.initialize_app(cred)\n",
    "\n",
    "db = firestore.client()"
   ]
  },
  {
   "cell_type": "code",
   "execution_count": 4,
   "metadata": {},
   "outputs": [],
   "source": [
    "OAN_account = \"5Tv2u4n8BReebmKUNIuN\""
   ]
  },
  {
   "cell_type": "code",
   "execution_count": 5,
   "metadata": {},
   "outputs": [],
   "source": [
    "#get all the collection of OAN\n",
    "col_query = db.collection('accountingItems').where(u'context.account', u'==',OAN_account).stream()"
   ]
  },
  {
   "cell_type": "code",
   "execution_count": 6,
   "metadata": {},
   "outputs": [],
   "source": [
    "#save it in a list of dictionaries\n",
    "accounts = []\n",
    "for acc in col_query:\n",
    "    accounts.append(acc.to_dict())"
   ]
  },
  {
   "cell_type": "code",
   "execution_count": 153,
   "metadata": {},
   "outputs": [],
   "source": [
    "for i,acc in enumerate(accounts):\n",
    "    if acc['context']['id'] == '4TRVpm2unWZMfYyPGbtQ':\n",
    "        a=acc\n",
    "        b=i"
   ]
  },
  {
   "cell_type": "code",
   "execution_count": 154,
   "metadata": {},
   "outputs": [
    {
     "data": {
      "text/plain": [
       "{'tags': ['spain', 'shopify'],\n",
       " 'vat': 21,\n",
       " 'originAccountingAccount': '3deqBmrZ1iJkAwMmxSOp',\n",
       " 'targetIntervention': 'WYTJNewInibo0kumno7l',\n",
       " 'concept': 'Venta Shopify',\n",
       " 'responsible': 'lwUfGzSzoJuoUCIY83Co',\n",
       " 'vatAmount': 12.14,\n",
       " 'baseAmount': 69.95,\n",
       " 'context': {'createdByType': 'shopify',\n",
       "  'id': '4TRVpm2unWZMfYyPGbtQ',\n",
       "  'createdBy': 'oXJJEfAEPxFYtdJ2pnaU',\n",
       "  'createdAt': '2022-01-06T13:29:40.112Z',\n",
       "  'account': '5Tv2u4n8BReebmKUNIuN'},\n",
       " 'targetProject': '0DmODGTOEiM5lg9SGx0J',\n",
       " 'files': [],\n",
       " 'description': 4345036275811,\n",
       " 'executedAt': '2022-01-06T13:29:40.112Z',\n",
       " 'amount': 90,\n",
       " 'code': 93,\n",
       " 'type': 'income',\n",
       " 'targetAccountingAccount': 'iA9Pzv2CImjItzwCaQv0'}"
      ]
     },
     "execution_count": 154,
     "metadata": {},
     "output_type": "execute_result"
    }
   ],
   "source": [
    "a"
   ]
  },
  {
   "cell_type": "code",
   "execution_count": 155,
   "metadata": {},
   "outputs": [
    {
     "data": {
      "text/plain": [
       "320"
      ]
     },
     "execution_count": 155,
     "metadata": {},
     "output_type": "execute_result"
    }
   ],
   "source": [
    "b"
   ]
  },
  {
   "cell_type": "code",
   "execution_count": 7,
   "metadata": {},
   "outputs": [],
   "source": [
    "mappedFields = {\n",
    "    'concept': 'concept',\n",
    "    'vat': 'vat',\n",
    "    'description':'description',\n",
    "    'amount':'amount',\n",
    "    'execution_date': 'executedAt',\n",
    "    'user_in_charge': 'responsible',\n",
    "    'account_id': 'originAccountingAccount',\n",
    "    'code':'code',\n",
    "    'type':'type',\n",
    "    'target_id': 'targetAccountingAccount',\n",
    "    'vat_amount': 'vatAmount'   \n",
    "}\n",
    "mappedContextFields = {\n",
    "    'creation_date': 'createdAt',\n",
    "    'creator_user':'createdBy',\n",
    "    'id':'id',\n",
    "    'origin': 'createdByType'\n",
    "}"
   ]
  },
  {
   "cell_type": "code",
   "execution_count": 8,
   "metadata": {},
   "outputs": [],
   "source": [
    "def convertData(acc):\n",
    "    accItem = dict()\n",
    "    accKeys = acc.keys()\n",
    "    tag = None\n",
    "    if acc[\"tags\"]:\n",
    "        tag = \"spain\" if \"spain\" in acc[\"tags\"] else \"benin\" if \"benin\" in acc[\"tags\"] else \"\"\n",
    "    accItem[\"place\"] = tag\n",
    "    if 'files' in accKeys:\n",
    "        if acc['files']:\n",
    "            accItem['receipt'] = acc['files'][0]['downloadUrl']\n",
    "        else:\n",
    "            accItem['receipt'] = None\n",
    "    for p in ['project','phase','intervention']:\n",
    "        if 'origin'+p[0].capitalize()+p[1:] in accKeys:\n",
    "            if acc['origin'+p[0].capitalize()+p[1:]] != '':\n",
    "                accItem[p] = acc['origin'+p[0].capitalize()+p[1:]]\n",
    "            elif 'target'+p[0].capitalize()+p[1:] in accKeys:\n",
    "                accItem[p] = acc['target'+p[0].capitalize()+p[1:]]\n",
    "            else:\n",
    "                accItem[p] = ''\n",
    "        elif 'target'+p[0].capitalize()+p[1:] in accKeys:\n",
    "                accItem[p] = acc['target'+p[0].capitalize()+p[1:]]\n",
    "        else:\n",
    "            accItem[p] = ''\n",
    "    for key in mappedFields:\n",
    "        accItem[key] = acc[mappedFields[key]] if mappedFields[key] in accKeys else \"\"\n",
    "    for key in mappedContextFields:\n",
    "        accItem[key] = acc['context'][mappedContextFields[key]]\n",
    "    return accItem"
   ]
  },
  {
   "cell_type": "code",
   "execution_count": 9,
   "metadata": {},
   "outputs": [],
   "source": [
    "convAccounts = []\n",
    "for i,acc in enumerate(accounts):\n",
    "    convAccounts.append(convertData(acc))"
   ]
  },
  {
   "cell_type": "code",
   "execution_count": 10,
   "metadata": {},
   "outputs": [],
   "source": [
    "#convert to dataframe\n",
    "accounting = pd.DataFrame(convAccounts)"
   ]
  },
  {
   "cell_type": "code",
   "execution_count": 13,
   "metadata": {},
   "outputs": [],
   "source": [
    "accounting['creation_date'] = pd.to_datetime(accounting['creation_date'],utc=True)\n",
    "accounting['execution_date'] = pd.to_datetime(accounting['execution_date'],utc=True)"
   ]
  },
  {
   "cell_type": "code",
   "execution_count": 14,
   "metadata": {},
   "outputs": [],
   "source": [
    "#and the order whe want to upload to bigquery\n",
    "df = accounting[['concept', 'place', 'creation_date', 'vat', 'description', 'amount',\n",
    "       'id', 'phase', 'creator_user', 'execution_date',\n",
    "       'user_in_charge', 'origin', 'account_id', 'project', 'code', 'type',\n",
    "       'intervention', 'target_id', 'vat_amount', 'receipt']]"
   ]
  },
  {
   "cell_type": "code",
   "execution_count": 17,
   "metadata": {},
   "outputs": [
    {
     "name": "stdout",
     "output_type": "stream",
     "text": [
      "<class 'pandas.core.frame.DataFrame'>\n",
      "RangeIndex: 4190 entries, 0 to 4189\n",
      "Data columns (total 20 columns):\n",
      " #   Column          Non-Null Count  Dtype              \n",
      "---  ------          --------------  -----              \n",
      " 0   place           4187 non-null   object             \n",
      " 1   receipt         542 non-null    object             \n",
      " 2   project         4190 non-null   object             \n",
      " 3   phase           1468 non-null   object             \n",
      " 4   intervention    4190 non-null   object             \n",
      " 5   concept         4190 non-null   object             \n",
      " 6   vat             3942 non-null   object             \n",
      " 7   description     4091 non-null   object             \n",
      " 8   amount          4190 non-null   float64            \n",
      " 9   execution_date  4190 non-null   datetime64[ns, UTC]\n",
      " 10  user_in_charge  4190 non-null   object             \n",
      " 11  account_id      4190 non-null   object             \n",
      " 12  code            4190 non-null   int64              \n",
      " 13  type            4190 non-null   object             \n",
      " 14  target_id       4190 non-null   object             \n",
      " 15  vat_amount      4190 non-null   float64            \n",
      " 16  creation_date   4190 non-null   datetime64[ns, UTC]\n",
      " 17  creator_user    4190 non-null   object             \n",
      " 18  id              4190 non-null   object             \n",
      " 19  origin          4190 non-null   object             \n",
      "dtypes: datetime64[ns, UTC](2), float64(2), int64(1), object(15)\n",
      "memory usage: 654.8+ KB\n"
     ]
    }
   ],
   "source": [
    "accounting.info()"
   ]
  },
  {
   "cell_type": "code",
   "execution_count": 18,
   "metadata": {},
   "outputs": [
    {
     "name": "stderr",
     "output_type": "stream",
     "text": [
      "1it [00:14, 14.77s/it]"
     ]
    },
    {
     "name": "stdout",
     "output_type": "stream",
     "text": [
      "done.\n"
     ]
    },
    {
     "name": "stderr",
     "output_type": "stream",
     "text": [
      "\n"
     ]
    }
   ],
   "source": [
    "table_id = \"{}.accounting\".format(dataset.dataset_id)\n",
    "proj = bgq_client.project\n",
    "\n",
    "df.to_gbq(table_id,proj,if_exists='replace')\n",
    "\n",
    "print('done.')"
   ]
  },
  {
   "cell_type": "code",
   "execution_count": null,
   "metadata": {},
   "outputs": [],
   "source": []
  }
 ],
 "metadata": {
  "kernelspec": {
   "display_name": "Python 3",
   "language": "python",
   "name": "python3"
  },
  "language_info": {
   "codemirror_mode": {
    "name": "ipython",
    "version": 3
   },
   "file_extension": ".py",
   "mimetype": "text/x-python",
   "name": "python",
   "nbconvert_exporter": "python",
   "pygments_lexer": "ipython3",
   "version": "3.8.3"
  }
 },
 "nbformat": 4,
 "nbformat_minor": 4
}

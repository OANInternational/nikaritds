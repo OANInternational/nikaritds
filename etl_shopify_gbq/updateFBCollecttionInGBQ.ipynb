{
 "cells": [
  {
   "cell_type": "code",
   "execution_count": 150,
   "metadata": {},
   "outputs": [],
   "source": [
    "import os\n",
    "import pandas as pd\n",
    "import pandas_gbq as pd_gbq\n",
    "import numpy as np"
   ]
  },
  {
   "cell_type": "code",
   "execution_count": 120,
   "metadata": {},
   "outputs": [],
   "source": [
    "#FIREBASE\n",
    "from firebase_admin import credentials,firestore,initialize_app\n",
    "from datetime import datetime\n",
    "from google.cloud import bigquery"
   ]
  },
  {
   "cell_type": "code",
   "execution_count": 3,
   "metadata": {},
   "outputs": [],
   "source": [
    "filename=os.environ['FIREBASE_FILENAME']\n",
    "#OPEN CONECTION TO FIREBASE\n",
    "cred = credentials.Certificate(filename)\n",
    "firebase = initialize_app(cred)\n",
    "\n",
    "db = firestore.client()"
   ]
  },
  {
   "cell_type": "code",
   "execution_count": 4,
   "metadata": {},
   "outputs": [],
   "source": [
    "OAN_account = \"5Tv2u4n8BReebmKUNIuN\""
   ]
  },
  {
   "cell_type": "code",
   "execution_count": 282,
   "metadata": {},
   "outputs": [],
   "source": [
    "''' donors = db.collection('donors'\n",
    "                       ).where(u'context.account', u'==',OAN_account\n",
    "                              ).stream() '''\n",
    "                              \n",
    "donors = db.collection('donors'\n",
    "                       ).stream()"
   ]
  },
  {
   "cell_type": "code",
   "execution_count": 283,
   "metadata": {},
   "outputs": [],
   "source": [
    "l_donors = []\n",
    "for donorF in donors:\n",
    "    #print(payout)\n",
    "    l_donors.append(donorF.to_dict())\n"
   ]
  },
  {
   "cell_type": "code",
   "execution_count": 284,
   "metadata": {},
   "outputs": [],
   "source": [
    "df_donors = pd.DataFrame(l_donors)"
   ]
  },
  {
   "cell_type": "code",
   "execution_count": 285,
   "metadata": {},
   "outputs": [],
   "source": [
    "df_recurrentConfig = df_donors[\"recurrentConfig\"].apply(pd.Series)\n",
    "df_recurrentConfig = df_recurrentConfig.drop(columns=[0])"
   ]
  },
  {
   "cell_type": "code",
   "execution_count": 286,
   "metadata": {},
   "outputs": [],
   "source": [
    "mapper = {\"targetAccount\": \"recurrentConfigTargetAccount\",\n",
    "          \"concept\": \"recurrentConfigConcept\",\n",
    "          \"dayOfTheMonth\":\"recurrentConfigDayOfTheMonth\",\n",
    "          \"amount\":\"recurrentConfigAmount\"}"
   ]
  },
  {
   "cell_type": "code",
   "execution_count": 287,
   "metadata": {},
   "outputs": [],
   "source": [
    "df_recurrentConfig = df_recurrentConfig.rename(mapper,axis=1)"
   ]
  },
  {
   "cell_type": "code",
   "execution_count": 288,
   "metadata": {},
   "outputs": [],
   "source": [
    "df_donors = df_donors.join(df_donors[\"context\"].apply(pd.Series))\n",
    "df_donors = df_donors.join(df_recurrentConfig)"
   ]
  },
  {
   "cell_type": "code",
   "execution_count": 289,
   "metadata": {},
   "outputs": [],
   "source": [
    "df_donors = df_donors.drop(columns=[\"context\"])\n",
    "df_donors = df_donors.drop(columns=[\"recurrentConfig\"])\n",
    "df_donors = df_donors.drop(columns=[\"customFields\"])"
   ]
  },
  {
   "cell_type": "code",
   "execution_count": 290,
   "metadata": {},
   "outputs": [
    {
     "name": "stderr",
     "output_type": "stream",
     "text": [
      "/home/daniel_alfaro/.pyenv/versions/3.10.16/envs/defaultenv/lib/python3.10/site-packages/google/cloud/bigquery/table.py:2379: UserWarning: A progress bar was requested, but there was an error loading the tqdm library. Please install tqdm to use the progress bar functionality.\n",
      "  record_batch = self.to_arrow(\n"
     ]
    }
   ],
   "source": [
    "queryDonors = '''\n",
    "            SELECT *\n",
    "            FROM `oan-miong.firestore_export.donorsView`\n",
    "            '''\n",
    "df_donorsGbq = pd_gbq.read_gbq(queryDonors)"
   ]
  },
  {
   "cell_type": "code",
   "execution_count": 291,
   "metadata": {},
   "outputs": [
    {
     "data": {
      "text/plain": [
       "(235, 26)"
      ]
     },
     "execution_count": 291,
     "metadata": {},
     "output_type": "execute_result"
    }
   ],
   "source": [
    "df_donorsGbq.shape"
   ]
  },
  {
   "cell_type": "code",
   "execution_count": 292,
   "metadata": {},
   "outputs": [
    {
     "data": {
      "text/plain": [
       "(0, 26)"
      ]
     },
     "execution_count": 292,
     "metadata": {},
     "output_type": "execute_result"
    }
   ],
   "source": [
    "#new donoors\n",
    "df_join_new = pd.merge(df_donors,df_donorsGbq['id'],how=\"left\", on=\"id\", indicator=True)\n",
    "df_new_donors = df_join_new[df_join_new['_merge'] == 'left_only'].copy()\n",
    "df_new_donors['action'] = 'created'\n",
    "df_new_donors['category'] = None\n",
    "df_new_donors['timestamp'] = datetime.now().isoformat()\n",
    "df_new_donors = df_new_donors.drop(columns=[\"_merge\"])\n",
    "df_new_donors.shape"
   ]
  },
  {
   "cell_type": "code",
   "execution_count": 300,
   "metadata": {},
   "outputs": [
    {
     "data": {
      "text/plain": [
       "(1, 26)"
      ]
     },
     "execution_count": 300,
     "metadata": {},
     "output_type": "execute_result"
    }
   ],
   "source": [
    "#modified donoors\n",
    "df_donors_not_new = df_join_new[df_join_new['_merge'] == 'both'].copy()\n",
    "df_donors_not_new = df_donors_not_new.drop(columns=[\"_merge\"])\n",
    "df_merged = pd.merge(df_donors_not_new,\n",
    "                     df_donorsGbq[['id','lastUpdateAt']],\n",
    "                    how = 'inner',\n",
    "                    on=\"id\",\n",
    "                    suffixes=(\"\", \"_gbq\")\n",
    ")\n",
    "# Filtrar registros donde 'lastUpdateAt_not_new' es más reciente\n",
    "updated_records = df_merged[\n",
    "    (df_merged['lastUpdateAt'] > df_merged['lastUpdateAt_gbq']) |\n",
    "    (df_merged['lastUpdateAt_gbq'].isna() & ~df_merged['lastUpdateAt'].isna())\n",
    "]\n",
    "\n",
    "# Selecciona solo las columnas de df_donors_not_new\n",
    "updated_records = updated_records[df_donors_not_new.columns]\n",
    "updated_records['action'] = 'updated'\n",
    "updated_records['category'] = None\n",
    "updated_records['timestamp'] = datetime.now().isoformat()\n",
    "updated_records.shape"
   ]
  },
  {
   "cell_type": "code",
   "execution_count": 301,
   "metadata": {},
   "outputs": [
    {
     "name": "stderr",
     "output_type": "stream",
     "text": [
      "/tmp/ipykernel_24993/1843257094.py:1: FutureWarning: The behavior of DataFrame concatenation with empty or all-NA entries is deprecated. In a future version, this will no longer exclude empty or all-NA columns when determining the result dtypes. To retain the old behavior, exclude the relevant entries before the concat operation.\n",
      "  df_new_donorsGbq = pd.concat([df_donorsGbq,df_new_donors,updated_records])\n"
     ]
    }
   ],
   "source": [
    "df_new_donorsGbq = pd.concat([df_donorsGbq,df_new_donors,updated_records])"
   ]
  },
  {
   "cell_type": "code",
   "execution_count": 302,
   "metadata": {},
   "outputs": [
    {
     "name": "stdout",
     "output_type": "stream",
     "text": [
      "[(235, 26), (0, 26), (1, 26)]\n"
     ]
    }
   ],
   "source": [
    "print([df_donorsGbq.shape,df_new_donors.shape,updated_records.shape])"
   ]
  },
  {
   "cell_type": "code",
   "execution_count": 303,
   "metadata": {},
   "outputs": [
    {
     "name": "stderr",
     "output_type": "stream",
     "text": [
      "/tmp/ipykernel_24993/1997971792.py:3: FutureWarning: Downcasting object dtype arrays on .fillna, .ffill, .bfill is deprecated and will change in a future version. Call result.infer_objects(copy=False) instead. To opt-in to the future behavior, set `pd.set_option('future.no_silent_downcasting', True)`\n",
      "  df_new_donorsGbq[\"isRecurrent\"] = df_new_donorsGbq[\"isRecurrent\"].fillna(False).astype(bool)\n"
     ]
    }
   ],
   "source": [
    "df_new_donorsGbq[\"recurrentConfigAmount\"] = df_new_donorsGbq[\"recurrentConfigAmount\"].astype(float)\n",
    "df_new_donorsGbq[\"percentage\"] = df_new_donorsGbq[\"percentage\"].astype(float)\n",
    "df_new_donorsGbq[\"isRecurrent\"] = df_new_donorsGbq[\"isRecurrent\"].fillna(False).astype(bool)\n",
    "df_new_donorsGbq[\"recurrentConfigDayOfTheMonth\"] = df_new_donorsGbq[\"recurrentConfigDayOfTheMonth\"].apply(lambda x: int(x) if x>0 else None)"
   ]
  },
  {
   "cell_type": "code",
   "execution_count": 304,
   "metadata": {},
   "outputs": [],
   "source": [
    "# Ajusta el DataFrame para cumplir con el esquema\n",
    "df_new_donorsGbq[\"tags\"] = df_new_donorsGbq[\"tags\"].apply(\n",
    "    lambda x: x.tolist() if isinstance(x, np.ndarray) else x\n",
    ")\n",
    "df_new_donorsGbq[\"tags\"] = df_new_donorsGbq[\"tags\"].apply(\n",
    "    lambda x: x if isinstance(x, list) else [x]\n",
    ")"
   ]
  },
  {
   "cell_type": "code",
   "execution_count": 317,
   "metadata": {},
   "outputs": [
    {
     "data": {
      "text/plain": [
       "Index(['key', 'lastName', 'province', 'tags', 'nature', 'region', 'percentage',\n",
       "       'dni', 'isRecurrent', 'email', 'name', 'partner', 'lastUpdateBy',\n",
       "       'createdBy', 'id', 'account', 'createdAt', 'createdByType',\n",
       "       'lastUpdateAt', 'recurrentConfigTargetAccount',\n",
       "       'recurrentConfigConcept', 'recurrentConfigDayOfTheMonth',\n",
       "       'recurrentConfigAmount', 'lastUpdateAt_gbq'],\n",
       "      dtype='object')"
      ]
     },
     "execution_count": 317,
     "metadata": {},
     "output_type": "execute_result"
    }
   ],
   "source": [
    "df_merged.columns"
   ]
  },
  {
   "cell_type": "code",
   "execution_count": 319,
   "metadata": {},
   "outputs": [],
   "source": [
    "orden = { \"id\": \"0OORMP8HfBajJxUOa3j3\",\n",
    "  \"action\": \"created\",\n",
    "  \"timestamp\": \"2024-12-12T17:23:45.748Z\",\n",
    "  \"account\": \"5Tv2u4n8BReebmKUNIuN\",\n",
    "  \"category\": None,\n",
    "  \"createdByType\": \"system\",\n",
    "  \"createdBy\": \"oXJJEfAEPxFYtdJ2pnaU\",\n",
    "  \"lastUpdateBy\": \"oXJJEfAEPxFYtdJ2pnaU\",\n",
    "  \"createdAt\": \"2024-01-05T12:22:40.401Z\",\n",
    "  \"lastUpdateAt\": \"2024-01-05T12:22:40.401Z\",\n",
    "  \"name\": \"Antonia\",\n",
    "  \"lastName\": \"Bonilla Jiménez\",\n",
    "  \"partner\": None,\n",
    "  \"email\": \"gaiajimenezescritora@gmail.com\",\n",
    "  \"dni\": \"\",\n",
    "  \"region\": \"málaga\",\n",
    "  \"province\": \"Málaga\",\n",
    "  \"key\": \"A\",\n",
    "  \"percentage\": None,\n",
    "  \"nature\": \"naturalPerson\",\n",
    "  \"tags\": [],\n",
    "  \"isRecurrent\": \"false\",\n",
    "  \"recurrentConfigAmount\": None,\n",
    "  \"recurrentConfigTargetAccount\": None,\n",
    "  \"recurrentConfigDayOfTheMonth\": None,\n",
    "  \"recurrentConfigConcept\": None\n",
    "}"
   ]
  },
  {
   "cell_type": "code",
   "execution_count": 324,
   "metadata": {},
   "outputs": [],
   "source": [
    "df_new_donorsGbq = df_new_donorsGbq[list(orden.keys())]"
   ]
  },
  {
   "cell_type": "code",
   "execution_count": 326,
   "metadata": {},
   "outputs": [
    {
     "name": "stdout",
     "output_type": "stream",
     "text": [
      "Tabla cargada exitosamente a oan-miong.firestore_export.donors.\n"
     ]
    }
   ],
   "source": [
    "# Configura el cliente de BigQuery\n",
    "client = bigquery.Client(project=\"oan-miong\")\n",
    "\n",
    "# Define la tabla destino\n",
    "table_id = \"oan-miong.firestore_export.donors\"\n",
    "\n",
    "table = client.get_table(table_id)\n",
    "\n",
    "schema = [{\"name\": schema_field.name, \"type\": schema_field.field_type, \"mode\": schema_field.mode} for schema_field in table.schema]\n",
    "\n",
    "# Configura el job de carga\n",
    "job_config = bigquery.LoadJobConfig(\n",
    "    schema=schema,\n",
    "    write_disposition=\"WRITE_TRUNCATE\"  # Reemplaza la tabla si ya existe\n",
    ")\n",
    "\n",
    "# Sube el DataFrame a BigQuery\n",
    "job = client.load_table_from_dataframe(df_new_donorsGbq, table_id, job_config=job_config)\n",
    "\n",
    "# Espera a que termine el job\n",
    "job.result()\n",
    "\n",
    "print(f\"Tabla cargada exitosamente a {table_id}.\")"
   ]
  },
  {
   "cell_type": "code",
   "execution_count": null,
   "metadata": {},
   "outputs": [],
   "source": []
  }
 ],
 "metadata": {
  "kernelspec": {
   "display_name": "Python (Poetry)",
   "language": "python",
   "name": "defaultenv"
  },
  "language_info": {
   "codemirror_mode": {
    "name": "ipython",
    "version": 3
   },
   "file_extension": ".py",
   "mimetype": "text/x-python",
   "name": "python",
   "nbconvert_exporter": "python",
   "pygments_lexer": "ipython3",
   "version": "3.10.16"
  }
 },
 "nbformat": 4,
 "nbformat_minor": 2
}

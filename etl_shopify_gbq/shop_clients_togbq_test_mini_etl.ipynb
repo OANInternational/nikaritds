{
 "cells": [
  {
   "cell_type": "code",
   "execution_count": 1,
   "metadata": {},
   "outputs": [],
   "source": [
    "import os\n",
    "import pandas\n",
    "import pandas_gbq\n",
    "import unidecode\n",
    "\n",
    "from google.cloud import bigquery\n"
   ]
  },
  {
   "cell_type": "code",
   "execution_count": 2,
   "metadata": {},
   "outputs": [],
   "source": [
    "os.environ['GOOGLE_APPLICATION_CREDENTIALS']='/Users/5danalfaro/OAN/credentials/nikaritcloud-05c476a4efcd.json'"
   ]
  },
  {
   "cell_type": "code",
   "execution_count": 3,
   "metadata": {},
   "outputs": [],
   "source": [
    "client = bigquery.Client()"
   ]
  },
  {
   "cell_type": "code",
   "execution_count": 4,
   "metadata": {},
   "outputs": [],
   "source": [
    "query_job = client.query(\"\"\"\n",
    "    SELECT\n",
    "      CONCAT(\n",
    "        'https://stackoverflow.com/questions/',\n",
    "        CAST(id as STRING)) as url,\n",
    "      view_count\n",
    "    FROM `bigquery-public-data.stackoverflow.posts_questions`\n",
    "    WHERE tags like '%google-bigquery%'\n",
    "    ORDER BY view_count DESC\n",
    "    LIMIT 10\"\"\")\n",
    "\n",
    "results = query_job.result()  # Waits for job to complete."
   ]
  },
  {
   "cell_type": "code",
   "execution_count": 5,
   "metadata": {},
   "outputs": [
    {
     "data": {
      "text/html": [
       "<div>\n",
       "<style scoped>\n",
       "    .dataframe tbody tr th:only-of-type {\n",
       "        vertical-align: middle;\n",
       "    }\n",
       "\n",
       "    .dataframe tbody tr th {\n",
       "        vertical-align: top;\n",
       "    }\n",
       "\n",
       "    .dataframe thead th {\n",
       "        text-align: right;\n",
       "    }\n",
       "</style>\n",
       "<table border=\"1\" class=\"dataframe\">\n",
       "  <thead>\n",
       "    <tr style=\"text-align: right;\">\n",
       "      <th></th>\n",
       "      <th>url</th>\n",
       "      <th>view_count</th>\n",
       "    </tr>\n",
       "  </thead>\n",
       "  <tbody>\n",
       "    <tr>\n",
       "      <th>0</th>\n",
       "      <td>https://stackoverflow.com/questions/22879669</td>\n",
       "      <td>52306</td>\n",
       "    </tr>\n",
       "    <tr>\n",
       "      <th>1</th>\n",
       "      <td>https://stackoverflow.com/questions/13530967</td>\n",
       "      <td>46073</td>\n",
       "    </tr>\n",
       "    <tr>\n",
       "      <th>2</th>\n",
       "      <td>https://stackoverflow.com/questions/35159967</td>\n",
       "      <td>45991</td>\n",
       "    </tr>\n",
       "    <tr>\n",
       "      <th>3</th>\n",
       "      <td>https://stackoverflow.com/questions/10604135</td>\n",
       "      <td>45238</td>\n",
       "    </tr>\n",
       "    <tr>\n",
       "      <th>4</th>\n",
       "      <td>https://stackoverflow.com/questions/16609219</td>\n",
       "      <td>37758</td>\n",
       "    </tr>\n",
       "    <tr>\n",
       "      <th>5</th>\n",
       "      <td>https://stackoverflow.com/questions/11647201</td>\n",
       "      <td>32963</td>\n",
       "    </tr>\n",
       "    <tr>\n",
       "      <th>6</th>\n",
       "      <td>https://stackoverflow.com/questions/13221978</td>\n",
       "      <td>32507</td>\n",
       "    </tr>\n",
       "    <tr>\n",
       "      <th>7</th>\n",
       "      <td>https://stackoverflow.com/questions/27060396</td>\n",
       "      <td>31630</td>\n",
       "    </tr>\n",
       "    <tr>\n",
       "      <th>8</th>\n",
       "      <td>https://stackoverflow.com/questions/6607552</td>\n",
       "      <td>31487</td>\n",
       "    </tr>\n",
       "    <tr>\n",
       "      <th>9</th>\n",
       "      <td>https://stackoverflow.com/questions/11057219</td>\n",
       "      <td>29069</td>\n",
       "    </tr>\n",
       "  </tbody>\n",
       "</table>\n",
       "</div>"
      ],
      "text/plain": [
       "                                            url  view_count\n",
       "0  https://stackoverflow.com/questions/22879669       52306\n",
       "1  https://stackoverflow.com/questions/13530967       46073\n",
       "2  https://stackoverflow.com/questions/35159967       45991\n",
       "3  https://stackoverflow.com/questions/10604135       45238\n",
       "4  https://stackoverflow.com/questions/16609219       37758\n",
       "5  https://stackoverflow.com/questions/11647201       32963\n",
       "6  https://stackoverflow.com/questions/13221978       32507\n",
       "7  https://stackoverflow.com/questions/27060396       31630\n",
       "8   https://stackoverflow.com/questions/6607552       31487\n",
       "9  https://stackoverflow.com/questions/11057219       29069"
      ]
     },
     "execution_count": 5,
     "metadata": {},
     "output_type": "execute_result"
    }
   ],
   "source": [
    "query_job.to_dataframe()"
   ]
  },
  {
   "cell_type": "markdown",
   "metadata": {},
   "source": [
    "# LIST DATASETS"
   ]
  },
  {
   "cell_type": "code",
   "execution_count": 6,
   "metadata": {},
   "outputs": [
    {
     "name": "stdout",
     "output_type": "stream",
     "text": [
      "Datasets in project nikaritcloud:\n",
      "\tclients_test\n"
     ]
    }
   ],
   "source": [
    "datasets = list(client.list_datasets())\n",
    "project = client.project\n",
    "\n",
    "if datasets:\n",
    "    print(\"Datasets in project {}:\".format(project))\n",
    "    for dataset in datasets:  # API request(s)\n",
    "        print(\"\\t{}\".format(dataset.dataset_id))\n",
    "else:\n",
    "    print(\"{} project does not contain any datasets.\".format(project))"
   ]
  },
  {
   "cell_type": "markdown",
   "metadata": {},
   "source": [
    "# CREATE A DATASET"
   ]
  },
  {
   "cell_type": "code",
   "execution_count": 4,
   "metadata": {},
   "outputs": [],
   "source": [
    "# TODO(developer): Set dataset_id to the ID of the dataset to create.\n",
    "dataset_id = \"{}.shopify_clients\".format(client.project)"
   ]
  },
  {
   "cell_type": "code",
   "execution_count": 5,
   "metadata": {},
   "outputs": [
    {
     "name": "stdout",
     "output_type": "stream",
     "text": [
      "Created dataset nikaritcloud.shopify_clients\n"
     ]
    }
   ],
   "source": [
    "# Construct a full Dataset object to send to the API.\n",
    "dataset = bigquery.Dataset(dataset_id)\n",
    "\n",
    "# TODO(developer): Specify the geographic location where the dataset should reside.\n",
    "dataset.location = \"EU\"\n",
    "\n",
    "# Send the dataset to the API for creation.\n",
    "# Raises google.api_core.exceptions.Conflict if the Dataset already\n",
    "# exists within the project.\n",
    "dataset = client.create_dataset(dataset)  # API request\n",
    "print(\"Created dataset {}.{}\".format(client.project, dataset.dataset_id))"
   ]
  },
  {
   "cell_type": "code",
   "execution_count": 6,
   "metadata": {},
   "outputs": [
    {
     "data": {
      "text/plain": [
       "'nikaritcloud.shopify_clients'"
      ]
     },
     "execution_count": 6,
     "metadata": {},
     "output_type": "execute_result"
    }
   ],
   "source": [
    "\"{}.{}\".format(client.project, dataset.dataset_id)"
   ]
  },
  {
   "cell_type": "code",
   "execution_count": 17,
   "metadata": {},
   "outputs": [
    {
     "name": "stdout",
     "output_type": "stream",
     "text": [
      "Created table nikaritcloud.clients_test.clients_test_sells\n"
     ]
    }
   ],
   "source": [
    "schema = [\n",
    "    bigquery.SchemaField(\"full_name\", \"STRING\", mode=\"REQUIRED\"),\n",
    "    bigquery.SchemaField(\"age\", \"INTEGER\", mode=\"REQUIRED\"),\n",
    "]\n",
    "\n",
    "# TODO(developer): Construct a BigQuery client object.\n",
    "# client = bigquery.Client()\n",
    "\n",
    "# TODO(developer): Set table_id to the ID of the table to create\n",
    "table_id = \"{}.{}.clients_test_sells\".format(client.project, dataset.dataset_id)\n",
    "\n",
    "table = bigquery.Table(table_id, schema=schema)\n",
    "table = client.create_table(table)  # API request\n",
    "print(\n",
    "    \"Created table {}.{}.{}\".format(table.project, table.dataset_id, table.table_id)\n",
    ")"
   ]
  },
  {
   "cell_type": "markdown",
   "metadata": {},
   "source": [
    "## FROM PANDAS"
   ]
  },
  {
   "cell_type": "code",
   "execution_count": 29,
   "metadata": {},
   "outputs": [
    {
     "name": "stderr",
     "output_type": "stream",
     "text": [
      "\n",
      "0it [00:00, ?it/s]\u001b[A\n",
      "1it [00:13, 13.09s/it]\u001b[A"
     ]
    }
   ],
   "source": [
    "# TODO: Set project_id to your Google Cloud Platform project ID.\n",
    "# project_id = \"my-project\"\n",
    "\n",
    "# TODO: Set table_id to the full destination table ID (including the\n",
    "#       dataset ID).\n",
    "table_id = \"{}.clients_test_sells\".format(dataset.dataset_id)\n",
    "\n",
    "df = pandas.DataFrame(\n",
    "    {\n",
    "        \"full_name\": [\"a\", \"b\", \"c\"],\n",
    "        \"age\": [1, 2, 3]\n",
    "    }\n",
    ")\n",
    "\n",
    "pandas_gbq.to_gbq(df, table_id, project_id=client.project, if_exists='replace')"
   ]
  },
  {
   "cell_type": "code",
   "execution_count": 27,
   "metadata": {},
   "outputs": [
    {
     "data": {
      "text/html": [
       "<div>\n",
       "<style scoped>\n",
       "    .dataframe tbody tr th:only-of-type {\n",
       "        vertical-align: middle;\n",
       "    }\n",
       "\n",
       "    .dataframe tbody tr th {\n",
       "        vertical-align: top;\n",
       "    }\n",
       "\n",
       "    .dataframe thead th {\n",
       "        text-align: right;\n",
       "    }\n",
       "</style>\n",
       "<table border=\"1\" class=\"dataframe\">\n",
       "  <thead>\n",
       "    <tr style=\"text-align: right;\">\n",
       "      <th></th>\n",
       "      <th>name</th>\n",
       "      <th>age</th>\n",
       "    </tr>\n",
       "  </thead>\n",
       "  <tbody>\n",
       "    <tr>\n",
       "      <th>0</th>\n",
       "      <td>a</td>\n",
       "      <td>1</td>\n",
       "    </tr>\n",
       "    <tr>\n",
       "      <th>1</th>\n",
       "      <td>b</td>\n",
       "      <td>2</td>\n",
       "    </tr>\n",
       "    <tr>\n",
       "      <th>2</th>\n",
       "      <td>c</td>\n",
       "      <td>3</td>\n",
       "    </tr>\n",
       "  </tbody>\n",
       "</table>\n",
       "</div>"
      ],
      "text/plain": [
       "  name  age\n",
       "0    a    1\n",
       "1    b    2\n",
       "2    c    3"
      ]
     },
     "execution_count": 27,
     "metadata": {},
     "output_type": "execute_result"
    }
   ],
   "source": [
    "df"
   ]
  },
  {
   "cell_type": "markdown",
   "metadata": {},
   "source": [
    "## FROM URI"
   ]
  },
  {
   "cell_type": "code",
   "execution_count": null,
   "metadata": {},
   "outputs": [],
   "source": [
    "dataset_ref = client.dataset(dataset_id)\n",
    "job_config = bigquery.LoadJobConfig()\n",
    "job_config.schema = [\n",
    "    bigquery.SchemaField(\"name\", \"STRING\"),\n",
    "    bigquery.SchemaField(\"post_abbr\", \"STRING\"),\n",
    "]\n",
    "job_config.source_format = bigquery.SourceFormat.NEWLINE_DELIMITED_JSON\n",
    "uri = \"gs://cloud-samples-data/bigquery/us-states/us-states.json\"\n",
    "\n",
    "load_job = client.load_table_from_uri(\n",
    "    uri,\n",
    "    dataset_ref.table(\"us_states\"),\n",
    "    location=\"US\",  # Location must match that of the destination dataset.\n",
    "    job_config=job_config,\n",
    ")  # API request\n",
    "print(\"Starting job {}\".format(load_job.job_id))\n",
    "\n",
    "load_job.result()  # Waits for table load to complete.\n",
    "print(\"Job finished.\")\n",
    "\n",
    "destination_table = client.get_table(dataset_ref.table(\"us_states\"))\n",
    "print(\"Loaded {} rows.\".format(destination_table.num_rows))"
   ]
  },
  {
   "cell_type": "markdown",
   "metadata": {},
   "source": [
    "## GET DATA FROM SHOPIFY"
   ]
  },
  {
   "cell_type": "code",
   "execution_count": 8,
   "metadata": {},
   "outputs": [],
   "source": [
    "# Imports\n",
    "import pandas as pd\n",
    "import numpy as np\n",
    "import requests\n",
    "import yaml\n",
    "import json\n",
    "import shopify\n",
    "import matplotlib\n",
    "import matplotlib.pyplot as plt\n",
    "import datetime\n",
    "\n",
    "# Load connections parameters:\n",
    "with open(\"/Users/5danalfaro/OAN/credentials/shopify/parameters.yaml\", \"r\") as params:\n",
    "    f = yaml.load(params, Loader=yaml.FullLoader)\n",
    "    base_url = f['base_url']\n",
    "    nikarit_url = f['shop_url']\n",
    "    API_KEY = f['API_KEY']\n",
    "    PASSWORD = f['PASSWORD']\n",
    "    SHARED_SECRET = f['SHARED_SECRET']\n",
    "    shop_url = f['ACCESS_URL']\n",
    "    base_url2 = ' https://'+ base_url\n"
   ]
  },
  {
   "cell_type": "code",
   "execution_count": 9,
   "metadata": {},
   "outputs": [],
   "source": [
    "def get_all_products():\n",
    "\n",
    "    r = requests.get(\n",
    "    shop_url+\"/products.json\")\n",
    "\n",
    "    return r.json()\n",
    "\n",
    "def get_all_customers(limit):\n",
    "\n",
    "    r = requests.get(\n",
    "    shop_url+\"/customers.json\",\n",
    "    params={\n",
    "        'limit':limit\n",
    "        \n",
    "    })\n",
    "\n",
    "    return r.json()\n",
    "\n",
    "def get_all_orders(limit,status='any'):\n",
    "\n",
    "    r = requests.get(\n",
    "    shop_url+\"/orders.json\",\n",
    "    params={\n",
    "        'limit':limit,\n",
    "        'status':status\n",
    "    })\n",
    "\n",
    "    return r.json()"
   ]
  },
  {
   "cell_type": "markdown",
   "metadata": {},
   "source": [
    "# WOMEN AND MEN NAMES"
   ]
  },
  {
   "cell_type": "code",
   "execution_count": 10,
   "metadata": {},
   "outputs": [],
   "source": [
    "url = 'https://raw.githubusercontent.com/marcboquet/spanish-names/master/mujeres.csv'\n",
    "df_mujeres = pd.read_csv(url, error_bad_lines=False)\n",
    "l_mujeres = df_mujeres['nombre'].to_list()"
   ]
  },
  {
   "cell_type": "code",
   "execution_count": 11,
   "metadata": {},
   "outputs": [],
   "source": [
    "l_mujeres = [str(nom).lower() for nom in l_mujeres]"
   ]
  },
  {
   "cell_type": "code",
   "execution_count": 12,
   "metadata": {},
   "outputs": [],
   "source": [
    "url = 'https://raw.githubusercontent.com/marcboquet/spanish-names/master/hombres.csv'\n",
    "df_hombres = pd.read_csv(url, error_bad_lines=False)\n",
    "l_hombres = df_hombres['nombre'].to_list()"
   ]
  },
  {
   "cell_type": "code",
   "execution_count": 13,
   "metadata": {},
   "outputs": [],
   "source": [
    "l_hombres = [nom.lower() for nom in l_hombres]"
   ]
  },
  {
   "cell_type": "markdown",
   "metadata": {},
   "source": [
    "# GET ALL ORDERS"
   ]
  },
  {
   "cell_type": "code",
   "execution_count": 14,
   "metadata": {},
   "outputs": [],
   "source": [
    "all_orders= get_all_orders(250)"
   ]
  },
  {
   "cell_type": "code",
   "execution_count": 15,
   "metadata": {},
   "outputs": [],
   "source": [
    "df_orders = pd.DataFrame(all_orders['orders']) "
   ]
  },
  {
   "cell_type": "code",
   "execution_count": 16,
   "metadata": {},
   "outputs": [],
   "source": [
    "import datetime"
   ]
  },
  {
   "cell_type": "code",
   "execution_count": 32,
   "metadata": {},
   "outputs": [],
   "source": [
    "df_orders['fecha']= df_orders.created_at.apply(\n",
    "    lambda x: datetime.datetime.strptime(x.split('+')[0], '%Y-%m-%dT%H:%M:%S'))"
   ]
  },
  {
   "cell_type": "code",
   "execution_count": 61,
   "metadata": {},
   "outputs": [],
   "source": [
    "df_sells=df_orders[['fecha','total_price','email','billing_address','line_items','shipping_address']].copy()"
   ]
  },
  {
   "cell_type": "code",
   "execution_count": 70,
   "metadata": {},
   "outputs": [],
   "source": [
    "df_sells['name']=df_sells.apply(lambda x: \n",
    "                    x['billing_address']['first_name']+' '+\n",
    "                    x['billing_address']['last_name'],axis=1)"
   ]
  },
  {
   "cell_type": "code",
   "execution_count": 71,
   "metadata": {},
   "outputs": [],
   "source": [
    "df_sells['poblacion']=df_sells['shipping_address'].apply(lambda x: x['city'])"
   ]
  },
  {
   "cell_type": "code",
   "execution_count": 72,
   "metadata": {},
   "outputs": [],
   "source": [
    "df_sells['latitude']=df_sells['shipping_address'].apply(lambda x: x['latitude'])"
   ]
  },
  {
   "cell_type": "code",
   "execution_count": 73,
   "metadata": {},
   "outputs": [],
   "source": [
    "df_sells['longitude']=df_sells['shipping_address'].apply(lambda x: x['longitude'])"
   ]
  },
  {
   "cell_type": "code",
   "execution_count": 74,
   "metadata": {},
   "outputs": [],
   "source": [
    "def countproducts(x):\n",
    "    products=x['line_items']\n",
    "    manteca =0\n",
    "    crema = 0\n",
    "    balsamo = 0\n",
    "    products_dict = {'01':(1,0,0),\n",
    "                     '02':(0,1,0),\n",
    "                     '03':(0,0,1),\n",
    "                     '04':(1,1,0),\n",
    "                     '05':(1,1,1),\n",
    "                     '06':(20,0,0)\n",
    "                    }\n",
    "    for prod in products:\n",
    "        prod_id =prod['name'][0:2]\n",
    "        quant=int(prod['quantity'])\n",
    "        manteca += products_dict[prod_id][0]*quant\n",
    "        crema += products_dict[prod_id][1]*quant\n",
    "        balsamo += products_dict[prod_id][2]*quant\n",
    "        \n",
    "    return pd.Series([manteca,crema,balsamo])"
   ]
  },
  {
   "cell_type": "code",
   "execution_count": 75,
   "metadata": {},
   "outputs": [],
   "source": [
    "df_sells[['mantecas','cremas','balsamos']]=df_sells.apply(lambda x: countproducts(x),axis =1)"
   ]
  },
  {
   "cell_type": "code",
   "execution_count": 76,
   "metadata": {},
   "outputs": [],
   "source": [
    "df_sells['sex'] = df_sells.apply(lambda x: \n",
    "                            'F' if unidecode.unidecode(\n",
    "                                    str(x['billing_address']['first_name']).lower()) in l_mujeres\n",
    "                            else 'M' if unidecode.unidecode(\n",
    "                                str(x['billing_address']['first_name']).lower())  in l_hombres\n",
    "                            else 'N/A' , axis =1)"
   ]
  },
  {
   "cell_type": "code",
   "execution_count": 77,
   "metadata": {},
   "outputs": [],
   "source": [
    "df_sells.total_price=df_sells.total_price.map(float)"
   ]
  },
  {
   "cell_type": "code",
   "execution_count": 78,
   "metadata": {},
   "outputs": [],
   "source": [
    "df_sells = df_sells[['fecha','total_price','name','sex','email',\n",
    "                     'mantecas','cremas','balsamos',\n",
    "                     'poblacion','latitude','longitude']]"
   ]
  },
  {
   "cell_type": "markdown",
   "metadata": {},
   "source": [
    "## upload to BIGQUERY"
   ]
  },
  {
   "cell_type": "code",
   "execution_count": 80,
   "metadata": {},
   "outputs": [
    {
     "data": {
      "text/plain": [
       "fecha          datetime64[ns]\n",
       "total_price           float64\n",
       "name                   object\n",
       "sex                    object\n",
       "email                  object\n",
       "mantecas                int64\n",
       "cremas                  int64\n",
       "balsamos                int64\n",
       "poblacion              object\n",
       "latitude              float64\n",
       "longitude             float64\n",
       "dtype: object"
      ]
     },
     "execution_count": 80,
     "metadata": {},
     "output_type": "execute_result"
    }
   ],
   "source": [
    "df_sells.dtypes"
   ]
  },
  {
   "cell_type": "code",
   "execution_count": 81,
   "metadata": {},
   "outputs": [
    {
     "name": "stderr",
     "output_type": "stream",
     "text": [
      "1it [00:03,  3.49s/it]\n"
     ]
    }
   ],
   "source": [
    "table_id = \"{}.clients_main_info\".format(dataset.dataset_id)\n",
    "\n",
    "pandas_gbq.to_gbq(df_sells, table_id, project_id=client.project, if_exists='replace')"
   ]
  },
  {
   "cell_type": "markdown",
   "metadata": {},
   "source": [
    "# LETS DO SIMPLE ANALYSIS"
   ]
  },
  {
   "cell_type": "code",
   "execution_count": 271,
   "metadata": {},
   "outputs": [
    {
     "data": {
      "image/png": "[encoded data removed]",
      "text/plain": [
       "<Figure size 1440x720 with 1 Axes>"
      ]
     },
     "metadata": {
      "needs_background": "light"
     },
     "output_type": "display_data"
    }
   ],
   "source": [
    "fig, ax = plt.subplots(figsize=(20,10))\n",
    "\n",
    "x = np.array(df_sells['total_price'].map(float).to_list())\n",
    "\n",
    "ax.hist(x, bins=[a*2 for a in range(30)])\n",
    "\n",
    "ax.set_xlim(0,60)\n",
    "\n",
    "plt.title('Histogram of total spent of orders')\n",
    "plt.show()\n"
   ]
  },
  {
   "cell_type": "markdown",
   "metadata": {},
   "source": [
    "# get data from customers"
   ]
  },
  {
   "cell_type": "code",
   "execution_count": 272,
   "metadata": {},
   "outputs": [],
   "source": [
    "all_customers = get_all_customers(250)"
   ]
  },
  {
   "cell_type": "code",
   "execution_count": 273,
   "metadata": {},
   "outputs": [],
   "source": [
    "df_customers = pd.DataFrame(all_customers['customers']) "
   ]
  },
  {
   "cell_type": "code",
   "execution_count": 274,
   "metadata": {},
   "outputs": [
    {
     "data": {
      "image/png": "[encoded data removed]",
      "text/plain": [
       "<Figure size 432x288 with 1 Axes>"
      ]
     },
     "metadata": {
      "needs_background": "light"
     },
     "output_type": "display_data"
    }
   ],
   "source": [
    "x = np.array(df_customers[df_customers['total_spent'].astype(float) > 0]['total_spent'].astype(float))\n",
    "plt.hist(x, bins=[a*4 for a in range(20)])\n",
    "plt.ylabel('No of times')\n",
    "plt.title('from '+str(len(x))+' sold products')\n",
    "plt.show()"
   ]
  },
  {
   "cell_type": "code",
   "execution_count": 275,
   "metadata": {},
   "outputs": [
    {
     "data": {
      "image/png": "[encoded data removed]",
      "text/plain": [
       "<Figure size 432x288 with 1 Axes>"
      ]
     },
     "metadata": {
      "needs_background": "light"
     },
     "output_type": "display_data"
    }
   ],
   "source": [
    "df_sells_cus = df_customers[df_customers['total_spent'].astype(float) > 0]\n",
    "df_sells_accepts=df_sells_cus[df_sells_cus['accepts_marketing']==True]\n",
    "df_sells_notaccepts=df_sells_cus[df_sells_cus['accepts_marketing']==False]\n",
    "x = df_sells_accepts['total_spent'].astype(float)\n",
    "y = df_sells_notaccepts['total_spent'].astype(float)\n",
    "\n",
    "bins=[a*2 for a in range(50)]\n",
    "\n",
    "plt.hist(x, bins, alpha=0.5, label='accpets_marketing')\n",
    "plt.hist(y, bins, alpha=0.2, label='doesnt_accpets_marketing')\n",
    "plt.legend(loc='upper right')\n",
    "\n",
    "plt.ylabel('No of times')\n",
    "plt.title('from '+str(len(x))+'vs'+str(len(y))+' sold products')\n",
    "plt.show()\n"
   ]
  },
  {
   "cell_type": "code",
   "execution_count": 183,
   "metadata": {},
   "outputs": [],
   "source": [
    "df_customers['sex'] = df_customers.apply(lambda x: \n",
    "                            'F' if unidecode.unidecode(str(x['first_name']).lower()) in l_mujeres\n",
    "                            else 'M' if unidecode.unidecode(str(x['first_name']).lower())  in l_hombres\n",
    "                            else 'N/A' , axis =1)"
   ]
  },
  {
   "cell_type": "code",
   "execution_count": 246,
   "metadata": {},
   "outputs": [
    {
     "data": {
      "image/png": "[encoded data removed]",
      "text/plain": [
       "<Figure size 1440x720 with 1 Axes>"
      ]
     },
     "metadata": {
      "needs_background": "light"
     },
     "output_type": "display_data"
    }
   ],
   "source": [
    "fig, ax = plt.subplots(figsize=(20,10))\n",
    "\n",
    "list_sex = list(df_customers['sex'].unique())\n",
    "x = [0,1,2]\n",
    "x_2 = [a+0.3 for a in x]\n",
    "\n",
    "y = [list(df_customers['sex']).count(a) for a in list_sex]\n",
    "\n",
    "y_2 = [list(df_sells['sex']).count(a) for a in list_sex]\n",
    "\n",
    "ax.bar(x,y,0.2,label='All visits')\n",
    "\n",
    "ax.bar(x_2,y_2,0.2,label='Actual sells')\n",
    "\n",
    "ax.set_xticks(x)\n",
    "ax.set_xticklabels(list_sex)\n",
    "\n",
    "plt.title('Sex analysis by name of online solds \\n Nikarit')\n",
    "\n",
    "plt.legend()\n",
    "plt.show()"
   ]
  },
  {
   "cell_type": "code",
   "execution_count": null,
   "metadata": {},
   "outputs": [],
   "source": []
  }
 ],
 "metadata": {
  "kernelspec": {
   "display_name": "Python 3",
   "language": "python",
   "name": "python3"
  },
  "language_info": {
   "codemirror_mode": {
    "name": "ipython",
    "version": 3
   },
   "file_extension": ".py",
   "mimetype": "text/x-python",
   "name": "python",
   "nbconvert_exporter": "python",
   "pygments_lexer": "ipython3",
   "version": "3.7.3"
  }
 },
 "nbformat": 4,
 "nbformat_minor": 2
}

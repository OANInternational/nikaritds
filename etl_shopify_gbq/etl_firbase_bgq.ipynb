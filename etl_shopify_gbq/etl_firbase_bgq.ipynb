{
 "cells": [
  {
   "cell_type": "code",
   "execution_count": 1,
   "metadata": {},
   "outputs": [],
   "source": [
    "#to open cred files\n",
    "import os\n",
    "#cleaning and operations\n",
    "import pandas as pd\n",
    "import numpy as np\n",
    "#to read translations\n",
    "import json\n",
    "import unidecode\n",
    "from urllib.parse import quote"
   ]
  },
  {
   "cell_type": "code",
   "execution_count": 2,
   "metadata": {},
   "outputs": [],
   "source": [
    "from datetime import datetime"
   ]
  },
  {
   "cell_type": "code",
   "execution_count": 3,
   "metadata": {},
   "outputs": [],
   "source": [
    "#to detect file types\n",
    "import magic"
   ]
  },
  {
   "cell_type": "code",
   "execution_count": 4,
   "metadata": {},
   "outputs": [],
   "source": [
    "#bigquery\n",
    "from google.cloud import bigquery"
   ]
  },
  {
   "cell_type": "code",
   "execution_count": 5,
   "metadata": {},
   "outputs": [],
   "source": [
    "#FIREBASE\n",
    "from firebase_admin import credentials,storage,firestore,initialize_app"
   ]
  },
  {
   "cell_type": "code",
   "execution_count": 6,
   "metadata": {},
   "outputs": [
    {
     "data": {
      "text/plain": [
       "True"
      ]
     },
     "execution_count": 6,
     "metadata": {},
     "output_type": "execute_result"
    }
   ],
   "source": [
    "from dotenv import load_dotenv\n",
    "load_dotenv('/Users/daniel/OAN/credentials/contoan/.env')"
   ]
  },
  {
   "cell_type": "code",
   "execution_count": 7,
   "metadata": {},
   "outputs": [],
   "source": [
    "## OPEN CONECTION TO BIGQUERRY\n",
    "bgq_client = bigquery.Client()\n",
    "dataset_id = \"{}.contoan\".format(bgq_client.project)\n",
    "dataset = bigquery.Dataset(dataset_id)"
   ]
  },
  {
   "cell_type": "code",
   "execution_count": 8,
   "metadata": {},
   "outputs": [],
   "source": [
    "filename=os.environ['FIREBASE_FILENAME']\n",
    "#OPEN CONECTION TO FIREBASE\n",
    "cred = credentials.Certificate(filename)\n",
    "firebase = initialize_app(cred)\n",
    "\n",
    "db = firestore.client()"
   ]
  },
  {
   "cell_type": "code",
   "execution_count": 9,
   "metadata": {},
   "outputs": [],
   "source": [
    "from googleapiclient.http import MediaFileUpload, MediaIoBaseDownload"
   ]
  },
  {
   "cell_type": "code",
   "execution_count": 10,
   "metadata": {},
   "outputs": [],
   "source": [
    "from oauth2client import file,client, tools\n",
    "from googleapiclient import discovery\n",
    "from httplib2 import Http"
   ]
  },
  {
   "cell_type": "code",
   "execution_count": 11,
   "metadata": {},
   "outputs": [],
   "source": [
    "## CONECTION TO DRIVE\n",
    "\n",
    "SCOPES = ['https://www.googleapis.com/auth/drive'\n",
    "        ]\n",
    "store = file.Storage('/Users/daniel/OAN/credentials/storage.json')\n",
    "creds = store.get()\n",
    "if not creds or creds.invalid:\n",
    "    flow = client.flow_from_clientsecrets('/Users/daniel/OAN/credentials/credentials.json', SCOPES)\n",
    "    creds = tools.run_flow(flow, store)\n",
    "drive_service = discovery.build('drive', 'v3', http=creds.authorize(Http()))"
   ]
  },
  {
   "cell_type": "code",
   "execution_count": 12,
   "metadata": {},
   "outputs": [],
   "source": [
    "sheet_service = discovery.build('sheets', 'v4', http=creds.authorize(Http()))"
   ]
  },
  {
   "cell_type": "code",
   "execution_count": 13,
   "metadata": {},
   "outputs": [],
   "source": [
    "def upload_to_drive(file,filename,mimetype,place,folder_id):\n",
    "    \n",
    "    \n",
    "    #metadatos del archivo\n",
    "    file_metadata = {\n",
    "        'name': filename,\n",
    "        'parents': folder_id\n",
    "    }\n",
    "    media = MediaFileUpload(file,\n",
    "                            mimetype=mimetype,\n",
    "                            resumable=True)\n",
    "    file = drive_service.files().create(body=file_metadata,\n",
    "                                        media_body=media,\n",
    "                                        supportsAllDrives=True,\n",
    "                                        fields='id').execute()\n",
    "    return file.get('id')"
   ]
  },
  {
   "cell_type": "markdown",
   "metadata": {},
   "source": [
    "## Accounting table"
   ]
  },
  {
   "cell_type": "markdown",
   "metadata": {},
   "source": [
    "### GET DATA"
   ]
  },
  {
   "cell_type": "code",
   "execution_count": 125,
   "metadata": {},
   "outputs": [],
   "source": [
    "#get all the collection\n",
    "col_query = db.collection('Accounting').stream()"
   ]
  },
  {
   "cell_type": "code",
   "execution_count": 126,
   "metadata": {},
   "outputs": [],
   "source": [
    "#save it in a list of dictionaries\n",
    "accounts = []\n",
    "for acc in col_query:\n",
    "    accounts.append(acc.to_dict())"
   ]
  },
  {
   "cell_type": "markdown",
   "metadata": {},
   "source": [
    "### UPLOAD FILRES TO DRIVE"
   ]
  },
  {
   "cell_type": "code",
   "execution_count": 13,
   "metadata": {},
   "outputs": [],
   "source": [
    "bucket = storage.bucket('oan-nikarit.appspot.com')"
   ]
  },
  {
   "cell_type": "code",
   "execution_count": 16,
   "metadata": {},
   "outputs": [],
   "source": [
    "blob = bucket.get_blob('products/WhatsApp Video 2020-02-20 at 12.23.42.mp4')"
   ]
  },
  {
   "cell_type": "code",
   "execution_count": 19,
   "metadata": {},
   "outputs": [
    {
     "data": {
      "text/plain": [
       "datetime.datetime(2021, 2, 24, 0, 0)"
      ]
     },
     "execution_count": 19,
     "metadata": {},
     "output_type": "execute_result"
    }
   ],
   "source": []
  },
  {
   "cell_type": "code",
   "execution_count": 20,
   "metadata": {},
   "outputs": [
    {
     "data": {
      "text/plain": [
       "'https://storage.googleapis.com/oan-nikarit.appspot.com/products/WhatsApp%20Video%202020-02-20%20at%2012.23.42.mp4?Expires=1614124800&GoogleAccessId=firebase-adminsdk-p9lf1%40oan-nikarit.iam.gserviceaccount.com&Signature=UwzmLdtmHMMOnhl7zJd5gMePJ7%2BhyutXzj%2BKWNTlK1Apg%2BxT81PdFmtck7fgHv62up2kH2K8cHG8LEg0%2BONqanjUvnB1ULWQQKF2M%2BWG4aSKYG3vGCW4GFZJmGe0uK81UOhu3gcW0YYEDSVS7%2BhadZxFq5euHkJlGS5mugohYuFCqVhykOcVd4d1fkzgGPeVs%2FBOo%2FzxbE9vj%2BY57y2dBQHjUpb%2BHfXb%2BEFstAf8Fbpu6SpLnlRaCuSkmTQkhm2OperGcio8wX%2FodZN7Jx6%2BdeIyNy9ekUeWYH2iyy8Ki4fQ01it63ahPjNXuhEN554WQ3n%2BmDCQN%2F9zYFtp406N4g%3D%3D'"
      ]
     },
     "execution_count": 20,
     "metadata": {},
     "output_type": "execute_result"
    }
   ],
   "source": [
    "blob.generate_signed_url(expiration=datetime(2021,2,24))"
   ]
  },
  {
   "cell_type": "code",
   "execution_count": null,
   "metadata": {},
   "outputs": [],
   "source": [
    "#Carpeta de CONTOAN en drive\n",
    "folder_id = {\n",
    "    'spain':['1jVtC7HA_4LnMKfJCtDKNmXWhFnepI8Rd'],\n",
    "    'benin':['1MwMSjForyIw_-ucg4_rCignPcBSmv6h0']\n",
    "}"
   ]
  },
  {
   "cell_type": "code",
   "execution_count": 89,
   "metadata": {},
   "outputs": [],
   "source": [
    "for account in accounts[2097:]:\n",
    "    if not(account['images']):\n",
    "        continue\n",
    "    elif 0<len(account['images']):\n",
    "        db_url = account['images'][0]['db_url']\n",
    "        if not(db_url == None):\n",
    "            doc_id = account['id']\n",
    "            ##TITULO DEL ARCHIVO A SUBIR\n",
    "            title=(account['execution_date'][0:4]+\n",
    "                     account['execution_date'][5:7]+\n",
    "                     account['execution_date'][8:10]+\n",
    "                     '_'+doc_id)\n",
    "            \n",
    "            file_root = 'facturas/'+title\n",
    "            #DESCARGAR EL ARCHIVO DE FIREBASE\n",
    "            blob = bucket.get_blob(db_url)\n",
    "            blob.download_to_filename(file_root)\n",
    "            \n",
    "            #detectar el mymetype (pdf,jpeg,png)\n",
    "            mimetype = magic.from_file(file_root,mime=True)\n",
    "            ##COGERLO\n",
    "            content_type = blob.content_type\n",
    "            \n",
    "            filename=title+mimetype.split('/')[1]\n",
    "            \n",
    "            #subir a drive\n",
    "            drive_id = upload_to_drive(file_root,\n",
    "                                       filename,\n",
    "                                       mimetype,folder_id[account['place']])\n",
    "            \n",
    "            ##actualizar documento en FIREBASE\n",
    "            \n",
    "            account['images'][0]['drive_id']=drive_id\n",
    "            account['images'][0]['drive_url']=\"https://drive.google.com/file/d/\"+drive_id+\"/view\"\n",
    "            new_images = account['images']\n",
    "            db.collection(u'Accounting').document(doc_id).update({'images':new_images})"
   ]
  },
  {
   "cell_type": "markdown",
   "metadata": {},
   "source": [
    "## SOLVE BIG CLEANING OF DB"
   ]
  },
  {
   "cell_type": "code",
   "execution_count": 12,
   "metadata": {},
   "outputs": [],
   "source": [
    "files_spain = []\n",
    "results = drive_service.files().list(q=\"'1jVtC7HA_4LnMKfJCtDKNmXWhFnepI8Rd' in parents\",\n",
    "                                     corpora='drive',\n",
    "                                     pageSize=500,\n",
    "                                     driveId = \"0AMTa4DNuUN_NUk9PVA\",\n",
    "                                     fields=\"nextPageToken, files(id, name)\",\n",
    "                                     includeItemsFromAllDrives=True,\n",
    "                                     supportsAllDrives=True).execute()\n",
    "items = results.get('files', [])\n",
    "\n",
    "if not items:\n",
    "    print('No files found.')\n",
    "else:\n",
    "    for item in items:\n",
    "        files_spain.append({\"name\":item['name'],\"drive_id\":item['id']})"
   ]
  },
  {
   "cell_type": "code",
   "execution_count": 13,
   "metadata": {},
   "outputs": [],
   "source": [
    "files_nikki = []\n",
    "results = drive_service.files().list(q=\"'1MwMSjForyIw_-ucg4_rCignPcBSmv6h0' in parents\",\n",
    "                                     corpora='drive',\n",
    "                                     pageSize=500,\n",
    "                                     driveId = \"0AMTa4DNuUN_NUk9PVA\",\n",
    "                                     fields=\"nextPageToken, files(id, name)\",\n",
    "                                     includeItemsFromAllDrives=True,\n",
    "                                     supportsAllDrives=True).execute()\n",
    "items = results.get('files', [])\n",
    "\n",
    "if not items:\n",
    "    print('No files found.')\n",
    "else:\n",
    "    for item in items:\n",
    "        files_nikki.append({\"name\":item['name'],\"drive_id\":item['id']})"
   ]
  },
  {
   "cell_type": "code",
   "execution_count": 14,
   "metadata": {},
   "outputs": [],
   "source": [
    "files_drive = files_nikki+files_spain"
   ]
  },
  {
   "cell_type": "code",
   "execution_count": 15,
   "metadata": {},
   "outputs": [
    {
     "data": {
      "text/plain": [
       "110"
      ]
     },
     "execution_count": 15,
     "metadata": {},
     "output_type": "execute_result"
    }
   ],
   "source": [
    "len(files_nikki)"
   ]
  },
  {
   "cell_type": "code",
   "execution_count": 16,
   "metadata": {},
   "outputs": [
    {
     "data": {
      "text/plain": [
       "101"
      ]
     },
     "execution_count": 16,
     "metadata": {},
     "output_type": "execute_result"
    }
   ],
   "source": [
    "len(files_spain)"
   ]
  },
  {
   "cell_type": "code",
   "execution_count": 17,
   "metadata": {},
   "outputs": [
    {
     "data": {
      "text/plain": [
       "211"
      ]
     },
     "execution_count": 17,
     "metadata": {},
     "output_type": "execute_result"
    }
   ],
   "source": [
    "len(files_drive)"
   ]
  },
  {
   "cell_type": "code",
   "execution_count": 18,
   "metadata": {},
   "outputs": [],
   "source": [
    "bucket = storage.bucket('oan-nikarit.appspot.com')"
   ]
  },
  {
   "cell_type": "code",
   "execution_count": 19,
   "metadata": {},
   "outputs": [],
   "source": [
    "blobs = []\n",
    "for blob in bucket.list_blobs():\n",
    "    blobs.append(blob)"
   ]
  },
  {
   "cell_type": "code",
   "execution_count": 460,
   "metadata": {},
   "outputs": [],
   "source": [
    "o = blobs[0]"
   ]
  },
  {
   "cell_type": "code",
   "execution_count": 461,
   "metadata": {},
   "outputs": [
    {
     "data": {
      "text/plain": [
       "{'firebaseStorageDownloadTokens': '53c1c740-3af5-4efc-8d1c-1668bbf2acce'}"
      ]
     },
     "execution_count": 461,
     "metadata": {},
     "output_type": "execute_result"
    }
   ],
   "source": [
    "o.metadata"
   ]
  },
  {
   "cell_type": "code",
   "execution_count": 20,
   "metadata": {},
   "outputs": [
    {
     "data": {
      "text/plain": [
       "344"
      ]
     },
     "execution_count": 20,
     "metadata": {},
     "output_type": "execute_result"
    }
   ],
   "source": [
    "len(blobs)"
   ]
  },
  {
   "cell_type": "code",
   "execution_count": 456,
   "metadata": {},
   "outputs": [
    {
     "data": {
      "text/plain": [
       "115"
      ]
     },
     "execution_count": 456,
     "metadata": {},
     "output_type": "execute_result"
    }
   ],
   "source": [
    "326-len(files_drive)"
   ]
  },
  {
   "cell_type": "code",
   "execution_count": 21,
   "metadata": {},
   "outputs": [],
   "source": [
    "ini=\"https://firebasestorage.googleapis.com/v0/b/\"\n",
    "nex=\"?alt=media&token=\"\n",
    "b_name = bucket.name"
   ]
  },
  {
   "cell_type": "code",
   "execution_count": 164,
   "metadata": {},
   "outputs": [],
   "source": [
    "l_blobs = [{'name':b.name,\n",
    "  'download_url': ini+b_name+ \"/o/\" + quote(b.name,safe='~()*!.\\'')+nex+b.metadata[\"firebaseStorageDownloadTokens\"],\n",
    "  'uuid':b.metadata[\"firebaseStorageDownloadTokens\"],\n",
    "  'creation_date':b.time_created.isoformat(),\n",
    "  'id_blob':b.id,\n",
    "  'folder':b.name.split('/')[0],\n",
    "  'storage_class':b.storage_class,\n",
    "  'size':b.size,\n",
    "  'content_type':b.content_type\n",
    "  } for b in blobs]"
   ]
  },
  {
   "cell_type": "code",
   "execution_count": 165,
   "metadata": {},
   "outputs": [],
   "source": [
    "df_blobs = pd.DataFrame(l_blobs)"
   ]
  },
  {
   "cell_type": "code",
   "execution_count": 24,
   "metadata": {},
   "outputs": [
    {
     "data": {
      "text/plain": [
       "image/jpeg         220\n",
       "application/pdf    101\n",
       "image/png           23\n",
       "Name: content_type, dtype: int64"
      ]
     },
     "execution_count": 24,
     "metadata": {},
     "output_type": "execute_result"
    }
   ],
   "source": [
    "df_blobs['content_type'].value_counts()"
   ]
  },
  {
   "cell_type": "code",
   "execution_count": 25,
   "metadata": {},
   "outputs": [
    {
     "data": {
      "text/plain": [
       "accounting    326\n",
       "users          10\n",
       "products        8\n",
       "Name: folder, dtype: int64"
      ]
     },
     "execution_count": 25,
     "metadata": {},
     "output_type": "execute_result"
    }
   ],
   "source": [
    "df_blobs['folder'].value_counts()"
   ]
  },
  {
   "cell_type": "code",
   "execution_count": 268,
   "metadata": {},
   "outputs": [
    {
     "data": {
      "text/html": [
       "<div>\n",
       "<style scoped>\n",
       "    .dataframe tbody tr th:only-of-type {\n",
       "        vertical-align: middle;\n",
       "    }\n",
       "\n",
       "    .dataframe tbody tr th {\n",
       "        vertical-align: top;\n",
       "    }\n",
       "\n",
       "    .dataframe thead th {\n",
       "        text-align: right;\n",
       "    }\n",
       "</style>\n",
       "<table border=\"1\" class=\"dataframe\">\n",
       "  <thead>\n",
       "    <tr style=\"text-align: right;\">\n",
       "      <th></th>\n",
       "      <th>name</th>\n",
       "      <th>download_url</th>\n",
       "      <th>uuid</th>\n",
       "      <th>creation_date</th>\n",
       "      <th>id_blob</th>\n",
       "      <th>folder</th>\n",
       "      <th>storage_class</th>\n",
       "      <th>size</th>\n",
       "      <th>content_type</th>\n",
       "    </tr>\n",
       "  </thead>\n",
       "  <tbody>\n",
       "    <tr>\n",
       "      <th>0</th>\n",
       "      <td>accounting/20201010104530</td>\n",
       "      <td>https://firebasestorage.googleapis.com/v0/b/oa...</td>\n",
       "      <td>53c1c740-3af5-4efc-8d1c-1668bbf2acce</td>\n",
       "      <td>2020-11-10T09:45:32.909000+00:00</td>\n",
       "      <td>oan-nikarit.appspot.com/accounting/20201010104...</td>\n",
       "      <td>accounting</td>\n",
       "      <td>STANDARD</td>\n",
       "      <td>306536</td>\n",
       "      <td>application/pdf</td>\n",
       "    </tr>\n",
       "    <tr>\n",
       "      <th>1</th>\n",
       "      <td>accounting/20201010105833</td>\n",
       "      <td>https://firebasestorage.googleapis.com/v0/b/oa...</td>\n",
       "      <td>682fa416-5dd5-4f31-8006-faf0831ba499</td>\n",
       "      <td>2020-11-10T09:58:35.845000+00:00</td>\n",
       "      <td>oan-nikarit.appspot.com/accounting/20201010105...</td>\n",
       "      <td>accounting</td>\n",
       "      <td>STANDARD</td>\n",
       "      <td>6572933</td>\n",
       "      <td>image/jpeg</td>\n",
       "    </tr>\n",
       "    <tr>\n",
       "      <th>2</th>\n",
       "      <td>accounting/20201010105859</td>\n",
       "      <td>https://firebasestorage.googleapis.com/v0/b/oa...</td>\n",
       "      <td>5528bde0-d07c-4e74-b0de-042cbee65a75</td>\n",
       "      <td>2020-11-10T09:59:01.441000+00:00</td>\n",
       "      <td>oan-nikarit.appspot.com/accounting/20201010105...</td>\n",
       "      <td>accounting</td>\n",
       "      <td>STANDARD</td>\n",
       "      <td>5927892</td>\n",
       "      <td>image/jpeg</td>\n",
       "    </tr>\n",
       "    <tr>\n",
       "      <th>3</th>\n",
       "      <td>accounting/2020101011131</td>\n",
       "      <td>https://firebasestorage.googleapis.com/v0/b/oa...</td>\n",
       "      <td>79397969-c1b5-4313-8108-989139d1627b</td>\n",
       "      <td>2020-11-10T10:13:04.034000+00:00</td>\n",
       "      <td>oan-nikarit.appspot.com/accounting/20201010111...</td>\n",
       "      <td>accounting</td>\n",
       "      <td>STANDARD</td>\n",
       "      <td>5680962</td>\n",
       "      <td>image/jpeg</td>\n",
       "    </tr>\n",
       "    <tr>\n",
       "      <th>4</th>\n",
       "      <td>accounting/20201017164233</td>\n",
       "      <td>https://firebasestorage.googleapis.com/v0/b/oa...</td>\n",
       "      <td>ef86a7b6-dea3-41c3-8314-42d5744039e5</td>\n",
       "      <td>2020-11-17T15:42:51.826000+00:00</td>\n",
       "      <td>oan-nikarit.appspot.com/accounting/20201017164...</td>\n",
       "      <td>accounting</td>\n",
       "      <td>STANDARD</td>\n",
       "      <td>4313048</td>\n",
       "      <td>image/jpeg</td>\n",
       "    </tr>\n",
       "    <tr>\n",
       "      <th>...</th>\n",
       "      <td>...</td>\n",
       "      <td>...</td>\n",
       "      <td>...</td>\n",
       "      <td>...</td>\n",
       "      <td>...</td>\n",
       "      <td>...</td>\n",
       "      <td>...</td>\n",
       "      <td>...</td>\n",
       "      <td>...</td>\n",
       "    </tr>\n",
       "    <tr>\n",
       "      <th>339</th>\n",
       "      <td>users/202042415524</td>\n",
       "      <td>https://firebasestorage.googleapis.com/v0/b/oa...</td>\n",
       "      <td>bde165a5-f981-4b31-879c-49c02d524d29</td>\n",
       "      <td>2020-05-24T13:05:26.813000+00:00</td>\n",
       "      <td>oan-nikarit.appspot.com/users/202042415524/159...</td>\n",
       "      <td>users</td>\n",
       "      <td>STANDARD</td>\n",
       "      <td>603018</td>\n",
       "      <td>image/png</td>\n",
       "    </tr>\n",
       "    <tr>\n",
       "      <th>340</th>\n",
       "      <td>users/202048171826</td>\n",
       "      <td>https://firebasestorage.googleapis.com/v0/b/oa...</td>\n",
       "      <td>80e1bd99-dabc-452c-8410-11cf06b1b75d</td>\n",
       "      <td>2020-05-08T15:18:27.402000+00:00</td>\n",
       "      <td>oan-nikarit.appspot.com/users/202048171826/158...</td>\n",
       "      <td>users</td>\n",
       "      <td>STANDARD</td>\n",
       "      <td>133665</td>\n",
       "      <td>image/jpeg</td>\n",
       "    </tr>\n",
       "    <tr>\n",
       "      <th>341</th>\n",
       "      <td>users/20204817198</td>\n",
       "      <td>https://firebasestorage.googleapis.com/v0/b/oa...</td>\n",
       "      <td>65830e45-68c6-43af-bb1a-977b4f6e5fd8</td>\n",
       "      <td>2020-05-08T15:19:08.822000+00:00</td>\n",
       "      <td>oan-nikarit.appspot.com/users/20204817198/1588...</td>\n",
       "      <td>users</td>\n",
       "      <td>STANDARD</td>\n",
       "      <td>128825</td>\n",
       "      <td>image/jpeg</td>\n",
       "    </tr>\n",
       "    <tr>\n",
       "      <th>342</th>\n",
       "      <td>users/2020828112911</td>\n",
       "      <td>https://firebasestorage.googleapis.com/v0/b/oa...</td>\n",
       "      <td>bc312e96-4659-4068-9b43-4beb0a82c0ea</td>\n",
       "      <td>2020-09-28T10:29:36.671000+00:00</td>\n",
       "      <td>oan-nikarit.appspot.com/users/2020828112911/16...</td>\n",
       "      <td>users</td>\n",
       "      <td>STANDARD</td>\n",
       "      <td>4373480</td>\n",
       "      <td>image/jpeg</td>\n",
       "    </tr>\n",
       "    <tr>\n",
       "      <th>343</th>\n",
       "      <td>users/2021016212451</td>\n",
       "      <td>https://firebasestorage.googleapis.com/v0/b/oa...</td>\n",
       "      <td>495a6244-8e01-4080-8ee0-3493c5acc291</td>\n",
       "      <td>2021-01-16T20:24:57.710000+00:00</td>\n",
       "      <td>oan-nikarit.appspot.com/users/2021016212451/16...</td>\n",
       "      <td>users</td>\n",
       "      <td>STANDARD</td>\n",
       "      <td>1841575</td>\n",
       "      <td>image/jpeg</td>\n",
       "    </tr>\n",
       "  </tbody>\n",
       "</table>\n",
       "<p>344 rows × 9 columns</p>\n",
       "</div>"
      ],
      "text/plain": [
       "                          name  \\\n",
       "0    accounting/20201010104530   \n",
       "1    accounting/20201010105833   \n",
       "2    accounting/20201010105859   \n",
       "3     accounting/2020101011131   \n",
       "4    accounting/20201017164233   \n",
       "..                         ...   \n",
       "339         users/202042415524   \n",
       "340         users/202048171826   \n",
       "341          users/20204817198   \n",
       "342        users/2020828112911   \n",
       "343        users/2021016212451   \n",
       "\n",
       "                                          download_url  \\\n",
       "0    https://firebasestorage.googleapis.com/v0/b/oa...   \n",
       "1    https://firebasestorage.googleapis.com/v0/b/oa...   \n",
       "2    https://firebasestorage.googleapis.com/v0/b/oa...   \n",
       "3    https://firebasestorage.googleapis.com/v0/b/oa...   \n",
       "4    https://firebasestorage.googleapis.com/v0/b/oa...   \n",
       "..                                                 ...   \n",
       "339  https://firebasestorage.googleapis.com/v0/b/oa...   \n",
       "340  https://firebasestorage.googleapis.com/v0/b/oa...   \n",
       "341  https://firebasestorage.googleapis.com/v0/b/oa...   \n",
       "342  https://firebasestorage.googleapis.com/v0/b/oa...   \n",
       "343  https://firebasestorage.googleapis.com/v0/b/oa...   \n",
       "\n",
       "                                     uuid                     creation_date  \\\n",
       "0    53c1c740-3af5-4efc-8d1c-1668bbf2acce  2020-11-10T09:45:32.909000+00:00   \n",
       "1    682fa416-5dd5-4f31-8006-faf0831ba499  2020-11-10T09:58:35.845000+00:00   \n",
       "2    5528bde0-d07c-4e74-b0de-042cbee65a75  2020-11-10T09:59:01.441000+00:00   \n",
       "3    79397969-c1b5-4313-8108-989139d1627b  2020-11-10T10:13:04.034000+00:00   \n",
       "4    ef86a7b6-dea3-41c3-8314-42d5744039e5  2020-11-17T15:42:51.826000+00:00   \n",
       "..                                    ...                               ...   \n",
       "339  bde165a5-f981-4b31-879c-49c02d524d29  2020-05-24T13:05:26.813000+00:00   \n",
       "340  80e1bd99-dabc-452c-8410-11cf06b1b75d  2020-05-08T15:18:27.402000+00:00   \n",
       "341  65830e45-68c6-43af-bb1a-977b4f6e5fd8  2020-05-08T15:19:08.822000+00:00   \n",
       "342  bc312e96-4659-4068-9b43-4beb0a82c0ea  2020-09-28T10:29:36.671000+00:00   \n",
       "343  495a6244-8e01-4080-8ee0-3493c5acc291  2021-01-16T20:24:57.710000+00:00   \n",
       "\n",
       "                                               id_blob      folder  \\\n",
       "0    oan-nikarit.appspot.com/accounting/20201010104...  accounting   \n",
       "1    oan-nikarit.appspot.com/accounting/20201010105...  accounting   \n",
       "2    oan-nikarit.appspot.com/accounting/20201010105...  accounting   \n",
       "3    oan-nikarit.appspot.com/accounting/20201010111...  accounting   \n",
       "4    oan-nikarit.appspot.com/accounting/20201017164...  accounting   \n",
       "..                                                 ...         ...   \n",
       "339  oan-nikarit.appspot.com/users/202042415524/159...       users   \n",
       "340  oan-nikarit.appspot.com/users/202048171826/158...       users   \n",
       "341  oan-nikarit.appspot.com/users/20204817198/1588...       users   \n",
       "342  oan-nikarit.appspot.com/users/2020828112911/16...       users   \n",
       "343  oan-nikarit.appspot.com/users/2021016212451/16...       users   \n",
       "\n",
       "    storage_class     size     content_type  \n",
       "0        STANDARD   306536  application/pdf  \n",
       "1        STANDARD  6572933       image/jpeg  \n",
       "2        STANDARD  5927892       image/jpeg  \n",
       "3        STANDARD  5680962       image/jpeg  \n",
       "4        STANDARD  4313048       image/jpeg  \n",
       "..            ...      ...              ...  \n",
       "339      STANDARD   603018        image/png  \n",
       "340      STANDARD   133665       image/jpeg  \n",
       "341      STANDARD   128825       image/jpeg  \n",
       "342      STANDARD  4373480       image/jpeg  \n",
       "343      STANDARD  1841575       image/jpeg  \n",
       "\n",
       "[344 rows x 9 columns]"
      ]
     },
     "execution_count": 268,
     "metadata": {},
     "output_type": "execute_result"
    }
   ],
   "source": [
    "df_blobs"
   ]
  },
  {
   "cell_type": "code",
   "execution_count": 284,
   "metadata": {},
   "outputs": [],
   "source": [
    "df_blobs_gbq = pd.merge(df_blobs,accounting[['id','drive_url','download_url']],on='download_url',how='left')"
   ]
  },
  {
   "cell_type": "markdown",
   "metadata": {},
   "source": [
    "#### NOT MATCH"
   ]
  },
  {
   "cell_type": "code",
   "execution_count": 336,
   "metadata": {},
   "outputs": [],
   "source": [
    "not_match = df_blobs_gbq[(df_blobs_gbq['folder']=='accounting') &\n",
    "             (df_blobs_gbq['id'].isna())]"
   ]
  },
  {
   "cell_type": "code",
   "execution_count": 337,
   "metadata": {},
   "outputs": [],
   "source": [
    "not_match_names = df_blobs_gbq[(df_blobs_gbq['folder']=='accounting') &\n",
    "             (df_blobs_gbq['id'].isna())]['name'].to_list()"
   ]
  },
  {
   "cell_type": "code",
   "execution_count": 457,
   "metadata": {},
   "outputs": [
    {
     "data": {
      "text/plain": [
       "(114, 11)"
      ]
     },
     "execution_count": 457,
     "metadata": {},
     "output_type": "execute_result"
    }
   ],
   "source": [
    "not_match.shape"
   ]
  },
  {
   "cell_type": "markdown",
   "metadata": {},
   "source": [
    "### ONE TO ONE"
   ]
  },
  {
   "cell_type": "code",
   "execution_count": 393,
   "metadata": {},
   "outputs": [
    {
     "data": {
      "text/html": [
       "<div>\n",
       "<style scoped>\n",
       "    .dataframe tbody tr th:only-of-type {\n",
       "        vertical-align: middle;\n",
       "    }\n",
       "\n",
       "    .dataframe tbody tr th {\n",
       "        vertical-align: top;\n",
       "    }\n",
       "\n",
       "    .dataframe thead th {\n",
       "        text-align: right;\n",
       "    }\n",
       "</style>\n",
       "<table border=\"1\" class=\"dataframe\">\n",
       "  <thead>\n",
       "    <tr style=\"text-align: right;\">\n",
       "      <th></th>\n",
       "      <th>name</th>\n",
       "      <th>download_url</th>\n",
       "      <th>uuid</th>\n",
       "      <th>creation_date</th>\n",
       "      <th>id_blob</th>\n",
       "      <th>folder</th>\n",
       "      <th>storage_class</th>\n",
       "      <th>size</th>\n",
       "      <th>content_type</th>\n",
       "      <th>id</th>\n",
       "      <th>drive_url</th>\n",
       "    </tr>\n",
       "  </thead>\n",
       "  <tbody>\n",
       "    <tr>\n",
       "      <th>325</th>\n",
       "      <td>accounting/20210920292820203112_etiqueta_prods</td>\n",
       "      <td>https://firebasestorage.googleapis.com/v0/b/oa...</td>\n",
       "      <td>6d2d0595-3695-4610-b51e-4c8698968404</td>\n",
       "      <td>2021-01-09T19:29:29.154000+00:00</td>\n",
       "      <td>oan-nikarit.appspot.com/accounting/20210920292...</td>\n",
       "      <td>accounting</td>\n",
       "      <td>STANDARD</td>\n",
       "      <td>185269</td>\n",
       "      <td>application/pdf</td>\n",
       "      <td>NaN</td>\n",
       "      <td>NaN</td>\n",
       "    </tr>\n",
       "  </tbody>\n",
       "</table>\n",
       "</div>"
      ],
      "text/plain": [
       "                                               name  \\\n",
       "325  accounting/20210920292820203112_etiqueta_prods   \n",
       "\n",
       "                                          download_url  \\\n",
       "325  https://firebasestorage.googleapis.com/v0/b/oa...   \n",
       "\n",
       "                                     uuid                     creation_date  \\\n",
       "325  6d2d0595-3695-4610-b51e-4c8698968404  2021-01-09T19:29:29.154000+00:00   \n",
       "\n",
       "                                               id_blob      folder  \\\n",
       "325  oan-nikarit.appspot.com/accounting/20210920292...  accounting   \n",
       "\n",
       "    storage_class    size     content_type   id drive_url  \n",
       "325      STANDARD  185269  application/pdf  NaN       NaN  "
      ]
     },
     "execution_count": 393,
     "metadata": {},
     "output_type": "execute_result"
    }
   ],
   "source": [
    "not_match[\"2021-01-08\" < not_match['creation_date'].apply(str).str[0:10]]"
   ]
  },
  {
   "cell_type": "code",
   "execution_count": 394,
   "metadata": {},
   "outputs": [
    {
     "data": {
      "text/plain": [
       "{'code': 2577,\n",
       " 'images': [{'file': {},\n",
       "   'drive_id': '11OKED_pOgH_GRj8HX__dPnyTyeJ5PblF',\n",
       "   'drive_url': 'https://drive.google.com/file/d/1YoG52-30QSgi7GIdO0ZuTAMP2CAOP5RE/view',\n",
       "   'db_url': nan,\n",
       "   'download_url': nan,\n",
       "   'img_url': ''}],\n",
       " 'concept': 'Etiquetas de manteca edición navidad',\n",
       " 'origin': 'contoan',\n",
       " 'place': 'spain',\n",
       " 'id': 'RW3jGJJfia811blYOBVW',\n",
       " 'type': 'expense',\n",
       " 'execution_date': '2020-12-31T20:22:45.982+01:00',\n",
       " 'project': '0DmODGTOEiM5lg9SGx0J',\n",
       " 'creation_date': '2021-01-09T19:22:45.982Z',\n",
       " 'user_in_charge': 'exFnSrTD3fykjKbfaAvt',\n",
       " 'intervention': 'w04441aFcU5b7pQm6Rd2',\n",
       " 'amount': 26.62,\n",
       " 'description': '50 etiquetas',\n",
       " 'vat_amount': 4.619999999999999,\n",
       " 'account_id': 'WVxyN2FodiVUq7uDkEmc',\n",
       " 'creator_user': 'z5m936GA0t3vHM28QKhR',\n",
       " 'target_id': 'vJbbj1kPxkcdXJyBOf1l',\n",
       " 'phase': 'gtjyWLZn07xtj3ZdZcZ5',\n",
       " 'vat': 21}"
      ]
     },
     "execution_count": 394,
     "metadata": {},
     "output_type": "execute_result"
    }
   ],
   "source": [
    "db.collection('Accounting').document('RW3jGJJfia811blYOBVW').get().to_dict()"
   ]
  },
  {
   "cell_type": "code",
   "execution_count": 395,
   "metadata": {},
   "outputs": [
    {
     "data": {
      "text/plain": [
       "(114, 11)"
      ]
     },
     "execution_count": 395,
     "metadata": {},
     "output_type": "execute_result"
    }
   ],
   "source": [
    "not_match.shape"
   ]
  },
  {
   "cell_type": "code",
   "execution_count": 385,
   "metadata": {},
   "outputs": [
    {
     "data": {
      "text/html": [
       "<div>\n",
       "<style scoped>\n",
       "    .dataframe tbody tr th:only-of-type {\n",
       "        vertical-align: middle;\n",
       "    }\n",
       "\n",
       "    .dataframe tbody tr th {\n",
       "        vertical-align: top;\n",
       "    }\n",
       "\n",
       "    .dataframe thead th {\n",
       "        text-align: right;\n",
       "    }\n",
       "</style>\n",
       "<table border=\"1\" class=\"dataframe\">\n",
       "  <thead>\n",
       "    <tr style=\"text-align: right;\">\n",
       "      <th></th>\n",
       "      <th>name</th>\n",
       "      <th>download_url</th>\n",
       "      <th>uuid</th>\n",
       "      <th>creation_date</th>\n",
       "      <th>id_blob</th>\n",
       "      <th>folder</th>\n",
       "      <th>storage_class</th>\n",
       "      <th>size</th>\n",
       "      <th>content_type</th>\n",
       "      <th>id</th>\n",
       "      <th>drive_url</th>\n",
       "    </tr>\n",
       "  </thead>\n",
       "  <tbody>\n",
       "    <tr>\n",
       "      <th>2</th>\n",
       "      <td>accounting/20201010105859</td>\n",
       "      <td>https://firebasestorage.googleapis.com/v0/b/oa...</td>\n",
       "      <td>5528bde0-d07c-4e74-b0de-042cbee65a75</td>\n",
       "      <td>2020-11-10T09:59:01.441000+00:00</td>\n",
       "      <td>oan-nikarit.appspot.com/accounting/20201010105...</td>\n",
       "      <td>accounting</td>\n",
       "      <td>STANDARD</td>\n",
       "      <td>5927892</td>\n",
       "      <td>image/jpeg</td>\n",
       "      <td>NaN</td>\n",
       "      <td>NaN</td>\n",
       "    </tr>\n",
       "    <tr>\n",
       "      <th>3</th>\n",
       "      <td>accounting/2020101011131</td>\n",
       "      <td>https://firebasestorage.googleapis.com/v0/b/oa...</td>\n",
       "      <td>79397969-c1b5-4313-8108-989139d1627b</td>\n",
       "      <td>2020-11-10T10:13:04.034000+00:00</td>\n",
       "      <td>oan-nikarit.appspot.com/accounting/20201010111...</td>\n",
       "      <td>accounting</td>\n",
       "      <td>STANDARD</td>\n",
       "      <td>5680962</td>\n",
       "      <td>image/jpeg</td>\n",
       "      <td>NaN</td>\n",
       "      <td>NaN</td>\n",
       "    </tr>\n",
       "    <tr>\n",
       "      <th>6</th>\n",
       "      <td>accounting/20201017165322</td>\n",
       "      <td>https://firebasestorage.googleapis.com/v0/b/oa...</td>\n",
       "      <td>cf3ffa22-87cc-44a4-89b3-1cbddf045f24</td>\n",
       "      <td>2020-11-17T15:53:45.648000+00:00</td>\n",
       "      <td>oan-nikarit.appspot.com/accounting/20201017165...</td>\n",
       "      <td>accounting</td>\n",
       "      <td>STANDARD</td>\n",
       "      <td>2922767</td>\n",
       "      <td>image/jpeg</td>\n",
       "      <td>NaN</td>\n",
       "      <td>NaN</td>\n",
       "    </tr>\n",
       "    <tr>\n",
       "      <th>7</th>\n",
       "      <td>accounting/20201017165818</td>\n",
       "      <td>https://firebasestorage.googleapis.com/v0/b/oa...</td>\n",
       "      <td>f54a768e-9ead-42c8-ac7b-4b7ec49974f7</td>\n",
       "      <td>2020-11-17T15:58:46.110000+00:00</td>\n",
       "      <td>oan-nikarit.appspot.com/accounting/20201017165...</td>\n",
       "      <td>accounting</td>\n",
       "      <td>STANDARD</td>\n",
       "      <td>2922767</td>\n",
       "      <td>image/jpeg</td>\n",
       "      <td>NaN</td>\n",
       "      <td>NaN</td>\n",
       "    </tr>\n",
       "    <tr>\n",
       "      <th>9</th>\n",
       "      <td>accounting/20201017171729</td>\n",
       "      <td>https://firebasestorage.googleapis.com/v0/b/oa...</td>\n",
       "      <td>f1ed7ee0-d898-451d-8050-1d4c9166559d</td>\n",
       "      <td>2020-11-17T16:18:12.502000+00:00</td>\n",
       "      <td>oan-nikarit.appspot.com/accounting/20201017171...</td>\n",
       "      <td>accounting</td>\n",
       "      <td>STANDARD</td>\n",
       "      <td>4946104</td>\n",
       "      <td>image/jpeg</td>\n",
       "      <td>NaN</td>\n",
       "      <td>NaN</td>\n",
       "    </tr>\n",
       "    <tr>\n",
       "      <th>...</th>\n",
       "      <td>...</td>\n",
       "      <td>...</td>\n",
       "      <td>...</td>\n",
       "      <td>...</td>\n",
       "      <td>...</td>\n",
       "      <td>...</td>\n",
       "      <td>...</td>\n",
       "      <td>...</td>\n",
       "      <td>...</td>\n",
       "      <td>...</td>\n",
       "      <td>...</td>\n",
       "    </tr>\n",
       "    <tr>\n",
       "      <th>280</th>\n",
       "      <td>accounting/20208714317</td>\n",
       "      <td>https://firebasestorage.googleapis.com/v0/b/oa...</td>\n",
       "      <td>5e25e92e-a0a2-4a3e-80fc-e611f34c9564</td>\n",
       "      <td>2020-09-07T12:03:18.641000+00:00</td>\n",
       "      <td>oan-nikarit.appspot.com/accounting/20208714317...</td>\n",
       "      <td>accounting</td>\n",
       "      <td>STANDARD</td>\n",
       "      <td>115390</td>\n",
       "      <td>image/png</td>\n",
       "      <td>NaN</td>\n",
       "      <td>NaN</td>\n",
       "    </tr>\n",
       "    <tr>\n",
       "      <th>290</th>\n",
       "      <td>accounting/2020911421</td>\n",
       "      <td>https://firebasestorage.googleapis.com/v0/b/oa...</td>\n",
       "      <td>d58b93fd-81c9-40d9-9b98-c6764a1ece4f</td>\n",
       "      <td>2020-09-30T23:04:23.358000+00:00</td>\n",
       "      <td>oan-nikarit.appspot.com/accounting/2020911421/...</td>\n",
       "      <td>accounting</td>\n",
       "      <td>STANDARD</td>\n",
       "      <td>119466</td>\n",
       "      <td>application/pdf</td>\n",
       "      <td>NaN</td>\n",
       "      <td>NaN</td>\n",
       "    </tr>\n",
       "    <tr>\n",
       "      <th>292</th>\n",
       "      <td>accounting/202091513349</td>\n",
       "      <td>https://firebasestorage.googleapis.com/v0/b/oa...</td>\n",
       "      <td>5fb189fe-f9c8-407a-b4fb-012e5b566657</td>\n",
       "      <td>2020-10-14T23:33:51.812000+00:00</td>\n",
       "      <td>oan-nikarit.appspot.com/accounting/20209151334...</td>\n",
       "      <td>accounting</td>\n",
       "      <td>STANDARD</td>\n",
       "      <td>4002789</td>\n",
       "      <td>image/jpeg</td>\n",
       "      <td>NaN</td>\n",
       "      <td>NaN</td>\n",
       "    </tr>\n",
       "    <tr>\n",
       "      <th>293</th>\n",
       "      <td>accounting/202091513710</td>\n",
       "      <td>https://firebasestorage.googleapis.com/v0/b/oa...</td>\n",
       "      <td>9ce83fd2-558a-4f78-a2a2-a3cd212b870f</td>\n",
       "      <td>2020-10-14T23:37:11.036000+00:00</td>\n",
       "      <td>oan-nikarit.appspot.com/accounting/20209151371...</td>\n",
       "      <td>accounting</td>\n",
       "      <td>STANDARD</td>\n",
       "      <td>152749</td>\n",
       "      <td>image/png</td>\n",
       "      <td>NaN</td>\n",
       "      <td>NaN</td>\n",
       "    </tr>\n",
       "    <tr>\n",
       "      <th>296</th>\n",
       "      <td>accounting/20209158460</td>\n",
       "      <td>https://firebasestorage.googleapis.com/v0/b/oa...</td>\n",
       "      <td>354b73f2-1e1a-494e-9dfe-2b8afc252f40</td>\n",
       "      <td>2020-10-15T06:46:02.860000+00:00</td>\n",
       "      <td>oan-nikarit.appspot.com/accounting/20209158460...</td>\n",
       "      <td>accounting</td>\n",
       "      <td>STANDARD</td>\n",
       "      <td>4002789</td>\n",
       "      <td>image/jpeg</td>\n",
       "      <td>NaN</td>\n",
       "      <td>NaN</td>\n",
       "    </tr>\n",
       "  </tbody>\n",
       "</table>\n",
       "<p>110 rows × 11 columns</p>\n",
       "</div>"
      ],
      "text/plain": [
       "                          name  \\\n",
       "2    accounting/20201010105859   \n",
       "3     accounting/2020101011131   \n",
       "6    accounting/20201017165322   \n",
       "7    accounting/20201017165818   \n",
       "9    accounting/20201017171729   \n",
       "..                         ...   \n",
       "280     accounting/20208714317   \n",
       "290      accounting/2020911421   \n",
       "292    accounting/202091513349   \n",
       "293    accounting/202091513710   \n",
       "296     accounting/20209158460   \n",
       "\n",
       "                                          download_url  \\\n",
       "2    https://firebasestorage.googleapis.com/v0/b/oa...   \n",
       "3    https://firebasestorage.googleapis.com/v0/b/oa...   \n",
       "6    https://firebasestorage.googleapis.com/v0/b/oa...   \n",
       "7    https://firebasestorage.googleapis.com/v0/b/oa...   \n",
       "9    https://firebasestorage.googleapis.com/v0/b/oa...   \n",
       "..                                                 ...   \n",
       "280  https://firebasestorage.googleapis.com/v0/b/oa...   \n",
       "290  https://firebasestorage.googleapis.com/v0/b/oa...   \n",
       "292  https://firebasestorage.googleapis.com/v0/b/oa...   \n",
       "293  https://firebasestorage.googleapis.com/v0/b/oa...   \n",
       "296  https://firebasestorage.googleapis.com/v0/b/oa...   \n",
       "\n",
       "                                     uuid                     creation_date  \\\n",
       "2    5528bde0-d07c-4e74-b0de-042cbee65a75  2020-11-10T09:59:01.441000+00:00   \n",
       "3    79397969-c1b5-4313-8108-989139d1627b  2020-11-10T10:13:04.034000+00:00   \n",
       "6    cf3ffa22-87cc-44a4-89b3-1cbddf045f24  2020-11-17T15:53:45.648000+00:00   \n",
       "7    f54a768e-9ead-42c8-ac7b-4b7ec49974f7  2020-11-17T15:58:46.110000+00:00   \n",
       "9    f1ed7ee0-d898-451d-8050-1d4c9166559d  2020-11-17T16:18:12.502000+00:00   \n",
       "..                                    ...                               ...   \n",
       "280  5e25e92e-a0a2-4a3e-80fc-e611f34c9564  2020-09-07T12:03:18.641000+00:00   \n",
       "290  d58b93fd-81c9-40d9-9b98-c6764a1ece4f  2020-09-30T23:04:23.358000+00:00   \n",
       "292  5fb189fe-f9c8-407a-b4fb-012e5b566657  2020-10-14T23:33:51.812000+00:00   \n",
       "293  9ce83fd2-558a-4f78-a2a2-a3cd212b870f  2020-10-14T23:37:11.036000+00:00   \n",
       "296  354b73f2-1e1a-494e-9dfe-2b8afc252f40  2020-10-15T06:46:02.860000+00:00   \n",
       "\n",
       "                                               id_blob      folder  \\\n",
       "2    oan-nikarit.appspot.com/accounting/20201010105...  accounting   \n",
       "3    oan-nikarit.appspot.com/accounting/20201010111...  accounting   \n",
       "6    oan-nikarit.appspot.com/accounting/20201017165...  accounting   \n",
       "7    oan-nikarit.appspot.com/accounting/20201017165...  accounting   \n",
       "9    oan-nikarit.appspot.com/accounting/20201017171...  accounting   \n",
       "..                                                 ...         ...   \n",
       "280  oan-nikarit.appspot.com/accounting/20208714317...  accounting   \n",
       "290  oan-nikarit.appspot.com/accounting/2020911421/...  accounting   \n",
       "292  oan-nikarit.appspot.com/accounting/20209151334...  accounting   \n",
       "293  oan-nikarit.appspot.com/accounting/20209151371...  accounting   \n",
       "296  oan-nikarit.appspot.com/accounting/20209158460...  accounting   \n",
       "\n",
       "    storage_class     size     content_type   id drive_url  \n",
       "2        STANDARD  5927892       image/jpeg  NaN       NaN  \n",
       "3        STANDARD  5680962       image/jpeg  NaN       NaN  \n",
       "6        STANDARD  2922767       image/jpeg  NaN       NaN  \n",
       "7        STANDARD  2922767       image/jpeg  NaN       NaN  \n",
       "9        STANDARD  4946104       image/jpeg  NaN       NaN  \n",
       "..            ...      ...              ...  ...       ...  \n",
       "280      STANDARD   115390        image/png  NaN       NaN  \n",
       "290      STANDARD   119466  application/pdf  NaN       NaN  \n",
       "292      STANDARD  4002789       image/jpeg  NaN       NaN  \n",
       "293      STANDARD   152749        image/png  NaN       NaN  \n",
       "296      STANDARD  4002789       image/jpeg  NaN       NaN  \n",
       "\n",
       "[110 rows x 11 columns]"
      ]
     },
     "execution_count": 385,
     "metadata": {},
     "output_type": "execute_result"
    }
   ],
   "source": [
    "not_match[:-4]"
   ]
  },
  {
   "cell_type": "code",
   "execution_count": 389,
   "metadata": {},
   "outputs": [
    {
     "data": {
      "text/plain": [
       "name                                       accounting/202091513710\n",
       "download_url     https://firebasestorage.googleapis.com/v0/b/oa...\n",
       "uuid                          9ce83fd2-558a-4f78-a2a2-a3cd212b870f\n",
       "creation_date                     2020-10-14T23:37:11.036000+00:00\n",
       "id_blob          oan-nikarit.appspot.com/accounting/20209151371...\n",
       "folder                                                  accounting\n",
       "storage_class                                             STANDARD\n",
       "size                                                        152749\n",
       "content_type                                             image/png\n",
       "id                                                             NaN\n",
       "drive_url                                                      NaN\n",
       "Name: 293, dtype: object"
      ]
     },
     "execution_count": 389,
     "metadata": {},
     "output_type": "execute_result"
    }
   ],
   "source": [
    "c1 = not_match.loc[293]\n",
    "c1"
   ]
  },
  {
   "cell_type": "code",
   "execution_count": 390,
   "metadata": {},
   "outputs": [
    {
     "data": {
      "text/plain": [
       "'https://firebasestorage.googleapis.com/v0/b/oan-nikarit.appspot.com/o/accounting%2F202091513710?alt=media&token=9ce83fd2-558a-4f78-a2a2-a3cd212b870f'"
      ]
     },
     "execution_count": 390,
     "metadata": {},
     "output_type": "execute_result"
    }
   ],
   "source": [
    "c1['download_url']"
   ]
  },
  {
   "cell_type": "code",
   "execution_count": 391,
   "metadata": {},
   "outputs": [
    {
     "data": {
      "text/plain": [
       "'accounting/202091513710'"
      ]
     },
     "execution_count": 391,
     "metadata": {},
     "output_type": "execute_result"
    }
   ],
   "source": [
    "c1['name']"
   ]
  },
  {
   "cell_type": "code",
   "execution_count": 392,
   "metadata": {},
   "outputs": [
    {
     "data": {
      "text/html": [
       "<div>\n",
       "<style scoped>\n",
       "    .dataframe tbody tr th:only-of-type {\n",
       "        vertical-align: middle;\n",
       "    }\n",
       "\n",
       "    .dataframe tbody tr th {\n",
       "        vertical-align: top;\n",
       "    }\n",
       "\n",
       "    .dataframe thead th {\n",
       "        text-align: right;\n",
       "    }\n",
       "</style>\n",
       "<table border=\"1\" class=\"dataframe\">\n",
       "  <thead>\n",
       "    <tr style=\"text-align: right;\">\n",
       "      <th></th>\n",
       "      <th>images</th>\n",
       "      <th>creation_date</th>\n",
       "      <th>user_in_charge</th>\n",
       "      <th>code</th>\n",
       "      <th>account_id</th>\n",
       "      <th>vat_amount</th>\n",
       "      <th>intervention</th>\n",
       "      <th>project</th>\n",
       "      <th>id</th>\n",
       "      <th>concept</th>\n",
       "      <th>...</th>\n",
       "      <th>vat</th>\n",
       "      <th>execution_date</th>\n",
       "      <th>description</th>\n",
       "      <th>origin</th>\n",
       "      <th>type</th>\n",
       "      <th>place</th>\n",
       "      <th>creator_user</th>\n",
       "      <th>receipt</th>\n",
       "      <th>drive_url</th>\n",
       "      <th>download_url</th>\n",
       "    </tr>\n",
       "  </thead>\n",
       "  <tbody>\n",
       "  </tbody>\n",
       "</table>\n",
       "<p>0 rows × 23 columns</p>\n",
       "</div>"
      ],
      "text/plain": [
       "Empty DataFrame\n",
       "Columns: [images, creation_date, user_in_charge, code, account_id, vat_amount, intervention, project, id, concept, target_id, phase, amount, vat, execution_date, description, origin, type, place, creator_user, receipt, drive_url, download_url]\n",
       "Index: []\n",
       "\n",
       "[0 rows x 23 columns]"
      ]
     },
     "execution_count": 392,
     "metadata": {},
     "output_type": "execute_result"
    }
   ],
   "source": [
    "accounting[accounting['creation_date'].apply(str).str[0:10] == c1['creation_date'][0:10]]"
   ]
  },
  {
   "cell_type": "markdown",
   "metadata": {},
   "source": [
    "### MATCH"
   ]
  },
  {
   "cell_type": "code",
   "execution_count": 376,
   "metadata": {},
   "outputs": [],
   "source": [
    "c1_match = accounting[accounting['id']=='MjXD3X8YjpMSObftp5Su']"
   ]
  },
  {
   "cell_type": "code",
   "execution_count": 377,
   "metadata": {},
   "outputs": [
    {
     "data": {
      "text/plain": [
       "858    Gastos de Envío Geopost  SEUR GEOPOST AGOSTO\n",
       "Name: concept, dtype: object"
      ]
     },
     "execution_count": 377,
     "metadata": {},
     "output_type": "execute_result"
    }
   ],
   "source": [
    "c1_match['concept']"
   ]
  },
  {
   "cell_type": "code",
   "execution_count": 378,
   "metadata": {},
   "outputs": [
    {
     "data": {
      "text/plain": [
       "[{'db_url': 'accounting/202101910416',\n",
       "  'file': {},\n",
       "  'download_url': 'https://firebasestorage.googleapis.com/v0/b/oan-nikarit.appspot.com/o/accounting%2F202101910416?alt=media&token=8c8f8aa0-bb9f-49ff-aa50-aca8631f0e2b',\n",
       "  'img_url': ''}]"
      ]
     },
     "execution_count": 378,
     "metadata": {},
     "output_type": "execute_result"
    }
   ],
   "source": [
    "c1_match['images'].iloc[0]"
   ]
  },
  {
   "cell_type": "code",
   "execution_count": null,
   "metadata": {},
   "outputs": [],
   "source": [
    "not_match_ids = {\n",
    "    'accounting/2021062258120202103_fbads':'jMuJTXlvctWHjzetRyXz',\n",
    "    'accounting/20210920292820203112_etiqueta_prods':'RW3jGJJfia811blYOBVW',\n",
    "    'accounting/202108222549African Sky Cargo':'F0vfoEOfTATgJRKpqqKd',\n",
    "    'accounting/202097215220':None,#'w2zAUVhhRq59cxY87IDj' - esta repetida aqui\n",
    "    'accounting/20209158460':None,#'MjXD3X8YjpMSObftp5Su' - esta repetida -296\n",
    "}"
   ]
  },
  {
   "cell_type": "code",
   "execution_count": 321,
   "metadata": {},
   "outputs": [
    {
     "data": {
      "text/plain": [
       "name                          accounting/2021062258120202103_fbads\n",
       "download_url     https://firebasestorage.googleapis.com/v0/b/oa...\n",
       "uuid                          c5380fbf-a864-460c-8e27-742facb52baa\n",
       "creation_date                     2021-01-06T21:58:02.818000+00:00\n",
       "id_blob          oan-nikarit.appspot.com/accounting/20210622581...\n",
       "folder                                                  accounting\n",
       "storage_class                                             STANDARD\n",
       "size                                                       1037347\n",
       "content_type                                       application/pdf\n",
       "id                                            jMuJTXlvctWHjzetRyXz\n",
       "drive_url                                                      NaN\n",
       "Name: 323, dtype: object"
      ]
     },
     "execution_count": 321,
     "metadata": {},
     "output_type": "execute_result"
    }
   ],
   "source": []
  },
  {
   "cell_type": "code",
   "execution_count": 396,
   "metadata": {},
   "outputs": [
    {
     "name": "stderr",
     "output_type": "stream",
     "text": [
      "1it [00:05,  5.06s/it]\n"
     ]
    }
   ],
   "source": [
    "table_id = \"{}.files\".format(dataset.dataset_id)\n",
    "proj = bgq_client.project\n",
    "df_blobs_gbq.to_gbq(table_id,proj,if_exists='replace')"
   ]
  },
  {
   "cell_type": "code",
   "execution_count": 458,
   "metadata": {},
   "outputs": [
    {
     "data": {
      "text/html": [
       "<div>\n",
       "<style scoped>\n",
       "    .dataframe tbody tr th:only-of-type {\n",
       "        vertical-align: middle;\n",
       "    }\n",
       "\n",
       "    .dataframe tbody tr th {\n",
       "        vertical-align: top;\n",
       "    }\n",
       "\n",
       "    .dataframe thead th {\n",
       "        text-align: right;\n",
       "    }\n",
       "</style>\n",
       "<table border=\"1\" class=\"dataframe\">\n",
       "  <thead>\n",
       "    <tr style=\"text-align: right;\">\n",
       "      <th></th>\n",
       "      <th>name</th>\n",
       "      <th>download_url</th>\n",
       "      <th>uuid</th>\n",
       "      <th>creation_date</th>\n",
       "      <th>id_blob</th>\n",
       "      <th>folder</th>\n",
       "      <th>storage_class</th>\n",
       "      <th>size</th>\n",
       "      <th>content_type</th>\n",
       "      <th>id</th>\n",
       "      <th>drive_url</th>\n",
       "    </tr>\n",
       "  </thead>\n",
       "  <tbody>\n",
       "    <tr>\n",
       "      <th>0</th>\n",
       "      <td>accounting/20201010104530</td>\n",
       "      <td>https://firebasestorage.googleapis.com/v0/b/oa...</td>\n",
       "      <td>53c1c740-3af5-4efc-8d1c-1668bbf2acce</td>\n",
       "      <td>2020-11-10T09:45:32.909000+00:00</td>\n",
       "      <td>oan-nikarit.appspot.com/accounting/20201010104...</td>\n",
       "      <td>accounting</td>\n",
       "      <td>STANDARD</td>\n",
       "      <td>306536</td>\n",
       "      <td>application/pdf</td>\n",
       "      <td>M2KRJszoSiwo50ZfuKVa</td>\n",
       "      <td>https://drive.google.com/file/d/1AtcofvKA03ttA...</td>\n",
       "    </tr>\n",
       "    <tr>\n",
       "      <th>1</th>\n",
       "      <td>accounting/20201010105833</td>\n",
       "      <td>https://firebasestorage.googleapis.com/v0/b/oa...</td>\n",
       "      <td>682fa416-5dd5-4f31-8006-faf0831ba499</td>\n",
       "      <td>2020-11-10T09:58:35.845000+00:00</td>\n",
       "      <td>oan-nikarit.appspot.com/accounting/20201010105...</td>\n",
       "      <td>accounting</td>\n",
       "      <td>STANDARD</td>\n",
       "      <td>6572933</td>\n",
       "      <td>image/jpeg</td>\n",
       "      <td>evfSU4JBTOE9yFLkM9H8</td>\n",
       "      <td>https://drive.google.com/file/d/1Unie9GXAxBN0p...</td>\n",
       "    </tr>\n",
       "    <tr>\n",
       "      <th>2</th>\n",
       "      <td>accounting/20201010105859</td>\n",
       "      <td>https://firebasestorage.googleapis.com/v0/b/oa...</td>\n",
       "      <td>5528bde0-d07c-4e74-b0de-042cbee65a75</td>\n",
       "      <td>2020-11-10T09:59:01.441000+00:00</td>\n",
       "      <td>oan-nikarit.appspot.com/accounting/20201010105...</td>\n",
       "      <td>accounting</td>\n",
       "      <td>STANDARD</td>\n",
       "      <td>5927892</td>\n",
       "      <td>image/jpeg</td>\n",
       "      <td>NaN</td>\n",
       "      <td>NaN</td>\n",
       "    </tr>\n",
       "    <tr>\n",
       "      <th>3</th>\n",
       "      <td>accounting/2020101011131</td>\n",
       "      <td>https://firebasestorage.googleapis.com/v0/b/oa...</td>\n",
       "      <td>79397969-c1b5-4313-8108-989139d1627b</td>\n",
       "      <td>2020-11-10T10:13:04.034000+00:00</td>\n",
       "      <td>oan-nikarit.appspot.com/accounting/20201010111...</td>\n",
       "      <td>accounting</td>\n",
       "      <td>STANDARD</td>\n",
       "      <td>5680962</td>\n",
       "      <td>image/jpeg</td>\n",
       "      <td>NaN</td>\n",
       "      <td>NaN</td>\n",
       "    </tr>\n",
       "    <tr>\n",
       "      <th>4</th>\n",
       "      <td>accounting/20201017164233</td>\n",
       "      <td>https://firebasestorage.googleapis.com/v0/b/oa...</td>\n",
       "      <td>ef86a7b6-dea3-41c3-8314-42d5744039e5</td>\n",
       "      <td>2020-11-17T15:42:51.826000+00:00</td>\n",
       "      <td>oan-nikarit.appspot.com/accounting/20201017164...</td>\n",
       "      <td>accounting</td>\n",
       "      <td>STANDARD</td>\n",
       "      <td>4313048</td>\n",
       "      <td>image/jpeg</td>\n",
       "      <td>WDevSAQwaFPwW8pzDYHx</td>\n",
       "      <td>https://drive.google.com/file/d/1fz9yCXtS9g7iM...</td>\n",
       "    </tr>\n",
       "    <tr>\n",
       "      <th>...</th>\n",
       "      <td>...</td>\n",
       "      <td>...</td>\n",
       "      <td>...</td>\n",
       "      <td>...</td>\n",
       "      <td>...</td>\n",
       "      <td>...</td>\n",
       "      <td>...</td>\n",
       "      <td>...</td>\n",
       "      <td>...</td>\n",
       "      <td>...</td>\n",
       "      <td>...</td>\n",
       "    </tr>\n",
       "    <tr>\n",
       "      <th>339</th>\n",
       "      <td>users/202042415524</td>\n",
       "      <td>https://firebasestorage.googleapis.com/v0/b/oa...</td>\n",
       "      <td>bde165a5-f981-4b31-879c-49c02d524d29</td>\n",
       "      <td>2020-05-24T13:05:26.813000+00:00</td>\n",
       "      <td>oan-nikarit.appspot.com/users/202042415524/159...</td>\n",
       "      <td>users</td>\n",
       "      <td>STANDARD</td>\n",
       "      <td>603018</td>\n",
       "      <td>image/png</td>\n",
       "      <td>NaN</td>\n",
       "      <td>NaN</td>\n",
       "    </tr>\n",
       "    <tr>\n",
       "      <th>340</th>\n",
       "      <td>users/202048171826</td>\n",
       "      <td>https://firebasestorage.googleapis.com/v0/b/oa...</td>\n",
       "      <td>80e1bd99-dabc-452c-8410-11cf06b1b75d</td>\n",
       "      <td>2020-05-08T15:18:27.402000+00:00</td>\n",
       "      <td>oan-nikarit.appspot.com/users/202048171826/158...</td>\n",
       "      <td>users</td>\n",
       "      <td>STANDARD</td>\n",
       "      <td>133665</td>\n",
       "      <td>image/jpeg</td>\n",
       "      <td>NaN</td>\n",
       "      <td>NaN</td>\n",
       "    </tr>\n",
       "    <tr>\n",
       "      <th>341</th>\n",
       "      <td>users/20204817198</td>\n",
       "      <td>https://firebasestorage.googleapis.com/v0/b/oa...</td>\n",
       "      <td>65830e45-68c6-43af-bb1a-977b4f6e5fd8</td>\n",
       "      <td>2020-05-08T15:19:08.822000+00:00</td>\n",
       "      <td>oan-nikarit.appspot.com/users/20204817198/1588...</td>\n",
       "      <td>users</td>\n",
       "      <td>STANDARD</td>\n",
       "      <td>128825</td>\n",
       "      <td>image/jpeg</td>\n",
       "      <td>NaN</td>\n",
       "      <td>NaN</td>\n",
       "    </tr>\n",
       "    <tr>\n",
       "      <th>342</th>\n",
       "      <td>users/2020828112911</td>\n",
       "      <td>https://firebasestorage.googleapis.com/v0/b/oa...</td>\n",
       "      <td>bc312e96-4659-4068-9b43-4beb0a82c0ea</td>\n",
       "      <td>2020-09-28T10:29:36.671000+00:00</td>\n",
       "      <td>oan-nikarit.appspot.com/users/2020828112911/16...</td>\n",
       "      <td>users</td>\n",
       "      <td>STANDARD</td>\n",
       "      <td>4373480</td>\n",
       "      <td>image/jpeg</td>\n",
       "      <td>NaN</td>\n",
       "      <td>NaN</td>\n",
       "    </tr>\n",
       "    <tr>\n",
       "      <th>343</th>\n",
       "      <td>users/2021016212451</td>\n",
       "      <td>https://firebasestorage.googleapis.com/v0/b/oa...</td>\n",
       "      <td>495a6244-8e01-4080-8ee0-3493c5acc291</td>\n",
       "      <td>2021-01-16T20:24:57.710000+00:00</td>\n",
       "      <td>oan-nikarit.appspot.com/users/2021016212451/16...</td>\n",
       "      <td>users</td>\n",
       "      <td>STANDARD</td>\n",
       "      <td>1841575</td>\n",
       "      <td>image/jpeg</td>\n",
       "      <td>NaN</td>\n",
       "      <td>NaN</td>\n",
       "    </tr>\n",
       "  </tbody>\n",
       "</table>\n",
       "<p>344 rows × 11 columns</p>\n",
       "</div>"
      ],
      "text/plain": [
       "                          name  \\\n",
       "0    accounting/20201010104530   \n",
       "1    accounting/20201010105833   \n",
       "2    accounting/20201010105859   \n",
       "3     accounting/2020101011131   \n",
       "4    accounting/20201017164233   \n",
       "..                         ...   \n",
       "339         users/202042415524   \n",
       "340         users/202048171826   \n",
       "341          users/20204817198   \n",
       "342        users/2020828112911   \n",
       "343        users/2021016212451   \n",
       "\n",
       "                                          download_url  \\\n",
       "0    https://firebasestorage.googleapis.com/v0/b/oa...   \n",
       "1    https://firebasestorage.googleapis.com/v0/b/oa...   \n",
       "2    https://firebasestorage.googleapis.com/v0/b/oa...   \n",
       "3    https://firebasestorage.googleapis.com/v0/b/oa...   \n",
       "4    https://firebasestorage.googleapis.com/v0/b/oa...   \n",
       "..                                                 ...   \n",
       "339  https://firebasestorage.googleapis.com/v0/b/oa...   \n",
       "340  https://firebasestorage.googleapis.com/v0/b/oa...   \n",
       "341  https://firebasestorage.googleapis.com/v0/b/oa...   \n",
       "342  https://firebasestorage.googleapis.com/v0/b/oa...   \n",
       "343  https://firebasestorage.googleapis.com/v0/b/oa...   \n",
       "\n",
       "                                     uuid                     creation_date  \\\n",
       "0    53c1c740-3af5-4efc-8d1c-1668bbf2acce  2020-11-10T09:45:32.909000+00:00   \n",
       "1    682fa416-5dd5-4f31-8006-faf0831ba499  2020-11-10T09:58:35.845000+00:00   \n",
       "2    5528bde0-d07c-4e74-b0de-042cbee65a75  2020-11-10T09:59:01.441000+00:00   \n",
       "3    79397969-c1b5-4313-8108-989139d1627b  2020-11-10T10:13:04.034000+00:00   \n",
       "4    ef86a7b6-dea3-41c3-8314-42d5744039e5  2020-11-17T15:42:51.826000+00:00   \n",
       "..                                    ...                               ...   \n",
       "339  bde165a5-f981-4b31-879c-49c02d524d29  2020-05-24T13:05:26.813000+00:00   \n",
       "340  80e1bd99-dabc-452c-8410-11cf06b1b75d  2020-05-08T15:18:27.402000+00:00   \n",
       "341  65830e45-68c6-43af-bb1a-977b4f6e5fd8  2020-05-08T15:19:08.822000+00:00   \n",
       "342  bc312e96-4659-4068-9b43-4beb0a82c0ea  2020-09-28T10:29:36.671000+00:00   \n",
       "343  495a6244-8e01-4080-8ee0-3493c5acc291  2021-01-16T20:24:57.710000+00:00   \n",
       "\n",
       "                                               id_blob      folder  \\\n",
       "0    oan-nikarit.appspot.com/accounting/20201010104...  accounting   \n",
       "1    oan-nikarit.appspot.com/accounting/20201010105...  accounting   \n",
       "2    oan-nikarit.appspot.com/accounting/20201010105...  accounting   \n",
       "3    oan-nikarit.appspot.com/accounting/20201010111...  accounting   \n",
       "4    oan-nikarit.appspot.com/accounting/20201017164...  accounting   \n",
       "..                                                 ...         ...   \n",
       "339  oan-nikarit.appspot.com/users/202042415524/159...       users   \n",
       "340  oan-nikarit.appspot.com/users/202048171826/158...       users   \n",
       "341  oan-nikarit.appspot.com/users/20204817198/1588...       users   \n",
       "342  oan-nikarit.appspot.com/users/2020828112911/16...       users   \n",
       "343  oan-nikarit.appspot.com/users/2021016212451/16...       users   \n",
       "\n",
       "    storage_class     size     content_type                    id  \\\n",
       "0        STANDARD   306536  application/pdf  M2KRJszoSiwo50ZfuKVa   \n",
       "1        STANDARD  6572933       image/jpeg  evfSU4JBTOE9yFLkM9H8   \n",
       "2        STANDARD  5927892       image/jpeg                   NaN   \n",
       "3        STANDARD  5680962       image/jpeg                   NaN   \n",
       "4        STANDARD  4313048       image/jpeg  WDevSAQwaFPwW8pzDYHx   \n",
       "..            ...      ...              ...                   ...   \n",
       "339      STANDARD   603018        image/png                   NaN   \n",
       "340      STANDARD   133665       image/jpeg                   NaN   \n",
       "341      STANDARD   128825       image/jpeg                   NaN   \n",
       "342      STANDARD  4373480       image/jpeg                   NaN   \n",
       "343      STANDARD  1841575       image/jpeg                   NaN   \n",
       "\n",
       "                                             drive_url  \n",
       "0    https://drive.google.com/file/d/1AtcofvKA03ttA...  \n",
       "1    https://drive.google.com/file/d/1Unie9GXAxBN0p...  \n",
       "2                                                  NaN  \n",
       "3                                                  NaN  \n",
       "4    https://drive.google.com/file/d/1fz9yCXtS9g7iM...  \n",
       "..                                                 ...  \n",
       "339                                                NaN  \n",
       "340                                                NaN  \n",
       "341                                                NaN  \n",
       "342                                                NaN  \n",
       "343                                                NaN  \n",
       "\n",
       "[344 rows x 11 columns]"
      ]
     },
     "execution_count": 458,
     "metadata": {},
     "output_type": "execute_result"
    }
   ],
   "source": [
    "df_blobs_gbq"
   ]
  },
  {
   "cell_type": "markdown",
   "metadata": {},
   "source": [
    "### BACKUP"
   ]
  },
  {
   "cell_type": "code",
   "execution_count": 28,
   "metadata": {},
   "outputs": [],
   "source": [
    "sheet = sheet_service.spreadsheets()"
   ]
  },
  {
   "cell_type": "code",
   "execution_count": 31,
   "metadata": {},
   "outputs": [],
   "source": [
    "SPREADSHEET_ID = \"10me8N68cAVXVBXYU_sTub5F_7pKsDtTT29giJ0FGAzw\""
   ]
  },
  {
   "cell_type": "code",
   "execution_count": null,
   "metadata": {},
   "outputs": [],
   "source": [
    "values = result.get('values', [])."
   ]
  },
  {
   "cell_type": "code",
   "execution_count": 33,
   "metadata": {},
   "outputs": [],
   "source": [
    "rows = sheet.values().get(spreadsheetId=SPREADSHEET_ID,\n",
    "                                  range = \"TOUT\").execute()"
   ]
  },
  {
   "cell_type": "code",
   "execution_count": 39,
   "metadata": {},
   "outputs": [],
   "source": [
    "backup = pd.DataFrame(rows['values'][1:],columns=rows['values'][0])"
   ]
  },
  {
   "cell_type": "code",
   "execution_count": 42,
   "metadata": {},
   "outputs": [],
   "source": [
    "dtcols = ['CREATION','DATE EXECUTION']\n",
    "numcols = ['QUANTITÉ']"
   ]
  },
  {
   "cell_type": "code",
   "execution_count": 43,
   "metadata": {},
   "outputs": [],
   "source": [
    "for col in dtcols:\n",
    "    backup[col] = pd.to_datetime(backup[col])"
   ]
  },
  {
   "cell_type": "code",
   "execution_count": 46,
   "metadata": {},
   "outputs": [],
   "source": [
    "#for col in numcols:\n",
    "#    backup[col] = backup[col].apply(lambda x: float(x.replace('CFA','')))"
   ]
  },
  {
   "cell_type": "code",
   "execution_count": 40,
   "metadata": {},
   "outputs": [
    {
     "name": "stdout",
     "output_type": "stream",
     "text": [
      "Index(['ID', 'CREATION', 'DATE EXECUTION', 'CONCEPT', 'PROJECT',\n",
      "       'INTERVENTION', 'PHASE', 'TYPE', 'QUANTITÉ', 'CAISEE / BANQUE',\n",
      "       'CATEGORIE / BANQUE', 'DESCRIPTION', 'CREATEUR', 'RESPONSABLE', 'LIEU',\n",
      "       'FACTURE'],\n",
      "      dtype='object')\n"
     ]
    }
   ],
   "source": [
    "print(backup.columns)"
   ]
  },
  {
   "cell_type": "code",
   "execution_count": 50,
   "metadata": {},
   "outputs": [],
   "source": [
    "max_backup = backup['CREATION'].max()"
   ]
  },
  {
   "cell_type": "code",
   "execution_count": 48,
   "metadata": {},
   "outputs": [
    {
     "name": "stderr",
     "output_type": "stream",
     "text": [
      "Downloading: 100%|██████████| 2400/2400 [00:01<00:00, 1459.34rows/s]\n"
     ]
    }
   ],
   "source": [
    "df_accounting = pd.read_gbq('SELECT * FROM `oan-nikarit.contoan.accounting`')"
   ]
  },
  {
   "cell_type": "code",
   "execution_count": 62,
   "metadata": {},
   "outputs": [
    {
     "data": {
      "text/plain": [
       "(2400, 20)"
      ]
     },
     "execution_count": 62,
     "metadata": {},
     "output_type": "execute_result"
    }
   ],
   "source": [
    "df_accounting.shape"
   ]
  },
  {
   "cell_type": "code",
   "execution_count": 66,
   "metadata": {},
   "outputs": [
    {
     "data": {
      "text/plain": [
       "'2021-08-01 00:00:00+00:00'"
      ]
     },
     "execution_count": 66,
     "metadata": {},
     "output_type": "execute_result"
    }
   ],
   "source": [
    "str(max_backup.tz_localize('UTC'))"
   ]
  },
  {
   "cell_type": "code",
   "execution_count": 61,
   "metadata": {},
   "outputs": [
    {
     "data": {
      "text/plain": [
       "Timestamp('2021-01-21 14:17:58.103000+0000', tz='UTC')"
      ]
     },
     "execution_count": 61,
     "metadata": {},
     "output_type": "execute_result"
    }
   ],
   "source": [
    "df_accounting['creation_date'].max()"
   ]
  },
  {
   "cell_type": "code",
   "execution_count": 91,
   "metadata": {},
   "outputs": [],
   "source": [
    "df_accounting_bu = df_accounting[df_accounting['creation_date'].apply(str).str[0:10] < \"2021-01-08\"].copy()"
   ]
  },
  {
   "cell_type": "code",
   "execution_count": 93,
   "metadata": {},
   "outputs": [
    {
     "data": {
      "text/plain": [
       "334"
      ]
     },
     "execution_count": 93,
     "metadata": {},
     "output_type": "execute_result"
    }
   ],
   "source": [
    "len(df_accounting_bu['receipt'].unique())"
   ]
  },
  {
   "cell_type": "code",
   "execution_count": 94,
   "metadata": {},
   "outputs": [
    {
     "data": {
      "text/plain": [
       "291"
      ]
     },
     "execution_count": 94,
     "metadata": {},
     "output_type": "execute_result"
    }
   ],
   "source": [
    "len(backup['FACTURE'].unique())"
   ]
  },
  {
   "cell_type": "code",
   "execution_count": 95,
   "metadata": {},
   "outputs": [],
   "source": [
    "col_query = db.collection('Accounting').stream()\n",
    "accounts = []\n",
    "for acc in col_query:\n",
    "    accounts.append(acc.to_dict())"
   ]
  },
  {
   "cell_type": "code",
   "execution_count": 96,
   "metadata": {},
   "outputs": [],
   "source": [
    "df_accounts = pd.DataFrame(accounts)"
   ]
  },
  {
   "cell_type": "code",
   "execution_count": 129,
   "metadata": {},
   "outputs": [],
   "source": [
    "df_accounts_notna = df_accounts[~(df_accounts['images'].isna())]"
   ]
  },
  {
   "cell_type": "code",
   "execution_count": 135,
   "metadata": {},
   "outputs": [],
   "source": [
    "df_accounts_with_r = df_accounts_notna[~df_accounts_notna['images'].apply(lambda x: x ==[])]"
   ]
  },
  {
   "cell_type": "code",
   "execution_count": 397,
   "metadata": {},
   "outputs": [
    {
     "data": {
      "text/plain": [
       "(357,)"
      ]
     },
     "execution_count": 397,
     "metadata": {},
     "output_type": "execute_result"
    }
   ],
   "source": [
    "df_accounts_with_r['images'].shape"
   ]
  },
  {
   "cell_type": "markdown",
   "metadata": {},
   "source": [
    "### LET SOLVE THE PROBLEM"
   ]
  },
  {
   "cell_type": "code",
   "execution_count": 398,
   "metadata": {},
   "outputs": [
    {
     "data": {
      "text/plain": [
       "[{'drive_id': '1Po_mVED26HYAtHzQ4GOtYauftLTDh5Je',\n",
       "  'title': '20201221_fbads',\n",
       "  'download_url': 'https://firebasestorage.googleapis.com/v0/b/oan-nikarit.appspot.com/o/accounting%2F20210622282620201221_fbads?alt=media&token=b9f0106f-9baa-4502-bea4-d38203ddba61',\n",
       "  'file': {},\n",
       "  'img_url': '',\n",
       "  'db_url': 'accounting/20210622282620201221_fbads',\n",
       "  'drive_url': 'https://drive.google.com/file/d/1Po_mVED26HYAtHzQ4GOtYauftLTDh5Je/view'}]"
      ]
     },
     "execution_count": 398,
     "metadata": {},
     "output_type": "execute_result"
    }
   ],
   "source": [
    "df_accounts_with_r['images'].iloc[17]"
   ]
  },
  {
   "cell_type": "markdown",
   "metadata": {},
   "source": [
    "### WITH RECEIPT"
   ]
  },
  {
   "cell_type": "code",
   "execution_count": 399,
   "metadata": {},
   "outputs": [],
   "source": [
    "df_accounts_with_r = df_accounts_with_r.copy()"
   ]
  },
  {
   "cell_type": "code",
   "execution_count": 432,
   "metadata": {},
   "outputs": [
    {
     "data": {
      "text/plain": [
       "(357, 22)"
      ]
     },
     "execution_count": 432,
     "metadata": {},
     "output_type": "execute_result"
    }
   ],
   "source": [
    "df_accounts_with_r.shape"
   ]
  },
  {
   "cell_type": "code",
   "execution_count": 438,
   "metadata": {},
   "outputs": [],
   "source": [
    "def im_search(x):\n",
    "    download_url = ''\n",
    "    drive_url = ''\n",
    "    if (0 < len(x)):\n",
    "        im = x[0]\n",
    "        if 'download_url' in im.keys():\n",
    "            download_url = im['download_url']\n",
    "        if 'drive_url' in im.keys():\n",
    "            drive_url = im['drive_url'] \n",
    "    return pd.Series([drive_url,download_url])"
   ]
  },
  {
   "cell_type": "code",
   "execution_count": 439,
   "metadata": {},
   "outputs": [],
   "source": [
    "df_accounts_with_r[['drive_url','download_url']] = df_accounts_with_r.images.apply(lambda x: im_search(x))"
   ]
  },
  {
   "cell_type": "code",
   "execution_count": 443,
   "metadata": {},
   "outputs": [
    {
     "data": {
      "text/plain": [
       "(25, 22)"
      ]
     },
     "execution_count": 443,
     "metadata": {},
     "output_type": "execute_result"
    }
   ],
   "source": [
    "df_accounts_with_r[(df_accounts_with_r['download_url'].isna()) |\n",
    "                   (df_accounts_with_r['download_url']=='')].shape"
   ]
  },
  {
   "cell_type": "code",
   "execution_count": 444,
   "metadata": {},
   "outputs": [],
   "source": [
    "df_accounts_backup_2 = pd.merge(df_accounts_with_r,backup[['ID','FACTURE']],\n",
    "                                left_on = 'id',right_on = 'ID',how='left')"
   ]
  },
  {
   "cell_type": "code",
   "execution_count": 445,
   "metadata": {},
   "outputs": [],
   "source": [
    "df_accounts_backup_2['fire_update'] = df_accounts_backup_2['download_url'].combine_first(\n",
    "                                                                df_accounts_backup_2['FACTURE'])"
   ]
  },
  {
   "cell_type": "code",
   "execution_count": 446,
   "metadata": {},
   "outputs": [
    {
     "data": {
      "text/html": [
       "<div>\n",
       "<style scoped>\n",
       "    .dataframe tbody tr th:only-of-type {\n",
       "        vertical-align: middle;\n",
       "    }\n",
       "\n",
       "    .dataframe tbody tr th {\n",
       "        vertical-align: top;\n",
       "    }\n",
       "\n",
       "    .dataframe thead th {\n",
       "        text-align: right;\n",
       "    }\n",
       "</style>\n",
       "<table border=\"1\" class=\"dataframe\">\n",
       "  <thead>\n",
       "    <tr style=\"text-align: right;\">\n",
       "      <th></th>\n",
       "      <th>fire_update</th>\n",
       "      <th>download_url</th>\n",
       "      <th>FACTURE</th>\n",
       "    </tr>\n",
       "  </thead>\n",
       "  <tbody>\n",
       "    <tr>\n",
       "      <th>9</th>\n",
       "      <td>https://firebasestorage.googleapis.com/v0/b/oa...</td>\n",
       "      <td>https://firebasestorage.googleapis.com/v0/b/oa...</td>\n",
       "      <td>https://firebasestorage.googleapis.com/v0/b/oa...</td>\n",
       "    </tr>\n",
       "    <tr>\n",
       "      <th>123</th>\n",
       "      <td>https://firebasestorage.googleapis.com/v0/b/oa...</td>\n",
       "      <td>https://firebasestorage.googleapis.com/v0/b/oa...</td>\n",
       "      <td>https://firebasestorage.googleapis.com/v0/b/oa...</td>\n",
       "    </tr>\n",
       "  </tbody>\n",
       "</table>\n",
       "</div>"
      ],
      "text/plain": [
       "                                           fire_update  \\\n",
       "9    https://firebasestorage.googleapis.com/v0/b/oa...   \n",
       "123  https://firebasestorage.googleapis.com/v0/b/oa...   \n",
       "\n",
       "                                          download_url  \\\n",
       "9    https://firebasestorage.googleapis.com/v0/b/oa...   \n",
       "123  https://firebasestorage.googleapis.com/v0/b/oa...   \n",
       "\n",
       "                                               FACTURE  \n",
       "9    https://firebasestorage.googleapis.com/v0/b/oa...  \n",
       "123  https://firebasestorage.googleapis.com/v0/b/oa...  "
      ]
     },
     "execution_count": 446,
     "metadata": {},
     "output_type": "execute_result"
    }
   ],
   "source": [
    "df_accounts_backup_2[\n",
    "    ~(df_accounts_backup_2['download_url'].isna()) &\n",
    "    ~(df_accounts_backup_2['FACTURE'].isna()) &\n",
    "    (df_accounts_backup_2['FACTURE'] != df_accounts_backup_2['download_url'])\n",
    "][['fire_update','download_url','FACTURE']]"
   ]
  },
  {
   "cell_type": "code",
   "execution_count": 448,
   "metadata": {},
   "outputs": [
    {
     "data": {
      "text/plain": [
       "Series([], Name: FACTURE, dtype: int64)"
      ]
     },
     "execution_count": 448,
     "metadata": {},
     "output_type": "execute_result"
    }
   ],
   "source": [
    "df_accounts_backup_2[(df_accounts_backup_2['download_url'].isna()) |\n",
    "                   (df_accounts_backup_2['download_url']=='')]['FACTURE'].value_counts()"
   ]
  },
  {
   "cell_type": "markdown",
   "metadata": {},
   "source": [
    "### WITHOUT RECEIPT"
   ]
  },
  {
   "cell_type": "code",
   "execution_count": 149,
   "metadata": {},
   "outputs": [],
   "source": [
    "df_accounts_nr = df_accounts[~df_accounts.index.isin(df_accounts_with_r.index)].copy()"
   ]
  },
  {
   "cell_type": "code",
   "execution_count": 207,
   "metadata": {},
   "outputs": [
    {
     "data": {
      "text/plain": [
       "(2231, 21)"
      ]
     },
     "execution_count": 207,
     "metadata": {},
     "output_type": "execute_result"
    }
   ],
   "source": [
    "df_accounts_nr.shape"
   ]
  },
  {
   "cell_type": "code",
   "execution_count": 206,
   "metadata": {},
   "outputs": [
    {
     "data": {
      "text/plain": [
       "[]    2226\n",
       "Name: images, dtype: int64"
      ]
     },
     "execution_count": 206,
     "metadata": {},
     "output_type": "execute_result"
    }
   ],
   "source": [
    "df_accounts_nr['images'].value_counts()"
   ]
  },
  {
   "cell_type": "code",
   "execution_count": 172,
   "metadata": {},
   "outputs": [],
   "source": [
    "df_accounts_nr = df_accounts_nr.reset_index()"
   ]
  },
  {
   "cell_type": "code",
   "execution_count": 173,
   "metadata": {},
   "outputs": [
    {
     "data": {
      "text/plain": [
       "(2231, 21)"
      ]
     },
     "execution_count": 173,
     "metadata": {},
     "output_type": "execute_result"
    }
   ],
   "source": [
    "df_accounts_nr.shape"
   ]
  },
  {
   "cell_type": "code",
   "execution_count": 174,
   "metadata": {},
   "outputs": [],
   "source": [
    "df_accounts_backup = pd.merge(df_accounts_nr['id'],backup[['ID','FACTURE']],left_on = 'id',right_on = 'ID',how='left')"
   ]
  },
  {
   "cell_type": "code",
   "execution_count": 175,
   "metadata": {},
   "outputs": [],
   "source": [
    "df_accounts_backup = df_accounts_backup[['id','FACTURE']].copy()"
   ]
  },
  {
   "cell_type": "code",
   "execution_count": 176,
   "metadata": {},
   "outputs": [],
   "source": [
    "df_accounts_backup.columns = ['id','download_url']"
   ]
  },
  {
   "cell_type": "code",
   "execution_count": 177,
   "metadata": {},
   "outputs": [],
   "source": [
    "df_accounts_bu_blob = pd.merge(df_accounts_backup,df_blobs,on='download_url',how='left')"
   ]
  },
  {
   "cell_type": "code",
   "execution_count": 178,
   "metadata": {},
   "outputs": [],
   "source": [
    "df_accounts_bu_blob = df_accounts_bu_blob[['id','download_url','name']].copy()b"
   ]
  },
  {
   "cell_type": "code",
   "execution_count": 192,
   "metadata": {},
   "outputs": [],
   "source": [
    "def search_drive(x):\n",
    "    d_url = None\n",
    "    d_name = None\n",
    "    for fil in files_drive:\n",
    "        f_id = fil['name'].split('_')[1].split('.')[0]      \n",
    "        if f_id == x:\n",
    "            d_url = \"https://drive.google.com/file/d/\"+fil['drive_id']+\"/view\"\n",
    "            d_name = fil['name']\n",
    "    return pd.Series([d_url,d_name,fil['drive_id']])"
   ]
  },
  {
   "cell_type": "code",
   "execution_count": 193,
   "metadata": {},
   "outputs": [],
   "source": [
    "df_accounts_bu_blob[['drive_url','drive_name','drive_id']] = df_accounts_bu_blob['id'].apply(lambda x: search_drive(x))"
   ]
  },
  {
   "cell_type": "code",
   "execution_count": 194,
   "metadata": {},
   "outputs": [],
   "source": [
    "df_accounts_recup = df_accounts_bu_blob[~(df_accounts_bu_blob['download_url'].isna()) |\n",
    "                        ~(df_accounts_bu_blob['drive_url'].isna()) |\n",
    "                        ~(df_accounts_bu_blob['drive_name'].isna()) |\n",
    "                        ~(df_accounts_bu_blob['name'].isna())].copy()"
   ]
  },
  {
   "cell_type": "code",
   "execution_count": 195,
   "metadata": {},
   "outputs": [],
   "source": [
    "df_accounts_recup = df_accounts_recup.reset_index()"
   ]
  },
  {
   "cell_type": "markdown",
   "metadata": {},
   "source": [
    "## UPLOAD TO FIREBASE"
   ]
  },
  {
   "cell_type": "code",
   "execution_count": 228,
   "metadata": {},
   "outputs": [],
   "source": [
    "recup = df_accounts_recup.T.to_dict()\n",
    "\n",
    "for r in recup:\n",
    "    row= recup[r]\n",
    "    doc_id = row['id']\n",
    "    im = [{'drive_id': row['drive_id'],\n",
    "      'db_url': row['name'],\n",
    "      'file': {},\n",
    "      'img_url': '',\n",
    "      'download_url': row['download_url'],\n",
    "      'drive_url': row['drive_url']}]\n",
    "    #db.collection('Accounting').document(doc_id).update({'images':im})"
   ]
  },
  {
   "cell_type": "markdown",
   "metadata": {},
   "source": [
    "### CHECK"
   ]
  },
  {
   "cell_type": "code",
   "execution_count": 229,
   "metadata": {},
   "outputs": [],
   "source": [
    "col_query = db.collection('Accounting').stream()\n",
    "accounts = []\n",
    "for acc in col_query:\n",
    "    accounts.append(acc.to_dict())"
   ]
  },
  {
   "cell_type": "code",
   "execution_count": 230,
   "metadata": {},
   "outputs": [],
   "source": [
    "df_accounts = pd.DataFrame(accounts)"
   ]
  },
  {
   "cell_type": "code",
   "execution_count": 231,
   "metadata": {},
   "outputs": [],
   "source": [
    "df_accounts_notna = df_accounts[~(df_accounts['images'].isna())]"
   ]
  },
  {
   "cell_type": "code",
   "execution_count": 232,
   "metadata": {},
   "outputs": [],
   "source": [
    "df_accounts_with_r = df_accounts_notna[~df_accounts_notna['images'].apply(lambda x: x ==[])]"
   ]
  },
  {
   "cell_type": "code",
   "execution_count": 233,
   "metadata": {},
   "outputs": [
    {
     "data": {
      "text/plain": [
       "(357,)"
      ]
     },
     "execution_count": 233,
     "metadata": {},
     "output_type": "execute_result"
    }
   ],
   "source": [
    "df_accounts_with_r['images'].shape"
   ]
  },
  {
   "cell_type": "markdown",
   "metadata": {},
   "source": [
    "## EDA"
   ]
  },
  {
   "cell_type": "code",
   "execution_count": 234,
   "metadata": {},
   "outputs": [],
   "source": [
    "#convert to dataframe\n",
    "accounting = pd.DataFrame(accounts)"
   ]
  },
  {
   "cell_type": "code",
   "execution_count": 235,
   "metadata": {},
   "outputs": [],
   "source": [
    "#errores_ids = accounting[(accounting['amount'].apply(lambda x: type(x) == type('2')))]['id'].tolist()\n",
    "#for error in errores_ids:\n",
    "#    value = float(accounting[accounting['id']==error]['amount'])\n",
    "#    db.collection('Accounting'\n",
    "#                 ).document(error\n",
    "#                           ).update({'amount':value}\n",
    "#                                   )"
   ]
  },
  {
   "cell_type": "code",
   "execution_count": 236,
   "metadata": {},
   "outputs": [
    {
     "name": "stdout",
     "output_type": "stream",
     "text": [
      "<class 'pandas.core.frame.DataFrame'>\n",
      "RangeIndex: 2403 entries, 0 to 2402\n",
      "Data columns (total 20 columns):\n",
      " #   Column          Non-Null Count  Dtype  \n",
      "---  ------          --------------  -----  \n",
      " 0   images          2398 non-null   object \n",
      " 1   creation_date   2403 non-null   object \n",
      " 2   user_in_charge  2403 non-null   object \n",
      " 3   code            2403 non-null   int64  \n",
      " 4   account_id      2403 non-null   object \n",
      " 5   vat_amount      2384 non-null   float64\n",
      " 6   intervention    2403 non-null   object \n",
      " 7   project         2403 non-null   object \n",
      " 8   id              2403 non-null   object \n",
      " 9   concept         2403 non-null   object \n",
      " 10  target_id       2403 non-null   object \n",
      " 11  phase           800 non-null    object \n",
      " 12  amount          2403 non-null   float64\n",
      " 13  vat             2165 non-null   float64\n",
      " 14  execution_date  2403 non-null   object \n",
      " 15  description     2350 non-null   object \n",
      " 16  origin          2403 non-null   object \n",
      " 17  type            2403 non-null   object \n",
      " 18  place           2403 non-null   object \n",
      " 19  creator_user    2403 non-null   object \n",
      "dtypes: float64(3), int64(1), object(16)\n",
      "memory usage: 375.6+ KB\n"
     ]
    }
   ],
   "source": [
    "#nulls. size and datatype\n",
    "accounting.info()"
   ]
  },
  {
   "cell_type": "code",
   "execution_count": 237,
   "metadata": {},
   "outputs": [],
   "source": [
    "#nulls heatmap - import seaborn as sns\n",
    "#sns.heatmap(accounting.isna())"
   ]
  },
  {
   "cell_type": "markdown",
   "metadata": {},
   "source": [
    "### CLEAN DATA"
   ]
  },
  {
   "cell_type": "code",
   "execution_count": 238,
   "metadata": {},
   "outputs": [
    {
     "data": {
      "text/html": [
       "<div>\n",
       "<style scoped>\n",
       "    .dataframe tbody tr th:only-of-type {\n",
       "        vertical-align: middle;\n",
       "    }\n",
       "\n",
       "    .dataframe tbody tr th {\n",
       "        vertical-align: top;\n",
       "    }\n",
       "\n",
       "    .dataframe thead th {\n",
       "        text-align: right;\n",
       "    }\n",
       "</style>\n",
       "<table border=\"1\" class=\"dataframe\">\n",
       "  <thead>\n",
       "    <tr style=\"text-align: right;\">\n",
       "      <th></th>\n",
       "      <th>images</th>\n",
       "      <th>creation_date</th>\n",
       "      <th>user_in_charge</th>\n",
       "      <th>code</th>\n",
       "      <th>account_id</th>\n",
       "      <th>vat_amount</th>\n",
       "      <th>intervention</th>\n",
       "      <th>project</th>\n",
       "      <th>id</th>\n",
       "      <th>concept</th>\n",
       "      <th>target_id</th>\n",
       "      <th>phase</th>\n",
       "      <th>amount</th>\n",
       "      <th>vat</th>\n",
       "      <th>execution_date</th>\n",
       "      <th>description</th>\n",
       "      <th>origin</th>\n",
       "      <th>type</th>\n",
       "      <th>place</th>\n",
       "      <th>creator_user</th>\n",
       "    </tr>\n",
       "  </thead>\n",
       "  <tbody>\n",
       "    <tr>\n",
       "      <th>0</th>\n",
       "      <td>[]</td>\n",
       "      <td>2020-08-26T18:02:55.591Z</td>\n",
       "      <td>IjBxXuBshlfq2MUzwBSK</td>\n",
       "      <td>899</td>\n",
       "      <td>3deqBmrZ1iJkAwMmxSOp</td>\n",
       "      <td>3.644628</td>\n",
       "      <td>w04441aFcU5b7pQm6Rd2</td>\n",
       "      <td>0DmODGTOEiM5lg9SGx0J</td>\n",
       "      <td>01WVDHF0gSSg1PCFsosk</td>\n",
       "      <td>venta shopify</td>\n",
       "      <td>yfy4cPxkmFwIYVnoWD0A</td>\n",
       "      <td>None</td>\n",
       "      <td>21.0</td>\n",
       "      <td>21.0</td>\n",
       "      <td>2020-04-28T12:07:49.000Z</td>\n",
       "      <td>venta online: 2288996286563</td>\n",
       "      <td>script_dani</td>\n",
       "      <td>income</td>\n",
       "      <td>spain</td>\n",
       "      <td>z5m936GA0t3vHM28QKhR</td>\n",
       "    </tr>\n",
       "    <tr>\n",
       "      <th>1</th>\n",
       "      <td>[]</td>\n",
       "      <td>2020-12-22T08:59:35.685Z</td>\n",
       "      <td>IjBxXuBshlfq2MUzwBSK</td>\n",
       "      <td>2257</td>\n",
       "      <td>FHwFsBItyEneaZh8yP0T</td>\n",
       "      <td>0.000000</td>\n",
       "      <td>w04441aFcU5b7pQm6Rd2</td>\n",
       "      <td>0DmODGTOEiM5lg9SGx0J</td>\n",
       "      <td>01dtZiGq12IzmIpOVG3X</td>\n",
       "      <td>Gastos de envio Nacional</td>\n",
       "      <td>iA9Pzv2CImjItzwCaQv0</td>\n",
       "      <td>None</td>\n",
       "      <td>6.1</td>\n",
       "      <td>0.0</td>\n",
       "      <td>2020-12-22T08:59:35.685Z</td>\n",
       "      <td>2915979624547</td>\n",
       "      <td>shopify</td>\n",
       "      <td>movement</td>\n",
       "      <td>spain</td>\n",
       "      <td>z5m936GA0t3vHM28QKhR</td>\n",
       "    </tr>\n",
       "    <tr>\n",
       "      <th>2</th>\n",
       "      <td>[]</td>\n",
       "      <td>2020-12-07T08:56:28.137Z</td>\n",
       "      <td>IjBxXuBshlfq2MUzwBSK</td>\n",
       "      <td>1959</td>\n",
       "      <td>FHwFsBItyEneaZh8yP0T</td>\n",
       "      <td>0.000000</td>\n",
       "      <td>w04441aFcU5b7pQm6Rd2</td>\n",
       "      <td>0DmODGTOEiM5lg9SGx0J</td>\n",
       "      <td>01nQGx25hZLez38FpWEe</td>\n",
       "      <td>Gastos de envio Nacional</td>\n",
       "      <td>iA9Pzv2CImjItzwCaQv0</td>\n",
       "      <td>None</td>\n",
       "      <td>6.1</td>\n",
       "      <td>0.0</td>\n",
       "      <td>2020-12-07T08:56:28.137Z</td>\n",
       "      <td>2875805401187</td>\n",
       "      <td>shopify</td>\n",
       "      <td>movement</td>\n",
       "      <td>spain</td>\n",
       "      <td>z5m936GA0t3vHM28QKhR</td>\n",
       "    </tr>\n",
       "    <tr>\n",
       "      <th>3</th>\n",
       "      <td>[]</td>\n",
       "      <td>2020-08-26T18:02:55.591Z</td>\n",
       "      <td>IjBxXuBshlfq2MUzwBSK</td>\n",
       "      <td>1049</td>\n",
       "      <td>3deqBmrZ1iJkAwMmxSOp</td>\n",
       "      <td>6.595041</td>\n",
       "      <td>w04441aFcU5b7pQm6Rd2</td>\n",
       "      <td>0DmODGTOEiM5lg9SGx0J</td>\n",
       "      <td>026RXV3hyl33ussoU7D9</td>\n",
       "      <td>venta shopify</td>\n",
       "      <td>iA9Pzv2CImjItzwCaQv0</td>\n",
       "      <td>None</td>\n",
       "      <td>38.0</td>\n",
       "      <td>21.0</td>\n",
       "      <td>2020-04-28T19:50:24.000Z</td>\n",
       "      <td>venta online: 2290422218851</td>\n",
       "      <td>script_dani</td>\n",
       "      <td>income</td>\n",
       "      <td>spain</td>\n",
       "      <td>z5m936GA0t3vHM28QKhR</td>\n",
       "    </tr>\n",
       "    <tr>\n",
       "      <th>4</th>\n",
       "      <td>[]</td>\n",
       "      <td>2020-12-05T22:24:00.338Z</td>\n",
       "      <td>IjBxXuBshlfq2MUzwBSK</td>\n",
       "      <td>1934</td>\n",
       "      <td>j2UYEKf01eFHMPZv9qHq</td>\n",
       "      <td>0.000000</td>\n",
       "      <td>w04441aFcU5b7pQm6Rd2</td>\n",
       "      <td>0DmODGTOEiM5lg9SGx0J</td>\n",
       "      <td>02EE48NlGSbqGrrLvIHl</td>\n",
       "      <td>Comision Stripe</td>\n",
       "      <td>iA9Pzv2CImjItzwCaQv0</td>\n",
       "      <td>LXspD4R7rZ6Jw5EOEZYR</td>\n",
       "      <td>1.2</td>\n",
       "      <td>0.0</td>\n",
       "      <td>2020-12-05T22:24:00.338Z</td>\n",
       "      <td>2872447467619</td>\n",
       "      <td>shopify</td>\n",
       "      <td>expense</td>\n",
       "      <td>spain</td>\n",
       "      <td>z5m936GA0t3vHM28QKhR</td>\n",
       "    </tr>\n",
       "  </tbody>\n",
       "</table>\n",
       "</div>"
      ],
      "text/plain": [
       "  images             creation_date        user_in_charge  code  \\\n",
       "0     []  2020-08-26T18:02:55.591Z  IjBxXuBshlfq2MUzwBSK   899   \n",
       "1     []  2020-12-22T08:59:35.685Z  IjBxXuBshlfq2MUzwBSK  2257   \n",
       "2     []  2020-12-07T08:56:28.137Z  IjBxXuBshlfq2MUzwBSK  1959   \n",
       "3     []  2020-08-26T18:02:55.591Z  IjBxXuBshlfq2MUzwBSK  1049   \n",
       "4     []  2020-12-05T22:24:00.338Z  IjBxXuBshlfq2MUzwBSK  1934   \n",
       "\n",
       "             account_id  vat_amount          intervention  \\\n",
       "0  3deqBmrZ1iJkAwMmxSOp    3.644628  w04441aFcU5b7pQm6Rd2   \n",
       "1  FHwFsBItyEneaZh8yP0T    0.000000  w04441aFcU5b7pQm6Rd2   \n",
       "2  FHwFsBItyEneaZh8yP0T    0.000000  w04441aFcU5b7pQm6Rd2   \n",
       "3  3deqBmrZ1iJkAwMmxSOp    6.595041  w04441aFcU5b7pQm6Rd2   \n",
       "4  j2UYEKf01eFHMPZv9qHq    0.000000  w04441aFcU5b7pQm6Rd2   \n",
       "\n",
       "                project                    id                   concept  \\\n",
       "0  0DmODGTOEiM5lg9SGx0J  01WVDHF0gSSg1PCFsosk             venta shopify   \n",
       "1  0DmODGTOEiM5lg9SGx0J  01dtZiGq12IzmIpOVG3X  Gastos de envio Nacional   \n",
       "2  0DmODGTOEiM5lg9SGx0J  01nQGx25hZLez38FpWEe  Gastos de envio Nacional   \n",
       "3  0DmODGTOEiM5lg9SGx0J  026RXV3hyl33ussoU7D9             venta shopify   \n",
       "4  0DmODGTOEiM5lg9SGx0J  02EE48NlGSbqGrrLvIHl           Comision Stripe   \n",
       "\n",
       "              target_id                 phase  amount   vat  \\\n",
       "0  yfy4cPxkmFwIYVnoWD0A                  None    21.0  21.0   \n",
       "1  iA9Pzv2CImjItzwCaQv0                  None     6.1   0.0   \n",
       "2  iA9Pzv2CImjItzwCaQv0                  None     6.1   0.0   \n",
       "3  iA9Pzv2CImjItzwCaQv0                  None    38.0  21.0   \n",
       "4  iA9Pzv2CImjItzwCaQv0  LXspD4R7rZ6Jw5EOEZYR     1.2   0.0   \n",
       "\n",
       "             execution_date                  description       origin  \\\n",
       "0  2020-04-28T12:07:49.000Z  venta online: 2288996286563  script_dani   \n",
       "1  2020-12-22T08:59:35.685Z                2915979624547      shopify   \n",
       "2  2020-12-07T08:56:28.137Z                2875805401187      shopify   \n",
       "3  2020-04-28T19:50:24.000Z  venta online: 2290422218851  script_dani   \n",
       "4  2020-12-05T22:24:00.338Z                2872447467619      shopify   \n",
       "\n",
       "       type  place          creator_user  \n",
       "0    income  spain  z5m936GA0t3vHM28QKhR  \n",
       "1  movement  spain  z5m936GA0t3vHM28QKhR  \n",
       "2  movement  spain  z5m936GA0t3vHM28QKhR  \n",
       "3    income  spain  z5m936GA0t3vHM28QKhR  \n",
       "4   expense  spain  z5m936GA0t3vHM28QKhR  "
      ]
     },
     "execution_count": 238,
     "metadata": {},
     "output_type": "execute_result"
    }
   ],
   "source": [
    "#lets see how it shows\n",
    "accounting.head()"
   ]
  },
  {
   "cell_type": "markdown",
   "metadata": {},
   "source": [
    "#### convert execution to isostring"
   ]
  },
  {
   "cell_type": "code",
   "execution_count": 239,
   "metadata": {},
   "outputs": [],
   "source": [
    "def clean_execution(x):\n",
    "    if(len(x['execution_date'])<15):\n",
    "        doc_id = x['id']\n",
    "        exec_date=x['execution_date']+'T14:14:58.593Z'\n",
    "        print(exec_date)\n",
    "        print(len(x['execution_date']))\n",
    "        #upload to firebase if whished\n",
    "        #a=db.collection(u'Accounting').document(doc_id).update({'execution_date':exec_date})\n",
    "        \n",
    "        return exec_date\n",
    "    else:\n",
    "        return x['execution_date']\n",
    "        "
   ]
  },
  {
   "cell_type": "code",
   "execution_count": 240,
   "metadata": {},
   "outputs": [
    {
     "name": "stdout",
     "output_type": "stream",
     "text": [
      "2021-11-30T14:14:58.593Z\n",
      "10\n"
     ]
    }
   ],
   "source": [
    "accounting['execution_date']=accounting.apply(lambda x: clean_execution(x) ,axis=1)"
   ]
  },
  {
   "cell_type": "markdown",
   "metadata": {},
   "source": [
    "##### clean VAT and replace nan with 0"
   ]
  },
  {
   "cell_type": "code",
   "execution_count": 241,
   "metadata": {},
   "outputs": [],
   "source": [
    "def clean_vat_amount(x):\n",
    "    doc_id = x['id']\n",
    "    amount=x['amount']\n",
    "    origin = x['origin']\n",
    "    if origin =='script_dani':\n",
    "        if 0 < x['vat']:\n",
    "            vat=21\n",
    "        else:\n",
    "            vat=0\n",
    "        #a=db.collection(u'Accounting').document(doc_id).update({'vat':vat})\n",
    "    else:\n",
    "        vat=x['vat']\n",
    "        if not(0 <= vat):\n",
    "            vat=0\n",
    "    vat_amount=amount*(1-1/(1+vat/100))\n",
    "\n",
    "    #a=db.collection(u'Accounting').document(doc_id).update({'vat_amount':vat_amount})\n",
    "\n",
    "    return pd.Series({'vat':vat,'vat_amount':vat_amount})"
   ]
  },
  {
   "cell_type": "code",
   "execution_count": 242,
   "metadata": {},
   "outputs": [],
   "source": [
    "accounting[['vat','vat_amount']] = accounting.apply(lambda x: clean_vat_amount(x),axis=1)"
   ]
  },
  {
   "cell_type": "markdown",
   "metadata": {},
   "source": [
    "###### convert dates to datetime"
   ]
  },
  {
   "cell_type": "code",
   "execution_count": 243,
   "metadata": {},
   "outputs": [],
   "source": [
    "#utc=True important if dates are in diferent formats\n",
    "accounting['creation_date'] = pd.to_datetime(accounting['creation_date'],utc=True)\n",
    "accounting['execution_date'] = pd.to_datetime(accounting['execution_date'],utc=True)"
   ]
  },
  {
   "cell_type": "code",
   "execution_count": 282,
   "metadata": {},
   "outputs": [],
   "source": [
    "def getimages(x):\n",
    "    receipt = ''\n",
    "    if not (x):\n",
    "        return receipt\n",
    "    elif(len(x)==0):\n",
    "        return receipt\n",
    "    elif('drive_url' in x[0].keys()):\n",
    "        download_url = x[0]['drive_url']\n",
    "        if(download_url != None):\n",
    "            return download_url\n",
    "    elif('download_url' in x[0].keys()):\n",
    "        download_url = x[0]['download_url']\n",
    "        if(download_url != None):\n",
    "            return download_url\n",
    "    else:\n",
    "        return ''\n",
    "    \n",
    "    return receipt"
   ]
  },
  {
   "cell_type": "code",
   "execution_count": 245,
   "metadata": {},
   "outputs": [],
   "source": [
    "accounting['receipt']=accounting.images.apply(lambda x: getimages(x))"
   ]
  },
  {
   "cell_type": "code",
   "execution_count": 283,
   "metadata": {},
   "outputs": [],
   "source": [
    "def getimages_2(x):\n",
    "    drive_url = ''\n",
    "    download_url = ''\n",
    "    if not (x):\n",
    "        drive_url = ''\n",
    "    elif(0 < len(x)):\n",
    "        if('drive_url' in x[0].keys()):\n",
    "            drive_url = x[0]['drive_url']\n",
    "        if('download_url' in x[0].keys()):\n",
    "            download_url = x[0]['download_url']\n",
    "    \n",
    "    return pd.Series([drive_url,download_url])\n",
    "accounting[['drive_url','download_url']] = accounting.images.apply(lambda x: getimages_2(x))"
   ]
  },
  {
   "cell_type": "markdown",
   "metadata": {},
   "source": [
    "##### double check"
   ]
  },
  {
   "cell_type": "code",
   "execution_count": 246,
   "metadata": {},
   "outputs": [
    {
     "name": "stdout",
     "output_type": "stream",
     "text": [
      "<class 'pandas.core.frame.DataFrame'>\n",
      "RangeIndex: 2403 entries, 0 to 2402\n",
      "Data columns (total 21 columns):\n",
      " #   Column          Non-Null Count  Dtype              \n",
      "---  ------          --------------  -----              \n",
      " 0   images          2398 non-null   object             \n",
      " 1   creation_date   2403 non-null   datetime64[ns, UTC]\n",
      " 2   user_in_charge  2403 non-null   object             \n",
      " 3   code            2403 non-null   int64              \n",
      " 4   account_id      2403 non-null   object             \n",
      " 5   vat_amount      2403 non-null   float64            \n",
      " 6   intervention    2403 non-null   object             \n",
      " 7   project         2403 non-null   object             \n",
      " 8   id              2403 non-null   object             \n",
      " 9   concept         2403 non-null   object             \n",
      " 10  target_id       2403 non-null   object             \n",
      " 11  phase           800 non-null    object             \n",
      " 12  amount          2403 non-null   float64            \n",
      " 13  vat             2403 non-null   float64            \n",
      " 14  execution_date  2403 non-null   datetime64[ns, UTC]\n",
      " 15  description     2350 non-null   object             \n",
      " 16  origin          2403 non-null   object             \n",
      " 17  type            2403 non-null   object             \n",
      " 18  place           2403 non-null   object             \n",
      " 19  creator_user    2403 non-null   object             \n",
      " 20  receipt         2403 non-null   object             \n",
      "dtypes: datetime64[ns, UTC](2), float64(3), int64(1), object(15)\n",
      "memory usage: 394.4+ KB\n"
     ]
    }
   ],
   "source": [
    "accounting.info()"
   ]
  },
  {
   "cell_type": "markdown",
   "metadata": {},
   "source": [
    "### select columns"
   ]
  },
  {
   "cell_type": "code",
   "execution_count": 247,
   "metadata": {},
   "outputs": [],
   "source": [
    "#and the order whe want to upload to bigquery\n",
    "df = accounting[['concept', 'place', 'creation_date', 'vat', 'description', 'amount',\n",
    "       'id', 'phase', 'creator_user', 'execution_date',\n",
    "       'user_in_charge', 'origin', 'account_id', 'project', 'code', 'type',\n",
    "       'intervention', 'target_id', 'vat_amount', 'receipt']]"
   ]
  },
  {
   "cell_type": "markdown",
   "metadata": {},
   "source": [
    "## upload to BIGQUERY"
   ]
  },
  {
   "cell_type": "code",
   "execution_count": 253,
   "metadata": {},
   "outputs": [
    {
     "name": "stderr",
     "output_type": "stream",
     "text": [
      "1it [00:06,  6.42s/it]\n"
     ]
    }
   ],
   "source": [
    "table_id = \"{}.accounting\".format(dataset.dataset_id)\n",
    "proj = bgq_client.project\n",
    "df.to_gbq(table_id,proj,if_exists='replace')"
   ]
  },
  {
   "cell_type": "code",
   "execution_count": 260,
   "metadata": {},
   "outputs": [],
   "source": [
    "#25 de Enero... debido a la buena cagada\n",
    "#table_id = \"{}.accounting_202101\".format(dataset.dataset_id)\n",
    "#proj = bgq_client.project"
   ]
  },
  {
   "cell_type": "code",
   "execution_count": 261,
   "metadata": {},
   "outputs": [
    {
     "name": "stderr",
     "output_type": "stream",
     "text": [
      "1it [00:05,  5.75s/it]\n"
     ]
    }
   ],
   "source": [
    "#df.to_gbq(table_id,proj,if_exists='replace')"
   ]
  },
  {
   "cell_type": "markdown",
   "metadata": {},
   "source": [
    "## CHECK"
   ]
  },
  {
   "cell_type": "code",
   "execution_count": 266,
   "metadata": {},
   "outputs": [
    {
     "name": "stderr",
     "output_type": "stream",
     "text": [
      "Downloading: 100%|██████████| 2404/2404 [00:01<00:00, 1374.88rows/s]\n"
     ]
    }
   ],
   "source": [
    "df_check = pd.read_gbq('SELECT * FROM `oan-nikarit.contoan.accounting`')"
   ]
  },
  {
   "cell_type": "code",
   "execution_count": 267,
   "metadata": {},
   "outputs": [
    {
     "data": {
      "text/plain": [
       "341"
      ]
     },
     "execution_count": 267,
     "metadata": {},
     "output_type": "execute_result"
    }
   ],
   "source": [
    "len(df_check['receipt'].unique())"
   ]
  },
  {
   "cell_type": "code",
   "execution_count": 265,
   "metadata": {},
   "outputs": [
    {
     "data": {
      "text/plain": [
       "'https://drive.google.com/file/d/13Ayx4I0_GuFJQg5bmeHaYGPL0vrsOlFM/view'"
      ]
     },
     "execution_count": 265,
     "metadata": {},
     "output_type": "execute_result"
    }
   ],
   "source": [
    "df_check[df_check['id']=='itQROxDOKoHOykjk4g9t']['receipt'].iloc[0]"
   ]
  },
  {
   "cell_type": "markdown",
   "metadata": {},
   "source": [
    "### SUBIR VENTAS"
   ]
  },
  {
   "cell_type": "markdown",
   "metadata": {},
   "source": [
    "#### get data"
   ]
  },
  {
   "cell_type": "code",
   "execution_count": 11,
   "metadata": {},
   "outputs": [],
   "source": [
    "col_query = db.collection('Nikarit_Sales').stream()"
   ]
  },
  {
   "cell_type": "code",
   "execution_count": 12,
   "metadata": {},
   "outputs": [],
   "source": [
    "ventas = []\n",
    "for acc in col_query:\n",
    "    ventas.append(acc.to_dict())"
   ]
  },
  {
   "cell_type": "code",
   "execution_count": 13,
   "metadata": {},
   "outputs": [],
   "source": [
    "df_ventas = pd.DataFrame(ventas)"
   ]
  },
  {
   "cell_type": "code",
   "execution_count": 14,
   "metadata": {},
   "outputs": [
    {
     "data": {
      "text/plain": [
       "(1775, 69)"
      ]
     },
     "execution_count": 14,
     "metadata": {},
     "output_type": "execute_result"
    }
   ],
   "source": [
    "df_ventas.shape"
   ]
  },
  {
   "cell_type": "markdown",
   "metadata": {},
   "source": [
    "### view"
   ]
  },
  {
   "cell_type": "code",
   "execution_count": 15,
   "metadata": {},
   "outputs": [
    {
     "name": "stdout",
     "output_type": "stream",
     "text": [
      "<class 'pandas.core.frame.DataFrame'>\n",
      "RangeIndex: 1775 entries, 0 to 1774\n",
      "Data columns (total 69 columns):\n",
      " #   Column                     Non-Null Count  Dtype  \n",
      "---  ------                     --------------  -----  \n",
      " 0   bolsa_nb                   513 non-null    float64\n",
      " 1   packBandana_total_price    493 non-null    float64\n",
      " 2   product_movement           458 non-null    object \n",
      " 3   navidadCode                403 non-null    float64\n",
      " 4   packHidra_nb               1775 non-null   float64\n",
      " 5   balsamo_unit_price         1775 non-null   object \n",
      " 6   gateway                    1775 non-null   object \n",
      " 7   packHidra_unit_price       1775 non-null   object \n",
      " 8   country                    1009 non-null   object \n",
      " 9   client_phone               429 non-null    object \n",
      " 10  manteca_nb                 1775 non-null   float64\n",
      " 11  subtotal_price             1775 non-null   object \n",
      " 12  packMadre_unit_price       187 non-null    float64\n",
      " 13  client_gender              1128 non-null   object \n",
      " 14  longitude                  1628 non-null   float64\n",
      " 15  packAbanico_nb             493 non-null    float64\n",
      " 16  manteca_total_price        1775 non-null   float64\n",
      " 17  packBandana_nb             493 non-null    float64\n",
      " 18  balsamo_total_price        1775 non-null   float64\n",
      " 19  donation                   279 non-null    float64\n",
      " 20  packNavidad_unit_price     454 non-null    object \n",
      " 21  creation_date              1775 non-null   object \n",
      " 22  order_id                   1073 non-null   object \n",
      " 23  total_tax                  1775 non-null   float64\n",
      " 24  packAbanico_total_price    493 non-null    float64\n",
      " 25  packContigo_unit_price     1128 non-null   object \n",
      " 26  taxes_included             1128 non-null   object \n",
      " 27  packMadre_total_price      187 non-null    float64\n",
      " 28  packNavidad_total_price    454 non-null    float64\n",
      " 29  close_date                 1621 non-null   object \n",
      " 30  packHidra_total_price      1775 non-null   float64\n",
      " 31  crema_total_price          1775 non-null   float64\n",
      " 32  accounting_item            473 non-null    object \n",
      " 33  manteca_unit_price         1775 non-null   object \n",
      " 34  buyer_accepts_marketing    387 non-null    object \n",
      " 35  zip                        1041 non-null   object \n",
      " 36  packContigo_nb             1128 non-null   float64\n",
      " 37  balsamo_nb                 1775 non-null   float64\n",
      " 38  bolsa_unit_price           513 non-null    object \n",
      " 39  origin                     1775 non-null   object \n",
      " 40  client_last_name           1108 non-null   object \n",
      " 41  client_adresse             429 non-null    object \n",
      " 42  client_name                1121 non-null   object \n",
      " 43  latitude                   1628 non-null   float64\n",
      " 44  order_status_url           1069 non-null   object \n",
      " 45  crema_nb                   1775 non-null   float64\n",
      " 46  bolsa_total_price          513 non-null    float64\n",
      " 47  province                   770 non-null    object \n",
      " 48  client_email               1069 non-null   object \n",
      " 49  city                       432 non-null    object \n",
      " 50  packContigo_total_price    1128 non-null   float64\n",
      " 51  packBandana_unit_price     493 non-null    object \n",
      " 52  packAbanico_unit_price     493 non-null    object \n",
      " 53  crema_unit_price           1775 non-null   object \n",
      " 54  packMadre_nb               187 non-null    float64\n",
      " 55  total_price                1775 non-null   float64\n",
      " 56  id                         1775 non-null   object \n",
      " 57  packNavidad_nb             454 non-null    float64\n",
      " 58  sumup_transaction_id       647 non-null    object \n",
      " 59  sumup_user                 647 non-null    object \n",
      " 60  packTerrafeet_nb           76 non-null     float64\n",
      " 61  packTerrafeet_total_price  76 non-null     float64\n",
      " 62  packTerrafeet_unit_price   76 non-null     float64\n",
      " 63  message                    3 non-null      object \n",
      " 64  to                         3 non-null      object \n",
      " 65  discount_price             18 non-null     float64\n",
      " 66  manteca1kg_total_price     1 non-null      float64\n",
      " 67  manteca1kg_unit_price      1 non-null      float64\n",
      " 68  manteca1kg_nb              1 non-null      float64\n",
      "dtypes: float64(34), object(35)\n",
      "memory usage: 957.0+ KB\n"
     ]
    }
   ],
   "source": [
    "df_ventas.info()"
   ]
  },
  {
   "cell_type": "markdown",
   "metadata": {},
   "source": [
    "#### transform data"
   ]
  },
  {
   "cell_type": "code",
   "execution_count": 16,
   "metadata": {},
   "outputs": [],
   "source": [
    "cols = list(df_ventas.columns)"
   ]
  },
  {
   "cell_type": "code",
   "execution_count": 17,
   "metadata": {},
   "outputs": [],
   "source": [
    "cambios = [col for col in cols if 'price' in col]"
   ]
  },
  {
   "cell_type": "code",
   "execution_count": 18,
   "metadata": {},
   "outputs": [],
   "source": [
    "for cambio in cambios:\n",
    "    df_ventas[cambio]=pd.to_numeric(df_ventas[cambio])"
   ]
  },
  {
   "cell_type": "code",
   "execution_count": 19,
   "metadata": {},
   "outputs": [],
   "source": [
    "df_ventas['creation_date']=pd.to_datetime(df_ventas['creation_date'],utc=True)\n",
    "df_ventas['close_date']=pd.to_datetime(df_ventas['close_date'],utc=True)"
   ]
  },
  {
   "cell_type": "code",
   "execution_count": 20,
   "metadata": {},
   "outputs": [
    {
     "name": "stdout",
     "output_type": "stream",
     "text": [
      "<class 'pandas.core.frame.DataFrame'>\n",
      "RangeIndex: 1775 entries, 0 to 1774\n",
      "Data columns (total 69 columns):\n",
      " #   Column                     Non-Null Count  Dtype              \n",
      "---  ------                     --------------  -----              \n",
      " 0   bolsa_nb                   513 non-null    float64            \n",
      " 1   packBandana_total_price    493 non-null    float64            \n",
      " 2   product_movement           458 non-null    object             \n",
      " 3   navidadCode                403 non-null    float64            \n",
      " 4   packHidra_nb               1775 non-null   float64            \n",
      " 5   balsamo_unit_price         1775 non-null   float64            \n",
      " 6   gateway                    1775 non-null   object             \n",
      " 7   packHidra_unit_price       1775 non-null   float64            \n",
      " 8   country                    1009 non-null   object             \n",
      " 9   client_phone               429 non-null    object             \n",
      " 10  manteca_nb                 1775 non-null   float64            \n",
      " 11  subtotal_price             1775 non-null   float64            \n",
      " 12  packMadre_unit_price       187 non-null    float64            \n",
      " 13  client_gender              1128 non-null   object             \n",
      " 14  longitude                  1628 non-null   float64            \n",
      " 15  packAbanico_nb             493 non-null    float64            \n",
      " 16  manteca_total_price        1775 non-null   float64            \n",
      " 17  packBandana_nb             493 non-null    float64            \n",
      " 18  balsamo_total_price        1775 non-null   float64            \n",
      " 19  donation                   279 non-null    float64            \n",
      " 20  packNavidad_unit_price     454 non-null    float64            \n",
      " 21  creation_date              1775 non-null   datetime64[ns, UTC]\n",
      " 22  order_id                   1073 non-null   object             \n",
      " 23  total_tax                  1775 non-null   float64            \n",
      " 24  packAbanico_total_price    493 non-null    float64            \n",
      " 25  packContigo_unit_price     1128 non-null   float64            \n",
      " 26  taxes_included             1128 non-null   object             \n",
      " 27  packMadre_total_price      187 non-null    float64            \n",
      " 28  packNavidad_total_price    454 non-null    float64            \n",
      " 29  close_date                 1621 non-null   datetime64[ns, UTC]\n",
      " 30  packHidra_total_price      1775 non-null   float64            \n",
      " 31  crema_total_price          1775 non-null   float64            \n",
      " 32  accounting_item            473 non-null    object             \n",
      " 33  manteca_unit_price         1775 non-null   float64            \n",
      " 34  buyer_accepts_marketing    387 non-null    object             \n",
      " 35  zip                        1041 non-null   object             \n",
      " 36  packContigo_nb             1128 non-null   float64            \n",
      " 37  balsamo_nb                 1775 non-null   float64            \n",
      " 38  bolsa_unit_price           513 non-null    float64            \n",
      " 39  origin                     1775 non-null   object             \n",
      " 40  client_last_name           1108 non-null   object             \n",
      " 41  client_adresse             429 non-null    object             \n",
      " 42  client_name                1121 non-null   object             \n",
      " 43  latitude                   1628 non-null   float64            \n",
      " 44  order_status_url           1069 non-null   object             \n",
      " 45  crema_nb                   1775 non-null   float64            \n",
      " 46  bolsa_total_price          513 non-null    float64            \n",
      " 47  province                   770 non-null    object             \n",
      " 48  client_email               1069 non-null   object             \n",
      " 49  city                       432 non-null    object             \n",
      " 50  packContigo_total_price    1128 non-null   float64            \n",
      " 51  packBandana_unit_price     493 non-null    float64            \n",
      " 52  packAbanico_unit_price     493 non-null    float64            \n",
      " 53  crema_unit_price           1775 non-null   float64            \n",
      " 54  packMadre_nb               187 non-null    float64            \n",
      " 55  total_price                1775 non-null   float64            \n",
      " 56  id                         1775 non-null   object             \n",
      " 57  packNavidad_nb             454 non-null    float64            \n",
      " 58  sumup_transaction_id       647 non-null    object             \n",
      " 59  sumup_user                 647 non-null    object             \n",
      " 60  packTerrafeet_nb           76 non-null     float64            \n",
      " 61  packTerrafeet_total_price  76 non-null     float64            \n",
      " 62  packTerrafeet_unit_price   76 non-null     float64            \n",
      " 63  message                    3 non-null      object             \n",
      " 64  to                         3 non-null      object             \n",
      " 65  discount_price             18 non-null     float64            \n",
      " 66  manteca1kg_total_price     1 non-null      float64            \n",
      " 67  manteca1kg_unit_price      1 non-null      float64            \n",
      " 68  manteca1kg_nb              1 non-null      float64            \n",
      "dtypes: datetime64[ns, UTC](2), float64(44), object(23)\n",
      "memory usage: 957.0+ KB\n"
     ]
    }
   ],
   "source": [
    "#double check\n",
    "df_ventas.info()"
   ]
  },
  {
   "cell_type": "code",
   "execution_count": 21,
   "metadata": {},
   "outputs": [
    {
     "data": {
      "text/plain": [
       "(1775, 69)"
      ]
     },
     "execution_count": 21,
     "metadata": {},
     "output_type": "execute_result"
    }
   ],
   "source": [
    "df_ventas.shape"
   ]
  },
  {
   "cell_type": "code",
   "execution_count": 22,
   "metadata": {},
   "outputs": [],
   "source": [
    "df_ventas['toteBag_nb'] = 0\n",
    "df_ventas['toteBag_unit_price'] = 0\n",
    "df_ventas['toteBag_total_price'] = 0"
   ]
  },
  {
   "cell_type": "markdown",
   "metadata": {},
   "source": [
    "### METER MUJERES Y HOMBRES"
   ]
  },
  {
   "cell_type": "code",
   "execution_count": 23,
   "metadata": {},
   "outputs": [],
   "source": [
    "#client_gender"
   ]
  },
  {
   "cell_type": "code",
   "execution_count": 24,
   "metadata": {},
   "outputs": [],
   "source": [
    "#lista de mujeres\n",
    "url = 'https://raw.githubusercontent.com/marcboquet/spanish-names/master/mujeres.csv'\n",
    "df_mujeres = pd.read_csv(url, error_bad_lines=False)\n",
    "l_mujeres = df_mujeres['nombre'].to_list()"
   ]
  },
  {
   "cell_type": "code",
   "execution_count": 25,
   "metadata": {},
   "outputs": [],
   "source": [
    "l_mujeres = [str(nom).lower() for nom in l_mujeres]"
   ]
  },
  {
   "cell_type": "code",
   "execution_count": 26,
   "metadata": {},
   "outputs": [],
   "source": [
    "l_mujeres= l_mujeres+['maasuncion','mirenchu','begona','nadai','sra.','mcarmen','carmena','maita',\n",
    "'madolores','reyero','ma','maconcepción','cris']"
   ]
  },
  {
   "cell_type": "code",
   "execution_count": 27,
   "metadata": {},
   "outputs": [],
   "source": [
    "#lista de hombres\n",
    "url = 'https://raw.githubusercontent.com/marcboquet/spanish-names/master/hombres.csv'\n",
    "df_hombres = pd.read_csv(url, error_bad_lines=False)\n",
    "l_hombres = df_hombres['nombre'].to_list()"
   ]
  },
  {
   "cell_type": "code",
   "execution_count": 28,
   "metadata": {},
   "outputs": [],
   "source": [
    "l_hombres = [nom.lower() for nom in l_hombres]"
   ]
  },
  {
   "cell_type": "code",
   "execution_count": 29,
   "metadata": {},
   "outputs": [],
   "source": [
    "l_hombres= l_hombres+['fcojavier']"
   ]
  },
  {
   "cell_type": "code",
   "execution_count": 30,
   "metadata": {},
   "outputs": [],
   "source": [
    "#aplicar sexo\n",
    "df_ventas['client_gender'] = df_ventas['client_name'].apply(lambda x: \n",
    "                            'F' if unidecode.unidecode(\n",
    "                                    str(x).replace(\" \", \"\").lower()) in l_mujeres\n",
    "                            else 'M' if unidecode.unidecode(\n",
    "                                str(x).replace(\" \", \"\").lower())  in l_hombres\n",
    "                            else 'F' if unidecode.unidecode(\n",
    "                                str(x).split(\" \")[0].lower())  in l_mujeres\n",
    "                            else 'M' if unidecode.unidecode(\n",
    "                                str(x).split(\" \")[0].lower())  in l_hombres\n",
    "\n",
    "                            else 'N/A')"
   ]
  },
  {
   "cell_type": "code",
   "execution_count": 31,
   "metadata": {},
   "outputs": [
    {
     "data": {
      "text/plain": [
       "F      1510\n",
       "M       221\n",
       "N/A      44\n",
       "Name: client_gender, dtype: int64"
      ]
     },
     "execution_count": 31,
     "metadata": {},
     "output_type": "execute_result"
    }
   ],
   "source": [
    "#ver que sale\n",
    "df_ventas['client_gender'].value_counts() # A MEJORRAR"
   ]
  },
  {
   "cell_type": "code",
   "execution_count": 32,
   "metadata": {},
   "outputs": [
    {
     "data": {
      "text/plain": [
       "101                                 chinwe\n",
       "121                             herguedas,\n",
       "122                       notariaserrano19\n",
       "144                      impulsandolab,s.l\n",
       "151                                     f.\n",
       "198                         beaaccemmurcia\n",
       "211                    herbolariosalamanca\n",
       "212                                  patri\n",
       "269                  indianoceanconsulting\n",
       "426                                     f.\n",
       "569                              pachamama\n",
       "598                   companerosmastersofi\n",
       "623                         farmacialaluna\n",
       "628                                herrera\n",
       "635                                 gandou\n",
       "651                                   none\n",
       "671                                  nanna\n",
       "704                                  madre\n",
       "729                      companerostrabajo\n",
       "791                                  durga\n",
       "834                                   none\n",
       "843                                   none\n",
       "863                                   none\n",
       "875                       laposadademanolo\n",
       "905                              pachamama\n",
       "929                                   none\n",
       "981                            ventasorteo\n",
       "996                              ventajose\n",
       "1040                                    f.\n",
       "1042                                 txoni\n",
       "1051    bizumde:05941783djosemariaelolaoca\n",
       "1052                                  none\n",
       "1205                                clavis\n",
       "1230                   herbolariosalamanca\n",
       "1273                                    f.\n",
       "1518            transfctade:juanlasotaylor\n",
       "1558                                 peque\n",
       "1581                                    f.\n",
       "1582                              vinuales\n",
       "1585                              gonzalez\n",
       "1596         ventasperfumeriaparis(merida)\n",
       "1689                                  none\n",
       "1762                                  saez\n",
       "1770                                 m.mar\n",
       "Name: client_name, dtype: object"
      ]
     },
     "execution_count": 32,
     "metadata": {},
     "output_type": "execute_result"
    }
   ],
   "source": [
    "df_ventas[df_ventas['client_gender'] == 'N/A'\n",
    "         ]['client_name'].apply(lambda x: unidecode.unidecode(str(x).replace(\" \", \"\").lower()))"
   ]
  },
  {
   "cell_type": "markdown",
   "metadata": {},
   "source": [
    "## METER DONACIONES"
   ]
  },
  {
   "cell_type": "code",
   "execution_count": 33,
   "metadata": {},
   "outputs": [
    {
     "data": {
      "text/plain": [
       "array(['Shopify', 'sumup', 'Contoan'], dtype=object)"
      ]
     },
     "execution_count": 33,
     "metadata": {},
     "output_type": "execute_result"
    }
   ],
   "source": [
    "df_ventas['origin'].unique()"
   ]
  },
  {
   "cell_type": "code",
   "execution_count": 34,
   "metadata": {},
   "outputs": [],
   "source": [
    "def don(x):\n",
    "    total_price = x['total_price']\n",
    "    subtotal_price = x['subtotal_price']\n",
    "    fecha = str(x['creation_date']).split(' ')[0]\n",
    "    origin = x['origin']\n",
    "    don = 0.0\n",
    "    if '2020-11-01' < fecha and origin == \"Shopify\":\n",
    "        if total_price < 40:\n",
    "            don = total_price - subtotal_price - 5.50\n",
    "        else:\n",
    "            don = total_price - subtotal_price\n",
    "            \n",
    "    return don\n",
    "\n",
    "df_ventas['donation'] = df_ventas.apply(lambda x: don(x),axis=1)"
   ]
  },
  {
   "cell_type": "code",
   "execution_count": 35,
   "metadata": {},
   "outputs": [],
   "source": [
    "df_ventas['donation'] = df_ventas.apply(lambda x: don(x),axis=1)"
   ]
  },
  {
   "cell_type": "code",
   "execution_count": 36,
   "metadata": {},
   "outputs": [
    {
     "data": {
      "text/plain": [
       "790.68"
      ]
     },
     "execution_count": 36,
     "metadata": {},
     "output_type": "execute_result"
    }
   ],
   "source": [
    "df_ventas['donation'].sum()"
   ]
  },
  {
   "cell_type": "markdown",
   "metadata": {},
   "source": [
    "## ERROR EN PROVINCE"
   ]
  },
  {
   "cell_type": "code",
   "execution_count": 37,
   "metadata": {},
   "outputs": [],
   "source": [
    "import requests"
   ]
  },
  {
   "cell_type": "code",
   "execution_count": 38,
   "metadata": {},
   "outputs": [],
   "source": [
    "## DEBERIAMOS exportarlo bien a nuestra bbdd\n",
    "shop_url = os.environ['SHOPIFY_ACCESS_URL']\n",
    "dates = ['2019-01-01T00:15:47-04:00','2020-01-01T00:15:47-04:00',\n",
    "         '2020-05-01T00:15:47-04:00','2020-12-10T00:15:47-04:00', '2021-01-10T00:15:47-04:00']\n",
    "l_orders = []\n",
    "\n",
    "for date_min,date_max in zip(dates[:-1],dates[1:]):\n",
    "    orders_url = shop_url+'/orders.json'\n",
    "    r = requests.get(orders_url,\n",
    "                 params={\n",
    "                        'limit':250,\n",
    "                        'status':'any',\n",
    "                         'created_at_max':date_max,\n",
    "                         'created_at_min':date_min\n",
    "                        })\n",
    "    orders = pd.DataFrame(r.json()['orders'])\n",
    "    l_orders.append(orders)\n",
    "df_orders = pd.concat(l_orders,axis=0).reset_index().drop_duplicates(subset=['id'])"
   ]
  },
  {
   "cell_type": "code",
   "execution_count": 39,
   "metadata": {},
   "outputs": [],
   "source": [
    "df_orders['province_2'] = df_orders['billing_address'].apply(lambda x: x['province'])\n",
    "df_orders['order_id'] = df_orders['id'].apply(str)\n",
    "df_ventas['order_id'] = df_ventas['order_id'].apply(str)\n",
    "df_ventas = pd.merge(df_ventas,df_orders[['order_id','province_2']],on='order_id',how='left')\n",
    "\n",
    "df_ventas['province'] = df_ventas['province_2'] \n",
    "df_ventas = df_ventas.drop('province_2',axis=1)"
   ]
  },
  {
   "cell_type": "code",
   "execution_count": 40,
   "metadata": {},
   "outputs": [
    {
     "data": {
      "text/plain": [
       "'navidadCode'"
      ]
     },
     "execution_count": 40,
     "metadata": {},
     "output_type": "execute_result"
    }
   ],
   "source": [
    "cols = list(df_ventas.columns)\n",
    "cols.pop(cols.index('to'))\n",
    "cols.pop(cols.index('message'))\n",
    "cols.pop(cols.index('navidadCode'))"
   ]
  },
  {
   "cell_type": "code",
   "execution_count": 41,
   "metadata": {},
   "outputs": [],
   "source": [
    "df_ventas = df_ventas[cols]"
   ]
  },
  {
   "cell_type": "code",
   "execution_count": 42,
   "metadata": {},
   "outputs": [
    {
     "data": {
      "text/plain": [
       "(1775, 69)"
      ]
     },
     "execution_count": 42,
     "metadata": {},
     "output_type": "execute_result"
    }
   ],
   "source": [
    "df_ventas.shape"
   ]
  },
  {
   "cell_type": "code",
   "execution_count": 43,
   "metadata": {},
   "outputs": [
    {
     "data": {
      "text/plain": [
       "Madrid        427\n",
       "Barcelona      45\n",
       "Valladolid     42\n",
       "Valencia       30\n",
       "Málaga         22\n",
       "Name: province, dtype: int64"
      ]
     },
     "execution_count": 43,
     "metadata": {},
     "output_type": "execute_result"
    }
   ],
   "source": [
    "df_ventas['province'].value_counts().head()"
   ]
  },
  {
   "cell_type": "markdown",
   "metadata": {},
   "source": [
    "## ACTUALIZAR FIREBAE"
   ]
  },
  {
   "cell_type": "code",
   "execution_count": 44,
   "metadata": {},
   "outputs": [],
   "source": [
    "#l_ship_det = ['ship_'+a for a in list(df_ord['shipping_address'][0].keys())]\n",
    "#df_ord['ship_zip']=df_ord['ship_zip'].fillna(value='')\n",
    "#def update_firebase(x):\n",
    "#    order_id = x['order_id']\n",
    "#    if order_id==None :\n",
    "#        return True\n",
    "#    else:\n",
    "#        order_id = int(order_id)\n",
    "#    ship_zip=df_ord[df_ord['id']==order_id]['ship_zip'].values[0]\n",
    "#    fire_id=x['id']\n",
    "#    #print(x['creation_date'])\n",
    "#    #a=db.collection(u'Nikarit_Sales').document(x['id']).update({'zip':ship_zip})\n",
    "##df_ventas[df_ventas['origin']!='Contoan'].apply(lambda x: update_firebase(x),axis=1)"
   ]
  },
  {
   "cell_type": "markdown",
   "metadata": {},
   "source": [
    "## CORREGIR SUBTOTAL Y IVA"
   ]
  },
  {
   "cell_type": "code",
   "execution_count": 45,
   "metadata": {},
   "outputs": [],
   "source": [
    "def iva(x):\n",
    "    iva = x['total_tax']\n",
    "    \n",
    "    #Corregir ventas de contoan\n",
    "    if x['origin'] == 'Contoan':\n",
    "        iva = x['total_price']*(1-1/1.21)\n",
    "    return iva\n",
    "\n",
    "df_ventas[\"total_tax_2\"] = df_ventas.apply(lambda x: iva(x),axis=1)\n",
    "df_ventas[\"total_tax\"] = df_ventas[\"total_tax_2\"]\n",
    "df_ventas = df_ventas.drop('total_tax_2',axis=1)"
   ]
  },
  {
   "cell_type": "code",
   "execution_count": 46,
   "metadata": {},
   "outputs": [],
   "source": [
    "def subtotal(x):\n",
    "    subtotal = x['subtotal_price']\n",
    "    \n",
    "    #Corregir ventas de contoan\n",
    "    if x['origin'] == 'Contoan':\n",
    "        subtotal = x['total_price']\n",
    "    return subtotal\n",
    "\n",
    "df_ventas[\"subtotal_price_2\"] = df_ventas.apply(lambda x: subtotal(x),axis=1)\n",
    "df_ventas[\"subtotal_price\"] = df_ventas[\"subtotal_price_2\"]\n",
    "df_ventas = df_ventas.drop('subtotal_price_2',axis=1)"
   ]
  },
  {
   "cell_type": "code",
   "execution_count": 66,
   "metadata": {},
   "outputs": [],
   "source": [
    "cols = list(df_ventas.columns)"
   ]
  },
  {
   "cell_type": "code",
   "execution_count": 67,
   "metadata": {},
   "outputs": [],
   "source": [
    "cols.sort()"
   ]
  },
  {
   "cell_type": "code",
   "execution_count": 54,
   "metadata": {},
   "outputs": [
    {
     "name": "stderr",
     "output_type": "stream",
     "text": [
      "1it [00:05,  5.07s/it]\n"
     ]
    }
   ],
   "source": [
    "#subir a bigquery\n",
    "table_id = \"contoan.sales\"\n",
    "\n",
    "df_ventas[cols].to_gbq(table_id, project_id=bgq_client.project, if_exists='replace')"
   ]
  },
  {
   "cell_type": "markdown",
   "metadata": {},
   "source": [
    "## TRANSFORM BOOLEAN"
   ]
  },
  {
   "cell_type": "code",
   "execution_count": 55,
   "metadata": {},
   "outputs": [],
   "source": [
    "sql = \"\"\"\n",
    "CREATE OR REPLACE TABLE `oan-nikarit.contoan.sales` AS\n",
    "SELECT\n",
    "  * EXCEPT (buyer_accepts_marketing,taxes_included),\n",
    "  CAST(buyer_accepts_marketing AS BOOL) AS buyer_accepts_marketing,\n",
    "  CAST(taxes_included AS BOOL) AS taxes_included\n",
    "FROM\n",
    "  `oan-nikarit.contoan.sales`\n",
    "\"\"\""
   ]
  },
  {
   "cell_type": "code",
   "execution_count": 57,
   "metadata": {},
   "outputs": [
    {
     "data": {
      "text/plain": [
       "<google.cloud.bigquery.job.QueryJob at 0x7ff0ab44fe50>"
      ]
     },
     "execution_count": 57,
     "metadata": {},
     "output_type": "execute_result"
    }
   ],
   "source": [
    "bgq_client.query(sql)"
   ]
  },
  {
   "cell_type": "markdown",
   "metadata": {},
   "source": [
    "### COPY TO FIREBASE CLOUD FUNCTION"
   ]
  },
  {
   "cell_type": "code",
   "execution_count": 69,
   "metadata": {},
   "outputs": [],
   "source": [
    "print_cols = cols.copy()"
   ]
  },
  {
   "cell_type": "code",
   "execution_count": 70,
   "metadata": {},
   "outputs": [],
   "source": [
    "print_cols.remove(\"buyer_accepts_marketing\")\n",
    "print_cols.remove(\"taxes_included\")"
   ]
  },
  {
   "cell_type": "code",
   "execution_count": 72,
   "metadata": {},
   "outputs": [],
   "source": [
    "print_cols = print_cols + [\"buyer_accepts_marketing\", \"taxes_included\"]"
   ]
  },
  {
   "cell_type": "code",
   "execution_count": 79,
   "metadata": {},
   "outputs": [
    {
     "name": "stdout",
     "output_type": "stream",
     "text": [
      "<class 'pandas.core.frame.DataFrame'>\n",
      "Int64Index: 1775 entries, 0 to 1774\n",
      "Data columns (total 69 columns):\n",
      " #   Column                     Non-Null Count  Dtype              \n",
      "---  ------                     --------------  -----              \n",
      " 0   accounting_item            473 non-null    object             \n",
      " 1   balsamo_nb                 1775 non-null   float64            \n",
      " 2   balsamo_total_price        1775 non-null   float64            \n",
      " 3   balsamo_unit_price         1775 non-null   float64            \n",
      " 4   bolsa_nb                   513 non-null    float64            \n",
      " 5   bolsa_total_price          513 non-null    float64            \n",
      " 6   bolsa_unit_price           513 non-null    float64            \n",
      " 7   city                       432 non-null    object             \n",
      " 8   client_adresse             429 non-null    object             \n",
      " 9   client_email               1069 non-null   object             \n",
      " 10  client_gender              1775 non-null   object             \n",
      " 11  client_last_name           1108 non-null   object             \n",
      " 12  client_name                1121 non-null   object             \n",
      " 13  client_phone               429 non-null    object             \n",
      " 14  close_date                 1621 non-null   datetime64[ns, UTC]\n",
      " 15  country                    1009 non-null   object             \n",
      " 16  creation_date              1775 non-null   datetime64[ns, UTC]\n",
      " 17  crema_nb                   1775 non-null   float64            \n",
      " 18  crema_total_price          1775 non-null   float64            \n",
      " 19  crema_unit_price           1775 non-null   float64            \n",
      " 20  discount_price             18 non-null     float64            \n",
      " 21  donation                   1775 non-null   float64            \n",
      " 22  gateway                    1775 non-null   object             \n",
      " 23  id                         1775 non-null   object             \n",
      " 24  latitude                   1628 non-null   float64            \n",
      " 25  longitude                  1628 non-null   float64            \n",
      " 26  manteca1kg_nb              1 non-null      float64            \n",
      " 27  manteca1kg_total_price     1 non-null      float64            \n",
      " 28  manteca1kg_unit_price      1 non-null      float64            \n",
      " 29  manteca_nb                 1775 non-null   float64            \n",
      " 30  manteca_total_price        1775 non-null   float64            \n",
      " 31  manteca_unit_price         1775 non-null   float64            \n",
      " 32  order_id                   1775 non-null   object             \n",
      " 33  order_status_url           1069 non-null   object             \n",
      " 34  origin                     1775 non-null   object             \n",
      " 35  packAbanico_nb             493 non-null    float64            \n",
      " 36  packAbanico_total_price    493 non-null    float64            \n",
      " 37  packAbanico_unit_price     493 non-null    float64            \n",
      " 38  packBandana_nb             493 non-null    float64            \n",
      " 39  packBandana_total_price    493 non-null    float64            \n",
      " 40  packBandana_unit_price     493 non-null    float64            \n",
      " 41  packContigo_nb             1128 non-null   float64            \n",
      " 42  packContigo_total_price    1128 non-null   float64            \n",
      " 43  packContigo_unit_price     1128 non-null   float64            \n",
      " 44  packHidra_nb               1775 non-null   float64            \n",
      " 45  packHidra_total_price      1775 non-null   float64            \n",
      " 46  packHidra_unit_price       1775 non-null   float64            \n",
      " 47  packMadre_nb               187 non-null    float64            \n",
      " 48  packMadre_total_price      187 non-null    float64            \n",
      " 49  packMadre_unit_price       187 non-null    float64            \n",
      " 50  packNavidad_nb             454 non-null    float64            \n",
      " 51  packNavidad_total_price    454 non-null    float64            \n",
      " 52  packNavidad_unit_price     454 non-null    float64            \n",
      " 53  packTerrafeet_nb           76 non-null     float64            \n",
      " 54  packTerrafeet_total_price  76 non-null     float64            \n",
      " 55  packTerrafeet_unit_price   76 non-null     float64            \n",
      " 56  product_movement           458 non-null    object             \n",
      " 57  province                   811 non-null    object             \n",
      " 58  subtotal_price             1775 non-null   float64            \n",
      " 59  sumup_transaction_id       647 non-null    object             \n",
      " 60  sumup_user                 647 non-null    object             \n",
      " 61  total_price                1775 non-null   float64            \n",
      " 62  total_tax                  1775 non-null   float64            \n",
      " 63  toteBag_nb                 1775 non-null   int64              \n",
      " 64  toteBag_total_price        1775 non-null   int64              \n",
      " 65  toteBag_unit_price         1775 non-null   int64              \n",
      " 66  zip                        1041 non-null   object             \n",
      " 67  buyer_accepts_marketing    387 non-null    object             \n",
      " 68  taxes_included             1128 non-null   object             \n",
      "dtypes: datetime64[ns, UTC](2), float64(43), int64(3), object(21)\n",
      "memory usage: 970.7+ KB\n"
     ]
    }
   ],
   "source": [
    "df_ventas[print_cols].info()"
   ]
  },
  {
   "cell_type": "markdown",
   "metadata": {},
   "source": [
    "## Cuentas"
   ]
  },
  {
   "cell_type": "code",
   "execution_count": 11,
   "metadata": {},
   "outputs": [],
   "source": [
    "#get all the collection\n",
    "col_query = db.collection('Accounts').stream()"
   ]
  },
  {
   "cell_type": "code",
   "execution_count": 12,
   "metadata": {},
   "outputs": [],
   "source": [
    "#save it in a list of dictionaries\n",
    "cuentas = []\n",
    "for acc in col_query:\n",
    "    cuentas.append(acc.to_dict())"
   ]
  },
  {
   "cell_type": "code",
   "execution_count": 13,
   "metadata": {},
   "outputs": [],
   "source": [
    "#convert to dataframe\n",
    "df_accounts = pd.DataFrame(cuentas)"
   ]
  },
  {
   "cell_type": "code",
   "execution_count": 14,
   "metadata": {},
   "outputs": [],
   "source": [
    "df_cuentas = df_accounts[['id','name','number','type','user_id']].copy()"
   ]
  },
  {
   "cell_type": "code",
   "execution_count": 20,
   "metadata": {},
   "outputs": [],
   "source": [
    "with open('fr.json', 'r') as f:\n",
    "    trads = json.load(f)"
   ]
  },
  {
   "cell_type": "code",
   "execution_count": 21,
   "metadata": {},
   "outputs": [],
   "source": [
    "df_cuentas['name_fr'] = df_cuentas['name'].apply(lambda x: trads[x])"
   ]
  },
  {
   "cell_type": "code",
   "execution_count": 22,
   "metadata": {},
   "outputs": [
    {
     "data": {
      "text/html": [
       "<div>\n",
       "<style scoped>\n",
       "    .dataframe tbody tr th:only-of-type {\n",
       "        vertical-align: middle;\n",
       "    }\n",
       "\n",
       "    .dataframe tbody tr th {\n",
       "        vertical-align: top;\n",
       "    }\n",
       "\n",
       "    .dataframe thead th {\n",
       "        text-align: right;\n",
       "    }\n",
       "</style>\n",
       "<table border=\"1\" class=\"dataframe\">\n",
       "  <thead>\n",
       "    <tr style=\"text-align: right;\">\n",
       "      <th></th>\n",
       "      <th>id</th>\n",
       "      <th>name</th>\n",
       "      <th>number</th>\n",
       "      <th>type</th>\n",
       "      <th>user_id</th>\n",
       "      <th>name_fr</th>\n",
       "    </tr>\n",
       "  </thead>\n",
       "  <tbody>\n",
       "  </tbody>\n",
       "</table>\n",
       "</div>"
      ],
      "text/plain": [
       "Empty DataFrame\n",
       "Columns: [id, name, number, type, user_id, name_fr]\n",
       "Index: []"
      ]
     },
     "execution_count": 22,
     "metadata": {},
     "output_type": "execute_result"
    }
   ],
   "source": [
    "df_cuentas[df_cuentas['name_fr'].isnull()]"
   ]
  },
  {
   "cell_type": "code",
   "execution_count": 23,
   "metadata": {},
   "outputs": [
    {
     "name": "stderr",
     "output_type": "stream",
     "text": [
      "1it [00:03,  3.66s/it]\n"
     ]
    }
   ],
   "source": [
    "table_id = \"{}.accounts\".format(dataset.dataset_id)\n",
    "\n",
    "df_cuentas.to_gbq(table_id, project_id=bgq_client.project, if_exists='replace')"
   ]
  },
  {
   "cell_type": "markdown",
   "metadata": {},
   "source": [
    "### PROYECTOS"
   ]
  },
  {
   "cell_type": "code",
   "execution_count": 26,
   "metadata": {},
   "outputs": [],
   "source": [
    "#get all the collection\n",
    "col_query = db.collection('Projects').stream()"
   ]
  },
  {
   "cell_type": "code",
   "execution_count": 27,
   "metadata": {},
   "outputs": [],
   "source": [
    "#save it in a list of dictionaries\n",
    "projects = []\n",
    "for acc in col_query:\n",
    "    projects.append(acc.to_dict())"
   ]
  },
  {
   "cell_type": "code",
   "execution_count": 28,
   "metadata": {},
   "outputs": [],
   "source": [
    "#convert to dataframe\n",
    "df_projects = pd.DataFrame(projects)"
   ]
  },
  {
   "cell_type": "code",
   "execution_count": 29,
   "metadata": {},
   "outputs": [],
   "source": [
    "df_projectos=df_projects[['id','title','description','department','type','project_id','intervention_id']]"
   ]
  },
  {
   "cell_type": "code",
   "execution_count": 30,
   "metadata": {},
   "outputs": [],
   "source": [
    "df_projectos.columns = ['id', 'name', 'description', 'department', 'type', 'project_id',\n",
    "       'intervention_id']"
   ]
  },
  {
   "cell_type": "code",
   "execution_count": 32,
   "metadata": {},
   "outputs": [
    {
     "name": "stderr",
     "output_type": "stream",
     "text": [
      "1it [00:02,  2.71s/it]\n"
     ]
    }
   ],
   "source": [
    "table_id = \"{}.projects\".format(dataset.dataset_id)\n",
    "\n",
    "df_projectos.to_gbq(table_id, project_id=bgq_client.project, if_exists='replace')"
   ]
  },
  {
   "cell_type": "markdown",
   "metadata": {},
   "source": [
    "### USUARIOS"
   ]
  },
  {
   "cell_type": "code",
   "execution_count": 50,
   "metadata": {},
   "outputs": [],
   "source": [
    "#get all the collection\n",
    "col_query = db.collection('Users').stream()"
   ]
  },
  {
   "cell_type": "code",
   "execution_count": 51,
   "metadata": {},
   "outputs": [],
   "source": [
    "#save it in a list of dictionaries\n",
    "usuarios = []\n",
    "for acc in col_query:\n",
    "    usuarios.append(acc.to_dict())"
   ]
  },
  {
   "cell_type": "code",
   "execution_count": 52,
   "metadata": {},
   "outputs": [],
   "source": [
    "#convert to dataframe\n",
    "df_usuarios = pd.DataFrame(usuarios)"
   ]
  },
  {
   "cell_type": "code",
   "execution_count": 53,
   "metadata": {},
   "outputs": [],
   "source": [
    "df_users = df_usuarios[['id','name','last_name','email']]"
   ]
  },
  {
   "cell_type": "code",
   "execution_count": 54,
   "metadata": {},
   "outputs": [],
   "source": [
    "df_users_final = pd.merge(df_users,df_cuentas[['number','user_id']],left_on='id',right_on='user_id',how='left')"
   ]
  },
  {
   "cell_type": "code",
   "execution_count": 55,
   "metadata": {},
   "outputs": [],
   "source": [
    "df_users = df_users_final[['id','name','last_name','email','number']]"
   ]
  },
  {
   "cell_type": "code",
   "execution_count": 56,
   "metadata": {},
   "outputs": [],
   "source": [
    "df_users.columns = ['id','name','last_name','email','cuenta']"
   ]
  },
  {
   "cell_type": "code",
   "execution_count": 58,
   "metadata": {},
   "outputs": [
    {
     "name": "stderr",
     "output_type": "stream",
     "text": [
      "1it [00:06,  6.33s/it]\n"
     ]
    }
   ],
   "source": [
    "table_id = \"{}.users\".format(dataset.dataset_id)\n",
    "\n",
    "pandas_gbq.to_gbq(df_users, table_id, project_id=client.project, if_exists='replace')"
   ]
  },
  {
   "cell_type": "markdown",
   "metadata": {},
   "source": [
    "##### september 2020 backup"
   ]
  },
  {
   "cell_type": "code",
   "execution_count": 67,
   "metadata": {},
   "outputs": [
    {
     "name": "stderr",
     "output_type": "stream",
     "text": [
      "1it [00:04,  4.48s/it]\n"
     ]
    }
   ],
   "source": [
    "table_id = \"{}.accounting_202009\".format(dataset.dataset_id)\n",
    "\n",
    "pandas_gbq.to_gbq(df, table_id, project_id=client.project, if_exists='replace')"
   ]
  },
  {
   "cell_type": "markdown",
   "metadata": {},
   "source": [
    "##### Jan 2021 backup"
   ]
  },
  {
   "cell_type": "code",
   "execution_count": 351,
   "metadata": {},
   "outputs": [],
   "source": [
    "sql = \"\"\"\n",
    "CREATE TABLE AS `oan-nikarit.contoan.accounting_20210110`\n",
    "AS\n",
    "SELECT *\n",
    "FROM `oan-nikarit.contoan.accounting`\n",
    "\"\"\""
   ]
  },
  {
   "cell_type": "code",
   "execution_count": 352,
   "metadata": {},
   "outputs": [
    {
     "data": {
      "text/plain": [
       "<google.cloud.bigquery.job.QueryJob at 0x7f9c18b958b0>"
      ]
     },
     "execution_count": 352,
     "metadata": {},
     "output_type": "execute_result"
    }
   ],
   "source": [
    "client.query(sql)"
   ]
  },
  {
   "cell_type": "code",
   "execution_count": null,
   "metadata": {},
   "outputs": [],
   "source": []
  },
  {
   "cell_type": "markdown",
   "metadata": {},
   "source": [
    "### SUBIR SOCIOS"
   ]
  },
  {
   "cell_type": "markdown",
   "metadata": {},
   "source": [
    "#### get data"
   ]
  },
  {
   "cell_type": "code",
   "execution_count": 14,
   "metadata": {},
   "outputs": [],
   "source": [
    "col_query = db.collection('Partners').stream()"
   ]
  },
  {
   "cell_type": "code",
   "execution_count": 15,
   "metadata": {},
   "outputs": [],
   "source": [
    "socios = []\n",
    "for acc in col_query:\n",
    "    socios.append(acc.to_dict())"
   ]
  },
  {
   "cell_type": "code",
   "execution_count": 16,
   "metadata": {},
   "outputs": [],
   "source": [
    "df_socios = pd.DataFrame(socios)"
   ]
  },
  {
   "cell_type": "code",
   "execution_count": 17,
   "metadata": {},
   "outputs": [
    {
     "data": {
      "text/plain": [
       "(1311, 34)"
      ]
     },
     "execution_count": 17,
     "metadata": {},
     "output_type": "execute_result"
    }
   ],
   "source": [
    "df_socios.shape"
   ]
  },
  {
   "cell_type": "code",
   "execution_count": 19,
   "metadata": {},
   "outputs": [
    {
     "name": "stdout",
     "output_type": "stream",
     "text": [
      "Index(['address', 'DNI', 'phone_number', 'university', 'email', 'donator',\n",
      "       'yearsInNikki', 'isSubscribedToNewsletter', 'leaving_date',\n",
      "       'mailChimp_id', 'registration_date', 'birth_date',\n",
      "       'acceptsPrivacyPolitics', 'categories', 'status', 'acceptsVoluntarily',\n",
      "       'contactPerson', 'projects', 'language', 'isDonator', 'location',\n",
      "       'welcoming_pack', 'degree', 'thesis', 'id', 'occupation',\n",
      "       'acceptsDutiesAsPartner', 'last_name', 'db_creation_date', 'department',\n",
      "       'email_id', 'name', 'last_update_date', 'timeInNikki'],\n",
      "      dtype='object')\n"
     ]
    }
   ],
   "source": [
    "print(df_socios.columns)"
   ]
  },
  {
   "cell_type": "code",
   "execution_count": 22,
   "metadata": {},
   "outputs": [],
   "source": [
    "df_socios[['latitude','longitude','country_code']\n",
    "         ] = df_socios['location'].apply(lambda x: pd.Series([x['lat'],x['lon'],x['country_code']]))"
   ]
  },
  {
   "cell_type": "code",
   "execution_count": 32,
   "metadata": {},
   "outputs": [],
   "source": [
    "def donor_values(x,value,nonevalue):\n",
    "    v = nonevalue\n",
    "    if x['donator']:\n",
    "        if value in x['donator'].keys():\n",
    "            v = x['donator'][value]\n",
    "    return v"
   ]
  },
  {
   "cell_type": "code",
   "execution_count": 33,
   "metadata": {},
   "outputs": [],
   "source": [
    "df_socios['donator_periodic_amount'\n",
    "         ] = df_socios.apply(lambda x: donor_values(x,'periodic_amount',0),axis=1)"
   ]
  },
  {
   "cell_type": "code",
   "execution_count": 34,
   "metadata": {},
   "outputs": [],
   "source": [
    "df_socios['donator_period'\n",
    "         ] = df_socios.apply(lambda x: donor_values(x,'period',''),axis=1)"
   ]
  },
  {
   "cell_type": "code",
   "execution_count": 35,
   "metadata": {},
   "outputs": [],
   "source": [
    "df_socios['donator_start_date'\n",
    "         ] = df_socios.apply(lambda x: donor_values(x,'start_date',''),axis=1)"
   ]
  },
  {
   "cell_type": "code",
   "execution_count": 36,
   "metadata": {},
   "outputs": [],
   "source": [
    "df_socios['donator_total_amount'\n",
    "         ] = df_socios.apply(lambda x: donor_values(x,'total_amount',0),axis=1)"
   ]
  },
  {
   "cell_type": "code",
   "execution_count": 37,
   "metadata": {},
   "outputs": [],
   "source": [
    "df_socios_gbq = df_socios[\n",
    "                ['db_creation_date', \n",
    "                 'registration_date',\n",
    "                 'leaving_date',\n",
    "                 'mailChimp_id',\n",
    "                 'email',\n",
    "                 'email_id',\n",
    "                 'name',\n",
    "                 'last_name',\n",
    "                 'id',\n",
    "                 'language',\n",
    "                 'phone_number',\n",
    "                 'status',\n",
    "                 'DNI',\n",
    "                 'birth_date',\n",
    "                 'contactPerson',\n",
    "                 'address',\n",
    "                 'occupation',\n",
    "                 'university',\n",
    "                 'degree',\n",
    "                 'latitude',\n",
    "                 'longitude',\n",
    "                 'country_code',\n",
    "                 'categories',\n",
    "                 'department',\n",
    "                 'projects',\n",
    "                 'thesis',\n",
    "                 'isSubscribedToNewsletter',\n",
    "                 'welcoming_pack',\n",
    "                 'isDonator',\n",
    "                 'donator_periodic_amount',\n",
    "                 'donator_period',\n",
    "                 'donator_start_date',\n",
    "                 'donator_total_amount',\n",
    "                 'acceptsVoluntarily',\n",
    "                 'acceptsDutiesAsPartner',\n",
    "                 'acceptsPrivacyPolitics']\n",
    "                ]"
   ]
  },
  {
   "cell_type": "code",
   "execution_count": 65,
   "metadata": {},
   "outputs": [
    {
     "name": "stdout",
     "output_type": "stream",
     "text": [
      "<class 'pandas.core.frame.DataFrame'>\n",
      "RangeIndex: 1311 entries, 0 to 1310\n",
      "Data columns (total 36 columns):\n",
      " #   Column                    Non-Null Count  Dtype  \n",
      "---  ------                    --------------  -----  \n",
      " 0   db_creation_date          1311 non-null   object \n",
      " 1   registration_date         1311 non-null   object \n",
      " 2   leaving_date              0 non-null      object \n",
      " 3   mailChimp_id              1269 non-null   object \n",
      " 4   email                     1311 non-null   object \n",
      " 5   email_id                  1269 non-null   object \n",
      " 6   name                      1311 non-null   object \n",
      " 7   last_name                 1311 non-null   object \n",
      " 8   id                        1311 non-null   object \n",
      " 9   language                  1269 non-null   object \n",
      " 10  phone_number              288 non-null    object \n",
      " 11  status                    1311 non-null   object \n",
      " 12  DNI                       68 non-null     object \n",
      " 13  birth_date                137 non-null    object \n",
      " 14  contactPerson             0 non-null      object \n",
      " 15  address                   68 non-null     object \n",
      " 16  occupation                288 non-null    object \n",
      " 17  university                288 non-null    object \n",
      " 18  degree                    288 non-null    object \n",
      " 19  latitude                  1269 non-null   float64\n",
      " 20  longitude                 1269 non-null   float64\n",
      " 21  country_code              1269 non-null   object \n",
      " 22  categories                1311 non-null   object \n",
      " 23  department                68 non-null     object \n",
      " 24  projects                  1311 non-null   object \n",
      " 25  thesis                    20 non-null     object \n",
      " 26  isSubscribedToNewsletter  1269 non-null   object \n",
      " 27  welcoming_pack            1311 non-null   bool   \n",
      " 28  isDonator                 1311 non-null   bool   \n",
      " 29  donator_periodic_amount   1311 non-null   int64  \n",
      " 30  donator_period            1311 non-null   object \n",
      " 31  donator_start_date        1311 non-null   object \n",
      " 32  donator_total_amount      1311 non-null   int64  \n",
      " 33  acceptsVoluntarily        68 non-null     object \n",
      " 34  acceptsDutiesAsPartner    68 non-null     object \n",
      " 35  acceptsPrivacyPolitics    0 non-null      object \n",
      "dtypes: bool(2), float64(2), int64(2), object(30)\n",
      "memory usage: 350.9+ KB\n"
     ]
    }
   ],
   "source": [
    "df_socios_gbq.info()"
   ]
  },
  {
   "cell_type": "code",
   "execution_count": 67,
   "metadata": {},
   "outputs": [
    {
     "name": "stdout",
     "output_type": "stream",
     "text": [
      "['db_creation_date', 'registration_date', 'leaving_date', 'birth_date', 'donator_start_date']\n"
     ]
    }
   ],
   "source": [
    "dates_col = [col for col in df_socios_gbq.columns if 'date' in col]\n",
    "print(dates_col)"
   ]
  },
  {
   "cell_type": "code",
   "execution_count": 70,
   "metadata": {},
   "outputs": [
    {
     "name": "stderr",
     "output_type": "stream",
     "text": [
      "<ipython-input-70-d9513b8394e9>:2: SettingWithCopyWarning: \n",
      "A value is trying to be set on a copy of a slice from a DataFrame.\n",
      "Try using .loc[row_indexer,col_indexer] = value instead\n",
      "\n",
      "See the caveats in the documentation: https://pandas.pydata.org/pandas-docs/stable/user_guide/indexing.html#returning-a-view-versus-a-copy\n",
      "  df_socios_gbq[col] = pd.to_datetime(df_socios_gbq[col],utc=True)\n"
     ]
    }
   ],
   "source": [
    "for col in dates_col:\n",
    "    df_socios_gbq[col] = pd.to_datetime(df_socios_gbq[col],utc=True)"
   ]
  },
  {
   "cell_type": "code",
   "execution_count": 71,
   "metadata": {},
   "outputs": [
    {
     "name": "stdout",
     "output_type": "stream",
     "text": [
      "<class 'pandas.core.frame.DataFrame'>\n",
      "RangeIndex: 1311 entries, 0 to 1310\n",
      "Data columns (total 36 columns):\n",
      " #   Column                    Non-Null Count  Dtype              \n",
      "---  ------                    --------------  -----              \n",
      " 0   db_creation_date          1311 non-null   datetime64[ns, UTC]\n",
      " 1   registration_date         1260 non-null   datetime64[ns, UTC]\n",
      " 2   leaving_date              0 non-null      datetime64[ns, UTC]\n",
      " 3   mailChimp_id              1269 non-null   object             \n",
      " 4   email                     1311 non-null   object             \n",
      " 5   email_id                  1269 non-null   object             \n",
      " 6   name                      1311 non-null   object             \n",
      " 7   last_name                 1311 non-null   object             \n",
      " 8   id                        1311 non-null   object             \n",
      " 9   language                  1269 non-null   object             \n",
      " 10  phone_number              288 non-null    object             \n",
      " 11  status                    1311 non-null   object             \n",
      " 12  DNI                       68 non-null     object             \n",
      " 13  birth_date                137 non-null    datetime64[ns, UTC]\n",
      " 14  contactPerson             0 non-null      object             \n",
      " 15  address                   68 non-null     object             \n",
      " 16  occupation                288 non-null    object             \n",
      " 17  university                288 non-null    object             \n",
      " 18  degree                    288 non-null    object             \n",
      " 19  latitude                  1269 non-null   float64            \n",
      " 20  longitude                 1269 non-null   float64            \n",
      " 21  country_code              1269 non-null   object             \n",
      " 22  categories                1311 non-null   object             \n",
      " 23  department                68 non-null     object             \n",
      " 24  projects                  1311 non-null   object             \n",
      " 25  thesis                    20 non-null     object             \n",
      " 26  isSubscribedToNewsletter  1269 non-null   object             \n",
      " 27  welcoming_pack            1311 non-null   bool               \n",
      " 28  isDonator                 1311 non-null   bool               \n",
      " 29  donator_periodic_amount   1311 non-null   int64              \n",
      " 30  donator_period            1311 non-null   object             \n",
      " 31  donator_start_date        0 non-null      datetime64[ns, UTC]\n",
      " 32  donator_total_amount      1311 non-null   int64              \n",
      " 33  acceptsVoluntarily        68 non-null     object             \n",
      " 34  acceptsDutiesAsPartner    68 non-null     object             \n",
      " 35  acceptsPrivacyPolitics    0 non-null      object             \n",
      "dtypes: bool(2), datetime64[ns, UTC](5), float64(2), int64(2), object(25)\n",
      "memory usage: 350.9+ KB\n"
     ]
    }
   ],
   "source": [
    "df_socios_gbq.info()"
   ]
  },
  {
   "cell_type": "code",
   "execution_count": 72,
   "metadata": {},
   "outputs": [
    {
     "name": "stderr",
     "output_type": "stream",
     "text": [
      "1it [00:04,  4.89s/it]\n"
     ]
    }
   ],
   "source": [
    "table_id = \"{}.partners\".format(dataset.dataset_id)\n",
    "proj = bgq_client.project\n",
    "df_socios_gbq.to_gbq(table_id,proj,if_exists='replace')"
   ]
  },
  {
   "cell_type": "markdown",
   "metadata": {},
   "source": [
    "## TRANSFORM BOOLEAN"
   ]
  },
  {
   "cell_type": "code",
   "execution_count": 73,
   "metadata": {},
   "outputs": [],
   "source": [
    "bools = ['acceptsVoluntarily','acceptsDutiesAsPartner','acceptsPrivacyPolitics',\n",
    "         'isDonator','isSubscribedToNewsletter','welcoming_pack']"
   ]
  },
  {
   "cell_type": "code",
   "execution_count": 74,
   "metadata": {},
   "outputs": [],
   "source": [
    "cast = ['CAST('+a+' AS BOOL) AS '+a for a in bools]"
   ]
  },
  {
   "cell_type": "code",
   "execution_count": 75,
   "metadata": {},
   "outputs": [],
   "source": [
    "sql = \"\"\"\n",
    "CREATE OR REPLACE TABLE `oan-nikarit.contoan.partners` AS\n",
    "SELECT\n",
    "  * EXCEPT (\"\"\"+','.join(bools)+\"\"\"),\n",
    " \"\"\"+',\\n '.join(cast)+\"\"\"\n",
    "FROM\n",
    "  `oan-nikarit.contoan.partners`\n",
    "\"\"\""
   ]
  },
  {
   "cell_type": "code",
   "execution_count": 76,
   "metadata": {},
   "outputs": [
    {
     "data": {
      "text/plain": [
       "<google.cloud.bigquery.job.QueryJob at 0x7fdb26eaf940>"
      ]
     },
     "execution_count": 76,
     "metadata": {},
     "output_type": "execute_result"
    }
   ],
   "source": [
    "bgq_client.query(sql)"
   ]
  },
  {
   "cell_type": "markdown",
   "metadata": {},
   "source": [
    "### SOCIOS"
   ]
  },
  {
   "cell_type": "code",
   "execution_count": 54,
   "metadata": {},
   "outputs": [],
   "source": [
    "sheet = sheet_service.spreadsheets()"
   ]
  },
  {
   "cell_type": "code",
   "execution_count": 55,
   "metadata": {},
   "outputs": [],
   "source": [
    "SPREADSHEET_ID = \"1npTnlYkICz76ctoupzuEH-k1CbXoRh07czTgZDJLOtQ\""
   ]
  },
  {
   "cell_type": "code",
   "execution_count": 58,
   "metadata": {},
   "outputs": [],
   "source": [
    "rows = sheet.values().get(spreadsheetId=SPREADSHEET_ID,\n",
    "                                  range = \"libro de socios actualizado (no tocar)\").execute()"
   ]
  },
  {
   "cell_type": "code",
   "execution_count": 62,
   "metadata": {},
   "outputs": [],
   "source": [
    "df_socios = pd.DataFrame(rows['values'][2:],columns=rows['values'][2])"
   ]
  },
  {
   "cell_type": "code",
   "execution_count": 63,
   "metadata": {},
   "outputs": [
    {
     "data": {
      "text/html": [
       "<div>\n",
       "<style scoped>\n",
       "    .dataframe tbody tr th:only-of-type {\n",
       "        vertical-align: middle;\n",
       "    }\n",
       "\n",
       "    .dataframe tbody tr th {\n",
       "        vertical-align: top;\n",
       "    }\n",
       "\n",
       "    .dataframe thead th {\n",
       "        text-align: right;\n",
       "    }\n",
       "</style>\n",
       "<table border=\"1\" class=\"dataframe\">\n",
       "  <thead>\n",
       "    <tr style=\"text-align: right;\">\n",
       "      <th></th>\n",
       "      <th>Nombre / Prénom</th>\n",
       "      <th>Apellidos / Nom</th>\n",
       "      <th>Email</th>\n",
       "      <th>Fecha de Nacimiento / Date de Naissance</th>\n",
       "      <th>Tipo de Estudiante / Tipe d'Étudiante</th>\n",
       "      <th>(España) Selecciona tu Universidad</th>\n",
       "      <th>(En caso afirmativo) Profesión</th>\n",
       "      <th>DNI / Nombre d'identité</th>\n",
       "      <th>Número de Teléfono / Numéro de Portable</th>\n",
       "      <th>Domicilio / Adresse</th>\n",
       "      <th>...</th>\n",
       "      <th>Departamento en el que colaboras</th>\n",
       "      <th>Declaro que la información anterior es correcta*</th>\n",
       "      <th>¿En qué momento has estado en Nikki?*</th>\n",
       "      <th>¿Durante Cuánto Tiempo (en total)?*</th>\n",
       "      <th>Quieres apoyar a OAN con una donación*</th>\n",
       "      <th>En caso afirmativo, selecciona*</th>\n",
       "      <th>Acepto voluntariamente ser Socio de OAN*</th>\n",
       "      <th>Declaro cumplir con mis deberes como socio*</th>\n",
       "      <th>Fecha de registro</th>\n",
       "      <th>Fecha de último cambio</th>\n",
       "    </tr>\n",
       "  </thead>\n",
       "  <tbody>\n",
       "    <tr>\n",
       "      <th>0</th>\n",
       "      <td>Nombre / Prénom</td>\n",
       "      <td>Apellidos / Nom</td>\n",
       "      <td>Email</td>\n",
       "      <td>Fecha de Nacimiento / Date de Naissance</td>\n",
       "      <td>Tipo de Estudiante / Tipe d'Étudiante</td>\n",
       "      <td>(España) Selecciona tu Universidad</td>\n",
       "      <td>(En caso afirmativo) Profesión</td>\n",
       "      <td>DNI / Nombre d'identité</td>\n",
       "      <td>Número de Teléfono / Numéro de Portable</td>\n",
       "      <td>Domicilio / Adresse</td>\n",
       "      <td>...</td>\n",
       "      <td>Departamento en el que colaboras</td>\n",
       "      <td>Declaro que la información anterior es correcta*</td>\n",
       "      <td>¿En qué momento has estado en Nikki?*</td>\n",
       "      <td>¿Durante Cuánto Tiempo (en total)?*</td>\n",
       "      <td>Quieres apoyar a OAN con una donación*</td>\n",
       "      <td>En caso afirmativo, selecciona*</td>\n",
       "      <td>Acepto voluntariamente ser Socio de OAN*</td>\n",
       "      <td>Declaro cumplir con mis deberes como socio*</td>\n",
       "      <td>Fecha de registro</td>\n",
       "      <td>Fecha de último cambio</td>\n",
       "    </tr>\n",
       "    <tr>\n",
       "      <th>1</th>\n",
       "      <td>Rodrigo</td>\n",
       "      <td>Pacheco Martinez-Atienza</td>\n",
       "      <td>rpacheco95@gmail.com</td>\n",
       "      <td>1995-03-16</td>\n",
       "      <td>Grado / Licence</td>\n",
       "      <td>Universidad Rey Juan Carlos</td>\n",
       "      <td></td>\n",
       "      <td>50482811L</td>\n",
       "      <td>651623729</td>\n",
       "      <td>{addr1=C/ Reina 26 D, country=ES, zip=28300, s...</td>\n",
       "      <td>...</td>\n",
       "      <td></td>\n",
       "      <td>Si / Oui</td>\n",
       "      <td>OAN2017</td>\n",
       "      <td>2 meses / 2 mois</td>\n",
       "      <td></td>\n",
       "      <td></td>\n",
       "      <td>Si / Oui</td>\n",
       "      <td>Si / Oui</td>\n",
       "      <td>2018-09-23</td>\n",
       "      <td>2020-05-12</td>\n",
       "    </tr>\n",
       "    <tr>\n",
       "      <th>2</th>\n",
       "      <td>Álvaro</td>\n",
       "      <td>Pascual Macías</td>\n",
       "      <td>alvaropsc@gmail.com</td>\n",
       "      <td>1994-02-02</td>\n",
       "      <td>Graduado / Diplômé</td>\n",
       "      <td>Universidad Complutense de Madrid</td>\n",
       "      <td>Médico</td>\n",
       "      <td>02309963G</td>\n",
       "      <td>695517703</td>\n",
       "      <td>{addr2=, country=ES, city=Madrid, addr1=Calle ...</td>\n",
       "      <td>...</td>\n",
       "      <td></td>\n",
       "      <td>Si / Oui</td>\n",
       "      <td>OAN2014</td>\n",
       "      <td>5 meses / 5 mois</td>\n",
       "      <td>No / Non</td>\n",
       "      <td></td>\n",
       "      <td>Si / Oui</td>\n",
       "      <td>Si / Oui</td>\n",
       "      <td>2018-09-17</td>\n",
       "      <td>2020-05-12</td>\n",
       "    </tr>\n",
       "    <tr>\n",
       "      <th>3</th>\n",
       "      <td>Pablo</td>\n",
       "      <td>Jordán de la Fuente</td>\n",
       "      <td>Pablo.jordan.dlf@gmail.com</td>\n",
       "      <td>1994-07-08</td>\n",
       "      <td>Graduado / Diplômé</td>\n",
       "      <td>Universidad de Valladolid</td>\n",
       "      <td>Consultor</td>\n",
       "      <td>71167986Y</td>\n",
       "      <td>660087618</td>\n",
       "      <td>{addr2=, zip=28003, city=Madrid, addr1=Calle A...</td>\n",
       "      <td>...</td>\n",
       "      <td>Departamento de Proyectos / Projets</td>\n",
       "      <td>Si / Oui</td>\n",
       "      <td>OAN2016</td>\n",
       "      <td>1 mes / 1 mois</td>\n",
       "      <td></td>\n",
       "      <td></td>\n",
       "      <td>Si / Oui</td>\n",
       "      <td>Si / Oui</td>\n",
       "      <td>2018-12-02</td>\n",
       "      <td>2020-05-12</td>\n",
       "    </tr>\n",
       "    <tr>\n",
       "      <th>4</th>\n",
       "      <td>ESTHER</td>\n",
       "      <td>FRAILE JULIAN</td>\n",
       "      <td>Estherfrailejulian@gmail.com</td>\n",
       "      <td>1993-10-16</td>\n",
       "      <td>Master / Master</td>\n",
       "      <td>Universidad Autonoma de Madrid</td>\n",
       "      <td>PSICOLOGA</td>\n",
       "      <td>05291047N</td>\n",
       "      <td>665584356</td>\n",
       "      <td>{addr1=CALLE LOPEZ MORENO 12, 3D, city=MELILLA...</td>\n",
       "      <td>...</td>\n",
       "      <td>Departamento de Proyectos / Projets</td>\n",
       "      <td>Si / Oui</td>\n",
       "      <td>OAN2017</td>\n",
       "      <td>más 6 meses / Plus de 6 mois</td>\n",
       "      <td>No / Non</td>\n",
       "      <td></td>\n",
       "      <td>Si / Oui</td>\n",
       "      <td>Si / Oui</td>\n",
       "      <td>2018-09-17</td>\n",
       "      <td>2020-05-12</td>\n",
       "    </tr>\n",
       "    <tr>\n",
       "      <th>...</th>\n",
       "      <td>...</td>\n",
       "      <td>...</td>\n",
       "      <td>...</td>\n",
       "      <td>...</td>\n",
       "      <td>...</td>\n",
       "      <td>...</td>\n",
       "      <td>...</td>\n",
       "      <td>...</td>\n",
       "      <td>...</td>\n",
       "      <td>...</td>\n",
       "      <td>...</td>\n",
       "      <td>...</td>\n",
       "      <td>...</td>\n",
       "      <td>...</td>\n",
       "      <td>...</td>\n",
       "      <td>...</td>\n",
       "      <td>...</td>\n",
       "      <td>...</td>\n",
       "      <td>...</td>\n",
       "      <td>...</td>\n",
       "      <td>...</td>\n",
       "    </tr>\n",
       "    <tr>\n",
       "      <th>64</th>\n",
       "      <td>Antonio Manuel</td>\n",
       "      <td>Marín Fernández</td>\n",
       "      <td>antoniomarin200294@gmail.com</td>\n",
       "      <td>1994-02-20</td>\n",
       "      <td>Estudiante (Grado) / Étudiant</td>\n",
       "      <td>Universidad Pontificia Comillas</td>\n",
       "      <td>DERECHO</td>\n",
       "      <td>48664434E</td>\n",
       "      <td>692356132</td>\n",
       "      <td>CALLE FERNÁNDEZ DE LOS RÍOS Nº77</td>\n",
       "      <td>...</td>\n",
       "      <td>Ninguno / Aucun</td>\n",
       "      <td></td>\n",
       "      <td>No</td>\n",
       "      <td></td>\n",
       "      <td>No, gracias / Non, merci</td>\n",
       "      <td></td>\n",
       "      <td>Sí / Oui</td>\n",
       "      <td>Sí / Oui</td>\n",
       "      <td>2020-10-12</td>\n",
       "      <td>None</td>\n",
       "    </tr>\n",
       "    <tr>\n",
       "      <th>65</th>\n",
       "      <td>Rolando</td>\n",
       "      <td>Alem</td>\n",
       "      <td>r.alem@oaninternational.org</td>\n",
       "      <td>1989-03-05</td>\n",
       "      <td>Estudiante (Grado) / Étudiant</td>\n",
       "      <td>Universidad Rey Juan Carlos</td>\n",
       "      <td>Ingenieria en tecnologias industriales</td>\n",
       "      <td>Y521394D</td>\n",
       "      <td>659210762</td>\n",
       "      <td>Calle de la reina 25</td>\n",
       "      <td>...</td>\n",
       "      <td>Comité de Energía, Agua e Infraestructuras</td>\n",
       "      <td></td>\n",
       "      <td>No</td>\n",
       "      <td></td>\n",
       "      <td>No, gracias / Non, merci</td>\n",
       "      <td></td>\n",
       "      <td>Sí / Oui</td>\n",
       "      <td>Sí / Oui</td>\n",
       "      <td>2021-01-23</td>\n",
       "      <td>None</td>\n",
       "    </tr>\n",
       "    <tr>\n",
       "      <th>66</th>\n",
       "      <td>Ignacio</td>\n",
       "      <td>Gómez-Cambronero Gutiérrez de Cabiedes</td>\n",
       "      <td>ignaciogcgc@alu.comillas.edu</td>\n",
       "      <td>1997-10-16</td>\n",
       "      <td>Estudiante (Grado) / Étudiant</td>\n",
       "      <td>Universidad Pontificia Comillas</td>\n",
       "      <td>Grado en Ingeniería de Tecnologías Industriales</td>\n",
       "      <td>54361871Z</td>\n",
       "      <td>680461734</td>\n",
       "      <td>C/Solano 18</td>\n",
       "      <td>...</td>\n",
       "      <td>Comité de Energía, Agua e Infraestructuras</td>\n",
       "      <td></td>\n",
       "      <td>No</td>\n",
       "      <td></td>\n",
       "      <td>No, gracias / Non, merci</td>\n",
       "      <td></td>\n",
       "      <td>Sí / Oui</td>\n",
       "      <td>Sí / Oui</td>\n",
       "      <td>2021-01-25</td>\n",
       "      <td>None</td>\n",
       "    </tr>\n",
       "    <tr>\n",
       "      <th>67</th>\n",
       "      <td>Sandra</td>\n",
       "      <td>Cózar Carbonell</td>\n",
       "      <td>s.cozar@oaninternational.org</td>\n",
       "      <td>1992-11-20</td>\n",
       "      <td>Profesional / Professionnel</td>\n",
       "      <td>Universidad Pablo de Olavide</td>\n",
       "      <td>Doble Grado en Derecho y Ciencias Políticas de...</td>\n",
       "      <td>05937108A</td>\n",
       "      <td>618478186</td>\n",
       "      <td>C/Niceto Alcalá Zamora</td>\n",
       "      <td>...</td>\n",
       "      <td>Comité de Políticas Sociales</td>\n",
       "      <td></td>\n",
       "      <td>No</td>\n",
       "      <td></td>\n",
       "      <td>No, gracias / Non, merci</td>\n",
       "      <td></td>\n",
       "      <td>Sí / Oui</td>\n",
       "      <td>Sí / Oui</td>\n",
       "      <td>2021-01-26</td>\n",
       "      <td>None</td>\n",
       "    </tr>\n",
       "    <tr>\n",
       "      <th>68</th>\n",
       "      <td>Andrea</td>\n",
       "      <td>Iglesias</td>\n",
       "      <td>andreaiglesiaslancho@gmail.com</td>\n",
       "      <td>1998-01-06</td>\n",
       "      <td>Estudiante (Grado) / Étudiant</td>\n",
       "      <td>Otra</td>\n",
       "      <td>Bellas Artes</td>\n",
       "      <td>54284491Y</td>\n",
       "      <td>666138198</td>\n",
       "      <td>c/ Ronda del Norte 22</td>\n",
       "      <td>...</td>\n",
       "      <td>Comité de Políticas Sociales</td>\n",
       "      <td></td>\n",
       "      <td>No</td>\n",
       "      <td></td>\n",
       "      <td>No, gracias / Non, merci</td>\n",
       "      <td></td>\n",
       "      <td>Sí / Oui</td>\n",
       "      <td>Sí / Oui</td>\n",
       "      <td>2021-02-03</td>\n",
       "      <td>None</td>\n",
       "    </tr>\n",
       "  </tbody>\n",
       "</table>\n",
       "<p>69 rows × 22 columns</p>\n",
       "</div>"
      ],
      "text/plain": [
       "    Nombre / Prénom                         Apellidos / Nom  \\\n",
       "0   Nombre / Prénom                         Apellidos / Nom   \n",
       "1           Rodrigo                Pacheco Martinez-Atienza   \n",
       "2            Álvaro                          Pascual Macías   \n",
       "3             Pablo                     Jordán de la Fuente   \n",
       "4            ESTHER                           FRAILE JULIAN   \n",
       "..              ...                                     ...   \n",
       "64   Antonio Manuel                         Marín Fernández   \n",
       "65          Rolando                                    Alem   \n",
       "66          Ignacio  Gómez-Cambronero Gutiérrez de Cabiedes   \n",
       "67           Sandra                         Cózar Carbonell   \n",
       "68           Andrea                                Iglesias   \n",
       "\n",
       "                             Email  Fecha de Nacimiento / Date de Naissance  \\\n",
       "0                            Email  Fecha de Nacimiento / Date de Naissance   \n",
       "1             rpacheco95@gmail.com                               1995-03-16   \n",
       "2              alvaropsc@gmail.com                               1994-02-02   \n",
       "3       Pablo.jordan.dlf@gmail.com                               1994-07-08   \n",
       "4     Estherfrailejulian@gmail.com                               1993-10-16   \n",
       "..                             ...                                      ...   \n",
       "64    antoniomarin200294@gmail.com                               1994-02-20   \n",
       "65     r.alem@oaninternational.org                               1989-03-05   \n",
       "66    ignaciogcgc@alu.comillas.edu                               1997-10-16   \n",
       "67    s.cozar@oaninternational.org                               1992-11-20   \n",
       "68  andreaiglesiaslancho@gmail.com                               1998-01-06   \n",
       "\n",
       "    Tipo de Estudiante / Tipe d'Étudiante  (España) Selecciona tu Universidad  \\\n",
       "0   Tipo de Estudiante / Tipe d'Étudiante  (España) Selecciona tu Universidad   \n",
       "1                         Grado / Licence         Universidad Rey Juan Carlos   \n",
       "2                      Graduado / Diplômé   Universidad Complutense de Madrid   \n",
       "3                      Graduado / Diplômé           Universidad de Valladolid   \n",
       "4                         Master / Master      Universidad Autonoma de Madrid   \n",
       "..                                    ...                                 ...   \n",
       "64          Estudiante (Grado) / Étudiant     Universidad Pontificia Comillas   \n",
       "65          Estudiante (Grado) / Étudiant         Universidad Rey Juan Carlos   \n",
       "66          Estudiante (Grado) / Étudiant     Universidad Pontificia Comillas   \n",
       "67            Profesional / Professionnel        Universidad Pablo de Olavide   \n",
       "68          Estudiante (Grado) / Étudiant                                Otra   \n",
       "\n",
       "                       (En caso afirmativo) Profesión  \\\n",
       "0                      (En caso afirmativo) Profesión   \n",
       "1                                                       \n",
       "2                                              Médico   \n",
       "3                                           Consultor   \n",
       "4                                           PSICOLOGA   \n",
       "..                                                ...   \n",
       "64                                            DERECHO   \n",
       "65             Ingenieria en tecnologias industriales   \n",
       "66    Grado en Ingeniería de Tecnologías Industriales   \n",
       "67  Doble Grado en Derecho y Ciencias Políticas de...   \n",
       "68                                       Bellas Artes   \n",
       "\n",
       "    DNI / Nombre d'identité  Número de Teléfono / Numéro de Portable  \\\n",
       "0   DNI / Nombre d'identité  Número de Teléfono / Numéro de Portable   \n",
       "1                 50482811L                                651623729   \n",
       "2                 02309963G                                695517703   \n",
       "3                 71167986Y                                660087618   \n",
       "4                 05291047N                                665584356   \n",
       "..                      ...                                      ...   \n",
       "64                48664434E                                692356132   \n",
       "65                 Y521394D                                659210762   \n",
       "66                54361871Z                                680461734   \n",
       "67                05937108A                                618478186   \n",
       "68                54284491Y                                666138198   \n",
       "\n",
       "                                  Domicilio / Adresse  ...  \\\n",
       "0                                 Domicilio / Adresse  ...   \n",
       "1   {addr1=C/ Reina 26 D, country=ES, zip=28300, s...  ...   \n",
       "2   {addr2=, country=ES, city=Madrid, addr1=Calle ...  ...   \n",
       "3   {addr2=, zip=28003, city=Madrid, addr1=Calle A...  ...   \n",
       "4   {addr1=CALLE LOPEZ MORENO 12, 3D, city=MELILLA...  ...   \n",
       "..                                                ...  ...   \n",
       "64                   CALLE FERNÁNDEZ DE LOS RÍOS Nº77  ...   \n",
       "65                               Calle de la reina 25  ...   \n",
       "66                                        C/Solano 18  ...   \n",
       "67                             C/Niceto Alcalá Zamora  ...   \n",
       "68                              c/ Ronda del Norte 22  ...   \n",
       "\n",
       "              Departamento en el que colaboras  \\\n",
       "0             Departamento en el que colaboras   \n",
       "1                                                \n",
       "2                                                \n",
       "3          Departamento de Proyectos / Projets   \n",
       "4          Departamento de Proyectos / Projets   \n",
       "..                                         ...   \n",
       "64                             Ninguno / Aucun   \n",
       "65  Comité de Energía, Agua e Infraestructuras   \n",
       "66  Comité de Energía, Agua e Infraestructuras   \n",
       "67                Comité de Políticas Sociales   \n",
       "68                Comité de Políticas Sociales   \n",
       "\n",
       "    Declaro que la información anterior es correcta*  \\\n",
       "0   Declaro que la información anterior es correcta*   \n",
       "1                                           Si / Oui   \n",
       "2                                           Si / Oui   \n",
       "3                                           Si / Oui   \n",
       "4                                           Si / Oui   \n",
       "..                                               ...   \n",
       "64                                                     \n",
       "65                                                     \n",
       "66                                                     \n",
       "67                                                     \n",
       "68                                                     \n",
       "\n",
       "    ¿En qué momento has estado en Nikki?*  \\\n",
       "0   ¿En qué momento has estado en Nikki?*   \n",
       "1                                 OAN2017   \n",
       "2                                 OAN2014   \n",
       "3                                 OAN2016   \n",
       "4                                 OAN2017   \n",
       "..                                    ...   \n",
       "64                                     No   \n",
       "65                                     No   \n",
       "66                                     No   \n",
       "67                                     No   \n",
       "68                                     No   \n",
       "\n",
       "    ¿Durante Cuánto Tiempo (en total)?*  \\\n",
       "0   ¿Durante Cuánto Tiempo (en total)?*   \n",
       "1                      2 meses / 2 mois   \n",
       "2                      5 meses / 5 mois   \n",
       "3                        1 mes / 1 mois   \n",
       "4          más 6 meses / Plus de 6 mois   \n",
       "..                                  ...   \n",
       "64                                        \n",
       "65                                        \n",
       "66                                        \n",
       "67                                        \n",
       "68                                        \n",
       "\n",
       "    Quieres apoyar a OAN con una donación*  En caso afirmativo, selecciona*  \\\n",
       "0   Quieres apoyar a OAN con una donación*  En caso afirmativo, selecciona*   \n",
       "1                                                                             \n",
       "2                                 No / Non                                    \n",
       "3                                                                             \n",
       "4                                 No / Non                                    \n",
       "..                                     ...                              ...   \n",
       "64                No, gracias / Non, merci                                    \n",
       "65                No, gracias / Non, merci                                    \n",
       "66                No, gracias / Non, merci                                    \n",
       "67                No, gracias / Non, merci                                    \n",
       "68                No, gracias / Non, merci                                    \n",
       "\n",
       "    Acepto voluntariamente ser Socio de OAN*  \\\n",
       "0   Acepto voluntariamente ser Socio de OAN*   \n",
       "1                                   Si / Oui   \n",
       "2                                   Si / Oui   \n",
       "3                                   Si / Oui   \n",
       "4                                   Si / Oui   \n",
       "..                                       ...   \n",
       "64                                  Sí / Oui   \n",
       "65                                  Sí / Oui   \n",
       "66                                  Sí / Oui   \n",
       "67                                  Sí / Oui   \n",
       "68                                  Sí / Oui   \n",
       "\n",
       "    Declaro cumplir con mis deberes como socio*  Fecha de registro  \\\n",
       "0   Declaro cumplir con mis deberes como socio*  Fecha de registro   \n",
       "1                                      Si / Oui         2018-09-23   \n",
       "2                                      Si / Oui         2018-09-17   \n",
       "3                                      Si / Oui         2018-12-02   \n",
       "4                                      Si / Oui         2018-09-17   \n",
       "..                                          ...                ...   \n",
       "64                                     Sí / Oui         2020-10-12   \n",
       "65                                     Sí / Oui         2021-01-23   \n",
       "66                                     Sí / Oui         2021-01-25   \n",
       "67                                     Sí / Oui         2021-01-26   \n",
       "68                                     Sí / Oui         2021-02-03   \n",
       "\n",
       "    Fecha de último cambio  \n",
       "0   Fecha de último cambio  \n",
       "1               2020-05-12  \n",
       "2               2020-05-12  \n",
       "3               2020-05-12  \n",
       "4               2020-05-12  \n",
       "..                     ...  \n",
       "64                    None  \n",
       "65                    None  \n",
       "66                    None  \n",
       "67                    None  \n",
       "68                    None  \n",
       "\n",
       "[69 rows x 22 columns]"
      ]
     },
     "execution_count": 63,
     "metadata": {},
     "output_type": "execute_result"
    }
   ],
   "source": [
    "df_socios"
   ]
  },
  {
   "cell_type": "code",
   "execution_count": null,
   "metadata": {},
   "outputs": [],
   "source": []
  }
 ],
 "metadata": {
  "kernelspec": {
   "display_name": "Python 3",
   "language": "python",
   "name": "python3"
  },
  "language_info": {
   "codemirror_mode": {
    "name": "ipython",
    "version": 3
   },
   "file_extension": ".py",
   "mimetype": "text/x-python",
   "name": "python",
   "nbconvert_exporter": "python",
   "pygments_lexer": "ipython3",
   "version": "3.8.3"
  }
 },
 "nbformat": 4,
 "nbformat_minor": 2
}

{
 "cells": [
  {
   "cell_type": "code",
   "execution_count": 1,
   "metadata": {},
   "outputs": [],
   "source": [
    "#to open cred files\n",
    "import os\n",
    "import yaml\n",
    "#cleaning and operations\n",
    "import pandas as pd\n",
    "import numpy as np\n",
    "#to read translations\n",
    "import json\n",
    "import unidecode"
   ]
  },
  {
   "cell_type": "code",
   "execution_count": 2,
   "metadata": {},
   "outputs": [],
   "source": [
    "#bigquery\n",
    "import pandas_gbq\n",
    "from google.cloud import bigquery"
   ]
  },
  {
   "cell_type": "code",
   "execution_count": 4,
   "metadata": {},
   "outputs": [],
   "source": [
    "#FIREBASE\n",
    "import firebase_admin\n",
    "#Firbease (pip install firebase_admin)\n",
    "from firebase_admin import credentials\n",
    "from firebase_admin import firestore"
   ]
  },
  {
   "cell_type": "code",
   "execution_count": 3,
   "metadata": {},
   "outputs": [
    {
     "data": {
      "text/plain": [
       "True"
      ]
     },
     "execution_count": 3,
     "metadata": {},
     "output_type": "execute_result"
    }
   ],
   "source": [
    "from dotenv import load_dotenv\n",
    "load_dotenv('/Users/daniel/OAN/credentials/contoan/.env')"
   ]
  },
  {
   "cell_type": "code",
   "execution_count": null,
   "metadata": {},
   "outputs": [],
   "source": [
    "## OPEN CONECTION TO BIGQUERRY\n",
    "client = bigquery.Client()\n",
    "dataset_id = \"{}.contoan\".format(client.project)\n",
    "dataset = bigquery.Dataset(dataset_id)"
   ]
  },
  {
   "cell_type": "code",
   "execution_count": 5,
   "metadata": {},
   "outputs": [],
   "source": [
    "filename=os.environ['FIREBASE_FILENAME']"
   ]
  },
  {
   "cell_type": "code",
   "execution_count": 6,
   "metadata": {},
   "outputs": [],
   "source": [
    "#OPEN CONECTION TO FIREBASE\n",
    "cred = credentials.Certificate(filename)\n",
    "firebase_admin.initialize_app(cred)\n",
    "\n",
    "db = firestore.client()"
   ]
  },
  {
   "cell_type": "markdown",
   "metadata": {},
   "source": [
    "## Accounting table"
   ]
  },
  {
   "cell_type": "markdown",
   "metadata": {},
   "source": [
    "### GET DATA"
   ]
  },
  {
   "cell_type": "code",
   "execution_count": 7,
   "metadata": {},
   "outputs": [],
   "source": [
    "#get all the collection\n",
    "col_query = db.collection('Accounting').stream()"
   ]
  },
  {
   "cell_type": "code",
   "execution_count": 8,
   "metadata": {},
   "outputs": [],
   "source": [
    "#save it in a list of dictionaries\n",
    "accounts = []\n",
    "for acc in col_query:\n",
    "    accounts.append(acc.to_dict())"
   ]
  },
  {
   "cell_type": "code",
   "execution_count": 9,
   "metadata": {},
   "outputs": [],
   "source": [
    "#convert to dataframe\n",
    "accounting = pd.DataFrame(accounts)"
   ]
  },
  {
   "cell_type": "code",
   "execution_count": 10,
   "metadata": {},
   "outputs": [],
   "source": [
    "accounting['amount']=pd.to_numeric(accounting['amount'])"
   ]
  },
  {
   "cell_type": "code",
   "execution_count": 11,
   "metadata": {},
   "outputs": [
    {
     "name": "stdout",
     "output_type": "stream",
     "text": [
      "<class 'pandas.core.frame.DataFrame'>\n",
      "RangeIndex: 1929 entries, 0 to 1928\n",
      "Data columns (total 20 columns):\n",
      " #   Column          Non-Null Count  Dtype  \n",
      "---  ------          --------------  -----  \n",
      " 0   user_in_charge  1929 non-null   object \n",
      " 1   creation_date   1929 non-null   object \n",
      " 2   creator_user    1929 non-null   object \n",
      " 3   phase           617 non-null    object \n",
      " 4   execution_date  1929 non-null   object \n",
      " 5   project         1929 non-null   object \n",
      " 6   type            1929 non-null   object \n",
      " 7   vat_amount      1860 non-null   float64\n",
      " 8   images          1926 non-null   object \n",
      " 9   place           1929 non-null   object \n",
      " 10  description     1885 non-null   object \n",
      " 11  account_id      1929 non-null   object \n",
      " 12  concept         1929 non-null   object \n",
      " 13  id              1929 non-null   object \n",
      " 14  origin          1929 non-null   object \n",
      " 15  target_id       1929 non-null   object \n",
      " 16  vat             1706 non-null   float64\n",
      " 17  amount          1929 non-null   float64\n",
      " 18  intervention    1929 non-null   object \n",
      " 19  code            1929 non-null   int64  \n",
      "dtypes: float64(3), int64(1), object(16)\n",
      "memory usage: 301.5+ KB\n"
     ]
    }
   ],
   "source": [
    "#nulls. size and datatype\n",
    "accounting.info()"
   ]
  },
  {
   "cell_type": "code",
   "execution_count": 12,
   "metadata": {},
   "outputs": [],
   "source": [
    "#nulls heatmap - import seaborn as sns\n",
    "#sns.heatmap(accounting.isna())"
   ]
  },
  {
   "cell_type": "markdown",
   "metadata": {},
   "source": [
    "### CLEAN DATA"
   ]
  },
  {
   "cell_type": "code",
   "execution_count": 13,
   "metadata": {},
   "outputs": [
    {
     "data": {
      "text/html": [
       "<div>\n",
       "<style scoped>\n",
       "    .dataframe tbody tr th:only-of-type {\n",
       "        vertical-align: middle;\n",
       "    }\n",
       "\n",
       "    .dataframe tbody tr th {\n",
       "        vertical-align: top;\n",
       "    }\n",
       "\n",
       "    .dataframe thead th {\n",
       "        text-align: right;\n",
       "    }\n",
       "</style>\n",
       "<table border=\"1\" class=\"dataframe\">\n",
       "  <thead>\n",
       "    <tr style=\"text-align: right;\">\n",
       "      <th></th>\n",
       "      <th>user_in_charge</th>\n",
       "      <th>creation_date</th>\n",
       "      <th>creator_user</th>\n",
       "      <th>phase</th>\n",
       "      <th>execution_date</th>\n",
       "      <th>project</th>\n",
       "      <th>type</th>\n",
       "      <th>vat_amount</th>\n",
       "      <th>images</th>\n",
       "      <th>place</th>\n",
       "      <th>description</th>\n",
       "      <th>account_id</th>\n",
       "      <th>concept</th>\n",
       "      <th>id</th>\n",
       "      <th>origin</th>\n",
       "      <th>target_id</th>\n",
       "      <th>vat</th>\n",
       "      <th>amount</th>\n",
       "      <th>intervention</th>\n",
       "      <th>code</th>\n",
       "    </tr>\n",
       "  </thead>\n",
       "  <tbody>\n",
       "    <tr>\n",
       "      <th>0</th>\n",
       "      <td>IjBxXuBshlfq2MUzwBSK</td>\n",
       "      <td>2020-08-26T18:02:55.591Z</td>\n",
       "      <td>z5m936GA0t3vHM28QKhR</td>\n",
       "      <td>None</td>\n",
       "      <td>2020-04-28T12:07:49.000Z</td>\n",
       "      <td>0DmODGTOEiM5lg9SGx0J</td>\n",
       "      <td>income</td>\n",
       "      <td>3.644628</td>\n",
       "      <td>[]</td>\n",
       "      <td>spain</td>\n",
       "      <td>venta online: 2288996286563</td>\n",
       "      <td>3deqBmrZ1iJkAwMmxSOp</td>\n",
       "      <td>venta shopify</td>\n",
       "      <td>01WVDHF0gSSg1PCFsosk</td>\n",
       "      <td>script_dani</td>\n",
       "      <td>yfy4cPxkmFwIYVnoWD0A</td>\n",
       "      <td>21.0</td>\n",
       "      <td>21.00</td>\n",
       "      <td>w04441aFcU5b7pQm6Rd2</td>\n",
       "      <td>899</td>\n",
       "    </tr>\n",
       "    <tr>\n",
       "      <th>1</th>\n",
       "      <td>IjBxXuBshlfq2MUzwBSK</td>\n",
       "      <td>2020-12-07T08:56:28.137Z</td>\n",
       "      <td>z5m936GA0t3vHM28QKhR</td>\n",
       "      <td>None</td>\n",
       "      <td>2020-12-07T08:56:28.137Z</td>\n",
       "      <td>0DmODGTOEiM5lg9SGx0J</td>\n",
       "      <td>movement</td>\n",
       "      <td>0.000000</td>\n",
       "      <td>[]</td>\n",
       "      <td>spain</td>\n",
       "      <td>2875805401187</td>\n",
       "      <td>FHwFsBItyEneaZh8yP0T</td>\n",
       "      <td>Gastos de envio Nacional</td>\n",
       "      <td>01nQGx25hZLez38FpWEe</td>\n",
       "      <td>shopify</td>\n",
       "      <td>iA9Pzv2CImjItzwCaQv0</td>\n",
       "      <td>0.0</td>\n",
       "      <td>6.10</td>\n",
       "      <td>w04441aFcU5b7pQm6Rd2</td>\n",
       "      <td>1959</td>\n",
       "    </tr>\n",
       "    <tr>\n",
       "      <th>2</th>\n",
       "      <td>IjBxXuBshlfq2MUzwBSK</td>\n",
       "      <td>2020-08-26T18:02:55.591Z</td>\n",
       "      <td>z5m936GA0t3vHM28QKhR</td>\n",
       "      <td>None</td>\n",
       "      <td>2020-04-28T19:50:24.000Z</td>\n",
       "      <td>0DmODGTOEiM5lg9SGx0J</td>\n",
       "      <td>income</td>\n",
       "      <td>6.595041</td>\n",
       "      <td>[]</td>\n",
       "      <td>spain</td>\n",
       "      <td>venta online: 2290422218851</td>\n",
       "      <td>3deqBmrZ1iJkAwMmxSOp</td>\n",
       "      <td>venta shopify</td>\n",
       "      <td>026RXV3hyl33ussoU7D9</td>\n",
       "      <td>script_dani</td>\n",
       "      <td>iA9Pzv2CImjItzwCaQv0</td>\n",
       "      <td>21.0</td>\n",
       "      <td>38.00</td>\n",
       "      <td>w04441aFcU5b7pQm6Rd2</td>\n",
       "      <td>1049</td>\n",
       "    </tr>\n",
       "    <tr>\n",
       "      <th>3</th>\n",
       "      <td>IjBxXuBshlfq2MUzwBSK</td>\n",
       "      <td>2020-12-05T22:24:00.338Z</td>\n",
       "      <td>z5m936GA0t3vHM28QKhR</td>\n",
       "      <td>LXspD4R7rZ6Jw5EOEZYR</td>\n",
       "      <td>2020-12-05T22:24:00.338Z</td>\n",
       "      <td>0DmODGTOEiM5lg9SGx0J</td>\n",
       "      <td>expense</td>\n",
       "      <td>0.000000</td>\n",
       "      <td>[]</td>\n",
       "      <td>spain</td>\n",
       "      <td>2872447467619</td>\n",
       "      <td>j2UYEKf01eFHMPZv9qHq</td>\n",
       "      <td>Comision Stripe</td>\n",
       "      <td>02EE48NlGSbqGrrLvIHl</td>\n",
       "      <td>shopify</td>\n",
       "      <td>iA9Pzv2CImjItzwCaQv0</td>\n",
       "      <td>0.0</td>\n",
       "      <td>1.20</td>\n",
       "      <td>w04441aFcU5b7pQm6Rd2</td>\n",
       "      <td>1934</td>\n",
       "    </tr>\n",
       "    <tr>\n",
       "      <th>4</th>\n",
       "      <td>uCF6bT532woZwE9vQOuv</td>\n",
       "      <td>2020-08-21T11:18:01.503Z</td>\n",
       "      <td>uCF6bT532woZwE9vQOuv</td>\n",
       "      <td>Dck0Vf7yfdGlBct3qoLY</td>\n",
       "      <td>2020-08-21T11:18:01.503Z</td>\n",
       "      <td>RaIH6dfSXt4V7vm6jmVE</td>\n",
       "      <td>expense</td>\n",
       "      <td>0.000000</td>\n",
       "      <td>[]</td>\n",
       "      <td>spain</td>\n",
       "      <td>Parte pagada por OAN International de piezas d...</td>\n",
       "      <td>zMHMNTkAt43M0MmmRxJP</td>\n",
       "      <td>Piezas bomba Vergnet</td>\n",
       "      <td>02LozVMZvW51bygJ5e3O</td>\n",
       "      <td>contoan</td>\n",
       "      <td>vJbbj1kPxkcdXJyBOf1l</td>\n",
       "      <td>0.0</td>\n",
       "      <td>132.65</td>\n",
       "      <td>SEDR5KRqPQVF6qovZiVq</td>\n",
       "      <td>417</td>\n",
       "    </tr>\n",
       "  </tbody>\n",
       "</table>\n",
       "</div>"
      ],
      "text/plain": [
       "         user_in_charge             creation_date          creator_user  \\\n",
       "0  IjBxXuBshlfq2MUzwBSK  2020-08-26T18:02:55.591Z  z5m936GA0t3vHM28QKhR   \n",
       "1  IjBxXuBshlfq2MUzwBSK  2020-12-07T08:56:28.137Z  z5m936GA0t3vHM28QKhR   \n",
       "2  IjBxXuBshlfq2MUzwBSK  2020-08-26T18:02:55.591Z  z5m936GA0t3vHM28QKhR   \n",
       "3  IjBxXuBshlfq2MUzwBSK  2020-12-05T22:24:00.338Z  z5m936GA0t3vHM28QKhR   \n",
       "4  uCF6bT532woZwE9vQOuv  2020-08-21T11:18:01.503Z  uCF6bT532woZwE9vQOuv   \n",
       "\n",
       "                  phase            execution_date               project  \\\n",
       "0                  None  2020-04-28T12:07:49.000Z  0DmODGTOEiM5lg9SGx0J   \n",
       "1                  None  2020-12-07T08:56:28.137Z  0DmODGTOEiM5lg9SGx0J   \n",
       "2                  None  2020-04-28T19:50:24.000Z  0DmODGTOEiM5lg9SGx0J   \n",
       "3  LXspD4R7rZ6Jw5EOEZYR  2020-12-05T22:24:00.338Z  0DmODGTOEiM5lg9SGx0J   \n",
       "4  Dck0Vf7yfdGlBct3qoLY  2020-08-21T11:18:01.503Z  RaIH6dfSXt4V7vm6jmVE   \n",
       "\n",
       "       type  vat_amount images  place  \\\n",
       "0    income    3.644628     []  spain   \n",
       "1  movement    0.000000     []  spain   \n",
       "2    income    6.595041     []  spain   \n",
       "3   expense    0.000000     []  spain   \n",
       "4   expense    0.000000     []  spain   \n",
       "\n",
       "                                         description            account_id  \\\n",
       "0                        venta online: 2288996286563  3deqBmrZ1iJkAwMmxSOp   \n",
       "1                                      2875805401187  FHwFsBItyEneaZh8yP0T   \n",
       "2                        venta online: 2290422218851  3deqBmrZ1iJkAwMmxSOp   \n",
       "3                                      2872447467619  j2UYEKf01eFHMPZv9qHq   \n",
       "4  Parte pagada por OAN International de piezas d...  zMHMNTkAt43M0MmmRxJP   \n",
       "\n",
       "                    concept                    id       origin  \\\n",
       "0             venta shopify  01WVDHF0gSSg1PCFsosk  script_dani   \n",
       "1  Gastos de envio Nacional  01nQGx25hZLez38FpWEe      shopify   \n",
       "2             venta shopify  026RXV3hyl33ussoU7D9  script_dani   \n",
       "3           Comision Stripe  02EE48NlGSbqGrrLvIHl      shopify   \n",
       "4      Piezas bomba Vergnet  02LozVMZvW51bygJ5e3O      contoan   \n",
       "\n",
       "              target_id   vat  amount          intervention  code  \n",
       "0  yfy4cPxkmFwIYVnoWD0A  21.0   21.00  w04441aFcU5b7pQm6Rd2   899  \n",
       "1  iA9Pzv2CImjItzwCaQv0   0.0    6.10  w04441aFcU5b7pQm6Rd2  1959  \n",
       "2  iA9Pzv2CImjItzwCaQv0  21.0   38.00  w04441aFcU5b7pQm6Rd2  1049  \n",
       "3  iA9Pzv2CImjItzwCaQv0   0.0    1.20  w04441aFcU5b7pQm6Rd2  1934  \n",
       "4  vJbbj1kPxkcdXJyBOf1l   0.0  132.65  SEDR5KRqPQVF6qovZiVq   417  "
      ]
     },
     "execution_count": 13,
     "metadata": {},
     "output_type": "execute_result"
    }
   ],
   "source": [
    "#lets see how it shows\n",
    "accounting.head()"
   ]
  },
  {
   "cell_type": "markdown",
   "metadata": {},
   "source": [
    "#### convert execution to isostring"
   ]
  },
  {
   "cell_type": "code",
   "execution_count": 14,
   "metadata": {},
   "outputs": [],
   "source": [
    "def clean_execution(x):\n",
    "    if(len(x['execution_date'])<15):\n",
    "        doc_id = x['id']\n",
    "        exec_date=x['execution_date']+'T14:14:58.593Z'\n",
    "        print(exec_date)\n",
    "        print(len(x['execution_date']))\n",
    "        #upload to firebase if whished\n",
    "        #a=db.collection(u'Accounting').document(doc_id).update({'execution_date':exec_date})\n",
    "        \n",
    "        return exec_date\n",
    "    else:\n",
    "        return x['execution_date']\n",
    "        "
   ]
  },
  {
   "cell_type": "code",
   "execution_count": 15,
   "metadata": {},
   "outputs": [
    {
     "name": "stdout",
     "output_type": "stream",
     "text": [
      "2020-10-31T14:14:58.593Z\n",
      "10\n",
      "2020-11-25T14:14:58.593Z\n",
      "10\n",
      "2020-09-30T14:14:58.593Z\n",
      "10\n",
      "2020-09-01T14:14:58.593Z\n",
      "10\n",
      "2020-10-15T14:14:58.593Z\n",
      "10\n",
      "2020-10-31T14:14:58.593Z\n",
      "10\n"
     ]
    }
   ],
   "source": [
    "accounting['execution_date']=accounting.apply(lambda x: clean_execution(x) ,axis=1)"
   ]
  },
  {
   "cell_type": "markdown",
   "metadata": {},
   "source": [
    "##### clean VAT and replace nan with 0"
   ]
  },
  {
   "cell_type": "code",
   "execution_count": 16,
   "metadata": {},
   "outputs": [],
   "source": [
    "def clean_vat_amount(x):\n",
    "    doc_id = x['id']\n",
    "    amount=x['amount']\n",
    "    origin = x['origin']\n",
    "    if origin =='script_dani':\n",
    "        if x['vat']>0:\n",
    "            vat=21\n",
    "        else:\n",
    "            vat=0\n",
    "        #a=db.collection(u'Accounting').document(doc_id).update({'vat':vat})\n",
    "    else:\n",
    "        vat=x['vat']\n",
    "        if not(vat >=0):\n",
    "            vat=0\n",
    "    vat_amount=amount*(1-1/(1+vat/100))\n",
    "\n",
    "    #a=db.collection(u'Accounting').document(doc_id).update({'vat_amount':vat_amount})\n",
    "\n",
    "    return pd.Series({'vat':vat,'vat_amount':vat_amount})"
   ]
  },
  {
   "cell_type": "code",
   "execution_count": 17,
   "metadata": {},
   "outputs": [],
   "source": [
    "accounting[['vat','vat_amount']] = accounting.apply(lambda x: clean_vat_amount(x),axis=1)"
   ]
  },
  {
   "cell_type": "markdown",
   "metadata": {},
   "source": [
    "###### convert dates to datetime"
   ]
  },
  {
   "cell_type": "code",
   "execution_count": 18,
   "metadata": {},
   "outputs": [],
   "source": [
    "#utc=True important if dates are in diferent formats\n",
    "accounting['creation_date'] = pd.to_datetime(accounting['creation_date'],utc=True)\n",
    "accounting['execution_date'] = pd.to_datetime(accounting['execution_date'],utc=True)"
   ]
  },
  {
   "cell_type": "code",
   "execution_count": 19,
   "metadata": {},
   "outputs": [],
   "source": [
    "def getimages(x):\n",
    "    if not (x):\n",
    "        return ''\n",
    "    elif(len(x)==0):\n",
    "        return ''\n",
    "    elif('download_url' in x[0].keys()):\n",
    "        download_url = x[0]['download_url']\n",
    "        if(download_url == None):\n",
    "            return ''\n",
    "        else:\n",
    "            return download_url\n",
    "    else:\n",
    "        return ''"
   ]
  },
  {
   "cell_type": "code",
   "execution_count": 20,
   "metadata": {},
   "outputs": [],
   "source": [
    "accounting['receipt']=accounting.images.apply(lambda x: getimages(x))"
   ]
  },
  {
   "cell_type": "markdown",
   "metadata": {},
   "source": [
    "##### double check"
   ]
  },
  {
   "cell_type": "code",
   "execution_count": 21,
   "metadata": {},
   "outputs": [
    {
     "name": "stdout",
     "output_type": "stream",
     "text": [
      "<class 'pandas.core.frame.DataFrame'>\n",
      "RangeIndex: 1929 entries, 0 to 1928\n",
      "Data columns (total 21 columns):\n",
      " #   Column          Non-Null Count  Dtype              \n",
      "---  ------          --------------  -----              \n",
      " 0   user_in_charge  1929 non-null   object             \n",
      " 1   creation_date   1929 non-null   datetime64[ns, UTC]\n",
      " 2   creator_user    1929 non-null   object             \n",
      " 3   phase           617 non-null    object             \n",
      " 4   execution_date  1929 non-null   datetime64[ns, UTC]\n",
      " 5   project         1929 non-null   object             \n",
      " 6   type            1929 non-null   object             \n",
      " 7   vat_amount      1929 non-null   float64            \n",
      " 8   images          1926 non-null   object             \n",
      " 9   place           1929 non-null   object             \n",
      " 10  description     1885 non-null   object             \n",
      " 11  account_id      1929 non-null   object             \n",
      " 12  concept         1929 non-null   object             \n",
      " 13  id              1929 non-null   object             \n",
      " 14  origin          1929 non-null   object             \n",
      " 15  target_id       1929 non-null   object             \n",
      " 16  vat             1929 non-null   float64            \n",
      " 17  amount          1929 non-null   float64            \n",
      " 18  intervention    1929 non-null   object             \n",
      " 19  code            1929 non-null   int64              \n",
      " 20  receipt         1929 non-null   object             \n",
      "dtypes: datetime64[ns, UTC](2), float64(3), int64(1), object(15)\n",
      "memory usage: 316.6+ KB\n"
     ]
    }
   ],
   "source": [
    "accounting.info()"
   ]
  },
  {
   "cell_type": "markdown",
   "metadata": {},
   "source": [
    "### select columns"
   ]
  },
  {
   "cell_type": "code",
   "execution_count": 22,
   "metadata": {},
   "outputs": [],
   "source": [
    "#and the order whe want to upload to bigquery\n",
    "df = accounting[['concept', 'place', 'creation_date', 'vat', 'description', 'amount',\n",
    "       'id', 'phase', 'creator_user', 'execution_date',\n",
    "       'user_in_charge', 'origin', 'account_id', 'project', 'code', 'type',\n",
    "       'intervention', 'target_id', 'vat_amount', 'receipt']]"
   ]
  },
  {
   "cell_type": "markdown",
   "metadata": {},
   "source": [
    "## upload to BIGQUERY"
   ]
  },
  {
   "cell_type": "code",
   "execution_count": 23,
   "metadata": {},
   "outputs": [],
   "source": [
    "client = bigquery.Client()"
   ]
  },
  {
   "cell_type": "code",
   "execution_count": 24,
   "metadata": {},
   "outputs": [],
   "source": [
    "dataset_id = \"{}.contoan\".format(client.project)"
   ]
  },
  {
   "cell_type": "code",
   "execution_count": 25,
   "metadata": {},
   "outputs": [],
   "source": [
    "dataset = bigquery.Dataset(dataset_id)"
   ]
  },
  {
   "cell_type": "code",
   "execution_count": 26,
   "metadata": {
    "scrolled": true
   },
   "outputs": [
    {
     "name": "stderr",
     "output_type": "stream",
     "text": [
      "1it [00:06,  6.22s/it]\n"
     ]
    }
   ],
   "source": [
    "table_id = \"{}.accounting\".format(dataset.dataset_id)\n",
    "\n",
    "pandas_gbq.to_gbq(df, table_id, project_id=client.project, if_exists='replace')"
   ]
  },
  {
   "cell_type": "markdown",
   "metadata": {},
   "source": []
  },
  {
   "cell_type": "markdown",
   "metadata": {},
   "source": [
    "### SUBIR VENTAS"
   ]
  },
  {
   "cell_type": "markdown",
   "metadata": {},
   "source": [
    "#### get data"
   ]
  },
  {
   "cell_type": "code",
   "execution_count": 353,
   "metadata": {},
   "outputs": [],
   "source": [
    "col_query = db.collection('Nikarit_Sales').stream()"
   ]
  },
  {
   "cell_type": "code",
   "execution_count": 354,
   "metadata": {},
   "outputs": [],
   "source": [
    "ventas = []\n",
    "for acc in col_query:\n",
    "    ventas.append(acc.to_dict())"
   ]
  },
  {
   "cell_type": "code",
   "execution_count": 355,
   "metadata": {},
   "outputs": [],
   "source": [
    "df_ventas = pd.DataFrame(ventas)"
   ]
  },
  {
   "cell_type": "code",
   "execution_count": 356,
   "metadata": {},
   "outputs": [
    {
     "data": {
      "text/plain": [
       "(846, 57)"
      ]
     },
     "execution_count": 356,
     "metadata": {},
     "output_type": "execute_result"
    }
   ],
   "source": [
    "df_ventas.shape"
   ]
  },
  {
   "cell_type": "markdown",
   "metadata": {},
   "source": [
    "### view"
   ]
  },
  {
   "cell_type": "code",
   "execution_count": 357,
   "metadata": {},
   "outputs": [
    {
     "name": "stdout",
     "output_type": "stream",
     "text": [
      "<class 'pandas.core.frame.DataFrame'>\n",
      "RangeIndex: 846 entries, 0 to 845\n",
      "Data columns (total 57 columns):\n",
      " #   Column                   Non-Null Count  Dtype  \n",
      "---  ------                   --------------  -----  \n",
      " 0   id                       846 non-null    object \n",
      " 1   client_gender            846 non-null    object \n",
      " 2   product_movement         203 non-null    object \n",
      " 3   buyer_accepts_marketing  216 non-null    object \n",
      " 4   balsamo_unit_price       846 non-null    object \n",
      " 5   total_tax                846 non-null    float64\n",
      " 6   crema_nb                 846 non-null    int64  \n",
      " 7   manteca_unit_price       846 non-null    object \n",
      " 8   close_date               697 non-null    object \n",
      " 9   packContigo_nb           846 non-null    int64  \n",
      " 10  subtotal_price           846 non-null    object \n",
      " 11  packHidra_nb             846 non-null    int64  \n",
      " 12  client_last_name         836 non-null    object \n",
      " 13  country                  759 non-null    object \n",
      " 14  order_status_url         815 non-null    object \n",
      " 15  packHidra_total_price    846 non-null    int64  \n",
      " 16  packContigo_unit_price   846 non-null    object \n",
      " 17  crema_total_price        846 non-null    int64  \n",
      " 18  packContigo_total_price  846 non-null    int64  \n",
      " 19  balsamo_total_price      846 non-null    int64  \n",
      " 20  client_name              839 non-null    object \n",
      " 21  taxes_included           846 non-null    bool   \n",
      " 22  order_id                 819 non-null    object \n",
      " 23  manteca_total_price      846 non-null    int64  \n",
      " 24  latitude                 746 non-null    float64\n",
      " 25  creation_date            846 non-null    object \n",
      " 26  total_price              846 non-null    float64\n",
      " 27  gateway                  846 non-null    object \n",
      " 28  balsamo_nb               846 non-null    int64  \n",
      " 29  crema_unit_price         846 non-null    object \n",
      " 30  client_email             806 non-null    object \n",
      " 31  zip                      815 non-null    object \n",
      " 32  accounting_item          215 non-null    object \n",
      " 33  manteca_nb               846 non-null    int64  \n",
      " 34  longitude                746 non-null    float64\n",
      " 35  origin                   846 non-null    object \n",
      " 36  province                 544 non-null    object \n",
      " 37  packHidra_unit_price     846 non-null    object \n",
      " 38  packBandana_total_price  215 non-null    float64\n",
      " 39  bolsa_unit_price         231 non-null    object \n",
      " 40  client_adresse           203 non-null    object \n",
      " 41  packNavidad_nb           177 non-null    float64\n",
      " 42  packAbanico_nb           215 non-null    float64\n",
      " 43  city                     203 non-null    object \n",
      " 44  packBandana_unit_price   215 non-null    object \n",
      " 45  packAbanico_unit_price   215 non-null    object \n",
      " 46  packNavidad_total_price  177 non-null    float64\n",
      " 47  packNavidad_unit_price   177 non-null    object \n",
      " 48  bolsa_total_price        231 non-null    float64\n",
      " 49  bolsa_nb                 231 non-null    float64\n",
      " 50  client_phone             203 non-null    object \n",
      " 51  packBandana_nb           215 non-null    float64\n",
      " 52  navidadCode              171 non-null    float64\n",
      " 53  packAbanico_total_price  215 non-null    float64\n",
      " 54  donation                 7 non-null      float64\n",
      " 55  to                       3 non-null      object \n",
      " 56  message                  3 non-null      object \n",
      "dtypes: bool(1), float64(14), int64(10), object(32)\n",
      "memory usage: 371.1+ KB\n"
     ]
    }
   ],
   "source": [
    "df_ventas.info()"
   ]
  },
  {
   "cell_type": "markdown",
   "metadata": {},
   "source": [
    "#### transform data"
   ]
  },
  {
   "cell_type": "code",
   "execution_count": 358,
   "metadata": {},
   "outputs": [],
   "source": [
    "cols = list(df_ventas.columns)"
   ]
  },
  {
   "cell_type": "code",
   "execution_count": 359,
   "metadata": {},
   "outputs": [],
   "source": [
    "cambios = [col for col in cols if 'price' in col]"
   ]
  },
  {
   "cell_type": "code",
   "execution_count": 360,
   "metadata": {},
   "outputs": [],
   "source": [
    "for cambio in cambios:\n",
    "    df_ventas[cambio]=pd.to_numeric(df_ventas[cambio])"
   ]
  },
  {
   "cell_type": "code",
   "execution_count": 361,
   "metadata": {},
   "outputs": [],
   "source": [
    "df_ventas['creation_date']=pd.to_datetime(df_ventas['creation_date'],utc=True)\n",
    "df_ventas['close_date']=pd.to_datetime(df_ventas['close_date'],utc=True)"
   ]
  },
  {
   "cell_type": "code",
   "execution_count": 362,
   "metadata": {},
   "outputs": [
    {
     "name": "stdout",
     "output_type": "stream",
     "text": [
      "<class 'pandas.core.frame.DataFrame'>\n",
      "RangeIndex: 846 entries, 0 to 845\n",
      "Data columns (total 57 columns):\n",
      " #   Column                   Non-Null Count  Dtype              \n",
      "---  ------                   --------------  -----              \n",
      " 0   id                       846 non-null    object             \n",
      " 1   client_gender            846 non-null    object             \n",
      " 2   product_movement         203 non-null    object             \n",
      " 3   buyer_accepts_marketing  216 non-null    object             \n",
      " 4   balsamo_unit_price       846 non-null    float64            \n",
      " 5   total_tax                846 non-null    float64            \n",
      " 6   crema_nb                 846 non-null    int64              \n",
      " 7   manteca_unit_price       846 non-null    float64            \n",
      " 8   close_date               697 non-null    datetime64[ns, UTC]\n",
      " 9   packContigo_nb           846 non-null    int64              \n",
      " 10  subtotal_price           846 non-null    float64            \n",
      " 11  packHidra_nb             846 non-null    int64              \n",
      " 12  client_last_name         836 non-null    object             \n",
      " 13  country                  759 non-null    object             \n",
      " 14  order_status_url         815 non-null    object             \n",
      " 15  packHidra_total_price    846 non-null    int64              \n",
      " 16  packContigo_unit_price   846 non-null    float64            \n",
      " 17  crema_total_price        846 non-null    int64              \n",
      " 18  packContigo_total_price  846 non-null    int64              \n",
      " 19  balsamo_total_price      846 non-null    int64              \n",
      " 20  client_name              839 non-null    object             \n",
      " 21  taxes_included           846 non-null    bool               \n",
      " 22  order_id                 819 non-null    object             \n",
      " 23  manteca_total_price      846 non-null    int64              \n",
      " 24  latitude                 746 non-null    float64            \n",
      " 25  creation_date            846 non-null    datetime64[ns, UTC]\n",
      " 26  total_price              846 non-null    float64            \n",
      " 27  gateway                  846 non-null    object             \n",
      " 28  balsamo_nb               846 non-null    int64              \n",
      " 29  crema_unit_price         846 non-null    float64            \n",
      " 30  client_email             806 non-null    object             \n",
      " 31  zip                      815 non-null    object             \n",
      " 32  accounting_item          215 non-null    object             \n",
      " 33  manteca_nb               846 non-null    int64              \n",
      " 34  longitude                746 non-null    float64            \n",
      " 35  origin                   846 non-null    object             \n",
      " 36  province                 544 non-null    object             \n",
      " 37  packHidra_unit_price     846 non-null    float64            \n",
      " 38  packBandana_total_price  215 non-null    float64            \n",
      " 39  bolsa_unit_price         231 non-null    float64            \n",
      " 40  client_adresse           203 non-null    object             \n",
      " 41  packNavidad_nb           177 non-null    float64            \n",
      " 42  packAbanico_nb           215 non-null    float64            \n",
      " 43  city                     203 non-null    object             \n",
      " 44  packBandana_unit_price   215 non-null    float64            \n",
      " 45  packAbanico_unit_price   215 non-null    float64            \n",
      " 46  packNavidad_total_price  177 non-null    float64            \n",
      " 47  packNavidad_unit_price   177 non-null    float64            \n",
      " 48  bolsa_total_price        231 non-null    float64            \n",
      " 49  bolsa_nb                 231 non-null    float64            \n",
      " 50  client_phone             203 non-null    object             \n",
      " 51  packBandana_nb           215 non-null    float64            \n",
      " 52  navidadCode              171 non-null    float64            \n",
      " 53  packAbanico_total_price  215 non-null    float64            \n",
      " 54  donation                 7 non-null      float64            \n",
      " 55  to                       3 non-null      object             \n",
      " 56  message                  3 non-null      object             \n",
      "dtypes: bool(1), datetime64[ns, UTC](2), float64(24), int64(10), object(20)\n",
      "memory usage: 371.1+ KB\n"
     ]
    }
   ],
   "source": [
    "#double check\n",
    "df_ventas.info()"
   ]
  },
  {
   "cell_type": "code",
   "execution_count": 363,
   "metadata": {},
   "outputs": [
    {
     "data": {
      "text/plain": [
       "(846, 57)"
      ]
     },
     "execution_count": 363,
     "metadata": {},
     "output_type": "execute_result"
    }
   ],
   "source": [
    "df_ventas.shape"
   ]
  },
  {
   "cell_type": "markdown",
   "metadata": {},
   "source": [
    "### METER MUJERES Y HOMBRES"
   ]
  },
  {
   "cell_type": "code",
   "execution_count": 364,
   "metadata": {},
   "outputs": [],
   "source": [
    "#client_gender"
   ]
  },
  {
   "cell_type": "code",
   "execution_count": 365,
   "metadata": {},
   "outputs": [],
   "source": [
    "#lista de mujeres\n",
    "url = 'https://raw.githubusercontent.com/marcboquet/spanish-names/master/mujeres.csv'\n",
    "df_mujeres = pd.read_csv(url, error_bad_lines=False)\n",
    "l_mujeres = df_mujeres['nombre'].to_list()"
   ]
  },
  {
   "cell_type": "code",
   "execution_count": 366,
   "metadata": {},
   "outputs": [],
   "source": [
    "l_mujeres = [str(nom).lower() for nom in l_mujeres]"
   ]
  },
  {
   "cell_type": "code",
   "execution_count": 367,
   "metadata": {},
   "outputs": [],
   "source": [
    "l_mujeres= l_mujeres+['maasuncion','mirenchu','begona','nadai','sra.','mcarmen','carmena','maita',\n",
    "'madolores','reyero','ma','maconcepción','cris']"
   ]
  },
  {
   "cell_type": "code",
   "execution_count": 368,
   "metadata": {},
   "outputs": [],
   "source": [
    "#lista de hombres\n",
    "url = 'https://raw.githubusercontent.com/marcboquet/spanish-names/master/hombres.csv'\n",
    "df_hombres = pd.read_csv(url, error_bad_lines=False)\n",
    "l_hombres = df_hombres['nombre'].to_list()"
   ]
  },
  {
   "cell_type": "code",
   "execution_count": 369,
   "metadata": {},
   "outputs": [],
   "source": [
    "l_hombres = [nom.lower() for nom in l_hombres]"
   ]
  },
  {
   "cell_type": "code",
   "execution_count": 370,
   "metadata": {},
   "outputs": [],
   "source": [
    "l_hombres= l_hombres+['fcojavier']"
   ]
  },
  {
   "cell_type": "code",
   "execution_count": 371,
   "metadata": {},
   "outputs": [],
   "source": [
    "#aplicar sexo\n",
    "df_ventas['client_gender'] = df_ventas['client_name'].apply(lambda x: \n",
    "                            'F' if unidecode.unidecode(\n",
    "                                    str(x).replace(\" \", \"\").lower()) in l_mujeres\n",
    "                            else 'M' if unidecode.unidecode(\n",
    "                                str(x).replace(\" \", \"\").lower())  in l_hombres\n",
    "                            else 'F' if unidecode.unidecode(\n",
    "                                str(x).split(\" \")[0].lower())  in l_mujeres\n",
    "                            else 'M' if unidecode.unidecode(\n",
    "                                str(x).split(\" \")[0].lower())  in l_hombres\n",
    "\n",
    "                            else 'N/A')"
   ]
  },
  {
   "cell_type": "code",
   "execution_count": 372,
   "metadata": {},
   "outputs": [
    {
     "data": {
      "text/plain": [
       "F      659\n",
       "M      164\n",
       "N/A     23\n",
       "Name: client_gender, dtype: int64"
      ]
     },
     "execution_count": 372,
     "metadata": {},
     "output_type": "execute_result"
    }
   ],
   "source": [
    "#ver que sale\n",
    "df_ventas['client_gender'].value_counts() # A MEJORRAR"
   ]
  },
  {
   "cell_type": "code",
   "execution_count": 373,
   "metadata": {},
   "outputs": [
    {
     "data": {
      "text/plain": [
       "55                  chinwe\n",
       "65              herguedas,\n",
       "66        notariaserrano19\n",
       "76       impulsandolab,s.l\n",
       "104         beaaccemmurcia\n",
       "310         farmacialaluna\n",
       "315                herrera\n",
       "320                 gandou\n",
       "330                   none\n",
       "388                  durga\n",
       "406                   none\n",
       "410                   none\n",
       "417                   none\n",
       "426       laposadademanolo\n",
       "452                   none\n",
       "471            ventasorteo\n",
       "480              ventajose\n",
       "504                   none\n",
       "570                 clavis\n",
       "581    herbolariosalamanca\n",
       "752               vinuales\n",
       "797                   none\n",
       "840                   saez\n",
       "Name: client_name, dtype: object"
      ]
     },
     "execution_count": 373,
     "metadata": {},
     "output_type": "execute_result"
    }
   ],
   "source": [
    "df_ventas[df_ventas['client_gender'] == 'N/A'\n",
    "         ]['client_name'].apply(lambda x: unidecode.unidecode(str(x).replace(\" \", \"\").lower()))"
   ]
  },
  {
   "cell_type": "markdown",
   "metadata": {},
   "source": [
    "## METER DONACIONES"
   ]
  },
  {
   "cell_type": "code",
   "execution_count": 374,
   "metadata": {},
   "outputs": [
    {
     "data": {
      "text/plain": [
       "array(['Shopify', 'Contoan'], dtype=object)"
      ]
     },
     "execution_count": 374,
     "metadata": {},
     "output_type": "execute_result"
    }
   ],
   "source": [
    "df_ventas['origin'].unique()"
   ]
  },
  {
   "cell_type": "code",
   "execution_count": 375,
   "metadata": {},
   "outputs": [],
   "source": [
    "def don(x):\n",
    "    total_price = x['total_price']\n",
    "    subtotal_price = x['subtotal_price']\n",
    "    fecha = str(x['creation_date']).split(' ')[0]\n",
    "    origin = x['origin']\n",
    "    don = 0.0\n",
    "    if '2020-11-01' < fecha and origin == \"Shopify\":\n",
    "        if total_price < 40:\n",
    "            don = total_price - subtotal_price - 5.50\n",
    "        else:\n",
    "            don = total_price - subtotal_price\n",
    "            \n",
    "    return don\n",
    "\n",
    "df_ventas['donation'] = df_ventas.apply(lambda x: don(x),axis=1)"
   ]
  },
  {
   "cell_type": "code",
   "execution_count": 376,
   "metadata": {},
   "outputs": [],
   "source": [
    "df_ventas['donation'] = df_ventas.apply(lambda x: don(x),axis=1)"
   ]
  },
  {
   "cell_type": "code",
   "execution_count": 377,
   "metadata": {},
   "outputs": [
    {
     "data": {
      "text/plain": [
       "220.73"
      ]
     },
     "execution_count": 377,
     "metadata": {},
     "output_type": "execute_result"
    }
   ],
   "source": [
    "df_ventas['donation'].sum()"
   ]
  },
  {
   "cell_type": "markdown",
   "metadata": {},
   "source": [
    "## ERROR EN PROVINCE"
   ]
  },
  {
   "cell_type": "code",
   "execution_count": 378,
   "metadata": {},
   "outputs": [],
   "source": [
    "import requests"
   ]
  },
  {
   "cell_type": "code",
   "execution_count": 379,
   "metadata": {},
   "outputs": [],
   "source": [
    "shop_url = os.environ['SHOPIFY_ACCESS_URL']\n",
    "dates = ['2019-01-01T00:15:47-04:00','2020-01-01T00:15:47-04:00',\n",
    "         '2020-05-01T00:15:47-04:00','2020-12-10T00:15:47-04:00', '2021-01-10T00:15:47-04:00']\n",
    "l_orders = []\n",
    "\n",
    "for date_min,date_max in zip(dates[:-1],dates[1:]):\n",
    "    orders_url = shop_url+'/orders.json'\n",
    "    r = requests.get(orders_url,\n",
    "                 params={\n",
    "                        'limit':250,\n",
    "                        'status':'any',\n",
    "                         'created_at_max':date_max,\n",
    "                         'created_at_min':date_min\n",
    "                        })\n",
    "    orders = pd.DataFrame(r.json()['orders'])\n",
    "    l_orders.append(orders)\n",
    "df_orders = pd.concat(l_orders,axis=0).reset_index().drop_duplicates(subset=['id'])"
   ]
  },
  {
   "cell_type": "code",
   "execution_count": null,
   "metadata": {},
   "outputs": [],
   "source": [
    "df_orders['province_2'] = df_orders['billing_address'].apply(lambda x: x['province'])\n",
    "df_orders['order_id'] = df_orders['id'].apply(str)\n",
    "df_ventas['order_id'] = df_ventas['order_id'].apply(str)\n",
    "df_ventas = pd.merge(df_ventas,df_orders[['order_id','province_2']],on='order_id',how='left')\n",
    "\n",
    "df_ventas['province'] = df_ventas['province_2'] \n",
    "df_ventas = df_ventas.drop('province_2',axis=1)"
   ]
  },
  {
   "cell_type": "code",
   "execution_count": 388,
   "metadata": {},
   "outputs": [
    {
     "data": {
      "text/plain": [
       "'navidadCode'"
      ]
     },
     "execution_count": 388,
     "metadata": {},
     "output_type": "execute_result"
    }
   ],
   "source": [
    "cols = list(df_ventas.columns)\n",
    "cols.pop(cols.index('to'))\n",
    "cols.pop(cols.index('message'))\n",
    "cols.pop(cols.index('navidadCode'))"
   ]
  },
  {
   "cell_type": "code",
   "execution_count": 389,
   "metadata": {},
   "outputs": [],
   "source": [
    "df_ventas = df_ventas[cols]"
   ]
  },
  {
   "cell_type": "code",
   "execution_count": 390,
   "metadata": {},
   "outputs": [
    {
     "data": {
      "text/plain": [
       "(846, 54)"
      ]
     },
     "execution_count": 390,
     "metadata": {},
     "output_type": "execute_result"
    }
   ],
   "source": [
    "df_ventas.shape"
   ]
  },
  {
   "cell_type": "code",
   "execution_count": 391,
   "metadata": {},
   "outputs": [
    {
     "data": {
      "text/plain": [
       "Madrid        427\n",
       "Barcelona      45\n",
       "Valladolid     42\n",
       "Valencia       30\n",
       "Málaga         22\n",
       "Name: province, dtype: int64"
      ]
     },
     "execution_count": 391,
     "metadata": {},
     "output_type": "execute_result"
    }
   ],
   "source": [
    "df_ventas['province'].value_counts().head()"
   ]
  },
  {
   "cell_type": "markdown",
   "metadata": {},
   "source": [
    "## ACTUALIZAR FIREBAE"
   ]
  },
  {
   "cell_type": "code",
   "execution_count": 392,
   "metadata": {},
   "outputs": [],
   "source": [
    "#l_ship_det = ['ship_'+a for a in list(df_ord['shipping_address'][0].keys())]\n",
    "#df_ord['ship_zip']=df_ord['ship_zip'].fillna(value='')\n",
    "#def update_firebase(x):\n",
    "#    order_id = x['order_id']\n",
    "#    if order_id==None :\n",
    "#        return True\n",
    "#    else:\n",
    "#        order_id = int(order_id)\n",
    "#    ship_zip=df_ord[df_ord['id']==order_id]['ship_zip'].values[0]\n",
    "#    fire_id=x['id']\n",
    "#    #print(x['creation_date'])\n",
    "#    #a=db.collection(u'Nikarit_Sales').document(x['id']).update({'zip':ship_zip})\n",
    "##df_ventas[df_ventas['origin']!='Contoan'].apply(lambda x: update_firebase(x),axis=1)"
   ]
  },
  {
   "cell_type": "markdown",
   "metadata": {},
   "source": [
    "## CORREGIR SUBTOTAL Y IVA"
   ]
  },
  {
   "cell_type": "code",
   "execution_count": 393,
   "metadata": {},
   "outputs": [],
   "source": [
    "def iva(x):\n",
    "    iva = x['total_tax']\n",
    "    \n",
    "    #Corregir ventas de contoan\n",
    "    if x['origin'] == 'Contoan':\n",
    "        iva = x['total_price']*(1-1/1.21)\n",
    "    return iva\n",
    "\n",
    "df_ventas[\"total_tax_2\"] = df_ventas.apply(lambda x: iva(x),axis=1)\n",
    "df_ventas[\"total_tax\"] = df_ventas[\"total_tax_2\"]\n",
    "df_ventas = df_ventas.drop('total_tax_2',axis=1)"
   ]
  },
  {
   "cell_type": "code",
   "execution_count": 398,
   "metadata": {},
   "outputs": [],
   "source": [
    "def subtotal(x):\n",
    "    subtotal = x['subtotal_price']\n",
    "    \n",
    "    #Corregir ventas de contoan\n",
    "    if x['origin'] == 'Contoan':\n",
    "        subtotal = x['total_price']\n",
    "    return subtotal\n",
    "\n",
    "df_ventas[\"subtotal_price_2\"] = df_ventas.apply(lambda x: subtotal(x),axis=1)\n",
    "df_ventas[\"subtotal_price\"] = df_ventas[\"subtotal_price_2\"]\n",
    "df_ventas = df_ventas.drop('subtotal_price_2',axis=1)"
   ]
  },
  {
   "cell_type": "code",
   "execution_count": 402,
   "metadata": {},
   "outputs": [
    {
     "name": "stderr",
     "output_type": "stream",
     "text": [
      "1it [00:07,  7.25s/it]\n"
     ]
    }
   ],
   "source": [
    "#subir a bigquery\n",
    "table_id = \"contoan.sales\"\n",
    "\n",
    "pandas_gbq.to_gbq(df_ventas, table_id, project_id=client.project, if_exists='replace')"
   ]
  },
  {
   "cell_type": "markdown",
   "metadata": {},
   "source": [
    "## TRANSFORM BOOLEAN"
   ]
  },
  {
   "cell_type": "code",
   "execution_count": 263,
   "metadata": {},
   "outputs": [],
   "source": [
    "sql = \"\"\"\n",
    "CREATE OR REPLACE TABLE `oan-nikarit.contoan.sales` AS\n",
    "SELECT\n",
    "  * EXCEPT (buyer_accepts_marketing,taxes_included),\n",
    "  CAST(buyer_accepts_marketing AS BOOL) AS buyer_accepts_marketing,\n",
    "  CAST(taxes_included AS BOOL) AS taxes_included\n",
    "FROM\n",
    "  `oan-nikarit.contoan.sales`\n",
    "\"\"\""
   ]
  },
  {
   "cell_type": "code",
   "execution_count": 264,
   "metadata": {},
   "outputs": [
    {
     "data": {
      "text/plain": [
       "<google.cloud.bigquery.job.QueryJob at 0x7f9c1b50a280>"
      ]
     },
     "execution_count": 264,
     "metadata": {},
     "output_type": "execute_result"
    }
   ],
   "source": [
    "client.query(sql)"
   ]
  },
  {
   "cell_type": "code",
   "execution_count": null,
   "metadata": {},
   "outputs": [],
   "source": []
  },
  {
   "cell_type": "markdown",
   "metadata": {},
   "source": [
    "## Cuentas"
   ]
  },
  {
   "cell_type": "code",
   "execution_count": 7,
   "metadata": {},
   "outputs": [],
   "source": [
    "#get all the collection\n",
    "col_query = db.collection('Accounts').stream()"
   ]
  },
  {
   "cell_type": "code",
   "execution_count": 8,
   "metadata": {},
   "outputs": [],
   "source": [
    "#save it in a list of dictionaries\n",
    "cuentas = []\n",
    "for acc in col_query:\n",
    "    cuentas.append(acc.to_dict())"
   ]
  },
  {
   "cell_type": "code",
   "execution_count": 9,
   "metadata": {},
   "outputs": [],
   "source": [
    "#convert to dataframe\n",
    "df_accounts = pd.DataFrame(cuentas)"
   ]
  },
  {
   "cell_type": "code",
   "execution_count": 34,
   "metadata": {},
   "outputs": [],
   "source": [
    "df_cuentas = df_accounts[['id','name','number','type','user_id']].copy()"
   ]
  },
  {
   "cell_type": "code",
   "execution_count": 35,
   "metadata": {},
   "outputs": [],
   "source": [
    "with open('fr.json', 'r') as f:\n",
    "    trads = json.load(f)"
   ]
  },
  {
   "cell_type": "code",
   "execution_count": 36,
   "metadata": {},
   "outputs": [],
   "source": [
    "df_cuentas['name_fr'] = df_cuentas['name'].apply(lambda x: trads[x])"
   ]
  },
  {
   "cell_type": "code",
   "execution_count": 37,
   "metadata": {},
   "outputs": [
    {
     "data": {
      "text/html": [
       "<div>\n",
       "<style scoped>\n",
       "    .dataframe tbody tr th:only-of-type {\n",
       "        vertical-align: middle;\n",
       "    }\n",
       "\n",
       "    .dataframe tbody tr th {\n",
       "        vertical-align: top;\n",
       "    }\n",
       "\n",
       "    .dataframe thead th {\n",
       "        text-align: right;\n",
       "    }\n",
       "</style>\n",
       "<table border=\"1\" class=\"dataframe\">\n",
       "  <thead>\n",
       "    <tr style=\"text-align: right;\">\n",
       "      <th></th>\n",
       "      <th>id</th>\n",
       "      <th>name</th>\n",
       "      <th>number</th>\n",
       "      <th>type</th>\n",
       "      <th>user_id</th>\n",
       "      <th>name_fr</th>\n",
       "    </tr>\n",
       "  </thead>\n",
       "  <tbody>\n",
       "  </tbody>\n",
       "</table>\n",
       "</div>"
      ],
      "text/plain": [
       "Empty DataFrame\n",
       "Columns: [id, name, number, type, user_id, name_fr]\n",
       "Index: []"
      ]
     },
     "execution_count": 37,
     "metadata": {},
     "output_type": "execute_result"
    }
   ],
   "source": [
    "df_cuentas[df_cuentas['name_fr'].isnull()]"
   ]
  },
  {
   "cell_type": "code",
   "execution_count": 40,
   "metadata": {},
   "outputs": [
    {
     "name": "stderr",
     "output_type": "stream",
     "text": [
      "1it [00:05,  5.93s/it]\n"
     ]
    }
   ],
   "source": [
    "table_id = \"{}.accounts\".format(dataset.dataset_id)\n",
    "\n",
    "pandas_gbq.to_gbq(df_cuentas, table_id, project_id=client.project, if_exists='replace')"
   ]
  },
  {
   "cell_type": "markdown",
   "metadata": {},
   "source": [
    "### PROYECTOS"
   ]
  },
  {
   "cell_type": "code",
   "execution_count": 41,
   "metadata": {},
   "outputs": [],
   "source": [
    "#get all the collection\n",
    "col_query = db.collection('Projects').stream()"
   ]
  },
  {
   "cell_type": "code",
   "execution_count": 42,
   "metadata": {},
   "outputs": [],
   "source": [
    "#save it in a list of dictionaries\n",
    "projects = []\n",
    "for acc in col_query:\n",
    "    projects.append(acc.to_dict())"
   ]
  },
  {
   "cell_type": "code",
   "execution_count": 43,
   "metadata": {},
   "outputs": [],
   "source": [
    "#convert to dataframe\n",
    "df_projects = pd.DataFrame(projects)"
   ]
  },
  {
   "cell_type": "code",
   "execution_count": 44,
   "metadata": {},
   "outputs": [],
   "source": [
    "df_projectos=df_projects[['id','title','description','department','type','project_id','intervention_id']]"
   ]
  },
  {
   "cell_type": "code",
   "execution_count": 45,
   "metadata": {},
   "outputs": [],
   "source": [
    "df_projectos.columns = ['id', 'name', 'description', 'department', 'type', 'project_id',\n",
    "       'intervention_id']"
   ]
  },
  {
   "cell_type": "code",
   "execution_count": 46,
   "metadata": {},
   "outputs": [
    {
     "name": "stderr",
     "output_type": "stream",
     "text": [
      "1it [00:03,  3.59s/it]\n"
     ]
    }
   ],
   "source": [
    "table_id = \"{}.projects\".format(dataset.dataset_id)\n",
    "\n",
    "pandas_gbq.to_gbq(df_projectos, table_id, project_id=client.project, if_exists='replace')"
   ]
  },
  {
   "cell_type": "markdown",
   "metadata": {},
   "source": [
    "### USUARIOS"
   ]
  },
  {
   "cell_type": "code",
   "execution_count": 50,
   "metadata": {},
   "outputs": [],
   "source": [
    "#get all the collection\n",
    "col_query = db.collection('Users').stream()"
   ]
  },
  {
   "cell_type": "code",
   "execution_count": 51,
   "metadata": {},
   "outputs": [],
   "source": [
    "#save it in a list of dictionaries\n",
    "usuarios = []\n",
    "for acc in col_query:\n",
    "    usuarios.append(acc.to_dict())"
   ]
  },
  {
   "cell_type": "code",
   "execution_count": 52,
   "metadata": {},
   "outputs": [],
   "source": [
    "#convert to dataframe\n",
    "df_usuarios = pd.DataFrame(usuarios)"
   ]
  },
  {
   "cell_type": "code",
   "execution_count": 53,
   "metadata": {},
   "outputs": [],
   "source": [
    "df_users = df_usuarios[['id','name','last_name','email']]"
   ]
  },
  {
   "cell_type": "code",
   "execution_count": 54,
   "metadata": {},
   "outputs": [],
   "source": [
    "df_users_final = pd.merge(df_users,df_cuentas[['number','user_id']],left_on='id',right_on='user_id',how='left')"
   ]
  },
  {
   "cell_type": "code",
   "execution_count": 55,
   "metadata": {},
   "outputs": [],
   "source": [
    "df_users = df_users_final[['id','name','last_name','email','number']]"
   ]
  },
  {
   "cell_type": "code",
   "execution_count": 56,
   "metadata": {},
   "outputs": [],
   "source": [
    "df_users.columns = ['id','name','last_name','email','cuenta']"
   ]
  },
  {
   "cell_type": "code",
   "execution_count": 58,
   "metadata": {},
   "outputs": [
    {
     "name": "stderr",
     "output_type": "stream",
     "text": [
      "1it [00:06,  6.33s/it]\n"
     ]
    }
   ],
   "source": [
    "table_id = \"{}.users\".format(dataset.dataset_id)\n",
    "\n",
    "pandas_gbq.to_gbq(df_users, table_id, project_id=client.project, if_exists='replace')"
   ]
  },
  {
   "cell_type": "markdown",
   "metadata": {},
   "source": [
    "##### september 2020 backup"
   ]
  },
  {
   "cell_type": "code",
   "execution_count": 67,
   "metadata": {},
   "outputs": [
    {
     "name": "stderr",
     "output_type": "stream",
     "text": [
      "1it [00:04,  4.48s/it]\n"
     ]
    }
   ],
   "source": [
    "table_id = \"{}.accounting_202009\".format(dataset.dataset_id)\n",
    "\n",
    "pandas_gbq.to_gbq(df, table_id, project_id=client.project, if_exists='replace')"
   ]
  },
  {
   "cell_type": "markdown",
   "metadata": {},
   "source": [
    "##### Jan 2021 backup"
   ]
  },
  {
   "cell_type": "code",
   "execution_count": 351,
   "metadata": {},
   "outputs": [],
   "source": [
    "sql = \"\"\"\n",
    "CREATE TABLE AS `oan-nikarit.contoan.accounting_20210110`\n",
    "AS\n",
    "SELECT *\n",
    "FROM `oan-nikarit.contoan.accounting`\n",
    "\"\"\""
   ]
  },
  {
   "cell_type": "code",
   "execution_count": 352,
   "metadata": {},
   "outputs": [
    {
     "data": {
      "text/plain": [
       "<google.cloud.bigquery.job.QueryJob at 0x7f9c18b958b0>"
      ]
     },
     "execution_count": 352,
     "metadata": {},
     "output_type": "execute_result"
    }
   ],
   "source": [
    "client.query(sql)"
   ]
  },
  {
   "cell_type": "code",
   "execution_count": null,
   "metadata": {},
   "outputs": [],
   "source": []
  }
 ],
 "metadata": {
  "kernelspec": {
   "display_name": "Python 3",
   "language": "python",
   "name": "python3"
  },
  "language_info": {
   "codemirror_mode": {
    "name": "ipython",
    "version": 3
   },
   "file_extension": ".py",
   "mimetype": "text/x-python",
   "name": "python",
   "nbconvert_exporter": "python",
   "pygments_lexer": "ipython3",
   "version": "3.8.3"
  }
 },
 "nbformat": 4,
 "nbformat_minor": 2
}

{
 "cells": [
  {
   "cell_type": "code",
   "execution_count": 1,
   "metadata": {},
   "outputs": [],
   "source": [
    "#to open cred files\n",
    "import os\n",
    "import yaml\n",
    "#cleaning and operations\n",
    "import pandas as pd\n",
    "import numpy as np\n",
    "#to read translations\n",
    "import json\n",
    "import unidecode"
   ]
  },
  {
   "cell_type": "code",
   "execution_count": 2,
   "metadata": {},
   "outputs": [],
   "source": [
    "#bigquery\n",
    "import pandas_gbq\n",
    "from google.cloud import bigquery"
   ]
  },
  {
   "cell_type": "code",
   "execution_count": 3,
   "metadata": {},
   "outputs": [],
   "source": [
    "## got to service accounts in google cloud in project OAN-Nikarit and download json file\n",
    "os.environ['GOOGLE_APPLICATION_CREDENTIALS']='/Users/daniel/OAN/credentials/bigquery_oan_nikarit.json'"
   ]
  },
  {
   "cell_type": "code",
   "execution_count": 4,
   "metadata": {},
   "outputs": [],
   "source": [
    "#FIREBASE\n",
    "import firebase_admin\n",
    "#Firbease (pip install firebase_admin)\n",
    "from firebase_admin import credentials\n",
    "from firebase_admin import firestore"
   ]
  },
  {
   "cell_type": "code",
   "execution_count": 5,
   "metadata": {},
   "outputs": [],
   "source": [
    "filename='/Users/daniel/OAN/credentials/firebase_oan-nikarit.json'"
   ]
  },
  {
   "cell_type": "code",
   "execution_count": 6,
   "metadata": {},
   "outputs": [],
   "source": [
    "#OPEN CONECTION TO FIREBASE\n",
    "cred = credentials.Certificate(filename)\n",
    "firebase_admin.initialize_app(cred)\n",
    "\n",
    "db = firestore.client()"
   ]
  },
  {
   "cell_type": "markdown",
   "metadata": {},
   "source": [
    "## Accounting table"
   ]
  },
  {
   "cell_type": "markdown",
   "metadata": {},
   "source": [
    "### GET DATA"
   ]
  },
  {
   "cell_type": "code",
   "execution_count": 50,
   "metadata": {},
   "outputs": [],
   "source": [
    "#get all the collection\n",
    "col_query = db.collection('Accounting').stream()"
   ]
  },
  {
   "cell_type": "code",
   "execution_count": 51,
   "metadata": {},
   "outputs": [],
   "source": [
    "#save it in a list of dictionaries\n",
    "accounts = []\n",
    "for acc in col_query:\n",
    "    accounts.append(acc.to_dict())"
   ]
  },
  {
   "cell_type": "code",
   "execution_count": 52,
   "metadata": {},
   "outputs": [],
   "source": [
    "#convert to dataframe\n",
    "accounting = pd.DataFrame(accounts)"
   ]
  },
  {
   "cell_type": "code",
   "execution_count": 53,
   "metadata": {},
   "outputs": [],
   "source": [
    "accounting['amount']=pd.to_numeric(accounting['amount'])"
   ]
  },
  {
   "cell_type": "code",
   "execution_count": 54,
   "metadata": {},
   "outputs": [
    {
     "name": "stdout",
     "output_type": "stream",
     "text": [
      "<class 'pandas.core.frame.DataFrame'>\n",
      "RangeIndex: 1697 entries, 0 to 1696\n",
      "Data columns (total 20 columns):\n",
      " #   Column          Non-Null Count  Dtype  \n",
      "---  ------          --------------  -----  \n",
      " 0   vat             1480 non-null   float64\n",
      " 1   type            1697 non-null   object \n",
      " 2   intervention    1697 non-null   object \n",
      " 3   project         1697 non-null   object \n",
      " 4   account_id      1697 non-null   object \n",
      " 5   origin          1697 non-null   object \n",
      " 6   user_in_charge  1697 non-null   object \n",
      " 7   concept         1697 non-null   object \n",
      " 8   amount          1697 non-null   float64\n",
      " 9   target_id       1697 non-null   object \n",
      " 10  execution_date  1697 non-null   object \n",
      " 11  creation_date   1697 non-null   object \n",
      " 12  phase           536 non-null    object \n",
      " 13  vat_amount      1634 non-null   float64\n",
      " 14  place           1697 non-null   object \n",
      " 15  id              1697 non-null   object \n",
      " 16  description     1655 non-null   object \n",
      " 17  images          1694 non-null   object \n",
      " 18  creator_user    1697 non-null   object \n",
      " 19  code            1697 non-null   int64  \n",
      "dtypes: float64(3), int64(1), object(16)\n",
      "memory usage: 265.3+ KB\n"
     ]
    }
   ],
   "source": [
    "#nulls. size and datatype\n",
    "accounting.info()"
   ]
  },
  {
   "cell_type": "code",
   "execution_count": 55,
   "metadata": {},
   "outputs": [],
   "source": [
    "#nulls heatmap - import seaborn as sns\n",
    "#sns.heatmap(accounting.isna())"
   ]
  },
  {
   "cell_type": "markdown",
   "metadata": {},
   "source": [
    "### CLEAN DATA"
   ]
  },
  {
   "cell_type": "code",
   "execution_count": 56,
   "metadata": {},
   "outputs": [
    {
     "data": {
      "text/html": [
       "<div>\n",
       "<style scoped>\n",
       "    .dataframe tbody tr th:only-of-type {\n",
       "        vertical-align: middle;\n",
       "    }\n",
       "\n",
       "    .dataframe tbody tr th {\n",
       "        vertical-align: top;\n",
       "    }\n",
       "\n",
       "    .dataframe thead th {\n",
       "        text-align: right;\n",
       "    }\n",
       "</style>\n",
       "<table border=\"1\" class=\"dataframe\">\n",
       "  <thead>\n",
       "    <tr style=\"text-align: right;\">\n",
       "      <th></th>\n",
       "      <th>vat</th>\n",
       "      <th>type</th>\n",
       "      <th>intervention</th>\n",
       "      <th>project</th>\n",
       "      <th>account_id</th>\n",
       "      <th>origin</th>\n",
       "      <th>user_in_charge</th>\n",
       "      <th>concept</th>\n",
       "      <th>amount</th>\n",
       "      <th>target_id</th>\n",
       "      <th>execution_date</th>\n",
       "      <th>creation_date</th>\n",
       "      <th>phase</th>\n",
       "      <th>vat_amount</th>\n",
       "      <th>place</th>\n",
       "      <th>id</th>\n",
       "      <th>description</th>\n",
       "      <th>images</th>\n",
       "      <th>creator_user</th>\n",
       "      <th>code</th>\n",
       "    </tr>\n",
       "  </thead>\n",
       "  <tbody>\n",
       "    <tr>\n",
       "      <th>0</th>\n",
       "      <td>21.0</td>\n",
       "      <td>income</td>\n",
       "      <td>w04441aFcU5b7pQm6Rd2</td>\n",
       "      <td>0DmODGTOEiM5lg9SGx0J</td>\n",
       "      <td>3deqBmrZ1iJkAwMmxSOp</td>\n",
       "      <td>script_dani</td>\n",
       "      <td>IjBxXuBshlfq2MUzwBSK</td>\n",
       "      <td>venta shopify</td>\n",
       "      <td>21.00</td>\n",
       "      <td>yfy4cPxkmFwIYVnoWD0A</td>\n",
       "      <td>2020-04-28T12:07:49.000Z</td>\n",
       "      <td>2020-08-26T18:02:55.591Z</td>\n",
       "      <td>None</td>\n",
       "      <td>3.644628</td>\n",
       "      <td>spain</td>\n",
       "      <td>01WVDHF0gSSg1PCFsosk</td>\n",
       "      <td>venta online: 2288996286563</td>\n",
       "      <td>[]</td>\n",
       "      <td>z5m936GA0t3vHM28QKhR</td>\n",
       "      <td>899</td>\n",
       "    </tr>\n",
       "    <tr>\n",
       "      <th>1</th>\n",
       "      <td>21.0</td>\n",
       "      <td>income</td>\n",
       "      <td>w04441aFcU5b7pQm6Rd2</td>\n",
       "      <td>0DmODGTOEiM5lg9SGx0J</td>\n",
       "      <td>3deqBmrZ1iJkAwMmxSOp</td>\n",
       "      <td>script_dani</td>\n",
       "      <td>IjBxXuBshlfq2MUzwBSK</td>\n",
       "      <td>venta shopify</td>\n",
       "      <td>38.00</td>\n",
       "      <td>iA9Pzv2CImjItzwCaQv0</td>\n",
       "      <td>2020-04-28T19:50:24.000Z</td>\n",
       "      <td>2020-08-26T18:02:55.591Z</td>\n",
       "      <td>None</td>\n",
       "      <td>6.595041</td>\n",
       "      <td>spain</td>\n",
       "      <td>026RXV3hyl33ussoU7D9</td>\n",
       "      <td>venta online: 2290422218851</td>\n",
       "      <td>[]</td>\n",
       "      <td>z5m936GA0t3vHM28QKhR</td>\n",
       "      <td>1049</td>\n",
       "    </tr>\n",
       "    <tr>\n",
       "      <th>2</th>\n",
       "      <td>0.0</td>\n",
       "      <td>expense</td>\n",
       "      <td>SEDR5KRqPQVF6qovZiVq</td>\n",
       "      <td>RaIH6dfSXt4V7vm6jmVE</td>\n",
       "      <td>zMHMNTkAt43M0MmmRxJP</td>\n",
       "      <td>contoan</td>\n",
       "      <td>uCF6bT532woZwE9vQOuv</td>\n",
       "      <td>Piezas bomba Vergnet</td>\n",
       "      <td>132.65</td>\n",
       "      <td>vJbbj1kPxkcdXJyBOf1l</td>\n",
       "      <td>2020-08-21T11:18:01.503Z</td>\n",
       "      <td>2020-08-21T11:18:01.503Z</td>\n",
       "      <td>Dck0Vf7yfdGlBct3qoLY</td>\n",
       "      <td>0.000000</td>\n",
       "      <td>spain</td>\n",
       "      <td>02LozVMZvW51bygJ5e3O</td>\n",
       "      <td>Parte pagada por OAN International de piezas d...</td>\n",
       "      <td>[]</td>\n",
       "      <td>uCF6bT532woZwE9vQOuv</td>\n",
       "      <td>417</td>\n",
       "    </tr>\n",
       "    <tr>\n",
       "      <th>3</th>\n",
       "      <td>0.0</td>\n",
       "      <td>expense</td>\n",
       "      <td>I76Ijc7H9N2k2R6rD2A6</td>\n",
       "      <td>opunMdqGyXDlfQ9DYIbN</td>\n",
       "      <td>NBrV00EhZDEdek9AMn0I</td>\n",
       "      <td>g_forms</td>\n",
       "      <td>aa9EdPDy2MPW1XkqhFUn</td>\n",
       "      <td>Forfait appelle et internet</td>\n",
       "      <td>7.62</td>\n",
       "      <td>nDhZYStFpM8fcUyqfswT</td>\n",
       "      <td>2019-12-10T00:00:00.0Z</td>\n",
       "      <td>2020-01-13T13:03:22.0Z</td>\n",
       "      <td>N6vKBVjEDW8XYOVrFemj</td>\n",
       "      <td>0.000000</td>\n",
       "      <td>benin</td>\n",
       "      <td>03mQM7enVuGkVqFou77J</td>\n",
       "      <td>Forfait communication décembre</td>\n",
       "      <td>[{'title': '20191210_Forfait appelle et intern...</td>\n",
       "      <td>zkGzYwDye123JxUktjSd</td>\n",
       "      <td>57</td>\n",
       "    </tr>\n",
       "    <tr>\n",
       "      <th>4</th>\n",
       "      <td>0.0</td>\n",
       "      <td>expense</td>\n",
       "      <td>lr1JTln4iPZheT4jtqq1</td>\n",
       "      <td>0DmODGTOEiM5lg9SGx0J</td>\n",
       "      <td>LaGxECvtRmDm9cjDr0nL</td>\n",
       "      <td>g_forms</td>\n",
       "      <td>exFnSrTD3fykjKbfaAvt</td>\n",
       "      <td>Achat de materiaux</td>\n",
       "      <td>27.40</td>\n",
       "      <td>nK5pyBaYL4y2sNk1RaxK</td>\n",
       "      <td>2020-04-17T00:00:00.0Z</td>\n",
       "      <td>2020-05-04T08:43:15.0Z</td>\n",
       "      <td>llgPMnqS4P3HGEkMiClU</td>\n",
       "      <td>0.000000</td>\n",
       "      <td>benin</td>\n",
       "      <td>06UGwVcSgVOTOifpuL22</td>\n",
       "      <td>Achat de pneu</td>\n",
       "      <td>[{'file': {}, 'download_url': 'https://firebas...</td>\n",
       "      <td>0TCh5qYzrJVtwD4Sus7p</td>\n",
       "      <td>177</td>\n",
       "    </tr>\n",
       "  </tbody>\n",
       "</table>\n",
       "</div>"
      ],
      "text/plain": [
       "    vat     type          intervention               project  \\\n",
       "0  21.0   income  w04441aFcU5b7pQm6Rd2  0DmODGTOEiM5lg9SGx0J   \n",
       "1  21.0   income  w04441aFcU5b7pQm6Rd2  0DmODGTOEiM5lg9SGx0J   \n",
       "2   0.0  expense  SEDR5KRqPQVF6qovZiVq  RaIH6dfSXt4V7vm6jmVE   \n",
       "3   0.0  expense  I76Ijc7H9N2k2R6rD2A6  opunMdqGyXDlfQ9DYIbN   \n",
       "4   0.0  expense  lr1JTln4iPZheT4jtqq1  0DmODGTOEiM5lg9SGx0J   \n",
       "\n",
       "             account_id       origin        user_in_charge  \\\n",
       "0  3deqBmrZ1iJkAwMmxSOp  script_dani  IjBxXuBshlfq2MUzwBSK   \n",
       "1  3deqBmrZ1iJkAwMmxSOp  script_dani  IjBxXuBshlfq2MUzwBSK   \n",
       "2  zMHMNTkAt43M0MmmRxJP      contoan  uCF6bT532woZwE9vQOuv   \n",
       "3  NBrV00EhZDEdek9AMn0I      g_forms  aa9EdPDy2MPW1XkqhFUn   \n",
       "4  LaGxECvtRmDm9cjDr0nL      g_forms  exFnSrTD3fykjKbfaAvt   \n",
       "\n",
       "                       concept  amount             target_id  \\\n",
       "0                venta shopify   21.00  yfy4cPxkmFwIYVnoWD0A   \n",
       "1                venta shopify   38.00  iA9Pzv2CImjItzwCaQv0   \n",
       "2         Piezas bomba Vergnet  132.65  vJbbj1kPxkcdXJyBOf1l   \n",
       "3  Forfait appelle et internet    7.62  nDhZYStFpM8fcUyqfswT   \n",
       "4           Achat de materiaux   27.40  nK5pyBaYL4y2sNk1RaxK   \n",
       "\n",
       "             execution_date             creation_date                 phase  \\\n",
       "0  2020-04-28T12:07:49.000Z  2020-08-26T18:02:55.591Z                  None   \n",
       "1  2020-04-28T19:50:24.000Z  2020-08-26T18:02:55.591Z                  None   \n",
       "2  2020-08-21T11:18:01.503Z  2020-08-21T11:18:01.503Z  Dck0Vf7yfdGlBct3qoLY   \n",
       "3    2019-12-10T00:00:00.0Z    2020-01-13T13:03:22.0Z  N6vKBVjEDW8XYOVrFemj   \n",
       "4    2020-04-17T00:00:00.0Z    2020-05-04T08:43:15.0Z  llgPMnqS4P3HGEkMiClU   \n",
       "\n",
       "   vat_amount  place                    id  \\\n",
       "0    3.644628  spain  01WVDHF0gSSg1PCFsosk   \n",
       "1    6.595041  spain  026RXV3hyl33ussoU7D9   \n",
       "2    0.000000  spain  02LozVMZvW51bygJ5e3O   \n",
       "3    0.000000  benin  03mQM7enVuGkVqFou77J   \n",
       "4    0.000000  benin  06UGwVcSgVOTOifpuL22   \n",
       "\n",
       "                                         description  \\\n",
       "0                        venta online: 2288996286563   \n",
       "1                        venta online: 2290422218851   \n",
       "2  Parte pagada por OAN International de piezas d...   \n",
       "3                     Forfait communication décembre   \n",
       "4                                      Achat de pneu   \n",
       "\n",
       "                                              images          creator_user  \\\n",
       "0                                                 []  z5m936GA0t3vHM28QKhR   \n",
       "1                                                 []  z5m936GA0t3vHM28QKhR   \n",
       "2                                                 []  uCF6bT532woZwE9vQOuv   \n",
       "3  [{'title': '20191210_Forfait appelle et intern...  zkGzYwDye123JxUktjSd   \n",
       "4  [{'file': {}, 'download_url': 'https://firebas...  0TCh5qYzrJVtwD4Sus7p   \n",
       "\n",
       "   code  \n",
       "0   899  \n",
       "1  1049  \n",
       "2   417  \n",
       "3    57  \n",
       "4   177  "
      ]
     },
     "execution_count": 56,
     "metadata": {},
     "output_type": "execute_result"
    }
   ],
   "source": [
    "#lets see how it shows\n",
    "accounting.head()"
   ]
  },
  {
   "cell_type": "markdown",
   "metadata": {},
   "source": [
    "#### convert execution to isostring"
   ]
  },
  {
   "cell_type": "code",
   "execution_count": 57,
   "metadata": {},
   "outputs": [],
   "source": [
    "def clean_execution(x):\n",
    "    if(len(x['execution_date'])<15):\n",
    "        doc_id = x['id']\n",
    "        exec_date=x['execution_date']+'T14:14:58.593Z'\n",
    "        print(exec_date)\n",
    "        print(len(x['execution_date']))\n",
    "        #upload to firebase if whished\n",
    "        #a=db.collection(u'Accounting').document(doc_id).update({'execution_date':exec_date})\n",
    "        \n",
    "        return exec_date\n",
    "    else:\n",
    "        return x['execution_date']\n",
    "        "
   ]
  },
  {
   "cell_type": "code",
   "execution_count": 58,
   "metadata": {},
   "outputs": [
    {
     "name": "stdout",
     "output_type": "stream",
     "text": [
      "2020-09-30T14:14:58.593Z\n",
      "10\n",
      "2020-09-01T14:14:58.593Z\n",
      "10\n",
      "2020-10-15T14:14:58.593Z\n",
      "10\n",
      "2020-10-31T14:14:58.593Z\n",
      "10\n"
     ]
    }
   ],
   "source": [
    "accounting['execution_date']=accounting.apply(lambda x: clean_execution(x) ,axis=1)"
   ]
  },
  {
   "cell_type": "markdown",
   "metadata": {},
   "source": [
    "##### clean VAT and replace nan with 0"
   ]
  },
  {
   "cell_type": "code",
   "execution_count": 59,
   "metadata": {},
   "outputs": [],
   "source": [
    "def clean_vat_amount(x):\n",
    "    doc_id = x['id']\n",
    "    amount=x['amount']\n",
    "    origin = x['origin']\n",
    "    if origin =='script_dani':\n",
    "        if x['vat']>0:\n",
    "            vat=21\n",
    "        else:\n",
    "            vat=0\n",
    "        #a=db.collection(u'Accounting').document(doc_id).update({'vat':vat})\n",
    "    else:\n",
    "        vat=x['vat']\n",
    "        if not(vat >=0):\n",
    "            vat=0\n",
    "    vat_amount=amount*(1-1/(1+vat/100))\n",
    "\n",
    "    #a=db.collection(u'Accounting').document(doc_id).update({'vat_amount':vat_amount})\n",
    "\n",
    "    return pd.Series({'vat':vat,'vat_amount':vat_amount})"
   ]
  },
  {
   "cell_type": "code",
   "execution_count": 60,
   "metadata": {},
   "outputs": [],
   "source": [
    "accounting[['vat','vat_amount']] = accounting.apply(lambda x: clean_vat_amount(x),axis=1)"
   ]
  },
  {
   "cell_type": "markdown",
   "metadata": {},
   "source": [
    "###### convert dates to datetime"
   ]
  },
  {
   "cell_type": "code",
   "execution_count": 61,
   "metadata": {},
   "outputs": [],
   "source": [
    "#utc=True important if dates are in diferent formats\n",
    "accounting['creation_date'] = pd.to_datetime(accounting['creation_date'],utc=True)\n",
    "accounting['execution_date'] = pd.to_datetime(accounting['execution_date'],utc=True)"
   ]
  },
  {
   "cell_type": "code",
   "execution_count": 62,
   "metadata": {},
   "outputs": [],
   "source": [
    "def getimages(x):\n",
    "    if not (x):\n",
    "        return ''\n",
    "    elif(len(x)==0):\n",
    "        return ''\n",
    "    elif('download_url' in x[0].keys()):\n",
    "        download_url = x[0]['download_url']\n",
    "        if(download_url == None):\n",
    "            return ''\n",
    "        else:\n",
    "            return download_url\n",
    "    else:\n",
    "        return ''"
   ]
  },
  {
   "cell_type": "code",
   "execution_count": 63,
   "metadata": {},
   "outputs": [],
   "source": [
    "accounting['receipt']=accounting.images.apply(lambda x: getimages(x))"
   ]
  },
  {
   "cell_type": "markdown",
   "metadata": {},
   "source": [
    "##### double check"
   ]
  },
  {
   "cell_type": "code",
   "execution_count": 64,
   "metadata": {},
   "outputs": [
    {
     "name": "stdout",
     "output_type": "stream",
     "text": [
      "<class 'pandas.core.frame.DataFrame'>\n",
      "RangeIndex: 1697 entries, 0 to 1696\n",
      "Data columns (total 21 columns):\n",
      " #   Column          Non-Null Count  Dtype              \n",
      "---  ------          --------------  -----              \n",
      " 0   vat             1697 non-null   float64            \n",
      " 1   type            1697 non-null   object             \n",
      " 2   intervention    1697 non-null   object             \n",
      " 3   project         1697 non-null   object             \n",
      " 4   account_id      1697 non-null   object             \n",
      " 5   origin          1697 non-null   object             \n",
      " 6   user_in_charge  1697 non-null   object             \n",
      " 7   concept         1697 non-null   object             \n",
      " 8   amount          1697 non-null   float64            \n",
      " 9   target_id       1697 non-null   object             \n",
      " 10  execution_date  1697 non-null   datetime64[ns, UTC]\n",
      " 11  creation_date   1697 non-null   datetime64[ns, UTC]\n",
      " 12  phase           536 non-null    object             \n",
      " 13  vat_amount      1697 non-null   float64            \n",
      " 14  place           1697 non-null   object             \n",
      " 15  id              1697 non-null   object             \n",
      " 16  description     1655 non-null   object             \n",
      " 17  images          1694 non-null   object             \n",
      " 18  creator_user    1697 non-null   object             \n",
      " 19  code            1697 non-null   int64              \n",
      " 20  receipt         1697 non-null   object             \n",
      "dtypes: datetime64[ns, UTC](2), float64(3), int64(1), object(15)\n",
      "memory usage: 278.5+ KB\n"
     ]
    }
   ],
   "source": [
    "accounting.info()"
   ]
  },
  {
   "cell_type": "markdown",
   "metadata": {},
   "source": [
    "### select columns"
   ]
  },
  {
   "cell_type": "code",
   "execution_count": 65,
   "metadata": {},
   "outputs": [],
   "source": [
    "#and the order whe want to upload to bigquery\n",
    "df = accounting[['concept', 'place', 'creation_date', 'vat', 'description', 'amount',\n",
    "       'id', 'phase', 'creator_user', 'execution_date',\n",
    "       'user_in_charge', 'origin', 'account_id', 'project', 'code', 'type',\n",
    "       'intervention', 'target_id', 'vat_amount', 'receipt']]"
   ]
  },
  {
   "cell_type": "markdown",
   "metadata": {},
   "source": [
    "## upload to BIGQUERY"
   ]
  },
  {
   "cell_type": "code",
   "execution_count": 66,
   "metadata": {},
   "outputs": [],
   "source": [
    "client = bigquery.Client()"
   ]
  },
  {
   "cell_type": "code",
   "execution_count": 67,
   "metadata": {},
   "outputs": [],
   "source": [
    "dataset_id = \"{}.contoan\".format(client.project)"
   ]
  },
  {
   "cell_type": "code",
   "execution_count": 68,
   "metadata": {},
   "outputs": [],
   "source": [
    "dataset = bigquery.Dataset(dataset_id)"
   ]
  },
  {
   "cell_type": "code",
   "execution_count": 69,
   "metadata": {
    "scrolled": true
   },
   "outputs": [
    {
     "name": "stderr",
     "output_type": "stream",
     "text": [
      "1it [00:07,  7.82s/it]\n"
     ]
    }
   ],
   "source": [
    "table_id = \"{}.accounting\".format(dataset.dataset_id)\n",
    "\n",
    "pandas_gbq.to_gbq(df, table_id, project_id=client.project, if_exists='replace')"
   ]
  },
  {
   "cell_type": "markdown",
   "metadata": {},
   "source": [
    "### SUBIR VENTAS"
   ]
  },
  {
   "cell_type": "markdown",
   "metadata": {},
   "source": [
    "#### get data"
   ]
  },
  {
   "cell_type": "code",
   "execution_count": 7,
   "metadata": {},
   "outputs": [],
   "source": [
    "col_query = db.collection('Nikarit_Sales').stream()"
   ]
  },
  {
   "cell_type": "code",
   "execution_count": 8,
   "metadata": {},
   "outputs": [],
   "source": [
    "ventas = []\n",
    "for acc in col_query:\n",
    "    ventas.append(acc.to_dict())"
   ]
  },
  {
   "cell_type": "code",
   "execution_count": 9,
   "metadata": {},
   "outputs": [],
   "source": [
    "df_ventas = pd.DataFrame(ventas)"
   ]
  },
  {
   "cell_type": "markdown",
   "metadata": {},
   "source": [
    "### view"
   ]
  },
  {
   "cell_type": "code",
   "execution_count": 11,
   "metadata": {},
   "outputs": [
    {
     "name": "stdout",
     "output_type": "stream",
     "text": [
      "<class 'pandas.core.frame.DataFrame'>\n",
      "RangeIndex: 680 entries, 0 to 679\n",
      "Data columns (total 56 columns):\n",
      " #   Column                   Non-Null Count  Dtype  \n",
      "---  ------                   --------------  -----  \n",
      " 0   packHidra_total_price    680 non-null    int64  \n",
      " 1   client_last_name         676 non-null    object \n",
      " 2   creation_date            680 non-null    object \n",
      " 3   client_gender            680 non-null    object \n",
      " 4   total_tax                680 non-null    float64\n",
      " 5   packHidra_unit_price     680 non-null    object \n",
      " 6   balsamo_total_price      680 non-null    int64  \n",
      " 7   crema_total_price        680 non-null    int64  \n",
      " 8   subtotal_price           680 non-null    object \n",
      " 9   product_movement         56 non-null     object \n",
      " 10  client_email             654 non-null    object \n",
      " 11  packContigo_total_price  680 non-null    int64  \n",
      " 12  taxes_included           680 non-null    bool   \n",
      " 13  origin                   680 non-null    object \n",
      " 14  manteca_nb               680 non-null    int64  \n",
      " 15  zip                      668 non-null    object \n",
      " 16  country                  600 non-null    object \n",
      " 17  packContigo_unit_price   680 non-null    object \n",
      " 18  crema_unit_price         680 non-null    object \n",
      " 19  id                       680 non-null    object \n",
      " 20  manteca_unit_price       680 non-null    object \n",
      " 21  total_price              680 non-null    float64\n",
      " 22  latitude                 611 non-null    float64\n",
      " 23  packContigo_nb           680 non-null    int64  \n",
      " 24  crema_nb                 680 non-null    int64  \n",
      " 25  gateway                  680 non-null    object \n",
      " 26  accounting_item          61 non-null     object \n",
      " 27  packHidra_nb             680 non-null    int64  \n",
      " 28  balsamo_unit_price       680 non-null    object \n",
      " 29  buyer_accepts_marketing  118 non-null    object \n",
      " 30  order_status_url         668 non-null    object \n",
      " 31  manteca_total_price      680 non-null    int64  \n",
      " 32  balsamo_nb               680 non-null    int64  \n",
      " 33  province                 537 non-null    object \n",
      " 34  longitude                611 non-null    float64\n",
      " 35  client_name              673 non-null    object \n",
      " 36  order_id                 668 non-null    object \n",
      " 37  close_date               551 non-null    object \n",
      " 38  packBandana_unit_price   56 non-null     object \n",
      " 39  packBandana_total_price  56 non-null     float64\n",
      " 40  packAbanico_unit_price   56 non-null     object \n",
      " 41  bolsa_nb                 65 non-null     float64\n",
      " 42  client_phone             56 non-null     object \n",
      " 43  packAbanico_nb           56 non-null     float64\n",
      " 44  client_adresse           56 non-null     object \n",
      " 45  packAbanico_total_price  56 non-null     float64\n",
      " 46  city                     56 non-null     object \n",
      " 47  bolsa_total_price        65 non-null     float64\n",
      " 48  packBandana_nb           56 non-null     float64\n",
      " 49  bolsa_unit_price         65 non-null     object \n",
      " 50  packNavidad_nb           16 non-null     float64\n",
      " 51  navidadCode              19 non-null     float64\n",
      " 52  packNavidad_total_price  16 non-null     float64\n",
      " 53  packNavidad_unit_price   16 non-null     object \n",
      " 54  to                       3 non-null      object \n",
      " 55  message                  3 non-null      object \n",
      "dtypes: bool(1), float64(13), int64(10), object(32)\n",
      "memory usage: 293.0+ KB\n"
     ]
    }
   ],
   "source": [
    "df_ventas.info()"
   ]
  },
  {
   "cell_type": "markdown",
   "metadata": {},
   "source": [
    "#### transform data"
   ]
  },
  {
   "cell_type": "code",
   "execution_count": 12,
   "metadata": {},
   "outputs": [],
   "source": [
    "cambios = ['subtotal_price','balsamo_unit_price','packContigo_unit_price','crema_unit_price','packHidra_unit_price',\n",
    "          'manteca_unit_price']\n",
    "for cambio in cambios:\n",
    "    df_ventas[cambio]=pd.to_numeric(df_ventas[cambio])"
   ]
  },
  {
   "cell_type": "code",
   "execution_count": 13,
   "metadata": {},
   "outputs": [],
   "source": [
    "df_ventas['creation_date']=pd.to_datetime(df_ventas['creation_date'],utc=True)\n",
    "df_ventas['close_date']=pd.to_datetime(df_ventas['close_date'],utc=True)"
   ]
  },
  {
   "cell_type": "code",
   "execution_count": 14,
   "metadata": {},
   "outputs": [
    {
     "name": "stdout",
     "output_type": "stream",
     "text": [
      "<class 'pandas.core.frame.DataFrame'>\n",
      "RangeIndex: 680 entries, 0 to 679\n",
      "Data columns (total 56 columns):\n",
      " #   Column                   Non-Null Count  Dtype              \n",
      "---  ------                   --------------  -----              \n",
      " 0   packHidra_total_price    680 non-null    int64              \n",
      " 1   client_last_name         676 non-null    object             \n",
      " 2   creation_date            680 non-null    datetime64[ns, UTC]\n",
      " 3   client_gender            680 non-null    object             \n",
      " 4   total_tax                680 non-null    float64            \n",
      " 5   packHidra_unit_price     680 non-null    float64            \n",
      " 6   balsamo_total_price      680 non-null    int64              \n",
      " 7   crema_total_price        680 non-null    int64              \n",
      " 8   subtotal_price           680 non-null    float64            \n",
      " 9   product_movement         56 non-null     object             \n",
      " 10  client_email             654 non-null    object             \n",
      " 11  packContigo_total_price  680 non-null    int64              \n",
      " 12  taxes_included           680 non-null    bool               \n",
      " 13  origin                   680 non-null    object             \n",
      " 14  manteca_nb               680 non-null    int64              \n",
      " 15  zip                      668 non-null    object             \n",
      " 16  country                  600 non-null    object             \n",
      " 17  packContigo_unit_price   680 non-null    float64            \n",
      " 18  crema_unit_price         680 non-null    float64            \n",
      " 19  id                       680 non-null    object             \n",
      " 20  manteca_unit_price       680 non-null    float64            \n",
      " 21  total_price              680 non-null    float64            \n",
      " 22  latitude                 611 non-null    float64            \n",
      " 23  packContigo_nb           680 non-null    int64              \n",
      " 24  crema_nb                 680 non-null    int64              \n",
      " 25  gateway                  680 non-null    object             \n",
      " 26  accounting_item          61 non-null     object             \n",
      " 27  packHidra_nb             680 non-null    int64              \n",
      " 28  balsamo_unit_price       680 non-null    float64            \n",
      " 29  buyer_accepts_marketing  118 non-null    object             \n",
      " 30  order_status_url         668 non-null    object             \n",
      " 31  manteca_total_price      680 non-null    int64              \n",
      " 32  balsamo_nb               680 non-null    int64              \n",
      " 33  province                 537 non-null    object             \n",
      " 34  longitude                611 non-null    float64            \n",
      " 35  client_name              673 non-null    object             \n",
      " 36  order_id                 668 non-null    object             \n",
      " 37  close_date               551 non-null    datetime64[ns, UTC]\n",
      " 38  packBandana_unit_price   56 non-null     object             \n",
      " 39  packBandana_total_price  56 non-null     float64            \n",
      " 40  packAbanico_unit_price   56 non-null     object             \n",
      " 41  bolsa_nb                 65 non-null     float64            \n",
      " 42  client_phone             56 non-null     object             \n",
      " 43  packAbanico_nb           56 non-null     float64            \n",
      " 44  client_adresse           56 non-null     object             \n",
      " 45  packAbanico_total_price  56 non-null     float64            \n",
      " 46  city                     56 non-null     object             \n",
      " 47  bolsa_total_price        65 non-null     float64            \n",
      " 48  packBandana_nb           56 non-null     float64            \n",
      " 49  bolsa_unit_price         65 non-null     object             \n",
      " 50  packNavidad_nb           16 non-null     float64            \n",
      " 51  navidadCode              19 non-null     float64            \n",
      " 52  packNavidad_total_price  16 non-null     float64            \n",
      " 53  packNavidad_unit_price   16 non-null     object             \n",
      " 54  to                       3 non-null      object             \n",
      " 55  message                  3 non-null      object             \n",
      "dtypes: bool(1), datetime64[ns, UTC](2), float64(19), int64(10), object(24)\n",
      "memory usage: 293.0+ KB\n"
     ]
    }
   ],
   "source": [
    "#double check\n",
    "df_ventas.info()"
   ]
  },
  {
   "cell_type": "markdown",
   "metadata": {},
   "source": [
    "### METER MUJERES Y HOMBRES"
   ]
  },
  {
   "cell_type": "code",
   "execution_count": 15,
   "metadata": {},
   "outputs": [],
   "source": [
    "#client_gender"
   ]
  },
  {
   "cell_type": "code",
   "execution_count": 16,
   "metadata": {},
   "outputs": [],
   "source": [
    "#lista de mujeres\n",
    "url = 'https://raw.githubusercontent.com/marcboquet/spanish-names/master/mujeres.csv'\n",
    "df_mujeres = pd.read_csv(url, error_bad_lines=False)\n",
    "l_mujeres = df_mujeres['nombre'].to_list()"
   ]
  },
  {
   "cell_type": "code",
   "execution_count": 17,
   "metadata": {},
   "outputs": [],
   "source": [
    "l_mujeres = [str(nom).lower() for nom in l_mujeres]"
   ]
  },
  {
   "cell_type": "code",
   "execution_count": 18,
   "metadata": {},
   "outputs": [],
   "source": [
    "#lista de hombres\n",
    "url = 'https://raw.githubusercontent.com/marcboquet/spanish-names/master/hombres.csv'\n",
    "df_hombres = pd.read_csv(url, error_bad_lines=False)\n",
    "l_hombres = df_hombres['nombre'].to_list()"
   ]
  },
  {
   "cell_type": "code",
   "execution_count": 19,
   "metadata": {},
   "outputs": [],
   "source": [
    "l_hombres = [nom.lower() for nom in l_hombres]"
   ]
  },
  {
   "cell_type": "code",
   "execution_count": 20,
   "metadata": {},
   "outputs": [
    {
     "data": {
      "text/plain": [
       "Ana                17\n",
       "Carmen             14\n",
       "Cristina           14\n",
       "Daniel             11\n",
       "María              10\n",
       "                   ..\n",
       "Emilia Lahilla      1\n",
       "Jordi               1\n",
       "INMACULADA          1\n",
       "FATIMA              1\n",
       "Mª Concepción       1\n",
       "Name: client_name, Length: 367, dtype: int64"
      ]
     },
     "execution_count": 20,
     "metadata": {},
     "output_type": "execute_result"
    }
   ],
   "source": [
    "df_ventas['client_name'].value_counts()"
   ]
  },
  {
   "cell_type": "code",
   "execution_count": 21,
   "metadata": {},
   "outputs": [],
   "source": [
    "#aplicar sexo\n",
    "df_ventas['client_gender'] = df_ventas.apply(lambda x: \n",
    "                            'F' if unidecode.unidecode(\n",
    "                                    str(x['client_name']).replace(\" \", \"\").lower()) in l_mujeres\n",
    "                            else 'M' if unidecode.unidecode(\n",
    "                                str(x['client_name']).replace(\" \", \"\").lower())  in l_hombres\n",
    "                            else 'F' if unidecode.unidecode(\n",
    "                                str(x['client_name']).split(\" \")[0].lower())  in l_mujeres\n",
    "                            else 'M' if unidecode.unidecode(\n",
    "                                str(x['client_name']).split(\" \")[0].lower())  in l_hombres\n",
    "\n",
    "                            else 'N/A' , axis =1)"
   ]
  },
  {
   "cell_type": "code",
   "execution_count": 22,
   "metadata": {},
   "outputs": [
    {
     "data": {
      "text/plain": [
       "F      525\n",
       "M      125\n",
       "N/A     30\n",
       "Name: client_gender, dtype: int64"
      ]
     },
     "execution_count": 22,
     "metadata": {},
     "output_type": "execute_result"
    }
   ],
   "source": [
    "#ver que sale\n",
    "df_ventas['client_gender'].value_counts() # A MEJORRAR"
   ]
  },
  {
   "cell_type": "code",
   "execution_count": 23,
   "metadata": {},
   "outputs": [],
   "source": [
    "client = bigquery.Client()\n",
    "dataset_id = \"{}.contoan\".format(client.project)\n",
    "dataset = bigquery.Dataset(dataset_id)"
   ]
  },
  {
   "cell_type": "code",
   "execution_count": 24,
   "metadata": {},
   "outputs": [
    {
     "name": "stderr",
     "output_type": "stream",
     "text": [
      "1it [00:05,  5.05s/it]\n"
     ]
    }
   ],
   "source": [
    "#subir a bigquery\n",
    "table_id = \"contoan.sales\"\n",
    "\n",
    "pandas_gbq.to_gbq(df_ventas, table_id, project_id=client.project, if_exists='replace')"
   ]
  },
  {
   "cell_type": "markdown",
   "metadata": {},
   "source": [
    "## Cuentas"
   ]
  },
  {
   "cell_type": "code",
   "execution_count": 87,
   "metadata": {},
   "outputs": [],
   "source": [
    "## CSV generado al exportar la pestaña cuentas de Diario2020\n",
    "df_cuentas = pd.read_csv('/Users/daniel/OAN/Nikarit/nikaritds/clients_study/cuentas.csv',index_col=0)\n",
    "cuentas = df_cuentas.to_dict()['NOMBRE']\n",
    "df_cuentas = df_cuentas.reset_index()\n",
    "df_cuentas = df_cuentas[['ID','NOMBRE','NUMERO','TIPO']]\n",
    "df_cuentas.columns = ['id','name','number','type']"
   ]
  },
  {
   "cell_type": "code",
   "execution_count": 88,
   "metadata": {},
   "outputs": [],
   "source": [
    "## JSON File de Alfonso\n",
    "with open('/Users/daniel/Downloads/fr.json') as json_file:\n",
    "    cuentas_tr = json.load(json_file)"
   ]
  },
  {
   "cell_type": "code",
   "execution_count": 89,
   "metadata": {},
   "outputs": [],
   "source": [
    "df_cuentas['name_fr']=df_cuentas['name'].apply(lambda x: cuentas_tr[x])"
   ]
  },
  {
   "cell_type": "code",
   "execution_count": 90,
   "metadata": {},
   "outputs": [
    {
     "name": "stderr",
     "output_type": "stream",
     "text": [
      "1it [00:04,  4.65s/it]\n"
     ]
    }
   ],
   "source": [
    "table_id = \"{}.accounts\".format(dataset.dataset_id)\n",
    "\n",
    "pandas_gbq.to_gbq(df_cuentas, table_id, project_id=client.project, if_exists='replace')"
   ]
  },
  {
   "cell_type": "markdown",
   "metadata": {},
   "source": [
    "### PROYECTOS"
   ]
  },
  {
   "cell_type": "code",
   "execution_count": null,
   "metadata": {},
   "outputs": [],
   "source": [
    "## CSV generado al exportar la pestaña proyectos de Diario2020\n",
    "df_projectos = pd.read_csv('/Users/daniel/OAN/Nikarit/nikaritds/clients_study/projectos.csv',index_col=0)\n",
    "projectos = df_projectos.to_dict()['TITULO']\n",
    "df_projectos = df_projectos.reset_index()\n",
    "df_projectos = df_projectos[['ID','TITULO','DESCRIPCION','COMITE','TIPO','PROYECTO ID','INTERVENCION ID']]\n",
    "df_projectos.columns = ['id','name','description','department','type','project_id','intervention_id']"
   ]
  },
  {
   "cell_type": "code",
   "execution_count": null,
   "metadata": {},
   "outputs": [],
   "source": [
    "table_id = \"{}.projects\".format(dataset.dataset_id)\n",
    "\n",
    "pandas_gbq.to_gbq(df_projectos, table_id, project_id=client.project, if_exists='replace')"
   ]
  },
  {
   "cell_type": "markdown",
   "metadata": {},
   "source": [
    "### USUARIOS"
   ]
  },
  {
   "cell_type": "code",
   "execution_count": null,
   "metadata": {},
   "outputs": [],
   "source": [
    "## CSV generado al exportar la pestaña usuarios de Diario2020\n",
    "df_usuarios =pd.read_csv('/Users/daniel/OAN/Nikarit/nikaritds/clients_study/usuarios.csv',index_col=0)\n",
    "usuarios = df_usuarios.to_dict()['NOMBRE']\n",
    "df_usuarios = df_usuarios.reset_index()\n",
    "df_usuarios = df_usuarios[['ID','NOMBRE','CUENTA']]\n",
    "df_usuarios.columns = ['id','name','cuenta']"
   ]
  },
  {
   "cell_type": "code",
   "execution_count": null,
   "metadata": {},
   "outputs": [],
   "source": [
    "table_id = \"{}.users\".format(dataset.dataset_id)\n",
    "\n",
    "pandas_gbq.to_gbq(df_usuarios, table_id, project_id=client.project, if_exists='replace')"
   ]
  },
  {
   "cell_type": "markdown",
   "metadata": {},
   "source": [
    "##### september 2020 backup"
   ]
  },
  {
   "cell_type": "code",
   "execution_count": 67,
   "metadata": {},
   "outputs": [
    {
     "name": "stderr",
     "output_type": "stream",
     "text": [
      "1it [00:04,  4.48s/it]\n"
     ]
    }
   ],
   "source": [
    "table_id = \"{}.accounting_202009\".format(dataset.dataset_id)\n",
    "\n",
    "pandas_gbq.to_gbq(df, table_id, project_id=client.project, if_exists='replace')"
   ]
  },
  {
   "cell_type": "markdown",
   "metadata": {},
   "source": [
    "## get data"
   ]
  },
  {
   "cell_type": "code",
   "execution_count": null,
   "metadata": {},
   "outputs": [],
   "source": [
    "sql = \"\"\"\n",
    "    SELECT *\n",
    "    FROM `oan-nikarit.contoan.accounting`\n",
    "    LIMIT 100\n",
    "\"\"\"\n",
    "\n",
    "# Run a Standard SQL query using the environment's default project\n",
    "df = pd.read_gbq(sql, dialect='standard')"
   ]
  },
  {
   "cell_type": "code",
   "execution_count": null,
   "metadata": {},
   "outputs": [],
   "source": []
  }
 ],
 "metadata": {
  "kernelspec": {
   "display_name": "Python 3",
   "language": "python",
   "name": "python3"
  },
  "language_info": {
   "codemirror_mode": {
    "name": "ipython",
    "version": 3
   },
   "file_extension": ".py",
   "mimetype": "text/x-python",
   "name": "python",
   "nbconvert_exporter": "python",
   "pygments_lexer": "ipython3",
   "version": "3.8.3"
  }
 },
 "nbformat": 4,
 "nbformat_minor": 2
}

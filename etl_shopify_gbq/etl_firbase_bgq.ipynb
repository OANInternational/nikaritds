{
 "cells": [
  {
   "cell_type": "code",
   "execution_count": 1,
   "metadata": {},
   "outputs": [],
   "source": [
    "#to open cred files\n",
    "import os\n",
    "#cleaning and operations\n",
    "import pandas as pd\n",
    "import numpy as np\n",
    "#to read translations\n",
    "import json\n",
    "import unidecode"
   ]
  },
  {
   "cell_type": "code",
   "execution_count": 2,
   "metadata": {},
   "outputs": [],
   "source": [
    "#bigquery\n",
    "import pandas_gbq\n",
    "from google.cloud import bigquery"
   ]
  },
  {
   "cell_type": "code",
   "execution_count": 3,
   "metadata": {},
   "outputs": [],
   "source": [
    "#FIREBASE\n",
    "import firebase_admin\n",
    "\n",
    "from firebase_admin import credentials\n",
    "from firebase_admin import firestore"
   ]
  },
  {
   "cell_type": "code",
   "execution_count": 4,
   "metadata": {},
   "outputs": [
    {
     "data": {
      "text/plain": [
       "True"
      ]
     },
     "execution_count": 4,
     "metadata": {},
     "output_type": "execute_result"
    }
   ],
   "source": [
    "from dotenv import load_dotenv\n",
    "load_dotenv('/Users/daniel/OAN/credentials/contoan/.env')"
   ]
  },
  {
   "cell_type": "code",
   "execution_count": 5,
   "metadata": {},
   "outputs": [],
   "source": [
    "## OPEN CONECTION TO BIGQUERRY\n",
    "client = bigquery.Client()\n",
    "dataset_id = \"{}.contoan\".format(client.project)\n",
    "dataset = bigquery.Dataset(dataset_id)"
   ]
  },
  {
   "cell_type": "code",
   "execution_count": 7,
   "metadata": {},
   "outputs": [],
   "source": [
    "filename=os.environ['FIREBASE_FILENAME']\n",
    "#OPEN CONECTION TO FIREBASE\n",
    "cred = credentials.Certificate(filename)\n",
    "firebase_admin.initialize_app(cred)\n",
    "\n",
    "db = firestore.client()"
   ]
  },
  {
   "cell_type": "markdown",
   "metadata": {},
   "source": [
    "## Accounting table"
   ]
  },
  {
   "cell_type": "markdown",
   "metadata": {},
   "source": [
    "### GET DATA"
   ]
  },
  {
   "cell_type": "code",
   "execution_count": 74,
   "metadata": {},
   "outputs": [],
   "source": [
    "#get all the collection\n",
    "col_query = db.collection('Accounting').stream()"
   ]
  },
  {
   "cell_type": "code",
   "execution_count": 75,
   "metadata": {},
   "outputs": [],
   "source": [
    "#save it in a list of dictionaries\n",
    "accounts = []\n",
    "for acc in col_query:\n",
    "    accounts.append(acc.to_dict())"
   ]
  },
  {
   "cell_type": "code",
   "execution_count": 76,
   "metadata": {},
   "outputs": [],
   "source": [
    "#convert to dataframe\n",
    "accounting = pd.DataFrame(accounts)"
   ]
  },
  {
   "cell_type": "code",
   "execution_count": 73,
   "metadata": {},
   "outputs": [],
   "source": [
    "#errores_ids = accounting[(accounting['amount'].apply(lambda x: type(x) == type('2')))]['id'].tolist()\n",
    "#for error in errores_ids:\n",
    "#    value = float(accounting[accounting['id']==error]['amount'])\n",
    "#    db.collection('Accounting'\n",
    "#                 ).document(error\n",
    "#                           ).update({'amount':value}\n",
    "#                                   )"
   ]
  },
  {
   "cell_type": "code",
   "execution_count": 78,
   "metadata": {},
   "outputs": [
    {
     "name": "stdout",
     "output_type": "stream",
     "text": [
      "<class 'pandas.core.frame.DataFrame'>\n",
      "RangeIndex: 2339 entries, 0 to 2338\n",
      "Data columns (total 20 columns):\n",
      " #   Column          Non-Null Count  Dtype  \n",
      "---  ------          --------------  -----  \n",
      " 0   origin          2339 non-null   object \n",
      " 1   execution_date  2339 non-null   object \n",
      " 2   description     2292 non-null   object \n",
      " 3   place           2339 non-null   object \n",
      " 4   creator_user    2339 non-null   object \n",
      " 5   vat             2116 non-null   float64\n",
      " 6   id              2339 non-null   object \n",
      " 7   amount          2339 non-null   float64\n",
      " 8   target_id       2339 non-null   object \n",
      " 9   images          2336 non-null   object \n",
      " 10  type            2339 non-null   object \n",
      " 11  phase           768 non-null    object \n",
      " 12  concept         2339 non-null   object \n",
      " 13  project         2339 non-null   object \n",
      " 14  vat_amount      2248 non-null   float64\n",
      " 15  intervention    2339 non-null   object \n",
      " 16  code            2339 non-null   int64  \n",
      " 17  creation_date   2339 non-null   object \n",
      " 18  user_in_charge  2339 non-null   object \n",
      " 19  account_id      2339 non-null   object \n",
      "dtypes: float64(3), int64(1), object(16)\n",
      "memory usage: 365.6+ KB\n"
     ]
    }
   ],
   "source": [
    "#nulls. size and datatype\n",
    "accounting.info()"
   ]
  },
  {
   "cell_type": "code",
   "execution_count": 13,
   "metadata": {},
   "outputs": [],
   "source": [
    "#nulls heatmap - import seaborn as sns\n",
    "#sns.heatmap(accounting.isna())"
   ]
  },
  {
   "cell_type": "markdown",
   "metadata": {},
   "source": [
    "### CLEAN DATA"
   ]
  },
  {
   "cell_type": "code",
   "execution_count": 79,
   "metadata": {},
   "outputs": [
    {
     "data": {
      "text/html": [
       "<div>\n",
       "<style scoped>\n",
       "    .dataframe tbody tr th:only-of-type {\n",
       "        vertical-align: middle;\n",
       "    }\n",
       "\n",
       "    .dataframe tbody tr th {\n",
       "        vertical-align: top;\n",
       "    }\n",
       "\n",
       "    .dataframe thead th {\n",
       "        text-align: right;\n",
       "    }\n",
       "</style>\n",
       "<table border=\"1\" class=\"dataframe\">\n",
       "  <thead>\n",
       "    <tr style=\"text-align: right;\">\n",
       "      <th></th>\n",
       "      <th>origin</th>\n",
       "      <th>execution_date</th>\n",
       "      <th>description</th>\n",
       "      <th>place</th>\n",
       "      <th>creator_user</th>\n",
       "      <th>vat</th>\n",
       "      <th>id</th>\n",
       "      <th>amount</th>\n",
       "      <th>target_id</th>\n",
       "      <th>images</th>\n",
       "      <th>type</th>\n",
       "      <th>phase</th>\n",
       "      <th>concept</th>\n",
       "      <th>project</th>\n",
       "      <th>vat_amount</th>\n",
       "      <th>intervention</th>\n",
       "      <th>code</th>\n",
       "      <th>creation_date</th>\n",
       "      <th>user_in_charge</th>\n",
       "      <th>account_id</th>\n",
       "    </tr>\n",
       "  </thead>\n",
       "  <tbody>\n",
       "    <tr>\n",
       "      <th>0</th>\n",
       "      <td>script_dani</td>\n",
       "      <td>2020-04-28T12:07:49.000Z</td>\n",
       "      <td>venta online: 2288996286563</td>\n",
       "      <td>spain</td>\n",
       "      <td>z5m936GA0t3vHM28QKhR</td>\n",
       "      <td>21.0</td>\n",
       "      <td>01WVDHF0gSSg1PCFsosk</td>\n",
       "      <td>21.0</td>\n",
       "      <td>yfy4cPxkmFwIYVnoWD0A</td>\n",
       "      <td>[]</td>\n",
       "      <td>income</td>\n",
       "      <td>None</td>\n",
       "      <td>venta shopify</td>\n",
       "      <td>0DmODGTOEiM5lg9SGx0J</td>\n",
       "      <td>3.644628</td>\n",
       "      <td>w04441aFcU5b7pQm6Rd2</td>\n",
       "      <td>899</td>\n",
       "      <td>2020-08-26T18:02:55.591Z</td>\n",
       "      <td>IjBxXuBshlfq2MUzwBSK</td>\n",
       "      <td>3deqBmrZ1iJkAwMmxSOp</td>\n",
       "    </tr>\n",
       "    <tr>\n",
       "      <th>1</th>\n",
       "      <td>shopify</td>\n",
       "      <td>2020-12-22T08:59:35.685Z</td>\n",
       "      <td>2915979624547</td>\n",
       "      <td>spain</td>\n",
       "      <td>z5m936GA0t3vHM28QKhR</td>\n",
       "      <td>0.0</td>\n",
       "      <td>01dtZiGq12IzmIpOVG3X</td>\n",
       "      <td>6.1</td>\n",
       "      <td>iA9Pzv2CImjItzwCaQv0</td>\n",
       "      <td>[]</td>\n",
       "      <td>movement</td>\n",
       "      <td>None</td>\n",
       "      <td>Gastos de envio Nacional</td>\n",
       "      <td>0DmODGTOEiM5lg9SGx0J</td>\n",
       "      <td>0.000000</td>\n",
       "      <td>w04441aFcU5b7pQm6Rd2</td>\n",
       "      <td>2257</td>\n",
       "      <td>2020-12-22T08:59:35.685Z</td>\n",
       "      <td>IjBxXuBshlfq2MUzwBSK</td>\n",
       "      <td>FHwFsBItyEneaZh8yP0T</td>\n",
       "    </tr>\n",
       "    <tr>\n",
       "      <th>2</th>\n",
       "      <td>shopify</td>\n",
       "      <td>2020-12-07T08:56:28.137Z</td>\n",
       "      <td>2875805401187</td>\n",
       "      <td>spain</td>\n",
       "      <td>z5m936GA0t3vHM28QKhR</td>\n",
       "      <td>0.0</td>\n",
       "      <td>01nQGx25hZLez38FpWEe</td>\n",
       "      <td>6.1</td>\n",
       "      <td>iA9Pzv2CImjItzwCaQv0</td>\n",
       "      <td>[]</td>\n",
       "      <td>movement</td>\n",
       "      <td>None</td>\n",
       "      <td>Gastos de envio Nacional</td>\n",
       "      <td>0DmODGTOEiM5lg9SGx0J</td>\n",
       "      <td>0.000000</td>\n",
       "      <td>w04441aFcU5b7pQm6Rd2</td>\n",
       "      <td>1959</td>\n",
       "      <td>2020-12-07T08:56:28.137Z</td>\n",
       "      <td>IjBxXuBshlfq2MUzwBSK</td>\n",
       "      <td>FHwFsBItyEneaZh8yP0T</td>\n",
       "    </tr>\n",
       "    <tr>\n",
       "      <th>3</th>\n",
       "      <td>script_dani</td>\n",
       "      <td>2020-04-28T19:50:24.000Z</td>\n",
       "      <td>venta online: 2290422218851</td>\n",
       "      <td>spain</td>\n",
       "      <td>z5m936GA0t3vHM28QKhR</td>\n",
       "      <td>21.0</td>\n",
       "      <td>026RXV3hyl33ussoU7D9</td>\n",
       "      <td>38.0</td>\n",
       "      <td>iA9Pzv2CImjItzwCaQv0</td>\n",
       "      <td>[]</td>\n",
       "      <td>income</td>\n",
       "      <td>None</td>\n",
       "      <td>venta shopify</td>\n",
       "      <td>0DmODGTOEiM5lg9SGx0J</td>\n",
       "      <td>6.595041</td>\n",
       "      <td>w04441aFcU5b7pQm6Rd2</td>\n",
       "      <td>1049</td>\n",
       "      <td>2020-08-26T18:02:55.591Z</td>\n",
       "      <td>IjBxXuBshlfq2MUzwBSK</td>\n",
       "      <td>3deqBmrZ1iJkAwMmxSOp</td>\n",
       "    </tr>\n",
       "    <tr>\n",
       "      <th>4</th>\n",
       "      <td>shopify</td>\n",
       "      <td>2020-12-05T22:24:00.338Z</td>\n",
       "      <td>2872447467619</td>\n",
       "      <td>spain</td>\n",
       "      <td>z5m936GA0t3vHM28QKhR</td>\n",
       "      <td>0.0</td>\n",
       "      <td>02EE48NlGSbqGrrLvIHl</td>\n",
       "      <td>1.2</td>\n",
       "      <td>iA9Pzv2CImjItzwCaQv0</td>\n",
       "      <td>[]</td>\n",
       "      <td>expense</td>\n",
       "      <td>LXspD4R7rZ6Jw5EOEZYR</td>\n",
       "      <td>Comision Stripe</td>\n",
       "      <td>0DmODGTOEiM5lg9SGx0J</td>\n",
       "      <td>0.000000</td>\n",
       "      <td>w04441aFcU5b7pQm6Rd2</td>\n",
       "      <td>1934</td>\n",
       "      <td>2020-12-05T22:24:00.338Z</td>\n",
       "      <td>IjBxXuBshlfq2MUzwBSK</td>\n",
       "      <td>j2UYEKf01eFHMPZv9qHq</td>\n",
       "    </tr>\n",
       "  </tbody>\n",
       "</table>\n",
       "</div>"
      ],
      "text/plain": [
       "        origin            execution_date                  description  place  \\\n",
       "0  script_dani  2020-04-28T12:07:49.000Z  venta online: 2288996286563  spain   \n",
       "1      shopify  2020-12-22T08:59:35.685Z                2915979624547  spain   \n",
       "2      shopify  2020-12-07T08:56:28.137Z                2875805401187  spain   \n",
       "3  script_dani  2020-04-28T19:50:24.000Z  venta online: 2290422218851  spain   \n",
       "4      shopify  2020-12-05T22:24:00.338Z                2872447467619  spain   \n",
       "\n",
       "           creator_user   vat                    id  amount  \\\n",
       "0  z5m936GA0t3vHM28QKhR  21.0  01WVDHF0gSSg1PCFsosk    21.0   \n",
       "1  z5m936GA0t3vHM28QKhR   0.0  01dtZiGq12IzmIpOVG3X     6.1   \n",
       "2  z5m936GA0t3vHM28QKhR   0.0  01nQGx25hZLez38FpWEe     6.1   \n",
       "3  z5m936GA0t3vHM28QKhR  21.0  026RXV3hyl33ussoU7D9    38.0   \n",
       "4  z5m936GA0t3vHM28QKhR   0.0  02EE48NlGSbqGrrLvIHl     1.2   \n",
       "\n",
       "              target_id images      type                 phase  \\\n",
       "0  yfy4cPxkmFwIYVnoWD0A     []    income                  None   \n",
       "1  iA9Pzv2CImjItzwCaQv0     []  movement                  None   \n",
       "2  iA9Pzv2CImjItzwCaQv0     []  movement                  None   \n",
       "3  iA9Pzv2CImjItzwCaQv0     []    income                  None   \n",
       "4  iA9Pzv2CImjItzwCaQv0     []   expense  LXspD4R7rZ6Jw5EOEZYR   \n",
       "\n",
       "                    concept               project  vat_amount  \\\n",
       "0             venta shopify  0DmODGTOEiM5lg9SGx0J    3.644628   \n",
       "1  Gastos de envio Nacional  0DmODGTOEiM5lg9SGx0J    0.000000   \n",
       "2  Gastos de envio Nacional  0DmODGTOEiM5lg9SGx0J    0.000000   \n",
       "3             venta shopify  0DmODGTOEiM5lg9SGx0J    6.595041   \n",
       "4           Comision Stripe  0DmODGTOEiM5lg9SGx0J    0.000000   \n",
       "\n",
       "           intervention  code             creation_date        user_in_charge  \\\n",
       "0  w04441aFcU5b7pQm6Rd2   899  2020-08-26T18:02:55.591Z  IjBxXuBshlfq2MUzwBSK   \n",
       "1  w04441aFcU5b7pQm6Rd2  2257  2020-12-22T08:59:35.685Z  IjBxXuBshlfq2MUzwBSK   \n",
       "2  w04441aFcU5b7pQm6Rd2  1959  2020-12-07T08:56:28.137Z  IjBxXuBshlfq2MUzwBSK   \n",
       "3  w04441aFcU5b7pQm6Rd2  1049  2020-08-26T18:02:55.591Z  IjBxXuBshlfq2MUzwBSK   \n",
       "4  w04441aFcU5b7pQm6Rd2  1934  2020-12-05T22:24:00.338Z  IjBxXuBshlfq2MUzwBSK   \n",
       "\n",
       "             account_id  \n",
       "0  3deqBmrZ1iJkAwMmxSOp  \n",
       "1  FHwFsBItyEneaZh8yP0T  \n",
       "2  FHwFsBItyEneaZh8yP0T  \n",
       "3  3deqBmrZ1iJkAwMmxSOp  \n",
       "4  j2UYEKf01eFHMPZv9qHq  "
      ]
     },
     "execution_count": 79,
     "metadata": {},
     "output_type": "execute_result"
    }
   ],
   "source": [
    "#lets see how it shows\n",
    "accounting.head()"
   ]
  },
  {
   "cell_type": "markdown",
   "metadata": {},
   "source": [
    "#### convert execution to isostring"
   ]
  },
  {
   "cell_type": "code",
   "execution_count": 80,
   "metadata": {},
   "outputs": [],
   "source": [
    "def clean_execution(x):\n",
    "    if(len(x['execution_date'])<15):\n",
    "        doc_id = x['id']\n",
    "        exec_date=x['execution_date']+'T14:14:58.593Z'\n",
    "        print(exec_date)\n",
    "        print(len(x['execution_date']))\n",
    "        #upload to firebase if whished\n",
    "        #a=db.collection(u'Accounting').document(doc_id).update({'execution_date':exec_date})\n",
    "        \n",
    "        return exec_date\n",
    "    else:\n",
    "        return x['execution_date']\n",
    "        "
   ]
  },
  {
   "cell_type": "code",
   "execution_count": 81,
   "metadata": {},
   "outputs": [
    {
     "name": "stdout",
     "output_type": "stream",
     "text": [
      "2020-10-31T14:14:58.593Z\n",
      "10\n",
      "2020-11-25T14:14:58.593Z\n",
      "10\n",
      "2020-09-30T14:14:58.593Z\n",
      "10\n",
      "2020-09-01T14:14:58.593Z\n",
      "10\n",
      "2020-10-15T14:14:58.593Z\n",
      "10\n",
      "2020-10-31T14:14:58.593Z\n",
      "10\n"
     ]
    }
   ],
   "source": [
    "accounting['execution_date']=accounting.apply(lambda x: clean_execution(x) ,axis=1)"
   ]
  },
  {
   "cell_type": "markdown",
   "metadata": {},
   "source": [
    "##### clean VAT and replace nan with 0"
   ]
  },
  {
   "cell_type": "code",
   "execution_count": 82,
   "metadata": {},
   "outputs": [],
   "source": [
    "def clean_vat_amount(x):\n",
    "    doc_id = x['id']\n",
    "    amount=x['amount']\n",
    "    origin = x['origin']\n",
    "    if origin =='script_dani':\n",
    "        if x['vat']>0:\n",
    "            vat=21\n",
    "        else:\n",
    "            vat=0\n",
    "        #a=db.collection(u'Accounting').document(doc_id).update({'vat':vat})\n",
    "    else:\n",
    "        vat=x['vat']\n",
    "        if not(vat >=0):\n",
    "            vat=0\n",
    "    vat_amount=amount*(1-1/(1+vat/100))\n",
    "\n",
    "    #a=db.collection(u'Accounting').document(doc_id).update({'vat_amount':vat_amount})\n",
    "\n",
    "    return pd.Series({'vat':vat,'vat_amount':vat_amount})"
   ]
  },
  {
   "cell_type": "code",
   "execution_count": 83,
   "metadata": {},
   "outputs": [],
   "source": [
    "accounting[['vat','vat_amount']] = accounting.apply(lambda x: clean_vat_amount(x),axis=1)"
   ]
  },
  {
   "cell_type": "markdown",
   "metadata": {},
   "source": [
    "###### convert dates to datetime"
   ]
  },
  {
   "cell_type": "code",
   "execution_count": 84,
   "metadata": {},
   "outputs": [],
   "source": [
    "#utc=True important if dates are in diferent formats\n",
    "accounting['creation_date'] = pd.to_datetime(accounting['creation_date'],utc=True)\n",
    "accounting['execution_date'] = pd.to_datetime(accounting['execution_date'],utc=True)"
   ]
  },
  {
   "cell_type": "code",
   "execution_count": 85,
   "metadata": {},
   "outputs": [],
   "source": [
    "def getimages(x):\n",
    "    if not (x):\n",
    "        return ''\n",
    "    elif(len(x)==0):\n",
    "        return ''\n",
    "    elif('download_url' in x[0].keys()):\n",
    "        download_url = x[0]['download_url']\n",
    "        if(download_url == None):\n",
    "            return ''\n",
    "        else:\n",
    "            return download_url\n",
    "    else:\n",
    "        return ''"
   ]
  },
  {
   "cell_type": "code",
   "execution_count": 86,
   "metadata": {},
   "outputs": [],
   "source": [
    "accounting['receipt']=accounting.images.apply(lambda x: getimages(x))"
   ]
  },
  {
   "cell_type": "markdown",
   "metadata": {},
   "source": [
    "##### double check"
   ]
  },
  {
   "cell_type": "code",
   "execution_count": 87,
   "metadata": {},
   "outputs": [
    {
     "name": "stdout",
     "output_type": "stream",
     "text": [
      "<class 'pandas.core.frame.DataFrame'>\n",
      "RangeIndex: 2339 entries, 0 to 2338\n",
      "Data columns (total 21 columns):\n",
      " #   Column          Non-Null Count  Dtype              \n",
      "---  ------          --------------  -----              \n",
      " 0   origin          2339 non-null   object             \n",
      " 1   execution_date  2339 non-null   datetime64[ns, UTC]\n",
      " 2   description     2292 non-null   object             \n",
      " 3   place           2339 non-null   object             \n",
      " 4   creator_user    2339 non-null   object             \n",
      " 5   vat             2339 non-null   float64            \n",
      " 6   id              2339 non-null   object             \n",
      " 7   amount          2339 non-null   float64            \n",
      " 8   target_id       2339 non-null   object             \n",
      " 9   images          2336 non-null   object             \n",
      " 10  type            2339 non-null   object             \n",
      " 11  phase           768 non-null    object             \n",
      " 12  concept         2339 non-null   object             \n",
      " 13  project         2339 non-null   object             \n",
      " 14  vat_amount      2339 non-null   float64            \n",
      " 15  intervention    2339 non-null   object             \n",
      " 16  code            2339 non-null   int64              \n",
      " 17  creation_date   2339 non-null   datetime64[ns, UTC]\n",
      " 18  user_in_charge  2339 non-null   object             \n",
      " 19  account_id      2339 non-null   object             \n",
      " 20  receipt         2339 non-null   object             \n",
      "dtypes: datetime64[ns, UTC](2), float64(3), int64(1), object(15)\n",
      "memory usage: 383.9+ KB\n"
     ]
    }
   ],
   "source": [
    "accounting.info()"
   ]
  },
  {
   "cell_type": "markdown",
   "metadata": {},
   "source": [
    "### select columns"
   ]
  },
  {
   "cell_type": "code",
   "execution_count": 88,
   "metadata": {},
   "outputs": [],
   "source": [
    "#and the order whe want to upload to bigquery\n",
    "df = accounting[['concept', 'place', 'creation_date', 'vat', 'description', 'amount',\n",
    "       'id', 'phase', 'creator_user', 'execution_date',\n",
    "       'user_in_charge', 'origin', 'account_id', 'project', 'code', 'type',\n",
    "       'intervention', 'target_id', 'vat_amount', 'receipt']]"
   ]
  },
  {
   "cell_type": "markdown",
   "metadata": {},
   "source": [
    "## upload to BIGQUERY"
   ]
  },
  {
   "cell_type": "code",
   "execution_count": 89,
   "metadata": {
    "scrolled": true
   },
   "outputs": [
    {
     "name": "stderr",
     "output_type": "stream",
     "text": [
      "1it [00:03,  3.06s/it]\n"
     ]
    }
   ],
   "source": [
    "table_id = \"{}.accounting\".format(dataset.dataset_id)\n",
    "\n",
    "pandas_gbq.to_gbq(df, table_id, project_id=client.project, if_exists='replace')"
   ]
  },
  {
   "cell_type": "markdown",
   "metadata": {},
   "source": []
  },
  {
   "cell_type": "markdown",
   "metadata": {},
   "source": [
    "### SUBIR VENTAS"
   ]
  },
  {
   "cell_type": "markdown",
   "metadata": {},
   "source": [
    "#### get data"
   ]
  },
  {
   "cell_type": "code",
   "execution_count": 8,
   "metadata": {},
   "outputs": [],
   "source": [
    "col_query = db.collection('Nikarit_Sales').stream()"
   ]
  },
  {
   "cell_type": "code",
   "execution_count": 9,
   "metadata": {},
   "outputs": [],
   "source": [
    "ventas = []\n",
    "for acc in col_query:\n",
    "    ventas.append(acc.to_dict())"
   ]
  },
  {
   "cell_type": "code",
   "execution_count": 10,
   "metadata": {},
   "outputs": [],
   "source": [
    "df_ventas = pd.DataFrame(ventas)"
   ]
  },
  {
   "cell_type": "code",
   "execution_count": 11,
   "metadata": {},
   "outputs": [
    {
     "data": {
      "text/plain": [
       "(852, 57)"
      ]
     },
     "execution_count": 11,
     "metadata": {},
     "output_type": "execute_result"
    }
   ],
   "source": [
    "df_ventas.shape"
   ]
  },
  {
   "cell_type": "markdown",
   "metadata": {},
   "source": [
    "### view"
   ]
  },
  {
   "cell_type": "code",
   "execution_count": 12,
   "metadata": {},
   "outputs": [
    {
     "name": "stdout",
     "output_type": "stream",
     "text": [
      "<class 'pandas.core.frame.DataFrame'>\n",
      "RangeIndex: 852 entries, 0 to 851\n",
      "Data columns (total 57 columns):\n",
      " #   Column                   Non-Null Count  Dtype  \n",
      "---  ------                   --------------  -----  \n",
      " 0   manteca_nb               852 non-null    int64  \n",
      " 1   gateway                  852 non-null    object \n",
      " 2   buyer_accepts_marketing  216 non-null    object \n",
      " 3   latitude                 748 non-null    float64\n",
      " 4   packHidra_nb             852 non-null    int64  \n",
      " 5   id                       852 non-null    object \n",
      " 6   subtotal_price           852 non-null    object \n",
      " 7   order_status_url         817 non-null    object \n",
      " 8   balsamo_unit_price       852 non-null    object \n",
      " 9   crema_unit_price         852 non-null    object \n",
      " 10  product_movement         205 non-null    object \n",
      " 11  packContigo_unit_price   852 non-null    object \n",
      " 12  creation_date            852 non-null    object \n",
      " 13  accounting_item          217 non-null    object \n",
      " 14  order_id                 821 non-null    object \n",
      " 15  zip                      817 non-null    object \n",
      " 16  packHidra_total_price    852 non-null    int64  \n",
      " 17  province                 546 non-null    object \n",
      " 18  balsamo_nb               852 non-null    int64  \n",
      " 19  balsamo_total_price      852 non-null    int64  \n",
      " 20  origin                   852 non-null    object \n",
      " 21  total_tax                852 non-null    float64\n",
      " 22  packHidra_unit_price     852 non-null    object \n",
      " 23  client_email             808 non-null    object \n",
      " 24  crema_total_price        852 non-null    int64  \n",
      " 25  country                  765 non-null    object \n",
      " 26  taxes_included           852 non-null    bool   \n",
      " 27  close_date               703 non-null    object \n",
      " 28  packContigo_total_price  852 non-null    int64  \n",
      " 29  manteca_unit_price       852 non-null    object \n",
      " 30  packContigo_nb           852 non-null    int64  \n",
      " 31  crema_nb                 852 non-null    int64  \n",
      " 32  longitude                748 non-null    float64\n",
      " 33  client_name              845 non-null    object \n",
      " 34  total_price              852 non-null    float64\n",
      " 35  manteca_total_price      852 non-null    float64\n",
      " 36  client_last_name         842 non-null    object \n",
      " 37  client_gender            852 non-null    object \n",
      " 38  packAbanico_unit_price   221 non-null    object \n",
      " 39  bolsa_unit_price         237 non-null    object \n",
      " 40  bolsa_nb                 237 non-null    float64\n",
      " 41  packAbanico_nb           221 non-null    float64\n",
      " 42  client_adresse           205 non-null    object \n",
      " 43  packBandana_total_price  221 non-null    float64\n",
      " 44  bolsa_total_price        237 non-null    float64\n",
      " 45  packNavidad_nb           183 non-null    float64\n",
      " 46  packNavidad_total_price  183 non-null    float64\n",
      " 47  client_phone             205 non-null    object \n",
      " 48  packNavidad_unit_price   183 non-null    object \n",
      " 49  packBandana_unit_price   221 non-null    object \n",
      " 50  navidadCode              173 non-null    float64\n",
      " 51  packBandana_nb           221 non-null    float64\n",
      " 52  packAbanico_total_price  221 non-null    float64\n",
      " 53  city                     208 non-null    object \n",
      " 54  donation                 9 non-null      float64\n",
      " 55  to                       3 non-null      object \n",
      " 56  message                  3 non-null      object \n",
      "dtypes: bool(1), float64(15), int64(9), object(32)\n",
      "memory usage: 373.7+ KB\n"
     ]
    }
   ],
   "source": [
    "df_ventas.info()"
   ]
  },
  {
   "cell_type": "markdown",
   "metadata": {},
   "source": [
    "#### transform data"
   ]
  },
  {
   "cell_type": "code",
   "execution_count": 13,
   "metadata": {},
   "outputs": [],
   "source": [
    "cols = list(df_ventas.columns)"
   ]
  },
  {
   "cell_type": "code",
   "execution_count": 14,
   "metadata": {},
   "outputs": [],
   "source": [
    "cambios = [col for col in cols if 'price' in col]"
   ]
  },
  {
   "cell_type": "code",
   "execution_count": 15,
   "metadata": {},
   "outputs": [],
   "source": [
    "for cambio in cambios:\n",
    "    df_ventas[cambio]=pd.to_numeric(df_ventas[cambio])"
   ]
  },
  {
   "cell_type": "code",
   "execution_count": 16,
   "metadata": {},
   "outputs": [],
   "source": [
    "df_ventas['creation_date']=pd.to_datetime(df_ventas['creation_date'],utc=True)\n",
    "df_ventas['close_date']=pd.to_datetime(df_ventas['close_date'],utc=True)"
   ]
  },
  {
   "cell_type": "code",
   "execution_count": 17,
   "metadata": {},
   "outputs": [
    {
     "name": "stdout",
     "output_type": "stream",
     "text": [
      "<class 'pandas.core.frame.DataFrame'>\n",
      "RangeIndex: 852 entries, 0 to 851\n",
      "Data columns (total 57 columns):\n",
      " #   Column                   Non-Null Count  Dtype              \n",
      "---  ------                   --------------  -----              \n",
      " 0   manteca_nb               852 non-null    int64              \n",
      " 1   gateway                  852 non-null    object             \n",
      " 2   buyer_accepts_marketing  216 non-null    object             \n",
      " 3   latitude                 748 non-null    float64            \n",
      " 4   packHidra_nb             852 non-null    int64              \n",
      " 5   id                       852 non-null    object             \n",
      " 6   subtotal_price           852 non-null    float64            \n",
      " 7   order_status_url         817 non-null    object             \n",
      " 8   balsamo_unit_price       852 non-null    float64            \n",
      " 9   crema_unit_price         852 non-null    float64            \n",
      " 10  product_movement         205 non-null    object             \n",
      " 11  packContigo_unit_price   852 non-null    float64            \n",
      " 12  creation_date            852 non-null    datetime64[ns, UTC]\n",
      " 13  accounting_item          217 non-null    object             \n",
      " 14  order_id                 821 non-null    object             \n",
      " 15  zip                      817 non-null    object             \n",
      " 16  packHidra_total_price    852 non-null    int64              \n",
      " 17  province                 546 non-null    object             \n",
      " 18  balsamo_nb               852 non-null    int64              \n",
      " 19  balsamo_total_price      852 non-null    int64              \n",
      " 20  origin                   852 non-null    object             \n",
      " 21  total_tax                852 non-null    float64            \n",
      " 22  packHidra_unit_price     852 non-null    float64            \n",
      " 23  client_email             808 non-null    object             \n",
      " 24  crema_total_price        852 non-null    int64              \n",
      " 25  country                  765 non-null    object             \n",
      " 26  taxes_included           852 non-null    bool               \n",
      " 27  close_date               703 non-null    datetime64[ns, UTC]\n",
      " 28  packContigo_total_price  852 non-null    int64              \n",
      " 29  manteca_unit_price       852 non-null    float64            \n",
      " 30  packContigo_nb           852 non-null    int64              \n",
      " 31  crema_nb                 852 non-null    int64              \n",
      " 32  longitude                748 non-null    float64            \n",
      " 33  client_name              845 non-null    object             \n",
      " 34  total_price              852 non-null    float64            \n",
      " 35  manteca_total_price      852 non-null    float64            \n",
      " 36  client_last_name         842 non-null    object             \n",
      " 37  client_gender            852 non-null    object             \n",
      " 38  packAbanico_unit_price   221 non-null    float64            \n",
      " 39  bolsa_unit_price         237 non-null    float64            \n",
      " 40  bolsa_nb                 237 non-null    float64            \n",
      " 41  packAbanico_nb           221 non-null    float64            \n",
      " 42  client_adresse           205 non-null    object             \n",
      " 43  packBandana_total_price  221 non-null    float64            \n",
      " 44  bolsa_total_price        237 non-null    float64            \n",
      " 45  packNavidad_nb           183 non-null    float64            \n",
      " 46  packNavidad_total_price  183 non-null    float64            \n",
      " 47  client_phone             205 non-null    object             \n",
      " 48  packNavidad_unit_price   183 non-null    float64            \n",
      " 49  packBandana_unit_price   221 non-null    float64            \n",
      " 50  navidadCode              173 non-null    float64            \n",
      " 51  packBandana_nb           221 non-null    float64            \n",
      " 52  packAbanico_total_price  221 non-null    float64            \n",
      " 53  city                     208 non-null    object             \n",
      " 54  donation                 9 non-null      float64            \n",
      " 55  to                       3 non-null      object             \n",
      " 56  message                  3 non-null      object             \n",
      "dtypes: bool(1), datetime64[ns, UTC](2), float64(25), int64(9), object(20)\n",
      "memory usage: 373.7+ KB\n"
     ]
    }
   ],
   "source": [
    "#double check\n",
    "df_ventas.info()"
   ]
  },
  {
   "cell_type": "code",
   "execution_count": 18,
   "metadata": {},
   "outputs": [
    {
     "data": {
      "text/plain": [
       "(852, 57)"
      ]
     },
     "execution_count": 18,
     "metadata": {},
     "output_type": "execute_result"
    }
   ],
   "source": [
    "df_ventas.shape"
   ]
  },
  {
   "cell_type": "markdown",
   "metadata": {},
   "source": [
    "### METER MUJERES Y HOMBRES"
   ]
  },
  {
   "cell_type": "code",
   "execution_count": 19,
   "metadata": {},
   "outputs": [],
   "source": [
    "#client_gender"
   ]
  },
  {
   "cell_type": "code",
   "execution_count": 20,
   "metadata": {},
   "outputs": [],
   "source": [
    "#lista de mujeres\n",
    "url = 'https://raw.githubusercontent.com/marcboquet/spanish-names/master/mujeres.csv'\n",
    "df_mujeres = pd.read_csv(url, error_bad_lines=False)\n",
    "l_mujeres = df_mujeres['nombre'].to_list()"
   ]
  },
  {
   "cell_type": "code",
   "execution_count": 21,
   "metadata": {},
   "outputs": [],
   "source": [
    "l_mujeres = [str(nom).lower() for nom in l_mujeres]"
   ]
  },
  {
   "cell_type": "code",
   "execution_count": 22,
   "metadata": {},
   "outputs": [],
   "source": [
    "l_mujeres= l_mujeres+['maasuncion','mirenchu','begona','nadai','sra.','mcarmen','carmena','maita',\n",
    "'madolores','reyero','ma','maconcepción','cris']"
   ]
  },
  {
   "cell_type": "code",
   "execution_count": 23,
   "metadata": {},
   "outputs": [],
   "source": [
    "#lista de hombres\n",
    "url = 'https://raw.githubusercontent.com/marcboquet/spanish-names/master/hombres.csv'\n",
    "df_hombres = pd.read_csv(url, error_bad_lines=False)\n",
    "l_hombres = df_hombres['nombre'].to_list()"
   ]
  },
  {
   "cell_type": "code",
   "execution_count": 24,
   "metadata": {},
   "outputs": [],
   "source": [
    "l_hombres = [nom.lower() for nom in l_hombres]"
   ]
  },
  {
   "cell_type": "code",
   "execution_count": 25,
   "metadata": {},
   "outputs": [],
   "source": [
    "l_hombres= l_hombres+['fcojavier']"
   ]
  },
  {
   "cell_type": "code",
   "execution_count": 26,
   "metadata": {},
   "outputs": [],
   "source": [
    "#aplicar sexo\n",
    "df_ventas['client_gender'] = df_ventas['client_name'].apply(lambda x: \n",
    "                            'F' if unidecode.unidecode(\n",
    "                                    str(x).replace(\" \", \"\").lower()) in l_mujeres\n",
    "                            else 'M' if unidecode.unidecode(\n",
    "                                str(x).replace(\" \", \"\").lower())  in l_hombres\n",
    "                            else 'F' if unidecode.unidecode(\n",
    "                                str(x).split(\" \")[0].lower())  in l_mujeres\n",
    "                            else 'M' if unidecode.unidecode(\n",
    "                                str(x).split(\" \")[0].lower())  in l_hombres\n",
    "\n",
    "                            else 'N/A')"
   ]
  },
  {
   "cell_type": "code",
   "execution_count": 27,
   "metadata": {},
   "outputs": [
    {
     "data": {
      "text/plain": [
       "F      663\n",
       "M      166\n",
       "N/A     23\n",
       "Name: client_gender, dtype: int64"
      ]
     },
     "execution_count": 27,
     "metadata": {},
     "output_type": "execute_result"
    }
   ],
   "source": [
    "#ver que sale\n",
    "df_ventas['client_gender'].value_counts() # A MEJORRAR"
   ]
  },
  {
   "cell_type": "code",
   "execution_count": 28,
   "metadata": {},
   "outputs": [
    {
     "data": {
      "text/plain": [
       "55                  chinwe\n",
       "65              herguedas,\n",
       "66        notariaserrano19\n",
       "76       impulsandolab,s.l\n",
       "104         beaaccemmurcia\n",
       "311         farmacialaluna\n",
       "316                herrera\n",
       "321                 gandou\n",
       "331                   none\n",
       "389                  durga\n",
       "408                   none\n",
       "412                   none\n",
       "419                   none\n",
       "428       laposadademanolo\n",
       "455                   none\n",
       "474            ventasorteo\n",
       "483              ventajose\n",
       "507                   none\n",
       "574                 clavis\n",
       "585    herbolariosalamanca\n",
       "757               vinuales\n",
       "803                   none\n",
       "846                   saez\n",
       "Name: client_name, dtype: object"
      ]
     },
     "execution_count": 28,
     "metadata": {},
     "output_type": "execute_result"
    }
   ],
   "source": [
    "df_ventas[df_ventas['client_gender'] == 'N/A'\n",
    "         ]['client_name'].apply(lambda x: unidecode.unidecode(str(x).replace(\" \", \"\").lower()))"
   ]
  },
  {
   "cell_type": "markdown",
   "metadata": {},
   "source": [
    "## METER DONACIONES"
   ]
  },
  {
   "cell_type": "code",
   "execution_count": 29,
   "metadata": {},
   "outputs": [
    {
     "data": {
      "text/plain": [
       "array(['Shopify', 'Contoan'], dtype=object)"
      ]
     },
     "execution_count": 29,
     "metadata": {},
     "output_type": "execute_result"
    }
   ],
   "source": [
    "df_ventas['origin'].unique()"
   ]
  },
  {
   "cell_type": "code",
   "execution_count": 30,
   "metadata": {},
   "outputs": [],
   "source": [
    "def don(x):\n",
    "    total_price = x['total_price']\n",
    "    subtotal_price = x['subtotal_price']\n",
    "    fecha = str(x['creation_date']).split(' ')[0]\n",
    "    origin = x['origin']\n",
    "    don = 0.0\n",
    "    if '2020-11-01' < fecha and origin == \"Shopify\":\n",
    "        if total_price < 40:\n",
    "            don = total_price - subtotal_price - 5.50\n",
    "        else:\n",
    "            don = total_price - subtotal_price\n",
    "            \n",
    "    return don\n",
    "\n",
    "df_ventas['donation'] = df_ventas.apply(lambda x: don(x),axis=1)"
   ]
  },
  {
   "cell_type": "code",
   "execution_count": 31,
   "metadata": {},
   "outputs": [],
   "source": [
    "df_ventas['donation'] = df_ventas.apply(lambda x: don(x),axis=1)"
   ]
  },
  {
   "cell_type": "code",
   "execution_count": 32,
   "metadata": {},
   "outputs": [
    {
     "data": {
      "text/plain": [
       "227.42999999999998"
      ]
     },
     "execution_count": 32,
     "metadata": {},
     "output_type": "execute_result"
    }
   ],
   "source": [
    "df_ventas['donation'].sum()"
   ]
  },
  {
   "cell_type": "markdown",
   "metadata": {},
   "source": [
    "## ERROR EN PROVINCE"
   ]
  },
  {
   "cell_type": "code",
   "execution_count": 33,
   "metadata": {},
   "outputs": [],
   "source": [
    "import requests"
   ]
  },
  {
   "cell_type": "code",
   "execution_count": 34,
   "metadata": {},
   "outputs": [],
   "source": [
    "shop_url = os.environ['SHOPIFY_ACCESS_URL']\n",
    "dates = ['2019-01-01T00:15:47-04:00','2020-01-01T00:15:47-04:00',\n",
    "         '2020-05-01T00:15:47-04:00','2020-12-10T00:15:47-04:00', '2021-01-10T00:15:47-04:00']\n",
    "l_orders = []\n",
    "\n",
    "for date_min,date_max in zip(dates[:-1],dates[1:]):\n",
    "    orders_url = shop_url+'/orders.json'\n",
    "    r = requests.get(orders_url,\n",
    "                 params={\n",
    "                        'limit':250,\n",
    "                        'status':'any',\n",
    "                         'created_at_max':date_max,\n",
    "                         'created_at_min':date_min\n",
    "                        })\n",
    "    orders = pd.DataFrame(r.json()['orders'])\n",
    "    l_orders.append(orders)\n",
    "df_orders = pd.concat(l_orders,axis=0).reset_index().drop_duplicates(subset=['id'])"
   ]
  },
  {
   "cell_type": "code",
   "execution_count": 35,
   "metadata": {},
   "outputs": [],
   "source": [
    "df_orders['province_2'] = df_orders['billing_address'].apply(lambda x: x['province'])\n",
    "df_orders['order_id'] = df_orders['id'].apply(str)\n",
    "df_ventas['order_id'] = df_ventas['order_id'].apply(str)\n",
    "df_ventas = pd.merge(df_ventas,df_orders[['order_id','province_2']],on='order_id',how='left')\n",
    "\n",
    "df_ventas['province'] = df_ventas['province_2'] \n",
    "df_ventas = df_ventas.drop('province_2',axis=1)"
   ]
  },
  {
   "cell_type": "code",
   "execution_count": 36,
   "metadata": {},
   "outputs": [
    {
     "data": {
      "text/plain": [
       "'navidadCode'"
      ]
     },
     "execution_count": 36,
     "metadata": {},
     "output_type": "execute_result"
    }
   ],
   "source": [
    "cols = list(df_ventas.columns)\n",
    "cols.pop(cols.index('to'))\n",
    "cols.pop(cols.index('message'))\n",
    "cols.pop(cols.index('navidadCode'))"
   ]
  },
  {
   "cell_type": "code",
   "execution_count": 37,
   "metadata": {},
   "outputs": [],
   "source": [
    "df_ventas = df_ventas[cols]"
   ]
  },
  {
   "cell_type": "code",
   "execution_count": 38,
   "metadata": {},
   "outputs": [
    {
     "data": {
      "text/plain": [
       "(852, 54)"
      ]
     },
     "execution_count": 38,
     "metadata": {},
     "output_type": "execute_result"
    }
   ],
   "source": [
    "df_ventas.shape"
   ]
  },
  {
   "cell_type": "code",
   "execution_count": 39,
   "metadata": {},
   "outputs": [
    {
     "data": {
      "text/plain": [
       "Madrid        427\n",
       "Barcelona      45\n",
       "Valladolid     42\n",
       "Valencia       30\n",
       "Málaga         22\n",
       "Name: province, dtype: int64"
      ]
     },
     "execution_count": 39,
     "metadata": {},
     "output_type": "execute_result"
    }
   ],
   "source": [
    "df_ventas['province'].value_counts().head()"
   ]
  },
  {
   "cell_type": "markdown",
   "metadata": {},
   "source": [
    "## ACTUALIZAR FIREBAE"
   ]
  },
  {
   "cell_type": "code",
   "execution_count": 40,
   "metadata": {},
   "outputs": [],
   "source": [
    "#l_ship_det = ['ship_'+a for a in list(df_ord['shipping_address'][0].keys())]\n",
    "#df_ord['ship_zip']=df_ord['ship_zip'].fillna(value='')\n",
    "#def update_firebase(x):\n",
    "#    order_id = x['order_id']\n",
    "#    if order_id==None :\n",
    "#        return True\n",
    "#    else:\n",
    "#        order_id = int(order_id)\n",
    "#    ship_zip=df_ord[df_ord['id']==order_id]['ship_zip'].values[0]\n",
    "#    fire_id=x['id']\n",
    "#    #print(x['creation_date'])\n",
    "#    #a=db.collection(u'Nikarit_Sales').document(x['id']).update({'zip':ship_zip})\n",
    "##df_ventas[df_ventas['origin']!='Contoan'].apply(lambda x: update_firebase(x),axis=1)"
   ]
  },
  {
   "cell_type": "markdown",
   "metadata": {},
   "source": [
    "## CORREGIR SUBTOTAL Y IVA"
   ]
  },
  {
   "cell_type": "code",
   "execution_count": 41,
   "metadata": {},
   "outputs": [],
   "source": [
    "def iva(x):\n",
    "    iva = x['total_tax']\n",
    "    \n",
    "    #Corregir ventas de contoan\n",
    "    if x['origin'] == 'Contoan':\n",
    "        iva = x['total_price']*(1-1/1.21)\n",
    "    return iva\n",
    "\n",
    "df_ventas[\"total_tax_2\"] = df_ventas.apply(lambda x: iva(x),axis=1)\n",
    "df_ventas[\"total_tax\"] = df_ventas[\"total_tax_2\"]\n",
    "df_ventas = df_ventas.drop('total_tax_2',axis=1)"
   ]
  },
  {
   "cell_type": "code",
   "execution_count": 42,
   "metadata": {},
   "outputs": [],
   "source": [
    "def subtotal(x):\n",
    "    subtotal = x['subtotal_price']\n",
    "    \n",
    "    #Corregir ventas de contoan\n",
    "    if x['origin'] == 'Contoan':\n",
    "        subtotal = x['total_price']\n",
    "    return subtotal\n",
    "\n",
    "df_ventas[\"subtotal_price_2\"] = df_ventas.apply(lambda x: subtotal(x),axis=1)\n",
    "df_ventas[\"subtotal_price\"] = df_ventas[\"subtotal_price_2\"]\n",
    "df_ventas = df_ventas.drop('subtotal_price_2',axis=1)"
   ]
  },
  {
   "cell_type": "code",
   "execution_count": 43,
   "metadata": {},
   "outputs": [
    {
     "name": "stderr",
     "output_type": "stream",
     "text": [
      "1it [00:07,  7.33s/it]\n"
     ]
    }
   ],
   "source": [
    "#subir a bigquery\n",
    "table_id = \"contoan.sales\"\n",
    "\n",
    "pandas_gbq.to_gbq(df_ventas, table_id, project_id=client.project, if_exists='replace')"
   ]
  },
  {
   "cell_type": "markdown",
   "metadata": {},
   "source": [
    "## TRANSFORM BOOLEAN"
   ]
  },
  {
   "cell_type": "code",
   "execution_count": 263,
   "metadata": {},
   "outputs": [],
   "source": [
    "sql = \"\"\"\n",
    "CREATE OR REPLACE TABLE `oan-nikarit.contoan.sales` AS\n",
    "SELECT\n",
    "  * EXCEPT (buyer_accepts_marketing,taxes_included),\n",
    "  CAST(buyer_accepts_marketing AS BOOL) AS buyer_accepts_marketing,\n",
    "  CAST(taxes_included AS BOOL) AS taxes_included\n",
    "FROM\n",
    "  `oan-nikarit.contoan.sales`\n",
    "\"\"\""
   ]
  },
  {
   "cell_type": "code",
   "execution_count": 264,
   "metadata": {},
   "outputs": [
    {
     "data": {
      "text/plain": [
       "<google.cloud.bigquery.job.QueryJob at 0x7f9c1b50a280>"
      ]
     },
     "execution_count": 264,
     "metadata": {},
     "output_type": "execute_result"
    }
   ],
   "source": [
    "client.query(sql)"
   ]
  },
  {
   "cell_type": "code",
   "execution_count": null,
   "metadata": {},
   "outputs": [],
   "source": []
  },
  {
   "cell_type": "markdown",
   "metadata": {},
   "source": [
    "## Cuentas"
   ]
  },
  {
   "cell_type": "code",
   "execution_count": 7,
   "metadata": {},
   "outputs": [],
   "source": [
    "#get all the collection\n",
    "col_query = db.collection('Accounts').stream()"
   ]
  },
  {
   "cell_type": "code",
   "execution_count": 8,
   "metadata": {},
   "outputs": [],
   "source": [
    "#save it in a list of dictionaries\n",
    "cuentas = []\n",
    "for acc in col_query:\n",
    "    cuentas.append(acc.to_dict())"
   ]
  },
  {
   "cell_type": "code",
   "execution_count": 9,
   "metadata": {},
   "outputs": [],
   "source": [
    "#convert to dataframe\n",
    "df_accounts = pd.DataFrame(cuentas)"
   ]
  },
  {
   "cell_type": "code",
   "execution_count": 34,
   "metadata": {},
   "outputs": [],
   "source": [
    "df_cuentas = df_accounts[['id','name','number','type','user_id']].copy()"
   ]
  },
  {
   "cell_type": "code",
   "execution_count": 35,
   "metadata": {},
   "outputs": [],
   "source": [
    "with open('fr.json', 'r') as f:\n",
    "    trads = json.load(f)"
   ]
  },
  {
   "cell_type": "code",
   "execution_count": 36,
   "metadata": {},
   "outputs": [],
   "source": [
    "df_cuentas['name_fr'] = df_cuentas['name'].apply(lambda x: trads[x])"
   ]
  },
  {
   "cell_type": "code",
   "execution_count": 37,
   "metadata": {},
   "outputs": [
    {
     "data": {
      "text/html": [
       "<div>\n",
       "<style scoped>\n",
       "    .dataframe tbody tr th:only-of-type {\n",
       "        vertical-align: middle;\n",
       "    }\n",
       "\n",
       "    .dataframe tbody tr th {\n",
       "        vertical-align: top;\n",
       "    }\n",
       "\n",
       "    .dataframe thead th {\n",
       "        text-align: right;\n",
       "    }\n",
       "</style>\n",
       "<table border=\"1\" class=\"dataframe\">\n",
       "  <thead>\n",
       "    <tr style=\"text-align: right;\">\n",
       "      <th></th>\n",
       "      <th>id</th>\n",
       "      <th>name</th>\n",
       "      <th>number</th>\n",
       "      <th>type</th>\n",
       "      <th>user_id</th>\n",
       "      <th>name_fr</th>\n",
       "    </tr>\n",
       "  </thead>\n",
       "  <tbody>\n",
       "  </tbody>\n",
       "</table>\n",
       "</div>"
      ],
      "text/plain": [
       "Empty DataFrame\n",
       "Columns: [id, name, number, type, user_id, name_fr]\n",
       "Index: []"
      ]
     },
     "execution_count": 37,
     "metadata": {},
     "output_type": "execute_result"
    }
   ],
   "source": [
    "df_cuentas[df_cuentas['name_fr'].isnull()]"
   ]
  },
  {
   "cell_type": "code",
   "execution_count": 40,
   "metadata": {},
   "outputs": [
    {
     "name": "stderr",
     "output_type": "stream",
     "text": [
      "1it [00:05,  5.93s/it]\n"
     ]
    }
   ],
   "source": [
    "table_id = \"{}.accounts\".format(dataset.dataset_id)\n",
    "\n",
    "pandas_gbq.to_gbq(df_cuentas, table_id, project_id=client.project, if_exists='replace')"
   ]
  },
  {
   "cell_type": "markdown",
   "metadata": {},
   "source": [
    "### PROYECTOS"
   ]
  },
  {
   "cell_type": "code",
   "execution_count": 41,
   "metadata": {},
   "outputs": [],
   "source": [
    "#get all the collection\n",
    "col_query = db.collection('Projects').stream()"
   ]
  },
  {
   "cell_type": "code",
   "execution_count": 42,
   "metadata": {},
   "outputs": [],
   "source": [
    "#save it in a list of dictionaries\n",
    "projects = []\n",
    "for acc in col_query:\n",
    "    projects.append(acc.to_dict())"
   ]
  },
  {
   "cell_type": "code",
   "execution_count": 43,
   "metadata": {},
   "outputs": [],
   "source": [
    "#convert to dataframe\n",
    "df_projects = pd.DataFrame(projects)"
   ]
  },
  {
   "cell_type": "code",
   "execution_count": 44,
   "metadata": {},
   "outputs": [],
   "source": [
    "df_projectos=df_projects[['id','title','description','department','type','project_id','intervention_id']]"
   ]
  },
  {
   "cell_type": "code",
   "execution_count": 45,
   "metadata": {},
   "outputs": [],
   "source": [
    "df_projectos.columns = ['id', 'name', 'description', 'department', 'type', 'project_id',\n",
    "       'intervention_id']"
   ]
  },
  {
   "cell_type": "code",
   "execution_count": 46,
   "metadata": {},
   "outputs": [
    {
     "name": "stderr",
     "output_type": "stream",
     "text": [
      "1it [00:03,  3.59s/it]\n"
     ]
    }
   ],
   "source": [
    "table_id = \"{}.projects\".format(dataset.dataset_id)\n",
    "\n",
    "pandas_gbq.to_gbq(df_projectos, table_id, project_id=client.project, if_exists='replace')"
   ]
  },
  {
   "cell_type": "markdown",
   "metadata": {},
   "source": [
    "### USUARIOS"
   ]
  },
  {
   "cell_type": "code",
   "execution_count": 50,
   "metadata": {},
   "outputs": [],
   "source": [
    "#get all the collection\n",
    "col_query = db.collection('Users').stream()"
   ]
  },
  {
   "cell_type": "code",
   "execution_count": 51,
   "metadata": {},
   "outputs": [],
   "source": [
    "#save it in a list of dictionaries\n",
    "usuarios = []\n",
    "for acc in col_query:\n",
    "    usuarios.append(acc.to_dict())"
   ]
  },
  {
   "cell_type": "code",
   "execution_count": 52,
   "metadata": {},
   "outputs": [],
   "source": [
    "#convert to dataframe\n",
    "df_usuarios = pd.DataFrame(usuarios)"
   ]
  },
  {
   "cell_type": "code",
   "execution_count": 53,
   "metadata": {},
   "outputs": [],
   "source": [
    "df_users = df_usuarios[['id','name','last_name','email']]"
   ]
  },
  {
   "cell_type": "code",
   "execution_count": 54,
   "metadata": {},
   "outputs": [],
   "source": [
    "df_users_final = pd.merge(df_users,df_cuentas[['number','user_id']],left_on='id',right_on='user_id',how='left')"
   ]
  },
  {
   "cell_type": "code",
   "execution_count": 55,
   "metadata": {},
   "outputs": [],
   "source": [
    "df_users = df_users_final[['id','name','last_name','email','number']]"
   ]
  },
  {
   "cell_type": "code",
   "execution_count": 56,
   "metadata": {},
   "outputs": [],
   "source": [
    "df_users.columns = ['id','name','last_name','email','cuenta']"
   ]
  },
  {
   "cell_type": "code",
   "execution_count": 58,
   "metadata": {},
   "outputs": [
    {
     "name": "stderr",
     "output_type": "stream",
     "text": [
      "1it [00:06,  6.33s/it]\n"
     ]
    }
   ],
   "source": [
    "table_id = \"{}.users\".format(dataset.dataset_id)\n",
    "\n",
    "pandas_gbq.to_gbq(df_users, table_id, project_id=client.project, if_exists='replace')"
   ]
  },
  {
   "cell_type": "markdown",
   "metadata": {},
   "source": [
    "##### september 2020 backup"
   ]
  },
  {
   "cell_type": "code",
   "execution_count": 67,
   "metadata": {},
   "outputs": [
    {
     "name": "stderr",
     "output_type": "stream",
     "text": [
      "1it [00:04,  4.48s/it]\n"
     ]
    }
   ],
   "source": [
    "table_id = \"{}.accounting_202009\".format(dataset.dataset_id)\n",
    "\n",
    "pandas_gbq.to_gbq(df, table_id, project_id=client.project, if_exists='replace')"
   ]
  },
  {
   "cell_type": "markdown",
   "metadata": {},
   "source": [
    "##### Jan 2021 backup"
   ]
  },
  {
   "cell_type": "code",
   "execution_count": 351,
   "metadata": {},
   "outputs": [],
   "source": [
    "sql = \"\"\"\n",
    "CREATE TABLE AS `oan-nikarit.contoan.accounting_20210110`\n",
    "AS\n",
    "SELECT *\n",
    "FROM `oan-nikarit.contoan.accounting`\n",
    "\"\"\""
   ]
  },
  {
   "cell_type": "code",
   "execution_count": 352,
   "metadata": {},
   "outputs": [
    {
     "data": {
      "text/plain": [
       "<google.cloud.bigquery.job.QueryJob at 0x7f9c18b958b0>"
      ]
     },
     "execution_count": 352,
     "metadata": {},
     "output_type": "execute_result"
    }
   ],
   "source": [
    "client.query(sql)"
   ]
  },
  {
   "cell_type": "code",
   "execution_count": null,
   "metadata": {},
   "outputs": [],
   "source": []
  }
 ],
 "metadata": {
  "kernelspec": {
   "display_name": "Python 3",
   "language": "python",
   "name": "python3"
  },
  "language_info": {
   "codemirror_mode": {
    "name": "ipython",
    "version": 3
   },
   "file_extension": ".py",
   "mimetype": "text/x-python",
   "name": "python",
   "nbconvert_exporter": "python",
   "pygments_lexer": "ipython3",
   "version": "3.8.3"
  }
 },
 "nbformat": 4,
 "nbformat_minor": 2
}

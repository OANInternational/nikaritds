{
 "cells": [
  {
   "cell_type": "code",
   "execution_count": 1,
   "metadata": {},
   "outputs": [],
   "source": [
    "#to open cred files\n",
    "import os\n",
    "import yaml\n",
    "#cleaning and operations\n",
    "import pandas as pd\n",
    "import numpy as np"
   ]
  },
  {
   "cell_type": "code",
   "execution_count": 2,
   "metadata": {},
   "outputs": [],
   "source": [
    "#bigquery\n",
    "import pandas_gbq\n",
    "from google.cloud import bigquery"
   ]
  },
  {
   "cell_type": "code",
   "execution_count": 3,
   "metadata": {},
   "outputs": [],
   "source": [
    "## got to service accounts in google cloud in project OAN-Nikarit and download json file\n",
    "os.environ['GOOGLE_APPLICATION_CREDENTIALS']='/Users/daniel/OAN/credentials/bigquery_oan_nikarit.json'"
   ]
  },
  {
   "cell_type": "code",
   "execution_count": 4,
   "metadata": {},
   "outputs": [],
   "source": [
    "#FIREBASE\n",
    "import firebase_admin\n",
    "#Firbease (pip install firebase_admin)\n",
    "from firebase_admin import credentials\n",
    "from firebase_admin import firestore"
   ]
  },
  {
   "cell_type": "code",
   "execution_count": 10,
   "metadata": {},
   "outputs": [],
   "source": [
    "filename='/Users/daniel/OAN/credentials/firebase_oan-nikarit.json'"
   ]
  },
  {
   "cell_type": "code",
   "execution_count": 11,
   "metadata": {},
   "outputs": [],
   "source": [
    "#OPEN CONECTION TO FIREBASE\n",
    "cred = credentials.Certificate(filename)\n",
    "firebase_admin.initialize_app(cred)\n",
    "\n",
    "db = firestore.client()"
   ]
  },
  {
   "cell_type": "markdown",
   "metadata": {},
   "source": [
    "## Accounting table"
   ]
  },
  {
   "cell_type": "markdown",
   "metadata": {},
   "source": [
    "### GET DATA"
   ]
  },
  {
   "cell_type": "code",
   "execution_count": 12,
   "metadata": {},
   "outputs": [],
   "source": [
    "#get all the collection\n",
    "col_query = db.collection('Accounting').stream()"
   ]
  },
  {
   "cell_type": "code",
   "execution_count": 13,
   "metadata": {},
   "outputs": [],
   "source": [
    "#save it in a list of dictionaries\n",
    "accounts = []\n",
    "for acc in col_query:\n",
    "    accounts.append(acc.to_dict())"
   ]
  },
  {
   "cell_type": "code",
   "execution_count": 14,
   "metadata": {},
   "outputs": [],
   "source": [
    "#convert to dataframe\n",
    "accounting = pd.DataFrame(accounts)"
   ]
  },
  {
   "cell_type": "code",
   "execution_count": 16,
   "metadata": {},
   "outputs": [],
   "source": [
    "#nulls. size and datatype\n",
    "accounting.info()"
   ]
  },
  {
   "cell_type": "code",
   "execution_count": null,
   "metadata": {},
   "outputs": [],
   "source": [
    "#nulls heatmap - import seaborn as sns\n",
    "#sns.heatmap(accounting.isna())"
   ]
  },
  {
   "cell_type": "markdown",
   "metadata": {},
   "source": [
    "### CLEAN DATA"
   ]
  },
  {
   "cell_type": "code",
   "execution_count": 23,
   "metadata": {},
   "outputs": [],
   "source": [
    "#lets see how it shows\n",
    "#accounting.head()"
   ]
  },
  {
   "cell_type": "markdown",
   "metadata": {},
   "source": [
    "#### convert execution to isostring"
   ]
  },
  {
   "cell_type": "code",
   "execution_count": 17,
   "metadata": {},
   "outputs": [],
   "source": [
    "def clean_execution(x):\n",
    "    if(len(x['execution_date'])<15):\n",
    "        doc_id = x['id']\n",
    "        exec_date=x['execution_date']+'T14:14:58.593Z'\n",
    "        print(exec_date)\n",
    "        print(len(x['execution_date']))\n",
    "        #upload to firebase if whished\n",
    "        #a=db.collection(u'Accounting').document(doc_id).update({'execution_date':exec_date})\n",
    "        \n",
    "        return exec_date\n",
    "    else:\n",
    "        return x['execution_date']\n",
    "        "
   ]
  },
  {
   "cell_type": "code",
   "execution_count": 18,
   "metadata": {},
   "outputs": [],
   "source": [
    "accounting['execution_date']=accounting.apply(lambda x: clean_execution(x) ,axis=1)"
   ]
  },
  {
   "cell_type": "markdown",
   "metadata": {},
   "source": [
    "##### clean VAT and replace nan with 0"
   ]
  },
  {
   "cell_type": "code",
   "execution_count": 19,
   "metadata": {},
   "outputs": [],
   "source": [
    "def clean_vat_amount(x):\n",
    "    doc_id = x['id']\n",
    "    amount=x['amount']\n",
    "    origin = x['origin']\n",
    "    if origin =='script_dani':\n",
    "        if x['vat']>0:\n",
    "            vat=21\n",
    "        else:\n",
    "            vat=0\n",
    "        #a=db.collection(u'Accounting').document(doc_id).update({'vat':vat})\n",
    "    else:\n",
    "        vat=x['vat']\n",
    "        if not(vat >=0):\n",
    "            vat=0\n",
    "    vat_amount=amount*(1-1/(1+vat/100))\n",
    "\n",
    "    #a=db.collection(u'Accounting').document(doc_id).update({'vat_amount':vat_amount})\n",
    "\n",
    "    return pd.Series({'vat':vat,'vat_amount':vat_amount})"
   ]
  },
  {
   "cell_type": "code",
   "execution_count": 20,
   "metadata": {},
   "outputs": [],
   "source": [
    "accounting[['vat','vat_amount']] = accounting.apply(lambda x: clean_vat_amount(x),axis=1)"
   ]
  },
  {
   "cell_type": "markdown",
   "metadata": {},
   "source": [
    "###### convert dates to datetime"
   ]
  },
  {
   "cell_type": "code",
   "execution_count": 21,
   "metadata": {},
   "outputs": [],
   "source": [
    "#utc=True important if dates are in diferent formats\n",
    "accounting['creation_date'] = pd.to_datetime(accounting['creation_date'],utc=True)\n",
    "accounting['execution_date'] = pd.to_datetime(accounting['execution_date'],utc=True)"
   ]
  },
  {
   "cell_type": "code",
   "execution_count": 58,
   "metadata": {},
   "outputs": [],
   "source": [
    "def getimages(x):\n",
    "    if(len(x)==0):\n",
    "        return ''\n",
    "    elif('download_url' in x[0].keys()):\n",
    "        download_url = x[0]['download_url']\n",
    "        if(download_url == None):\n",
    "            return ''\n",
    "        else:\n",
    "            return download_url\n",
    "    else:\n",
    "        return ''"
   ]
  },
  {
   "cell_type": "code",
   "execution_count": 59,
   "metadata": {},
   "outputs": [],
   "source": [
    "accounting['receipt']=accounting.images.apply(lambda x: getimages(x))"
   ]
  },
  {
   "cell_type": "markdown",
   "metadata": {},
   "source": [
    "##### double check"
   ]
  },
  {
   "cell_type": "code",
   "execution_count": 61,
   "metadata": {},
   "outputs": [
    {
     "name": "stdout",
     "output_type": "stream",
     "text": [
      "<class 'pandas.core.frame.DataFrame'>\n",
      "RangeIndex: 1438 entries, 0 to 1437\n",
      "Data columns (total 21 columns):\n",
      " #   Column          Non-Null Count  Dtype              \n",
      "---  ------          --------------  -----              \n",
      " 0   creation_date   1438 non-null   datetime64[ns, UTC]\n",
      " 1   concept         1438 non-null   object             \n",
      " 2   description     1422 non-null   object             \n",
      " 3   user_in_charge  1438 non-null   object             \n",
      " 4   intervention    1438 non-null   object             \n",
      " 5   amount          1438 non-null   float64            \n",
      " 6   account_id      1438 non-null   object             \n",
      " 7   phase           409 non-null    object             \n",
      " 8   project         1438 non-null   object             \n",
      " 9   id              1438 non-null   object             \n",
      " 10  creator_user    1438 non-null   object             \n",
      " 11  place           1438 non-null   object             \n",
      " 12  images          1438 non-null   object             \n",
      " 13  target_id       1438 non-null   object             \n",
      " 14  vat             1438 non-null   float64            \n",
      " 15  vat_amount      1438 non-null   float64            \n",
      " 16  type            1438 non-null   object             \n",
      " 17  origin          1438 non-null   object             \n",
      " 18  execution_date  1438 non-null   datetime64[ns, UTC]\n",
      " 19  code            1438 non-null   int64              \n",
      " 20  receipt         1438 non-null   object             \n",
      "dtypes: datetime64[ns, UTC](2), float64(3), int64(1), object(15)\n",
      "memory usage: 236.0+ KB\n"
     ]
    }
   ],
   "source": [
    "accounting.info()"
   ]
  },
  {
   "cell_type": "markdown",
   "metadata": {},
   "source": [
    "### select columns"
   ]
  },
  {
   "cell_type": "code",
   "execution_count": 62,
   "metadata": {},
   "outputs": [],
   "source": [
    "#and the order whe want to upload to bigquery\n",
    "df = accounting[['concept', 'place', 'creation_date', 'vat', 'description', 'amount',\n",
    "       'id', 'phase', 'creator_user', 'execution_date',\n",
    "       'user_in_charge', 'origin', 'account_id', 'project', 'code', 'type',\n",
    "       'intervention', 'target_id', 'vat_amount', 'receipt']]"
   ]
  },
  {
   "cell_type": "markdown",
   "metadata": {},
   "source": [
    "## upload to BIGQUERY"
   ]
  },
  {
   "cell_type": "code",
   "execution_count": 63,
   "metadata": {},
   "outputs": [],
   "source": [
    "client = bigquery.Client()"
   ]
  },
  {
   "cell_type": "code",
   "execution_count": 64,
   "metadata": {},
   "outputs": [],
   "source": [
    "dataset_id = \"{}.contoan\".format(client.project)"
   ]
  },
  {
   "cell_type": "code",
   "execution_count": 65,
   "metadata": {},
   "outputs": [],
   "source": [
    "dataset = bigquery.Dataset(dataset_id)"
   ]
  },
  {
   "cell_type": "code",
   "execution_count": 66,
   "metadata": {},
   "outputs": [
    {
     "name": "stderr",
     "output_type": "stream",
     "text": [
      "1it [00:04,  4.31s/it]\n"
     ]
    }
   ],
   "source": [
    "table_id = \"{}.accounting\".format(dataset.dataset_id)\n",
    "\n",
    "pandas_gbq.to_gbq(df, table_id, project_id=client.project, if_exists='replace')"
   ]
  },
  {
   "cell_type": "markdown",
   "metadata": {},
   "source": [
    "##### september 2020 backup"
   ]
  },
  {
   "cell_type": "code",
   "execution_count": 67,
   "metadata": {},
   "outputs": [
    {
     "name": "stderr",
     "output_type": "stream",
     "text": [
      "1it [00:04,  4.48s/it]\n"
     ]
    }
   ],
   "source": [
    "table_id = \"{}.accounting_202009\".format(dataset.dataset_id)\n",
    "\n",
    "pandas_gbq.to_gbq(df, table_id, project_id=client.project, if_exists='replace')"
   ]
  },
  {
   "cell_type": "markdown",
   "metadata": {},
   "source": [
    "## get data"
   ]
  },
  {
   "cell_type": "code",
   "execution_count": null,
   "metadata": {},
   "outputs": [],
   "source": [
    "sql = \"\"\"\n",
    "    SELECT *\n",
    "    FROM `oan-nikarit.contoan.accounting`\n",
    "    LIMIT 100\n",
    "\"\"\"\n",
    "\n",
    "# Run a Standard SQL query using the environment's default project\n",
    "df = pd.read_gbq(sql, dialect='standard')"
   ]
  },
  {
   "cell_type": "markdown",
   "metadata": {},
   "source": [
    "### SUBIR VENTAS"
   ]
  },
  {
   "cell_type": "markdown",
   "metadata": {},
   "source": [
    "#### get data"
   ]
  },
  {
   "cell_type": "code",
   "execution_count": null,
   "metadata": {},
   "outputs": [],
   "source": [
    "col_query = db.collection('Nikarit_Sales').stream()"
   ]
  },
  {
   "cell_type": "code",
   "execution_count": null,
   "metadata": {},
   "outputs": [],
   "source": [
    "ventas = []\n",
    "for acc in col_query:\n",
    "    ventas.append(acc.to_dict())"
   ]
  },
  {
   "cell_type": "code",
   "execution_count": null,
   "metadata": {},
   "outputs": [],
   "source": [
    "df_ventas = pd.DataFrame(ventas)"
   ]
  },
  {
   "cell_type": "markdown",
   "metadata": {},
   "source": [
    "### view"
   ]
  },
  {
   "cell_type": "code",
   "execution_count": null,
   "metadata": {},
   "outputs": [],
   "source": [
    "df_ventas.info()"
   ]
  },
  {
   "cell_type": "markdown",
   "metadata": {},
   "source": [
    "#### transform data"
   ]
  },
  {
   "cell_type": "code",
   "execution_count": null,
   "metadata": {},
   "outputs": [],
   "source": [
    "cambios = ['subtotal_price','balsamo_unit_price','packContigo_unit_price','crema_unit_price','packHidra_unit_price',\n",
    "          'manteca_unit_price','buyer_accepts_marketing']\n",
    "\n",
    "for cambio in cambios:\n",
    "    df_ventas[cambio]=pd.to_numeric(df_ventas[cambio])"
   ]
  },
  {
   "cell_type": "code",
   "execution_count": null,
   "metadata": {},
   "outputs": [],
   "source": [
    "df_ventas['creation_date']=pd.to_datetime(df_ventas['creation_date'],utc=True)\n",
    "df_ventas['close_date']=pd.to_datetime(df_ventas['close_date'],utc=True)"
   ]
  },
  {
   "cell_type": "code",
   "execution_count": 69,
   "metadata": {},
   "outputs": [],
   "source": [
    "#double check\n",
    "df_ventas.info()"
   ]
  },
  {
   "cell_type": "markdown",
   "metadata": {},
   "source": [
    "### METER MUJERES Y HOMBRES"
   ]
  },
  {
   "cell_type": "code",
   "execution_count": null,
   "metadata": {},
   "outputs": [],
   "source": [
    "#client_gender"
   ]
  },
  {
   "cell_type": "code",
   "execution_count": null,
   "metadata": {},
   "outputs": [],
   "source": [
    "#lista de mujeres\n",
    "url = 'https://raw.githubusercontent.com/marcboquet/spanish-names/master/mujeres.csv'\n",
    "df_mujeres = pd.read_csv(url, error_bad_lines=False)\n",
    "l_mujeres = df_mujeres['nombre'].to_list()"
   ]
  },
  {
   "cell_type": "code",
   "execution_count": null,
   "metadata": {},
   "outputs": [],
   "source": [
    "l_mujeres = [str(nom).lower() for nom in l_mujeres]"
   ]
  },
  {
   "cell_type": "code",
   "execution_count": null,
   "metadata": {},
   "outputs": [],
   "source": [
    "#lista de hombres\n",
    "url = 'https://raw.githubusercontent.com/marcboquet/spanish-names/master/hombres.csv'\n",
    "df_hombres = pd.read_csv(url, error_bad_lines=False)\n",
    "l_hombres = df_hombres['nombre'].to_list()"
   ]
  },
  {
   "cell_type": "code",
   "execution_count": null,
   "metadata": {},
   "outputs": [],
   "source": [
    "l_hombres = [nom.lower() for nom in l_hombres]"
   ]
  },
  {
   "cell_type": "code",
   "execution_count": null,
   "metadata": {},
   "outputs": [],
   "source": [
    "df_ventas['client_name'].value_counts()"
   ]
  },
  {
   "cell_type": "code",
   "execution_count": null,
   "metadata": {},
   "outputs": [],
   "source": [
    "#aplicar sexo\n",
    "df_ventas['client_gender'] = df_ventas.apply(lambda x: \n",
    "                            'F' if unidecode.unidecode(\n",
    "                                    str(x['client_name']).replace(\" \", \"\").lower()) in l_mujeres\n",
    "                            else 'M' if unidecode.unidecode(\n",
    "                                str(x['client_name']).replace(\" \", \"\").lower())  in l_hombres\n",
    "                            else 'F' if unidecode.unidecode(\n",
    "                                str(x['client_name']).split(\" \")[0].lower())  in l_mujeres\n",
    "                            else 'M' if unidecode.unidecode(\n",
    "                                str(x['client_name']).split(\" \")[0].lower())  in l_hombres\n",
    "\n",
    "                            else 'N/A' , axis =1)"
   ]
  },
  {
   "cell_type": "code",
   "execution_count": null,
   "metadata": {},
   "outputs": [],
   "source": [
    "#ver que sale\n",
    "df_ventas['client_gender'].value_counts() # A MEJORRAR"
   ]
  },
  {
   "cell_type": "code",
   "execution_count": null,
   "metadata": {},
   "outputs": [],
   "source": [
    "#subir a bigquery\n",
    "table_id = \"contoan.sales\"\n",
    "\n",
    "pandas_gbq.to_gbq(df_ventas, table_id, project_id=client.project, if_exists='replace')"
   ]
  }
 ],
 "metadata": {
  "kernelspec": {
   "display_name": "Python 3",
   "language": "python",
   "name": "python3"
  },
  "language_info": {
   "codemirror_mode": {
    "name": "ipython",
    "version": 3
   },
   "file_extension": ".py",
   "mimetype": "text/x-python",
   "name": "python",
   "nbconvert_exporter": "python",
   "pygments_lexer": "ipython3",
   "version": "3.8.3"
  }
 },
 "nbformat": 4,
 "nbformat_minor": 2
}

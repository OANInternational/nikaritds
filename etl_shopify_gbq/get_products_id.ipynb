{
 "cells": [
  {
   "cell_type": "code",
   "execution_count": 1,
   "metadata": {},
   "outputs": [],
   "source": [
    "import pandas as pd\n",
    "import os\n",
    "import yaml\n",
    "import requests"
   ]
  },
  {
   "cell_type": "code",
   "execution_count": 2,
   "metadata": {},
   "outputs": [
    {
     "data": {
      "text/plain": [
       "True"
      ]
     },
     "execution_count": 2,
     "metadata": {},
     "output_type": "execute_result"
    }
   ],
   "source": [
    "from dotenv import load_dotenv\n",
    "load_dotenv('/Users/daniel/OAN/credentials/contoan/.env')"
   ]
  },
  {
   "cell_type": "code",
   "execution_count": 4,
   "metadata": {},
   "outputs": [],
   "source": [
    "shop_url = os.environ['SHOPIFY_ACCESS_URL']"
   ]
  },
  {
   "cell_type": "code",
   "execution_count": 5,
   "metadata": {},
   "outputs": [],
   "source": [
    "products = shop_url+'/products.json'\n",
    "r = requests.get(products)"
   ]
  },
  {
   "cell_type": "code",
   "execution_count": 7,
   "metadata": {},
   "outputs": [],
   "source": [
    "response = r.json()"
   ]
  },
  {
   "cell_type": "code",
   "execution_count": 9,
   "metadata": {},
   "outputs": [],
   "source": [
    "products = response['products']"
   ]
  },
  {
   "cell_type": "code",
   "execution_count": 11,
   "metadata": {},
   "outputs": [
    {
     "data": {
      "text/plain": [
       "14"
      ]
     },
     "execution_count": 11,
     "metadata": {},
     "output_type": "execute_result"
    }
   ],
   "source": [
    "len(products)"
   ]
  },
  {
   "cell_type": "code",
   "execution_count": 15,
   "metadata": {},
   "outputs": [
    {
     "name": "stdout",
     "output_type": "stream",
     "text": [
      "00 - Edición Especial Día de la Madre\n",
      "00 - Edición Limitada Navidad Nikarit\n",
      "07 - pack \"Imprescindibles\"\n",
      "08 - pack \"Vuelta con estilo\"\n",
      "Bálsamo Labial\n",
      "Bolsita tela wax hecha a mano en Nikki\n",
      "Crema de Manos\n",
      "Donación a OAN International\n",
      "Manteca de karité pura - 100 ml\n",
      "Pack \"La piel más hidratada\"\n",
      "Pack \"Siempre conmigo\"\n",
      "PIES FELICES: Manteca pura+Terrafeet\n",
      "Suscripción de manteca para todos\n",
      "Tote bag\n"
     ]
    }
   ],
   "source": [
    "for prod in products:\n",
    "    print(prod['title'])"
   ]
  },
  {
   "cell_type": "code",
   "execution_count": 13,
   "metadata": {},
   "outputs": [
    {
     "data": {
      "text/plain": [
       "dict_keys(['id', 'title', 'body_html', 'vendor', 'product_type', 'created_at', 'handle', 'updated_at', 'published_at', 'template_suffix', 'status', 'published_scope', 'tags', 'admin_graphql_api_id', 'variants', 'options', 'images', 'image'])"
      ]
     },
     "execution_count": 13,
     "metadata": {},
     "output_type": "execute_result"
    }
   ],
   "source": [
    "products[0].keys()"
   ]
  },
  {
   "cell_type": "code",
   "execution_count": 18,
   "metadata": {},
   "outputs": [
    {
     "data": {
      "text/plain": [
       "6653408215139"
      ]
     },
     "execution_count": 18,
     "metadata": {},
     "output_type": "execute_result"
    }
   ],
   "source": [
    "products[13]['id']"
   ]
  },
  {
   "cell_type": "code",
   "execution_count": 21,
   "metadata": {},
   "outputs": [
    {
     "name": "stdout",
     "output_type": "stream",
     "text": [
      "39624936816739 Alima\n",
      "39624969158755 Bake\n",
      "39624972632163 Fati\n",
      "39624973779043 Ganigui\n",
      "39624975810659 Maello\n",
      "39624976040035 Satou\n",
      "39624976433251 Tanko\n",
      "39624977842275 Zeynab\n",
      "39624991506531 Yerima\n"
     ]
    }
   ],
   "source": [
    "for var in products[13]['variants']:\n",
    "    print(var['id'],var['title'])"
   ]
  }
 ],
 "metadata": {
  "kernelspec": {
   "display_name": "Python 3",
   "language": "python",
   "name": "python3"
  },
  "language_info": {
   "codemirror_mode": {
    "name": "ipython",
    "version": 3
   },
   "file_extension": ".py",
   "mimetype": "text/x-python",
   "name": "python",
   "nbconvert_exporter": "python",
   "pygments_lexer": "ipython3",
   "version": "3.8.3"
  }
 },
 "nbformat": 4,
 "nbformat_minor": 4
}

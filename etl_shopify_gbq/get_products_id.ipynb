{
 "cells": [
  {
   "cell_type": "code",
   "execution_count": 1,
   "metadata": {},
   "outputs": [],
   "source": [
    "import pandas as pd\n",
    "import os\n",
    "import yaml\n",
    "import requests"
   ]
  },
  {
   "cell_type": "code",
   "execution_count": 2,
   "metadata": {},
   "outputs": [
    {
     "data": {
      "text/plain": [
       "True"
      ]
     },
     "execution_count": 2,
     "metadata": {},
     "output_type": "execute_result"
    }
   ],
   "source": [
    "from dotenv import load_dotenv\n",
    "load_dotenv('/Users/daniel/OAN/credentials/contoan/.env')"
   ]
  },
  {
   "cell_type": "code",
   "execution_count": 3,
   "metadata": {},
   "outputs": [],
   "source": [
    "shop_url = os.environ['SHOPIFY_ACCESS_URL']"
   ]
  },
  {
   "cell_type": "code",
   "execution_count": 4,
   "metadata": {},
   "outputs": [],
   "source": [
    "products = shop_url+'/products.json'\n",
    "r = requests.get(products)"
   ]
  },
  {
   "cell_type": "code",
   "execution_count": 5,
   "metadata": {},
   "outputs": [],
   "source": [
    "response = r.json()"
   ]
  },
  {
   "cell_type": "code",
   "execution_count": 6,
   "metadata": {},
   "outputs": [],
   "source": [
    "products = response['products']"
   ]
  },
  {
   "cell_type": "code",
   "execution_count": 7,
   "metadata": {},
   "outputs": [
    {
     "data": {
      "text/plain": [
       "14"
      ]
     },
     "execution_count": 7,
     "metadata": {},
     "output_type": "execute_result"
    }
   ],
   "source": [
    "len(products)"
   ]
  },
  {
   "cell_type": "code",
   "execution_count": 9,
   "metadata": {},
   "outputs": [
    {
     "name": "stdout",
     "output_type": "stream",
     "text": [
      "0 00 - Edición Especial Día de la Madre\n",
      "1 00 - Edición Limitada Navidad Nikarit\n",
      "2 07 - pack \"Imprescindibles\"\n",
      "3 08 - pack \"Vuelta con estilo\"\n",
      "4 Bálsamo Labial\n",
      "5 Bolsita tela wax hecha a mano en Nikki\n",
      "6 Crema de Manos\n",
      "7 Donación a OAN International\n",
      "8 Manteca de karité pura - 100 ml\n",
      "9 Pack \"La piel más hidratada\"\n",
      "10 Pack \"Siempre conmigo\"\n",
      "11 PIES FELICES: Manteca pura+Terrafeet\n",
      "12 Suscripción de manteca para todos\n",
      "13 Tote bag\n"
     ]
    }
   ],
   "source": [
    "for i,prod in enumerate(products):\n",
    "    print(i,prod['title'])"
   ]
  },
  {
   "cell_type": "code",
   "execution_count": 10,
   "metadata": {},
   "outputs": [
    {
     "data": {
      "text/plain": [
       "6551601021027"
      ]
     },
     "execution_count": 10,
     "metadata": {},
     "output_type": "execute_result"
    }
   ],
   "source": [
    "products[7]['id']"
   ]
  },
  {
   "cell_type": "code",
   "execution_count": 13,
   "metadata": {},
   "outputs": [
    {
     "data": {
      "text/plain": [
       "dict_keys(['id', 'title', 'body_html', 'vendor', 'product_type', 'created_at', 'handle', 'updated_at', 'published_at', 'template_suffix', 'status', 'published_scope', 'tags', 'admin_graphql_api_id', 'variants', 'options', 'images', 'image'])"
      ]
     },
     "execution_count": 13,
     "metadata": {},
     "output_type": "execute_result"
    }
   ],
   "source": [
    "products[0].keys()"
   ]
  },
  {
   "cell_type": "code",
   "execution_count": 18,
   "metadata": {},
   "outputs": [
    {
     "data": {
      "text/plain": [
       "6653408215139"
      ]
     },
     "execution_count": 18,
     "metadata": {},
     "output_type": "execute_result"
    }
   ],
   "source": [
    "products[13]['id']"
   ]
  },
  {
   "cell_type": "code",
   "execution_count": 21,
   "metadata": {},
   "outputs": [
    {
     "name": "stdout",
     "output_type": "stream",
     "text": [
      "39624936816739 Alima\n",
      "39624969158755 Bake\n",
      "39624972632163 Fati\n",
      "39624973779043 Ganigui\n",
      "39624975810659 Maello\n",
      "39624976040035 Satou\n",
      "39624976433251 Tanko\n",
      "39624977842275 Zeynab\n",
      "39624991506531 Yerima\n"
     ]
    }
   ],
   "source": [
    "for var in products[13]['variants']:\n",
    "    print(var['id'],var['title'])"
   ]
  },
  {
   "cell_type": "code",
   "execution_count": 26,
   "metadata": {},
   "outputs": [],
   "source": [
    "order = shop_url+'/orders/4183984701539.json'\n",
    "r = requests.get(order)"
   ]
  },
  {
   "cell_type": "code",
   "execution_count": 30,
   "metadata": {},
   "outputs": [],
   "source": [
    "order =r.json()['order']"
   ]
  },
  {
   "cell_type": "code",
   "execution_count": 33,
   "metadata": {},
   "outputs": [
    {
     "data": {
      "text/plain": [
       "'10.00'"
      ]
     },
     "execution_count": 33,
     "metadata": {},
     "output_type": "execute_result"
    }
   ],
   "source": [
    "order['total_price']"
   ]
  },
  {
   "cell_type": "code",
   "execution_count": 34,
   "metadata": {},
   "outputs": [
    {
     "data": {
      "text/plain": [
       "1"
      ]
     },
     "execution_count": 34,
     "metadata": {},
     "output_type": "execute_result"
    }
   ],
   "source": [
    "len(order['line_items'])"
   ]
  },
  {
   "cell_type": "code",
   "execution_count": 32,
   "metadata": {},
   "outputs": [
    {
     "data": {
      "text/plain": [
       "[{'id': 10674326241379,\n",
       "  'admin_graphql_api_id': 'gid://shopify/LineItem/10674326241379',\n",
       "  'fulfillable_quantity': 0,\n",
       "  'fulfillment_service': 'manual',\n",
       "  'fulfillment_status': 'fulfilled',\n",
       "  'gift_card': False,\n",
       "  'grams': 0,\n",
       "  'name': 'Donación de 5€ a OAN International',\n",
       "  'price': '5.00',\n",
       "  'price_set': {'shop_money': {'amount': '5.00', 'currency_code': 'EUR'},\n",
       "   'presentment_money': {'amount': '5.00', 'currency_code': 'EUR'}},\n",
       "  'product_exists': True,\n",
       "  'product_id': 6551601021027,\n",
       "  'properties': [],\n",
       "  'quantity': 2,\n",
       "  'requires_shipping': False,\n",
       "  'sku': '',\n",
       "  'taxable': False,\n",
       "  'title': 'Donación de 5€ a OAN International',\n",
       "  'total_discount': '0.00',\n",
       "  'total_discount_set': {'shop_money': {'amount': '0.00',\n",
       "    'currency_code': 'EUR'},\n",
       "   'presentment_money': {'amount': '0.00', 'currency_code': 'EUR'}},\n",
       "  'variant_id': 39310393835619,\n",
       "  'variant_inventory_management': 'shopify',\n",
       "  'variant_title': None,\n",
       "  'vendor': 'OAN International',\n",
       "  'tax_lines': [{'price': '0.00',\n",
       "    'price_set': {'shop_money': {'amount': '0.00', 'currency_code': 'EUR'},\n",
       "     'presentment_money': {'amount': '0.00', 'currency_code': 'EUR'}},\n",
       "    'rate': 0.21,\n",
       "    'title': 'ES VAT'}],\n",
       "  'duties': [],\n",
       "  'discount_allocations': []}]"
      ]
     },
     "execution_count": 32,
     "metadata": {},
     "output_type": "execute_result"
    }
   ],
   "source": [
    "order['line_items']"
   ]
  },
  {
   "cell_type": "code",
   "execution_count": 28,
   "metadata": {},
   "outputs": [
    {
     "ename": "KeyError",
     "evalue": "'orders'",
     "output_type": "error",
     "traceback": [
      "\u001b[0;31m---------------------------------------------------------------------------\u001b[0m",
      "\u001b[0;31mKeyError\u001b[0m                                  Traceback (most recent call last)",
      "\u001b[0;32m<ipython-input-28-be8948b9c7f7>\u001b[0m in \u001b[0;36m<module>\u001b[0;34m\u001b[0m\n\u001b[0;32m----> 1\u001b[0;31m \u001b[0mlen\u001b[0m\u001b[0;34m(\u001b[0m\u001b[0morders\u001b[0m\u001b[0;34m[\u001b[0m\u001b[0;34m'orders'\u001b[0m\u001b[0;34m]\u001b[0m\u001b[0;34m)\u001b[0m\u001b[0;34m\u001b[0m\u001b[0;34m\u001b[0m\u001b[0m\n\u001b[0m",
      "\u001b[0;31mKeyError\u001b[0m: 'orders'"
     ]
    }
   ],
   "source": [
    "len(orders['orders'])"
   ]
  },
  {
   "cell_type": "code",
   "execution_count": null,
   "metadata": {},
   "outputs": [],
   "source": [
    "orders['orders'][1]"
   ]
  },
  {
   "cell_type": "code",
   "execution_count": null,
   "metadata": {},
   "outputs": [],
   "source": []
  }
 ],
 "metadata": {
  "kernelspec": {
   "display_name": "Python 3",
   "language": "python",
   "name": "python3"
  },
  "language_info": {
   "codemirror_mode": {
    "name": "ipython",
    "version": 3
   },
   "file_extension": ".py",
   "mimetype": "text/x-python",
   "name": "python",
   "nbconvert_exporter": "python",
   "pygments_lexer": "ipython3",
   "version": "3.8.3"
  }
 },
 "nbformat": 4,
 "nbformat_minor": 4
}

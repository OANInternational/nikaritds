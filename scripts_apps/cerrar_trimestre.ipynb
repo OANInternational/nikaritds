{
 "cells": [
  {
   "cell_type": "markdown",
   "metadata": {
    "colab_type": "text",
    "id": "t6gXq3Dwwhm_"
   },
   "source": [
    "# Imports"
   ]
  },
  {
   "cell_type": "code",
   "execution_count": null,
   "metadata": {},
   "outputs": [],
   "source": [
    "# Imports\n",
    "import pandas as pd\n",
    "\n",
    "import requests\n",
    "import yaml\n",
    "import json\n",
    "import os\n",
    "import firebase_admin\n",
    "from datetime import datetime\n",
    "\n",
    "#Firbease (pip install firebase_admin)\n",
    "from firebase_admin import credentials\n",
    "from firebase_admin import firestore\n",
    "\n",
    "from dotenv import load_dotenv\n",
    " \n",
    "load_dotenv(dotenv_path='/Users/daniel/OAN/credentials/contoan/.env')\n",
    "\n",
    "shop_url = os.environ['SHOPIFY_ACCESS_URL']\n"
   ]
  },
  {
   "cell_type": "code",
   "execution_count": null,
   "metadata": {},
   "outputs": [],
   "source": [
    "pd.set_option('max_colwidth', 2000)"
   ]
  },
  {
   "cell_type": "markdown",
   "metadata": {},
   "source": [
    "## ACCESS FIREBASE"
   ]
  },
  {
   "cell_type": "code",
   "execution_count": null,
   "metadata": {},
   "outputs": [],
   "source": [
    "filename=os.environ['FIREBASE_FILENAME']"
   ]
  },
  {
   "cell_type": "code",
   "execution_count": null,
   "metadata": {},
   "outputs": [],
   "source": [
    "# Use a service account\n",
    "cred = credentials.Certificate(filename)\n",
    "firebase_admin.initialize_app(cred)\n",
    "\n",
    "db = firestore.client()"
   ]
  },
  {
   "cell_type": "markdown",
   "metadata": {},
   "source": [
    "## GET DATA FROM FIREBASE"
   ]
  },
  {
   "cell_type": "code",
   "execution_count": null,
   "metadata": {},
   "outputs": [],
   "source": [
    "cuentas = db.collection('Accounting').where(u'execution_date',u'<',u'2021-00-00'\n",
    "                                           ).where('type','==','expense'\n",
    "                                               ).where('place','==','spain'\n",
    "                                                   ).stream()"
   ]
  },
  {
   "cell_type": "code",
   "execution_count": null,
   "metadata": {},
   "outputs": [],
   "source": [
    "l_cuentas = []\n",
    "for cuenta in cuentas:\n",
    "    #print(payout)\n",
    "    l_cuentas.append(cuenta.to_dict())"
   ]
  },
  {
   "cell_type": "code",
   "execution_count": null,
   "metadata": {},
   "outputs": [],
   "source": [
    "date_min = (pd.to_datetime(pd.DataFrame(l_payouts)['execution_date'].max()) + pd.DateOffset(1)).isoformat()[0:10]\n",
    "date_min"
   ]
  },
  {
   "cell_type": "markdown",
   "metadata": {},
   "source": [
    "### GET DATA FROM BIGQUERY"
   ]
  },
  {
   "cell_type": "code",
   "execution_count": null,
   "metadata": {},
   "outputs": [],
   "source": [
    "df_cuentas = pd.read_gbq('''SELECT acc.id as `ID`,\n",
    "                               acc.creation_date as `CREACION`,\n",
    "                               acc.execution_date as `EJECUCION`,\n",
    "                               acc.concept as `CONCEPTO`,\n",
    "                               pr.name as `PROYECTO`,\n",
    "                               int.name as `INTERVENCION`,\n",
    "                               ph.name as `FASE`,\n",
    "                               CASE \n",
    "                                WHEN acc.type = 'expense'  THEN 'Gasto'\n",
    "                                WHEN acc.type = 'income'  THEN 'Ingreso'\n",
    "                                WHEN acc.type = 'movement'  THEN 'Movimiento'\n",
    "                                ELSE ''\n",
    "                              END AS `TIPO`,\n",
    "                               acc.amount as `CANTIDAD`,\n",
    "                               acc.vat as `IVA`,\n",
    "                               acc.vat_amount as `IVA_CTA`,\n",
    "                               tg.name as `CAJA_BANCO`,\n",
    "                               ac.name as `CATEGORIA`,\n",
    "                               acc.description as `DESCRIPCION`,\n",
    "                               cr.name as `CREADOR`,\n",
    "                               rs.name as `RESPONSABLE`,      \n",
    "                               acc.code as `COTADOR`,\n",
    "                               acc.origin as `ORIGEN`,\n",
    "                               acc.place as `LUGAR`,\n",
    "                               acc.receipt as `FACTURA`\n",
    "\n",
    "\n",
    "                        FROM `oan-nikarit.contoan.accounting` acc\n",
    "                        LEFT OUTER JOIN `oan-nikarit.contoan.accounts` ac\n",
    "                        ON acc.account_id = ac.id\n",
    "                        LEFT OUTER JOIN `oan-nikarit.contoan.accounts` tg\n",
    "                        ON acc.target_id = tg.id\n",
    "                        LEFT OUTER JOIN `oan-nikarit.contoan.projects` pr\n",
    "                        ON acc.project = pr.id\n",
    "                        LEFT OUTER JOIN `oan-nikarit.contoan.projects` int\n",
    "                        ON acc.intervention = int.id\n",
    "                        LEFT OUTER JOIN `oan-nikarit.contoan.projects` ph\n",
    "                        ON acc.phase = ph.id\n",
    "                        LEFT OUTER JOIN `oan-nikarit.contoan.users` cr\n",
    "                        ON acc.creator_user = cr.id\n",
    "                        LEFT OUTER JOIN `oan-nikarit.contoan.users` rs\n",
    "                        ON acc.user_in_charge = rs.id\n",
    "                        \n",
    "                        WHERE acc.place = 'spain'\n",
    "                        AND acc.type = 'expense'\n",
    "                        AND TIMESTAMP('2020-01-01') <= acc.execution_date\n",
    "                        AND acc.origin = 'contoan'\n",
    "                        '''\n",
    "           )"
   ]
  },
  {
   "cell_type": "code",
   "execution_count": null,
   "metadata": {},
   "outputs": [],
   "source": [
    "df_cuentas = df_cuentas.sort_values(by='EJECUCION').reset_index(drop=True)"
   ]
  },
  {
   "cell_type": "code",
   "execution_count": null,
   "metadata": {},
   "outputs": [],
   "source": [
    "df_cuentas.shape"
   ]
  },
  {
   "cell_type": "code",
   "execution_count": null,
   "metadata": {},
   "outputs": [],
   "source": [
    "df_cuentas['URL'] = 'https://nikarit.oaninternational.org/accounting/details/'+df_cuentas['ID']"
   ]
  },
  {
   "cell_type": "code",
   "execution_count": null,
   "metadata": {
    "scrolled": false
   },
   "outputs": [],
   "source": [
    "df_cuentas"
   ]
  },
  {
   "cell_type": "code",
   "execution_count": null,
   "metadata": {},
   "outputs": [],
   "source": [
    "df_cuentas[df_cuentas['FACTURA'].isna()][['URL','EJECUCION','CANTIDAD','CONCEPTO','FACTURA']]"
   ]
  },
  {
   "cell_type": "markdown",
   "metadata": {},
   "source": [
    "### SEUR"
   ]
  },
  {
   "cell_type": "code",
   "execution_count": null,
   "metadata": {},
   "outputs": [],
   "source": [
    "filt = df_cuentas['CONCEPTO'].apply(lambda x: 'seur' in x.lower())\n",
    "df_cuentas[filt][['URL','EJECUCION','CANTIDAD','CONCEPTO','FACTURA']]"
   ]
  },
  {
   "cell_type": "markdown",
   "metadata": {},
   "source": [
    "### FB"
   ]
  },
  {
   "cell_type": "code",
   "execution_count": null,
   "metadata": {
    "scrolled": true
   },
   "outputs": [],
   "source": [
    "filt = df_cuentas['CONCEPTO'].apply(lambda x: 'facebook' in x.lower())\n",
    "df_cuentas[filt][['URL','EJECUCION','CANTIDAD','CONCEPTO','FACTURA','CAJA_BANCO']]"
   ]
  },
  {
   "cell_type": "markdown",
   "metadata": {},
   "source": [
    "### Google ADS"
   ]
  },
  {
   "cell_type": "code",
   "execution_count": null,
   "metadata": {},
   "outputs": [],
   "source": [
    "filt = df_cuentas['CONCEPTO'].apply(lambda x: 'google' in x.lower())\n",
    "df_cuentas[filt][['URL','EJECUCION','CANTIDAD','CONCEPTO','FACTURA','CAJA_BANCO']]"
   ]
  },
  {
   "cell_type": "markdown",
   "metadata": {},
   "source": [
    "### Paypal"
   ]
  },
  {
   "cell_type": "code",
   "execution_count": null,
   "metadata": {},
   "outputs": [],
   "source": [
    "filt = df_cuentas['CAJA_BANCO'].apply(lambda x: 'paypal' in x.lower())\n",
    "df_cuentas[filt][['URL','EJECUCION','CANTIDAD','CONCEPTO','FACTURA','CAJA_BANCO']]"
   ]
  },
  {
   "cell_type": "code",
   "execution_count": null,
   "metadata": {},
   "outputs": [],
   "source": [
    "df_cuentas = pd.read_gbq('''SELECT acc.id as `ID`,\n",
    "                               acc.creation_date as `CREACION`,\n",
    "                               acc.execution_date as `EJECUCION`,\n",
    "                               acc.concept as `CONCEPTO`,\n",
    "                               pr.name as `PROYECTO`,\n",
    "                               int.name as `INTERVENCION`,\n",
    "                               ph.name as `FASE`,\n",
    "                               CASE \n",
    "                                WHEN acc.type = 'expense'  THEN 'Gasto'\n",
    "                                WHEN acc.type = 'income'  THEN 'Ingreso'\n",
    "                                WHEN acc.type = 'movement'  THEN 'Movimiento'\n",
    "                                ELSE ''\n",
    "                              END AS `TIPO`,\n",
    "                               acc.amount as `CANTIDAD`,\n",
    "                               acc.vat as `IVA`,\n",
    "                               acc.vat_amount as `IVA_CTA`,\n",
    "                               tg.name as `CAJA_BANCO`,\n",
    "                               ac.name as `CATEGORIA`,\n",
    "                               acc.description as `DESCRIPCION`,\n",
    "                               cr.name as `CREADOR`,\n",
    "                               rs.name as `RESPONSABLE`,      \n",
    "                               acc.code as `COTADOR`,\n",
    "                               acc.origin as `ORIGEN`,\n",
    "                               acc.place as `LUGAR`,\n",
    "                               acc.receipt as `FACTURA`\n",
    "\n",
    "\n",
    "                        FROM `oan-nikarit.contoan.accounting` acc\n",
    "                        LEFT OUTER JOIN `oan-nikarit.contoan.accounts` ac\n",
    "                        ON acc.account_id = ac.id\n",
    "                        LEFT OUTER JOIN `oan-nikarit.contoan.accounts` tg\n",
    "                        ON acc.target_id = tg.id\n",
    "                        LEFT OUTER JOIN `oan-nikarit.contoan.projects` pr\n",
    "                        ON acc.project = pr.id\n",
    "                        LEFT OUTER JOIN `oan-nikarit.contoan.projects` int\n",
    "                        ON acc.intervention = int.id\n",
    "                        LEFT OUTER JOIN `oan-nikarit.contoan.projects` ph\n",
    "                        ON acc.phase = ph.id\n",
    "                        LEFT OUTER JOIN `oan-nikarit.contoan.users` cr\n",
    "                        ON acc.creator_user = cr.id\n",
    "                        LEFT OUTER JOIN `oan-nikarit.contoan.users` rs\n",
    "                        ON acc.user_in_charge = rs.id\n",
    "                        \n",
    "                        WHERE acc.place = 'spain'\n",
    "                        AND TIMESTAMP('2020-12-01') <= acc.execution_date\n",
    "                        AND acc.origin = 'contoan'\n",
    "                        ORDER BY acc.execution_date\n",
    "                        \n",
    "                        '''\n",
    "           )"
   ]
  },
  {
   "cell_type": "code",
   "execution_count": null,
   "metadata": {},
   "outputs": [],
   "source": [
    "df_cuentas['URL'] = 'https://nikarit.oaninternational.org/accounting/details/'+df_cuentas['ID']"
   ]
  },
  {
   "cell_type": "code",
   "execution_count": null,
   "metadata": {
    "scrolled": false
   },
   "outputs": [],
   "source": [
    "df_cuentas[df_cuentas['CAJA_BANCO'].apply(lambda x: 'ingenieros' in x.lower())\n",
    "          ][['URL','EJECUCION','CANTIDAD','TIPO','CONCEPTO','FACTURA','CAJA_BANCO']\n",
    "           ][0:30]"
   ]
  },
  {
   "cell_type": "code",
   "execution_count": null,
   "metadata": {
    "scrolled": false
   },
   "outputs": [],
   "source": [
    "df_cuentas[df_cuentas['CAJA_BANCO'].apply(lambda x: 'ingenieros' in x.lower())\n",
    "          ][['URL','EJECUCION','CANTIDAD','TIPO','CONCEPTO','FACTURA','CAJA_BANCO']\n",
    "           ][30:]"
   ]
  },
  {
   "cell_type": "code",
   "execution_count": null,
   "metadata": {},
   "outputs": [],
   "source": [
    "df_cuentas[df_cuentas['CATEGORIA'].apply(lambda x: 'ingenieros' in x.lower())\n",
    "          ][['URL','EJECUCION','CANTIDAD','TIPO','CONCEPTO','FACTURA','CAJA_BANCO']\n",
    "           ][0:30]"
   ]
  },
  {
   "cell_type": "code",
   "execution_count": null,
   "metadata": {},
   "outputs": [],
   "source": []
  }
 ],
 "metadata": {
  "accelerator": "GPU",
  "colab": {
   "collapsed_sections": [],
   "name": "simular_pedido.ipynb",
   "provenance": [],
   "toc_visible": true
  },
  "kernelspec": {
   "display_name": "Python 3",
   "language": "python",
   "name": "python3"
  },
  "language_info": {
   "codemirror_mode": {
    "name": "ipython",
    "version": 3
   },
   "file_extension": ".py",
   "mimetype": "text/x-python",
   "name": "python",
   "nbconvert_exporter": "python",
   "pygments_lexer": "ipython3",
   "version": "3.8.3"
  }
 },
 "nbformat": 4,
 "nbformat_minor": 1
}

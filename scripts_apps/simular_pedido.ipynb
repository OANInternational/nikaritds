{
 "cells": [
  {
   "cell_type": "markdown",
   "metadata": {
    "colab_type": "text",
    "id": "t6gXq3Dwwhm_"
   },
   "source": [
    "# Imports"
   ]
  },
  {
   "cell_type": "code",
   "execution_count": 7,
   "metadata": {},
   "outputs": [],
   "source": [
    "# Imports\n",
    "import pandas as pd\n",
    "\n",
    "import requests\n",
    "import yaml\n",
    "import json\n",
    "import os\n",
    "\n",
    "# Load connections parameters:\n",
    "with open(\"/Users/5danalfaro/OAN/credentials/shopify/parameters.yaml\", \"r\") as params:\n",
    "    f = yaml.load(params, Loader=yaml.FullLoader)\n",
    "    base_url = f['base_url']\n",
    "    nikarit_url = f['shop_url']\n",
    "    API_KEY = f['API_KEY']\n",
    "    PASSWORD = f['PASSWORD']\n",
    "    SHARED_SECRET = f['SHARED_SECRET']\n",
    "    shop_url = f['ACCESS_URL']\n",
    "    base_url2 = ' https://'+ base_url\n",
    "    url_contabilidad= f['webhook_contabilidad']\n",
    "    url_email= f['webhook_email']\n"
   ]
  },
  {
   "cell_type": "markdown",
   "metadata": {
    "colab_type": "text",
    "id": "VOLMv6fNfVpC"
   },
   "source": [
    "functions of shopify"
   ]
  },
  {
   "cell_type": "code",
   "execution_count": 2,
   "metadata": {
    "colab": {},
    "colab_type": "code",
    "id": "HbqYaFNafVpD"
   },
   "outputs": [],
   "source": [
    "def get_all_products():\n",
    "\n",
    "    r = requests.get(\n",
    "    shop_url+\"/products.json\")\n",
    "\n",
    "    return r.json()\n",
    "\n",
    "def get_all_customers(limit):\n",
    "\n",
    "    r = requests.get(\n",
    "    shop_url+\"/customers.json\",\n",
    "    params={\n",
    "        'limit':limit\n",
    "    })\n",
    "\n",
    "    return r.json()\n",
    "\n",
    "def get_all_orders(limit,status):\n",
    "\n",
    "    r = requests.get(\n",
    "    shop_url+\"/orders.json\",\n",
    "    params={\n",
    "        'limit':limit,\n",
    "        'status':status\n",
    "    })\n",
    "\n",
    "    return r.json()\n",
    "\n",
    "def get_few_order(ids):\n",
    "  r = requests.get(\n",
    "    shop_url+\"/orders.json\",\n",
    "    params={\n",
    "        'ids':ids,\n",
    "        'status':'any'\n",
    "    })\n",
    "\n",
    "  return r.json()\n",
    "\n",
    "def change_order_status(ids):\n",
    "  r = requests.get(\n",
    "    shop_url+\"/orders.json\",\n",
    "    params={\n",
    "        'ids':ids,\n",
    "        'status':'any'\n",
    "    })\n",
    "  \n",
    "\n",
    "  return r.json()\n",
    "\n",
    "def open_order(id):\n",
    "\n",
    "  r=requests.post(shop_url+\"/orders/\"+id+\"/open.json\")\n",
    "  \n",
    "  if r.status_code == 200:\n",
    "    print('Success!')\n",
    "  elif r.status_code == 404:\n",
    "    print('Not Found.')\n",
    "\n",
    "def close_order(id):\n",
    "\n",
    "  r=requests.post(shop_url+\"/orders/\"+id+\"/close.json\")\n",
    "  \n",
    "  if r.status_code == 200:\n",
    "    print('Success!')\n",
    "  elif r.status_code == 404:\n",
    "    print('Not Found.')"
   ]
  },
  {
   "cell_type": "markdown",
   "metadata": {
    "colab_type": "text",
    "id": "xQ1uqVCWBs3w"
   },
   "source": [
    "# Prueba para ver si google scripts funciona bien"
   ]
  },
  {
   "cell_type": "code",
   "execution_count": 10,
   "metadata": {
    "colab": {},
    "colab_type": "code",
    "id": "N3fv4-TfBwsd"
   },
   "outputs": [],
   "source": [
    "data={\n",
    "  \"webhook\": {\n",
    "    \"topic\": \"orders/create\",\n",
    "    #For email\n",
    "    \"address\":url_contabilidad,\n",
    "    \"format\": \"json\"\n",
    "  }\n",
    "}"
   ]
  },
  {
   "cell_type": "markdown",
   "metadata": {},
   "source": [
    "## DATA FROM COSTUMERS"
   ]
  },
  {
   "cell_type": "code",
   "execution_count": 11,
   "metadata": {
    "colab": {},
    "colab_type": "code",
    "id": "pdwhgtHKZ3w4"
   },
   "outputs": [],
   "source": [
    "all_customers = get_all_customers(10)\n",
    "df_customers = pd.DataFrame(all_customers['customers']) \n",
    "#get order from id\n",
    "orderinfo=get_few_order(int(df_customers['last_order_id'].dropna().tolist()[0]))"
   ]
  },
  {
   "cell_type": "code",
   "execution_count": 13,
   "metadata": {
    "colab": {},
    "colab_type": "code",
    "id": "r0dohKwNNqwQ"
   },
   "outputs": [],
   "source": [
    "ordertest = orderinfo['orders'][0]"
   ]
  },
  {
   "cell_type": "markdown",
   "metadata": {},
   "source": [
    "## DATA FROM ORDERS"
   ]
  },
  {
   "cell_type": "code",
   "execution_count": 22,
   "metadata": {},
   "outputs": [],
   "source": [
    "all_orders= get_all_orders(250,'any')"
   ]
  },
  {
   "cell_type": "code",
   "execution_count": 66,
   "metadata": {},
   "outputs": [
    {
     "data": {
      "text/plain": [
       "'2019-10-06T22:41:06+02:00'"
      ]
     },
     "execution_count": 66,
     "metadata": {},
     "output_type": "execute_result"
    }
   ],
   "source": [
    "all_orders['orders'][23:24][0]['created_at']"
   ]
  },
  {
   "cell_type": "code",
   "execution_count": 68,
   "metadata": {},
   "outputs": [
    {
     "data": {
      "text/plain": [
       "'2019-10-06T22:41:06+02:00'"
      ]
     },
     "execution_count": 68,
     "metadata": {},
     "output_type": "execute_result"
    }
   ],
   "source": [
    "all_orders['orders'][23]['created_at']"
   ]
  },
  {
   "cell_type": "code",
   "execution_count": 59,
   "metadata": {},
   "outputs": [],
   "source": [
    "import time"
   ]
  },
  {
   "cell_type": "markdown",
   "metadata": {},
   "source": [
    "## para contabilizar lo qu"
   ]
  },
  {
   "cell_type": "code",
   "execution_count": 61,
   "metadata": {
    "colab": {},
    "colab_type": "code",
    "id": "tf5u8MwgZenp"
   },
   "outputs": [],
   "source": [
    "for ordertest in all_orders['orders'][0:24]:\n",
    "    requests.post(data['webhook']['address'],json=ordertest)\n",
    "    time.sleep(1)"
   ]
  },
  {
   "cell_type": "code",
   "execution_count": 17,
   "metadata": {
    "colab": {
     "base_uri": "https://localhost:8080/",
     "height": 34
    },
    "colab_type": "code",
    "id": "lfelte4EZh02",
    "outputId": "004f076f-4fc3-4c2f-bc88-6bacf97a7091"
   },
   "outputs": [
    {
     "data": {
      "text/plain": [
       "200"
      ]
     },
     "execution_count": 17,
     "metadata": {},
     "output_type": "execute_result"
    }
   ],
   "source": [
    "r1.status_code"
   ]
  },
  {
   "cell_type": "code",
   "execution_count": 57,
   "metadata": {
    "colab": {},
    "colab_type": "code",
    "id": "IkyzHtkADpeb"
   },
   "outputs": [
    {
     "data": {
      "text/plain": [
       "<Response [200]>"
      ]
     },
     "execution_count": 57,
     "metadata": {},
     "output_type": "execute_result"
    }
   ],
   "source": [
    "requests.post(data['webhook']['address'],json=all_orders['orders'][0])"
   ]
  },
  {
   "cell_type": "code",
   "execution_count": null,
   "metadata": {},
   "outputs": [],
   "source": []
  }
 ],
 "metadata": {
  "accelerator": "GPU",
  "colab": {
   "collapsed_sections": [],
   "name": "simular_pedido.ipynb",
   "provenance": [],
   "toc_visible": true
  },
  "kernelspec": {
   "display_name": "Python 3",
   "language": "python",
   "name": "python3"
  },
  "language_info": {
   "codemirror_mode": {
    "name": "ipython",
    "version": 3
   },
   "file_extension": ".py",
   "mimetype": "text/x-python",
   "name": "python",
   "nbconvert_exporter": "python",
   "pygments_lexer": "ipython3",
   "version": "3.7.3"
  }
 },
 "nbformat": 4,
 "nbformat_minor": 1
}

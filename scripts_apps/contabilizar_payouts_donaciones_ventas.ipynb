{
 "cells": [
  {
   "cell_type": "markdown",
   "metadata": {
    "colab_type": "text",
    "id": "t6gXq3Dwwhm_"
   },
   "source": [
    "# Imports"
   ]
  },
  {
   "cell_type": "code",
   "execution_count": 1,
   "metadata": {},
   "outputs": [],
   "source": [
    "# Imports\n",
    "import pandas as pd\n",
    "\n",
    "import requests\n",
    "import yaml\n",
    "import json\n",
    "import os\n",
    "import firebase_admin\n",
    "from datetime import datetime\n",
    "\n",
    "#Firbease (pip install firebase_admin)\n",
    "from firebase_admin import credentials\n",
    "from firebase_admin import firestore\n",
    "\n",
    "from dotenv import load_dotenv\n",
    " \n",
    "load_dotenv(dotenv_path='/Users/daniel/OAN/credentials/contoan/.env')\n",
    "\n",
    "shop_url = os.environ['SHOPIFY_ACCESS_URL']\n"
   ]
  },
  {
   "cell_type": "markdown",
   "metadata": {},
   "source": [
    "## ACCESS FIREBASE"
   ]
  },
  {
   "cell_type": "code",
   "execution_count": 2,
   "metadata": {},
   "outputs": [],
   "source": [
    "filename=os.environ['FIREBASE_FILENAME']"
   ]
  },
  {
   "cell_type": "code",
   "execution_count": 3,
   "metadata": {},
   "outputs": [],
   "source": [
    "# Use a service account\n",
    "cred = credentials.Certificate(filename)\n",
    "firebase_admin.initialize_app(cred)\n",
    "\n",
    "db = firestore.client()"
   ]
  },
  {
   "cell_type": "markdown",
   "metadata": {},
   "source": [
    "## get transactions"
   ]
  },
  {
   "cell_type": "code",
   "execution_count": 2,
   "metadata": {},
   "outputs": [],
   "source": [
    "r = requests.get(shop_url+\"/shopify_payments/payouts.json\",\n",
    "                params={\n",
    "                'limit':250,\n",
    "                 })"
   ]
  },
  {
   "cell_type": "code",
   "execution_count": 3,
   "metadata": {},
   "outputs": [],
   "source": [
    "#r = requests.get(shop_url+\"/shopify_payments/balance/transactions.json\",\n",
    "#                params={\n",
    "#                'limit':250,\n",
    "#                 })"
   ]
  },
  {
   "cell_type": "code",
   "execution_count": 3,
   "metadata": {},
   "outputs": [],
   "source": [
    "payouts = r.json()"
   ]
  },
  {
   "cell_type": "code",
   "execution_count": 4,
   "metadata": {},
   "outputs": [
    {
     "data": {
      "text/plain": [
       "187"
      ]
     },
     "execution_count": 4,
     "metadata": {},
     "output_type": "execute_result"
    }
   ],
   "source": [
    "len(payouts['payouts'])"
   ]
  },
  {
   "cell_type": "markdown",
   "metadata": {},
   "source": [
    "#### filter by date"
   ]
  },
  {
   "cell_type": "code",
   "execution_count": 5,
   "metadata": {},
   "outputs": [],
   "source": [
    "#filter by 2020\n",
    "payouts2020 = []\n",
    "for payout in payouts['payouts']:\n",
    "    if payout['date'][0:4]=='2020':\n",
    "        payouts2020.append(payout)"
   ]
  },
  {
   "cell_type": "code",
   "execution_count": 6,
   "metadata": {},
   "outputs": [],
   "source": [
    "#date ='2020-09-29'\n",
    "date ='2020-11-23'"
   ]
  },
  {
   "cell_type": "code",
   "execution_count": 7,
   "metadata": {},
   "outputs": [],
   "source": [
    "#filter by date 2020-09-03\n",
    "payouts2020 = []\n",
    "for payout in payouts['payouts']:\n",
    "    if datetime.fromisoformat(payout['date'])>datetime.fromisoformat(date):\n",
    "        payouts2020.append(payout)"
   ]
  },
  {
   "cell_type": "code",
   "execution_count": 8,
   "metadata": {},
   "outputs": [
    {
     "data": {
      "text/plain": [
       "24"
      ]
     },
     "execution_count": 8,
     "metadata": {},
     "output_type": "execute_result"
    }
   ],
   "source": [
    "len(payouts2020)"
   ]
  },
  {
   "cell_type": "code",
   "execution_count": 9,
   "metadata": {},
   "outputs": [
    {
     "data": {
      "text/plain": [
       "{'id': 61488562275,\n",
       " 'status': 'paid',\n",
       " 'date': '2020-12-28',\n",
       " 'currency': 'EUR',\n",
       " 'amount': '121.86',\n",
       " 'summary': {'adjustments_fee_amount': '0.00',\n",
       "  'adjustments_gross_amount': '0.00',\n",
       "  'charges_fee_amount': '3.39',\n",
       "  'charges_gross_amount': '125.25',\n",
       "  'refunds_fee_amount': '0.00',\n",
       "  'refunds_gross_amount': '0.00',\n",
       "  'reserved_funds_fee_amount': '0.00',\n",
       "  'reserved_funds_gross_amount': '0.00',\n",
       "  'retried_payouts_fee_amount': '0.00',\n",
       "  'retried_payouts_gross_amount': '0.00'}}"
      ]
     },
     "execution_count": 9,
     "metadata": {},
     "output_type": "execute_result"
    }
   ],
   "source": [
    "payouts2020[6]"
   ]
  },
  {
   "cell_type": "markdown",
   "metadata": {},
   "source": [
    "### get accounts info"
   ]
  },
  {
   "cell_type": "code",
   "execution_count": 26,
   "metadata": {},
   "outputs": [],
   "source": [
    "col_query = db.collection('Collections_Info').stream()"
   ]
  },
  {
   "cell_type": "code",
   "execution_count": 27,
   "metadata": {},
   "outputs": [
    {
     "name": "stdout",
     "output_type": "stream",
     "text": [
      "Accounting => {'code': 2505}\n",
      "Accounts => {'account_number': 572091}\n"
     ]
    }
   ],
   "source": [
    "col_info = []\n",
    "for acc in col_query:\n",
    "    print(u'{} => {}'.format(acc.id, acc.to_dict()))\n",
    "    col_info.append(acc.to_dict())"
   ]
  },
  {
   "cell_type": "markdown",
   "metadata": {},
   "source": [
    "## contabilizar"
   ]
  },
  {
   "cell_type": "code",
   "execution_count": 24,
   "metadata": {},
   "outputs": [
    {
     "name": "stderr",
     "output_type": "stream",
     "text": [
      "Downloading: 100%|██████████| 31/31 [00:00<00:00, 40.35rows/s]\n"
     ]
    }
   ],
   "source": [
    "users = pd.read_gbq(\"\"\"\n",
    "SELECT *\n",
    "FROM `oan-nikarit.contoan.users`\n",
    "\"\"\")"
   ]
  },
  {
   "cell_type": "code",
   "execution_count": 25,
   "metadata": {},
   "outputs": [
    {
     "data": {
      "text/html": [
       "<div>\n",
       "<style scoped>\n",
       "    .dataframe tbody tr th:only-of-type {\n",
       "        vertical-align: middle;\n",
       "    }\n",
       "\n",
       "    .dataframe tbody tr th {\n",
       "        vertical-align: top;\n",
       "    }\n",
       "\n",
       "    .dataframe thead th {\n",
       "        text-align: right;\n",
       "    }\n",
       "</style>\n",
       "<table border=\"1\" class=\"dataframe\">\n",
       "  <thead>\n",
       "    <tr style=\"text-align: right;\">\n",
       "      <th></th>\n",
       "      <th>id</th>\n",
       "      <th>name</th>\n",
       "      <th>last_name</th>\n",
       "      <th>email</th>\n",
       "      <th>cuenta</th>\n",
       "    </tr>\n",
       "  </thead>\n",
       "  <tbody>\n",
       "    <tr>\n",
       "      <th>3</th>\n",
       "      <td>oXJJEfAEPxFYtdJ2pnaU</td>\n",
       "      <td>Firebase</td>\n",
       "      <td>Cloud</td>\n",
       "      <td>None</td>\n",
       "      <td>None</td>\n",
       "    </tr>\n",
       "  </tbody>\n",
       "</table>\n",
       "</div>"
      ],
      "text/plain": [
       "                     id      name last_name email cuenta\n",
       "3  oXJJEfAEPxFYtdJ2pnaU  Firebase     Cloud  None   None"
      ]
     },
     "execution_count": 25,
     "metadata": {},
     "output_type": "execute_result"
    }
   ],
   "source": [
    "users[users['name'].str[0:2]=='Fi']"
   ]
  },
  {
   "cell_type": "code",
   "execution_count": 32,
   "metadata": {},
   "outputs": [
    {
     "data": {
      "text/plain": [
       "[{'id': 61803921507,\n",
       "  'status': 'in_transit',\n",
       "  'date': '2021-01-06',\n",
       "  'currency': 'EUR',\n",
       "  'amount': '445.42',\n",
       "  'summary': {'adjustments_fee_amount': '0.00',\n",
       "   'adjustments_gross_amount': '0.00',\n",
       "   'charges_fee_amount': '12.38',\n",
       "   'charges_gross_amount': '457.80',\n",
       "   'refunds_fee_amount': '0.00',\n",
       "   'refunds_gross_amount': '0.00',\n",
       "   'reserved_funds_fee_amount': '0.00',\n",
       "   'reserved_funds_gross_amount': '0.00',\n",
       "   'retried_payouts_fee_amount': '0.00',\n",
       "   'retried_payouts_gross_amount': '0.00'}},\n",
       " {'id': 61743956067,\n",
       "  'status': 'paid',\n",
       "  'date': '2021-01-05',\n",
       "  'currency': 'EUR',\n",
       "  'amount': '158.82',\n",
       "  'summary': {'adjustments_fee_amount': '0.00',\n",
       "   'adjustments_gross_amount': '0.00',\n",
       "   'charges_fee_amount': '4.18',\n",
       "   'charges_gross_amount': '163.00',\n",
       "   'refunds_fee_amount': '0.00',\n",
       "   'refunds_gross_amount': '0.00',\n",
       "   'reserved_funds_fee_amount': '0.00',\n",
       "   'reserved_funds_gross_amount': '0.00',\n",
       "   'retried_payouts_fee_amount': '0.00',\n",
       "   'retried_payouts_gross_amount': '0.00'}},\n",
       " {'id': 61687431267,\n",
       "  'status': 'paid',\n",
       "  'date': '2021-01-04',\n",
       "  'currency': 'EUR',\n",
       "  'amount': '182.56',\n",
       "  'summary': {'adjustments_fee_amount': '0.00',\n",
       "   'adjustments_gross_amount': '0.00',\n",
       "   'charges_fee_amount': '4.94',\n",
       "   'charges_gross_amount': '187.50',\n",
       "   'refunds_fee_amount': '0.00',\n",
       "   'refunds_gross_amount': '0.00',\n",
       "   'reserved_funds_fee_amount': '0.00',\n",
       "   'reserved_funds_gross_amount': '0.00',\n",
       "   'retried_payouts_fee_amount': '0.00',\n",
       "   'retried_payouts_gross_amount': '0.00'}},\n",
       " {'id': 61643358307,\n",
       "  'status': 'paid',\n",
       "  'date': '2020-12-31',\n",
       "  'currency': 'EUR',\n",
       "  'amount': '232.73',\n",
       "  'summary': {'adjustments_fee_amount': '0.00',\n",
       "   'adjustments_gross_amount': '0.00',\n",
       "   'charges_fee_amount': '6.27',\n",
       "   'charges_gross_amount': '239.00',\n",
       "   'refunds_fee_amount': '0.00',\n",
       "   'refunds_gross_amount': '0.00',\n",
       "   'reserved_funds_fee_amount': '0.00',\n",
       "   'reserved_funds_gross_amount': '0.00',\n",
       "   'retried_payouts_fee_amount': '0.00',\n",
       "   'retried_payouts_gross_amount': '0.00'}},\n",
       " {'id': 61589913699,\n",
       "  'status': 'paid',\n",
       "  'date': '2020-12-30',\n",
       "  'currency': 'EUR',\n",
       "  'amount': '484.19',\n",
       "  'summary': {'adjustments_fee_amount': '0.00',\n",
       "   'adjustments_gross_amount': '0.00',\n",
       "   'charges_fee_amount': '13.21',\n",
       "   'charges_gross_amount': '497.40',\n",
       "   'refunds_fee_amount': '0.00',\n",
       "   'refunds_gross_amount': '0.00',\n",
       "   'reserved_funds_fee_amount': '0.00',\n",
       "   'reserved_funds_gross_amount': '0.00',\n",
       "   'retried_payouts_fee_amount': '0.00',\n",
       "   'retried_payouts_gross_amount': '0.00'}},\n",
       " {'id': 61537484899,\n",
       "  'status': 'paid',\n",
       "  'date': '2020-12-29',\n",
       "  'currency': 'EUR',\n",
       "  'amount': '249.35',\n",
       "  'summary': {'adjustments_fee_amount': '0.00',\n",
       "   'adjustments_gross_amount': '0.00',\n",
       "   'charges_fee_amount': '6.90',\n",
       "   'charges_gross_amount': '256.25',\n",
       "   'refunds_fee_amount': '0.00',\n",
       "   'refunds_gross_amount': '0.00',\n",
       "   'reserved_funds_fee_amount': '0.00',\n",
       "   'reserved_funds_gross_amount': '0.00',\n",
       "   'retried_payouts_fee_amount': '0.00',\n",
       "   'retried_payouts_gross_amount': '0.00'}},\n",
       " {'id': 61488562275,\n",
       "  'status': 'paid',\n",
       "  'date': '2020-12-28',\n",
       "  'currency': 'EUR',\n",
       "  'amount': '121.86',\n",
       "  'summary': {'adjustments_fee_amount': '0.00',\n",
       "   'adjustments_gross_amount': '0.00',\n",
       "   'charges_fee_amount': '3.39',\n",
       "   'charges_gross_amount': '125.25',\n",
       "   'refunds_fee_amount': '0.00',\n",
       "   'refunds_gross_amount': '0.00',\n",
       "   'reserved_funds_fee_amount': '0.00',\n",
       "   'reserved_funds_gross_amount': '0.00',\n",
       "   'retried_payouts_fee_amount': '0.00',\n",
       "   'retried_payouts_gross_amount': '0.00'}},\n",
       " {'id': 61448814691,\n",
       "  'status': 'paid',\n",
       "  'date': '2020-12-24',\n",
       "  'currency': 'EUR',\n",
       "  'amount': '229.52',\n",
       "  'summary': {'adjustments_fee_amount': '0.00',\n",
       "   'adjustments_gross_amount': '0.00',\n",
       "   'charges_fee_amount': '6.48',\n",
       "   'charges_gross_amount': '236.00',\n",
       "   'refunds_fee_amount': '0.00',\n",
       "   'refunds_gross_amount': '0.00',\n",
       "   'reserved_funds_fee_amount': '0.00',\n",
       "   'reserved_funds_gross_amount': '0.00',\n",
       "   'retried_payouts_fee_amount': '0.00',\n",
       "   'retried_payouts_gross_amount': '0.00'}},\n",
       " {'id': 61403922531,\n",
       "  'status': 'paid',\n",
       "  'date': '2020-12-23',\n",
       "  'currency': 'EUR',\n",
       "  'amount': '960.78',\n",
       "  'summary': {'adjustments_fee_amount': '0.00',\n",
       "   'adjustments_gross_amount': '0.00',\n",
       "   'charges_fee_amount': '24.72',\n",
       "   'charges_gross_amount': '985.50',\n",
       "   'refunds_fee_amount': '0.00',\n",
       "   'refunds_gross_amount': '0.00',\n",
       "   'reserved_funds_fee_amount': '0.00',\n",
       "   'reserved_funds_gross_amount': '0.00',\n",
       "   'retried_payouts_fee_amount': '0.00',\n",
       "   'retried_payouts_gross_amount': '0.00'}},\n",
       " {'id': 61340745827,\n",
       "  'status': 'paid',\n",
       "  'date': '2020-12-22',\n",
       "  'currency': 'EUR',\n",
       "  'amount': '93.48',\n",
       "  'summary': {'adjustments_fee_amount': '0.00',\n",
       "   'adjustments_gross_amount': '0.84',\n",
       "   'charges_fee_amount': '3.36',\n",
       "   'charges_gross_amount': '124.00',\n",
       "   'refunds_fee_amount': '0.00',\n",
       "   'refunds_gross_amount': '-28.00',\n",
       "   'reserved_funds_fee_amount': '0.00',\n",
       "   'reserved_funds_gross_amount': '0.00',\n",
       "   'retried_payouts_fee_amount': '0.00',\n",
       "   'retried_payouts_gross_amount': '0.00'}},\n",
       " {'id': 61252173923,\n",
       "  'status': 'paid',\n",
       "  'date': '2020-12-21',\n",
       "  'currency': 'EUR',\n",
       "  'amount': '81.99',\n",
       "  'summary': {'adjustments_fee_amount': '0.00',\n",
       "   'adjustments_gross_amount': '2.52',\n",
       "   'charges_fee_amount': '4.53',\n",
       "   'charges_gross_amount': '168.00',\n",
       "   'refunds_fee_amount': '0.00',\n",
       "   'refunds_gross_amount': '-84.00',\n",
       "   'reserved_funds_fee_amount': '0.00',\n",
       "   'reserved_funds_gross_amount': '0.00',\n",
       "   'retried_payouts_fee_amount': '0.00',\n",
       "   'retried_payouts_gross_amount': '0.00'}},\n",
       " {'id': 61208625251,\n",
       "  'status': 'paid',\n",
       "  'date': '2020-12-18',\n",
       "  'currency': 'EUR',\n",
       "  'amount': '233.70',\n",
       "  'summary': {'adjustments_fee_amount': '0.00',\n",
       "   'adjustments_gross_amount': '0.00',\n",
       "   'charges_fee_amount': '6.55',\n",
       "   'charges_gross_amount': '240.25',\n",
       "   'refunds_fee_amount': '0.00',\n",
       "   'refunds_gross_amount': '0.00',\n",
       "   'reserved_funds_fee_amount': '0.00',\n",
       "   'reserved_funds_gross_amount': '0.00',\n",
       "   'retried_payouts_fee_amount': '0.00',\n",
       "   'retried_payouts_gross_amount': '0.00'}},\n",
       " {'id': 61146595427,\n",
       "  'status': 'paid',\n",
       "  'date': '2020-12-17',\n",
       "  'currency': 'EUR',\n",
       "  'amount': '67.05',\n",
       "  'summary': {'adjustments_fee_amount': '0.00',\n",
       "   'adjustments_gross_amount': '0.00',\n",
       "   'charges_fee_amount': '1.95',\n",
       "   'charges_gross_amount': '69.00',\n",
       "   'refunds_fee_amount': '0.00',\n",
       "   'refunds_gross_amount': '0.00',\n",
       "   'reserved_funds_fee_amount': '0.00',\n",
       "   'reserved_funds_gross_amount': '0.00',\n",
       "   'retried_payouts_fee_amount': '0.00',\n",
       "   'retried_payouts_gross_amount': '0.00'}},\n",
       " {'id': 61083222115,\n",
       "  'status': 'paid',\n",
       "  'date': '2020-12-16',\n",
       "  'currency': 'EUR',\n",
       "  'amount': '793.38',\n",
       "  'summary': {'adjustments_fee_amount': '0.00',\n",
       "   'adjustments_gross_amount': '0.00',\n",
       "   'charges_fee_amount': '20.62',\n",
       "   'charges_gross_amount': '814.00',\n",
       "   'refunds_fee_amount': '0.00',\n",
       "   'refunds_gross_amount': '0.00',\n",
       "   'reserved_funds_fee_amount': '0.00',\n",
       "   'reserved_funds_gross_amount': '0.00',\n",
       "   'retried_payouts_fee_amount': '0.00',\n",
       "   'retried_payouts_gross_amount': '0.00'}},\n",
       " {'id': 61019258979,\n",
       "  'status': 'paid',\n",
       "  'date': '2020-12-15',\n",
       "  'currency': 'EUR',\n",
       "  'amount': '281.92',\n",
       "  'summary': {'adjustments_fee_amount': '0.00',\n",
       "   'adjustments_gross_amount': '0.00',\n",
       "   'charges_fee_amount': '7.33',\n",
       "   'charges_gross_amount': '289.25',\n",
       "   'refunds_fee_amount': '0.00',\n",
       "   'refunds_gross_amount': '0.00',\n",
       "   'reserved_funds_fee_amount': '0.00',\n",
       "   'reserved_funds_gross_amount': '0.00',\n",
       "   'retried_payouts_fee_amount': '0.00',\n",
       "   'retried_payouts_gross_amount': '0.00'}},\n",
       " {'id': 60932816995,\n",
       "  'status': 'paid',\n",
       "  'date': '2020-12-14',\n",
       "  'currency': 'EUR',\n",
       "  'amount': '188.43',\n",
       "  'summary': {'adjustments_fee_amount': '0.00',\n",
       "   'adjustments_gross_amount': '0.00',\n",
       "   'charges_fee_amount': '5.07',\n",
       "   'charges_gross_amount': '193.50',\n",
       "   'refunds_fee_amount': '0.00',\n",
       "   'refunds_gross_amount': '0.00',\n",
       "   'reserved_funds_fee_amount': '0.00',\n",
       "   'reserved_funds_gross_amount': '0.00',\n",
       "   'retried_payouts_fee_amount': '0.00',\n",
       "   'retried_payouts_gross_amount': '0.00'}},\n",
       " {'id': 60885467235,\n",
       "  'status': 'paid',\n",
       "  'date': '2020-12-11',\n",
       "  'currency': 'EUR',\n",
       "  'amount': '676.49',\n",
       "  'summary': {'adjustments_fee_amount': '0.00',\n",
       "   'adjustments_gross_amount': '0.00',\n",
       "   'charges_fee_amount': '16.31',\n",
       "   'charges_gross_amount': '692.80',\n",
       "   'refunds_fee_amount': '0.00',\n",
       "   'refunds_gross_amount': '0.00',\n",
       "   'reserved_funds_fee_amount': '0.00',\n",
       "   'reserved_funds_gross_amount': '0.00',\n",
       "   'retried_payouts_fee_amount': '0.00',\n",
       "   'retried_payouts_gross_amount': '0.00'}},\n",
       " {'id': 60824649827,\n",
       "  'status': 'paid',\n",
       "  'date': '2020-12-10',\n",
       "  'currency': 'EUR',\n",
       "  'amount': '198.97',\n",
       "  'summary': {'adjustments_fee_amount': '0.00',\n",
       "   'adjustments_gross_amount': '0.00',\n",
       "   'charges_fee_amount': '5.03',\n",
       "   'charges_gross_amount': '204.00',\n",
       "   'refunds_fee_amount': '0.00',\n",
       "   'refunds_gross_amount': '0.00',\n",
       "   'reserved_funds_fee_amount': '0.00',\n",
       "   'reserved_funds_gross_amount': '0.00',\n",
       "   'retried_payouts_fee_amount': '0.00',\n",
       "   'retried_payouts_gross_amount': '0.00'}},\n",
       " {'id': 60756688995,\n",
       "  'status': 'paid',\n",
       "  'date': '2020-12-09',\n",
       "  'currency': 'EUR',\n",
       "  'amount': '733.30',\n",
       "  'summary': {'adjustments_fee_amount': '0.00',\n",
       "   'adjustments_gross_amount': '0.00',\n",
       "   'charges_fee_amount': '19.58',\n",
       "   'charges_gross_amount': '752.88',\n",
       "   'refunds_fee_amount': '0.00',\n",
       "   'refunds_gross_amount': '0.00',\n",
       "   'reserved_funds_fee_amount': '0.00',\n",
       "   'reserved_funds_gross_amount': '0.00',\n",
       "   'retried_payouts_fee_amount': '0.00',\n",
       "   'retried_payouts_gross_amount': '0.00'}},\n",
       " {'id': 60692004963,\n",
       "  'status': 'paid',\n",
       "  'date': '2020-12-08',\n",
       "  'currency': 'EUR',\n",
       "  'amount': '116.97',\n",
       "  'summary': {'adjustments_fee_amount': '0.00',\n",
       "   'adjustments_gross_amount': '0.00',\n",
       "   'charges_fee_amount': '3.28',\n",
       "   'charges_gross_amount': '120.25',\n",
       "   'refunds_fee_amount': '0.00',\n",
       "   'refunds_gross_amount': '0.00',\n",
       "   'reserved_funds_fee_amount': '0.00',\n",
       "   'reserved_funds_gross_amount': '0.00',\n",
       "   'retried_payouts_fee_amount': '0.00',\n",
       "   'retried_payouts_gross_amount': '0.00'}},\n",
       " {'id': 60618113123,\n",
       "  'status': 'paid',\n",
       "  'date': '2020-12-07',\n",
       "  'currency': 'EUR',\n",
       "  'amount': '220.02',\n",
       "  'summary': {'adjustments_fee_amount': '0.00',\n",
       "   'adjustments_gross_amount': '0.00',\n",
       "   'charges_fee_amount': '4.98',\n",
       "   'charges_gross_amount': '225.00',\n",
       "   'refunds_fee_amount': '0.00',\n",
       "   'refunds_gross_amount': '0.00',\n",
       "   'reserved_funds_fee_amount': '0.00',\n",
       "   'reserved_funds_gross_amount': '0.00',\n",
       "   'retried_payouts_fee_amount': '0.00',\n",
       "   'retried_payouts_gross_amount': '0.00'}},\n",
       " {'id': 60452438115,\n",
       "  'status': 'paid',\n",
       "  'date': '2020-12-02',\n",
       "  'currency': 'EUR',\n",
       "  'amount': '44.29',\n",
       "  'summary': {'adjustments_fee_amount': '0.00',\n",
       "   'adjustments_gross_amount': '0.00',\n",
       "   'charges_fee_amount': '1.21',\n",
       "   'charges_gross_amount': '45.50',\n",
       "   'refunds_fee_amount': '0.00',\n",
       "   'refunds_gross_amount': '0.00',\n",
       "   'reserved_funds_fee_amount': '0.00',\n",
       "   'reserved_funds_gross_amount': '0.00',\n",
       "   'retried_payouts_fee_amount': '0.00',\n",
       "   'retried_payouts_gross_amount': '0.00'}},\n",
       " {'id': 60253110371,\n",
       "  'status': 'paid',\n",
       "  'date': '2020-11-27',\n",
       "  'currency': 'EUR',\n",
       "  'amount': '85.90',\n",
       "  'summary': {'adjustments_fee_amount': '0.00',\n",
       "   'adjustments_gross_amount': '0.00',\n",
       "   'charges_fee_amount': '2.10',\n",
       "   'charges_gross_amount': '88.00',\n",
       "   'refunds_fee_amount': '0.00',\n",
       "   'refunds_gross_amount': '0.00',\n",
       "   'reserved_funds_fee_amount': '0.00',\n",
       "   'reserved_funds_gross_amount': '0.00',\n",
       "   'retried_payouts_fee_amount': '0.00',\n",
       "   'retried_payouts_gross_amount': '0.00'}},\n",
       " {'id': 60145762403,\n",
       "  'status': 'paid',\n",
       "  'date': '2020-11-25',\n",
       "  'currency': 'EUR',\n",
       "  'amount': '93.48',\n",
       "  'summary': {'adjustments_fee_amount': '0.00',\n",
       "   'adjustments_gross_amount': '0.53',\n",
       "   'charges_fee_amount': '3.05',\n",
       "   'charges_gross_amount': '109.50',\n",
       "   'refunds_fee_amount': '0.00',\n",
       "   'refunds_gross_amount': '-13.50',\n",
       "   'reserved_funds_fee_amount': '0.00',\n",
       "   'reserved_funds_gross_amount': '0.00',\n",
       "   'retried_payouts_fee_amount': '0.00',\n",
       "   'retried_payouts_gross_amount': '0.00'}}]"
      ]
     },
     "execution_count": 32,
     "metadata": {},
     "output_type": "execute_result"
    }
   ],
   "source": [
    "payouts2020"
   ]
  },
  {
   "cell_type": "code",
   "execution_count": 28,
   "metadata": {},
   "outputs": [],
   "source": [
    "i=col_info[0]['code']+1\n",
    "payouts2=[]\n",
    "for payout in payouts2020[::-1]:\n",
    "    d_conta={\n",
    "       \"creation_date\":\"2020-12-31T14:00:55.591Z\",\n",
    "       \"execution_date\":payout['date']+'T00:00:00.000Z',\n",
    "       \"place\":'spain',\n",
    "        #0DmODGTOEiM5lg9SGx0J - nikarit\n",
    "        \"project\":'0DmODGTOEiM5lg9SGx0J',\n",
    "        #w04441aFcU5b7pQm6Rd2 - españa\n",
    "        \"intervention\":'w04441aFcU5b7pQm6Rd2',\n",
    "        #no need for phase in movement\n",
    "        \"phase\":None,\n",
    "        # Dani - z5m936GA0t3vHM28QKhR\n",
    "        # Firebase_bot - oXJJEfAEPxFYtdJ2pnaU\n",
    "       \"creator_user\":\"oXJJEfAEPxFYtdJ2pnaU\",\n",
    "        #Jose - IjBxXuBshlfq2MUzwBSK\n",
    "        \"user_in_charge\":\"IjBxXuBshlfq2MUzwBSK\",\n",
    "        \"type\":'movement',\n",
    "        #cantidad de la transferencia\n",
    "       \"amount\":float(payout['amount']),\n",
    "        \"vat\":0,\n",
    "        # iA9Pzv2CImjItzwCaQv0 - Banco Stripe\n",
    "        \"account_id\":'iA9Pzv2CImjItzwCaQv0',\n",
    "        # vJbbj1kPxkcdXJyBOf1l - Banco Caja Ingenieros\n",
    "        \"target_id\":'vJbbj1kPxkcdXJyBOf1l',\n",
    "       \"concept\":'payout shopify',\n",
    "        \"description\":'payout de banco stripe a caja de ingenieros',\n",
    "        \"images\":[],\n",
    "        \"code\":i,\n",
    "        \"origin\":'script_dani'\n",
    "        \n",
    "    }\n",
    "   \n",
    "    i=i+1\n",
    "    \n",
    "    doc_acc = db.collection(u'Accounting').add(d_conta)[1]\n",
    "    doc_acc_id = doc_acc.id\n",
    "    doc_acc.update({'id':doc_acc_id})\n",
    "    \n",
    "    \n",
    "    payouts2.append(d_conta)"
   ]
  },
  {
   "cell_type": "code",
   "execution_count": 29,
   "metadata": {},
   "outputs": [
    {
     "data": {
      "text/plain": [
       "24"
      ]
     },
     "execution_count": 29,
     "metadata": {},
     "output_type": "execute_result"
    }
   ],
   "source": [
    "len(payouts2)"
   ]
  },
  {
   "cell_type": "code",
   "execution_count": 30,
   "metadata": {},
   "outputs": [
    {
     "data": {
      "text/plain": [
       "{'creation_date': '2020-12-31T14:00:55.591Z',\n",
       " 'execution_date': '2020-12-08T00:00:00.000Z',\n",
       " 'place': 'spain',\n",
       " 'project': '0DmODGTOEiM5lg9SGx0J',\n",
       " 'intervention': 'w04441aFcU5b7pQm6Rd2',\n",
       " 'phase': None,\n",
       " 'creator_user': 'oXJJEfAEPxFYtdJ2pnaU',\n",
       " 'user_in_charge': 'IjBxXuBshlfq2MUzwBSK',\n",
       " 'type': 'movement',\n",
       " 'amount': '116.97',\n",
       " 'vat': 0,\n",
       " 'account_id': 'iA9Pzv2CImjItzwCaQv0',\n",
       " 'target_id': 'vJbbj1kPxkcdXJyBOf1l',\n",
       " 'concept': 'payout shopify',\n",
       " 'description': 'payout de banco stripe a caja de ingenieros',\n",
       " 'images': [],\n",
       " 'code': 2510,\n",
       " 'origin': 'script_dani'}"
      ]
     },
     "execution_count": 30,
     "metadata": {},
     "output_type": "execute_result"
    }
   ],
   "source": [
    "payouts2[4]"
   ]
  },
  {
   "cell_type": "code",
   "execution_count": 31,
   "metadata": {},
   "outputs": [
    {
     "data": {
      "text/plain": [
       "update_time {\n",
       "  seconds: 1609887779\n",
       "  nanos: 609631000\n",
       "}"
      ]
     },
     "execution_count": 31,
     "metadata": {},
     "output_type": "execute_result"
    }
   ],
   "source": [
    "db.collection(u'Collections_Info').document(u'Accounting').update({'code':i})"
   ]
  },
  {
   "cell_type": "markdown",
   "metadata": {},
   "source": [
    "### contabilziar donaciones"
   ]
  },
  {
   "cell_type": "code",
   "execution_count": 40,
   "metadata": {},
   "outputs": [],
   "source": [
    "meses = {\n",
    "    0:'enero',\n",
    "    1:'febrero',\n",
    "    2:'marzo',\n",
    "    3:'abril',\n",
    "    4:'mayo',\n",
    "    5:'junio',\n",
    "    6:'julio',\n",
    "    7:'agosto',\n",
    "    8:'septiembre',\n",
    "    9:'octubre'\n",
    "}"
   ]
  },
  {
   "cell_type": "code",
   "execution_count": 41,
   "metadata": {},
   "outputs": [],
   "source": [
    "donaciones=[]\n",
    "#for p in range(8):\n",
    "for p in [8]:\n",
    "    d_conta={\n",
    "       \"creation_date\":\"2020-09-06T15:00:55.591Z\",\n",
    "       \"execution_date\":\"2020-0\"+str(p+1)+\"-04T15:00:55.591Z\",\n",
    "       \"place\":'spain',\n",
    "        #4zcptWXv2IqQFkIMz2MP - admin general\n",
    "        \"project\":'4zcptWXv2IqQFkIMz2MP',\n",
    "        #8DG4syjb1kUl8HzfEWz1 - españa\n",
    "        \"intervention\":'8DG4syjb1kUl8HzfEWz1',\n",
    "        \"phase\":None,\n",
    "        # Dani - z5m936GA0t3vHM28QKhR\n",
    "       \"creator_user\":\"z5m936GA0t3vHM28QKhR\",\n",
    "        #Alex - uCF6bT532woZwE9vQOuv\n",
    "        \"user_in_charge\":\"uCF6bT532woZwE9vQOuv\",\n",
    "        \"type\":'income',\n",
    "        #cantidad de la transferencia 19.51 alex 9.63 patricia y 9.46 antonio\n",
    "       \"amount\":19.51,\n",
    "        \"vat\":0,\n",
    "        # I6vsoTqCKFAS1AK09qzW - Donaciones\n",
    "        \"account_id\":'I6vsoTqCKFAS1AK09qzW',\n",
    "        # vJbbj1kPxkcdXJyBOf1l - Banco Caja Ingenieros\n",
    "        \"target_id\":'vJbbj1kPxkcdXJyBOf1l',\n",
    "       \"concept\":'Donacion Alex del Estal '+meses[p]+' 2020',\n",
    "        \"description\":'Donacion Alex del Estal '+meses[p]+' 2020',\n",
    "        \"images\":[],\n",
    "        \"code\":i,\n",
    "        \"origin\":'script_dani'\n",
    "        \n",
    "    }\n",
    "    d_conta2={\n",
    "       \"creation_date\":\"2020-09-06T15:00:55.591Z\",\n",
    "       \"execution_date\":\"2020-0\"+str(p+1)+\"-16T15:00:55.591Z\",\n",
    "       \"place\":'spain',\n",
    "        #4zcptWXv2IqQFkIMz2MP - admin general\n",
    "        \"project\":'4zcptWXv2IqQFkIMz2MP',\n",
    "        #8DG4syjb1kUl8HzfEWz1 - españa\n",
    "        \"intervention\":'8DG4syjb1kUl8HzfEWz1',\n",
    "        \"phase\":None,\n",
    "        # Dani - z5m936GA0t3vHM28QKhR\n",
    "       \"creator_user\":\"z5m936GA0t3vHM28QKhR\",\n",
    "        #Alex - uCF6bT532woZwE9vQOuv\n",
    "        \"user_in_charge\":\"uCF6bT532woZwE9vQOuv\",\n",
    "        \"type\":'income',\n",
    "        #cantidad de la transferencia 19.51 alex 9.63 patricia y 9.46 antonio\n",
    "       \"amount\":9.63,\n",
    "        \"vat\":0,\n",
    "        # I6vsoTqCKFAS1AK09qzW - Donaciones\n",
    "        \"account_id\":'I6vsoTqCKFAS1AK09qzW',\n",
    "        # vJbbj1kPxkcdXJyBOf1l - Banco Caja Ingenieros\n",
    "        \"target_id\":'vJbbj1kPxkcdXJyBOf1l',\n",
    "       \"concept\":'Donacion Patricia Barcelo del Olmo '+meses[p]+' 2020',\n",
    "        \"description\":'Donacion Patricia Barcelo del Olmo '+meses[p]+' 2020',\n",
    "        \"images\":[],\n",
    "        \"code\":i+1,\n",
    "        \"origin\":'script_dani'\n",
    "        \n",
    "    }\n",
    "    d_conta3={\n",
    "       \"creation_date\":\"2020-09-06T15:00:55.591Z\",\n",
    "       \"execution_date\":\"2020-0\"+str(p+1)+\"-16T15:00:55.591Z\",\n",
    "       \"place\":'spain',\n",
    "        #4zcptWXv2IqQFkIMz2MP - admin general\n",
    "        \"project\":'4zcptWXv2IqQFkIMz2MP',\n",
    "        #8DG4syjb1kUl8HzfEWz1 - españa\n",
    "        \"intervention\":'8DG4syjb1kUl8HzfEWz1',\n",
    "        \"phase\":None,\n",
    "        # Dani - z5m936GA0t3vHM28QKhR\n",
    "       \"creator_user\":\"z5m936GA0t3vHM28QKhR\",\n",
    "        #Alex - uCF6bT532woZwE9vQOuv\n",
    "        \"user_in_charge\":\"uCF6bT532woZwE9vQOuv\",\n",
    "        \"type\":'income',\n",
    "        #cantidad de la transferencia 19.51 alex 9.63 patricia y 9.46 antonio\n",
    "       \"amount\":9.46,\n",
    "        \"vat\":0,\n",
    "        # I6vsoTqCKFAS1AK09qzW - Donaciones\n",
    "        \"account_id\":'I6vsoTqCKFAS1AK09qzW',\n",
    "        # yfy4cPxkmFwIYVnoWD0A - Paypal\n",
    "        \"target_id\":'yfy4cPxkmFwIYVnoWD0A',\n",
    "       \"concept\":'Donacion Antonio Jaime Azuara '+meses[p]+' 2020',\n",
    "        \"description\":'Donacion Antonio Jaime Azuara '+meses[p]+' 2020',\n",
    "        \"images\":[],\n",
    "        \"code\":i+2,\n",
    "        \"origin\":'script_dani'\n",
    "        \n",
    "    }\n",
    "   \n",
    "    i=i+3\n",
    "    \n",
    "    doc_acc = db.collection(u'Accounting').add(d_conta)[1]\n",
    "    doc_acc_id = doc_acc.id\n",
    "    doc_acc.update({'id':doc_acc_id})\n",
    "    \n",
    "    doc_acc = db.collection(u'Accounting').add(d_conta2)[1]\n",
    "    doc_acc_id = doc_acc.id\n",
    "    doc_acc.update({'id':doc_acc_id})\n",
    "    \n",
    "    doc_acc = db.collection(u'Accounting').add(d_conta3)[1]\n",
    "    doc_acc_id = doc_acc.id\n",
    "    doc_acc.update({'id':doc_acc_id})\n",
    "    \n",
    "    \n",
    "    donaciones.append(d_conta)\n",
    "    donaciones.append(d_conta2)\n",
    "    donaciones.append(d_conta3)"
   ]
  },
  {
   "cell_type": "code",
   "execution_count": 8,
   "metadata": {},
   "outputs": [],
   "source": [
    "ventas = db.collection('Nikarit_Sales').stream()"
   ]
  },
  {
   "cell_type": "code",
   "execution_count": 9,
   "metadata": {},
   "outputs": [],
   "source": [
    "d_ventas = []\n",
    "for venta in ventas:\n",
    "    d_ventas.append(venta.to_dict())"
   ]
  },
  {
   "cell_type": "code",
   "execution_count": 10,
   "metadata": {},
   "outputs": [],
   "source": [
    "df_ventas = pd.DataFrame(d_ventas)"
   ]
  },
  {
   "cell_type": "code",
   "execution_count": 11,
   "metadata": {},
   "outputs": [
    {
     "data": {
      "text/html": [
       "<div>\n",
       "<style scoped>\n",
       "    .dataframe tbody tr th:only-of-type {\n",
       "        vertical-align: middle;\n",
       "    }\n",
       "\n",
       "    .dataframe tbody tr th {\n",
       "        vertical-align: top;\n",
       "    }\n",
       "\n",
       "    .dataframe thead th {\n",
       "        text-align: right;\n",
       "    }\n",
       "</style>\n",
       "<table border=\"1\" class=\"dataframe\">\n",
       "  <thead>\n",
       "    <tr style=\"text-align: right;\">\n",
       "      <th></th>\n",
       "      <th>product_movement</th>\n",
       "      <th>manteca_unit_price</th>\n",
       "      <th>order_id</th>\n",
       "      <th>crema_nb</th>\n",
       "      <th>packHidra_unit_price</th>\n",
       "      <th>packContigo_unit_price</th>\n",
       "      <th>taxes_included</th>\n",
       "      <th>gateway</th>\n",
       "      <th>client_last_name</th>\n",
       "      <th>zip</th>\n",
       "      <th>...</th>\n",
       "      <th>city</th>\n",
       "      <th>client_phone</th>\n",
       "      <th>navidadCode</th>\n",
       "      <th>bolsa_unit_price</th>\n",
       "      <th>packAbanico_total_price</th>\n",
       "      <th>packAbanico_nb</th>\n",
       "      <th>bolsa_total_price</th>\n",
       "      <th>donation</th>\n",
       "      <th>message</th>\n",
       "      <th>to</th>\n",
       "    </tr>\n",
       "  </thead>\n",
       "  <tbody>\n",
       "  </tbody>\n",
       "</table>\n",
       "<p>0 rows × 57 columns</p>\n",
       "</div>"
      ],
      "text/plain": [
       "Empty DataFrame\n",
       "Columns: [product_movement, manteca_unit_price, order_id, crema_nb, packHidra_unit_price, packContigo_unit_price, taxes_included, gateway, client_last_name, zip, balsamo_unit_price, country, id, buyer_accepts_marketing, packContigo_total_price, longitude, order_status_url, balsamo_nb, manteca_total_price, packHidra_total_price, origin, total_price, client_email, manteca_nb, province, creation_date, subtotal_price, close_date, latitude, packContigo_nb, accounting_item, client_name, balsamo_total_price, crema_total_price, crema_unit_price, client_gender, total_tax, packHidra_nb, packNavidad_nb, packBandana_total_price, packBandana_nb, packAbanico_unit_price, packNavidad_unit_price, packBandana_unit_price, client_adresse, packNavidad_total_price, bolsa_nb, city, client_phone, navidadCode, bolsa_unit_price, packAbanico_total_price, packAbanico_nb, bolsa_total_price, donation, message, to]\n",
       "Index: []\n",
       "\n",
       "[0 rows x 57 columns]"
      ]
     },
     "execution_count": 11,
     "metadata": {},
     "output_type": "execute_result"
    }
   ],
   "source": [
    "df_ventas[df_ventas['total_price'] == 278.30]"
   ]
  },
  {
   "cell_type": "code",
   "execution_count": 12,
   "metadata": {},
   "outputs": [
    {
     "data": {
      "text/plain": [
       "Unknown    809\n",
       "Female      28\n",
       "Male         7\n",
       "Other        4\n",
       "Name: client_gender, dtype: int64"
      ]
     },
     "execution_count": 12,
     "metadata": {},
     "output_type": "execute_result"
    }
   ],
   "source": [
    "df_ventas[\"client_gender\"].value_counts()"
   ]
  },
  {
   "cell_type": "markdown",
   "metadata": {},
   "source": [
    "## AÑADIR UNA VENTA NUEVA"
   ]
  },
  {
   "cell_type": "code",
   "execution_count": 38,
   "metadata": {},
   "outputs": [],
   "source": [
    "#coger venta que nos interesa copiar - Jose Pedro venta pack Navidad\n",
    "venta_ex = db.collection('Nikarit_Sales').document('Es21K7uWRNu17m0ShrAn').get().to_dict()"
   ]
  },
  {
   "cell_type": "code",
   "execution_count": 39,
   "metadata": {},
   "outputs": [],
   "source": [
    "##le quito el pack navidad de la venta_ex\n",
    "venta_ex['packNavidad_nb'] = 13\n",
    "venta_ex['packNavidad_unit_price']\n",
    "\n",
    "venta_ex['packNavidad_total_price'] = round(venta_ex['packNavidad_unit_price']*venta_ex['packNavidad_nb'],2)\n",
    "\n",
    "#modifico el resto de campos\n",
    "#productos vendidos\n",
    "#venta_ex['manteca_nb'] = 5\n",
    "#venta_ex['manteca_unit_price']= 5.0\n",
    "#venta_ex['manteca_total_price'] = venta_ex['manteca_nb']*venta_ex['manteca_unit_price']\n",
    "\n",
    "#datos de la venta\n",
    "venta_ex['creation_date'] = \"2020-12-16T11:21:16.836Z\"\n",
    "venta_ex['close_date'] = venta_ex['creation_date']\n",
    "\n",
    "#datos cliente\n",
    "venta_ex['client_last_name'] = \"Jordan\"\n",
    "venta_ex['client_name'] = \"Jose Manuel\"\n",
    "venta_ex['client_gender'] = \"Male\"\n",
    "venta_ex['city']= \"Valladolid\"\n",
    "\n",
    "#precio total\n",
    "price=venta_ex['packNavidad_total_price']\n",
    "venta_ex['total_price'] = price\n",
    "venta_ex[\"subtotal_price\"] = price\n",
    "venta_ex['total_tax']= round(price*(1-1/1.21),2)"
   ]
  },
  {
   "cell_type": "code",
   "execution_count": 40,
   "metadata": {},
   "outputs": [
    {
     "data": {
      "text/plain": [
       "update_time {\n",
       "  seconds: 1610137105\n",
       "  nanos: 329887000\n",
       "}"
      ]
     },
     "execution_count": 40,
     "metadata": {},
     "output_type": "execute_result"
    }
   ],
   "source": [
    "doc_acc = db.collection(u'Nikarit_Sales').add(venta_ex)[1]\n",
    "doc_acc_id = doc_acc.id\n",
    "doc_acc.update({'id':doc_acc_id})"
   ]
  },
  {
   "cell_type": "code",
   "execution_count": null,
   "metadata": {},
   "outputs": [],
   "source": []
  }
 ],
 "metadata": {
  "accelerator": "GPU",
  "colab": {
   "collapsed_sections": [],
   "name": "simular_pedido.ipynb",
   "provenance": [],
   "toc_visible": true
  },
  "kernelspec": {
   "display_name": "Python 3",
   "language": "python",
   "name": "python3"
  },
  "language_info": {
   "codemirror_mode": {
    "name": "ipython",
    "version": 3
   },
   "file_extension": ".py",
   "mimetype": "text/x-python",
   "name": "python",
   "nbconvert_exporter": "python",
   "pygments_lexer": "ipython3",
   "version": "3.8.3"
  }
 },
 "nbformat": 4,
 "nbformat_minor": 1
}

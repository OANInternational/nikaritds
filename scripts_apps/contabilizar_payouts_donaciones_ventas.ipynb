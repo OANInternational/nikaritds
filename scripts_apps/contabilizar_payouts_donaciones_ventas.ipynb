{
 "cells": [
  {
   "cell_type": "markdown",
   "metadata": {
    "colab_type": "text",
    "id": "t6gXq3Dwwhm_"
   },
   "source": [
    "# Imports"
   ]
  },
  {
   "cell_type": "code",
   "execution_count": 40,
   "metadata": {},
   "outputs": [],
   "source": [
    "# Imports\n",
    "import pandas as pd\n",
    "\n",
    "import requests\n",
    "import yaml\n",
    "import json\n",
    "import os\n",
    "import firebase_admin\n",
    "from datetime import datetime\n",
    "\n",
    "#Firbease (pip install firebase_admin)\n",
    "from firebase_admin import credentials\n",
    "from firebase_admin import firestore\n",
    "\n",
    "from dotenv import load_dotenv\n",
    " \n",
    "load_dotenv(dotenv_path='/Users/daniel/OAN/credentials/contoan/.env')\n",
    "\n",
    "shop_url = os.environ['SHOPIFY_ACCESS_URL']\n"
   ]
  },
  {
   "cell_type": "markdown",
   "metadata": {},
   "source": [
    "## ACCESS FIREBASE"
   ]
  },
  {
   "cell_type": "code",
   "execution_count": 41,
   "metadata": {},
   "outputs": [],
   "source": [
    "filename=os.environ['FIREBASE_FILENAME']"
   ]
  },
  {
   "cell_type": "code",
   "execution_count": null,
   "metadata": {},
   "outputs": [],
   "source": [
    "# Use a service account\n",
    "cred = credentials.Certificate(filename)\n",
    "firebase_admin.initialize_app(cred)\n",
    "\n",
    "db = firestore.client()"
   ]
  },
  {
   "cell_type": "markdown",
   "metadata": {},
   "source": [
    "## LAST PAYOUT"
   ]
  },
  {
   "cell_type": "code",
   "execution_count": 43,
   "metadata": {},
   "outputs": [],
   "source": [
    "payouts = db.collection('Accounting').where('concept','==','payout shopify').stream()"
   ]
  },
  {
   "cell_type": "code",
   "execution_count": 44,
   "metadata": {},
   "outputs": [],
   "source": [
    "l_payouts = []\n",
    "for payout in payouts:\n",
    "    #print(payout)\n",
    "    l_payouts.append(payout.to_dict())"
   ]
  },
  {
   "cell_type": "code",
   "execution_count": 45,
   "metadata": {},
   "outputs": [
    {
     "data": {
      "text/plain": [
       "'2021-04-13'"
      ]
     },
     "execution_count": 45,
     "metadata": {},
     "output_type": "execute_result"
    }
   ],
   "source": [
    "date_min = (pd.to_datetime(pd.DataFrame(l_payouts)['execution_date'].max()) + pd.DateOffset(1)).isoformat()[0:10]\n",
    "date_min"
   ]
  },
  {
   "cell_type": "markdown",
   "metadata": {},
   "source": [
    "## get transactions"
   ]
  },
  {
   "cell_type": "code",
   "execution_count": 67,
   "metadata": {},
   "outputs": [],
   "source": [
    "r = requests.get(shop_url+\"/shopify_payments/payouts.json\",\n",
    "                params={\n",
    "                'limit':250,\n",
    "                'date_min':date_min,\n",
    "                \"status\": \"paid\"\n",
    "                 })"
   ]
  },
  {
   "cell_type": "code",
   "execution_count": 68,
   "metadata": {},
   "outputs": [],
   "source": [
    "#r = requests.get(shop_url+\"/shopify_payments/balance/transactions.json\",\n",
    "#                params={\n",
    "#                'limit':250,\n",
    "#                 })"
   ]
  },
  {
   "cell_type": "code",
   "execution_count": 69,
   "metadata": {},
   "outputs": [],
   "source": [
    "payouts = r.json()"
   ]
  },
  {
   "cell_type": "code",
   "execution_count": 70,
   "metadata": {},
   "outputs": [
    {
     "data": {
      "text/plain": [
       "3"
      ]
     },
     "execution_count": 70,
     "metadata": {},
     "output_type": "execute_result"
    }
   ],
   "source": [
    "len(payouts['payouts'])"
   ]
  },
  {
   "cell_type": "code",
   "execution_count": 74,
   "metadata": {},
   "outputs": [
    {
     "data": {
      "text/plain": [
       "{'id': 69030412387,\n",
       " 'status': 'paid',\n",
       " 'date': '2021-04-08',\n",
       " 'currency': 'EUR',\n",
       " 'amount': '28.14',\n",
       " 'summary': {'adjustments_fee_amount': '0.00',\n",
       "  'adjustments_gross_amount': '0.00',\n",
       "  'charges_fee_amount': '0.86',\n",
       "  'charges_gross_amount': '29.00',\n",
       "  'refunds_fee_amount': '0.00',\n",
       "  'refunds_gross_amount': '0.00',\n",
       "  'reserved_funds_fee_amount': '0.00',\n",
       "  'reserved_funds_gross_amount': '0.00',\n",
       "  'retried_payouts_fee_amount': '0.00',\n",
       "  'retried_payouts_gross_amount': '0.00'}}"
      ]
     },
     "execution_count": 74,
     "metadata": {},
     "output_type": "execute_result"
    }
   ],
   "source": [
    "payouts['payouts'][0]"
   ]
  },
  {
   "cell_type": "markdown",
   "metadata": {},
   "source": [
    "### get accounts info"
   ]
  },
  {
   "cell_type": "code",
   "execution_count": 28,
   "metadata": {},
   "outputs": [],
   "source": [
    "col_query = db.collection('Collections_Info').stream()"
   ]
  },
  {
   "cell_type": "code",
   "execution_count": 29,
   "metadata": {},
   "outputs": [
    {
     "name": "stdout",
     "output_type": "stream",
     "text": [
      "Accounting => {'code': 2923}\n",
      "Accounts => {'account_number': 572112}\n"
     ]
    }
   ],
   "source": [
    "col_query = db.collection('Collections_Info').stream()\n",
    "col_info = []\n",
    "for acc in col_query:\n",
    "    print(u'{} => {}'.format(acc.id, acc.to_dict()))\n",
    "    col_info.append(acc.to_dict())"
   ]
  },
  {
   "cell_type": "code",
   "execution_count": 34,
   "metadata": {},
   "outputs": [
    {
     "data": {
      "text/plain": [
       "'2021-04-10T17:25:47.155Z'"
      ]
     },
     "execution_count": 34,
     "metadata": {},
     "output_type": "execute_result"
    }
   ],
   "source": [
    "creation_date = datetime.today().isoformat()[:-3]+'Z'\n",
    "creation_date"
   ]
  },
  {
   "cell_type": "markdown",
   "metadata": {},
   "source": [
    "## contabilizar"
   ]
  },
  {
   "cell_type": "code",
   "execution_count": 24,
   "metadata": {},
   "outputs": [
    {
     "name": "stderr",
     "output_type": "stream",
     "text": [
      "Downloading: 100%|██████████| 31/31 [00:00<00:00, 40.35rows/s]\n"
     ]
    }
   ],
   "source": [
    "users = pd.read_gbq(\"\"\"\n",
    "SELECT *\n",
    "FROM `oan-nikarit.contoan.users`\n",
    "\"\"\")"
   ]
  },
  {
   "cell_type": "code",
   "execution_count": 25,
   "metadata": {},
   "outputs": [
    {
     "data": {
      "text/html": [
       "<div>\n",
       "<style scoped>\n",
       "    .dataframe tbody tr th:only-of-type {\n",
       "        vertical-align: middle;\n",
       "    }\n",
       "\n",
       "    .dataframe tbody tr th {\n",
       "        vertical-align: top;\n",
       "    }\n",
       "\n",
       "    .dataframe thead th {\n",
       "        text-align: right;\n",
       "    }\n",
       "</style>\n",
       "<table border=\"1\" class=\"dataframe\">\n",
       "  <thead>\n",
       "    <tr style=\"text-align: right;\">\n",
       "      <th></th>\n",
       "      <th>id</th>\n",
       "      <th>name</th>\n",
       "      <th>last_name</th>\n",
       "      <th>email</th>\n",
       "      <th>cuenta</th>\n",
       "    </tr>\n",
       "  </thead>\n",
       "  <tbody>\n",
       "    <tr>\n",
       "      <th>3</th>\n",
       "      <td>oXJJEfAEPxFYtdJ2pnaU</td>\n",
       "      <td>Firebase</td>\n",
       "      <td>Cloud</td>\n",
       "      <td>None</td>\n",
       "      <td>None</td>\n",
       "    </tr>\n",
       "  </tbody>\n",
       "</table>\n",
       "</div>"
      ],
      "text/plain": [
       "                     id      name last_name email cuenta\n",
       "3  oXJJEfAEPxFYtdJ2pnaU  Firebase     Cloud  None   None"
      ]
     },
     "execution_count": 25,
     "metadata": {},
     "output_type": "execute_result"
    }
   ],
   "source": [
    "users[users['name'].str[0:2]=='Fi']"
   ]
  },
  {
   "cell_type": "code",
   "execution_count": 53,
   "metadata": {},
   "outputs": [
    {
     "ename": "Exception",
     "evalue": "Already done with payouts",
     "output_type": "error",
     "traceback": [
      "\u001b[0;31m---------------------------------------------------------------------------\u001b[0m",
      "\u001b[0;31mException\u001b[0m                                 Traceback (most recent call last)",
      "\u001b[0;32m<ipython-input-53-30a577742e18>\u001b[0m in \u001b[0;36m<module>\u001b[0;34m\u001b[0m\n\u001b[1;32m      1\u001b[0m \u001b[0;32mif\u001b[0m \u001b[0mlen\u001b[0m\u001b[0;34m(\u001b[0m\u001b[0mpayouts\u001b[0m\u001b[0;34m[\u001b[0m\u001b[0;34m'payouts'\u001b[0m\u001b[0;34m]\u001b[0m\u001b[0;34m)\u001b[0m \u001b[0;34m==\u001b[0m \u001b[0;36m0\u001b[0m\u001b[0;34m:\u001b[0m\u001b[0;34m\u001b[0m\u001b[0;34m\u001b[0m\u001b[0m\n\u001b[0;32m----> 2\u001b[0;31m     \u001b[0;32mraise\u001b[0m \u001b[0mException\u001b[0m\u001b[0;34m(\u001b[0m\u001b[0;34m'Already done with payouts'\u001b[0m\u001b[0;34m)\u001b[0m\u001b[0;34m\u001b[0m\u001b[0;34m\u001b[0m\u001b[0m\n\u001b[0m\u001b[1;32m      3\u001b[0m \u001b[0mprint\u001b[0m\u001b[0;34m(\u001b[0m\u001b[0;34m'hola'\u001b[0m\u001b[0;34m)\u001b[0m\u001b[0;34m\u001b[0m\u001b[0;34m\u001b[0m\u001b[0m\n",
      "\u001b[0;31mException\u001b[0m: Already done with payouts"
     ]
    }
   ],
   "source": [
    "if len(payouts['payouts']) == 0:\n",
    "    raise Exception('Already done with payouts')\n",
    "print('hola')"
   ]
  },
  {
   "cell_type": "code",
   "execution_count": 36,
   "metadata": {},
   "outputs": [],
   "source": [
    "i=col_info[0]['code']+1\n",
    "payouts2=[]\n",
    "for payout in payouts['payouts'][::-1]:\n",
    "    d_conta={\n",
    "       \"creation_date\":creation_date,\n",
    "       \"execution_date\":payout['date']+'T00:00:00.000Z',\n",
    "       \"place\":'spain',\n",
    "        #0DmODGTOEiM5lg9SGx0J - nikarit\n",
    "        \"project\":'0DmODGTOEiM5lg9SGx0J',\n",
    "        #w04441aFcU5b7pQm6Rd2 - españa\n",
    "        \"intervention\":'w04441aFcU5b7pQm6Rd2',\n",
    "        #no need for phase in movement\n",
    "        \"phase\":None,\n",
    "        # Dani - z5m936GA0t3vHM28QKhR\n",
    "        # Firebase_bot - oXJJEfAEPxFYtdJ2pnaU\n",
    "       \"creator_user\":\"oXJJEfAEPxFYtdJ2pnaU\",\n",
    "        #Jose - IjBxXuBshlfq2MUzwBSK\n",
    "        \"user_in_charge\":\"IjBxXuBshlfq2MUzwBSK\",\n",
    "        \"type\":'movement',\n",
    "        #cantidad de la transferencia\n",
    "       \"amount\":float(payout['amount']),\n",
    "        \"vat\":0,\n",
    "        # iA9Pzv2CImjItzwCaQv0 - Banco Stripe\n",
    "        \"account_id\":'iA9Pzv2CImjItzwCaQv0',\n",
    "        # vJbbj1kPxkcdXJyBOf1l - Banco Caja Ingenieros\n",
    "        \"target_id\":'vJbbj1kPxkcdXJyBOf1l',\n",
    "       \"concept\":'payout shopify',\n",
    "        \"description\":'payout de banco stripe a caja de ingenieros',\n",
    "        \"images\":[],\n",
    "        \"code\":i,\n",
    "        \"origin\":'script_dani'\n",
    "        \n",
    "    }\n",
    "   \n",
    "    i=i+1\n",
    "    \n",
    "    doc_acc = db.collection(u'Accounting').add(d_conta)[1]\n",
    "    doc_acc_id = doc_acc.id\n",
    "    doc_acc.update({'id':doc_acc_id})\n",
    "    \n",
    "    d_conta['id'] = doc_acc_id\n",
    "    \n",
    "    payouts2.append(d_conta)"
   ]
  },
  {
   "cell_type": "code",
   "execution_count": 37,
   "metadata": {},
   "outputs": [
    {
     "data": {
      "text/plain": [
       "23"
      ]
     },
     "execution_count": 37,
     "metadata": {},
     "output_type": "execute_result"
    }
   ],
   "source": [
    "len(payouts2)"
   ]
  },
  {
   "cell_type": "code",
   "execution_count": 38,
   "metadata": {},
   "outputs": [
    {
     "data": {
      "text/plain": [
       "update_time {\n",
       "  seconds: 1618068459\n",
       "  nanos: 217821000\n",
       "}"
      ]
     },
     "execution_count": 38,
     "metadata": {},
     "output_type": "execute_result"
    }
   ],
   "source": [
    "db.collection(u'Collections_Info').document(u'Accounting').update({'code':i})"
   ]
  },
  {
   "cell_type": "code",
   "execution_count": 65,
   "metadata": {},
   "outputs": [],
   "source": [
    "l_payouts_sorted = sorted(l_payouts, key=lambda k: k['execution_date']) "
   ]
  },
  {
   "cell_type": "code",
   "execution_count": 66,
   "metadata": {},
   "outputs": [
    {
     "name": "stdout",
     "output_type": "stream",
     "text": [
      "4oAtcWFIkpv6HCrEhePT 2020-01-02 100.09\n",
      "6ElcS6Ff3gvc7TxTZc64 2020-01-03 76.84\n",
      "bpLtEoyAHsTq1ctEMLSP 2020-01-08 66.32\n",
      "J8C1vG1RQpvs2OSbChG4 2020-01-13 20.31\n",
      "mLunuU271NzV47AB4nPq 2020-01-14 27.16\n",
      "70FQnZyM5oxD0TNPS9qm 2020-01-15 38.91\n",
      "BLBecvtfZFOrdfWGFd0V 2020-01-17 20.31\n",
      "CxEQkKpVIQYyZ7E1TkEz 2020-01-20 27.16\n",
      "g1OkxsWm4iU4N91ndoXh 2020-01-22 20.31\n",
      "iuYYhsuC9y8k0yRc8dSC 2020-01-24 28.14\n",
      "e6HjA7xBIuSzTPYWUBPe 2020-01-29 19.33\n",
      "fs9CdDiYNXuTg4Kn3bYq 2020-01-30 20.31\n",
      "0n0e1refyHFnLfvGl8wa 2020-02-05 44.78\n",
      "Kl7gTS7WZvsUPJ4sJwRU 2020-02-06 66.32\n",
      "3aZ9m5KcGor8gdt5Xpiw 2020-02-10 60.2\n",
      "ehbT3o7geES5Frjz3Phy 2020-02-11 20.31\n",
      "SZr513jNrmk9aDepNqgk 2020-02-19 41.85\n",
      "9Oy3Gq22O7Z4Mh6BLtBp 2020-02-26 11.5\n",
      "bhnCexJkb4Ap2pdD2WoM 2020-03-18 19.33\n",
      "gvz5uB3ZArI8R5vjCaEz 2020-03-25 20.31\n",
      "LREm7Wx9gyYYTQW3mtGE 2020-04-08 38.91\n",
      "1hgoC0sAlS4fN7QVGsQA 2020-04-09 20.31\n",
      "H9uv0QAOUMIOsy21Smqb 2020-04-16 100.09\n",
      "rIrIniMT7l8h4i3jaw6l 2020-04-21 11.5\n",
      "zH740eJ7Sop0JbOnVzgq 2020-04-23 26.18\n",
      "qxR7yGaNWdjaMZlcsFJh 2020-04-24 40.87\n",
      "Mu4nNNed3As2alOuE0hL 2020-04-27 40.62\n",
      "wg6d7paw95NhTPt8qIYx 2020-04-29 410.88\n",
      "TW62rsrK0KoGfnbCXODm 2020-04-30 919.39\n",
      "ECTcw0kuYwwZA43RjkZP 2020-05-04 1481.47\n",
      "qNKlFKhzfJmwbXWrW9P0 2020-05-05 998.41\n",
      "ceVbGXAJgvl7ZAU83w2O 2020-05-06 831.27\n",
      "wAY99GLwDs9WV4wDWCJL 2020-05-07 76.84\n",
      "kQ846MMq1ucWa8UjVddV 2020-05-08 36.79\n",
      "FEd3voZP0UAqqMBi7AcG 2020-05-11 286.56\n",
      "sdneJmIyS1I0hMqYa6cA 2020-05-12 111.59\n",
      "GpxVdErUGIFkkfPKPAZS 2020-05-13 141.68\n",
      "EzP49fsWnFZGPlMmRiXy 2020-05-14 16.39\n",
      "b9oZaGK3UCcX4xh4q3Yr 2020-05-15 49.68\n",
      "ctSjJpc26umfnNj72JL0 2020-05-20 20.31\n",
      "JyrEEVgnh2epkosYZM6y 2020-05-21 20.31\n",
      "0Pr00EoXZ7QoXbXL7s9T 2020-05-22 36.95\n",
      "EdTIuWxMabwue3sZkxwk 2020-05-25 40.62\n",
      "tSxV2DIQMDdHYJ5kdvX1 2020-05-29 40.87\n",
      "JE0PuLPxjNehqwWnJHrD 2020-06-03 57.26\n",
      "uQo0MVD67l8z5iRHaL9R 2020-06-04 20.31\n",
      "zEmlXcLsj8zZwcb5c8vK 2020-06-05 93.48\n",
      "1AU7mJLbPYIs4GftFU2T 2020-06-08 38.91\n",
      "roTnfZzlb7pHd9YSlC7T 2020-06-11 20.31\n",
      "EZqPMWOGPMqiYA1TT4zv 2020-06-12 20.31\n",
      "530DOMw6zk118wFt7kAh 2020-06-15 64.6\n",
      "nL4a2OcjX25p2FvEbtRg 2020-06-17 48.21\n",
      "KMZuZhUFgTeRH2FSuPOh 2020-06-18 20.31\n",
      "1T7F6an4gUyRyLNyXVxP 2020-06-23 70.97\n",
      "E9SKfb6cUhYjMxsfFi3E 2020-06-29 38.91\n",
      "EwTAHgeL2VageDC4bLdk 2020-07-01 20.31\n",
      "kKwma4f75PBtKkfthTKJ 2020-07-02 57.26\n",
      "dIYqj7ttK02ZLt5tt8XO 2020-07-06 27.16\n",
      "Y96YvcGfXeMNs4z18Pd0 2020-07-08 55.3\n",
      "xyhnWkNWQwglSBcZfV0P 2020-07-09 11.5\n",
      "VoYLSAAvRdTPUx0GLINY 2020-07-14 15.41\n",
      "feQxuJx0WE4Cy4ood1BX 2020-07-15 20.31\n",
      "rLmqOxK22C8KOVBkSsjR 2020-07-17 11.5\n",
      "R22POj8eOOFUwepXAXlP 2020-07-21 15.41\n",
      "OIPE8NRb8HZVAlbNyP3U 2020-07-22 115.76\n",
      "FayDx06ZwmnONpC30RzT 2020-07-29 67.37\n",
      "kjw4XuCUOhQ2z3CEWlLt 2020-08-04 23.25\n",
      "dJXpOEjCxpBVHUm5S4t1 2020-08-12 16.39\n",
      "4GsjGnfzREMb7Y26dn2d 2020-08-14 37.68\n",
      "ki20WI2QbHp8XX1FtsKX 2020-08-17 23.25\n",
      "XIFSAAU1I4i0ilfUVfm9 2020-08-19 40.87\n",
      "Nnj1Dlz1HdwDnjnY5qUP 2020-08-20 21.78\n",
      "Gl2ZhJ9AxAZ6ub8h9Ajo 2020-08-21 43.32\n",
      "vS4h3FjXNTWWRjVmdcEB 2020-08-27 43.56\n",
      "94TodKyz5I8JZemwUJeq 2020-09-03 40.87\n",
      "5fHjRBKCHVvfBsJhckFb 2020-09-09 38.91\n",
      "cGT5enAoFJTunBWriHnR 2020-09-11 12.97\n",
      "t2wszhRRYsdwQgPXWPjv 2020-09-14 24.71\n",
      "A0WJkwHLr7hRTqGR4Ot3 2020-09-15 29.61\n",
      "c1YBkfnorraw5E9D7ZpP 2020-09-16 24.22\n",
      "Pr5hAO8pl0vnxmQ7rtn6 2020-09-23 21.78\n",
      "2w8k96HxllI7QzAVGSKl 2020-09-24 46.74\n",
      "NugfOrcaduL2Z6gbuVq3 2020-09-29 21.78\n",
      "UM35L2mnrf1KUUESnC6U 2020-10-07 34.75\n",
      "pMJ4fu7TEW4gAhLpSYie 2020-10-08 56.04\n",
      "ZBgbewP4J7s6RJFTikvw 2020-11-12 295.86\n",
      "yALnr4xZdQWNfhVlPTDO 2020-11-16 40.87\n",
      "FzndFgbw5J4GzGOGYrxD 2020-11-18 109.88\n",
      "Tx0QrOTV8Amj0pn0ZaoY 2020-11-19 21.78\n",
      "AvsLy7jVb7pPIvfStjxv 2020-11-23 87.86\n",
      "7YbATfY6WYLuwjn7hCyD 2020-11-25 93.48\n",
      "Z3ZM62xdGCRKv2aFC0aN 2020-11-27 85.9\n",
      "TpWMZEOUFo7gnlHScDAE 2020-12-02 44.29\n",
      "4GGspiALRr6qY3rHWRLk 2020-12-07 220.02\n",
      "50u6XH76dOdLu2VtUzYo 2020-12-08 116.97\n",
      "bSq45q7VU9XvQHTTAaKo 2020-12-09 733.3\n",
      "vwzncMTVFPRN52Wbf7D9 2020-12-10 198.97\n",
      "YXCyMtI7QX2iISCVmYpC 2020-12-11 676.49\n",
      "inMo4zhpXuhBb4BEXiJL 2020-12-14 188.43\n",
      "Cs0VJrwICrrkAtlS7pdR 2020-12-15 281.92\n",
      "c8Cwxf8zeP8W3ldrABVN 2020-12-16 793.38\n",
      "6hsiM6KRWRmm6ggISnjs 2020-12-17 67.05\n",
      "yxpNXI4PnfnK03Xxw5SV 2020-12-18 233.7\n",
      "IQs6Uev5lR4vUAibkZ71 2020-12-21 81.99\n",
      "87cS6qBGXneg84WEry5u 2020-12-22 93.48\n",
      "dLGav2HLZQDvSQEX84KP 2020-12-23 960.78\n",
      "ZagEbLCuqKait8FYqMSg 2020-12-24 229.52\n",
      "tqPjqlisMBzVi0jlUBhE 2020-12-28 121.86\n",
      "RAuhatRQQFxACB2bzDsT 2020-12-29 249.35\n",
      "YEsepwK0v95u1fLFECGc 2020-12-30 484.19\n",
      "4AgYqaiVzfvTcLZp0jtL 2020-12-31 232.73\n",
      "Caa0szhU8lnDbzy9aYuM 2021-01-04 182.56\n",
      "TIodKkk7U3V17Dti3Jqx 2021-01-05 158.82\n",
      "QyqhqEPW3AztjQVXYOCX 2021-01-06 445.42\n",
      "bU6WZnPObwhXDDaySV8f 2021-01-07 141.7\n",
      "wEIRvAuX2vczy8nhjviM 2021-01-08 81.99\n",
      "yiMS3EgnZIB7bJpNan8J 2021-01-12 45.27\n",
      "WB8jM2PgYW3K2KbJuvpP 2021-01-14 54.13\n",
      "CkjMBBPY8oyBIcSNqynm 2021-01-15 27.16\n",
      "Tkis7AbUXIwd7s4TACjk 2021-01-19 61.17\n",
      "Q8k2hA6mXzXRZfzrLS3R 2021-01-25 12.97\n",
      "aDjuunE4wWJGTP3M7NNe 2021-01-27 11.01\n",
      "tkbprtn1M8EKdCFyvGux 2021-01-28 46.74\n",
      "2m8CERoGnPOiWVZL3R12 2021-02-05 24.71\n",
      "SRCRNnqq2YuGoBgcdl7g 2021-02-08 15.9\n",
      "9Rk52OyLMQOmRNb0ej9R 2021-02-10 78.05\n",
      "y2S6ij2xOJ457s79i6Ex 2021-02-11 20.8\n",
      "gvV02dm36PZmlMP8WDUT 2021-02-12 40.62\n",
      "seixDdgmr2WGB5GqjsHY 2021-02-17 19.82\n",
      "rst3PvXxGPYdi6AWqHwC 2021-02-25 30.59\n",
      "gSRhfk437lkWjNPGwu9d 2021-03-04 12.97\n",
      "NBMpJztT2oiWi0u5p4or 2021-03-09 28.63\n",
      "yM39pj5QSm0j1Pv8zB6R 2021-03-24 21.78\n",
      "GXoqEbBNzgg3nkwcizdO 2021-03-30 14.92\n",
      "s3qz2DNWZCp0HyDeMQB7 2021-03-31 47.13\n",
      "Hfx4fsWm2NnfhzPpweiW 2021-04-01 32.06\n",
      "Tvmw2PfAsqXYAKJip78i 2021-04-07 34.99\n",
      "KdvIS4cVi1apyAr494Pb 2021-04-08 28.14\n",
      "bMRN8bye7192IwI0rPdg 2021-04-12 34.99\n"
     ]
    }
   ],
   "source": [
    "print('\\n'.join([' '.join([pay['id'],\n",
    "                           pay['execution_date'][0:10],\n",
    "                           str(pay['amount'])\n",
    "                          ]) for pay in l_payouts_sorted]))"
   ]
  },
  {
   "cell_type": "code",
   "execution_count": 54,
   "metadata": {},
   "outputs": [
    {
     "data": {
      "text/plain": [
       "[{'creation_date': '2021-04-10T17:25:47.155Z',\n",
       "  'execution_date': '2021-01-12T00:00:00.000Z',\n",
       "  'place': 'spain',\n",
       "  'project': '0DmODGTOEiM5lg9SGx0J',\n",
       "  'intervention': 'w04441aFcU5b7pQm6Rd2',\n",
       "  'phase': None,\n",
       "  'creator_user': 'oXJJEfAEPxFYtdJ2pnaU',\n",
       "  'user_in_charge': 'IjBxXuBshlfq2MUzwBSK',\n",
       "  'type': 'movement',\n",
       "  'amount': 45.27,\n",
       "  'vat': 0,\n",
       "  'account_id': 'iA9Pzv2CImjItzwCaQv0',\n",
       "  'target_id': 'vJbbj1kPxkcdXJyBOf1l',\n",
       "  'concept': 'payout shopify',\n",
       "  'description': 'payout de banco stripe a caja de ingenieros',\n",
       "  'images': [],\n",
       "  'code': 2924,\n",
       "  'origin': 'script_dani'},\n",
       " {'creation_date': '2021-04-10T17:25:47.155Z',\n",
       "  'execution_date': '2021-01-14T00:00:00.000Z',\n",
       "  'place': 'spain',\n",
       "  'project': '0DmODGTOEiM5lg9SGx0J',\n",
       "  'intervention': 'w04441aFcU5b7pQm6Rd2',\n",
       "  'phase': None,\n",
       "  'creator_user': 'oXJJEfAEPxFYtdJ2pnaU',\n",
       "  'user_in_charge': 'IjBxXuBshlfq2MUzwBSK',\n",
       "  'type': 'movement',\n",
       "  'amount': 54.13,\n",
       "  'vat': 0,\n",
       "  'account_id': 'iA9Pzv2CImjItzwCaQv0',\n",
       "  'target_id': 'vJbbj1kPxkcdXJyBOf1l',\n",
       "  'concept': 'payout shopify',\n",
       "  'description': 'payout de banco stripe a caja de ingenieros',\n",
       "  'images': [],\n",
       "  'code': 2925,\n",
       "  'origin': 'script_dani'},\n",
       " {'creation_date': '2021-04-10T17:25:47.155Z',\n",
       "  'execution_date': '2021-01-15T00:00:00.000Z',\n",
       "  'place': 'spain',\n",
       "  'project': '0DmODGTOEiM5lg9SGx0J',\n",
       "  'intervention': 'w04441aFcU5b7pQm6Rd2',\n",
       "  'phase': None,\n",
       "  'creator_user': 'oXJJEfAEPxFYtdJ2pnaU',\n",
       "  'user_in_charge': 'IjBxXuBshlfq2MUzwBSK',\n",
       "  'type': 'movement',\n",
       "  'amount': 27.16,\n",
       "  'vat': 0,\n",
       "  'account_id': 'iA9Pzv2CImjItzwCaQv0',\n",
       "  'target_id': 'vJbbj1kPxkcdXJyBOf1l',\n",
       "  'concept': 'payout shopify',\n",
       "  'description': 'payout de banco stripe a caja de ingenieros',\n",
       "  'images': [],\n",
       "  'code': 2926,\n",
       "  'origin': 'script_dani'},\n",
       " {'creation_date': '2021-04-10T17:25:47.155Z',\n",
       "  'execution_date': '2021-01-19T00:00:00.000Z',\n",
       "  'place': 'spain',\n",
       "  'project': '0DmODGTOEiM5lg9SGx0J',\n",
       "  'intervention': 'w04441aFcU5b7pQm6Rd2',\n",
       "  'phase': None,\n",
       "  'creator_user': 'oXJJEfAEPxFYtdJ2pnaU',\n",
       "  'user_in_charge': 'IjBxXuBshlfq2MUzwBSK',\n",
       "  'type': 'movement',\n",
       "  'amount': 61.17,\n",
       "  'vat': 0,\n",
       "  'account_id': 'iA9Pzv2CImjItzwCaQv0',\n",
       "  'target_id': 'vJbbj1kPxkcdXJyBOf1l',\n",
       "  'concept': 'payout shopify',\n",
       "  'description': 'payout de banco stripe a caja de ingenieros',\n",
       "  'images': [],\n",
       "  'code': 2927,\n",
       "  'origin': 'script_dani'},\n",
       " {'creation_date': '2021-04-10T17:25:47.155Z',\n",
       "  'execution_date': '2021-01-25T00:00:00.000Z',\n",
       "  'place': 'spain',\n",
       "  'project': '0DmODGTOEiM5lg9SGx0J',\n",
       "  'intervention': 'w04441aFcU5b7pQm6Rd2',\n",
       "  'phase': None,\n",
       "  'creator_user': 'oXJJEfAEPxFYtdJ2pnaU',\n",
       "  'user_in_charge': 'IjBxXuBshlfq2MUzwBSK',\n",
       "  'type': 'movement',\n",
       "  'amount': 12.97,\n",
       "  'vat': 0,\n",
       "  'account_id': 'iA9Pzv2CImjItzwCaQv0',\n",
       "  'target_id': 'vJbbj1kPxkcdXJyBOf1l',\n",
       "  'concept': 'payout shopify',\n",
       "  'description': 'payout de banco stripe a caja de ingenieros',\n",
       "  'images': [],\n",
       "  'code': 2928,\n",
       "  'origin': 'script_dani'},\n",
       " {'creation_date': '2021-04-10T17:25:47.155Z',\n",
       "  'execution_date': '2021-01-27T00:00:00.000Z',\n",
       "  'place': 'spain',\n",
       "  'project': '0DmODGTOEiM5lg9SGx0J',\n",
       "  'intervention': 'w04441aFcU5b7pQm6Rd2',\n",
       "  'phase': None,\n",
       "  'creator_user': 'oXJJEfAEPxFYtdJ2pnaU',\n",
       "  'user_in_charge': 'IjBxXuBshlfq2MUzwBSK',\n",
       "  'type': 'movement',\n",
       "  'amount': 11.01,\n",
       "  'vat': 0,\n",
       "  'account_id': 'iA9Pzv2CImjItzwCaQv0',\n",
       "  'target_id': 'vJbbj1kPxkcdXJyBOf1l',\n",
       "  'concept': 'payout shopify',\n",
       "  'description': 'payout de banco stripe a caja de ingenieros',\n",
       "  'images': [],\n",
       "  'code': 2929,\n",
       "  'origin': 'script_dani'},\n",
       " {'creation_date': '2021-04-10T17:25:47.155Z',\n",
       "  'execution_date': '2021-01-28T00:00:00.000Z',\n",
       "  'place': 'spain',\n",
       "  'project': '0DmODGTOEiM5lg9SGx0J',\n",
       "  'intervention': 'w04441aFcU5b7pQm6Rd2',\n",
       "  'phase': None,\n",
       "  'creator_user': 'oXJJEfAEPxFYtdJ2pnaU',\n",
       "  'user_in_charge': 'IjBxXuBshlfq2MUzwBSK',\n",
       "  'type': 'movement',\n",
       "  'amount': 46.74,\n",
       "  'vat': 0,\n",
       "  'account_id': 'iA9Pzv2CImjItzwCaQv0',\n",
       "  'target_id': 'vJbbj1kPxkcdXJyBOf1l',\n",
       "  'concept': 'payout shopify',\n",
       "  'description': 'payout de banco stripe a caja de ingenieros',\n",
       "  'images': [],\n",
       "  'code': 2930,\n",
       "  'origin': 'script_dani'},\n",
       " {'creation_date': '2021-04-10T17:25:47.155Z',\n",
       "  'execution_date': '2021-02-05T00:00:00.000Z',\n",
       "  'place': 'spain',\n",
       "  'project': '0DmODGTOEiM5lg9SGx0J',\n",
       "  'intervention': 'w04441aFcU5b7pQm6Rd2',\n",
       "  'phase': None,\n",
       "  'creator_user': 'oXJJEfAEPxFYtdJ2pnaU',\n",
       "  'user_in_charge': 'IjBxXuBshlfq2MUzwBSK',\n",
       "  'type': 'movement',\n",
       "  'amount': 24.71,\n",
       "  'vat': 0,\n",
       "  'account_id': 'iA9Pzv2CImjItzwCaQv0',\n",
       "  'target_id': 'vJbbj1kPxkcdXJyBOf1l',\n",
       "  'concept': 'payout shopify',\n",
       "  'description': 'payout de banco stripe a caja de ingenieros',\n",
       "  'images': [],\n",
       "  'code': 2931,\n",
       "  'origin': 'script_dani'},\n",
       " {'creation_date': '2021-04-10T17:25:47.155Z',\n",
       "  'execution_date': '2021-02-08T00:00:00.000Z',\n",
       "  'place': 'spain',\n",
       "  'project': '0DmODGTOEiM5lg9SGx0J',\n",
       "  'intervention': 'w04441aFcU5b7pQm6Rd2',\n",
       "  'phase': None,\n",
       "  'creator_user': 'oXJJEfAEPxFYtdJ2pnaU',\n",
       "  'user_in_charge': 'IjBxXuBshlfq2MUzwBSK',\n",
       "  'type': 'movement',\n",
       "  'amount': 15.9,\n",
       "  'vat': 0,\n",
       "  'account_id': 'iA9Pzv2CImjItzwCaQv0',\n",
       "  'target_id': 'vJbbj1kPxkcdXJyBOf1l',\n",
       "  'concept': 'payout shopify',\n",
       "  'description': 'payout de banco stripe a caja de ingenieros',\n",
       "  'images': [],\n",
       "  'code': 2932,\n",
       "  'origin': 'script_dani'},\n",
       " {'creation_date': '2021-04-10T17:25:47.155Z',\n",
       "  'execution_date': '2021-02-10T00:00:00.000Z',\n",
       "  'place': 'spain',\n",
       "  'project': '0DmODGTOEiM5lg9SGx0J',\n",
       "  'intervention': 'w04441aFcU5b7pQm6Rd2',\n",
       "  'phase': None,\n",
       "  'creator_user': 'oXJJEfAEPxFYtdJ2pnaU',\n",
       "  'user_in_charge': 'IjBxXuBshlfq2MUzwBSK',\n",
       "  'type': 'movement',\n",
       "  'amount': 78.05,\n",
       "  'vat': 0,\n",
       "  'account_id': 'iA9Pzv2CImjItzwCaQv0',\n",
       "  'target_id': 'vJbbj1kPxkcdXJyBOf1l',\n",
       "  'concept': 'payout shopify',\n",
       "  'description': 'payout de banco stripe a caja de ingenieros',\n",
       "  'images': [],\n",
       "  'code': 2933,\n",
       "  'origin': 'script_dani'},\n",
       " {'creation_date': '2021-04-10T17:25:47.155Z',\n",
       "  'execution_date': '2021-02-11T00:00:00.000Z',\n",
       "  'place': 'spain',\n",
       "  'project': '0DmODGTOEiM5lg9SGx0J',\n",
       "  'intervention': 'w04441aFcU5b7pQm6Rd2',\n",
       "  'phase': None,\n",
       "  'creator_user': 'oXJJEfAEPxFYtdJ2pnaU',\n",
       "  'user_in_charge': 'IjBxXuBshlfq2MUzwBSK',\n",
       "  'type': 'movement',\n",
       "  'amount': 20.8,\n",
       "  'vat': 0,\n",
       "  'account_id': 'iA9Pzv2CImjItzwCaQv0',\n",
       "  'target_id': 'vJbbj1kPxkcdXJyBOf1l',\n",
       "  'concept': 'payout shopify',\n",
       "  'description': 'payout de banco stripe a caja de ingenieros',\n",
       "  'images': [],\n",
       "  'code': 2934,\n",
       "  'origin': 'script_dani'},\n",
       " {'creation_date': '2021-04-10T17:25:47.155Z',\n",
       "  'execution_date': '2021-02-12T00:00:00.000Z',\n",
       "  'place': 'spain',\n",
       "  'project': '0DmODGTOEiM5lg9SGx0J',\n",
       "  'intervention': 'w04441aFcU5b7pQm6Rd2',\n",
       "  'phase': None,\n",
       "  'creator_user': 'oXJJEfAEPxFYtdJ2pnaU',\n",
       "  'user_in_charge': 'IjBxXuBshlfq2MUzwBSK',\n",
       "  'type': 'movement',\n",
       "  'amount': 40.62,\n",
       "  'vat': 0,\n",
       "  'account_id': 'iA9Pzv2CImjItzwCaQv0',\n",
       "  'target_id': 'vJbbj1kPxkcdXJyBOf1l',\n",
       "  'concept': 'payout shopify',\n",
       "  'description': 'payout de banco stripe a caja de ingenieros',\n",
       "  'images': [],\n",
       "  'code': 2935,\n",
       "  'origin': 'script_dani'},\n",
       " {'creation_date': '2021-04-10T17:25:47.155Z',\n",
       "  'execution_date': '2021-02-17T00:00:00.000Z',\n",
       "  'place': 'spain',\n",
       "  'project': '0DmODGTOEiM5lg9SGx0J',\n",
       "  'intervention': 'w04441aFcU5b7pQm6Rd2',\n",
       "  'phase': None,\n",
       "  'creator_user': 'oXJJEfAEPxFYtdJ2pnaU',\n",
       "  'user_in_charge': 'IjBxXuBshlfq2MUzwBSK',\n",
       "  'type': 'movement',\n",
       "  'amount': 19.82,\n",
       "  'vat': 0,\n",
       "  'account_id': 'iA9Pzv2CImjItzwCaQv0',\n",
       "  'target_id': 'vJbbj1kPxkcdXJyBOf1l',\n",
       "  'concept': 'payout shopify',\n",
       "  'description': 'payout de banco stripe a caja de ingenieros',\n",
       "  'images': [],\n",
       "  'code': 2936,\n",
       "  'origin': 'script_dani'},\n",
       " {'creation_date': '2021-04-10T17:25:47.155Z',\n",
       "  'execution_date': '2021-02-25T00:00:00.000Z',\n",
       "  'place': 'spain',\n",
       "  'project': '0DmODGTOEiM5lg9SGx0J',\n",
       "  'intervention': 'w04441aFcU5b7pQm6Rd2',\n",
       "  'phase': None,\n",
       "  'creator_user': 'oXJJEfAEPxFYtdJ2pnaU',\n",
       "  'user_in_charge': 'IjBxXuBshlfq2MUzwBSK',\n",
       "  'type': 'movement',\n",
       "  'amount': 30.59,\n",
       "  'vat': 0,\n",
       "  'account_id': 'iA9Pzv2CImjItzwCaQv0',\n",
       "  'target_id': 'vJbbj1kPxkcdXJyBOf1l',\n",
       "  'concept': 'payout shopify',\n",
       "  'description': 'payout de banco stripe a caja de ingenieros',\n",
       "  'images': [],\n",
       "  'code': 2937,\n",
       "  'origin': 'script_dani'},\n",
       " {'creation_date': '2021-04-10T17:25:47.155Z',\n",
       "  'execution_date': '2021-03-04T00:00:00.000Z',\n",
       "  'place': 'spain',\n",
       "  'project': '0DmODGTOEiM5lg9SGx0J',\n",
       "  'intervention': 'w04441aFcU5b7pQm6Rd2',\n",
       "  'phase': None,\n",
       "  'creator_user': 'oXJJEfAEPxFYtdJ2pnaU',\n",
       "  'user_in_charge': 'IjBxXuBshlfq2MUzwBSK',\n",
       "  'type': 'movement',\n",
       "  'amount': 12.97,\n",
       "  'vat': 0,\n",
       "  'account_id': 'iA9Pzv2CImjItzwCaQv0',\n",
       "  'target_id': 'vJbbj1kPxkcdXJyBOf1l',\n",
       "  'concept': 'payout shopify',\n",
       "  'description': 'payout de banco stripe a caja de ingenieros',\n",
       "  'images': [],\n",
       "  'code': 2938,\n",
       "  'origin': 'script_dani'},\n",
       " {'creation_date': '2021-04-10T17:25:47.155Z',\n",
       "  'execution_date': '2021-03-09T00:00:00.000Z',\n",
       "  'place': 'spain',\n",
       "  'project': '0DmODGTOEiM5lg9SGx0J',\n",
       "  'intervention': 'w04441aFcU5b7pQm6Rd2',\n",
       "  'phase': None,\n",
       "  'creator_user': 'oXJJEfAEPxFYtdJ2pnaU',\n",
       "  'user_in_charge': 'IjBxXuBshlfq2MUzwBSK',\n",
       "  'type': 'movement',\n",
       "  'amount': 28.63,\n",
       "  'vat': 0,\n",
       "  'account_id': 'iA9Pzv2CImjItzwCaQv0',\n",
       "  'target_id': 'vJbbj1kPxkcdXJyBOf1l',\n",
       "  'concept': 'payout shopify',\n",
       "  'description': 'payout de banco stripe a caja de ingenieros',\n",
       "  'images': [],\n",
       "  'code': 2939,\n",
       "  'origin': 'script_dani'},\n",
       " {'creation_date': '2021-04-10T17:25:47.155Z',\n",
       "  'execution_date': '2021-03-24T00:00:00.000Z',\n",
       "  'place': 'spain',\n",
       "  'project': '0DmODGTOEiM5lg9SGx0J',\n",
       "  'intervention': 'w04441aFcU5b7pQm6Rd2',\n",
       "  'phase': None,\n",
       "  'creator_user': 'oXJJEfAEPxFYtdJ2pnaU',\n",
       "  'user_in_charge': 'IjBxXuBshlfq2MUzwBSK',\n",
       "  'type': 'movement',\n",
       "  'amount': 21.78,\n",
       "  'vat': 0,\n",
       "  'account_id': 'iA9Pzv2CImjItzwCaQv0',\n",
       "  'target_id': 'vJbbj1kPxkcdXJyBOf1l',\n",
       "  'concept': 'payout shopify',\n",
       "  'description': 'payout de banco stripe a caja de ingenieros',\n",
       "  'images': [],\n",
       "  'code': 2940,\n",
       "  'origin': 'script_dani'},\n",
       " {'creation_date': '2021-04-10T17:25:47.155Z',\n",
       "  'execution_date': '2021-03-30T00:00:00.000Z',\n",
       "  'place': 'spain',\n",
       "  'project': '0DmODGTOEiM5lg9SGx0J',\n",
       "  'intervention': 'w04441aFcU5b7pQm6Rd2',\n",
       "  'phase': None,\n",
       "  'creator_user': 'oXJJEfAEPxFYtdJ2pnaU',\n",
       "  'user_in_charge': 'IjBxXuBshlfq2MUzwBSK',\n",
       "  'type': 'movement',\n",
       "  'amount': 14.92,\n",
       "  'vat': 0,\n",
       "  'account_id': 'iA9Pzv2CImjItzwCaQv0',\n",
       "  'target_id': 'vJbbj1kPxkcdXJyBOf1l',\n",
       "  'concept': 'payout shopify',\n",
       "  'description': 'payout de banco stripe a caja de ingenieros',\n",
       "  'images': [],\n",
       "  'code': 2941,\n",
       "  'origin': 'script_dani'},\n",
       " {'creation_date': '2021-04-10T17:25:47.155Z',\n",
       "  'execution_date': '2021-03-31T00:00:00.000Z',\n",
       "  'place': 'spain',\n",
       "  'project': '0DmODGTOEiM5lg9SGx0J',\n",
       "  'intervention': 'w04441aFcU5b7pQm6Rd2',\n",
       "  'phase': None,\n",
       "  'creator_user': 'oXJJEfAEPxFYtdJ2pnaU',\n",
       "  'user_in_charge': 'IjBxXuBshlfq2MUzwBSK',\n",
       "  'type': 'movement',\n",
       "  'amount': 47.13,\n",
       "  'vat': 0,\n",
       "  'account_id': 'iA9Pzv2CImjItzwCaQv0',\n",
       "  'target_id': 'vJbbj1kPxkcdXJyBOf1l',\n",
       "  'concept': 'payout shopify',\n",
       "  'description': 'payout de banco stripe a caja de ingenieros',\n",
       "  'images': [],\n",
       "  'code': 2942,\n",
       "  'origin': 'script_dani'},\n",
       " {'creation_date': '2021-04-10T17:25:47.155Z',\n",
       "  'execution_date': '2021-04-01T00:00:00.000Z',\n",
       "  'place': 'spain',\n",
       "  'project': '0DmODGTOEiM5lg9SGx0J',\n",
       "  'intervention': 'w04441aFcU5b7pQm6Rd2',\n",
       "  'phase': None,\n",
       "  'creator_user': 'oXJJEfAEPxFYtdJ2pnaU',\n",
       "  'user_in_charge': 'IjBxXuBshlfq2MUzwBSK',\n",
       "  'type': 'movement',\n",
       "  'amount': 32.06,\n",
       "  'vat': 0,\n",
       "  'account_id': 'iA9Pzv2CImjItzwCaQv0',\n",
       "  'target_id': 'vJbbj1kPxkcdXJyBOf1l',\n",
       "  'concept': 'payout shopify',\n",
       "  'description': 'payout de banco stripe a caja de ingenieros',\n",
       "  'images': [],\n",
       "  'code': 2943,\n",
       "  'origin': 'script_dani'},\n",
       " {'creation_date': '2021-04-10T17:25:47.155Z',\n",
       "  'execution_date': '2021-04-07T00:00:00.000Z',\n",
       "  'place': 'spain',\n",
       "  'project': '0DmODGTOEiM5lg9SGx0J',\n",
       "  'intervention': 'w04441aFcU5b7pQm6Rd2',\n",
       "  'phase': None,\n",
       "  'creator_user': 'oXJJEfAEPxFYtdJ2pnaU',\n",
       "  'user_in_charge': 'IjBxXuBshlfq2MUzwBSK',\n",
       "  'type': 'movement',\n",
       "  'amount': 34.99,\n",
       "  'vat': 0,\n",
       "  'account_id': 'iA9Pzv2CImjItzwCaQv0',\n",
       "  'target_id': 'vJbbj1kPxkcdXJyBOf1l',\n",
       "  'concept': 'payout shopify',\n",
       "  'description': 'payout de banco stripe a caja de ingenieros',\n",
       "  'images': [],\n",
       "  'code': 2944,\n",
       "  'origin': 'script_dani'},\n",
       " {'creation_date': '2021-04-10T17:25:47.155Z',\n",
       "  'execution_date': '2021-04-08T00:00:00.000Z',\n",
       "  'place': 'spain',\n",
       "  'project': '0DmODGTOEiM5lg9SGx0J',\n",
       "  'intervention': 'w04441aFcU5b7pQm6Rd2',\n",
       "  'phase': None,\n",
       "  'creator_user': 'oXJJEfAEPxFYtdJ2pnaU',\n",
       "  'user_in_charge': 'IjBxXuBshlfq2MUzwBSK',\n",
       "  'type': 'movement',\n",
       "  'amount': 28.14,\n",
       "  'vat': 0,\n",
       "  'account_id': 'iA9Pzv2CImjItzwCaQv0',\n",
       "  'target_id': 'vJbbj1kPxkcdXJyBOf1l',\n",
       "  'concept': 'payout shopify',\n",
       "  'description': 'payout de banco stripe a caja de ingenieros',\n",
       "  'images': [],\n",
       "  'code': 2945,\n",
       "  'origin': 'script_dani'},\n",
       " {'creation_date': '2021-04-10T17:25:47.155Z',\n",
       "  'execution_date': '2021-04-12T00:00:00.000Z',\n",
       "  'place': 'spain',\n",
       "  'project': '0DmODGTOEiM5lg9SGx0J',\n",
       "  'intervention': 'w04441aFcU5b7pQm6Rd2',\n",
       "  'phase': None,\n",
       "  'creator_user': 'oXJJEfAEPxFYtdJ2pnaU',\n",
       "  'user_in_charge': 'IjBxXuBshlfq2MUzwBSK',\n",
       "  'type': 'movement',\n",
       "  'amount': 34.99,\n",
       "  'vat': 0,\n",
       "  'account_id': 'iA9Pzv2CImjItzwCaQv0',\n",
       "  'target_id': 'vJbbj1kPxkcdXJyBOf1l',\n",
       "  'concept': 'payout shopify',\n",
       "  'description': 'payout de banco stripe a caja de ingenieros',\n",
       "  'images': [],\n",
       "  'code': 2946,\n",
       "  'origin': 'script_dani'}]"
      ]
     },
     "execution_count": 54,
     "metadata": {},
     "output_type": "execute_result"
    }
   ],
   "source": [
    "payouts2"
   ]
  },
  {
   "cell_type": "markdown",
   "metadata": {},
   "source": [
    "### contabilziar donaciones"
   ]
  },
  {
   "cell_type": "code",
   "execution_count": 40,
   "metadata": {},
   "outputs": [],
   "source": [
    "meses = {\n",
    "    0:'enero',\n",
    "    1:'febrero',\n",
    "    2:'marzo',\n",
    "    3:'abril',\n",
    "    4:'mayo',\n",
    "    5:'junio',\n",
    "    6:'julio',\n",
    "    7:'agosto',\n",
    "    8:'septiembre',\n",
    "    9:'octubre'\n",
    "}"
   ]
  },
  {
   "cell_type": "code",
   "execution_count": 41,
   "metadata": {},
   "outputs": [],
   "source": [
    "donaciones=[]\n",
    "#for p in range(8):\n",
    "for p in [8]:\n",
    "    d_conta={\n",
    "       \"creation_date\":\"2020-09-06T15:00:55.591Z\",\n",
    "       \"execution_date\":\"2020-0\"+str(p+1)+\"-04T15:00:55.591Z\",\n",
    "       \"place\":'spain',\n",
    "        #4zcptWXv2IqQFkIMz2MP - admin general\n",
    "        \"project\":'4zcptWXv2IqQFkIMz2MP',\n",
    "        #8DG4syjb1kUl8HzfEWz1 - españa\n",
    "        \"intervention\":'8DG4syjb1kUl8HzfEWz1',\n",
    "        \"phase\":None,\n",
    "        # Dani - z5m936GA0t3vHM28QKhR\n",
    "       \"creator_user\":\"z5m936GA0t3vHM28QKhR\",\n",
    "        #Alex - uCF6bT532woZwE9vQOuv\n",
    "        \"user_in_charge\":\"uCF6bT532woZwE9vQOuv\",\n",
    "        \"type\":'income',\n",
    "        #cantidad de la transferencia 19.51 alex 9.63 patricia y 9.46 antonio\n",
    "       \"amount\":19.51,\n",
    "        \"vat\":0,\n",
    "        # I6vsoTqCKFAS1AK09qzW - Donaciones\n",
    "        \"account_id\":'I6vsoTqCKFAS1AK09qzW',\n",
    "        # vJbbj1kPxkcdXJyBOf1l - Banco Caja Ingenieros\n",
    "        \"target_id\":'vJbbj1kPxkcdXJyBOf1l',\n",
    "       \"concept\":'Donacion Alex del Estal '+meses[p]+' 2020',\n",
    "        \"description\":'Donacion Alex del Estal '+meses[p]+' 2020',\n",
    "        \"images\":[],\n",
    "        \"code\":i,\n",
    "        \"origin\":'script_dani'\n",
    "        \n",
    "    }\n",
    "    d_conta2={\n",
    "       \"creation_date\":\"2020-09-06T15:00:55.591Z\",\n",
    "       \"execution_date\":\"2020-0\"+str(p+1)+\"-16T15:00:55.591Z\",\n",
    "       \"place\":'spain',\n",
    "        #4zcptWXv2IqQFkIMz2MP - admin general\n",
    "        \"project\":'4zcptWXv2IqQFkIMz2MP',\n",
    "        #8DG4syjb1kUl8HzfEWz1 - españa\n",
    "        \"intervention\":'8DG4syjb1kUl8HzfEWz1',\n",
    "        \"phase\":None,\n",
    "        # Dani - z5m936GA0t3vHM28QKhR\n",
    "       \"creator_user\":\"z5m936GA0t3vHM28QKhR\",\n",
    "        #Alex - uCF6bT532woZwE9vQOuv\n",
    "        \"user_in_charge\":\"uCF6bT532woZwE9vQOuv\",\n",
    "        \"type\":'income',\n",
    "        #cantidad de la transferencia 19.51 alex 9.63 patricia y 9.46 antonio\n",
    "       \"amount\":9.63,\n",
    "        \"vat\":0,\n",
    "        # I6vsoTqCKFAS1AK09qzW - Donaciones\n",
    "        \"account_id\":'I6vsoTqCKFAS1AK09qzW',\n",
    "        # vJbbj1kPxkcdXJyBOf1l - Banco Caja Ingenieros\n",
    "        \"target_id\":'vJbbj1kPxkcdXJyBOf1l',\n",
    "       \"concept\":'Donacion Patricia Barcelo del Olmo '+meses[p]+' 2020',\n",
    "        \"description\":'Donacion Patricia Barcelo del Olmo '+meses[p]+' 2020',\n",
    "        \"images\":[],\n",
    "        \"code\":i+1,\n",
    "        \"origin\":'script_dani'\n",
    "        \n",
    "    }\n",
    "    d_conta3={\n",
    "       \"creation_date\":\"2020-09-06T15:00:55.591Z\",\n",
    "       \"execution_date\":\"2020-0\"+str(p+1)+\"-16T15:00:55.591Z\",\n",
    "       \"place\":'spain',\n",
    "        #4zcptWXv2IqQFkIMz2MP - admin general\n",
    "        \"project\":'4zcptWXv2IqQFkIMz2MP',\n",
    "        #8DG4syjb1kUl8HzfEWz1 - españa\n",
    "        \"intervention\":'8DG4syjb1kUl8HzfEWz1',\n",
    "        \"phase\":None,\n",
    "        # Dani - z5m936GA0t3vHM28QKhR\n",
    "       \"creator_user\":\"z5m936GA0t3vHM28QKhR\",\n",
    "        #Alex - uCF6bT532woZwE9vQOuv\n",
    "        \"user_in_charge\":\"uCF6bT532woZwE9vQOuv\",\n",
    "        \"type\":'income',\n",
    "        #cantidad de la transferencia 19.51 alex 9.63 patricia y 9.46 antonio\n",
    "       \"amount\":9.46,\n",
    "        \"vat\":0,\n",
    "        # I6vsoTqCKFAS1AK09qzW - Donaciones\n",
    "        \"account_id\":'I6vsoTqCKFAS1AK09qzW',\n",
    "        # yfy4cPxkmFwIYVnoWD0A - Paypal\n",
    "        \"target_id\":'yfy4cPxkmFwIYVnoWD0A',\n",
    "       \"concept\":'Donacion Antonio Jaime Azuara '+meses[p]+' 2020',\n",
    "        \"description\":'Donacion Antonio Jaime Azuara '+meses[p]+' 2020',\n",
    "        \"images\":[],\n",
    "        \"code\":i+2,\n",
    "        \"origin\":'script_dani'\n",
    "        \n",
    "    }\n",
    "   \n",
    "    i=i+3\n",
    "    \n",
    "    doc_acc = db.collection(u'Accounting').add(d_conta)[1]\n",
    "    doc_acc_id = doc_acc.id\n",
    "    doc_acc.update({'id':doc_acc_id})\n",
    "    \n",
    "    doc_acc = db.collection(u'Accounting').add(d_conta2)[1]\n",
    "    doc_acc_id = doc_acc.id\n",
    "    doc_acc.update({'id':doc_acc_id})\n",
    "    \n",
    "    doc_acc = db.collection(u'Accounting').add(d_conta3)[1]\n",
    "    doc_acc_id = doc_acc.id\n",
    "    doc_acc.update({'id':doc_acc_id})\n",
    "    \n",
    "    \n",
    "    donaciones.append(d_conta)\n",
    "    donaciones.append(d_conta2)\n",
    "    donaciones.append(d_conta3)"
   ]
  },
  {
   "cell_type": "code",
   "execution_count": 8,
   "metadata": {},
   "outputs": [],
   "source": [
    "ventas = db.collection('Nikarit_Sales').stream()"
   ]
  },
  {
   "cell_type": "code",
   "execution_count": 9,
   "metadata": {},
   "outputs": [],
   "source": [
    "d_ventas = []\n",
    "for venta in ventas:\n",
    "    d_ventas.append(venta.to_dict())"
   ]
  },
  {
   "cell_type": "code",
   "execution_count": 10,
   "metadata": {},
   "outputs": [],
   "source": [
    "df_ventas = pd.DataFrame(d_ventas)"
   ]
  },
  {
   "cell_type": "code",
   "execution_count": 11,
   "metadata": {},
   "outputs": [
    {
     "data": {
      "text/html": [
       "<div>\n",
       "<style scoped>\n",
       "    .dataframe tbody tr th:only-of-type {\n",
       "        vertical-align: middle;\n",
       "    }\n",
       "\n",
       "    .dataframe tbody tr th {\n",
       "        vertical-align: top;\n",
       "    }\n",
       "\n",
       "    .dataframe thead th {\n",
       "        text-align: right;\n",
       "    }\n",
       "</style>\n",
       "<table border=\"1\" class=\"dataframe\">\n",
       "  <thead>\n",
       "    <tr style=\"text-align: right;\">\n",
       "      <th></th>\n",
       "      <th>product_movement</th>\n",
       "      <th>manteca_unit_price</th>\n",
       "      <th>order_id</th>\n",
       "      <th>crema_nb</th>\n",
       "      <th>packHidra_unit_price</th>\n",
       "      <th>packContigo_unit_price</th>\n",
       "      <th>taxes_included</th>\n",
       "      <th>gateway</th>\n",
       "      <th>client_last_name</th>\n",
       "      <th>zip</th>\n",
       "      <th>...</th>\n",
       "      <th>city</th>\n",
       "      <th>client_phone</th>\n",
       "      <th>navidadCode</th>\n",
       "      <th>bolsa_unit_price</th>\n",
       "      <th>packAbanico_total_price</th>\n",
       "      <th>packAbanico_nb</th>\n",
       "      <th>bolsa_total_price</th>\n",
       "      <th>donation</th>\n",
       "      <th>message</th>\n",
       "      <th>to</th>\n",
       "    </tr>\n",
       "  </thead>\n",
       "  <tbody>\n",
       "  </tbody>\n",
       "</table>\n",
       "<p>0 rows × 57 columns</p>\n",
       "</div>"
      ],
      "text/plain": [
       "Empty DataFrame\n",
       "Columns: [product_movement, manteca_unit_price, order_id, crema_nb, packHidra_unit_price, packContigo_unit_price, taxes_included, gateway, client_last_name, zip, balsamo_unit_price, country, id, buyer_accepts_marketing, packContigo_total_price, longitude, order_status_url, balsamo_nb, manteca_total_price, packHidra_total_price, origin, total_price, client_email, manteca_nb, province, creation_date, subtotal_price, close_date, latitude, packContigo_nb, accounting_item, client_name, balsamo_total_price, crema_total_price, crema_unit_price, client_gender, total_tax, packHidra_nb, packNavidad_nb, packBandana_total_price, packBandana_nb, packAbanico_unit_price, packNavidad_unit_price, packBandana_unit_price, client_adresse, packNavidad_total_price, bolsa_nb, city, client_phone, navidadCode, bolsa_unit_price, packAbanico_total_price, packAbanico_nb, bolsa_total_price, donation, message, to]\n",
       "Index: []\n",
       "\n",
       "[0 rows x 57 columns]"
      ]
     },
     "execution_count": 11,
     "metadata": {},
     "output_type": "execute_result"
    }
   ],
   "source": [
    "df_ventas[df_ventas['total_price'] == 278.30]"
   ]
  },
  {
   "cell_type": "code",
   "execution_count": 12,
   "metadata": {},
   "outputs": [
    {
     "data": {
      "text/plain": [
       "Unknown    809\n",
       "Female      28\n",
       "Male         7\n",
       "Other        4\n",
       "Name: client_gender, dtype: int64"
      ]
     },
     "execution_count": 12,
     "metadata": {},
     "output_type": "execute_result"
    }
   ],
   "source": [
    "df_ventas[\"client_gender\"].value_counts()"
   ]
  },
  {
   "cell_type": "markdown",
   "metadata": {},
   "source": [
    "## AÑADIR UNA VENTA NUEVA"
   ]
  },
  {
   "cell_type": "code",
   "execution_count": 38,
   "metadata": {},
   "outputs": [],
   "source": [
    "#coger venta que nos interesa copiar - Jose Pedro venta pack Navidad\n",
    "venta_ex = db.collection('Nikarit_Sales').document('Es21K7uWRNu17m0ShrAn').get().to_dict()"
   ]
  },
  {
   "cell_type": "code",
   "execution_count": 39,
   "metadata": {},
   "outputs": [],
   "source": [
    "##le quito el pack navidad de la venta_ex\n",
    "venta_ex['packNavidad_nb'] = 13\n",
    "venta_ex['packNavidad_unit_price']\n",
    "\n",
    "venta_ex['packNavidad_total_price'] = round(venta_ex['packNavidad_unit_price']*venta_ex['packNavidad_nb'],2)\n",
    "\n",
    "#modifico el resto de campos\n",
    "#productos vendidos\n",
    "#venta_ex['manteca_nb'] = 5\n",
    "#venta_ex['manteca_unit_price']= 5.0\n",
    "#venta_ex['manteca_total_price'] = venta_ex['manteca_nb']*venta_ex['manteca_unit_price']\n",
    "\n",
    "#datos de la venta\n",
    "venta_ex['creation_date'] = \"2020-12-16T11:21:16.836Z\"\n",
    "venta_ex['close_date'] = venta_ex['creation_date']\n",
    "\n",
    "#datos cliente\n",
    "venta_ex['client_last_name'] = \"Jordan\"\n",
    "venta_ex['client_name'] = \"Jose Manuel\"\n",
    "venta_ex['client_gender'] = \"Male\"\n",
    "venta_ex['city']= \"Valladolid\"\n",
    "\n",
    "#precio total\n",
    "price=venta_ex['packNavidad_total_price']\n",
    "venta_ex['total_price'] = price\n",
    "venta_ex[\"subtotal_price\"] = price\n",
    "venta_ex['total_tax']= round(price*(1-1/1.21),2)"
   ]
  },
  {
   "cell_type": "code",
   "execution_count": 40,
   "metadata": {},
   "outputs": [
    {
     "data": {
      "text/plain": [
       "update_time {\n",
       "  seconds: 1610137105\n",
       "  nanos: 329887000\n",
       "}"
      ]
     },
     "execution_count": 40,
     "metadata": {},
     "output_type": "execute_result"
    }
   ],
   "source": [
    "doc_acc = db.collection(u'Nikarit_Sales').add(venta_ex)[1]\n",
    "doc_acc_id = doc_acc.id\n",
    "doc_acc.update({'id':doc_acc_id})"
   ]
  },
  {
   "cell_type": "code",
   "execution_count": null,
   "metadata": {},
   "outputs": [],
   "source": []
  }
 ],
 "metadata": {
  "accelerator": "GPU",
  "colab": {
   "collapsed_sections": [],
   "name": "simular_pedido.ipynb",
   "provenance": [],
   "toc_visible": true
  },
  "kernelspec": {
   "display_name": "Python 3",
   "language": "python",
   "name": "python3"
  },
  "language_info": {
   "codemirror_mode": {
    "name": "ipython",
    "version": 3
   },
   "file_extension": ".py",
   "mimetype": "text/x-python",
   "name": "python",
   "nbconvert_exporter": "python",
   "pygments_lexer": "ipython3",
   "version": "3.8.3"
  }
 },
 "nbformat": 4,
 "nbformat_minor": 1
}

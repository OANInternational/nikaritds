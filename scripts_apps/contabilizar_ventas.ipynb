{
 "cells": [
  {
   "cell_type": "markdown",
   "metadata": {
    "colab": {
     "base_uri": "https://localhost:8080/",
     "height": 34
    },
    "colab_type": "code",
    "id": "YLlHkfPNlSv1",
    "outputId": "a97dc925-4566-4442-e73e-fa0f72244536"
   },
   "source": [
    "# IMPORTS"
   ]
  },
  {
   "cell_type": "code",
   "execution_count": 7,
   "metadata": {},
   "outputs": [],
   "source": [
    "import yaml\n",
    "import numpy as np\n",
    "import firebase_admin\n",
    "import pandas as pd\n",
    "\n",
    "import datetime"
   ]
  },
  {
   "cell_type": "code",
   "execution_count": 2,
   "metadata": {},
   "outputs": [],
   "source": [
    "from oauth2client import file,client, tools"
   ]
  },
  {
   "cell_type": "code",
   "execution_count": 3,
   "metadata": {},
   "outputs": [],
   "source": [
    "#Firbease (pip install firebase_admin)\n",
    "from firebase_admin import credentials\n",
    "from firebase_admin import firestore"
   ]
  },
  {
   "cell_type": "code",
   "execution_count": 4,
   "metadata": {
    "colab": {},
    "colab_type": "code",
    "id": "9KAdA-R8xKw5"
   },
   "outputs": [],
   "source": [
    "#GSHEETs \n",
    "# code labe for bigginers - https://codelabs.developers.google.com/codelabs/gsuite-apis-intro/#7\n",
    "import httplib2\n",
    "import os, io\n",
    "import argparse\n",
    "import auth\n",
    "\n",
    "import unidecode\n",
    "\n",
    "from httplib2 import Http\n",
    "\n",
    "from googleapiclient import discovery\n",
    "from googleapiclient.http import MediaFileUpload, MediaIoBaseDownload\n",
    "from oauth2client.service_account import ServiceAccountCredentials"
   ]
  },
  {
   "cell_type": "markdown",
   "metadata": {
    "colab_type": "text",
    "id": "iA76tKgbnBvj"
   },
   "source": [
    "# CONNECT TO FIREBASE"
   ]
  },
  {
   "cell_type": "code",
   "execution_count": 5,
   "metadata": {
    "colab": {},
    "colab_type": "code",
    "id": "6pIrQEso408R"
   },
   "outputs": [],
   "source": [
    "filename='/Users/daniel/OAN/credentials/oan-nikarit-firebase-adminsdk-p9lf1-e140012c2e.json'"
   ]
  },
  {
   "cell_type": "code",
   "execution_count": 8,
   "metadata": {
    "colab": {},
    "colab_type": "code",
    "id": "j0-CWZv25YWX"
   },
   "outputs": [],
   "source": [
    "# Use a service account\n",
    "cred = credentials.Certificate(filename)\n",
    "firebase_admin.initialize_app(cred)\n",
    "\n",
    "db = firestore.client()"
   ]
  },
  {
   "cell_type": "markdown",
   "metadata": {
    "colab": {},
    "colab_type": "code",
    "id": "2uOdUFhhczNe"
   },
   "source": [
    "## TEST"
   ]
  },
  {
   "cell_type": "code",
   "execution_count": 9,
   "metadata": {
    "colab": {},
    "colab_type": "code",
    "id": "4U8v9RtS6uv0"
   },
   "outputs": [],
   "source": [
    "col_query = db.collection('Accounting').where(u'project', u'==', u'opunMdqGyXDlfQ9DYIbN')"
   ]
  },
  {
   "cell_type": "code",
   "execution_count": 10,
   "metadata": {},
   "outputs": [],
   "source": [
    "cuentas_auara = col_query.stream()"
   ]
  },
  {
   "cell_type": "code",
   "execution_count": 12,
   "metadata": {},
   "outputs": [],
   "source": [
    "#for acc in cuentas_auara:\n",
    "    #print(u'{} => {}'.format(acc.id, acc.to_dict()))"
   ]
  },
  {
   "cell_type": "markdown",
   "metadata": {},
   "source": [
    "## ABRIR VENTAS"
   ]
  },
  {
   "cell_type": "code",
   "execution_count": 112,
   "metadata": {},
   "outputs": [],
   "source": [
    "ventas = db.collection(\n",
    "                       'Nikarit_Sales'\n",
    "                      ).where(u'origin', u'==', u'Shopify').stream()"
   ]
  },
  {
   "cell_type": "code",
   "execution_count": 115,
   "metadata": {},
   "outputs": [],
   "source": [
    "l_ventas = []\n",
    "for venta in ventas:\n",
    "    d_venta = venta.to_dict()\n",
    "    if d_venta['creation_date'][0:4]=='2020':\n",
    "        l_ventas.append(d_venta)"
   ]
  },
  {
   "cell_type": "code",
   "execution_count": 120,
   "metadata": {},
   "outputs": [
    {
     "data": {
      "text/plain": [
       "1190"
      ]
     },
     "execution_count": 120,
     "metadata": {},
     "output_type": "execute_result"
    }
   ],
   "source": [
    "len(l_ventas)*2+432"
   ]
  },
  {
   "cell_type": "code",
   "execution_count": 117,
   "metadata": {},
   "outputs": [],
   "source": [
    "cuentas = {'paypal':'vJbbj1kPxkcdXJyBOf1l',\n",
    " 'shopify_payments':'iA9Pzv2CImjItzwCaQv0'}"
   ]
  },
  {
   "cell_type": "code",
   "execution_count": 118,
   "metadata": {},
   "outputs": [],
   "source": [
    "d_comisiones = {'paypal':0.019,\n",
    " 'shopify_payments':0.021}\n",
    "d_tasa = {'paypal':0.35,\n",
    " 'shopify_payments':0.25}"
   ]
  },
  {
   "cell_type": "code",
   "execution_count": 119,
   "metadata": {},
   "outputs": [],
   "source": [
    "i=433\n",
    "l_ventas2=[]\n",
    "for venta in l_ventas:\n",
    "    d_venta = venta\n",
    "    d_conta={\n",
    "       \"creation_date\":\"2020-08-26T18:02:55.591Z\",\n",
    "        \"execution_date\":d_venta['creation_date'][:-6]+'.000Z',\n",
    "       \"place\":'spain',\n",
    "        \"project\":'0DmODGTOEiM5lg9SGx0J',\n",
    "        \"intervention\":'w04441aFcU5b7pQm6Rd2',\n",
    "        \"phase\":None,\n",
    "       \"creator_user\":\"z5m936GA0t3vHM28QKhR\",\n",
    "        \"user_in_charge\":\"IjBxXuBshlfq2MUzwBSK\",\n",
    "        \"type\":'income',\n",
    "       \"amount\":d_venta['total_price'],\n",
    "        \"vat\":round((d_venta['total_price']-4)*(1-1/1.21),2),\n",
    "        \"account_id\":'3deqBmrZ1iJkAwMmxSOp',\n",
    "        \"target_id\":cuentas[d_venta['gateway']],\n",
    "       \"concept\":'venta shopify',\n",
    "        \"description\":'venta online: '+str(d_venta['order_id']),\n",
    "        \"images\":[],\n",
    "        \"code\":i,\n",
    "        \"origin\":'script_dani'\n",
    "        \n",
    "    }\n",
    "    comision=round(\n",
    "                    (d_venta['total_price']*d_comisiones[d_venta['gateway']]\n",
    "                    )+d_tasa[d_venta['gateway']],\n",
    "                    2)\n",
    "    d_comision={\n",
    "       \"creation_date\":\"2020-08-26T18:02:55.591Z\",\n",
    "        \"execution_date\":d_venta['creation_date'][:-6]+'.000Z',\n",
    "       \"place\":'spain',\n",
    "        \"project\":'0DmODGTOEiM5lg9SGx0J',\n",
    "        \"intervention\":'w04441aFcU5b7pQm6Rd2',\n",
    "        \"phase\":None,\n",
    "       \"creator_user\":\"z5m936GA0t3vHM28QKhR\",\n",
    "        \"user_in_charge\":\"IjBxXuBshlfq2MUzwBSK\",\n",
    "        \"type\":'expense',\n",
    "       \"amount\":comision,\n",
    "        \"vat\":0,\n",
    "        \"account_id\":'3deqBmrZ1iJkAwMmxSOp',\n",
    "        \"target_id\":cuentas[d_venta['gateway']],\n",
    "       \"concept\":'comision '+d_venta['gateway'],\n",
    "        \"description\":'comision de venta: '+str(d_venta['order_id']),\n",
    "        \"images\":[],\n",
    "        \"code\":i+1,\n",
    "        \"origin\":'script_dani'\n",
    "        \n",
    "    }\n",
    "    i=i+2\n",
    "    \n",
    "    doc_acc = db.collection(u'Accounting').add(d_conta)[1]\n",
    "    doc_acc_id = doc_acc.id\n",
    "    doc_acc.update({'id':doc_acc_id})\n",
    "    \n",
    "    doc_acc = db.collection(u'Accounting').add(d_comision)[1]\n",
    "    doc_acc_id = doc_acc.id\n",
    "    doc_acc.update({'id':doc_acc_id})\n",
    "    \n",
    "    #l_ventas2.append(d_conta)\n",
    "    #l_ventas2.append(d_comision)"
   ]
  },
  {
   "cell_type": "code",
   "execution_count": 80,
   "metadata": {},
   "outputs": [
    {
     "data": {
      "text/plain": [
       "{'creation_date': '2020-08-26T18:02:55.591Z',\n",
       " 'execution_date': '2020-05-08T13:41:43.000Z',\n",
       " 'place': 'spain',\n",
       " 'project': '0DmODGTOEiM5lg9SGx0J',\n",
       " 'intervention': 'w04441aFcU5b7pQm6Rd2',\n",
       " 'phase': None,\n",
       " 'creator_user': 'z5m936GA0t3vHM28QKhR',\n",
       " 'user_in_charge': 'IjBxXuBshlfq2MUzwBSK',\n",
       " 'type': 'income',\n",
       " 'amount': 17,\n",
       " 'vat': 2.26,\n",
       " 'account_id': '3deqBmrZ1iJkAwMmxSOp',\n",
       " 'target_id': 'iA9Pzv2CImjItzwCaQv0',\n",
       " 'concept': 'venta shopify',\n",
       " 'description': 'venta online: 2330434044003',\n",
       " 'images': [],\n",
       " 'code': 1650,\n",
       " 'origin': 'script_dani'}"
      ]
     },
     "execution_count": 80,
     "metadata": {},
     "output_type": "execute_result"
    }
   ],
   "source": [
    "l_ventas2[len(l_ventas2)-1]"
   ]
  },
  {
   "cell_type": "code",
   "execution_count": 83,
   "metadata": {},
   "outputs": [
    {
     "data": {
      "text/plain": [
       "1652"
      ]
     },
     "execution_count": 83,
     "metadata": {},
     "output_type": "execute_result"
    }
   ],
   "source": [
    "2*len(l_ventas)+432"
   ]
  },
  {
   "cell_type": "markdown",
   "metadata": {},
   "source": [
    "## VERIFICAR"
   ]
  },
  {
   "cell_type": "code",
   "execution_count": null,
   "metadata": {},
   "outputs": [],
   "source": [
    "account_total = db.collection(\n",
    "                       'Accounting'\n",
    "                      ).where(u'origin', u'==', u'script_dani').stream()"
   ]
  },
  {
   "cell_type": "markdown",
   "metadata": {},
   "source": [
    "# ELIMINAR"
   ]
  },
  {
   "cell_type": "code",
   "execution_count": 121,
   "metadata": {},
   "outputs": [],
   "source": [
    "ventas_dani = db.collection(\n",
    "                       'Accounting'\n",
    "                      ).stream()"
   ]
  },
  {
   "cell_type": "code",
   "execution_count": 123,
   "metadata": {},
   "outputs": [],
   "source": [
    "l_ventas = []\n",
    "for venta in ventas_dani:\n",
    "    l_ventas.append(venta.to_dict())"
   ]
  },
  {
   "cell_type": "code",
   "execution_count": 124,
   "metadata": {},
   "outputs": [
    {
     "data": {
      "text/plain": [
       "1115"
      ]
     },
     "execution_count": 124,
     "metadata": {},
     "output_type": "execute_result"
    }
   ],
   "source": [
    "len(l_ventas)"
   ]
  },
  {
   "cell_type": "code",
   "execution_count": 108,
   "metadata": {},
   "outputs": [],
   "source": [
    "#l_ventas = []\n",
    "#for venta in ventas_danis:\n",
    "#    #l_ventas.append(venta.to_dict())\n",
    "#    d_venta=venta.to_dict()\n",
    "#    db.collection(u'Accounting').document(d_venta['id']).delete()"
   ]
  },
  {
   "cell_type": "code",
   "execution_count": 110,
   "metadata": {},
   "outputs": [],
   "source": [
    "l_ventas = []\n",
    "for venta in ventas_dani:\n",
    "    l_ventas.append(venta.to_dict())"
   ]
  },
  {
   "cell_type": "code",
   "execution_count": 101,
   "metadata": {},
   "outputs": [
    {
     "data": {
      "text/plain": [
       "seconds: 1598472978\n",
       "nanos: 897772000"
      ]
     },
     "execution_count": 101,
     "metadata": {},
     "output_type": "execute_result"
    }
   ],
   "source": [
    "db.collection(u'Accounting').document('zwlvkHssBuygzyzGuoMA').delete()"
   ]
  },
  {
   "cell_type": "code",
   "execution_count": 100,
   "metadata": {},
   "outputs": [
    {
     "data": {
      "text/plain": [
       "'06DwrZ0s8WZ7XsYAHFXj'"
      ]
     },
     "execution_count": 100,
     "metadata": {},
     "output_type": "execute_result"
    }
   ],
   "source": [
    "l_ventas[0]['id']"
   ]
  },
  {
   "cell_type": "code",
   "execution_count": 111,
   "metadata": {},
   "outputs": [
    {
     "data": {
      "text/plain": [
       "0"
      ]
     },
     "execution_count": 111,
     "metadata": {},
     "output_type": "execute_result"
    }
   ],
   "source": [
    "len(l_ventas)"
   ]
  },
  {
   "cell_type": "markdown",
   "metadata": {},
   "source": [
    "# CREATE ACCOUNT"
   ]
  },
  {
   "cell_type": "code",
   "execution_count": 207,
   "metadata": {},
   "outputs": [],
   "source": [
    "#Saca las cuentas 629\n",
    "col_query = db.collection('Accounts').stream()\n",
    "\n",
    "l_accounts=[]\n",
    "for us in col_query:\n",
    "    l_accounts.append(us.to_dict())\n",
    "accnts = dict()\n",
    "for us in l_accounts:\n",
    "    if(str(us['number'])[0:3] == \"629\"):\n",
    "        accnts.update({us['number']:us['name']})"
   ]
  },
  {
   "cell_type": "code",
   "execution_count": 208,
   "metadata": {},
   "outputs": [
    {
     "data": {
      "text/plain": [
       "{629101: 'WEB y Hosting',\n",
       " 629001: 'Material de Oficina',\n",
       " 629106: 'Gastos Telefónicos',\n",
       " 629102: 'Papelería e impresiones',\n",
       " 629002: 'Gasolina',\n",
       " 629004: 'Servicio de gestoría',\n",
       " 629005: 'Análisis (Ej. Manteca)'}"
      ]
     },
     "execution_count": 208,
     "metadata": {},
     "output_type": "execute_result"
    }
   ],
   "source": [
    "accnts"
   ]
  },
  {
   "cell_type": "code",
   "execution_count": 210,
   "metadata": {},
   "outputs": [],
   "source": [
    "cuenta={\n",
    "    \"db_creation_date\": \"2020-05-27T15:09:17.217220\",\n",
    "    \"name\":\"Dietas (comida)\",\n",
    "    \"number\":629008,\n",
    "    \"transactions_id\":[],\n",
    "    \"type\":\"expense\",\n",
    "    \"user_id\":None,\n",
    "    \"value\":0\n",
    "}"
   ]
  },
  {
   "cell_type": "code",
   "execution_count": 211,
   "metadata": {},
   "outputs": [
    {
     "data": {
      "text/plain": [
       "update_time {\n",
       "  seconds: 1590612517\n",
       "  nanos: 206982000\n",
       "}"
      ]
     },
     "execution_count": 211,
     "metadata": {},
     "output_type": "execute_result"
    }
   ],
   "source": [
    "doc_acc = db.collection(u'Accounts').add(cuenta)[1]\n",
    "doc_acc_id = doc_acc.id\n",
    "doc_acc.update({'id':doc_acc_id})"
   ]
  }
 ],
 "metadata": {
  "accelerator": "GPU",
  "colab": {
   "collapsed_sections": [],
   "include_colab_link": true,
   "name": "colab_estructurar_bbdd_y_subir_a_firebase.ipynb",
   "provenance": []
  },
  "kernelspec": {
   "display_name": "Python 3",
   "language": "python",
   "name": "python3"
  },
  "language_info": {
   "codemirror_mode": {
    "name": "ipython",
    "version": 3
   },
   "file_extension": ".py",
   "mimetype": "text/x-python",
   "name": "python",
   "nbconvert_exporter": "python",
   "pygments_lexer": "ipython3",
   "version": "3.8.3"
  }
 },
 "nbformat": 4,
 "nbformat_minor": 1
}

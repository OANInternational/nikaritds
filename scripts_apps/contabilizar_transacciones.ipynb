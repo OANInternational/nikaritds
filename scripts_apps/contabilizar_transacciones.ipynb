{
 "cells": [
  {
   "cell_type": "markdown",
   "metadata": {
    "colab_type": "text",
    "id": "t6gXq3Dwwhm_"
   },
   "source": [
    "# Imports"
   ]
  },
  {
   "cell_type": "code",
   "execution_count": 11,
   "metadata": {},
   "outputs": [],
   "source": [
    "# Imports\n",
    "import pandas as pd\n",
    "\n",
    "import requests\n",
    "import yaml\n",
    "import json\n",
    "import os\n",
    "import firebase_admin\n",
    "\n",
    "#Firbease (pip install firebase_admin)\n",
    "from firebase_admin import credentials\n",
    "from firebase_admin import firestore\n",
    "\n",
    "\n",
    "# Load connections parameters:\n",
    "with open(\"/Users/daniel/OAN/credentials/shopify/parameters.yaml\", \"r\") as params:\n",
    "    f = yaml.load(params, Loader=yaml.FullLoader)\n",
    "    shop_url = f['ACCESS_URL']\n"
   ]
  },
  {
   "cell_type": "markdown",
   "metadata": {},
   "source": [
    "## get transactions"
   ]
  },
  {
   "cell_type": "code",
   "execution_count": 2,
   "metadata": {},
   "outputs": [],
   "source": [
    "r = requests.get(shop_url+\"/shopify_payments/payouts.json\",\n",
    "                params={\n",
    "                'limit':250,\n",
    "                 })"
   ]
  },
  {
   "cell_type": "code",
   "execution_count": 3,
   "metadata": {},
   "outputs": [
    {
     "data": {
      "text/plain": [
       "200"
      ]
     },
     "execution_count": 3,
     "metadata": {},
     "output_type": "execute_result"
    }
   ],
   "source": [
    "r.status_code"
   ]
  },
  {
   "cell_type": "code",
   "execution_count": 4,
   "metadata": {},
   "outputs": [],
   "source": [
    "payouts = r.json()"
   ]
  },
  {
   "cell_type": "code",
   "execution_count": 5,
   "metadata": {},
   "outputs": [
    {
     "data": {
      "text/plain": [
       "148"
      ]
     },
     "execution_count": 5,
     "metadata": {},
     "output_type": "execute_result"
    }
   ],
   "source": [
    "len(payouts['payouts'])"
   ]
  },
  {
   "cell_type": "code",
   "execution_count": 6,
   "metadata": {},
   "outputs": [],
   "source": [
    "payouts2020 = []\n",
    "for payout in payouts['payouts']:\n",
    "    if payout['date'][0:4]=='2020':\n",
    "        payouts2020.append(payout)"
   ]
  },
  {
   "cell_type": "code",
   "execution_count": 7,
   "metadata": {},
   "outputs": [
    {
     "data": {
      "text/plain": [
       "75"
      ]
     },
     "execution_count": 7,
     "metadata": {},
     "output_type": "execute_result"
    }
   ],
   "source": [
    "len(payouts2020)"
   ]
  },
  {
   "cell_type": "code",
   "execution_count": 40,
   "metadata": {},
   "outputs": [],
   "source": [
    "#payouts2020[74]"
   ]
  },
  {
   "cell_type": "markdown",
   "metadata": {},
   "source": [
    "## ACCESS FIREBASE"
   ]
  },
  {
   "cell_type": "code",
   "execution_count": 9,
   "metadata": {},
   "outputs": [],
   "source": [
    "filename='/Users/daniel/OAN/credentials/oan-nikarit-firebase-adminsdk-p9lf1-e140012c2e.json'"
   ]
  },
  {
   "cell_type": "code",
   "execution_count": 12,
   "metadata": {},
   "outputs": [],
   "source": [
    "# Use a service account\n",
    "cred = credentials.Certificate(filename)\n",
    "firebase_admin.initialize_app(cred)\n",
    "\n",
    "db = firestore.client()"
   ]
  },
  {
   "cell_type": "markdown",
   "metadata": {},
   "source": [
    "### check connection"
   ]
  },
  {
   "cell_type": "code",
   "execution_count": 13,
   "metadata": {},
   "outputs": [],
   "source": [
    "col_query = db.collection('Accounting').where(u'project', u'==', u'opunMdqGyXDlfQ9DYIbN')"
   ]
  },
  {
   "cell_type": "code",
   "execution_count": 14,
   "metadata": {},
   "outputs": [],
   "source": [
    "cuentas_auara = col_query.stream()"
   ]
  },
  {
   "cell_type": "code",
   "execution_count": 16,
   "metadata": {},
   "outputs": [],
   "source": [
    "#for acc in cuentas_auara:\n",
    "    #print(u'{} => {}'.format(acc.id, acc.to_dict()))"
   ]
  },
  {
   "cell_type": "markdown",
   "metadata": {},
   "source": [
    "## contabilizar"
   ]
  },
  {
   "cell_type": "code",
   "execution_count": 28,
   "metadata": {},
   "outputs": [],
   "source": [
    "i=1318\n",
    "payouts2=[]\n",
    "for payout in payouts2020[::-1]:\n",
    "    d_conta={\n",
    "       \"creation_date\":\"2020-09-06T14:00:55.591Z\",\n",
    "       \"execution_date\":payout['date']+'T00:00:00.000Z',\n",
    "       \"place\":'spain',\n",
    "        #0DmODGTOEiM5lg9SGx0J - nikarit\n",
    "        \"project\":'0DmODGTOEiM5lg9SGx0J',\n",
    "        #w04441aFcU5b7pQm6Rd2 - españa\n",
    "        \"intervention\":'w04441aFcU5b7pQm6Rd2',\n",
    "        \"phase\":None,\n",
    "        # Dani - z5m936GA0t3vHM28QKhR\n",
    "       \"creator_user\":\"z5m936GA0t3vHM28QKhR\",\n",
    "        #Jose - IjBxXuBshlfq2MUzwBSK\n",
    "        \"user_in_charge\":\"IjBxXuBshlfq2MUzwBSK\",\n",
    "        \"type\":'movement',\n",
    "        #cantidad de la transferencia\n",
    "       \"amount\":payout['amount'],\n",
    "        \"vat\":0,\n",
    "        # iA9Pzv2CImjItzwCaQv0 - Banco Stripe\n",
    "        \"account_id\":'iA9Pzv2CImjItzwCaQv0',\n",
    "        # vJbbj1kPxkcdXJyBOf1l - Banco Caja Ingenieros\n",
    "        \"target_id\":'vJbbj1kPxkcdXJyBOf1l',\n",
    "       \"concept\":'payout shopify',\n",
    "        \"description\":'payout de banco stripe a caja de ingenieros',\n",
    "        \"images\":[],\n",
    "        \"code\":i,\n",
    "        \"origin\":'script_dani'\n",
    "        \n",
    "    }\n",
    "   \n",
    "    i=i+1\n",
    "    \n",
    "    doc_acc = db.collection(u'Accounting').add(d_conta)[1]\n",
    "    doc_acc_id = doc_acc.id\n",
    "    doc_acc.update({'id':doc_acc_id})\n",
    "    \n",
    "    \n",
    "    payouts2.append(d_conta)"
   ]
  },
  {
   "cell_type": "code",
   "execution_count": 26,
   "metadata": {},
   "outputs": [
    {
     "data": {
      "text/plain": [
       "75"
      ]
     },
     "execution_count": 26,
     "metadata": {},
     "output_type": "execute_result"
    }
   ],
   "source": [
    "len(payouts2)"
   ]
  },
  {
   "cell_type": "code",
   "execution_count": 29,
   "metadata": {},
   "outputs": [
    {
     "data": {
      "text/plain": [
       "{'creation_date': '2020-09-06T14:00:55.591Z',\n",
       " 'execution_date': '2020-09-03T00:00:00.000Z',\n",
       " 'place': 'spain',\n",
       " 'project': '0DmODGTOEiM5lg9SGx0J',\n",
       " 'intervention': 'w04441aFcU5b7pQm6Rd2',\n",
       " 'phase': None,\n",
       " 'creator_user': 'z5m936GA0t3vHM28QKhR',\n",
       " 'user_in_charge': 'IjBxXuBshlfq2MUzwBSK',\n",
       " 'type': 'movement',\n",
       " 'amount': '40.87',\n",
       " 'vat': 0,\n",
       " 'account_id': 'iA9Pzv2CImjItzwCaQv0',\n",
       " 'target_id': 'vJbbj1kPxkcdXJyBOf1l',\n",
       " 'concept': 'payout shopify',\n",
       " 'description': 'payout de banco stripe a caja de ingenieros',\n",
       " 'images': [],\n",
       " 'code': 1392,\n",
       " 'origin': 'script_dani'}"
      ]
     },
     "execution_count": 29,
     "metadata": {},
     "output_type": "execute_result"
    }
   ],
   "source": [
    "payouts2[74]"
   ]
  },
  {
   "cell_type": "code",
   "execution_count": null,
   "metadata": {},
   "outputs": [],
   "source": []
  },
  {
   "cell_type": "markdown",
   "metadata": {},
   "source": [
    "### contabilziar donaciones"
   ]
  },
  {
   "cell_type": "code",
   "execution_count": 32,
   "metadata": {},
   "outputs": [],
   "source": [
    "meses = {\n",
    "    0:'enero',\n",
    "    1:'febrero',\n",
    "    2:'marzo',\n",
    "    3:'abril',\n",
    "    4:'mayo',\n",
    "    5:'junio',\n",
    "    6:'julio',\n",
    "    7:'agosto',\n",
    "    8:'septiembre'\n",
    "}"
   ]
  },
  {
   "cell_type": "code",
   "execution_count": 39,
   "metadata": {},
   "outputs": [],
   "source": [
    "i=1393\n",
    "donaciones=[]\n",
    "for p in range(8):\n",
    "    d_conta={\n",
    "       \"creation_date\":\"2020-09-06T15:00:55.591Z\",\n",
    "       \"execution_date\":\"2020-0\"+str(p+1)+\"-04T15:00:55.591Z\",\n",
    "       \"place\":'spain',\n",
    "        #4zcptWXv2IqQFkIMz2MP - admin general\n",
    "        \"project\":'4zcptWXv2IqQFkIMz2MP',\n",
    "        #8DG4syjb1kUl8HzfEWz1 - españa\n",
    "        \"intervention\":'8DG4syjb1kUl8HzfEWz1',\n",
    "        \"phase\":None,\n",
    "        # Dani - z5m936GA0t3vHM28QKhR\n",
    "       \"creator_user\":\"z5m936GA0t3vHM28QKhR\",\n",
    "        #Alex - uCF6bT532woZwE9vQOuv\n",
    "        \"user_in_charge\":\"uCF6bT532woZwE9vQOuv\",\n",
    "        \"type\":'income',\n",
    "        #cantidad de la transferencia 19.51 alex 9.63 patricia y 9.46 antonio\n",
    "       \"amount\":19.51,\n",
    "        \"vat\":0,\n",
    "        # I6vsoTqCKFAS1AK09qzW - Donaciones\n",
    "        \"account_id\":'I6vsoTqCKFAS1AK09qzW',\n",
    "        # vJbbj1kPxkcdXJyBOf1l - Banco Caja Ingenieros\n",
    "        \"target_id\":'vJbbj1kPxkcdXJyBOf1l',\n",
    "       \"concept\":'Donacion Alex del Estal '+meses[p]+' 2020',\n",
    "        \"description\":'Donacion Alex del Estal '+meses[p]+' 2020',\n",
    "        \"images\":[],\n",
    "        \"code\":i,\n",
    "        \"origin\":'script_dani'\n",
    "        \n",
    "    }\n",
    "    d_conta2={\n",
    "       \"creation_date\":\"2020-09-06T15:00:55.591Z\",\n",
    "       \"execution_date\":\"2020-0\"+str(p+1)+\"-16T15:00:55.591Z\",\n",
    "       \"place\":'spain',\n",
    "        #4zcptWXv2IqQFkIMz2MP - admin general\n",
    "        \"project\":'4zcptWXv2IqQFkIMz2MP',\n",
    "        #8DG4syjb1kUl8HzfEWz1 - españa\n",
    "        \"intervention\":'8DG4syjb1kUl8HzfEWz1',\n",
    "        \"phase\":None,\n",
    "        # Dani - z5m936GA0t3vHM28QKhR\n",
    "       \"creator_user\":\"z5m936GA0t3vHM28QKhR\",\n",
    "        #Alex - uCF6bT532woZwE9vQOuv\n",
    "        \"user_in_charge\":\"uCF6bT532woZwE9vQOuv\",\n",
    "        \"type\":'income',\n",
    "        #cantidad de la transferencia 19.51 alex 9.63 patricia y 9.46 antonio\n",
    "       \"amount\":9.63,\n",
    "        \"vat\":0,\n",
    "        # I6vsoTqCKFAS1AK09qzW - Donaciones\n",
    "        \"account_id\":'I6vsoTqCKFAS1AK09qzW',\n",
    "        # vJbbj1kPxkcdXJyBOf1l - Banco Caja Ingenieros\n",
    "        \"target_id\":'vJbbj1kPxkcdXJyBOf1l',\n",
    "       \"concept\":'Donacion Patricia Barcelo del Olmo '+meses[p]+' 2020',\n",
    "        \"description\":'Donacion Patricia Barcelo del Olmo '+meses[p]+' 2020',\n",
    "        \"images\":[],\n",
    "        \"code\":i+1,\n",
    "        \"origin\":'script_dani'\n",
    "        \n",
    "    }\n",
    "    d_conta3={\n",
    "       \"creation_date\":\"2020-09-06T15:00:55.591Z\",\n",
    "       \"execution_date\":\"2020-0\"+str(p+1)+\"-16T15:00:55.591Z\",\n",
    "       \"place\":'spain',\n",
    "        #4zcptWXv2IqQFkIMz2MP - admin general\n",
    "        \"project\":'4zcptWXv2IqQFkIMz2MP',\n",
    "        #8DG4syjb1kUl8HzfEWz1 - españa\n",
    "        \"intervention\":'8DG4syjb1kUl8HzfEWz1',\n",
    "        \"phase\":None,\n",
    "        # Dani - z5m936GA0t3vHM28QKhR\n",
    "       \"creator_user\":\"z5m936GA0t3vHM28QKhR\",\n",
    "        #Alex - uCF6bT532woZwE9vQOuv\n",
    "        \"user_in_charge\":\"uCF6bT532woZwE9vQOuv\",\n",
    "        \"type\":'income',\n",
    "        #cantidad de la transferencia 19.51 alex 9.63 patricia y 9.46 antonio\n",
    "       \"amount\":9.46,\n",
    "        \"vat\":0,\n",
    "        # I6vsoTqCKFAS1AK09qzW - Donaciones\n",
    "        \"account_id\":'I6vsoTqCKFAS1AK09qzW',\n",
    "        # yfy4cPxkmFwIYVnoWD0A - Paypal\n",
    "        \"target_id\":'yfy4cPxkmFwIYVnoWD0A',\n",
    "       \"concept\":'Donacion Antonio Jaime Azuara '+meses[p]+' 2020',\n",
    "        \"description\":'Donacion Antonio Jaime Azuara '+meses[p]+' 2020',\n",
    "        \"images\":[],\n",
    "        \"code\":i+2,\n",
    "        \"origin\":'script_dani'\n",
    "        \n",
    "    }\n",
    "   \n",
    "    i=i+3\n",
    "    \n",
    "    doc_acc = db.collection(u'Accounting').add(d_conta)[1]\n",
    "    doc_acc_id = doc_acc.id\n",
    "    doc_acc.update({'id':doc_acc_id})\n",
    "    \n",
    "    doc_acc = db.collection(u'Accounting').add(d_conta2)[1]\n",
    "    doc_acc_id = doc_acc.id\n",
    "    doc_acc.update({'id':doc_acc_id})\n",
    "    \n",
    "    doc_acc = db.collection(u'Accounting').add(d_conta3)[1]\n",
    "    doc_acc_id = doc_acc.id\n",
    "    doc_acc.update({'id':doc_acc_id})\n",
    "    \n",
    "    \n",
    "    donaciones.append(d_conta)\n",
    "    donaciones.append(d_conta2)\n",
    "    donaciones.append(d_conta3)"
   ]
  },
  {
   "cell_type": "code",
   "execution_count": null,
   "metadata": {},
   "outputs": [],
   "source": []
  }
 ],
 "metadata": {
  "accelerator": "GPU",
  "colab": {
   "collapsed_sections": [],
   "name": "simular_pedido.ipynb",
   "provenance": [],
   "toc_visible": true
  },
  "kernelspec": {
   "display_name": "Python 3",
   "language": "python",
   "name": "python3"
  },
  "language_info": {
   "codemirror_mode": {
    "name": "ipython",
    "version": 3
   },
   "file_extension": ".py",
   "mimetype": "text/x-python",
   "name": "python",
   "nbconvert_exporter": "python",
   "pygments_lexer": "ipython3",
   "version": "3.8.3"
  }
 },
 "nbformat": 4,
 "nbformat_minor": 1
}

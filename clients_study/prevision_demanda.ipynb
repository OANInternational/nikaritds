{
 "cells": [
  {
   "cell_type": "markdown",
   "metadata": {
    "colab": {
     "base_uri": "https://localhost:8080/",
     "height": 34
    },
    "colab_type": "code",
    "id": "YLlHkfPNlSv1",
    "outputId": "a97dc925-4566-4442-e73e-fa0f72244536"
   },
   "source": [
    "# IMPORTS"
   ]
  },
  {
   "cell_type": "code",
   "execution_count": 1,
   "metadata": {
    "colab": {},
    "colab_type": "code",
    "id": "9KAdA-R8xKw5"
   },
   "outputs": [],
   "source": [
    "import numpy as np\n",
    "import pandas as pd"
   ]
  },
  {
   "cell_type": "code",
   "execution_count": 2,
   "metadata": {},
   "outputs": [],
   "source": [
    "import matplotlib.pyplot as plt\n",
    "import seaborn as sns"
   ]
  },
  {
   "cell_type": "code",
   "execution_count": 3,
   "metadata": {},
   "outputs": [],
   "source": [
    "import os"
   ]
  },
  {
   "cell_type": "code",
   "execution_count": 4,
   "metadata": {},
   "outputs": [],
   "source": [
    "import datetime"
   ]
  },
  {
   "cell_type": "code",
   "execution_count": 5,
   "metadata": {},
   "outputs": [
    {
     "data": {
      "text/plain": [
       "True"
      ]
     },
     "execution_count": 5,
     "metadata": {},
     "output_type": "execute_result"
    }
   ],
   "source": [
    "from dotenv import load_dotenv\n",
    " \n",
    "load_dotenv(dotenv_path='/Users/daniel/OAN/credentials/contoan/.env')"
   ]
  },
  {
   "cell_type": "markdown",
   "metadata": {},
   "source": [
    "## FROM BIGQUERY"
   ]
  },
  {
   "cell_type": "code",
   "execution_count": 6,
   "metadata": {},
   "outputs": [
    {
     "name": "stderr",
     "output_type": "stream",
     "text": [
      "Downloading: 100%|██████████| 834/834 [00:01<00:00, 550.84rows/s]\n"
     ]
    }
   ],
   "source": [
    "sql = \"\"\"\n",
    "    SELECT *\n",
    "    FROM `oan-nikarit.contoan.sales`\n",
    "\"\"\"\n",
    "\n",
    "# Run a Standard SQL query using the environment's default project\n",
    "df = pd.read_gbq(sql, dialect='standard')"
   ]
  },
  {
   "cell_type": "code",
   "execution_count": 7,
   "metadata": {},
   "outputs": [
    {
     "name": "stdout",
     "output_type": "stream",
     "text": [
      "<class 'pandas.core.frame.DataFrame'>\n",
      "RangeIndex: 834 entries, 0 to 833\n",
      "Data columns (total 56 columns):\n",
      " #   Column                   Non-Null Count  Dtype              \n",
      "---  ------                   --------------  -----              \n",
      " 0   client_name              827 non-null    object             \n",
      " 1   order_id                 808 non-null    object             \n",
      " 2   latitude                 736 non-null    float64            \n",
      " 3   packHidra_total_price    834 non-null    int64              \n",
      " 4   packHidra_unit_price     834 non-null    float64            \n",
      " 5   subtotal_price           834 non-null    float64            \n",
      " 6   longitude                736 non-null    float64            \n",
      " 7   manteca_unit_price       834 non-null    float64            \n",
      " 8   creation_date            834 non-null    datetime64[ns, UTC]\n",
      " 9   client_gender            834 non-null    object             \n",
      " 10  client_email             794 non-null    object             \n",
      " 11  manteca_nb               834 non-null    int64              \n",
      " 12  province                 537 non-null    object             \n",
      " 13  taxes_included           834 non-null    bool               \n",
      " 14  balsamo_total_price      834 non-null    int64              \n",
      " 15  packHidra_nb             834 non-null    int64              \n",
      " 16  crema_total_price        834 non-null    int64              \n",
      " 17  client_last_name         825 non-null    object             \n",
      " 18  total_price              834 non-null    float64            \n",
      " 19  packContigo_nb           834 non-null    int64              \n",
      " 20  balsamo_unit_price       834 non-null    float64            \n",
      " 21  close_date               688 non-null    datetime64[ns, UTC]\n",
      " 22  zip                      803 non-null    object             \n",
      " 23  id                       834 non-null    object             \n",
      " 24  balsamo_nb               834 non-null    int64              \n",
      " 25  crema_nb                 834 non-null    int64              \n",
      " 26  gateway                  834 non-null    object             \n",
      " 27  packContigo_total_price  834 non-null    int64              \n",
      " 28  packContigo_unit_price   834 non-null    float64            \n",
      " 29  crema_unit_price         834 non-null    float64            \n",
      " 30  product_movement         192 non-null    object             \n",
      " 31  manteca_total_price      834 non-null    int64              \n",
      " 32  country                  748 non-null    object             \n",
      " 33  total_tax                834 non-null    float64            \n",
      " 34  order_status_url         804 non-null    object             \n",
      " 35  accounting_item          203 non-null    object             \n",
      " 36  origin                   834 non-null    object             \n",
      " 37  client_phone             192 non-null    object             \n",
      " 38  bolsa_total_price        219 non-null    float64            \n",
      " 39  navidadCode              160 non-null    float64            \n",
      " 40  packBandana_unit_price   204 non-null    object             \n",
      " 41  packBandana_nb           204 non-null    float64            \n",
      " 42  packAbanico_unit_price   204 non-null    object             \n",
      " 43  packAbanico_nb           204 non-null    float64            \n",
      " 44  packNavidad_nb           166 non-null    float64            \n",
      " 45  packAbanico_total_price  204 non-null    float64            \n",
      " 46  packBandana_total_price  204 non-null    float64            \n",
      " 47  bolsa_nb                 219 non-null    float64            \n",
      " 48  city                     192 non-null    object             \n",
      " 49  bolsa_unit_price         219 non-null    object             \n",
      " 50  client_adresse           192 non-null    object             \n",
      " 51  packNavidad_unit_price   166 non-null    object             \n",
      " 52  packNavidad_total_price  166 non-null    float64            \n",
      " 53  message                  3 non-null      object             \n",
      " 54  to                       3 non-null      object             \n",
      " 55  buyer_accepts_marketing  208 non-null    object             \n",
      "dtypes: bool(1), datetime64[ns, UTC](2), float64(19), int64(10), object(24)\n",
      "memory usage: 359.3+ KB\n"
     ]
    }
   ],
   "source": [
    "df.info()"
   ]
  },
  {
   "cell_type": "code",
   "execution_count": 8,
   "metadata": {},
   "outputs": [],
   "source": [
    "df_origin = df.copy()"
   ]
  },
  {
   "cell_type": "code",
   "execution_count": 9,
   "metadata": {},
   "outputs": [],
   "source": [
    "df = df[df['origin'] == 'Shopify']"
   ]
  },
  {
   "cell_type": "code",
   "execution_count": 10,
   "metadata": {},
   "outputs": [],
   "source": [
    "df['creation_date']=pd.to_datetime(df['creation_date']).dt.tz_localize(None)\n",
    "df_origin['creation_date']=pd.to_datetime(df_origin['creation_date']).dt.tz_localize(None)"
   ]
  },
  {
   "cell_type": "code",
   "execution_count": 11,
   "metadata": {},
   "outputs": [],
   "source": [
    "df['day']=df['creation_date'].dt.day\n",
    "df_origin['day']=df_origin['creation_date'].dt.day"
   ]
  },
  {
   "cell_type": "code",
   "execution_count": 12,
   "metadata": {},
   "outputs": [],
   "source": [
    "df['date']=pd.to_datetime(df['creation_date'].dt.date)\n",
    "df_origin['date']=pd.to_datetime(df_origin['creation_date'].dt.date)"
   ]
  },
  {
   "cell_type": "code",
   "execution_count": 13,
   "metadata": {},
   "outputs": [],
   "source": [
    "df['month_day'] = (df['date'].dt.month.apply(str) + '-' +\n",
    "                               df['date'].dt.day.apply(str)\n",
    "                              )\n",
    "\n",
    "df_origin['month_day'] = (df_origin['date'].dt.month.apply(str) + '-' +\n",
    "                               df_origin['date'].dt.day.apply(str)\n",
    "                              )"
   ]
  },
  {
   "cell_type": "code",
   "execution_count": 14,
   "metadata": {},
   "outputs": [],
   "source": [
    "# date in yyyy/mm/dd format\n",
    "jan =pd.to_datetime('2020-01-20').tz_localize(None)\n",
    "dic = pd.to_datetime('2019-12-01').tz_localize(None)\n",
    "dic2 = pd.to_datetime('2019-12-31').tz_localize(None)"
   ]
  },
  {
   "cell_type": "code",
   "execution_count": 15,
   "metadata": {},
   "outputs": [],
   "source": [
    "df_study_2019 = df[ (df['creation_date'] <jan) & (dic < df['creation_date'])]"
   ]
  },
  {
   "cell_type": "code",
   "execution_count": 16,
   "metadata": {},
   "outputs": [],
   "source": [
    "df_study_2019_2 = df[ (df['creation_date'] <= dic2) & (dic < df['creation_date'])]"
   ]
  },
  {
   "cell_type": "code",
   "execution_count": 17,
   "metadata": {},
   "outputs": [],
   "source": [
    "# date in yyyy/mm/dd format\n",
    "dic_2020 = pd.to_datetime('2020-12-01').tz_localize(None)"
   ]
  },
  {
   "cell_type": "code",
   "execution_count": 18,
   "metadata": {},
   "outputs": [],
   "source": [
    "df_study_2020 = df[ (dic_2020 < df['creation_date'])]"
   ]
  },
  {
   "cell_type": "markdown",
   "metadata": {},
   "source": [
    "## RESULTS 2019"
   ]
  },
  {
   "cell_type": "code",
   "execution_count": 19,
   "metadata": {},
   "outputs": [
    {
     "data": {
      "text/plain": [
       "Index(['client_name', 'order_id', 'latitude', 'packHidra_total_price',\n",
       "       'packHidra_unit_price', 'subtotal_price', 'longitude',\n",
       "       'manteca_unit_price', 'creation_date', 'client_gender', 'client_email',\n",
       "       'manteca_nb', 'province', 'taxes_included', 'balsamo_total_price',\n",
       "       'packHidra_nb', 'crema_total_price', 'client_last_name', 'total_price',\n",
       "       'packContigo_nb', 'balsamo_unit_price', 'close_date', 'zip', 'id',\n",
       "       'balsamo_nb', 'crema_nb', 'gateway', 'packContigo_total_price',\n",
       "       'packContigo_unit_price', 'crema_unit_price', 'product_movement',\n",
       "       'manteca_total_price', 'country', 'total_tax', 'order_status_url',\n",
       "       'accounting_item', 'origin', 'client_phone', 'bolsa_total_price',\n",
       "       'navidadCode', 'packBandana_unit_price', 'packBandana_nb',\n",
       "       'packAbanico_unit_price', 'packAbanico_nb', 'packNavidad_nb',\n",
       "       'packAbanico_total_price', 'packBandana_total_price', 'bolsa_nb',\n",
       "       'city', 'bolsa_unit_price', 'client_adresse', 'packNavidad_unit_price',\n",
       "       'packNavidad_total_price', 'message', 'to', 'buyer_accepts_marketing',\n",
       "       'day', 'date', 'month_day'],\n",
       "      dtype='object')"
      ]
     },
     "execution_count": 19,
     "metadata": {},
     "output_type": "execute_result"
    }
   ],
   "source": [
    "df_study_2019.columns"
   ]
  },
  {
   "cell_type": "code",
   "execution_count": 20,
   "metadata": {},
   "outputs": [
    {
     "data": {
      "text/plain": [
       "total_price     2754.0\n",
       "packHidra_nb     110.0\n",
       "manteca_nb        58.0\n",
       "crema_nb          23.0\n",
       "balsamo_nb        13.0\n",
       "dtype: float64"
      ]
     },
     "execution_count": 20,
     "metadata": {},
     "output_type": "execute_result"
    }
   ],
   "source": [
    "df_study_2019[['total_price','packHidra_nb','manteca_nb','crema_nb','balsamo_nb']].sum()"
   ]
  },
  {
   "cell_type": "markdown",
   "metadata": {},
   "source": [
    "## COMPARE"
   ]
  },
  {
   "cell_type": "code",
   "execution_count": 21,
   "metadata": {},
   "outputs": [],
   "source": [
    "df_days = pd.DataFrame({'day':[i+1 for i in range(31)]})"
   ]
  },
  {
   "cell_type": "code",
   "execution_count": 22,
   "metadata": {},
   "outputs": [],
   "source": [
    "df_2019 = df_study_2019_2.groupby('day')[['total_price','packHidra_nb','manteca_nb',\n",
    "                                          'crema_nb','balsamo_nb']].sum().reset_index()"
   ]
  },
  {
   "cell_type": "code",
   "execution_count": 23,
   "metadata": {},
   "outputs": [],
   "source": [
    "df_2019 = pd.merge(df_days,df_2019,on='day',how='left')"
   ]
  },
  {
   "cell_type": "code",
   "execution_count": 24,
   "metadata": {},
   "outputs": [],
   "source": [
    "df_2019['year'] = 2019"
   ]
  },
  {
   "cell_type": "code",
   "execution_count": 25,
   "metadata": {},
   "outputs": [],
   "source": [
    "df_2019.fillna(0,inplace=True)"
   ]
  },
  {
   "cell_type": "code",
   "execution_count": null,
   "metadata": {},
   "outputs": [],
   "source": []
  },
  {
   "cell_type": "code",
   "execution_count": 26,
   "metadata": {},
   "outputs": [],
   "source": [
    "df_2020 = df_study_2020.groupby('day')[['total_price','packHidra_nb','packNavidad_nb',\n",
    "                 'manteca_nb','crema_nb','balsamo_nb']].sum().reset_index()"
   ]
  },
  {
   "cell_type": "code",
   "execution_count": 27,
   "metadata": {},
   "outputs": [],
   "source": [
    "df_2020['packHidra_nb'] = df_2020['packNavidad_nb']+df_2020['packHidra_nb']"
   ]
  },
  {
   "cell_type": "code",
   "execution_count": 28,
   "metadata": {},
   "outputs": [],
   "source": [
    "df_2020 = df_2020[['day','total_price','packHidra_nb',\n",
    "                 'manteca_nb','crema_nb','balsamo_nb']]"
   ]
  },
  {
   "cell_type": "code",
   "execution_count": 29,
   "metadata": {},
   "outputs": [],
   "source": [
    "df_2020 = pd.merge(df_days,df_2020,on='day',how='left')"
   ]
  },
  {
   "cell_type": "code",
   "execution_count": 30,
   "metadata": {},
   "outputs": [],
   "source": [
    "df_2020['year'] = 2020"
   ]
  },
  {
   "cell_type": "code",
   "execution_count": 31,
   "metadata": {},
   "outputs": [],
   "source": [
    "df_2020.fillna(0,inplace=True)"
   ]
  },
  {
   "cell_type": "code",
   "execution_count": 32,
   "metadata": {},
   "outputs": [],
   "source": [
    "## APPEND BOT\n",
    "df_compare2 = df_2019.append(df_2020,ignore_index=True)"
   ]
  },
  {
   "cell_type": "code",
   "execution_count": 33,
   "metadata": {},
   "outputs": [
    {
     "data": {
      "text/html": [
       "<div>\n",
       "<style scoped>\n",
       "    .dataframe tbody tr th:only-of-type {\n",
       "        vertical-align: middle;\n",
       "    }\n",
       "\n",
       "    .dataframe tbody tr th {\n",
       "        vertical-align: top;\n",
       "    }\n",
       "\n",
       "    .dataframe thead th {\n",
       "        text-align: right;\n",
       "    }\n",
       "</style>\n",
       "<table border=\"1\" class=\"dataframe\">\n",
       "  <thead>\n",
       "    <tr style=\"text-align: right;\">\n",
       "      <th></th>\n",
       "      <th>day</th>\n",
       "      <th>total_price</th>\n",
       "      <th>packHidra_nb</th>\n",
       "      <th>manteca_nb</th>\n",
       "      <th>crema_nb</th>\n",
       "      <th>balsamo_nb</th>\n",
       "      <th>year</th>\n",
       "    </tr>\n",
       "  </thead>\n",
       "  <tbody>\n",
       "    <tr>\n",
       "      <th>0</th>\n",
       "      <td>1</td>\n",
       "      <td>0.0</td>\n",
       "      <td>0.0</td>\n",
       "      <td>0.0</td>\n",
       "      <td>0.0</td>\n",
       "      <td>0.0</td>\n",
       "      <td>2019</td>\n",
       "    </tr>\n",
       "    <tr>\n",
       "      <th>1</th>\n",
       "      <td>2</td>\n",
       "      <td>28.0</td>\n",
       "      <td>0.0</td>\n",
       "      <td>3.0</td>\n",
       "      <td>0.0</td>\n",
       "      <td>0.0</td>\n",
       "      <td>2019</td>\n",
       "    </tr>\n",
       "    <tr>\n",
       "      <th>2</th>\n",
       "      <td>3</td>\n",
       "      <td>82.0</td>\n",
       "      <td>1.0</td>\n",
       "      <td>3.0</td>\n",
       "      <td>0.0</td>\n",
       "      <td>0.0</td>\n",
       "      <td>2019</td>\n",
       "    </tr>\n",
       "    <tr>\n",
       "      <th>3</th>\n",
       "      <td>4</td>\n",
       "      <td>54.0</td>\n",
       "      <td>3.0</td>\n",
       "      <td>0.0</td>\n",
       "      <td>0.0</td>\n",
       "      <td>0.0</td>\n",
       "      <td>2019</td>\n",
       "    </tr>\n",
       "    <tr>\n",
       "      <th>4</th>\n",
       "      <td>5</td>\n",
       "      <td>20.0</td>\n",
       "      <td>0.0</td>\n",
       "      <td>2.0</td>\n",
       "      <td>0.0</td>\n",
       "      <td>0.0</td>\n",
       "      <td>2019</td>\n",
       "    </tr>\n",
       "    <tr>\n",
       "      <th>...</th>\n",
       "      <td>...</td>\n",
       "      <td>...</td>\n",
       "      <td>...</td>\n",
       "      <td>...</td>\n",
       "      <td>...</td>\n",
       "      <td>...</td>\n",
       "      <td>...</td>\n",
       "    </tr>\n",
       "    <tr>\n",
       "      <th>57</th>\n",
       "      <td>27</td>\n",
       "      <td>66.5</td>\n",
       "      <td>0.0</td>\n",
       "      <td>5.0</td>\n",
       "      <td>0.0</td>\n",
       "      <td>3.0</td>\n",
       "      <td>2020</td>\n",
       "    </tr>\n",
       "    <tr>\n",
       "      <th>58</th>\n",
       "      <td>28</td>\n",
       "      <td>239.0</td>\n",
       "      <td>9.0</td>\n",
       "      <td>2.0</td>\n",
       "      <td>1.0</td>\n",
       "      <td>0.0</td>\n",
       "      <td>2020</td>\n",
       "    </tr>\n",
       "    <tr>\n",
       "      <th>59</th>\n",
       "      <td>29</td>\n",
       "      <td>187.5</td>\n",
       "      <td>8.0</td>\n",
       "      <td>0.0</td>\n",
       "      <td>4.0</td>\n",
       "      <td>0.0</td>\n",
       "      <td>2020</td>\n",
       "    </tr>\n",
       "    <tr>\n",
       "      <th>60</th>\n",
       "      <td>30</td>\n",
       "      <td>307.0</td>\n",
       "      <td>13.0</td>\n",
       "      <td>0.0</td>\n",
       "      <td>0.0</td>\n",
       "      <td>0.0</td>\n",
       "      <td>2020</td>\n",
       "    </tr>\n",
       "    <tr>\n",
       "      <th>61</th>\n",
       "      <td>31</td>\n",
       "      <td>96.8</td>\n",
       "      <td>3.0</td>\n",
       "      <td>1.0</td>\n",
       "      <td>3.0</td>\n",
       "      <td>0.0</td>\n",
       "      <td>2020</td>\n",
       "    </tr>\n",
       "  </tbody>\n",
       "</table>\n",
       "<p>62 rows × 7 columns</p>\n",
       "</div>"
      ],
      "text/plain": [
       "    day  total_price  packHidra_nb  manteca_nb  crema_nb  balsamo_nb  year\n",
       "0     1          0.0           0.0         0.0       0.0         0.0  2019\n",
       "1     2         28.0           0.0         3.0       0.0         0.0  2019\n",
       "2     3         82.0           1.0         3.0       0.0         0.0  2019\n",
       "3     4         54.0           3.0         0.0       0.0         0.0  2019\n",
       "4     5         20.0           0.0         2.0       0.0         0.0  2019\n",
       "..  ...          ...           ...         ...       ...         ...   ...\n",
       "57   27         66.5           0.0         5.0       0.0         3.0  2020\n",
       "58   28        239.0           9.0         2.0       1.0         0.0  2020\n",
       "59   29        187.5           8.0         0.0       4.0         0.0  2020\n",
       "60   30        307.0          13.0         0.0       0.0         0.0  2020\n",
       "61   31         96.8           3.0         1.0       3.0         0.0  2020\n",
       "\n",
       "[62 rows x 7 columns]"
      ]
     },
     "execution_count": 33,
     "metadata": {},
     "output_type": "execute_result"
    }
   ],
   "source": [
    "df_compare2"
   ]
  },
  {
   "cell_type": "markdown",
   "metadata": {},
   "source": [
    "## SALES"
   ]
  },
  {
   "cell_type": "code",
   "execution_count": 34,
   "metadata": {},
   "outputs": [
    {
     "data": {
      "text/plain": [
       "1"
      ]
     },
     "execution_count": 34,
     "metadata": {},
     "output_type": "execute_result"
    }
   ],
   "source": [
    "(-1)**2"
   ]
  },
  {
   "cell_type": "code",
   "execution_count": 35,
   "metadata": {},
   "outputs": [
    {
     "data": {
      "image/png": "[encoded data removed]",
      "text/plain": [
       "<Figure size 1440x720 with 1 Axes>"
      ]
     },
     "metadata": {
      "needs_background": "light"
     },
     "output_type": "display_data"
    }
   ],
   "source": [
    "y='total_price'\n",
    "fig = plt.figure(figsize=(20,10))\n",
    "\n",
    "ax=fig.add_axes()\n",
    "sns.lineplot(x='day',y=y,hue='year', data=df_compare2,palette='Accent',lw=4,ax=ax)\n",
    "\n",
    "for i,ind in enumerate(df_compare2[(df_compare2['year']==2020) & ( 0 < df_compare2[y]) ].index):\n",
    "    plt.text(df_compare2.loc[ind,'day']-0.5,\n",
    "             df_compare2.loc[ind,y]+(-1)**i*20,\n",
    "             str(df_compare2.loc[ind,y])+'€',\n",
    "            bbox=dict(boxstyle=\"square\",\n",
    "                   ec=(1., 0.5, 0.5),\n",
    "                   fc=(1., 0.8, 0.8),\n",
    "                   ))\n",
    "\n",
    "for i,ind in enumerate(df_compare2[(df_compare2['year']==2019) & ( 0 < df_compare2[y]) ].index):\n",
    "    plt.text(df_compare2.loc[ind,'day']-0.5,\n",
    "             df_compare2.loc[ind,y]+(-1)**i*20,\n",
    "             str(df_compare2.loc[ind,y])+'€',\n",
    "            bbox=dict(boxstyle=\"square\",\n",
    "                   ec=(0.8, 1., 0.5),\n",
    "                   fc=(0.8, 1., 0.8),\n",
    "                   ))\n",
    "\n",
    "plt.grid()\n",
    "plt.show()"
   ]
  },
  {
   "cell_type": "markdown",
   "metadata": {},
   "source": [
    "## PACKS"
   ]
  },
  {
   "cell_type": "code",
   "execution_count": 36,
   "metadata": {},
   "outputs": [
    {
     "data": {
      "text/plain": [
       "<matplotlib.axes._subplots.AxesSubplot at 0x7faefaf52c10>"
      ]
     },
     "execution_count": 36,
     "metadata": {},
     "output_type": "execute_result"
    },
    {
     "data": {
      "image/png": "[encoded data removed]",
      "text/plain": [
       "<Figure size 1440x720 with 1 Axes>"
      ]
     },
     "metadata": {
      "needs_background": "light"
     },
     "output_type": "display_data"
    }
   ],
   "source": [
    "plt.figure(figsize=(20,10))\n",
    "sns.lineplot(x='day',y='packHidra_nb',hue='year', data=df_compare2,palette='Accent')"
   ]
  },
  {
   "cell_type": "markdown",
   "metadata": {},
   "source": [
    "## GROWTH"
   ]
  },
  {
   "cell_type": "code",
   "execution_count": 37,
   "metadata": {},
   "outputs": [],
   "source": [
    "df_growth=pd.merge(df_2019,df_2020,on='day',how='outer',suffixes=('_2019','_2020'))"
   ]
  },
  {
   "cell_type": "code",
   "execution_count": 38,
   "metadata": {},
   "outputs": [],
   "source": [
    "df_growth = df_growth[df_growth['day'] < 14]"
   ]
  },
  {
   "cell_type": "code",
   "execution_count": 39,
   "metadata": {},
   "outputs": [],
   "source": [
    "cols = [a+'_2019'for a in ['total_price','packHidra_nb','manteca_nb','crema_nb','balsamo_nb']\n",
    "]+[a+'_2020'for a in ['total_price','packHidra_nb','manteca_nb','crema_nb','balsamo_nb']]"
   ]
  },
  {
   "cell_type": "code",
   "execution_count": 40,
   "metadata": {},
   "outputs": [],
   "source": [
    "cols.sort()"
   ]
  },
  {
   "cell_type": "code",
   "execution_count": 41,
   "metadata": {
    "scrolled": true
   },
   "outputs": [
    {
     "data": {
      "text/plain": [
       "balsamo_nb_2019         2.00\n",
       "balsamo_nb_2020        21.00\n",
       "crema_nb_2019           2.00\n",
       "crema_nb_2020          14.00\n",
       "manteca_nb_2019        19.00\n",
       "manteca_nb_2020        29.00\n",
       "packHidra_nb_2019      34.00\n",
       "packHidra_nb_2020     143.00\n",
       "total_price_2019      880.00\n",
       "total_price_2020     3747.68\n",
       "dtype: float64"
      ]
     },
     "execution_count": 41,
     "metadata": {},
     "output_type": "execute_result"
    }
   ],
   "source": [
    "df_growth[cols].sum()"
   ]
  },
  {
   "cell_type": "markdown",
   "metadata": {},
   "source": [
    "## agregate by date"
   ]
  },
  {
   "cell_type": "markdown",
   "metadata": {},
   "source": [
    "## 2019"
   ]
  },
  {
   "cell_type": "code",
   "execution_count": 42,
   "metadata": {},
   "outputs": [],
   "source": [
    "dates_2019 = pd.to_datetime(['2019-12-'+str(i+1) for i in range(31)]+['2020-01-'+str(i+1) for i in range(20)])"
   ]
  },
  {
   "cell_type": "code",
   "execution_count": 43,
   "metadata": {},
   "outputs": [],
   "source": [
    "pd_days_2019 = pd.DataFrame({'date':dates_2019})"
   ]
  },
  {
   "cell_type": "code",
   "execution_count": 44,
   "metadata": {},
   "outputs": [],
   "source": [
    "df_study_2019 = df_study_2019[ df_study_2019['total_price'] <200]"
   ]
  },
  {
   "cell_type": "code",
   "execution_count": 45,
   "metadata": {},
   "outputs": [],
   "source": [
    "df_2019_g = df_study_2019.groupby('date')[['total_price','packHidra_nb',\n",
    "                                           'manteca_nb','crema_nb','balsamo_nb']].sum().reset_index()"
   ]
  },
  {
   "cell_type": "code",
   "execution_count": 46,
   "metadata": {},
   "outputs": [],
   "source": [
    "df_2019_growth = pd.merge(pd_days_2019,df_2019_g,on='date',how='left')"
   ]
  },
  {
   "cell_type": "code",
   "execution_count": 47,
   "metadata": {},
   "outputs": [],
   "source": [
    "df_2019_growth.fillna(0,inplace=True)"
   ]
  },
  {
   "cell_type": "markdown",
   "metadata": {},
   "source": [
    "# 2020"
   ]
  },
  {
   "cell_type": "code",
   "execution_count": 48,
   "metadata": {},
   "outputs": [],
   "source": [
    "dates_2020 = pd.to_datetime(['2020-12-'+str(i+1) for i in range(31)]+['2021-01-'+str(i+1) for i in range(20)])"
   ]
  },
  {
   "cell_type": "code",
   "execution_count": 49,
   "metadata": {},
   "outputs": [],
   "source": [
    "pd_days_2020 = pd.DataFrame({'date':dates_2020})"
   ]
  },
  {
   "cell_type": "code",
   "execution_count": 50,
   "metadata": {},
   "outputs": [],
   "source": [
    "df_study_2020 = df_study_2020[ df_study_2020['total_price'] <200]"
   ]
  },
  {
   "cell_type": "code",
   "execution_count": 51,
   "metadata": {},
   "outputs": [],
   "source": [
    "df_2020_g = df_study_2020.groupby('date')[['total_price','packHidra_nb','packNavidad_nb',\n",
    "                                           'manteca_nb','crema_nb','balsamo_nb']].sum().reset_index()"
   ]
  },
  {
   "cell_type": "code",
   "execution_count": 52,
   "metadata": {},
   "outputs": [],
   "source": [
    "df_2020_g['packHidra_nb'] = df_2020_g['packNavidad_nb']+df_2020_g['packHidra_nb']"
   ]
  },
  {
   "cell_type": "code",
   "execution_count": 53,
   "metadata": {},
   "outputs": [],
   "source": [
    "df_2020_growth = pd.merge(pd_days_2020,df_2020_g,on='date',how='left')"
   ]
  },
  {
   "cell_type": "code",
   "execution_count": 54,
   "metadata": {},
   "outputs": [],
   "source": [
    "df_2020_growth.fillna(0,inplace=True)"
   ]
  },
  {
   "cell_type": "code",
   "execution_count": 55,
   "metadata": {},
   "outputs": [],
   "source": [
    "#df_2020_growth[]"
   ]
  },
  {
   "cell_type": "markdown",
   "metadata": {},
   "source": [
    "### difference"
   ]
  },
  {
   "cell_type": "code",
   "execution_count": 56,
   "metadata": {},
   "outputs": [],
   "source": [
    "df_2019_growth['month_day'] = (df_2019_growth['date'].dt.month.apply(str) + '-' +\n",
    "                               df_2019_growth['date'].dt.day.apply(str)\n",
    "                              )"
   ]
  },
  {
   "cell_type": "code",
   "execution_count": 57,
   "metadata": {},
   "outputs": [],
   "source": [
    "df_2020_growth['month_day'] = (df_2020_growth['date'].dt.month.apply(str) + '-' +\n",
    "                               df_2020_growth['date'].dt.day.apply(str)\n",
    "                              )"
   ]
  },
  {
   "cell_type": "code",
   "execution_count": 58,
   "metadata": {},
   "outputs": [],
   "source": [
    "df_diff = pd.merge(df_2019_growth,df_2020_growth,on='month_day',how='left',suffixes=('_2019','_2020'))"
   ]
  },
  {
   "cell_type": "code",
   "execution_count": 59,
   "metadata": {},
   "outputs": [],
   "source": [
    "cols = ['total_price','packHidra_nb','manteca_nb','crema_nb','balsamo_nb','packNavidad_nb']"
   ]
  },
  {
   "cell_type": "code",
   "execution_count": 60,
   "metadata": {},
   "outputs": [],
   "source": [
    "r = datetime.datetime.today().day"
   ]
  },
  {
   "cell_type": "code",
   "execution_count": 61,
   "metadata": {},
   "outputs": [],
   "source": [
    "df_diff = df_diff[df_diff['month_day'].isin(['12-'+str(i+1) for i in range(r)])]"
   ]
  },
  {
   "cell_type": "code",
   "execution_count": 62,
   "metadata": {},
   "outputs": [],
   "source": [
    "difference = dict()"
   ]
  },
  {
   "cell_type": "markdown",
   "metadata": {},
   "source": [
    "### DIFFERENCE MANTECAS"
   ]
  },
  {
   "cell_type": "code",
   "execution_count": 63,
   "metadata": {},
   "outputs": [],
   "source": [
    "variable = 'manteca_nb'"
   ]
  },
  {
   "cell_type": "code",
   "execution_count": 64,
   "metadata": {},
   "outputs": [
    {
     "data": {
      "text/plain": [
       "count    3.000000\n",
       "mean    -2.000000\n",
       "std      1.732051\n",
       "min     -3.000000\n",
       "25%     -3.000000\n",
       "50%     -3.000000\n",
       "75%     -1.500000\n",
       "max      0.000000\n",
       "dtype: float64"
      ]
     },
     "execution_count": 64,
     "metadata": {},
     "output_type": "execute_result"
    }
   ],
   "source": [
    "(df_diff[variable+'_2020']-df_diff[variable+'_2019']).describe()"
   ]
  },
  {
   "cell_type": "code",
   "execution_count": 65,
   "metadata": {},
   "outputs": [
    {
     "data": {
      "text/plain": [
       "-6.0"
      ]
     },
     "execution_count": 65,
     "metadata": {},
     "output_type": "execute_result"
    }
   ],
   "source": [
    "(df_diff[variable+'_2020']-df_diff[variable+'_2019']).sum()"
   ]
  },
  {
   "cell_type": "code",
   "execution_count": 66,
   "metadata": {},
   "outputs": [
    {
     "data": {
      "text/plain": [
       "0.0"
      ]
     },
     "execution_count": 66,
     "metadata": {},
     "output_type": "execute_result"
    }
   ],
   "source": [
    "df_diff[variable+'_2020'].sum()"
   ]
  },
  {
   "cell_type": "code",
   "execution_count": 67,
   "metadata": {},
   "outputs": [
    {
     "data": {
      "text/plain": [
       "6.0"
      ]
     },
     "execution_count": 67,
     "metadata": {},
     "output_type": "execute_result"
    }
   ],
   "source": [
    "df_diff[variable+'_2019'].sum()"
   ]
  },
  {
   "cell_type": "code",
   "execution_count": 68,
   "metadata": {},
   "outputs": [
    {
     "data": {
      "text/plain": [
       "-1.0"
      ]
     },
     "execution_count": 68,
     "metadata": {},
     "output_type": "execute_result"
    }
   ],
   "source": [
    "variable_diff = (df_diff[variable+'_2020']-df_diff[variable+'_2019']).sum()/df_diff[variable+'_2019'].sum()\n",
    "variable_diff"
   ]
  },
  {
   "cell_type": "code",
   "execution_count": 69,
   "metadata": {},
   "outputs": [],
   "source": [
    "difference[variable] = 1 + variable_diff"
   ]
  },
  {
   "cell_type": "code",
   "execution_count": null,
   "metadata": {},
   "outputs": [],
   "source": []
  },
  {
   "cell_type": "markdown",
   "metadata": {},
   "source": [
    "### DIFFERENCE PACKS"
   ]
  },
  {
   "cell_type": "code",
   "execution_count": 70,
   "metadata": {},
   "outputs": [],
   "source": [
    "variable = 'packHidra_nb'"
   ]
  },
  {
   "cell_type": "code",
   "execution_count": 71,
   "metadata": {},
   "outputs": [
    {
     "data": {
      "text/plain": [
       "count    3.000000\n",
       "mean     1.333333\n",
       "std      2.309401\n",
       "min      0.000000\n",
       "25%      0.000000\n",
       "50%      0.000000\n",
       "75%      2.000000\n",
       "max      4.000000\n",
       "dtype: float64"
      ]
     },
     "execution_count": 71,
     "metadata": {},
     "output_type": "execute_result"
    }
   ],
   "source": [
    "(df_diff[variable+'_2020']-df_diff[variable+'_2019']).describe()"
   ]
  },
  {
   "cell_type": "code",
   "execution_count": 72,
   "metadata": {},
   "outputs": [
    {
     "data": {
      "text/plain": [
       "4.0"
      ]
     },
     "execution_count": 72,
     "metadata": {},
     "output_type": "execute_result"
    }
   ],
   "source": [
    "(df_diff[variable+'_2020']-df_diff[variable+'_2019']).sum()"
   ]
  },
  {
   "cell_type": "code",
   "execution_count": 73,
   "metadata": {},
   "outputs": [
    {
     "data": {
      "text/plain": [
       "5.0"
      ]
     },
     "execution_count": 73,
     "metadata": {},
     "output_type": "execute_result"
    }
   ],
   "source": [
    "df_diff[variable+'_2020'].sum()"
   ]
  },
  {
   "cell_type": "code",
   "execution_count": 74,
   "metadata": {},
   "outputs": [
    {
     "data": {
      "text/plain": [
       "1.0"
      ]
     },
     "execution_count": 74,
     "metadata": {},
     "output_type": "execute_result"
    }
   ],
   "source": [
    "df_diff[variable+'_2019'].sum()"
   ]
  },
  {
   "cell_type": "code",
   "execution_count": 75,
   "metadata": {},
   "outputs": [
    {
     "data": {
      "text/plain": [
       "4.0"
      ]
     },
     "execution_count": 75,
     "metadata": {},
     "output_type": "execute_result"
    }
   ],
   "source": [
    "variable_diff = (df_diff[variable+'_2020']-df_diff[variable+'_2019']).sum()/df_diff[variable+'_2019'].sum()\n",
    "variable_diff"
   ]
  },
  {
   "cell_type": "code",
   "execution_count": 76,
   "metadata": {},
   "outputs": [],
   "source": [
    "difference[variable] = 1 + variable_diff"
   ]
  },
  {
   "cell_type": "markdown",
   "metadata": {},
   "source": [
    "### DIFFERENCE TOTAL_SALES"
   ]
  },
  {
   "cell_type": "code",
   "execution_count": 77,
   "metadata": {},
   "outputs": [],
   "source": [
    "variable = 'total_price'"
   ]
  },
  {
   "cell_type": "code",
   "execution_count": 78,
   "metadata": {},
   "outputs": [
    {
     "data": {
      "text/plain": [
       "count     3.000000\n",
       "mean     15.750000\n",
       "std      19.998437\n",
       "min       0.000000\n",
       "25%       4.500000\n",
       "50%       9.000000\n",
       "75%      23.625000\n",
       "max      38.250000\n",
       "dtype: float64"
      ]
     },
     "execution_count": 78,
     "metadata": {},
     "output_type": "execute_result"
    }
   ],
   "source": [
    "(df_diff[variable+'_2020']-df_diff[variable+'_2019']).describe()"
   ]
  },
  {
   "cell_type": "code",
   "execution_count": 79,
   "metadata": {},
   "outputs": [
    {
     "data": {
      "text/plain": [
       "47.25"
      ]
     },
     "execution_count": 79,
     "metadata": {},
     "output_type": "execute_result"
    }
   ],
   "source": [
    "(df_diff[variable+'_2020']-df_diff[variable+'_2019']).sum()"
   ]
  },
  {
   "cell_type": "code",
   "execution_count": 80,
   "metadata": {},
   "outputs": [
    {
     "data": {
      "text/plain": [
       "157.25"
      ]
     },
     "execution_count": 80,
     "metadata": {},
     "output_type": "execute_result"
    }
   ],
   "source": [
    "df_diff[variable+'_2020'].sum()"
   ]
  },
  {
   "cell_type": "code",
   "execution_count": 81,
   "metadata": {},
   "outputs": [
    {
     "data": {
      "text/plain": [
       "110.0"
      ]
     },
     "execution_count": 81,
     "metadata": {},
     "output_type": "execute_result"
    }
   ],
   "source": [
    "df_diff[variable+'_2019'].sum()"
   ]
  },
  {
   "cell_type": "code",
   "execution_count": 82,
   "metadata": {},
   "outputs": [
    {
     "data": {
      "text/plain": [
       "0.42954545454545456"
      ]
     },
     "execution_count": 82,
     "metadata": {},
     "output_type": "execute_result"
    }
   ],
   "source": [
    "variable_diff = (df_diff[variable+'_2020']-df_diff[variable+'_2019']).sum()/df_diff[variable+'_2019'].sum()\n",
    "variable_diff"
   ]
  },
  {
   "cell_type": "code",
   "execution_count": 83,
   "metadata": {},
   "outputs": [],
   "source": [
    "difference[variable] = 1 + variable_diff"
   ]
  },
  {
   "cell_type": "markdown",
   "metadata": {},
   "source": [
    "### SEEE DIFFERENCES"
   ]
  },
  {
   "cell_type": "code",
   "execution_count": 84,
   "metadata": {},
   "outputs": [],
   "source": [
    "# date in yyyy/mm/dd format\n",
    "jan_2019 =pd.to_datetime('2020-01-20').tz_localize(None)\n",
    "dic_2019 = pd.to_datetime('2019-12-01').tz_localize(None)\n",
    "\n",
    "dic_2020 = pd.to_datetime('2020-12-01').tz_localize(None)\n",
    "jan_2020 =pd.to_datetime('2021-01-20').tz_localize(None)"
   ]
  },
  {
   "cell_type": "code",
   "execution_count": 85,
   "metadata": {},
   "outputs": [],
   "source": [
    "pd_days_2019['month_day'] = pd_days_2019['date'].dt.month.apply(str) + '-' + pd_days_2019['date'].dt.day.apply(str)"
   ]
  },
  {
   "cell_type": "code",
   "execution_count": 86,
   "metadata": {},
   "outputs": [],
   "source": [
    "df_plot_2019 = df[ (df['creation_date'] <= jan_2019) & (dic_2019 < df['creation_date'])].sort_values('date')"
   ]
  },
  {
   "cell_type": "code",
   "execution_count": 87,
   "metadata": {},
   "outputs": [],
   "source": [
    "df_plot_2019 = df_plot_2019[cols+['month_day','date']]"
   ]
  },
  {
   "cell_type": "code",
   "execution_count": 88,
   "metadata": {},
   "outputs": [],
   "source": [
    "df_plot_2019 = pd.merge(pd_days_2019,df_plot_2019,on=['month_day','date'],how='left')"
   ]
  },
  {
   "cell_type": "code",
   "execution_count": 89,
   "metadata": {},
   "outputs": [],
   "source": [
    "df_plot_2019.fillna(0,inplace=True)"
   ]
  },
  {
   "cell_type": "code",
   "execution_count": 90,
   "metadata": {},
   "outputs": [],
   "source": [
    "#df_2020_growth = pd.merge(pd_days,df_2020_g,on='date',how='left')"
   ]
  },
  {
   "cell_type": "code",
   "execution_count": 91,
   "metadata": {},
   "outputs": [],
   "source": [
    "pd_days_2020['month_day'] = pd_days_2020['date'].dt.month.apply(str) + '-' + pd_days_2020['date'].dt.day.apply(str)"
   ]
  },
  {
   "cell_type": "code",
   "execution_count": null,
   "metadata": {},
   "outputs": [],
   "source": []
  },
  {
   "cell_type": "code",
   "execution_count": 92,
   "metadata": {},
   "outputs": [],
   "source": [
    "df_plot_2020 = df_origin[ (df_origin['creation_date'] <= jan_2020) & (dic_2020 < df_origin['creation_date'])].sort_values('date')\n",
    "#df_plot_2020 = df[ (df['creation_date'] <= jan_2020) & (dic_2020 < df['creation_date'])].sort_values('date')"
   ]
  },
  {
   "cell_type": "code",
   "execution_count": 93,
   "metadata": {},
   "outputs": [],
   "source": [
    "df_plot_2020 = df_plot_2020[cols+['month_day','date']]"
   ]
  },
  {
   "cell_type": "code",
   "execution_count": 94,
   "metadata": {},
   "outputs": [],
   "source": [
    "df_plot_2020 = pd.merge(pd_days_2020,df_plot_2020,on=['month_day','date'],how='left')"
   ]
  },
  {
   "cell_type": "code",
   "execution_count": 95,
   "metadata": {},
   "outputs": [],
   "source": [
    "df_plot_2020.fillna(0,inplace=True)"
   ]
  },
  {
   "cell_type": "markdown",
   "metadata": {},
   "source": [
    "## Mantecas"
   ]
  },
  {
   "cell_type": "code",
   "execution_count": 96,
   "metadata": {},
   "outputs": [],
   "source": [
    "variable = 'manteca_nb'"
   ]
  },
  {
   "cell_type": "code",
   "execution_count": 97,
   "metadata": {},
   "outputs": [],
   "source": [
    "prevision = df_plot_2019[ datetime.datetime.today()+ datetime.timedelta(days=-365) < df_plot_2019['date'] ].copy()"
   ]
  },
  {
   "cell_type": "code",
   "execution_count": 98,
   "metadata": {},
   "outputs": [],
   "source": [
    "prevision[variable] = prevision[variable]*difference[variable]"
   ]
  },
  {
   "cell_type": "code",
   "execution_count": 99,
   "metadata": {},
   "outputs": [],
   "source": [
    "df_plot_2020_2 = df_plot_2020[df_plot_2020['date'] <= datetime.datetime.today()].append(prevision)"
   ]
  },
  {
   "cell_type": "code",
   "execution_count": 100,
   "metadata": {},
   "outputs": [
    {
     "data": {
      "image/png": "[encoded data removed]",
      "text/plain": [
       "<Figure size 1440x720 with 1 Axes>"
      ]
     },
     "metadata": {
      "needs_background": "light"
     },
     "output_type": "display_data"
    }
   ],
   "source": [
    "plt.figure(figsize=(20,10))\n",
    "cum2019 = df_plot_2019[variable].cumsum()\n",
    "\n",
    "plt.plot(df_plot_2019['month_day'], cum2019)\n",
    "\n",
    "\n",
    "\n",
    "cum2020 = df_plot_2020_2 [variable].cumsum()\n",
    "plt.plot(df_plot_2020_2['month_day'],cum2020)\n",
    "\n",
    "plt.title('2019 hemos vendido {} {} \\n 2020 vamos a vender {} {}'.format(\n",
    "            df_plot_2019[variable].sum(),\n",
    "            variable,\n",
    "            df_plot_2020_2[variable].sum(),\n",
    "            variable))\n",
    "\n",
    "plt.xticks(rotation=90)\n",
    "\n",
    "plt.show()"
   ]
  },
  {
   "cell_type": "code",
   "execution_count": null,
   "metadata": {},
   "outputs": [],
   "source": []
  },
  {
   "cell_type": "markdown",
   "metadata": {},
   "source": [
    "## PACKs"
   ]
  },
  {
   "cell_type": "code",
   "execution_count": 101,
   "metadata": {},
   "outputs": [],
   "source": [
    "variable = 'packHidra_nb'"
   ]
  },
  {
   "cell_type": "code",
   "execution_count": 102,
   "metadata": {},
   "outputs": [],
   "source": [
    "prevision = df_plot_2019[ datetime.datetime.today()+ datetime.timedelta(days=-365) < df_plot_2019['date'] ].copy()"
   ]
  },
  {
   "cell_type": "code",
   "execution_count": 103,
   "metadata": {},
   "outputs": [],
   "source": [
    "prevision[variable] = prevision[variable]*difference[variable]"
   ]
  },
  {
   "cell_type": "code",
   "execution_count": 104,
   "metadata": {},
   "outputs": [],
   "source": [
    "df_plot_2020_2 = df_plot_2020[df_plot_2020['date'] <= datetime.datetime.today()].append(prevision)"
   ]
  },
  {
   "cell_type": "code",
   "execution_count": 105,
   "metadata": {},
   "outputs": [],
   "source": [
    "df_plot_2020_2['packHidra_nb'] = df_plot_2020_2['packHidra_nb'] + df_plot_2020_2['packNavidad_nb']"
   ]
  },
  {
   "cell_type": "code",
   "execution_count": 106,
   "metadata": {},
   "outputs": [
    {
     "data": {
      "image/png": "[encoded data removed]",
      "text/plain": [
       "<Figure size 1440x720 with 1 Axes>"
      ]
     },
     "metadata": {
      "needs_background": "light"
     },
     "output_type": "display_data"
    }
   ],
   "source": [
    "plt.figure(figsize=(20,10))\n",
    "cum2019 = df_plot_2019[variable].cumsum()\n",
    "\n",
    "plt.plot(df_plot_2019['month_day'], cum2019,label='2019')\n",
    "\n",
    "\n",
    "\n",
    "cum2020 = df_plot_2020_2[variable].cumsum()\n",
    "a = plt.plot(df_plot_2020_2['month_day'],cum2020,label='2020')\n",
    "\n",
    "plt.title('2019 hemos vendido {} {} \\n 2020 vamos a vender {} {}'.format(\n",
    "            df_plot_2019[variable].sum(),\n",
    "            variable,\n",
    "            df_plot_2020_2[variable].sum(),\n",
    "            'pack_navidad & pack hidra'))\n",
    "\n",
    "plt.xticks(rotation=90)\n",
    "\n",
    "plt.legend()\n",
    "\n",
    "plt.show()"
   ]
  },
  {
   "cell_type": "code",
   "execution_count": 107,
   "metadata": {},
   "outputs": [],
   "source": [
    "data2020 = pd.DataFrame(a[0].get_data()).T"
   ]
  },
  {
   "cell_type": "code",
   "execution_count": 108,
   "metadata": {},
   "outputs": [],
   "source": [
    "data2020.columns = ['mes_dia','data']"
   ]
  },
  {
   "cell_type": "code",
   "execution_count": 109,
   "metadata": {},
   "outputs": [
    {
     "data": {
      "text/html": [
       "<div>\n",
       "<style scoped>\n",
       "    .dataframe tbody tr th:only-of-type {\n",
       "        vertical-align: middle;\n",
       "    }\n",
       "\n",
       "    .dataframe tbody tr th {\n",
       "        vertical-align: top;\n",
       "    }\n",
       "\n",
       "    .dataframe thead th {\n",
       "        text-align: right;\n",
       "    }\n",
       "</style>\n",
       "<table border=\"1\" class=\"dataframe\">\n",
       "  <thead>\n",
       "    <tr style=\"text-align: right;\">\n",
       "      <th></th>\n",
       "      <th>mes_dia</th>\n",
       "      <th>data</th>\n",
       "    </tr>\n",
       "  </thead>\n",
       "  <tbody>\n",
       "    <tr>\n",
       "      <th>69</th>\n",
       "      <td>12-16</td>\n",
       "      <td>207</td>\n",
       "    </tr>\n",
       "    <tr>\n",
       "      <th>70</th>\n",
       "      <td>12-16</td>\n",
       "      <td>211</td>\n",
       "    </tr>\n",
       "    <tr>\n",
       "      <th>71</th>\n",
       "      <td>12-17</td>\n",
       "      <td>212</td>\n",
       "    </tr>\n",
       "    <tr>\n",
       "      <th>72</th>\n",
       "      <td>12-17</td>\n",
       "      <td>212</td>\n",
       "    </tr>\n",
       "    <tr>\n",
       "      <th>73</th>\n",
       "      <td>12-17</td>\n",
       "      <td>216</td>\n",
       "    </tr>\n",
       "    <tr>\n",
       "      <th>74</th>\n",
       "      <td>12-18</td>\n",
       "      <td>217</td>\n",
       "    </tr>\n",
       "    <tr>\n",
       "      <th>75</th>\n",
       "      <td>12-18</td>\n",
       "      <td>219</td>\n",
       "    </tr>\n",
       "    <tr>\n",
       "      <th>76</th>\n",
       "      <td>12-18</td>\n",
       "      <td>221</td>\n",
       "    </tr>\n",
       "    <tr>\n",
       "      <th>77</th>\n",
       "      <td>12-18</td>\n",
       "      <td>222</td>\n",
       "    </tr>\n",
       "    <tr>\n",
       "      <th>78</th>\n",
       "      <td>12-18</td>\n",
       "      <td>226</td>\n",
       "    </tr>\n",
       "    <tr>\n",
       "      <th>79</th>\n",
       "      <td>12-18</td>\n",
       "      <td>229</td>\n",
       "    </tr>\n",
       "    <tr>\n",
       "      <th>80</th>\n",
       "      <td>12-18</td>\n",
       "      <td>231</td>\n",
       "    </tr>\n",
       "    <tr>\n",
       "      <th>81</th>\n",
       "      <td>12-18</td>\n",
       "      <td>233</td>\n",
       "    </tr>\n",
       "    <tr>\n",
       "      <th>82</th>\n",
       "      <td>12-18</td>\n",
       "      <td>235</td>\n",
       "    </tr>\n",
       "    <tr>\n",
       "      <th>83</th>\n",
       "      <td>12-18</td>\n",
       "      <td>239</td>\n",
       "    </tr>\n",
       "    <tr>\n",
       "      <th>84</th>\n",
       "      <td>12-18</td>\n",
       "      <td>241</td>\n",
       "    </tr>\n",
       "    <tr>\n",
       "      <th>85</th>\n",
       "      <td>12-19</td>\n",
       "      <td>244</td>\n",
       "    </tr>\n",
       "    <tr>\n",
       "      <th>86</th>\n",
       "      <td>12-19</td>\n",
       "      <td>246</td>\n",
       "    </tr>\n",
       "    <tr>\n",
       "      <th>87</th>\n",
       "      <td>12-19</td>\n",
       "      <td>247</td>\n",
       "    </tr>\n",
       "    <tr>\n",
       "      <th>88</th>\n",
       "      <td>12-19</td>\n",
       "      <td>248</td>\n",
       "    </tr>\n",
       "    <tr>\n",
       "      <th>89</th>\n",
       "      <td>12-19</td>\n",
       "      <td>255</td>\n",
       "    </tr>\n",
       "    <tr>\n",
       "      <th>90</th>\n",
       "      <td>12-19</td>\n",
       "      <td>257</td>\n",
       "    </tr>\n",
       "    <tr>\n",
       "      <th>91</th>\n",
       "      <td>12-19</td>\n",
       "      <td>259</td>\n",
       "    </tr>\n",
       "    <tr>\n",
       "      <th>92</th>\n",
       "      <td>12-19</td>\n",
       "      <td>263</td>\n",
       "    </tr>\n",
       "    <tr>\n",
       "      <th>93</th>\n",
       "      <td>12-19</td>\n",
       "      <td>266</td>\n",
       "    </tr>\n",
       "    <tr>\n",
       "      <th>94</th>\n",
       "      <td>12-19</td>\n",
       "      <td>271</td>\n",
       "    </tr>\n",
       "    <tr>\n",
       "      <th>95</th>\n",
       "      <td>12-19</td>\n",
       "      <td>271</td>\n",
       "    </tr>\n",
       "    <tr>\n",
       "      <th>96</th>\n",
       "      <td>12-20</td>\n",
       "      <td>273</td>\n",
       "    </tr>\n",
       "    <tr>\n",
       "      <th>97</th>\n",
       "      <td>12-20</td>\n",
       "      <td>274</td>\n",
       "    </tr>\n",
       "    <tr>\n",
       "      <th>98</th>\n",
       "      <td>12-20</td>\n",
       "      <td>276</td>\n",
       "    </tr>\n",
       "    <tr>\n",
       "      <th>99</th>\n",
       "      <td>12-20</td>\n",
       "      <td>277</td>\n",
       "    </tr>\n",
       "    <tr>\n",
       "      <th>100</th>\n",
       "      <td>12-20</td>\n",
       "      <td>279</td>\n",
       "    </tr>\n",
       "    <tr>\n",
       "      <th>101</th>\n",
       "      <td>12-20</td>\n",
       "      <td>281</td>\n",
       "    </tr>\n",
       "    <tr>\n",
       "      <th>102</th>\n",
       "      <td>12-20</td>\n",
       "      <td>283</td>\n",
       "    </tr>\n",
       "    <tr>\n",
       "      <th>103</th>\n",
       "      <td>12-20</td>\n",
       "      <td>285</td>\n",
       "    </tr>\n",
       "    <tr>\n",
       "      <th>104</th>\n",
       "      <td>12-21</td>\n",
       "      <td>287</td>\n",
       "    </tr>\n",
       "    <tr>\n",
       "      <th>105</th>\n",
       "      <td>12-21</td>\n",
       "      <td>288</td>\n",
       "    </tr>\n",
       "  </tbody>\n",
       "</table>\n",
       "</div>"
      ],
      "text/plain": [
       "    mes_dia data\n",
       "69    12-16  207\n",
       "70    12-16  211\n",
       "71    12-17  212\n",
       "72    12-17  212\n",
       "73    12-17  216\n",
       "74    12-18  217\n",
       "75    12-18  219\n",
       "76    12-18  221\n",
       "77    12-18  222\n",
       "78    12-18  226\n",
       "79    12-18  229\n",
       "80    12-18  231\n",
       "81    12-18  233\n",
       "82    12-18  235\n",
       "83    12-18  239\n",
       "84    12-18  241\n",
       "85    12-19  244\n",
       "86    12-19  246\n",
       "87    12-19  247\n",
       "88    12-19  248\n",
       "89    12-19  255\n",
       "90    12-19  257\n",
       "91    12-19  259\n",
       "92    12-19  263\n",
       "93    12-19  266\n",
       "94    12-19  271\n",
       "95    12-19  271\n",
       "96    12-20  273\n",
       "97    12-20  274\n",
       "98    12-20  276\n",
       "99    12-20  277\n",
       "100   12-20  279\n",
       "101   12-20  281\n",
       "102   12-20  283\n",
       "103   12-20  285\n",
       "104   12-21  287\n",
       "105   12-21  288"
      ]
     },
     "execution_count": 109,
     "metadata": {},
     "output_type": "execute_result"
    }
   ],
   "source": [
    "data2020[(data2020['data'] < 290) & (200 < data2020['data'])]"
   ]
  },
  {
   "cell_type": "code",
   "execution_count": 110,
   "metadata": {},
   "outputs": [
    {
     "data": {
      "text/plain": [
       "packHidra_nb       9.0\n",
       "packNavidad_nb    62.0\n",
       "dtype: float64"
      ]
     },
     "execution_count": 110,
     "metadata": {},
     "output_type": "execute_result"
    }
   ],
   "source": [
    "df.groupby('date')[['packHidra_nb','packNavidad_nb']].sum().reset_index()[-12:].sum()"
   ]
  },
  {
   "cell_type": "code",
   "execution_count": 111,
   "metadata": {},
   "outputs": [
    {
     "data": {
      "text/plain": [
       "253.1645569620253"
      ]
     },
     "execution_count": 111,
     "metadata": {},
     "output_type": "execute_result"
    }
   ],
   "source": [
    "200/0.79"
   ]
  },
  {
   "cell_type": "markdown",
   "metadata": {},
   "source": [
    "## Mantecas"
   ]
  },
  {
   "cell_type": "code",
   "execution_count": 112,
   "metadata": {},
   "outputs": [],
   "source": [
    "variable = 'total_price'"
   ]
  },
  {
   "cell_type": "code",
   "execution_count": 113,
   "metadata": {},
   "outputs": [],
   "source": [
    "prevision = df_plot_2019[ datetime.datetime.today()+ datetime.timedelta(days=-365) < df_plot_2019['date'] ].copy()"
   ]
  },
  {
   "cell_type": "code",
   "execution_count": 114,
   "metadata": {},
   "outputs": [],
   "source": [
    "prevision[variable] = prevision[variable]*difference[variable]"
   ]
  },
  {
   "cell_type": "code",
   "execution_count": 115,
   "metadata": {},
   "outputs": [],
   "source": [
    "df_plot_2020_2 = df_plot_2020[df_plot_2020['date'] <= datetime.datetime.today()].append(prevision)"
   ]
  },
  {
   "cell_type": "code",
   "execution_count": 116,
   "metadata": {},
   "outputs": [
    {
     "data": {
      "image/png": "[encoded data removed]",
      "text/plain": [
       "<Figure size 1440x720 with 1 Axes>"
      ]
     },
     "metadata": {
      "needs_background": "light"
     },
     "output_type": "display_data"
    }
   ],
   "source": [
    "plt.figure(figsize=(20,10))\n",
    "cum2019 = df_plot_2019[variable].cumsum()\n",
    "\n",
    "plt.plot(df_plot_2019['month_day'], cum2019)\n",
    "\n",
    "\n",
    "\n",
    "cum2020 = df_plot_2020_2 [variable].cumsum()\n",
    "plt.plot(df_plot_2020_2['month_day'],cum2020)\n",
    "\n",
    "plt.title('2019 hemos vendido {} {} \\n 2020 vamos a vender {} {}'.format(\n",
    "            df_plot_2019[variable].sum(),\n",
    "            variable,\n",
    "            round(df_plot_2020_2[variable].sum(),1),\n",
    "            variable))\n",
    "\n",
    "plt.show()"
   ]
  }
 ],
 "metadata": {
  "accelerator": "GPU",
  "colab": {
   "collapsed_sections": [],
   "include_colab_link": true,
   "name": "colab_estructurar_bbdd_y_subir_a_firebase.ipynb",
   "provenance": []
  },
  "kernelspec": {
   "display_name": "Python 3",
   "language": "python",
   "name": "python3"
  },
  "language_info": {
   "codemirror_mode": {
    "name": "ipython",
    "version": 3
   },
   "file_extension": ".py",
   "mimetype": "text/x-python",
   "name": "python",
   "nbconvert_exporter": "python",
   "pygments_lexer": "ipython3",
   "version": "3.8.3"
  }
 },
 "nbformat": 4,
 "nbformat_minor": 1
}

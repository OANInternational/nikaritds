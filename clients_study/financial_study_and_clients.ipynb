{
 "cells": [
  {
   "cell_type": "code",
   "execution_count": 4,
   "metadata": {},
   "outputs": [],
   "source": [
    "import os\n",
    "import pandas as pd\n",
    "import numpy as np\n",
    "import pandas_gbq\n",
    "import unidecode"
   ]
  },
  {
   "cell_type": "code",
   "execution_count": 2,
   "metadata": {},
   "outputs": [],
   "source": [
    "from google.cloud import bigquery"
   ]
  },
  {
   "cell_type": "code",
   "execution_count": 1,
   "metadata": {},
   "outputs": [],
   "source": [
    "from dotenv import load_dotenv\n",
    "load_dotenv('/Users/daniel/OAN/credentials/contoan/.env')"
   ]
  },
  {
   "cell_type": "code",
   "execution_count": 21,
   "metadata": {},
   "outputs": [
    {
     "name": "stdout",
     "output_type": "stream",
     "text": [
      "4.9.0\n"
     ]
    }
   ],
   "source": [
    "from plotly import __version__\n",
    "from plotly.offline import download_plotlyjs, init_notebook_mode, plot, iplot\n",
    "\n",
    "print(__version__) # requires version >= 1.9.0"
   ]
  },
  {
   "cell_type": "code",
   "execution_count": 22,
   "metadata": {},
   "outputs": [],
   "source": [
    "import cufflinks as cf"
   ]
  },
  {
   "cell_type": "code",
   "execution_count": 23,
   "metadata": {},
   "outputs": [
    {
     "data": {
      "text/html": [
       "        <script type=\"text/javascript\">\n",
       "        window.PlotlyConfig = {MathJaxConfig: 'local'};\n",
       "        if (window.MathJax) {MathJax.Hub.Config({SVG: {font: \"STIX-Web\"}});}\n",
       "        if (typeof require !== 'undefined') {\n",
       "        require.undef(\"plotly\");\n",
       "        requirejs.config({\n",
       "            paths: {\n",
       "                'plotly': ['https://cdn.plot.ly/plotly-latest.min']\n",
       "            }\n",
       "        });\n",
       "        require(['plotly'], function(Plotly) {\n",
       "            window._Plotly = Plotly;\n",
       "        });\n",
       "        }\n",
       "        </script>\n",
       "        "
      ]
     },
     "metadata": {},
     "output_type": "display_data"
    }
   ],
   "source": [
    "init_notebook_mode(connected=True)"
   ]
  },
  {
   "cell_type": "code",
   "execution_count": 24,
   "metadata": {},
   "outputs": [
    {
     "data": {
      "text/html": [
       "        <script type=\"text/javascript\">\n",
       "        window.PlotlyConfig = {MathJaxConfig: 'local'};\n",
       "        if (window.MathJax) {MathJax.Hub.Config({SVG: {font: \"STIX-Web\"}});}\n",
       "        if (typeof require !== 'undefined') {\n",
       "        require.undef(\"plotly\");\n",
       "        requirejs.config({\n",
       "            paths: {\n",
       "                'plotly': ['https://cdn.plot.ly/plotly-latest.min']\n",
       "            }\n",
       "        });\n",
       "        require(['plotly'], function(Plotly) {\n",
       "            window._Plotly = Plotly;\n",
       "        });\n",
       "        }\n",
       "        </script>\n",
       "        "
      ]
     },
     "metadata": {},
     "output_type": "display_data"
    }
   ],
   "source": [
    "cf.go_offline()"
   ]
  },
  {
   "cell_type": "code",
   "execution_count": 25,
   "metadata": {},
   "outputs": [],
   "source": [
    "import seaborn as sns\n",
    "import matplotlib.pyplot as plt"
   ]
  },
  {
   "cell_type": "markdown",
   "metadata": {},
   "source": [
    "### ANALYCEMOS CUENTAS"
   ]
  },
  {
   "cell_type": "code",
   "execution_count": 51,
   "metadata": {},
   "outputs": [
    {
     "name": "stderr",
     "output_type": "stream",
     "text": [
      "Downloading: 100%|██████████| 2255/2255 [00:01<00:00, 1491.61rows/s]\n"
     ]
    }
   ],
   "source": [
    "sql = \"\"\"\n",
    "   SELECT acc.id as `ID`,\n",
    "       acc.creation_date as `CREACION`,\n",
    "       acc.execution_date as `EJECUCION`,\n",
    "       acc.concept as `CONCEPTO`,\n",
    "       pr.name as `PROJECTO`,\n",
    "       int.name as `INTERVENCION`,\n",
    "       ph.name as `FASE`,\n",
    "       CASE \n",
    "        WHEN acc.type = 'expense'  THEN 'Gasto'\n",
    "        WHEN acc.type = 'income'  THEN 'Ingreso'\n",
    "        WHEN acc.type = 'movement'  THEN 'Movimiento'\n",
    "        ELSE ''\n",
    "      END AS `TIPO`,\n",
    "       acc.amount as `CANTIDAD`,\n",
    "       acc.vat as `IVA`,\n",
    "       acc.vat_amount as `IVA_CTA`,\n",
    "       tg.name as `CAJA_BANCO`,\n",
    "       ac.name as `CATEGORIA`,\n",
    "       acc.description as `DESCRIPCION`,\n",
    "       cr.name as `CREADOR`,\n",
    "       rs.name as `RESPONSABLE`,      \n",
    "       acc.code as `COTADOR`,\n",
    "       acc.origin as `ORIGEN`,\n",
    "       acc.place as `LUGAR`,\n",
    "       acc.receipt as `FACTURA`\n",
    "       \n",
    "      \n",
    "FROM `oan-nikarit.contoan.accounting` acc\n",
    "LEFT OUTER JOIN `oan-nikarit.contoan.accounts` ac\n",
    "ON acc.account_id = ac.id\n",
    "LEFT OUTER JOIN `oan-nikarit.contoan.accounts` tg\n",
    "ON acc.target_id = tg.id\n",
    "LEFT OUTER JOIN `oan-nikarit.contoan.projects` pr\n",
    "ON acc.project = pr.id\n",
    "LEFT OUTER JOIN `oan-nikarit.contoan.projects` int\n",
    "ON acc.intervention = int.id\n",
    "LEFT OUTER JOIN `oan-nikarit.contoan.projects` ph\n",
    "ON acc.phase = ph.id\n",
    "LEFT OUTER JOIN `oan-nikarit.contoan.users` cr\n",
    "ON acc.creator_user = cr.id\n",
    "LEFT OUTER JOIN `oan-nikarit.contoan.users` rs\n",
    "ON acc.user_in_charge = rs.id\n",
    "\"\"\".lower()\n",
    "\n",
    "# Run a Standard SQL query using the environment's default project\n",
    "df = pd.read_gbq(sql, dialect='standard')"
   ]
  },
  {
   "cell_type": "code",
   "execution_count": 34,
   "metadata": {},
   "outputs": [
    {
     "data": {
      "text/plain": [
       "Nikarit                   1794\n",
       "Administration_general     180\n",
       "Pompes d'eau                82\n",
       "ADSAN                       70\n",
       "Fassol                      57\n",
       "Emancipacion                43\n",
       "Forum Nikki                 17\n",
       "CPNPF                        6\n",
       "Évènements                   4\n",
       "Aguapp                       2\n",
       "Name: projecto, dtype: int64"
      ]
     },
     "execution_count": 34,
     "metadata": {},
     "output_type": "execute_result"
    }
   ],
   "source": [
    "df['projecto'].value_counts()"
   ]
  },
  {
   "cell_type": "code",
   "execution_count": 36,
   "metadata": {},
   "outputs": [
    {
     "data": {
      "image/png": "[encoded data removed]",
      "text/plain": [
       "<Figure size 432x288 with 1 Axes>"
      ]
     },
     "metadata": {
      "needs_background": "light"
     },
     "output_type": "display_data"
    }
   ],
   "source": [
    "sns.countplot(x='projecto',data=df)\n",
    "plt.xticks(rotation=90)\n",
    "plt.show()"
   ]
  },
  {
   "cell_type": "code",
   "execution_count": 38,
   "metadata": {},
   "outputs": [
    {
     "data": {
      "text/plain": [
       "Banco Stripe                  1035\n",
       "Banco Paypal                   365\n",
       "Banco Caja de Ingenieros       259\n",
       "Caja Mireille                  168\n",
       "Banco Santander                137\n",
       "Caja Kader                      79\n",
       "Caja Hafiz                      55\n",
       "Caja Daniel                     37\n",
       "Caja Abour Rhaman               29\n",
       "Caja Rasak                      24\n",
       "Caja Imorou                     14\n",
       "Caja Habirou                    11\n",
       "Caja Chemita                     9\n",
       "Deudas a c.p. (Acreedores)       7\n",
       "Bank of Africa                   6\n",
       "Caja                             6\n",
       "Caja Younous                     5\n",
       "Deudas a c.p. (Deudores)         4\n",
       "Caja Sofia                       2\n",
       "Caja Jaume                       2\n",
       "Caja Sianson                     1\n",
       "Name: caja_banco, dtype: int64"
      ]
     },
     "execution_count": 38,
     "metadata": {},
     "output_type": "execute_result"
    }
   ],
   "source": [
    "df['caja_banco'].value_counts()"
   ]
  },
  {
   "cell_type": "code",
   "execution_count": 40,
   "metadata": {},
   "outputs": [
    {
     "data": {
      "text/plain": [
       "script_dani    879\n",
       "contoan        628\n",
       "shopify        612\n",
       "g_forms        136\n",
       "Name: origen, dtype: int64"
      ]
     },
     "execution_count": 40,
     "metadata": {},
     "output_type": "execute_result"
    }
   ],
   "source": [
    "df['origen'].value_counts()"
   ]
  },
  {
   "cell_type": "code",
   "execution_count": 43,
   "metadata": {},
   "outputs": [
    {
     "data": {
      "text/plain": [
       "origen       lugar\n",
       "contoan      benin    232\n",
       "             spain    396\n",
       "g_forms      benin    135\n",
       "             spain      1\n",
       "script_dani  spain    879\n",
       "shopify      spain    612\n",
       "Name: id, dtype: int64"
      ]
     },
     "execution_count": 43,
     "metadata": {},
     "output_type": "execute_result"
    }
   ],
   "source": [
    "df.groupby(['origen','lugar']).count()['id']"
   ]
  },
  {
   "cell_type": "code",
   "execution_count": 44,
   "metadata": {},
   "outputs": [
    {
     "name": "stdout",
     "output_type": "stream",
     "text": [
      "Index(['id', 'creacion', 'ejecucion', 'concepto', 'projecto', 'invervencion',\n",
      "       'fase', 'tipo', 'cantidad', 'iva', 'iva_cta', 'caja_banco', 'categoria',\n",
      "       'descripcion', 'creador', 'responsable', 'cotador', 'origen', 'lugar',\n",
      "       'factura'],\n",
      "      dtype='object')\n"
     ]
    }
   ],
   "source": [
    "print(df.columns)"
   ]
  },
  {
   "cell_type": "code",
   "execution_count": 45,
   "metadata": {
    "scrolled": false
   },
   "outputs": [
    {
     "data": {
      "image/png": "[encoded data removed]",
      "text/plain": [
       "<Figure size 432x288 with 1 Axes>"
      ]
     },
     "metadata": {
      "needs_background": "light"
     },
     "output_type": "display_data"
    }
   ],
   "source": [
    "sns.countplot(x='creador',data=df)\n",
    "plt.xticks(rotation=90)\n",
    "plt.show()"
   ]
  },
  {
   "cell_type": "markdown",
   "metadata": {},
   "source": [
    "## NIKARIT"
   ]
  },
  {
   "cell_type": "code",
   "execution_count": 54,
   "metadata": {},
   "outputs": [
    {
     "data": {
      "text/plain": [
       "Index(['id', 'creacion', 'ejecucion', 'concepto', 'projecto', 'intervencion',\n",
       "       'fase', 'tipo', 'cantidad', 'iva', 'iva_cta', 'caja_banco', 'categoria',\n",
       "       'descripcion', 'creador', 'responsable', 'cotador', 'origen', 'lugar',\n",
       "       'factura'],\n",
       "      dtype='object')"
      ]
     },
     "execution_count": 54,
     "metadata": {},
     "output_type": "execute_result"
    }
   ],
   "source": [
    "df.columns"
   ]
  },
  {
   "cell_type": "code",
   "execution_count": 56,
   "metadata": {},
   "outputs": [],
   "source": [
    "df_nikarit = df[df['projecto']=='Nikarit']"
   ]
  },
  {
   "cell_type": "code",
   "execution_count": 58,
   "metadata": {},
   "outputs": [],
   "source": [
    "df_nik_cat=df_nikarit.groupby(['categoria','tipo','intervencion'])['cantidad'].sum().reset_index()"
   ]
  },
  {
   "cell_type": "code",
   "execution_count": 59,
   "metadata": {},
   "outputs": [
    {
     "data": {
      "text/html": [
       "<div>\n",
       "<style scoped>\n",
       "    .dataframe tbody tr th:only-of-type {\n",
       "        vertical-align: middle;\n",
       "    }\n",
       "\n",
       "    .dataframe tbody tr th {\n",
       "        vertical-align: top;\n",
       "    }\n",
       "\n",
       "    .dataframe thead th {\n",
       "        text-align: right;\n",
       "    }\n",
       "</style>\n",
       "<table border=\"1\" class=\"dataframe\">\n",
       "  <thead>\n",
       "    <tr style=\"text-align: right;\">\n",
       "      <th></th>\n",
       "      <th>categoria</th>\n",
       "      <th>tipo</th>\n",
       "      <th>intervencion</th>\n",
       "      <th>cantidad</th>\n",
       "    </tr>\n",
       "  </thead>\n",
       "  <tbody>\n",
       "    <tr>\n",
       "      <th>0</th>\n",
       "      <td>Alquileres (oficinas y otros)</td>\n",
       "      <td>gasto</td>\n",
       "      <td>Espagne General 2020</td>\n",
       "      <td>199.65</td>\n",
       "    </tr>\n",
       "    <tr>\n",
       "      <th>1</th>\n",
       "      <td>Apertura</td>\n",
       "      <td>movimiento</td>\n",
       "      <td>Espagne General 2020</td>\n",
       "      <td>12102.71</td>\n",
       "    </tr>\n",
       "  </tbody>\n",
       "</table>\n",
       "</div>"
      ],
      "text/plain": [
       "                       categoria        tipo          intervencion  cantidad\n",
       "0  Alquileres (oficinas y otros)       gasto  Espagne General 2020    199.65\n",
       "1                       Apertura  movimiento  Espagne General 2020  12102.71"
      ]
     },
     "execution_count": 59,
     "metadata": {},
     "output_type": "execute_result"
    }
   ],
   "source": [
    "df_nik_cat.head(2)"
   ]
  },
  {
   "cell_type": "code",
   "execution_count": 63,
   "metadata": {},
   "outputs": [],
   "source": [
    "expense = df_nik_cat[df_nik_cat['tipo']=='gasto']"
   ]
  },
  {
   "cell_type": "code",
   "execution_count": 64,
   "metadata": {},
   "outputs": [
    {
     "data": {
      "image/png": "[encoded data removed]",
      "text/plain": [
       "<Figure size 1440x720 with 1 Axes>"
      ]
     },
     "metadata": {
      "needs_background": "light"
     },
     "output_type": "display_data"
    }
   ],
   "source": [
    "fig = plt.figure(figsize=(20,10))\n",
    "ax = sns.barplot(x=\"categoria\", y=\"cantidad\",hue='intervencion', data=expense)\n",
    "plt.xticks(rotation=90)\n",
    "plt.show()"
   ]
  },
  {
   "cell_type": "markdown",
   "metadata": {},
   "source": [
    "## INGRESOS Y GASTOS"
   ]
  },
  {
   "cell_type": "code",
   "execution_count": 65,
   "metadata": {},
   "outputs": [
    {
     "data": {
      "text/html": [
       "<div>\n",
       "<style scoped>\n",
       "    .dataframe tbody tr th:only-of-type {\n",
       "        vertical-align: middle;\n",
       "    }\n",
       "\n",
       "    .dataframe tbody tr th {\n",
       "        vertical-align: top;\n",
       "    }\n",
       "\n",
       "    .dataframe thead th {\n",
       "        text-align: right;\n",
       "    }\n",
       "</style>\n",
       "<table border=\"1\" class=\"dataframe\">\n",
       "  <thead>\n",
       "    <tr style=\"text-align: right;\">\n",
       "      <th></th>\n",
       "      <th>tipo</th>\n",
       "      <th>cantidad</th>\n",
       "    </tr>\n",
       "  </thead>\n",
       "  <tbody>\n",
       "    <tr>\n",
       "      <th>0</th>\n",
       "      <td>gasto</td>\n",
       "      <td>42714.05</td>\n",
       "    </tr>\n",
       "    <tr>\n",
       "      <th>1</th>\n",
       "      <td>ingreso</td>\n",
       "      <td>36505.98</td>\n",
       "    </tr>\n",
       "    <tr>\n",
       "      <th>2</th>\n",
       "      <td>movimiento</td>\n",
       "      <td>43749.73</td>\n",
       "    </tr>\n",
       "  </tbody>\n",
       "</table>\n",
       "</div>"
      ],
      "text/plain": [
       "         tipo  cantidad\n",
       "0       gasto  42714.05\n",
       "1     ingreso  36505.98\n",
       "2  movimiento  43749.73"
      ]
     },
     "execution_count": 65,
     "metadata": {},
     "output_type": "execute_result"
    }
   ],
   "source": [
    "df_3 = df_nikarit.groupby('tipo')['cantidad'].sum().reset_index()\n",
    "df_3.head()"
   ]
  },
  {
   "cell_type": "code",
   "execution_count": 67,
   "metadata": {},
   "outputs": [
    {
     "data": {
      "application/vnd.plotly.v1+json": {
       "config": {
        "linkText": "Export to plot.ly",
        "plotlyServerURL": "https://plot.ly",
        "showLink": true
       },
       "data": [
        {
         "marker": {
          "color": "rgba(255, 153, 51, 0.6)",
          "line": {
           "color": "rgba(255, 153, 51, 1.0)",
           "width": 1
          }
         },
         "name": "cantidad",
         "orientation": "v",
         "text": "",
         "type": "bar",
         "x": [
          "gasto",
          "ingreso",
          "movimiento"
         ],
         "y": [
          42714.04999999986,
          36505.98000000003,
          43749.72999999995
         ]
        }
       ],
       "layout": {
        "legend": {
         "bgcolor": "#F5F6F9",
         "font": {
          "color": "#4D5663"
         }
        },
        "paper_bgcolor": "#F5F6F9",
        "plot_bgcolor": "#F5F6F9",
        "template": {
         "data": {
          "bar": [
           {
            "error_x": {
             "color": "#2a3f5f"
            },
            "error_y": {
             "color": "#2a3f5f"
            },
            "marker": {
             "line": {
              "color": "#E5ECF6",
              "width": 0.5
             }
            },
            "type": "bar"
           }
          ],
          "barpolar": [
           {
            "marker": {
             "line": {
              "color": "#E5ECF6",
              "width": 0.5
             }
            },
            "type": "barpolar"
           }
          ],
          "carpet": [
           {
            "aaxis": {
             "endlinecolor": "#2a3f5f",
             "gridcolor": "white",
             "linecolor": "white",
             "minorgridcolor": "white",
             "startlinecolor": "#2a3f5f"
            },
            "baxis": {
             "endlinecolor": "#2a3f5f",
             "gridcolor": "white",
             "linecolor": "white",
             "minorgridcolor": "white",
             "startlinecolor": "#2a3f5f"
            },
            "type": "carpet"
           }
          ],
          "choropleth": [
           {
            "colorbar": {
             "outlinewidth": 0,
             "ticks": ""
            },
            "type": "choropleth"
           }
          ],
          "contour": [
           {
            "colorbar": {
             "outlinewidth": 0,
             "ticks": ""
            },
            "colorscale": [
             [
              0,
              "#0d0887"
             ],
             [
              0.1111111111111111,
              "#46039f"
             ],
             [
              0.2222222222222222,
              "#7201a8"
             ],
             [
              0.3333333333333333,
              "#9c179e"
             ],
             [
              0.4444444444444444,
              "#bd3786"
             ],
             [
              0.5555555555555556,
              "#d8576b"
             ],
             [
              0.6666666666666666,
              "#ed7953"
             ],
             [
              0.7777777777777778,
              "#fb9f3a"
             ],
             [
              0.8888888888888888,
              "#fdca26"
             ],
             [
              1,
              "#f0f921"
             ]
            ],
            "type": "contour"
           }
          ],
          "contourcarpet": [
           {
            "colorbar": {
             "outlinewidth": 0,
             "ticks": ""
            },
            "type": "contourcarpet"
           }
          ],
          "heatmap": [
           {
            "colorbar": {
             "outlinewidth": 0,
             "ticks": ""
            },
            "colorscale": [
             [
              0,
              "#0d0887"
             ],
             [
              0.1111111111111111,
              "#46039f"
             ],
             [
              0.2222222222222222,
              "#7201a8"
             ],
             [
              0.3333333333333333,
              "#9c179e"
             ],
             [
              0.4444444444444444,
              "#bd3786"
             ],
             [
              0.5555555555555556,
              "#d8576b"
             ],
             [
              0.6666666666666666,
              "#ed7953"
             ],
             [
              0.7777777777777778,
              "#fb9f3a"
             ],
             [
              0.8888888888888888,
              "#fdca26"
             ],
             [
              1,
              "#f0f921"
             ]
            ],
            "type": "heatmap"
           }
          ],
          "heatmapgl": [
           {
            "colorbar": {
             "outlinewidth": 0,
             "ticks": ""
            },
            "colorscale": [
             [
              0,
              "#0d0887"
             ],
             [
              0.1111111111111111,
              "#46039f"
             ],
             [
              0.2222222222222222,
              "#7201a8"
             ],
             [
              0.3333333333333333,
              "#9c179e"
             ],
             [
              0.4444444444444444,
              "#bd3786"
             ],
             [
              0.5555555555555556,
              "#d8576b"
             ],
             [
              0.6666666666666666,
              "#ed7953"
             ],
             [
              0.7777777777777778,
              "#fb9f3a"
             ],
             [
              0.8888888888888888,
              "#fdca26"
             ],
             [
              1,
              "#f0f921"
             ]
            ],
            "type": "heatmapgl"
           }
          ],
          "histogram": [
           {
            "marker": {
             "colorbar": {
              "outlinewidth": 0,
              "ticks": ""
             }
            },
            "type": "histogram"
           }
          ],
          "histogram2d": [
           {
            "colorbar": {
             "outlinewidth": 0,
             "ticks": ""
            },
            "colorscale": [
             [
              0,
              "#0d0887"
             ],
             [
              0.1111111111111111,
              "#46039f"
             ],
             [
              0.2222222222222222,
              "#7201a8"
             ],
             [
              0.3333333333333333,
              "#9c179e"
             ],
             [
              0.4444444444444444,
              "#bd3786"
             ],
             [
              0.5555555555555556,
              "#d8576b"
             ],
             [
              0.6666666666666666,
              "#ed7953"
             ],
             [
              0.7777777777777778,
              "#fb9f3a"
             ],
             [
              0.8888888888888888,
              "#fdca26"
             ],
             [
              1,
              "#f0f921"
             ]
            ],
            "type": "histogram2d"
           }
          ],
          "histogram2dcontour": [
           {
            "colorbar": {
             "outlinewidth": 0,
             "ticks": ""
            },
            "colorscale": [
             [
              0,
              "#0d0887"
             ],
             [
              0.1111111111111111,
              "#46039f"
             ],
             [
              0.2222222222222222,
              "#7201a8"
             ],
             [
              0.3333333333333333,
              "#9c179e"
             ],
             [
              0.4444444444444444,
              "#bd3786"
             ],
             [
              0.5555555555555556,
              "#d8576b"
             ],
             [
              0.6666666666666666,
              "#ed7953"
             ],
             [
              0.7777777777777778,
              "#fb9f3a"
             ],
             [
              0.8888888888888888,
              "#fdca26"
             ],
             [
              1,
              "#f0f921"
             ]
            ],
            "type": "histogram2dcontour"
           }
          ],
          "mesh3d": [
           {
            "colorbar": {
             "outlinewidth": 0,
             "ticks": ""
            },
            "type": "mesh3d"
           }
          ],
          "parcoords": [
           {
            "line": {
             "colorbar": {
              "outlinewidth": 0,
              "ticks": ""
             }
            },
            "type": "parcoords"
           }
          ],
          "pie": [
           {
            "automargin": true,
            "type": "pie"
           }
          ],
          "scatter": [
           {
            "marker": {
             "colorbar": {
              "outlinewidth": 0,
              "ticks": ""
             }
            },
            "type": "scatter"
           }
          ],
          "scatter3d": [
           {
            "line": {
             "colorbar": {
              "outlinewidth": 0,
              "ticks": ""
             }
            },
            "marker": {
             "colorbar": {
              "outlinewidth": 0,
              "ticks": ""
             }
            },
            "type": "scatter3d"
           }
          ],
          "scattercarpet": [
           {
            "marker": {
             "colorbar": {
              "outlinewidth": 0,
              "ticks": ""
             }
            },
            "type": "scattercarpet"
           }
          ],
          "scattergeo": [
           {
            "marker": {
             "colorbar": {
              "outlinewidth": 0,
              "ticks": ""
             }
            },
            "type": "scattergeo"
           }
          ],
          "scattergl": [
           {
            "marker": {
             "colorbar": {
              "outlinewidth": 0,
              "ticks": ""
             }
            },
            "type": "scattergl"
           }
          ],
          "scattermapbox": [
           {
            "marker": {
             "colorbar": {
              "outlinewidth": 0,
              "ticks": ""
             }
            },
            "type": "scattermapbox"
           }
          ],
          "scatterpolar": [
           {
            "marker": {
             "colorbar": {
              "outlinewidth": 0,
              "ticks": ""
             }
            },
            "type": "scatterpolar"
           }
          ],
          "scatterpolargl": [
           {
            "marker": {
             "colorbar": {
              "outlinewidth": 0,
              "ticks": ""
             }
            },
            "type": "scatterpolargl"
           }
          ],
          "scatterternary": [
           {
            "marker": {
             "colorbar": {
              "outlinewidth": 0,
              "ticks": ""
             }
            },
            "type": "scatterternary"
           }
          ],
          "surface": [
           {
            "colorbar": {
             "outlinewidth": 0,
             "ticks": ""
            },
            "colorscale": [
             [
              0,
              "#0d0887"
             ],
             [
              0.1111111111111111,
              "#46039f"
             ],
             [
              0.2222222222222222,
              "#7201a8"
             ],
             [
              0.3333333333333333,
              "#9c179e"
             ],
             [
              0.4444444444444444,
              "#bd3786"
             ],
             [
              0.5555555555555556,
              "#d8576b"
             ],
             [
              0.6666666666666666,
              "#ed7953"
             ],
             [
              0.7777777777777778,
              "#fb9f3a"
             ],
             [
              0.8888888888888888,
              "#fdca26"
             ],
             [
              1,
              "#f0f921"
             ]
            ],
            "type": "surface"
           }
          ],
          "table": [
           {
            "cells": {
             "fill": {
              "color": "#EBF0F8"
             },
             "line": {
              "color": "white"
             }
            },
            "header": {
             "fill": {
              "color": "#C8D4E3"
             },
             "line": {
              "color": "white"
             }
            },
            "type": "table"
           }
          ]
         },
         "layout": {
          "annotationdefaults": {
           "arrowcolor": "#2a3f5f",
           "arrowhead": 0,
           "arrowwidth": 1
          },
          "coloraxis": {
           "colorbar": {
            "outlinewidth": 0,
            "ticks": ""
           }
          },
          "colorscale": {
           "diverging": [
            [
             0,
             "#8e0152"
            ],
            [
             0.1,
             "#c51b7d"
            ],
            [
             0.2,
             "#de77ae"
            ],
            [
             0.3,
             "#f1b6da"
            ],
            [
             0.4,
             "#fde0ef"
            ],
            [
             0.5,
             "#f7f7f7"
            ],
            [
             0.6,
             "#e6f5d0"
            ],
            [
             0.7,
             "#b8e186"
            ],
            [
             0.8,
             "#7fbc41"
            ],
            [
             0.9,
             "#4d9221"
            ],
            [
             1,
             "#276419"
            ]
           ],
           "sequential": [
            [
             0,
             "#0d0887"
            ],
            [
             0.1111111111111111,
             "#46039f"
            ],
            [
             0.2222222222222222,
             "#7201a8"
            ],
            [
             0.3333333333333333,
             "#9c179e"
            ],
            [
             0.4444444444444444,
             "#bd3786"
            ],
            [
             0.5555555555555556,
             "#d8576b"
            ],
            [
             0.6666666666666666,
             "#ed7953"
            ],
            [
             0.7777777777777778,
             "#fb9f3a"
            ],
            [
             0.8888888888888888,
             "#fdca26"
            ],
            [
             1,
             "#f0f921"
            ]
           ],
           "sequentialminus": [
            [
             0,
             "#0d0887"
            ],
            [
             0.1111111111111111,
             "#46039f"
            ],
            [
             0.2222222222222222,
             "#7201a8"
            ],
            [
             0.3333333333333333,
             "#9c179e"
            ],
            [
             0.4444444444444444,
             "#bd3786"
            ],
            [
             0.5555555555555556,
             "#d8576b"
            ],
            [
             0.6666666666666666,
             "#ed7953"
            ],
            [
             0.7777777777777778,
             "#fb9f3a"
            ],
            [
             0.8888888888888888,
             "#fdca26"
            ],
            [
             1,
             "#f0f921"
            ]
           ]
          },
          "colorway": [
           "#636efa",
           "#EF553B",
           "#00cc96",
           "#ab63fa",
           "#FFA15A",
           "#19d3f3",
           "#FF6692",
           "#B6E880",
           "#FF97FF",
           "#FECB52"
          ],
          "font": {
           "color": "#2a3f5f"
          },
          "geo": {
           "bgcolor": "white",
           "lakecolor": "white",
           "landcolor": "#E5ECF6",
           "showlakes": true,
           "showland": true,
           "subunitcolor": "white"
          },
          "hoverlabel": {
           "align": "left"
          },
          "hovermode": "closest",
          "mapbox": {
           "style": "light"
          },
          "paper_bgcolor": "white",
          "plot_bgcolor": "#E5ECF6",
          "polar": {
           "angularaxis": {
            "gridcolor": "white",
            "linecolor": "white",
            "ticks": ""
           },
           "bgcolor": "#E5ECF6",
           "radialaxis": {
            "gridcolor": "white",
            "linecolor": "white",
            "ticks": ""
           }
          },
          "scene": {
           "xaxis": {
            "backgroundcolor": "#E5ECF6",
            "gridcolor": "white",
            "gridwidth": 2,
            "linecolor": "white",
            "showbackground": true,
            "ticks": "",
            "zerolinecolor": "white"
           },
           "yaxis": {
            "backgroundcolor": "#E5ECF6",
            "gridcolor": "white",
            "gridwidth": 2,
            "linecolor": "white",
            "showbackground": true,
            "ticks": "",
            "zerolinecolor": "white"
           },
           "zaxis": {
            "backgroundcolor": "#E5ECF6",
            "gridcolor": "white",
            "gridwidth": 2,
            "linecolor": "white",
            "showbackground": true,
            "ticks": "",
            "zerolinecolor": "white"
           }
          },
          "shapedefaults": {
           "line": {
            "color": "#2a3f5f"
           }
          },
          "ternary": {
           "aaxis": {
            "gridcolor": "white",
            "linecolor": "white",
            "ticks": ""
           },
           "baxis": {
            "gridcolor": "white",
            "linecolor": "white",
            "ticks": ""
           },
           "bgcolor": "#E5ECF6",
           "caxis": {
            "gridcolor": "white",
            "linecolor": "white",
            "ticks": ""
           }
          },
          "title": {
           "x": 0.05
          },
          "xaxis": {
           "automargin": true,
           "gridcolor": "white",
           "linecolor": "white",
           "ticks": "",
           "title": {
            "standoff": 15
           },
           "zerolinecolor": "white",
           "zerolinewidth": 2
          },
          "yaxis": {
           "automargin": true,
           "gridcolor": "white",
           "linecolor": "white",
           "ticks": "",
           "title": {
            "standoff": 15
           },
           "zerolinecolor": "white",
           "zerolinewidth": 2
          }
         }
        },
        "title": {
         "font": {
          "color": "#4D5663"
         }
        },
        "xaxis": {
         "gridcolor": "#E1E5ED",
         "showgrid": true,
         "tickfont": {
          "color": "#4D5663"
         },
         "title": {
          "font": {
           "color": "#4D5663"
          },
          "text": ""
         },
         "zerolinecolor": "#E1E5ED"
        },
        "yaxis": {
         "gridcolor": "#E1E5ED",
         "showgrid": true,
         "tickfont": {
          "color": "#4D5663"
         },
         "title": {
          "font": {
           "color": "#4D5663"
          },
          "text": ""
         },
         "zerolinecolor": "#E1E5ED"
        }
       }
      },
      "text/html": [
       "<div>\n",
       "        \n",
       "        \n",
       "            <div id=\"079f9c3e-bf2a-4829-9df0-27766020ad87\" class=\"plotly-graph-div\" style=\"height:525px; width:100%;\"></div>\n",
       "            <script type=\"text/javascript\">\n",
       "                require([\"plotly\"], function(Plotly) {\n",
       "                    window.PLOTLYENV=window.PLOTLYENV || {};\n",
       "                    window.PLOTLYENV.BASE_URL='https://plot.ly';\n",
       "                    \n",
       "                if (document.getElementById(\"079f9c3e-bf2a-4829-9df0-27766020ad87\")) {\n",
       "                    Plotly.newPlot(\n",
       "                        '079f9c3e-bf2a-4829-9df0-27766020ad87',\n",
       "                        [{\"marker\": {\"color\": \"rgba(255, 153, 51, 0.6)\", \"line\": {\"color\": \"rgba(255, 153, 51, 1.0)\", \"width\": 1}}, \"name\": \"cantidad\", \"orientation\": \"v\", \"text\": \"\", \"type\": \"bar\", \"x\": [\"gasto\", \"ingreso\", \"movimiento\"], \"y\": [42714.04999999986, 36505.98000000003, 43749.72999999995]}],\n",
       "                        {\"legend\": {\"bgcolor\": \"#F5F6F9\", \"font\": {\"color\": \"#4D5663\"}}, \"paper_bgcolor\": \"#F5F6F9\", \"plot_bgcolor\": \"#F5F6F9\", \"template\": {\"data\": {\"bar\": [{\"error_x\": {\"color\": \"#2a3f5f\"}, \"error_y\": {\"color\": \"#2a3f5f\"}, \"marker\": {\"line\": {\"color\": \"#E5ECF6\", \"width\": 0.5}}, \"type\": \"bar\"}], \"barpolar\": [{\"marker\": {\"line\": {\"color\": \"#E5ECF6\", \"width\": 0.5}}, \"type\": \"barpolar\"}], \"carpet\": [{\"aaxis\": {\"endlinecolor\": \"#2a3f5f\", \"gridcolor\": \"white\", \"linecolor\": \"white\", \"minorgridcolor\": \"white\", \"startlinecolor\": \"#2a3f5f\"}, \"baxis\": {\"endlinecolor\": \"#2a3f5f\", \"gridcolor\": \"white\", \"linecolor\": \"white\", \"minorgridcolor\": \"white\", \"startlinecolor\": \"#2a3f5f\"}, \"type\": \"carpet\"}], \"choropleth\": [{\"colorbar\": {\"outlinewidth\": 0, \"ticks\": \"\"}, \"type\": \"choropleth\"}], \"contour\": [{\"colorbar\": {\"outlinewidth\": 0, \"ticks\": \"\"}, \"colorscale\": [[0.0, \"#0d0887\"], [0.1111111111111111, \"#46039f\"], [0.2222222222222222, \"#7201a8\"], [0.3333333333333333, \"#9c179e\"], [0.4444444444444444, \"#bd3786\"], [0.5555555555555556, \"#d8576b\"], [0.6666666666666666, \"#ed7953\"], [0.7777777777777778, \"#fb9f3a\"], [0.8888888888888888, \"#fdca26\"], [1.0, \"#f0f921\"]], \"type\": \"contour\"}], \"contourcarpet\": [{\"colorbar\": {\"outlinewidth\": 0, \"ticks\": \"\"}, \"type\": \"contourcarpet\"}], \"heatmap\": [{\"colorbar\": {\"outlinewidth\": 0, \"ticks\": \"\"}, \"colorscale\": [[0.0, \"#0d0887\"], [0.1111111111111111, \"#46039f\"], [0.2222222222222222, \"#7201a8\"], [0.3333333333333333, \"#9c179e\"], [0.4444444444444444, \"#bd3786\"], [0.5555555555555556, \"#d8576b\"], [0.6666666666666666, \"#ed7953\"], [0.7777777777777778, \"#fb9f3a\"], [0.8888888888888888, \"#fdca26\"], [1.0, \"#f0f921\"]], \"type\": \"heatmap\"}], \"heatmapgl\": [{\"colorbar\": {\"outlinewidth\": 0, \"ticks\": \"\"}, \"colorscale\": [[0.0, \"#0d0887\"], [0.1111111111111111, \"#46039f\"], [0.2222222222222222, \"#7201a8\"], [0.3333333333333333, \"#9c179e\"], [0.4444444444444444, \"#bd3786\"], [0.5555555555555556, \"#d8576b\"], [0.6666666666666666, \"#ed7953\"], [0.7777777777777778, \"#fb9f3a\"], [0.8888888888888888, \"#fdca26\"], [1.0, \"#f0f921\"]], \"type\": \"heatmapgl\"}], \"histogram\": [{\"marker\": {\"colorbar\": {\"outlinewidth\": 0, \"ticks\": \"\"}}, \"type\": \"histogram\"}], \"histogram2d\": [{\"colorbar\": {\"outlinewidth\": 0, \"ticks\": \"\"}, \"colorscale\": [[0.0, \"#0d0887\"], [0.1111111111111111, \"#46039f\"], [0.2222222222222222, \"#7201a8\"], [0.3333333333333333, \"#9c179e\"], [0.4444444444444444, \"#bd3786\"], [0.5555555555555556, \"#d8576b\"], [0.6666666666666666, \"#ed7953\"], [0.7777777777777778, \"#fb9f3a\"], [0.8888888888888888, \"#fdca26\"], [1.0, \"#f0f921\"]], \"type\": \"histogram2d\"}], \"histogram2dcontour\": [{\"colorbar\": {\"outlinewidth\": 0, \"ticks\": \"\"}, \"colorscale\": [[0.0, \"#0d0887\"], [0.1111111111111111, \"#46039f\"], [0.2222222222222222, \"#7201a8\"], [0.3333333333333333, \"#9c179e\"], [0.4444444444444444, \"#bd3786\"], [0.5555555555555556, \"#d8576b\"], [0.6666666666666666, \"#ed7953\"], [0.7777777777777778, \"#fb9f3a\"], [0.8888888888888888, \"#fdca26\"], [1.0, \"#f0f921\"]], \"type\": \"histogram2dcontour\"}], \"mesh3d\": [{\"colorbar\": {\"outlinewidth\": 0, \"ticks\": \"\"}, \"type\": \"mesh3d\"}], \"parcoords\": [{\"line\": {\"colorbar\": {\"outlinewidth\": 0, \"ticks\": \"\"}}, \"type\": \"parcoords\"}], \"pie\": [{\"automargin\": true, \"type\": \"pie\"}], \"scatter\": [{\"marker\": {\"colorbar\": {\"outlinewidth\": 0, \"ticks\": \"\"}}, \"type\": \"scatter\"}], \"scatter3d\": [{\"line\": {\"colorbar\": {\"outlinewidth\": 0, \"ticks\": \"\"}}, \"marker\": {\"colorbar\": {\"outlinewidth\": 0, \"ticks\": \"\"}}, \"type\": \"scatter3d\"}], \"scattercarpet\": [{\"marker\": {\"colorbar\": {\"outlinewidth\": 0, \"ticks\": \"\"}}, \"type\": \"scattercarpet\"}], \"scattergeo\": [{\"marker\": {\"colorbar\": {\"outlinewidth\": 0, \"ticks\": \"\"}}, \"type\": \"scattergeo\"}], \"scattergl\": [{\"marker\": {\"colorbar\": {\"outlinewidth\": 0, \"ticks\": \"\"}}, \"type\": \"scattergl\"}], \"scattermapbox\": [{\"marker\": {\"colorbar\": {\"outlinewidth\": 0, \"ticks\": \"\"}}, \"type\": \"scattermapbox\"}], \"scatterpolar\": [{\"marker\": {\"colorbar\": {\"outlinewidth\": 0, \"ticks\": \"\"}}, \"type\": \"scatterpolar\"}], \"scatterpolargl\": [{\"marker\": {\"colorbar\": {\"outlinewidth\": 0, \"ticks\": \"\"}}, \"type\": \"scatterpolargl\"}], \"scatterternary\": [{\"marker\": {\"colorbar\": {\"outlinewidth\": 0, \"ticks\": \"\"}}, \"type\": \"scatterternary\"}], \"surface\": [{\"colorbar\": {\"outlinewidth\": 0, \"ticks\": \"\"}, \"colorscale\": [[0.0, \"#0d0887\"], [0.1111111111111111, \"#46039f\"], [0.2222222222222222, \"#7201a8\"], [0.3333333333333333, \"#9c179e\"], [0.4444444444444444, \"#bd3786\"], [0.5555555555555556, \"#d8576b\"], [0.6666666666666666, \"#ed7953\"], [0.7777777777777778, \"#fb9f3a\"], [0.8888888888888888, \"#fdca26\"], [1.0, \"#f0f921\"]], \"type\": \"surface\"}], \"table\": [{\"cells\": {\"fill\": {\"color\": \"#EBF0F8\"}, \"line\": {\"color\": \"white\"}}, \"header\": {\"fill\": {\"color\": \"#C8D4E3\"}, \"line\": {\"color\": \"white\"}}, \"type\": \"table\"}]}, \"layout\": {\"annotationdefaults\": {\"arrowcolor\": \"#2a3f5f\", \"arrowhead\": 0, \"arrowwidth\": 1}, \"coloraxis\": {\"colorbar\": {\"outlinewidth\": 0, \"ticks\": \"\"}}, \"colorscale\": {\"diverging\": [[0, \"#8e0152\"], [0.1, \"#c51b7d\"], [0.2, \"#de77ae\"], [0.3, \"#f1b6da\"], [0.4, \"#fde0ef\"], [0.5, \"#f7f7f7\"], [0.6, \"#e6f5d0\"], [0.7, \"#b8e186\"], [0.8, \"#7fbc41\"], [0.9, \"#4d9221\"], [1, \"#276419\"]], \"sequential\": [[0.0, \"#0d0887\"], [0.1111111111111111, \"#46039f\"], [0.2222222222222222, \"#7201a8\"], [0.3333333333333333, \"#9c179e\"], [0.4444444444444444, \"#bd3786\"], [0.5555555555555556, \"#d8576b\"], [0.6666666666666666, \"#ed7953\"], [0.7777777777777778, \"#fb9f3a\"], [0.8888888888888888, \"#fdca26\"], [1.0, \"#f0f921\"]], \"sequentialminus\": [[0.0, \"#0d0887\"], [0.1111111111111111, \"#46039f\"], [0.2222222222222222, \"#7201a8\"], [0.3333333333333333, \"#9c179e\"], [0.4444444444444444, \"#bd3786\"], [0.5555555555555556, \"#d8576b\"], [0.6666666666666666, \"#ed7953\"], [0.7777777777777778, \"#fb9f3a\"], [0.8888888888888888, \"#fdca26\"], [1.0, \"#f0f921\"]]}, \"colorway\": [\"#636efa\", \"#EF553B\", \"#00cc96\", \"#ab63fa\", \"#FFA15A\", \"#19d3f3\", \"#FF6692\", \"#B6E880\", \"#FF97FF\", \"#FECB52\"], \"font\": {\"color\": \"#2a3f5f\"}, \"geo\": {\"bgcolor\": \"white\", \"lakecolor\": \"white\", \"landcolor\": \"#E5ECF6\", \"showlakes\": true, \"showland\": true, \"subunitcolor\": \"white\"}, \"hoverlabel\": {\"align\": \"left\"}, \"hovermode\": \"closest\", \"mapbox\": {\"style\": \"light\"}, \"paper_bgcolor\": \"white\", \"plot_bgcolor\": \"#E5ECF6\", \"polar\": {\"angularaxis\": {\"gridcolor\": \"white\", \"linecolor\": \"white\", \"ticks\": \"\"}, \"bgcolor\": \"#E5ECF6\", \"radialaxis\": {\"gridcolor\": \"white\", \"linecolor\": \"white\", \"ticks\": \"\"}}, \"scene\": {\"xaxis\": {\"backgroundcolor\": \"#E5ECF6\", \"gridcolor\": \"white\", \"gridwidth\": 2, \"linecolor\": \"white\", \"showbackground\": true, \"ticks\": \"\", \"zerolinecolor\": \"white\"}, \"yaxis\": {\"backgroundcolor\": \"#E5ECF6\", \"gridcolor\": \"white\", \"gridwidth\": 2, \"linecolor\": \"white\", \"showbackground\": true, \"ticks\": \"\", \"zerolinecolor\": \"white\"}, \"zaxis\": {\"backgroundcolor\": \"#E5ECF6\", \"gridcolor\": \"white\", \"gridwidth\": 2, \"linecolor\": \"white\", \"showbackground\": true, \"ticks\": \"\", \"zerolinecolor\": \"white\"}}, \"shapedefaults\": {\"line\": {\"color\": \"#2a3f5f\"}}, \"ternary\": {\"aaxis\": {\"gridcolor\": \"white\", \"linecolor\": \"white\", \"ticks\": \"\"}, \"baxis\": {\"gridcolor\": \"white\", \"linecolor\": \"white\", \"ticks\": \"\"}, \"bgcolor\": \"#E5ECF6\", \"caxis\": {\"gridcolor\": \"white\", \"linecolor\": \"white\", \"ticks\": \"\"}}, \"title\": {\"x\": 0.05}, \"xaxis\": {\"automargin\": true, \"gridcolor\": \"white\", \"linecolor\": \"white\", \"ticks\": \"\", \"title\": {\"standoff\": 15}, \"zerolinecolor\": \"white\", \"zerolinewidth\": 2}, \"yaxis\": {\"automargin\": true, \"gridcolor\": \"white\", \"linecolor\": \"white\", \"ticks\": \"\", \"title\": {\"standoff\": 15}, \"zerolinecolor\": \"white\", \"zerolinewidth\": 2}}}, \"title\": {\"font\": {\"color\": \"#4D5663\"}}, \"xaxis\": {\"gridcolor\": \"#E1E5ED\", \"showgrid\": true, \"tickfont\": {\"color\": \"#4D5663\"}, \"title\": {\"font\": {\"color\": \"#4D5663\"}, \"text\": \"\"}, \"zerolinecolor\": \"#E1E5ED\"}, \"yaxis\": {\"gridcolor\": \"#E1E5ED\", \"showgrid\": true, \"tickfont\": {\"color\": \"#4D5663\"}, \"title\": {\"font\": {\"color\": \"#4D5663\"}, \"text\": \"\"}, \"zerolinecolor\": \"#E1E5ED\"}},\n",
       "                        {\"showLink\": true, \"linkText\": \"Export to plot.ly\", \"plotlyServerURL\": \"https://plot.ly\", \"responsive\": true}\n",
       "                    ).then(function(){\n",
       "                            \n",
       "var gd = document.getElementById('079f9c3e-bf2a-4829-9df0-27766020ad87');\n",
       "var x = new MutationObserver(function (mutations, observer) {{\n",
       "        var display = window.getComputedStyle(gd).display;\n",
       "        if (!display || display === 'none') {{\n",
       "            console.log([gd, 'removed!']);\n",
       "            Plotly.purge(gd);\n",
       "            observer.disconnect();\n",
       "        }}\n",
       "}});\n",
       "\n",
       "// Listen for the removal of the full notebook cells\n",
       "var notebookContainer = gd.closest('#notebook-container');\n",
       "if (notebookContainer) {{\n",
       "    x.observe(notebookContainer, {childList: true});\n",
       "}}\n",
       "\n",
       "// Listen for the clearing of the current output cell\n",
       "var outputEl = gd.closest('.output');\n",
       "if (outputEl) {{\n",
       "    x.observe(outputEl, {childList: true});\n",
       "}}\n",
       "\n",
       "                        })\n",
       "                };\n",
       "                });\n",
       "            </script>\n",
       "        </div>"
      ]
     },
     "metadata": {},
     "output_type": "display_data"
    }
   ],
   "source": [
    "df_3.iplot(kind='bar',x='tipo',y='cantidad')"
   ]
  },
  {
   "cell_type": "markdown",
   "metadata": {},
   "source": [
    "## GASTOS"
   ]
  },
  {
   "cell_type": "code",
   "execution_count": 68,
   "metadata": {},
   "outputs": [
    {
     "data": {
      "text/plain": [
       "array(['Espagne General 2020', 'Intervention 2020'], dtype=object)"
      ]
     },
     "execution_count": 68,
     "metadata": {},
     "output_type": "execute_result"
    }
   ],
   "source": [
    "expense.intervencion.unique()"
   ]
  },
  {
   "cell_type": "markdown",
   "metadata": {},
   "source": [
    "### NIKKI"
   ]
  },
  {
   "cell_type": "code",
   "execution_count": 69,
   "metadata": {},
   "outputs": [
    {
     "data": {
      "text/plain": [
       "10317.959999999997"
      ]
     },
     "execution_count": 69,
     "metadata": {},
     "output_type": "execute_result"
    }
   ],
   "source": [
    "expense[expense['intervencion']=='Intervention 2020'\n",
    "       ]['cantidad'].sum()"
   ]
  },
  {
   "cell_type": "code",
   "execution_count": 70,
   "metadata": {},
   "outputs": [
    {
     "data": {
      "text/html": [
       "<div>\n",
       "<style scoped>\n",
       "    .dataframe tbody tr th:only-of-type {\n",
       "        vertical-align: middle;\n",
       "    }\n",
       "\n",
       "    .dataframe tbody tr th {\n",
       "        vertical-align: top;\n",
       "    }\n",
       "\n",
       "    .dataframe thead th {\n",
       "        text-align: right;\n",
       "    }\n",
       "</style>\n",
       "<table border=\"1\" class=\"dataframe\">\n",
       "  <thead>\n",
       "    <tr style=\"text-align: right;\">\n",
       "      <th></th>\n",
       "      <th>categoria</th>\n",
       "      <th>cantidad</th>\n",
       "    </tr>\n",
       "  </thead>\n",
       "  <tbody>\n",
       "    <tr>\n",
       "      <th>7</th>\n",
       "      <td>Compra de materias primas</td>\n",
       "      <td>4663.38</td>\n",
       "    </tr>\n",
       "    <tr>\n",
       "      <th>32</th>\n",
       "      <td>Sueldos y Salarios</td>\n",
       "      <td>2089.25</td>\n",
       "    </tr>\n",
       "    <tr>\n",
       "      <th>8</th>\n",
       "      <td>Compras de otros aprovisionamientos</td>\n",
       "      <td>965.13</td>\n",
       "    </tr>\n",
       "    <tr>\n",
       "      <th>17</th>\n",
       "      <td>Gasolina</td>\n",
       "      <td>866.21</td>\n",
       "    </tr>\n",
       "    <tr>\n",
       "      <th>25</th>\n",
       "      <td>Otros Servicios Profesionales</td>\n",
       "      <td>425.28</td>\n",
       "    </tr>\n",
       "    <tr>\n",
       "      <th>37</th>\n",
       "      <td>Transporte de materias primas</td>\n",
       "      <td>230.19</td>\n",
       "    </tr>\n",
       "    <tr>\n",
       "      <th>13</th>\n",
       "      <td>Envasado</td>\n",
       "      <td>228.66</td>\n",
       "    </tr>\n",
       "    <tr>\n",
       "      <th>27</th>\n",
       "      <td>Reparaciones y conservación (Ej. coche)</td>\n",
       "      <td>223.32</td>\n",
       "    </tr>\n",
       "    <tr>\n",
       "      <th>19</th>\n",
       "      <td>Gastos Telefónicos</td>\n",
       "      <td>201.03</td>\n",
       "    </tr>\n",
       "    <tr>\n",
       "      <th>35</th>\n",
       "      <td>Transporte (Benin Ej. Bus)</td>\n",
       "      <td>195.22</td>\n",
       "    </tr>\n",
       "    <tr>\n",
       "      <th>15</th>\n",
       "      <td>Envases de productos</td>\n",
       "      <td>125.76</td>\n",
       "    </tr>\n",
       "    <tr>\n",
       "      <th>21</th>\n",
       "      <td>Gastos y Comisiones Financieras</td>\n",
       "      <td>37.32</td>\n",
       "    </tr>\n",
       "    <tr>\n",
       "      <th>23</th>\n",
       "      <td>Material de Oficina</td>\n",
       "      <td>29.10</td>\n",
       "    </tr>\n",
       "    <tr>\n",
       "      <th>29</th>\n",
       "      <td>Seguridad Social a Cargo de la Entidad</td>\n",
       "      <td>22.87</td>\n",
       "    </tr>\n",
       "    <tr>\n",
       "      <th>34</th>\n",
       "      <td>Transformacion materia prima</td>\n",
       "      <td>15.24</td>\n",
       "    </tr>\n",
       "  </tbody>\n",
       "</table>\n",
       "</div>"
      ],
      "text/plain": [
       "                                  categoria  cantidad\n",
       "7                 Compra de materias primas   4663.38\n",
       "32                       Sueldos y Salarios   2089.25\n",
       "8       Compras de otros aprovisionamientos    965.13\n",
       "17                                 Gasolina    866.21\n",
       "25            Otros Servicios Profesionales    425.28\n",
       "37            Transporte de materias primas    230.19\n",
       "13                                 Envasado    228.66\n",
       "27  Reparaciones y conservación (Ej. coche)    223.32\n",
       "19                       Gastos Telefónicos    201.03\n",
       "35               Transporte (Benin Ej. Bus)    195.22\n",
       "15                     Envases de productos    125.76\n",
       "21          Gastos y Comisiones Financieras     37.32\n",
       "23                      Material de Oficina     29.10\n",
       "29   Seguridad Social a Cargo de la Entidad     22.87\n",
       "34             Transformacion materia prima     15.24"
      ]
     },
     "execution_count": 70,
     "metadata": {},
     "output_type": "execute_result"
    }
   ],
   "source": [
    "expense[expense['intervencion']=='Intervention 2020'\n",
    "       ].sort_values('cantidad',ascending=False)[['categoria','cantidad']]"
   ]
  },
  {
   "cell_type": "code",
   "execution_count": 71,
   "metadata": {
    "scrolled": false
   },
   "outputs": [
    {
     "data": {
      "application/vnd.plotly.v1+json": {
       "config": {
        "linkText": "Export to plot.ly",
        "plotlyServerURL": "https://plot.ly",
        "showLink": true
       },
       "data": [
        {
         "marker": {
          "color": "rgba(255, 153, 51, 0.6)",
          "line": {
           "color": "rgba(255, 153, 51, 1.0)",
           "width": 1
          }
         },
         "name": "cantidad",
         "orientation": "v",
         "text": "",
         "type": "bar",
         "x": [
          "Compra de materias primas",
          "Sueldos y Salarios",
          "Compras de otros aprovisionamientos",
          "Gasolina",
          "Otros Servicios Profesionales",
          "Transporte de materias primas",
          "Envasado",
          "Reparaciones y conservación (Ej. coche)",
          "Gastos Telefónicos",
          "Transporte (Benin Ej. Bus)",
          "Envases de productos",
          "Gastos y Comisiones Financieras",
          "Material de Oficina",
          "Seguridad Social a Cargo de la Entidad",
          "Transformacion materia prima"
         ],
         "y": [
          4663.379999999999,
          2089.25,
          965.1300000000001,
          866.21,
          425.28000000000003,
          230.19,
          228.66,
          223.32,
          201.03,
          195.22,
          125.75999999999999,
          37.32,
          29.099999999999998,
          22.87,
          15.24
         ]
        }
       ],
       "layout": {
        "legend": {
         "bgcolor": "#F5F6F9",
         "font": {
          "color": "#4D5663"
         }
        },
        "paper_bgcolor": "#F5F6F9",
        "plot_bgcolor": "#F5F6F9",
        "template": {
         "data": {
          "bar": [
           {
            "error_x": {
             "color": "#2a3f5f"
            },
            "error_y": {
             "color": "#2a3f5f"
            },
            "marker": {
             "line": {
              "color": "#E5ECF6",
              "width": 0.5
             }
            },
            "type": "bar"
           }
          ],
          "barpolar": [
           {
            "marker": {
             "line": {
              "color": "#E5ECF6",
              "width": 0.5
             }
            },
            "type": "barpolar"
           }
          ],
          "carpet": [
           {
            "aaxis": {
             "endlinecolor": "#2a3f5f",
             "gridcolor": "white",
             "linecolor": "white",
             "minorgridcolor": "white",
             "startlinecolor": "#2a3f5f"
            },
            "baxis": {
             "endlinecolor": "#2a3f5f",
             "gridcolor": "white",
             "linecolor": "white",
             "minorgridcolor": "white",
             "startlinecolor": "#2a3f5f"
            },
            "type": "carpet"
           }
          ],
          "choropleth": [
           {
            "colorbar": {
             "outlinewidth": 0,
             "ticks": ""
            },
            "type": "choropleth"
           }
          ],
          "contour": [
           {
            "colorbar": {
             "outlinewidth": 0,
             "ticks": ""
            },
            "colorscale": [
             [
              0,
              "#0d0887"
             ],
             [
              0.1111111111111111,
              "#46039f"
             ],
             [
              0.2222222222222222,
              "#7201a8"
             ],
             [
              0.3333333333333333,
              "#9c179e"
             ],
             [
              0.4444444444444444,
              "#bd3786"
             ],
             [
              0.5555555555555556,
              "#d8576b"
             ],
             [
              0.6666666666666666,
              "#ed7953"
             ],
             [
              0.7777777777777778,
              "#fb9f3a"
             ],
             [
              0.8888888888888888,
              "#fdca26"
             ],
             [
              1,
              "#f0f921"
             ]
            ],
            "type": "contour"
           }
          ],
          "contourcarpet": [
           {
            "colorbar": {
             "outlinewidth": 0,
             "ticks": ""
            },
            "type": "contourcarpet"
           }
          ],
          "heatmap": [
           {
            "colorbar": {
             "outlinewidth": 0,
             "ticks": ""
            },
            "colorscale": [
             [
              0,
              "#0d0887"
             ],
             [
              0.1111111111111111,
              "#46039f"
             ],
             [
              0.2222222222222222,
              "#7201a8"
             ],
             [
              0.3333333333333333,
              "#9c179e"
             ],
             [
              0.4444444444444444,
              "#bd3786"
             ],
             [
              0.5555555555555556,
              "#d8576b"
             ],
             [
              0.6666666666666666,
              "#ed7953"
             ],
             [
              0.7777777777777778,
              "#fb9f3a"
             ],
             [
              0.8888888888888888,
              "#fdca26"
             ],
             [
              1,
              "#f0f921"
             ]
            ],
            "type": "heatmap"
           }
          ],
          "heatmapgl": [
           {
            "colorbar": {
             "outlinewidth": 0,
             "ticks": ""
            },
            "colorscale": [
             [
              0,
              "#0d0887"
             ],
             [
              0.1111111111111111,
              "#46039f"
             ],
             [
              0.2222222222222222,
              "#7201a8"
             ],
             [
              0.3333333333333333,
              "#9c179e"
             ],
             [
              0.4444444444444444,
              "#bd3786"
             ],
             [
              0.5555555555555556,
              "#d8576b"
             ],
             [
              0.6666666666666666,
              "#ed7953"
             ],
             [
              0.7777777777777778,
              "#fb9f3a"
             ],
             [
              0.8888888888888888,
              "#fdca26"
             ],
             [
              1,
              "#f0f921"
             ]
            ],
            "type": "heatmapgl"
           }
          ],
          "histogram": [
           {
            "marker": {
             "colorbar": {
              "outlinewidth": 0,
              "ticks": ""
             }
            },
            "type": "histogram"
           }
          ],
          "histogram2d": [
           {
            "colorbar": {
             "outlinewidth": 0,
             "ticks": ""
            },
            "colorscale": [
             [
              0,
              "#0d0887"
             ],
             [
              0.1111111111111111,
              "#46039f"
             ],
             [
              0.2222222222222222,
              "#7201a8"
             ],
             [
              0.3333333333333333,
              "#9c179e"
             ],
             [
              0.4444444444444444,
              "#bd3786"
             ],
             [
              0.5555555555555556,
              "#d8576b"
             ],
             [
              0.6666666666666666,
              "#ed7953"
             ],
             [
              0.7777777777777778,
              "#fb9f3a"
             ],
             [
              0.8888888888888888,
              "#fdca26"
             ],
             [
              1,
              "#f0f921"
             ]
            ],
            "type": "histogram2d"
           }
          ],
          "histogram2dcontour": [
           {
            "colorbar": {
             "outlinewidth": 0,
             "ticks": ""
            },
            "colorscale": [
             [
              0,
              "#0d0887"
             ],
             [
              0.1111111111111111,
              "#46039f"
             ],
             [
              0.2222222222222222,
              "#7201a8"
             ],
             [
              0.3333333333333333,
              "#9c179e"
             ],
             [
              0.4444444444444444,
              "#bd3786"
             ],
             [
              0.5555555555555556,
              "#d8576b"
             ],
             [
              0.6666666666666666,
              "#ed7953"
             ],
             [
              0.7777777777777778,
              "#fb9f3a"
             ],
             [
              0.8888888888888888,
              "#fdca26"
             ],
             [
              1,
              "#f0f921"
             ]
            ],
            "type": "histogram2dcontour"
           }
          ],
          "mesh3d": [
           {
            "colorbar": {
             "outlinewidth": 0,
             "ticks": ""
            },
            "type": "mesh3d"
           }
          ],
          "parcoords": [
           {
            "line": {
             "colorbar": {
              "outlinewidth": 0,
              "ticks": ""
             }
            },
            "type": "parcoords"
           }
          ],
          "pie": [
           {
            "automargin": true,
            "type": "pie"
           }
          ],
          "scatter": [
           {
            "marker": {
             "colorbar": {
              "outlinewidth": 0,
              "ticks": ""
             }
            },
            "type": "scatter"
           }
          ],
          "scatter3d": [
           {
            "line": {
             "colorbar": {
              "outlinewidth": 0,
              "ticks": ""
             }
            },
            "marker": {
             "colorbar": {
              "outlinewidth": 0,
              "ticks": ""
             }
            },
            "type": "scatter3d"
           }
          ],
          "scattercarpet": [
           {
            "marker": {
             "colorbar": {
              "outlinewidth": 0,
              "ticks": ""
             }
            },
            "type": "scattercarpet"
           }
          ],
          "scattergeo": [
           {
            "marker": {
             "colorbar": {
              "outlinewidth": 0,
              "ticks": ""
             }
            },
            "type": "scattergeo"
           }
          ],
          "scattergl": [
           {
            "marker": {
             "colorbar": {
              "outlinewidth": 0,
              "ticks": ""
             }
            },
            "type": "scattergl"
           }
          ],
          "scattermapbox": [
           {
            "marker": {
             "colorbar": {
              "outlinewidth": 0,
              "ticks": ""
             }
            },
            "type": "scattermapbox"
           }
          ],
          "scatterpolar": [
           {
            "marker": {
             "colorbar": {
              "outlinewidth": 0,
              "ticks": ""
             }
            },
            "type": "scatterpolar"
           }
          ],
          "scatterpolargl": [
           {
            "marker": {
             "colorbar": {
              "outlinewidth": 0,
              "ticks": ""
             }
            },
            "type": "scatterpolargl"
           }
          ],
          "scatterternary": [
           {
            "marker": {
             "colorbar": {
              "outlinewidth": 0,
              "ticks": ""
             }
            },
            "type": "scatterternary"
           }
          ],
          "surface": [
           {
            "colorbar": {
             "outlinewidth": 0,
             "ticks": ""
            },
            "colorscale": [
             [
              0,
              "#0d0887"
             ],
             [
              0.1111111111111111,
              "#46039f"
             ],
             [
              0.2222222222222222,
              "#7201a8"
             ],
             [
              0.3333333333333333,
              "#9c179e"
             ],
             [
              0.4444444444444444,
              "#bd3786"
             ],
             [
              0.5555555555555556,
              "#d8576b"
             ],
             [
              0.6666666666666666,
              "#ed7953"
             ],
             [
              0.7777777777777778,
              "#fb9f3a"
             ],
             [
              0.8888888888888888,
              "#fdca26"
             ],
             [
              1,
              "#f0f921"
             ]
            ],
            "type": "surface"
           }
          ],
          "table": [
           {
            "cells": {
             "fill": {
              "color": "#EBF0F8"
             },
             "line": {
              "color": "white"
             }
            },
            "header": {
             "fill": {
              "color": "#C8D4E3"
             },
             "line": {
              "color": "white"
             }
            },
            "type": "table"
           }
          ]
         },
         "layout": {
          "annotationdefaults": {
           "arrowcolor": "#2a3f5f",
           "arrowhead": 0,
           "arrowwidth": 1
          },
          "coloraxis": {
           "colorbar": {
            "outlinewidth": 0,
            "ticks": ""
           }
          },
          "colorscale": {
           "diverging": [
            [
             0,
             "#8e0152"
            ],
            [
             0.1,
             "#c51b7d"
            ],
            [
             0.2,
             "#de77ae"
            ],
            [
             0.3,
             "#f1b6da"
            ],
            [
             0.4,
             "#fde0ef"
            ],
            [
             0.5,
             "#f7f7f7"
            ],
            [
             0.6,
             "#e6f5d0"
            ],
            [
             0.7,
             "#b8e186"
            ],
            [
             0.8,
             "#7fbc41"
            ],
            [
             0.9,
             "#4d9221"
            ],
            [
             1,
             "#276419"
            ]
           ],
           "sequential": [
            [
             0,
             "#0d0887"
            ],
            [
             0.1111111111111111,
             "#46039f"
            ],
            [
             0.2222222222222222,
             "#7201a8"
            ],
            [
             0.3333333333333333,
             "#9c179e"
            ],
            [
             0.4444444444444444,
             "#bd3786"
            ],
            [
             0.5555555555555556,
             "#d8576b"
            ],
            [
             0.6666666666666666,
             "#ed7953"
            ],
            [
             0.7777777777777778,
             "#fb9f3a"
            ],
            [
             0.8888888888888888,
             "#fdca26"
            ],
            [
             1,
             "#f0f921"
            ]
           ],
           "sequentialminus": [
            [
             0,
             "#0d0887"
            ],
            [
             0.1111111111111111,
             "#46039f"
            ],
            [
             0.2222222222222222,
             "#7201a8"
            ],
            [
             0.3333333333333333,
             "#9c179e"
            ],
            [
             0.4444444444444444,
             "#bd3786"
            ],
            [
             0.5555555555555556,
             "#d8576b"
            ],
            [
             0.6666666666666666,
             "#ed7953"
            ],
            [
             0.7777777777777778,
             "#fb9f3a"
            ],
            [
             0.8888888888888888,
             "#fdca26"
            ],
            [
             1,
             "#f0f921"
            ]
           ]
          },
          "colorway": [
           "#636efa",
           "#EF553B",
           "#00cc96",
           "#ab63fa",
           "#FFA15A",
           "#19d3f3",
           "#FF6692",
           "#B6E880",
           "#FF97FF",
           "#FECB52"
          ],
          "font": {
           "color": "#2a3f5f"
          },
          "geo": {
           "bgcolor": "white",
           "lakecolor": "white",
           "landcolor": "#E5ECF6",
           "showlakes": true,
           "showland": true,
           "subunitcolor": "white"
          },
          "hoverlabel": {
           "align": "left"
          },
          "hovermode": "closest",
          "mapbox": {
           "style": "light"
          },
          "paper_bgcolor": "white",
          "plot_bgcolor": "#E5ECF6",
          "polar": {
           "angularaxis": {
            "gridcolor": "white",
            "linecolor": "white",
            "ticks": ""
           },
           "bgcolor": "#E5ECF6",
           "radialaxis": {
            "gridcolor": "white",
            "linecolor": "white",
            "ticks": ""
           }
          },
          "scene": {
           "xaxis": {
            "backgroundcolor": "#E5ECF6",
            "gridcolor": "white",
            "gridwidth": 2,
            "linecolor": "white",
            "showbackground": true,
            "ticks": "",
            "zerolinecolor": "white"
           },
           "yaxis": {
            "backgroundcolor": "#E5ECF6",
            "gridcolor": "white",
            "gridwidth": 2,
            "linecolor": "white",
            "showbackground": true,
            "ticks": "",
            "zerolinecolor": "white"
           },
           "zaxis": {
            "backgroundcolor": "#E5ECF6",
            "gridcolor": "white",
            "gridwidth": 2,
            "linecolor": "white",
            "showbackground": true,
            "ticks": "",
            "zerolinecolor": "white"
           }
          },
          "shapedefaults": {
           "line": {
            "color": "#2a3f5f"
           }
          },
          "ternary": {
           "aaxis": {
            "gridcolor": "white",
            "linecolor": "white",
            "ticks": ""
           },
           "baxis": {
            "gridcolor": "white",
            "linecolor": "white",
            "ticks": ""
           },
           "bgcolor": "#E5ECF6",
           "caxis": {
            "gridcolor": "white",
            "linecolor": "white",
            "ticks": ""
           }
          },
          "title": {
           "x": 0.05
          },
          "xaxis": {
           "automargin": true,
           "gridcolor": "white",
           "linecolor": "white",
           "ticks": "",
           "title": {
            "standoff": 15
           },
           "zerolinecolor": "white",
           "zerolinewidth": 2
          },
          "yaxis": {
           "automargin": true,
           "gridcolor": "white",
           "linecolor": "white",
           "ticks": "",
           "title": {
            "standoff": 15
           },
           "zerolinecolor": "white",
           "zerolinewidth": 2
          }
         }
        },
        "title": {
         "font": {
          "color": "#4D5663"
         },
         "text": "GASTOS NIKKI - 3853.75 €"
        },
        "xaxis": {
         "gridcolor": "#E1E5ED",
         "showgrid": true,
         "tickfont": {
          "color": "#4D5663"
         },
         "title": {
          "font": {
           "color": "#4D5663"
          },
          "text": ""
         },
         "zerolinecolor": "#E1E5ED"
        },
        "yaxis": {
         "gridcolor": "#E1E5ED",
         "showgrid": true,
         "tickfont": {
          "color": "#4D5663"
         },
         "title": {
          "font": {
           "color": "#4D5663"
          },
          "text": ""
         },
         "zerolinecolor": "#E1E5ED"
        }
       }
      },
      "text/html": [
       "<div>\n",
       "        \n",
       "        \n",
       "            <div id=\"9bdb911a-998b-4f0a-a0c1-574fd2667770\" class=\"plotly-graph-div\" style=\"height:525px; width:100%;\"></div>\n",
       "            <script type=\"text/javascript\">\n",
       "                require([\"plotly\"], function(Plotly) {\n",
       "                    window.PLOTLYENV=window.PLOTLYENV || {};\n",
       "                    window.PLOTLYENV.BASE_URL='https://plot.ly';\n",
       "                    \n",
       "                if (document.getElementById(\"9bdb911a-998b-4f0a-a0c1-574fd2667770\")) {\n",
       "                    Plotly.newPlot(\n",
       "                        '9bdb911a-998b-4f0a-a0c1-574fd2667770',\n",
       "                        [{\"marker\": {\"color\": \"rgba(255, 153, 51, 0.6)\", \"line\": {\"color\": \"rgba(255, 153, 51, 1.0)\", \"width\": 1}}, \"name\": \"cantidad\", \"orientation\": \"v\", \"text\": \"\", \"type\": \"bar\", \"x\": [\"Compra de materias primas\", \"Sueldos y Salarios\", \"Compras de otros aprovisionamientos\", \"Gasolina\", \"Otros Servicios Profesionales\", \"Transporte de materias primas\", \"Envasado\", \"Reparaciones y conservaci\\u00f3n (Ej. coche)\", \"Gastos Telef\\u00f3nicos\", \"Transporte (Benin Ej. Bus)\", \"Envases de productos\", \"Gastos y Comisiones Financieras\", \"Material de Oficina\", \"Seguridad Social a Cargo de la Entidad\", \"Transformacion materia prima\"], \"y\": [4663.379999999999, 2089.25, 965.1300000000001, 866.21, 425.28000000000003, 230.19, 228.66, 223.32, 201.03, 195.22, 125.75999999999999, 37.32, 29.099999999999998, 22.87, 15.24]}],\n",
       "                        {\"legend\": {\"bgcolor\": \"#F5F6F9\", \"font\": {\"color\": \"#4D5663\"}}, \"paper_bgcolor\": \"#F5F6F9\", \"plot_bgcolor\": \"#F5F6F9\", \"template\": {\"data\": {\"bar\": [{\"error_x\": {\"color\": \"#2a3f5f\"}, \"error_y\": {\"color\": \"#2a3f5f\"}, \"marker\": {\"line\": {\"color\": \"#E5ECF6\", \"width\": 0.5}}, \"type\": \"bar\"}], \"barpolar\": [{\"marker\": {\"line\": {\"color\": \"#E5ECF6\", \"width\": 0.5}}, \"type\": \"barpolar\"}], \"carpet\": [{\"aaxis\": {\"endlinecolor\": \"#2a3f5f\", \"gridcolor\": \"white\", \"linecolor\": \"white\", \"minorgridcolor\": \"white\", \"startlinecolor\": \"#2a3f5f\"}, \"baxis\": {\"endlinecolor\": \"#2a3f5f\", \"gridcolor\": \"white\", \"linecolor\": \"white\", \"minorgridcolor\": \"white\", \"startlinecolor\": \"#2a3f5f\"}, \"type\": \"carpet\"}], \"choropleth\": [{\"colorbar\": {\"outlinewidth\": 0, \"ticks\": \"\"}, \"type\": \"choropleth\"}], \"contour\": [{\"colorbar\": {\"outlinewidth\": 0, \"ticks\": \"\"}, \"colorscale\": [[0.0, \"#0d0887\"], [0.1111111111111111, \"#46039f\"], [0.2222222222222222, \"#7201a8\"], [0.3333333333333333, \"#9c179e\"], [0.4444444444444444, \"#bd3786\"], [0.5555555555555556, \"#d8576b\"], [0.6666666666666666, \"#ed7953\"], [0.7777777777777778, \"#fb9f3a\"], [0.8888888888888888, \"#fdca26\"], [1.0, \"#f0f921\"]], \"type\": \"contour\"}], \"contourcarpet\": [{\"colorbar\": {\"outlinewidth\": 0, \"ticks\": \"\"}, \"type\": \"contourcarpet\"}], \"heatmap\": [{\"colorbar\": {\"outlinewidth\": 0, \"ticks\": \"\"}, \"colorscale\": [[0.0, \"#0d0887\"], [0.1111111111111111, \"#46039f\"], [0.2222222222222222, \"#7201a8\"], [0.3333333333333333, \"#9c179e\"], [0.4444444444444444, \"#bd3786\"], [0.5555555555555556, \"#d8576b\"], [0.6666666666666666, \"#ed7953\"], [0.7777777777777778, \"#fb9f3a\"], [0.8888888888888888, \"#fdca26\"], [1.0, \"#f0f921\"]], \"type\": \"heatmap\"}], \"heatmapgl\": [{\"colorbar\": {\"outlinewidth\": 0, \"ticks\": \"\"}, \"colorscale\": [[0.0, \"#0d0887\"], [0.1111111111111111, \"#46039f\"], [0.2222222222222222, \"#7201a8\"], [0.3333333333333333, \"#9c179e\"], [0.4444444444444444, \"#bd3786\"], [0.5555555555555556, \"#d8576b\"], [0.6666666666666666, \"#ed7953\"], [0.7777777777777778, \"#fb9f3a\"], [0.8888888888888888, \"#fdca26\"], [1.0, \"#f0f921\"]], \"type\": \"heatmapgl\"}], \"histogram\": [{\"marker\": {\"colorbar\": {\"outlinewidth\": 0, \"ticks\": \"\"}}, \"type\": \"histogram\"}], \"histogram2d\": [{\"colorbar\": {\"outlinewidth\": 0, \"ticks\": \"\"}, \"colorscale\": [[0.0, \"#0d0887\"], [0.1111111111111111, \"#46039f\"], [0.2222222222222222, \"#7201a8\"], [0.3333333333333333, \"#9c179e\"], [0.4444444444444444, \"#bd3786\"], [0.5555555555555556, \"#d8576b\"], [0.6666666666666666, \"#ed7953\"], [0.7777777777777778, \"#fb9f3a\"], [0.8888888888888888, \"#fdca26\"], [1.0, \"#f0f921\"]], \"type\": \"histogram2d\"}], \"histogram2dcontour\": [{\"colorbar\": {\"outlinewidth\": 0, \"ticks\": \"\"}, \"colorscale\": [[0.0, \"#0d0887\"], [0.1111111111111111, \"#46039f\"], [0.2222222222222222, \"#7201a8\"], [0.3333333333333333, \"#9c179e\"], [0.4444444444444444, \"#bd3786\"], [0.5555555555555556, \"#d8576b\"], [0.6666666666666666, \"#ed7953\"], [0.7777777777777778, \"#fb9f3a\"], [0.8888888888888888, \"#fdca26\"], [1.0, \"#f0f921\"]], \"type\": \"histogram2dcontour\"}], \"mesh3d\": [{\"colorbar\": {\"outlinewidth\": 0, \"ticks\": \"\"}, \"type\": \"mesh3d\"}], \"parcoords\": [{\"line\": {\"colorbar\": {\"outlinewidth\": 0, \"ticks\": \"\"}}, \"type\": \"parcoords\"}], \"pie\": [{\"automargin\": true, \"type\": \"pie\"}], \"scatter\": [{\"marker\": {\"colorbar\": {\"outlinewidth\": 0, \"ticks\": \"\"}}, \"type\": \"scatter\"}], \"scatter3d\": [{\"line\": {\"colorbar\": {\"outlinewidth\": 0, \"ticks\": \"\"}}, \"marker\": {\"colorbar\": {\"outlinewidth\": 0, \"ticks\": \"\"}}, \"type\": \"scatter3d\"}], \"scattercarpet\": [{\"marker\": {\"colorbar\": {\"outlinewidth\": 0, \"ticks\": \"\"}}, \"type\": \"scattercarpet\"}], \"scattergeo\": [{\"marker\": {\"colorbar\": {\"outlinewidth\": 0, \"ticks\": \"\"}}, \"type\": \"scattergeo\"}], \"scattergl\": [{\"marker\": {\"colorbar\": {\"outlinewidth\": 0, \"ticks\": \"\"}}, \"type\": \"scattergl\"}], \"scattermapbox\": [{\"marker\": {\"colorbar\": {\"outlinewidth\": 0, \"ticks\": \"\"}}, \"type\": \"scattermapbox\"}], \"scatterpolar\": [{\"marker\": {\"colorbar\": {\"outlinewidth\": 0, \"ticks\": \"\"}}, \"type\": \"scatterpolar\"}], \"scatterpolargl\": [{\"marker\": {\"colorbar\": {\"outlinewidth\": 0, \"ticks\": \"\"}}, \"type\": \"scatterpolargl\"}], \"scatterternary\": [{\"marker\": {\"colorbar\": {\"outlinewidth\": 0, \"ticks\": \"\"}}, \"type\": \"scatterternary\"}], \"surface\": [{\"colorbar\": {\"outlinewidth\": 0, \"ticks\": \"\"}, \"colorscale\": [[0.0, \"#0d0887\"], [0.1111111111111111, \"#46039f\"], [0.2222222222222222, \"#7201a8\"], [0.3333333333333333, \"#9c179e\"], [0.4444444444444444, \"#bd3786\"], [0.5555555555555556, \"#d8576b\"], [0.6666666666666666, \"#ed7953\"], [0.7777777777777778, \"#fb9f3a\"], [0.8888888888888888, \"#fdca26\"], [1.0, \"#f0f921\"]], \"type\": \"surface\"}], \"table\": [{\"cells\": {\"fill\": {\"color\": \"#EBF0F8\"}, \"line\": {\"color\": \"white\"}}, \"header\": {\"fill\": {\"color\": \"#C8D4E3\"}, \"line\": {\"color\": \"white\"}}, \"type\": \"table\"}]}, \"layout\": {\"annotationdefaults\": {\"arrowcolor\": \"#2a3f5f\", \"arrowhead\": 0, \"arrowwidth\": 1}, \"coloraxis\": {\"colorbar\": {\"outlinewidth\": 0, \"ticks\": \"\"}}, \"colorscale\": {\"diverging\": [[0, \"#8e0152\"], [0.1, \"#c51b7d\"], [0.2, \"#de77ae\"], [0.3, \"#f1b6da\"], [0.4, \"#fde0ef\"], [0.5, \"#f7f7f7\"], [0.6, \"#e6f5d0\"], [0.7, \"#b8e186\"], [0.8, \"#7fbc41\"], [0.9, \"#4d9221\"], [1, \"#276419\"]], \"sequential\": [[0.0, \"#0d0887\"], [0.1111111111111111, \"#46039f\"], [0.2222222222222222, \"#7201a8\"], [0.3333333333333333, \"#9c179e\"], [0.4444444444444444, \"#bd3786\"], [0.5555555555555556, \"#d8576b\"], [0.6666666666666666, \"#ed7953\"], [0.7777777777777778, \"#fb9f3a\"], [0.8888888888888888, \"#fdca26\"], [1.0, \"#f0f921\"]], \"sequentialminus\": [[0.0, \"#0d0887\"], [0.1111111111111111, \"#46039f\"], [0.2222222222222222, \"#7201a8\"], [0.3333333333333333, \"#9c179e\"], [0.4444444444444444, \"#bd3786\"], [0.5555555555555556, \"#d8576b\"], [0.6666666666666666, \"#ed7953\"], [0.7777777777777778, \"#fb9f3a\"], [0.8888888888888888, \"#fdca26\"], [1.0, \"#f0f921\"]]}, \"colorway\": [\"#636efa\", \"#EF553B\", \"#00cc96\", \"#ab63fa\", \"#FFA15A\", \"#19d3f3\", \"#FF6692\", \"#B6E880\", \"#FF97FF\", \"#FECB52\"], \"font\": {\"color\": \"#2a3f5f\"}, \"geo\": {\"bgcolor\": \"white\", \"lakecolor\": \"white\", \"landcolor\": \"#E5ECF6\", \"showlakes\": true, \"showland\": true, \"subunitcolor\": \"white\"}, \"hoverlabel\": {\"align\": \"left\"}, \"hovermode\": \"closest\", \"mapbox\": {\"style\": \"light\"}, \"paper_bgcolor\": \"white\", \"plot_bgcolor\": \"#E5ECF6\", \"polar\": {\"angularaxis\": {\"gridcolor\": \"white\", \"linecolor\": \"white\", \"ticks\": \"\"}, \"bgcolor\": \"#E5ECF6\", \"radialaxis\": {\"gridcolor\": \"white\", \"linecolor\": \"white\", \"ticks\": \"\"}}, \"scene\": {\"xaxis\": {\"backgroundcolor\": \"#E5ECF6\", \"gridcolor\": \"white\", \"gridwidth\": 2, \"linecolor\": \"white\", \"showbackground\": true, \"ticks\": \"\", \"zerolinecolor\": \"white\"}, \"yaxis\": {\"backgroundcolor\": \"#E5ECF6\", \"gridcolor\": \"white\", \"gridwidth\": 2, \"linecolor\": \"white\", \"showbackground\": true, \"ticks\": \"\", \"zerolinecolor\": \"white\"}, \"zaxis\": {\"backgroundcolor\": \"#E5ECF6\", \"gridcolor\": \"white\", \"gridwidth\": 2, \"linecolor\": \"white\", \"showbackground\": true, \"ticks\": \"\", \"zerolinecolor\": \"white\"}}, \"shapedefaults\": {\"line\": {\"color\": \"#2a3f5f\"}}, \"ternary\": {\"aaxis\": {\"gridcolor\": \"white\", \"linecolor\": \"white\", \"ticks\": \"\"}, \"baxis\": {\"gridcolor\": \"white\", \"linecolor\": \"white\", \"ticks\": \"\"}, \"bgcolor\": \"#E5ECF6\", \"caxis\": {\"gridcolor\": \"white\", \"linecolor\": \"white\", \"ticks\": \"\"}}, \"title\": {\"x\": 0.05}, \"xaxis\": {\"automargin\": true, \"gridcolor\": \"white\", \"linecolor\": \"white\", \"ticks\": \"\", \"title\": {\"standoff\": 15}, \"zerolinecolor\": \"white\", \"zerolinewidth\": 2}, \"yaxis\": {\"automargin\": true, \"gridcolor\": \"white\", \"linecolor\": \"white\", \"ticks\": \"\", \"title\": {\"standoff\": 15}, \"zerolinecolor\": \"white\", \"zerolinewidth\": 2}}}, \"title\": {\"font\": {\"color\": \"#4D5663\"}, \"text\": \"GASTOS NIKKI - 3853.75 \\u20ac\"}, \"xaxis\": {\"gridcolor\": \"#E1E5ED\", \"showgrid\": true, \"tickfont\": {\"color\": \"#4D5663\"}, \"title\": {\"font\": {\"color\": \"#4D5663\"}, \"text\": \"\"}, \"zerolinecolor\": \"#E1E5ED\"}, \"yaxis\": {\"gridcolor\": \"#E1E5ED\", \"showgrid\": true, \"tickfont\": {\"color\": \"#4D5663\"}, \"title\": {\"font\": {\"color\": \"#4D5663\"}, \"text\": \"\"}, \"zerolinecolor\": \"#E1E5ED\"}},\n",
       "                        {\"showLink\": true, \"linkText\": \"Export to plot.ly\", \"plotlyServerURL\": \"https://plot.ly\", \"responsive\": true}\n",
       "                    ).then(function(){\n",
       "                            \n",
       "var gd = document.getElementById('9bdb911a-998b-4f0a-a0c1-574fd2667770');\n",
       "var x = new MutationObserver(function (mutations, observer) {{\n",
       "        var display = window.getComputedStyle(gd).display;\n",
       "        if (!display || display === 'none') {{\n",
       "            console.log([gd, 'removed!']);\n",
       "            Plotly.purge(gd);\n",
       "            observer.disconnect();\n",
       "        }}\n",
       "}});\n",
       "\n",
       "// Listen for the removal of the full notebook cells\n",
       "var notebookContainer = gd.closest('#notebook-container');\n",
       "if (notebookContainer) {{\n",
       "    x.observe(notebookContainer, {childList: true});\n",
       "}}\n",
       "\n",
       "// Listen for the clearing of the current output cell\n",
       "var outputEl = gd.closest('.output');\n",
       "if (outputEl) {{\n",
       "    x.observe(outputEl, {childList: true});\n",
       "}}\n",
       "\n",
       "                        })\n",
       "                };\n",
       "                });\n",
       "            </script>\n",
       "        </div>"
      ]
     },
     "metadata": {},
     "output_type": "display_data"
    }
   ],
   "source": [
    "expense[expense['intervencion']=='Intervention 2020'\n",
    "       ].sort_values('cantidad',ascending=False\n",
    "                    ).iplot(kind='bar',x='categoria',\n",
    "                            y='cantidad',title='GASTOS NIKKI - 3853.75 €')"
   ]
  },
  {
   "cell_type": "code",
   "execution_count": 94,
   "metadata": {},
   "outputs": [
    {
     "data": {
      "text/html": [
       "<div>\n",
       "<style scoped>\n",
       "    .dataframe tbody tr th:only-of-type {\n",
       "        vertical-align: middle;\n",
       "    }\n",
       "\n",
       "    .dataframe tbody tr th {\n",
       "        vertical-align: top;\n",
       "    }\n",
       "\n",
       "    .dataframe thead th {\n",
       "        text-align: right;\n",
       "    }\n",
       "</style>\n",
       "<table border=\"1\" class=\"dataframe\">\n",
       "  <thead>\n",
       "    <tr style=\"text-align: right;\">\n",
       "      <th></th>\n",
       "      <th>concepto</th>\n",
       "      <th>cantidad</th>\n",
       "      <th>descripcion</th>\n",
       "      <th>creacion</th>\n",
       "    </tr>\n",
       "  </thead>\n",
       "  <tbody>\n",
       "    <tr>\n",
       "      <th>578</th>\n",
       "      <td>Salaire / Personnelle</td>\n",
       "      <td>22.83</td>\n",
       "      <td>Salaire de Younous, Mireille et Lamatou pour l...</td>\n",
       "      <td>2020-02-27 10:24:26+00:00</td>\n",
       "    </tr>\n",
       "    <tr>\n",
       "      <th>579</th>\n",
       "      <td>Salaire / Personnelle</td>\n",
       "      <td>175.05</td>\n",
       "      <td>Salarios acumulados de Younous, Lamatou y Mire...</td>\n",
       "      <td>2020-03-11 12:36:58+00:00</td>\n",
       "    </tr>\n",
       "    <tr>\n",
       "      <th>580</th>\n",
       "      <td>Salaire / Personnelle</td>\n",
       "      <td>60.89</td>\n",
       "      <td>Salaires del mes de febrero 2020 de Younous y ...</td>\n",
       "      <td>2020-03-11 13:04:54+00:00</td>\n",
       "    </tr>\n",
       "    <tr>\n",
       "      <th>575</th>\n",
       "      <td>Salaire / Personnelle</td>\n",
       "      <td>45.66</td>\n",
       "      <td>2 visites aux villages nouveaux avec Lamatou, ...</td>\n",
       "      <td>2020-03-17 23:19:42+00:00</td>\n",
       "    </tr>\n",
       "    <tr>\n",
       "      <th>577</th>\n",
       "      <td>Salaire / Personnelle</td>\n",
       "      <td>91.33</td>\n",
       "      <td>Salaire pour voyage dans les villages</td>\n",
       "      <td>2020-04-02 12:17:30+00:00</td>\n",
       "    </tr>\n",
       "    <tr>\n",
       "      <th>576</th>\n",
       "      <td>Salaire / Personnelle</td>\n",
       "      <td>91.33</td>\n",
       "      <td>Salaire mensuel</td>\n",
       "      <td>2020-05-03 16:15:07+00:00</td>\n",
       "    </tr>\n",
       "    <tr>\n",
       "      <th>574</th>\n",
       "      <td>Salaire / Personnelle</td>\n",
       "      <td>53.35</td>\n",
       "      <td>Salaire younouss et lamatou</td>\n",
       "      <td>2020-05-03 16:20:03+00:00</td>\n",
       "    </tr>\n",
       "    <tr>\n",
       "      <th>553</th>\n",
       "      <td>entretien younouss</td>\n",
       "      <td>22.87</td>\n",
       "      <td>entretien de younouss pour voyager dans les vi...</td>\n",
       "      <td>2020-06-19 06:54:26.105000+00:00</td>\n",
       "    </tr>\n",
       "    <tr>\n",
       "      <th>495</th>\n",
       "      <td>salaire younouss</td>\n",
       "      <td>60.98</td>\n",
       "      <td>entretien de younouss du voyage sur parakou po...</td>\n",
       "      <td>2020-06-19 07:36:31.176000+00:00</td>\n",
       "    </tr>\n",
       "    <tr>\n",
       "      <th>552</th>\n",
       "      <td>salaire mireille</td>\n",
       "      <td>121.95</td>\n",
       "      <td>salaire du mois de Mai</td>\n",
       "      <td>2020-06-19 07:52:09.020000+00:00</td>\n",
       "    </tr>\n",
       "    <tr>\n",
       "      <th>500</th>\n",
       "      <td>entretien younouss</td>\n",
       "      <td>15.24</td>\n",
       "      <td>salaire de younouss pour le voyage sur parakou...</td>\n",
       "      <td>2020-06-27 08:12:33.201000+00:00</td>\n",
       "    </tr>\n",
       "    <tr>\n",
       "      <th>499</th>\n",
       "      <td>entretien younouss</td>\n",
       "      <td>7.62</td>\n",
       "      <td>salaire de younouss pour le voyage dans les vi...</td>\n",
       "      <td>2020-06-27 08:16:21.208000+00:00</td>\n",
       "    </tr>\n",
       "    <tr>\n",
       "      <th>501</th>\n",
       "      <td>entretien younouss</td>\n",
       "      <td>7.62</td>\n",
       "      <td>salaire de younouss pour boudhal et monnon</td>\n",
       "      <td>2020-06-27 08:18:59.484000+00:00</td>\n",
       "    </tr>\n",
       "    <tr>\n",
       "      <th>498</th>\n",
       "      <td>entretien younouss</td>\n",
       "      <td>7.62</td>\n",
       "      <td>voyage avec ousmane sur sansi et bessangourou ...</td>\n",
       "      <td>2020-06-27 08:21:25.805000+00:00</td>\n",
       "    </tr>\n",
       "    <tr>\n",
       "      <th>492</th>\n",
       "      <td>salaire mireille</td>\n",
       "      <td>182.93</td>\n",
       "      <td>salaire du mois de juin</td>\n",
       "      <td>2020-08-10 11:37:02.647000+00:00</td>\n",
       "    </tr>\n",
       "    <tr>\n",
       "      <th>496</th>\n",
       "      <td>salaire younouss</td>\n",
       "      <td>60.98</td>\n",
       "      <td>salaire de Younouss pour différents voyages</td>\n",
       "      <td>2020-08-10 11:55:46.863000+00:00</td>\n",
       "    </tr>\n",
       "    <tr>\n",
       "      <th>494</th>\n",
       "      <td>salaire younouss</td>\n",
       "      <td>68.60</td>\n",
       "      <td>salaire de younouss pour différents voyages</td>\n",
       "      <td>2020-08-10 12:00:46.503000+00:00</td>\n",
       "    </tr>\n",
       "    <tr>\n",
       "      <th>493</th>\n",
       "      <td>salaire mireille</td>\n",
       "      <td>182.93</td>\n",
       "      <td>salaire du mois de juillet</td>\n",
       "      <td>2020-08-16 17:04:42.163000+00:00</td>\n",
       "    </tr>\n",
       "    <tr>\n",
       "      <th>497</th>\n",
       "      <td>entretien Younouss</td>\n",
       "      <td>22.87</td>\n",
       "      <td>entretien de younouss pour trois sorties 05, 0...</td>\n",
       "      <td>2020-08-17 10:28:44.043000+00:00</td>\n",
       "    </tr>\n",
       "    <tr>\n",
       "      <th>490</th>\n",
       "      <td>salaire lamatou</td>\n",
       "      <td>7.62</td>\n",
       "      <td>entretien lamatou pour la sortie sur boudhal</td>\n",
       "      <td>2020-08-18 10:40:41.521000+00:00</td>\n",
       "    </tr>\n",
       "    <tr>\n",
       "      <th>527</th>\n",
       "      <td>salalaire lamatou</td>\n",
       "      <td>45.73</td>\n",
       "      <td>salaire de lamatou pour différents voyages dan...</td>\n",
       "      <td>2020-11-17 16:03:33.980000+00:00</td>\n",
       "    </tr>\n",
       "    <tr>\n",
       "      <th>524</th>\n",
       "      <td>salaire younouss</td>\n",
       "      <td>114.33</td>\n",
       "      <td>salaire de younouss pour différents voyages</td>\n",
       "      <td>2020-11-17 16:08:18.936000+00:00</td>\n",
       "    </tr>\n",
       "    <tr>\n",
       "      <th>522</th>\n",
       "      <td>salaire mireille</td>\n",
       "      <td>106.71</td>\n",
       "      <td>salaire du mois daout</td>\n",
       "      <td>2020-11-17 16:33:08.270000+00:00</td>\n",
       "    </tr>\n",
       "    <tr>\n",
       "      <th>520</th>\n",
       "      <td>salaire Mireille</td>\n",
       "      <td>106.71</td>\n",
       "      <td>salaire mois de Septembre</td>\n",
       "      <td>2020-11-17 16:41:30.264000+00:00</td>\n",
       "    </tr>\n",
       "    <tr>\n",
       "      <th>523</th>\n",
       "      <td>salaire younouss</td>\n",
       "      <td>114.33</td>\n",
       "      <td>salaire de younouss pour voyage dans les villa...</td>\n",
       "      <td>2020-11-17 18:01:26.977000+00:00</td>\n",
       "    </tr>\n",
       "    <tr>\n",
       "      <th>518</th>\n",
       "      <td>salaire lamatou</td>\n",
       "      <td>60.98</td>\n",
       "      <td>salaire de lamatou pour ses différents voyages...</td>\n",
       "      <td>2020-11-18 07:03:48.447000+00:00</td>\n",
       "    </tr>\n",
       "    <tr>\n",
       "      <th>521</th>\n",
       "      <td>salaire Younouss</td>\n",
       "      <td>76.22</td>\n",
       "      <td>salaire de younouss pour le mois de Novembre</td>\n",
       "      <td>2020-11-18 07:25:50.455000+00:00</td>\n",
       "    </tr>\n",
       "    <tr>\n",
       "      <th>517</th>\n",
       "      <td>salaire kogui</td>\n",
       "      <td>12.20</td>\n",
       "      <td>remise 8000f à kogui pour avoir écrasé les noi...</td>\n",
       "      <td>2020-11-18 08:03:37.738000+00:00</td>\n",
       "    </tr>\n",
       "    <tr>\n",
       "      <th>530</th>\n",
       "      <td>payement mécanicien</td>\n",
       "      <td>19.82</td>\n",
       "      <td>on est allé chercher un mécanicien dans un vil...</td>\n",
       "      <td>2020-11-18 08:07:27.186000+00:00</td>\n",
       "    </tr>\n",
       "    <tr>\n",
       "      <th>526</th>\n",
       "      <td>salaire mireille</td>\n",
       "      <td>121.95</td>\n",
       "      <td>salaire du mois de octobre</td>\n",
       "      <td>2020-11-18 08:12:32.757000+00:00</td>\n",
       "    </tr>\n",
       "  </tbody>\n",
       "</table>\n",
       "</div>"
      ],
      "text/plain": [
       "                  concepto  cantidad  \\\n",
       "578  Salaire / Personnelle     22.83   \n",
       "579  Salaire / Personnelle    175.05   \n",
       "580  Salaire / Personnelle     60.89   \n",
       "575  Salaire / Personnelle     45.66   \n",
       "577  Salaire / Personnelle     91.33   \n",
       "576  Salaire / Personnelle     91.33   \n",
       "574  Salaire / Personnelle     53.35   \n",
       "553     entretien younouss     22.87   \n",
       "495       salaire younouss     60.98   \n",
       "552       salaire mireille    121.95   \n",
       "500     entretien younouss     15.24   \n",
       "499     entretien younouss      7.62   \n",
       "501     entretien younouss      7.62   \n",
       "498     entretien younouss      7.62   \n",
       "492       salaire mireille    182.93   \n",
       "496       salaire younouss     60.98   \n",
       "494       salaire younouss     68.60   \n",
       "493       salaire mireille    182.93   \n",
       "497     entretien Younouss     22.87   \n",
       "490        salaire lamatou      7.62   \n",
       "527      salalaire lamatou     45.73   \n",
       "524       salaire younouss    114.33   \n",
       "522       salaire mireille    106.71   \n",
       "520       salaire Mireille    106.71   \n",
       "523       salaire younouss    114.33   \n",
       "518        salaire lamatou     60.98   \n",
       "521       salaire Younouss     76.22   \n",
       "517          salaire kogui     12.20   \n",
       "530    payement mécanicien     19.82   \n",
       "526      salaire mireille     121.95   \n",
       "\n",
       "                                           descripcion  \\\n",
       "578  Salaire de Younous, Mireille et Lamatou pour l...   \n",
       "579  Salarios acumulados de Younous, Lamatou y Mire...   \n",
       "580  Salaires del mes de febrero 2020 de Younous y ...   \n",
       "575  2 visites aux villages nouveaux avec Lamatou, ...   \n",
       "577              Salaire pour voyage dans les villages   \n",
       "576                                    Salaire mensuel   \n",
       "574                        Salaire younouss et lamatou   \n",
       "553  entretien de younouss pour voyager dans les vi...   \n",
       "495  entretien de younouss du voyage sur parakou po...   \n",
       "552                            salaire du mois de Mai    \n",
       "500  salaire de younouss pour le voyage sur parakou...   \n",
       "499  salaire de younouss pour le voyage dans les vi...   \n",
       "501         salaire de younouss pour boudhal et monnon   \n",
       "498  voyage avec ousmane sur sansi et bessangourou ...   \n",
       "492                            salaire du mois de juin   \n",
       "496        salaire de Younouss pour différents voyages   \n",
       "494        salaire de younouss pour différents voyages   \n",
       "493                         salaire du mois de juillet   \n",
       "497  entretien de younouss pour trois sorties 05, 0...   \n",
       "490       entretien lamatou pour la sortie sur boudhal   \n",
       "527  salaire de lamatou pour différents voyages dan...   \n",
       "524        salaire de younouss pour différents voyages   \n",
       "522                              salaire du mois daout   \n",
       "520                          salaire mois de Septembre   \n",
       "523  salaire de younouss pour voyage dans les villa...   \n",
       "518  salaire de lamatou pour ses différents voyages...   \n",
       "521       salaire de younouss pour le mois de Novembre   \n",
       "517  remise 8000f à kogui pour avoir écrasé les noi...   \n",
       "530  on est allé chercher un mécanicien dans un vil...   \n",
       "526                         salaire du mois de octobre   \n",
       "\n",
       "                            creacion  \n",
       "578        2020-02-27 10:24:26+00:00  \n",
       "579        2020-03-11 12:36:58+00:00  \n",
       "580        2020-03-11 13:04:54+00:00  \n",
       "575        2020-03-17 23:19:42+00:00  \n",
       "577        2020-04-02 12:17:30+00:00  \n",
       "576        2020-05-03 16:15:07+00:00  \n",
       "574        2020-05-03 16:20:03+00:00  \n",
       "553 2020-06-19 06:54:26.105000+00:00  \n",
       "495 2020-06-19 07:36:31.176000+00:00  \n",
       "552 2020-06-19 07:52:09.020000+00:00  \n",
       "500 2020-06-27 08:12:33.201000+00:00  \n",
       "499 2020-06-27 08:16:21.208000+00:00  \n",
       "501 2020-06-27 08:18:59.484000+00:00  \n",
       "498 2020-06-27 08:21:25.805000+00:00  \n",
       "492 2020-08-10 11:37:02.647000+00:00  \n",
       "496 2020-08-10 11:55:46.863000+00:00  \n",
       "494 2020-08-10 12:00:46.503000+00:00  \n",
       "493 2020-08-16 17:04:42.163000+00:00  \n",
       "497 2020-08-17 10:28:44.043000+00:00  \n",
       "490 2020-08-18 10:40:41.521000+00:00  \n",
       "527 2020-11-17 16:03:33.980000+00:00  \n",
       "524 2020-11-17 16:08:18.936000+00:00  \n",
       "522 2020-11-17 16:33:08.270000+00:00  \n",
       "520 2020-11-17 16:41:30.264000+00:00  \n",
       "523 2020-11-17 18:01:26.977000+00:00  \n",
       "518 2020-11-18 07:03:48.447000+00:00  \n",
       "521 2020-11-18 07:25:50.455000+00:00  \n",
       "517 2020-11-18 08:03:37.738000+00:00  \n",
       "530 2020-11-18 08:07:27.186000+00:00  \n",
       "526 2020-11-18 08:12:32.757000+00:00  "
      ]
     },
     "execution_count": 94,
     "metadata": {},
     "output_type": "execute_result"
    }
   ],
   "source": [
    "df_nikarit[(df_nikarit['intervencion']=='Intervention 2020') &\n",
    "         (df_nikarit['categoria']=='Sueldos y Salarios')\n",
    "          ][['concepto','cantidad','descripcion','creacion']].sort_values('creacion')\n"
   ]
  },
  {
   "cell_type": "markdown",
   "metadata": {},
   "source": [
    "Salaire / Personnelle\t91.33\t04-30\tSalaire mensuel (ABRIL)\n",
    "salaire mireille\t121.95\t06-01\tsalaire du mois de Mai\n",
    "alaire mireille\t182.93\t07-10\tsalaire du mois de juin\n",
    "salaire mireille\t182.93\t07-31\tsalaire du mois de juillet\n",
    "Salaire / Personnelle\t175.05\t12-23\tSalarios acumulados de Younous, Lamatou y Mire...\n"
   ]
  },
  {
   "cell_type": "markdown",
   "metadata": {},
   "source": [
    "## ESPAÑA"
   ]
  },
  {
   "cell_type": "code",
   "execution_count": 60,
   "metadata": {},
   "outputs": [
    {
     "data": {
      "text/html": [
       "<div>\n",
       "<style scoped>\n",
       "    .dataframe tbody tr th:only-of-type {\n",
       "        vertical-align: middle;\n",
       "    }\n",
       "\n",
       "    .dataframe tbody tr th {\n",
       "        vertical-align: top;\n",
       "    }\n",
       "\n",
       "    .dataframe thead th {\n",
       "        text-align: right;\n",
       "    }\n",
       "</style>\n",
       "<table border=\"1\" class=\"dataframe\">\n",
       "  <thead>\n",
       "    <tr style=\"text-align: right;\">\n",
       "      <th></th>\n",
       "      <th>categoria</th>\n",
       "      <th>amount</th>\n",
       "    </tr>\n",
       "  </thead>\n",
       "  <tbody>\n",
       "    <tr>\n",
       "      <th>30</th>\n",
       "      <td>Transformacion materia prima</td>\n",
       "      <td>7476.64</td>\n",
       "    </tr>\n",
       "    <tr>\n",
       "      <th>34</th>\n",
       "      <td>Transporte de ventas</td>\n",
       "      <td>3631.65</td>\n",
       "    </tr>\n",
       "    <tr>\n",
       "      <th>28</th>\n",
       "      <td>Sueldos y Salarios</td>\n",
       "      <td>3296.18</td>\n",
       "    </tr>\n",
       "    <tr>\n",
       "      <th>23</th>\n",
       "      <td>Otros Tributos</td>\n",
       "      <td>2149.46</td>\n",
       "    </tr>\n",
       "    <tr>\n",
       "      <th>25</th>\n",
       "      <td>Seguridad Social a Cargo de la Entidad</td>\n",
       "      <td>1930.91</td>\n",
       "    </tr>\n",
       "    <tr>\n",
       "      <th>14</th>\n",
       "      <td>Etiquetas de productos</td>\n",
       "      <td>1129.81</td>\n",
       "    </tr>\n",
       "    <tr>\n",
       "      <th>13</th>\n",
       "      <td>Envases de productos</td>\n",
       "      <td>1003.24</td>\n",
       "    </tr>\n",
       "    <tr>\n",
       "      <th>27</th>\n",
       "      <td>Servicio de gestoría</td>\n",
       "      <td>467.95</td>\n",
       "    </tr>\n",
       "    <tr>\n",
       "      <th>18</th>\n",
       "      <td>Gastos y Comisiones Financieras</td>\n",
       "      <td>391.27</td>\n",
       "    </tr>\n",
       "    <tr>\n",
       "      <th>36</th>\n",
       "      <td>WEB y Hosting</td>\n",
       "      <td>210.25</td>\n",
       "    </tr>\n",
       "    <tr>\n",
       "      <th>0</th>\n",
       "      <td>Alquileres (oficinas y otros)</td>\n",
       "      <td>199.65</td>\n",
       "    </tr>\n",
       "    <tr>\n",
       "      <th>16</th>\n",
       "      <td>Gastos Telefónicos</td>\n",
       "      <td>15.24</td>\n",
       "    </tr>\n",
       "    <tr>\n",
       "      <th>20</th>\n",
       "      <td>Material de Oficina</td>\n",
       "      <td>7.74</td>\n",
       "    </tr>\n",
       "  </tbody>\n",
       "</table>\n",
       "</div>"
      ],
      "text/plain": [
       "                                 categoria   amount\n",
       "30            Transformacion materia prima  7476.64\n",
       "34                    Transporte de ventas  3631.65\n",
       "28                      Sueldos y Salarios  3296.18\n",
       "23                          Otros Tributos  2149.46\n",
       "25  Seguridad Social a Cargo de la Entidad  1930.91\n",
       "14                  Etiquetas de productos  1129.81\n",
       "13                    Envases de productos  1003.24\n",
       "27                    Servicio de gestoría   467.95\n",
       "18         Gastos y Comisiones Financieras   391.27\n",
       "36                           WEB y Hosting   210.25\n",
       "0            Alquileres (oficinas y otros)   199.65\n",
       "16                      Gastos Telefónicos    15.24\n",
       "20                     Material de Oficina     7.74"
      ]
     },
     "execution_count": 60,
     "metadata": {},
     "output_type": "execute_result"
    }
   ],
   "source": [
    "expense[expense['inter']=='Espagne General 2020'].sort_values('amount',ascending=False)[['categoria','amount']]"
   ]
  },
  {
   "cell_type": "code",
   "execution_count": 96,
   "metadata": {},
   "outputs": [
    {
     "data": {
      "text/plain": [
       "29177.75"
      ]
     },
     "execution_count": 96,
     "metadata": {},
     "output_type": "execute_result"
    }
   ],
   "source": [
    "expense[expense['intervencion']=='Espagne General 2020']['cantidad'].sum()"
   ]
  },
  {
   "cell_type": "code",
   "execution_count": 98,
   "metadata": {},
   "outputs": [
    {
     "data": {
      "application/vnd.plotly.v1+json": {
       "config": {
        "linkText": "Export to plot.ly",
        "plotlyServerURL": "https://plot.ly",
        "showLink": true
       },
       "data": [
        {
         "marker": {
          "color": "rgba(255, 153, 51, 0.6)",
          "line": {
           "color": "rgba(255, 153, 51, 1.0)",
           "width": 1
          }
         },
         "name": "cantidad",
         "orientation": "v",
         "text": "",
         "type": "bar",
         "x": [
          "Transformacion materia prima",
          "Envasado",
          "Transporte de ventas",
          "Sueldos y Salarios",
          "Otros Tributos",
          "Seguridad Social a Cargo de la Entidad",
          "Etiquetas de productos",
          "Envases de productos",
          "Gastos y Comisiones Financieras",
          "Servicio de gestoría",
          "Transporte de materias primas",
          "Otros Servicios Profesionales",
          "WEB y Hosting",
          "Alquileres (oficinas y otros)",
          "Gastos Telefónicos",
          "Material de Oficina"
         ],
         "y": [
          9119.77,
          4583.11,
          3690.289999999999,
          3296.1800000000003,
          2149.46,
          1930.9099999999999,
          1392.0100000000002,
          1003.24,
          650.1299999999998,
          467.94999999999993,
          237.57,
          224.25,
          210.25,
          199.65,
          15.24,
          7.74
         ]
        }
       ],
       "layout": {
        "legend": {
         "bgcolor": "#F5F6F9",
         "font": {
          "color": "#4D5663"
         }
        },
        "paper_bgcolor": "#F5F6F9",
        "plot_bgcolor": "#F5F6F9",
        "template": {
         "data": {
          "bar": [
           {
            "error_x": {
             "color": "#2a3f5f"
            },
            "error_y": {
             "color": "#2a3f5f"
            },
            "marker": {
             "line": {
              "color": "#E5ECF6",
              "width": 0.5
             }
            },
            "type": "bar"
           }
          ],
          "barpolar": [
           {
            "marker": {
             "line": {
              "color": "#E5ECF6",
              "width": 0.5
             }
            },
            "type": "barpolar"
           }
          ],
          "carpet": [
           {
            "aaxis": {
             "endlinecolor": "#2a3f5f",
             "gridcolor": "white",
             "linecolor": "white",
             "minorgridcolor": "white",
             "startlinecolor": "#2a3f5f"
            },
            "baxis": {
             "endlinecolor": "#2a3f5f",
             "gridcolor": "white",
             "linecolor": "white",
             "minorgridcolor": "white",
             "startlinecolor": "#2a3f5f"
            },
            "type": "carpet"
           }
          ],
          "choropleth": [
           {
            "colorbar": {
             "outlinewidth": 0,
             "ticks": ""
            },
            "type": "choropleth"
           }
          ],
          "contour": [
           {
            "colorbar": {
             "outlinewidth": 0,
             "ticks": ""
            },
            "colorscale": [
             [
              0,
              "#0d0887"
             ],
             [
              0.1111111111111111,
              "#46039f"
             ],
             [
              0.2222222222222222,
              "#7201a8"
             ],
             [
              0.3333333333333333,
              "#9c179e"
             ],
             [
              0.4444444444444444,
              "#bd3786"
             ],
             [
              0.5555555555555556,
              "#d8576b"
             ],
             [
              0.6666666666666666,
              "#ed7953"
             ],
             [
              0.7777777777777778,
              "#fb9f3a"
             ],
             [
              0.8888888888888888,
              "#fdca26"
             ],
             [
              1,
              "#f0f921"
             ]
            ],
            "type": "contour"
           }
          ],
          "contourcarpet": [
           {
            "colorbar": {
             "outlinewidth": 0,
             "ticks": ""
            },
            "type": "contourcarpet"
           }
          ],
          "heatmap": [
           {
            "colorbar": {
             "outlinewidth": 0,
             "ticks": ""
            },
            "colorscale": [
             [
              0,
              "#0d0887"
             ],
             [
              0.1111111111111111,
              "#46039f"
             ],
             [
              0.2222222222222222,
              "#7201a8"
             ],
             [
              0.3333333333333333,
              "#9c179e"
             ],
             [
              0.4444444444444444,
              "#bd3786"
             ],
             [
              0.5555555555555556,
              "#d8576b"
             ],
             [
              0.6666666666666666,
              "#ed7953"
             ],
             [
              0.7777777777777778,
              "#fb9f3a"
             ],
             [
              0.8888888888888888,
              "#fdca26"
             ],
             [
              1,
              "#f0f921"
             ]
            ],
            "type": "heatmap"
           }
          ],
          "heatmapgl": [
           {
            "colorbar": {
             "outlinewidth": 0,
             "ticks": ""
            },
            "colorscale": [
             [
              0,
              "#0d0887"
             ],
             [
              0.1111111111111111,
              "#46039f"
             ],
             [
              0.2222222222222222,
              "#7201a8"
             ],
             [
              0.3333333333333333,
              "#9c179e"
             ],
             [
              0.4444444444444444,
              "#bd3786"
             ],
             [
              0.5555555555555556,
              "#d8576b"
             ],
             [
              0.6666666666666666,
              "#ed7953"
             ],
             [
              0.7777777777777778,
              "#fb9f3a"
             ],
             [
              0.8888888888888888,
              "#fdca26"
             ],
             [
              1,
              "#f0f921"
             ]
            ],
            "type": "heatmapgl"
           }
          ],
          "histogram": [
           {
            "marker": {
             "colorbar": {
              "outlinewidth": 0,
              "ticks": ""
             }
            },
            "type": "histogram"
           }
          ],
          "histogram2d": [
           {
            "colorbar": {
             "outlinewidth": 0,
             "ticks": ""
            },
            "colorscale": [
             [
              0,
              "#0d0887"
             ],
             [
              0.1111111111111111,
              "#46039f"
             ],
             [
              0.2222222222222222,
              "#7201a8"
             ],
             [
              0.3333333333333333,
              "#9c179e"
             ],
             [
              0.4444444444444444,
              "#bd3786"
             ],
             [
              0.5555555555555556,
              "#d8576b"
             ],
             [
              0.6666666666666666,
              "#ed7953"
             ],
             [
              0.7777777777777778,
              "#fb9f3a"
             ],
             [
              0.8888888888888888,
              "#fdca26"
             ],
             [
              1,
              "#f0f921"
             ]
            ],
            "type": "histogram2d"
           }
          ],
          "histogram2dcontour": [
           {
            "colorbar": {
             "outlinewidth": 0,
             "ticks": ""
            },
            "colorscale": [
             [
              0,
              "#0d0887"
             ],
             [
              0.1111111111111111,
              "#46039f"
             ],
             [
              0.2222222222222222,
              "#7201a8"
             ],
             [
              0.3333333333333333,
              "#9c179e"
             ],
             [
              0.4444444444444444,
              "#bd3786"
             ],
             [
              0.5555555555555556,
              "#d8576b"
             ],
             [
              0.6666666666666666,
              "#ed7953"
             ],
             [
              0.7777777777777778,
              "#fb9f3a"
             ],
             [
              0.8888888888888888,
              "#fdca26"
             ],
             [
              1,
              "#f0f921"
             ]
            ],
            "type": "histogram2dcontour"
           }
          ],
          "mesh3d": [
           {
            "colorbar": {
             "outlinewidth": 0,
             "ticks": ""
            },
            "type": "mesh3d"
           }
          ],
          "parcoords": [
           {
            "line": {
             "colorbar": {
              "outlinewidth": 0,
              "ticks": ""
             }
            },
            "type": "parcoords"
           }
          ],
          "pie": [
           {
            "automargin": true,
            "type": "pie"
           }
          ],
          "scatter": [
           {
            "marker": {
             "colorbar": {
              "outlinewidth": 0,
              "ticks": ""
             }
            },
            "type": "scatter"
           }
          ],
          "scatter3d": [
           {
            "line": {
             "colorbar": {
              "outlinewidth": 0,
              "ticks": ""
             }
            },
            "marker": {
             "colorbar": {
              "outlinewidth": 0,
              "ticks": ""
             }
            },
            "type": "scatter3d"
           }
          ],
          "scattercarpet": [
           {
            "marker": {
             "colorbar": {
              "outlinewidth": 0,
              "ticks": ""
             }
            },
            "type": "scattercarpet"
           }
          ],
          "scattergeo": [
           {
            "marker": {
             "colorbar": {
              "outlinewidth": 0,
              "ticks": ""
             }
            },
            "type": "scattergeo"
           }
          ],
          "scattergl": [
           {
            "marker": {
             "colorbar": {
              "outlinewidth": 0,
              "ticks": ""
             }
            },
            "type": "scattergl"
           }
          ],
          "scattermapbox": [
           {
            "marker": {
             "colorbar": {
              "outlinewidth": 0,
              "ticks": ""
             }
            },
            "type": "scattermapbox"
           }
          ],
          "scatterpolar": [
           {
            "marker": {
             "colorbar": {
              "outlinewidth": 0,
              "ticks": ""
             }
            },
            "type": "scatterpolar"
           }
          ],
          "scatterpolargl": [
           {
            "marker": {
             "colorbar": {
              "outlinewidth": 0,
              "ticks": ""
             }
            },
            "type": "scatterpolargl"
           }
          ],
          "scatterternary": [
           {
            "marker": {
             "colorbar": {
              "outlinewidth": 0,
              "ticks": ""
             }
            },
            "type": "scatterternary"
           }
          ],
          "surface": [
           {
            "colorbar": {
             "outlinewidth": 0,
             "ticks": ""
            },
            "colorscale": [
             [
              0,
              "#0d0887"
             ],
             [
              0.1111111111111111,
              "#46039f"
             ],
             [
              0.2222222222222222,
              "#7201a8"
             ],
             [
              0.3333333333333333,
              "#9c179e"
             ],
             [
              0.4444444444444444,
              "#bd3786"
             ],
             [
              0.5555555555555556,
              "#d8576b"
             ],
             [
              0.6666666666666666,
              "#ed7953"
             ],
             [
              0.7777777777777778,
              "#fb9f3a"
             ],
             [
              0.8888888888888888,
              "#fdca26"
             ],
             [
              1,
              "#f0f921"
             ]
            ],
            "type": "surface"
           }
          ],
          "table": [
           {
            "cells": {
             "fill": {
              "color": "#EBF0F8"
             },
             "line": {
              "color": "white"
             }
            },
            "header": {
             "fill": {
              "color": "#C8D4E3"
             },
             "line": {
              "color": "white"
             }
            },
            "type": "table"
           }
          ]
         },
         "layout": {
          "annotationdefaults": {
           "arrowcolor": "#2a3f5f",
           "arrowhead": 0,
           "arrowwidth": 1
          },
          "coloraxis": {
           "colorbar": {
            "outlinewidth": 0,
            "ticks": ""
           }
          },
          "colorscale": {
           "diverging": [
            [
             0,
             "#8e0152"
            ],
            [
             0.1,
             "#c51b7d"
            ],
            [
             0.2,
             "#de77ae"
            ],
            [
             0.3,
             "#f1b6da"
            ],
            [
             0.4,
             "#fde0ef"
            ],
            [
             0.5,
             "#f7f7f7"
            ],
            [
             0.6,
             "#e6f5d0"
            ],
            [
             0.7,
             "#b8e186"
            ],
            [
             0.8,
             "#7fbc41"
            ],
            [
             0.9,
             "#4d9221"
            ],
            [
             1,
             "#276419"
            ]
           ],
           "sequential": [
            [
             0,
             "#0d0887"
            ],
            [
             0.1111111111111111,
             "#46039f"
            ],
            [
             0.2222222222222222,
             "#7201a8"
            ],
            [
             0.3333333333333333,
             "#9c179e"
            ],
            [
             0.4444444444444444,
             "#bd3786"
            ],
            [
             0.5555555555555556,
             "#d8576b"
            ],
            [
             0.6666666666666666,
             "#ed7953"
            ],
            [
             0.7777777777777778,
             "#fb9f3a"
            ],
            [
             0.8888888888888888,
             "#fdca26"
            ],
            [
             1,
             "#f0f921"
            ]
           ],
           "sequentialminus": [
            [
             0,
             "#0d0887"
            ],
            [
             0.1111111111111111,
             "#46039f"
            ],
            [
             0.2222222222222222,
             "#7201a8"
            ],
            [
             0.3333333333333333,
             "#9c179e"
            ],
            [
             0.4444444444444444,
             "#bd3786"
            ],
            [
             0.5555555555555556,
             "#d8576b"
            ],
            [
             0.6666666666666666,
             "#ed7953"
            ],
            [
             0.7777777777777778,
             "#fb9f3a"
            ],
            [
             0.8888888888888888,
             "#fdca26"
            ],
            [
             1,
             "#f0f921"
            ]
           ]
          },
          "colorway": [
           "#636efa",
           "#EF553B",
           "#00cc96",
           "#ab63fa",
           "#FFA15A",
           "#19d3f3",
           "#FF6692",
           "#B6E880",
           "#FF97FF",
           "#FECB52"
          ],
          "font": {
           "color": "#2a3f5f"
          },
          "geo": {
           "bgcolor": "white",
           "lakecolor": "white",
           "landcolor": "#E5ECF6",
           "showlakes": true,
           "showland": true,
           "subunitcolor": "white"
          },
          "hoverlabel": {
           "align": "left"
          },
          "hovermode": "closest",
          "mapbox": {
           "style": "light"
          },
          "paper_bgcolor": "white",
          "plot_bgcolor": "#E5ECF6",
          "polar": {
           "angularaxis": {
            "gridcolor": "white",
            "linecolor": "white",
            "ticks": ""
           },
           "bgcolor": "#E5ECF6",
           "radialaxis": {
            "gridcolor": "white",
            "linecolor": "white",
            "ticks": ""
           }
          },
          "scene": {
           "xaxis": {
            "backgroundcolor": "#E5ECF6",
            "gridcolor": "white",
            "gridwidth": 2,
            "linecolor": "white",
            "showbackground": true,
            "ticks": "",
            "zerolinecolor": "white"
           },
           "yaxis": {
            "backgroundcolor": "#E5ECF6",
            "gridcolor": "white",
            "gridwidth": 2,
            "linecolor": "white",
            "showbackground": true,
            "ticks": "",
            "zerolinecolor": "white"
           },
           "zaxis": {
            "backgroundcolor": "#E5ECF6",
            "gridcolor": "white",
            "gridwidth": 2,
            "linecolor": "white",
            "showbackground": true,
            "ticks": "",
            "zerolinecolor": "white"
           }
          },
          "shapedefaults": {
           "line": {
            "color": "#2a3f5f"
           }
          },
          "ternary": {
           "aaxis": {
            "gridcolor": "white",
            "linecolor": "white",
            "ticks": ""
           },
           "baxis": {
            "gridcolor": "white",
            "linecolor": "white",
            "ticks": ""
           },
           "bgcolor": "#E5ECF6",
           "caxis": {
            "gridcolor": "white",
            "linecolor": "white",
            "ticks": ""
           }
          },
          "title": {
           "x": 0.05
          },
          "xaxis": {
           "automargin": true,
           "gridcolor": "white",
           "linecolor": "white",
           "ticks": "",
           "title": {
            "standoff": 15
           },
           "zerolinecolor": "white",
           "zerolinewidth": 2
          },
          "yaxis": {
           "automargin": true,
           "gridcolor": "white",
           "linecolor": "white",
           "ticks": "",
           "title": {
            "standoff": 15
           },
           "zerolinecolor": "white",
           "zerolinewidth": 2
          }
         }
        },
        "title": {
         "font": {
          "color": "#4D5663"
         },
         "text": "Gastos Totales 21,909€"
        },
        "xaxis": {
         "gridcolor": "#E1E5ED",
         "showgrid": true,
         "tickfont": {
          "color": "#4D5663"
         },
         "title": {
          "font": {
           "color": "#4D5663"
          },
          "text": ""
         },
         "zerolinecolor": "#E1E5ED"
        },
        "yaxis": {
         "gridcolor": "#E1E5ED",
         "showgrid": true,
         "tickfont": {
          "color": "#4D5663"
         },
         "title": {
          "font": {
           "color": "#4D5663"
          },
          "text": ""
         },
         "zerolinecolor": "#E1E5ED"
        }
       }
      },
      "text/html": [
       "<div>\n",
       "        \n",
       "        \n",
       "            <div id=\"076718d5-625c-46e3-a45c-fc27d9d064e7\" class=\"plotly-graph-div\" style=\"height:525px; width:100%;\"></div>\n",
       "            <script type=\"text/javascript\">\n",
       "                require([\"plotly\"], function(Plotly) {\n",
       "                    window.PLOTLYENV=window.PLOTLYENV || {};\n",
       "                    window.PLOTLYENV.BASE_URL='https://plot.ly';\n",
       "                    \n",
       "                if (document.getElementById(\"076718d5-625c-46e3-a45c-fc27d9d064e7\")) {\n",
       "                    Plotly.newPlot(\n",
       "                        '076718d5-625c-46e3-a45c-fc27d9d064e7',\n",
       "                        [{\"marker\": {\"color\": \"rgba(255, 153, 51, 0.6)\", \"line\": {\"color\": \"rgba(255, 153, 51, 1.0)\", \"width\": 1}}, \"name\": \"cantidad\", \"orientation\": \"v\", \"text\": \"\", \"type\": \"bar\", \"x\": [\"Transformacion materia prima\", \"Envasado\", \"Transporte de ventas\", \"Sueldos y Salarios\", \"Otros Tributos\", \"Seguridad Social a Cargo de la Entidad\", \"Etiquetas de productos\", \"Envases de productos\", \"Gastos y Comisiones Financieras\", \"Servicio de gestor\\u00eda\", \"Transporte de materias primas\", \"Otros Servicios Profesionales\", \"WEB y Hosting\", \"Alquileres (oficinas y otros)\", \"Gastos Telef\\u00f3nicos\", \"Material de Oficina\"], \"y\": [9119.77, 4583.11, 3690.289999999999, 3296.1800000000003, 2149.46, 1930.9099999999999, 1392.0100000000002, 1003.24, 650.1299999999998, 467.94999999999993, 237.57, 224.25, 210.25, 199.65, 15.24, 7.74]}],\n",
       "                        {\"legend\": {\"bgcolor\": \"#F5F6F9\", \"font\": {\"color\": \"#4D5663\"}}, \"paper_bgcolor\": \"#F5F6F9\", \"plot_bgcolor\": \"#F5F6F9\", \"template\": {\"data\": {\"bar\": [{\"error_x\": {\"color\": \"#2a3f5f\"}, \"error_y\": {\"color\": \"#2a3f5f\"}, \"marker\": {\"line\": {\"color\": \"#E5ECF6\", \"width\": 0.5}}, \"type\": \"bar\"}], \"barpolar\": [{\"marker\": {\"line\": {\"color\": \"#E5ECF6\", \"width\": 0.5}}, \"type\": \"barpolar\"}], \"carpet\": [{\"aaxis\": {\"endlinecolor\": \"#2a3f5f\", \"gridcolor\": \"white\", \"linecolor\": \"white\", \"minorgridcolor\": \"white\", \"startlinecolor\": \"#2a3f5f\"}, \"baxis\": {\"endlinecolor\": \"#2a3f5f\", \"gridcolor\": \"white\", \"linecolor\": \"white\", \"minorgridcolor\": \"white\", \"startlinecolor\": \"#2a3f5f\"}, \"type\": \"carpet\"}], \"choropleth\": [{\"colorbar\": {\"outlinewidth\": 0, \"ticks\": \"\"}, \"type\": \"choropleth\"}], \"contour\": [{\"colorbar\": {\"outlinewidth\": 0, \"ticks\": \"\"}, \"colorscale\": [[0.0, \"#0d0887\"], [0.1111111111111111, \"#46039f\"], [0.2222222222222222, \"#7201a8\"], [0.3333333333333333, \"#9c179e\"], [0.4444444444444444, \"#bd3786\"], [0.5555555555555556, \"#d8576b\"], [0.6666666666666666, \"#ed7953\"], [0.7777777777777778, \"#fb9f3a\"], [0.8888888888888888, \"#fdca26\"], [1.0, \"#f0f921\"]], \"type\": \"contour\"}], \"contourcarpet\": [{\"colorbar\": {\"outlinewidth\": 0, \"ticks\": \"\"}, \"type\": \"contourcarpet\"}], \"heatmap\": [{\"colorbar\": {\"outlinewidth\": 0, \"ticks\": \"\"}, \"colorscale\": [[0.0, \"#0d0887\"], [0.1111111111111111, \"#46039f\"], [0.2222222222222222, \"#7201a8\"], [0.3333333333333333, \"#9c179e\"], [0.4444444444444444, \"#bd3786\"], [0.5555555555555556, \"#d8576b\"], [0.6666666666666666, \"#ed7953\"], [0.7777777777777778, \"#fb9f3a\"], [0.8888888888888888, \"#fdca26\"], [1.0, \"#f0f921\"]], \"type\": \"heatmap\"}], \"heatmapgl\": [{\"colorbar\": {\"outlinewidth\": 0, \"ticks\": \"\"}, \"colorscale\": [[0.0, \"#0d0887\"], [0.1111111111111111, \"#46039f\"], [0.2222222222222222, \"#7201a8\"], [0.3333333333333333, \"#9c179e\"], [0.4444444444444444, \"#bd3786\"], [0.5555555555555556, \"#d8576b\"], [0.6666666666666666, \"#ed7953\"], [0.7777777777777778, \"#fb9f3a\"], [0.8888888888888888, \"#fdca26\"], [1.0, \"#f0f921\"]], \"type\": \"heatmapgl\"}], \"histogram\": [{\"marker\": {\"colorbar\": {\"outlinewidth\": 0, \"ticks\": \"\"}}, \"type\": \"histogram\"}], \"histogram2d\": [{\"colorbar\": {\"outlinewidth\": 0, \"ticks\": \"\"}, \"colorscale\": [[0.0, \"#0d0887\"], [0.1111111111111111, \"#46039f\"], [0.2222222222222222, \"#7201a8\"], [0.3333333333333333, \"#9c179e\"], [0.4444444444444444, \"#bd3786\"], [0.5555555555555556, \"#d8576b\"], [0.6666666666666666, \"#ed7953\"], [0.7777777777777778, \"#fb9f3a\"], [0.8888888888888888, \"#fdca26\"], [1.0, \"#f0f921\"]], \"type\": \"histogram2d\"}], \"histogram2dcontour\": [{\"colorbar\": {\"outlinewidth\": 0, \"ticks\": \"\"}, \"colorscale\": [[0.0, \"#0d0887\"], [0.1111111111111111, \"#46039f\"], [0.2222222222222222, \"#7201a8\"], [0.3333333333333333, \"#9c179e\"], [0.4444444444444444, \"#bd3786\"], [0.5555555555555556, \"#d8576b\"], [0.6666666666666666, \"#ed7953\"], [0.7777777777777778, \"#fb9f3a\"], [0.8888888888888888, \"#fdca26\"], [1.0, \"#f0f921\"]], \"type\": \"histogram2dcontour\"}], \"mesh3d\": [{\"colorbar\": {\"outlinewidth\": 0, \"ticks\": \"\"}, \"type\": \"mesh3d\"}], \"parcoords\": [{\"line\": {\"colorbar\": {\"outlinewidth\": 0, \"ticks\": \"\"}}, \"type\": \"parcoords\"}], \"pie\": [{\"automargin\": true, \"type\": \"pie\"}], \"scatter\": [{\"marker\": {\"colorbar\": {\"outlinewidth\": 0, \"ticks\": \"\"}}, \"type\": \"scatter\"}], \"scatter3d\": [{\"line\": {\"colorbar\": {\"outlinewidth\": 0, \"ticks\": \"\"}}, \"marker\": {\"colorbar\": {\"outlinewidth\": 0, \"ticks\": \"\"}}, \"type\": \"scatter3d\"}], \"scattercarpet\": [{\"marker\": {\"colorbar\": {\"outlinewidth\": 0, \"ticks\": \"\"}}, \"type\": \"scattercarpet\"}], \"scattergeo\": [{\"marker\": {\"colorbar\": {\"outlinewidth\": 0, \"ticks\": \"\"}}, \"type\": \"scattergeo\"}], \"scattergl\": [{\"marker\": {\"colorbar\": {\"outlinewidth\": 0, \"ticks\": \"\"}}, \"type\": \"scattergl\"}], \"scattermapbox\": [{\"marker\": {\"colorbar\": {\"outlinewidth\": 0, \"ticks\": \"\"}}, \"type\": \"scattermapbox\"}], \"scatterpolar\": [{\"marker\": {\"colorbar\": {\"outlinewidth\": 0, \"ticks\": \"\"}}, \"type\": \"scatterpolar\"}], \"scatterpolargl\": [{\"marker\": {\"colorbar\": {\"outlinewidth\": 0, \"ticks\": \"\"}}, \"type\": \"scatterpolargl\"}], \"scatterternary\": [{\"marker\": {\"colorbar\": {\"outlinewidth\": 0, \"ticks\": \"\"}}, \"type\": \"scatterternary\"}], \"surface\": [{\"colorbar\": {\"outlinewidth\": 0, \"ticks\": \"\"}, \"colorscale\": [[0.0, \"#0d0887\"], [0.1111111111111111, \"#46039f\"], [0.2222222222222222, \"#7201a8\"], [0.3333333333333333, \"#9c179e\"], [0.4444444444444444, \"#bd3786\"], [0.5555555555555556, \"#d8576b\"], [0.6666666666666666, \"#ed7953\"], [0.7777777777777778, \"#fb9f3a\"], [0.8888888888888888, \"#fdca26\"], [1.0, \"#f0f921\"]], \"type\": \"surface\"}], \"table\": [{\"cells\": {\"fill\": {\"color\": \"#EBF0F8\"}, \"line\": {\"color\": \"white\"}}, \"header\": {\"fill\": {\"color\": \"#C8D4E3\"}, \"line\": {\"color\": \"white\"}}, \"type\": \"table\"}]}, \"layout\": {\"annotationdefaults\": {\"arrowcolor\": \"#2a3f5f\", \"arrowhead\": 0, \"arrowwidth\": 1}, \"coloraxis\": {\"colorbar\": {\"outlinewidth\": 0, \"ticks\": \"\"}}, \"colorscale\": {\"diverging\": [[0, \"#8e0152\"], [0.1, \"#c51b7d\"], [0.2, \"#de77ae\"], [0.3, \"#f1b6da\"], [0.4, \"#fde0ef\"], [0.5, \"#f7f7f7\"], [0.6, \"#e6f5d0\"], [0.7, \"#b8e186\"], [0.8, \"#7fbc41\"], [0.9, \"#4d9221\"], [1, \"#276419\"]], \"sequential\": [[0.0, \"#0d0887\"], [0.1111111111111111, \"#46039f\"], [0.2222222222222222, \"#7201a8\"], [0.3333333333333333, \"#9c179e\"], [0.4444444444444444, \"#bd3786\"], [0.5555555555555556, \"#d8576b\"], [0.6666666666666666, \"#ed7953\"], [0.7777777777777778, \"#fb9f3a\"], [0.8888888888888888, \"#fdca26\"], [1.0, \"#f0f921\"]], \"sequentialminus\": [[0.0, \"#0d0887\"], [0.1111111111111111, \"#46039f\"], [0.2222222222222222, \"#7201a8\"], [0.3333333333333333, \"#9c179e\"], [0.4444444444444444, \"#bd3786\"], [0.5555555555555556, \"#d8576b\"], [0.6666666666666666, \"#ed7953\"], [0.7777777777777778, \"#fb9f3a\"], [0.8888888888888888, \"#fdca26\"], [1.0, \"#f0f921\"]]}, \"colorway\": [\"#636efa\", \"#EF553B\", \"#00cc96\", \"#ab63fa\", \"#FFA15A\", \"#19d3f3\", \"#FF6692\", \"#B6E880\", \"#FF97FF\", \"#FECB52\"], \"font\": {\"color\": \"#2a3f5f\"}, \"geo\": {\"bgcolor\": \"white\", \"lakecolor\": \"white\", \"landcolor\": \"#E5ECF6\", \"showlakes\": true, \"showland\": true, \"subunitcolor\": \"white\"}, \"hoverlabel\": {\"align\": \"left\"}, \"hovermode\": \"closest\", \"mapbox\": {\"style\": \"light\"}, \"paper_bgcolor\": \"white\", \"plot_bgcolor\": \"#E5ECF6\", \"polar\": {\"angularaxis\": {\"gridcolor\": \"white\", \"linecolor\": \"white\", \"ticks\": \"\"}, \"bgcolor\": \"#E5ECF6\", \"radialaxis\": {\"gridcolor\": \"white\", \"linecolor\": \"white\", \"ticks\": \"\"}}, \"scene\": {\"xaxis\": {\"backgroundcolor\": \"#E5ECF6\", \"gridcolor\": \"white\", \"gridwidth\": 2, \"linecolor\": \"white\", \"showbackground\": true, \"ticks\": \"\", \"zerolinecolor\": \"white\"}, \"yaxis\": {\"backgroundcolor\": \"#E5ECF6\", \"gridcolor\": \"white\", \"gridwidth\": 2, \"linecolor\": \"white\", \"showbackground\": true, \"ticks\": \"\", \"zerolinecolor\": \"white\"}, \"zaxis\": {\"backgroundcolor\": \"#E5ECF6\", \"gridcolor\": \"white\", \"gridwidth\": 2, \"linecolor\": \"white\", \"showbackground\": true, \"ticks\": \"\", \"zerolinecolor\": \"white\"}}, \"shapedefaults\": {\"line\": {\"color\": \"#2a3f5f\"}}, \"ternary\": {\"aaxis\": {\"gridcolor\": \"white\", \"linecolor\": \"white\", \"ticks\": \"\"}, \"baxis\": {\"gridcolor\": \"white\", \"linecolor\": \"white\", \"ticks\": \"\"}, \"bgcolor\": \"#E5ECF6\", \"caxis\": {\"gridcolor\": \"white\", \"linecolor\": \"white\", \"ticks\": \"\"}}, \"title\": {\"x\": 0.05}, \"xaxis\": {\"automargin\": true, \"gridcolor\": \"white\", \"linecolor\": \"white\", \"ticks\": \"\", \"title\": {\"standoff\": 15}, \"zerolinecolor\": \"white\", \"zerolinewidth\": 2}, \"yaxis\": {\"automargin\": true, \"gridcolor\": \"white\", \"linecolor\": \"white\", \"ticks\": \"\", \"title\": {\"standoff\": 15}, \"zerolinecolor\": \"white\", \"zerolinewidth\": 2}}}, \"title\": {\"font\": {\"color\": \"#4D5663\"}, \"text\": \"Gastos Totales 21,909\\u20ac\"}, \"xaxis\": {\"gridcolor\": \"#E1E5ED\", \"showgrid\": true, \"tickfont\": {\"color\": \"#4D5663\"}, \"title\": {\"font\": {\"color\": \"#4D5663\"}, \"text\": \"\"}, \"zerolinecolor\": \"#E1E5ED\"}, \"yaxis\": {\"gridcolor\": \"#E1E5ED\", \"showgrid\": true, \"tickfont\": {\"color\": \"#4D5663\"}, \"title\": {\"font\": {\"color\": \"#4D5663\"}, \"text\": \"\"}, \"zerolinecolor\": \"#E1E5ED\"}},\n",
       "                        {\"showLink\": true, \"linkText\": \"Export to plot.ly\", \"plotlyServerURL\": \"https://plot.ly\", \"responsive\": true}\n",
       "                    ).then(function(){\n",
       "                            \n",
       "var gd = document.getElementById('076718d5-625c-46e3-a45c-fc27d9d064e7');\n",
       "var x = new MutationObserver(function (mutations, observer) {{\n",
       "        var display = window.getComputedStyle(gd).display;\n",
       "        if (!display || display === 'none') {{\n",
       "            console.log([gd, 'removed!']);\n",
       "            Plotly.purge(gd);\n",
       "            observer.disconnect();\n",
       "        }}\n",
       "}});\n",
       "\n",
       "// Listen for the removal of the full notebook cells\n",
       "var notebookContainer = gd.closest('#notebook-container');\n",
       "if (notebookContainer) {{\n",
       "    x.observe(notebookContainer, {childList: true});\n",
       "}}\n",
       "\n",
       "// Listen for the clearing of the current output cell\n",
       "var outputEl = gd.closest('.output');\n",
       "if (outputEl) {{\n",
       "    x.observe(outputEl, {childList: true});\n",
       "}}\n",
       "\n",
       "                        })\n",
       "                };\n",
       "                });\n",
       "            </script>\n",
       "        </div>"
      ]
     },
     "metadata": {},
     "output_type": "display_data"
    }
   ],
   "source": [
    "expense[expense['intervencion']=='Espagne General 2020'\n",
    "       ].sort_values('cantidad',ascending=False\n",
    "                    ).iplot(kind='bar',x='categoria',y='cantidad',title='Gastos Totales 21,909€'\n",
    "                           )"
   ]
  },
  {
   "cell_type": "code",
   "execution_count": 99,
   "metadata": {},
   "outputs": [
    {
     "data": {
      "text/plain": [
       "array(['Alquileres (oficinas y otros)', 'Apertura',\n",
       "       'Banco Caja de Ingenieros', 'Banco Paypal', 'Banco Santander',\n",
       "       'Banco Stripe', 'Caja', 'Compra de materias primas',\n",
       "       'Compras de otros aprovisionamientos',\n",
       "       'Deudas a c.p. (Acreedores)', 'Deudas gastos de envio',\n",
       "       'Donaciones', 'Envasado', 'Envases de productos',\n",
       "       'Etiquetas de productos', 'Gasolina', 'Gastos Telefónicos',\n",
       "       'Gastos y Comisiones Financieras', 'Material de Oficina',\n",
       "       'Otros Servicios Profesionales', 'Otros Tributos',\n",
       "       'Reparaciones y conservación (Ej. coche)',\n",
       "       'Seguridad Social a Cargo de la Entidad', 'Servicio de gestoría',\n",
       "       'Sueldos y Salarios', 'Transformacion materia prima',\n",
       "       'Transporte (Benin Ej. Bus)', 'Transporte de materias primas',\n",
       "       'Transporte de ventas', 'Venta de Manteca de Karite',\n",
       "       'WEB y Hosting'], dtype=object)"
      ]
     },
     "execution_count": 99,
     "metadata": {},
     "output_type": "execute_result"
    }
   ],
   "source": [
    "df_nik_cat.categoria.unique()"
   ]
  },
  {
   "cell_type": "markdown",
   "metadata": {},
   "source": [
    "### ANALIZAR COMISIONES"
   ]
  },
  {
   "cell_type": "code",
   "execution_count": 102,
   "metadata": {},
   "outputs": [],
   "source": [
    "df2=df_nikarit[(df_nikarit['intervencion']=='Espagne General 2020')&\n",
    "                (df_nikarit['origen'] !='contoan' )].groupby('categoria')['cantidad'].sum().reset_index()"
   ]
  },
  {
   "cell_type": "code",
   "execution_count": 103,
   "metadata": {},
   "outputs": [
    {
     "data": {
      "text/plain": [
       "19751.980000000014"
      ]
     },
     "execution_count": 103,
     "metadata": {},
     "output_type": "execute_result"
    }
   ],
   "source": [
    "#Ingresos shopify\n",
    "df2[df2['categoria']=='Venta de Manteca de Karite']['cantidad'].values[0]"
   ]
  },
  {
   "cell_type": "code",
   "execution_count": 104,
   "metadata": {},
   "outputs": [
    {
     "data": {
      "text/plain": [
       "590.91"
      ]
     },
     "execution_count": 104,
     "metadata": {},
     "output_type": "execute_result"
    }
   ],
   "source": [
    "#Comisiones pagos en shopify\n",
    "df2[df2['categoria']=='Gastos y Comisiones Financieras']['cantidad'].values[0]"
   ]
  },
  {
   "cell_type": "code",
   "execution_count": 105,
   "metadata": {},
   "outputs": [
    {
     "data": {
      "text/plain": [
       "2.9916494447645223"
      ]
     },
     "execution_count": 105,
     "metadata": {},
     "output_type": "execute_result"
    }
   ],
   "source": [
    "#Ratio de comision\n",
    "100*(df2[df2['categoria']=='Gastos y Comisiones Financieras']['cantidad'].values[0]\n",
    " /df2[df2['categoria']=='Venta de Manteca de Karite']['cantidad'].values[0])"
   ]
  },
  {
   "cell_type": "code",
   "execution_count": 106,
   "metadata": {},
   "outputs": [
    {
     "data": {
      "text/plain": [
       "array(['Gastos y Comisiones Financieras', 'Deudas gastos de envio',\n",
       "       'Donaciones', 'Venta de Manteca de Karite',\n",
       "       'Transporte (Benin Ej. Bus)', 'Compra de materias primas',\n",
       "       'Gasolina', 'Reparaciones y conservación (Ej. coche)',\n",
       "       'Transporte de materias primas',\n",
       "       'Compras de otros aprovisionamientos', 'Sueldos y Salarios',\n",
       "       'Seguridad Social a Cargo de la Entidad', 'Material de Oficina',\n",
       "       'Gastos Telefónicos', 'Otros Servicios Profesionales',\n",
       "       'Envases de productos', 'Envasado', 'Transformacion materia prima',\n",
       "       'Caja', 'Banco Santander', None, 'Transporte de ventas',\n",
       "       'Etiquetas de productos', 'Banco Stripe',\n",
       "       'Deudas a c.p. (Acreedores)', 'WEB y Hosting',\n",
       "       'Banco Caja de Ingenieros', 'Servicio de gestoría', 'Banco Paypal',\n",
       "       'Otros Tributos', 'Apertura', 'Alquileres (oficinas y otros)'],\n",
       "      dtype=object)"
      ]
     },
     "execution_count": 106,
     "metadata": {},
     "output_type": "execute_result"
    }
   ],
   "source": [
    "df_nikarit['categoria'].unique()"
   ]
  },
  {
   "cell_type": "code",
   "execution_count": 108,
   "metadata": {},
   "outputs": [
    {
     "data": {
      "text/html": [
       "<div>\n",
       "<style scoped>\n",
       "    .dataframe tbody tr th:only-of-type {\n",
       "        vertical-align: middle;\n",
       "    }\n",
       "\n",
       "    .dataframe tbody tr th {\n",
       "        vertical-align: top;\n",
       "    }\n",
       "\n",
       "    .dataframe thead th {\n",
       "        text-align: right;\n",
       "    }\n",
       "</style>\n",
       "<table border=\"1\" class=\"dataframe\">\n",
       "  <thead>\n",
       "    <tr style=\"text-align: right;\">\n",
       "      <th></th>\n",
       "      <th>concepto</th>\n",
       "      <th>cantidad</th>\n",
       "      <th>creacion</th>\n",
       "      <th>descripcion</th>\n",
       "    </tr>\n",
       "  </thead>\n",
       "  <tbody>\n",
       "    <tr>\n",
       "      <th>573</th>\n",
       "      <td>Achat de materiaux</td>\n",
       "      <td>45.66</td>\n",
       "      <td>2020-02-26 22:58:25+00:00</td>\n",
       "      <td>Achat d'une bascul de maximum 100 kilos pour p...</td>\n",
       "    </tr>\n",
       "    <tr>\n",
       "      <th>570</th>\n",
       "      <td>Achat de materiaux</td>\n",
       "      <td>45.66</td>\n",
       "      <td>2020-02-26 23:06:58+00:00</td>\n",
       "      <td>Achat piece pour reparation moulin Bessen Gourou</td>\n",
       "    </tr>\n",
       "    <tr>\n",
       "      <th>596</th>\n",
       "      <td>Achat de materiaux</td>\n",
       "      <td>24.35</td>\n",
       "      <td>2020-02-29 15:48:56+00:00</td>\n",
       "      <td>Achat de 10 metres de tissus a 6.000 F le tota...</td>\n",
       "    </tr>\n",
       "    <tr>\n",
       "      <th>568</th>\n",
       "      <td>Carte d'identité</td>\n",
       "      <td>4.57</td>\n",
       "      <td>2020-03-11 12:59:18+00:00</td>\n",
       "      <td>Carte d'identité</td>\n",
       "    </tr>\n",
       "    <tr>\n",
       "      <th>594</th>\n",
       "      <td>Achat de materiaux</td>\n",
       "      <td>38.97</td>\n",
       "      <td>2020-03-11 20:32:07+00:00</td>\n",
       "      <td>Compra de 12 metros de tela en el mercado a 72...</td>\n",
       "    </tr>\n",
       "    <tr>\n",
       "      <th>595</th>\n",
       "      <td>Achat de materiaux</td>\n",
       "      <td>49.47</td>\n",
       "      <td>2020-03-12 14:49:57+00:00</td>\n",
       "      <td>Compra de 56 metros de tela para el pedido de ...</td>\n",
       "    </tr>\n",
       "    <tr>\n",
       "      <th>571</th>\n",
       "      <td>Achat de materiaux</td>\n",
       "      <td>96.12</td>\n",
       "      <td>2020-03-17 23:24:14+00:00</td>\n",
       "      <td>Couture 421 petits sacs chez Kasim</td>\n",
       "    </tr>\n",
       "    <tr>\n",
       "      <th>572</th>\n",
       "      <td>Achat de materiaux</td>\n",
       "      <td>27.40</td>\n",
       "      <td>2020-05-04 08:43:15+00:00</td>\n",
       "      <td>Achat de pneu</td>\n",
       "    </tr>\n",
       "    <tr>\n",
       "      <th>509</th>\n",
       "      <td>achat matériels des femmes</td>\n",
       "      <td>334.15</td>\n",
       "      <td>2020-06-27 08:24:40.552000+00:00</td>\n",
       "      <td>achat des sacs pour emballer les amandes de ka...</td>\n",
       "    </tr>\n",
       "    <tr>\n",
       "      <th>489</th>\n",
       "      <td>achats de gants</td>\n",
       "      <td>68.60</td>\n",
       "      <td>2020-08-10 11:16:16.321000+00:00</td>\n",
       "      <td>achats de gants pour les femmes de monnon</td>\n",
       "    </tr>\n",
       "    <tr>\n",
       "      <th>503</th>\n",
       "      <td>fabrication planches</td>\n",
       "      <td>86.89</td>\n",
       "      <td>2020-08-10 11:25:20.363000+00:00</td>\n",
       "      <td>fabrication des planches pour poser des sacs d...</td>\n",
       "    </tr>\n",
       "    <tr>\n",
       "      <th>510</th>\n",
       "      <td>achat de chaussutes pour les femmes</td>\n",
       "      <td>114.33</td>\n",
       "      <td>2020-08-10 11:50:48.641000+00:00</td>\n",
       "      <td>achats de chaussures pour les femmes de Monnon</td>\n",
       "    </tr>\n",
       "    <tr>\n",
       "      <th>491</th>\n",
       "      <td>achats aiguilles</td>\n",
       "      <td>7.62</td>\n",
       "      <td>2020-08-10 12:10:07.181000+00:00</td>\n",
       "      <td>achat aiguilles pours coudre les sacs</td>\n",
       "    </tr>\n",
       "    <tr>\n",
       "      <th>546</th>\n",
       "      <td>achat plastique pour le beurre et caouchouc, e...</td>\n",
       "      <td>21.34</td>\n",
       "      <td>2020-11-17 15:47:48.963000+00:00</td>\n",
       "      <td>achat de plastique et caouchouc pour mettre le...</td>\n",
       "    </tr>\n",
       "  </tbody>\n",
       "</table>\n",
       "</div>"
      ],
      "text/plain": [
       "                                              concepto  cantidad  \\\n",
       "573                                 Achat de materiaux     45.66   \n",
       "570                                 Achat de materiaux     45.66   \n",
       "596                                 Achat de materiaux     24.35   \n",
       "568                                   Carte d'identité      4.57   \n",
       "594                                 Achat de materiaux     38.97   \n",
       "595                                 Achat de materiaux     49.47   \n",
       "571                                 Achat de materiaux     96.12   \n",
       "572                                 Achat de materiaux     27.40   \n",
       "509                         achat matériels des femmes    334.15   \n",
       "489                                    achats de gants     68.60   \n",
       "503                               fabrication planches     86.89   \n",
       "510                achat de chaussutes pour les femmes    114.33   \n",
       "491                                   achats aiguilles      7.62   \n",
       "546  achat plastique pour le beurre et caouchouc, e...     21.34   \n",
       "\n",
       "                            creacion  \\\n",
       "573        2020-02-26 22:58:25+00:00   \n",
       "570        2020-02-26 23:06:58+00:00   \n",
       "596        2020-02-29 15:48:56+00:00   \n",
       "568        2020-03-11 12:59:18+00:00   \n",
       "594        2020-03-11 20:32:07+00:00   \n",
       "595        2020-03-12 14:49:57+00:00   \n",
       "571        2020-03-17 23:24:14+00:00   \n",
       "572        2020-05-04 08:43:15+00:00   \n",
       "509 2020-06-27 08:24:40.552000+00:00   \n",
       "489 2020-08-10 11:16:16.321000+00:00   \n",
       "503 2020-08-10 11:25:20.363000+00:00   \n",
       "510 2020-08-10 11:50:48.641000+00:00   \n",
       "491 2020-08-10 12:10:07.181000+00:00   \n",
       "546 2020-11-17 15:47:48.963000+00:00   \n",
       "\n",
       "                                           descripcion  \n",
       "573  Achat d'une bascul de maximum 100 kilos pour p...  \n",
       "570   Achat piece pour reparation moulin Bessen Gourou  \n",
       "596  Achat de 10 metres de tissus a 6.000 F le tota...  \n",
       "568                                   Carte d'identité  \n",
       "594  Compra de 12 metros de tela en el mercado a 72...  \n",
       "595  Compra de 56 metros de tela para el pedido de ...  \n",
       "571                 Couture 421 petits sacs chez Kasim  \n",
       "572                                      Achat de pneu  \n",
       "509  achat des sacs pour emballer les amandes de ka...  \n",
       "489          achats de gants pour les femmes de monnon  \n",
       "503  fabrication des planches pour poser des sacs d...  \n",
       "510     achats de chaussures pour les femmes de Monnon  \n",
       "491              achat aiguilles pours coudre les sacs  \n",
       "546  achat de plastique et caouchouc pour mettre le...  "
      ]
     },
     "execution_count": 108,
     "metadata": {},
     "output_type": "execute_result"
    }
   ],
   "source": [
    "df_nikarit[(df_nikarit['intervencion']=='Intervention 2020') &\n",
    "         (df_nikarit['categoria']=='Compras de otros aprovisionamientos')\n",
    "          ][['concepto','cantidad','creacion','descripcion']].sort_values('creacion')"
   ]
  },
  {
   "cell_type": "markdown",
   "metadata": {},
   "source": [
    "## ventas"
   ]
  },
  {
   "cell_type": "code",
   "execution_count": 229,
   "metadata": {},
   "outputs": [
    {
     "name": "stderr",
     "output_type": "stream",
     "text": [
      "Downloading: 100%|██████████| 846/846 [00:01<00:00, 477.47rows/s]\n"
     ]
    }
   ],
   "source": [
    "sql = \"\"\"\n",
    "    SELECT *\n",
    "    FROM `oan-nikarit.contoan.sales`\n",
    "\"\"\"\n",
    "\n",
    "# Run a Standard SQL query using the environment's default project\n",
    "df_ventas = pd.read_gbq(sql, dialect='standard')"
   ]
  },
  {
   "cell_type": "code",
   "execution_count": 230,
   "metadata": {},
   "outputs": [
    {
     "name": "stdout",
     "output_type": "stream",
     "text": [
      "<class 'pandas.core.frame.DataFrame'>\n",
      "RangeIndex: 846 entries, 0 to 845\n",
      "Data columns (total 54 columns):\n",
      " #   Column                   Non-Null Count  Dtype              \n",
      "---  ------                   --------------  -----              \n",
      " 0   id                       846 non-null    object             \n",
      " 1   client_gender            846 non-null    object             \n",
      " 2   product_movement         203 non-null    object             \n",
      " 3   buyer_accepts_marketing  216 non-null    object             \n",
      " 4   balsamo_unit_price       846 non-null    float64            \n",
      " 5   total_tax                846 non-null    float64            \n",
      " 6   crema_nb                 846 non-null    int64              \n",
      " 7   manteca_unit_price       846 non-null    float64            \n",
      " 8   close_date               697 non-null    datetime64[ns, UTC]\n",
      " 9   packContigo_nb           846 non-null    int64              \n",
      " 10  subtotal_price           846 non-null    float64            \n",
      " 11  packHidra_nb             846 non-null    int64              \n",
      " 12  client_last_name         836 non-null    object             \n",
      " 13  country                  759 non-null    object             \n",
      " 14  order_status_url         815 non-null    object             \n",
      " 15  packHidra_total_price    846 non-null    int64              \n",
      " 16  packContigo_unit_price   846 non-null    float64            \n",
      " 17  crema_total_price        846 non-null    int64              \n",
      " 18  packContigo_total_price  846 non-null    int64              \n",
      " 19  balsamo_total_price      846 non-null    int64              \n",
      " 20  client_name              839 non-null    object             \n",
      " 21  taxes_included           846 non-null    bool               \n",
      " 22  order_id                 846 non-null    object             \n",
      " 23  manteca_total_price      846 non-null    int64              \n",
      " 24  latitude                 746 non-null    float64            \n",
      " 25  creation_date            846 non-null    datetime64[ns, UTC]\n",
      " 26  total_price              846 non-null    float64            \n",
      " 27  gateway                  846 non-null    object             \n",
      " 28  balsamo_nb               846 non-null    int64              \n",
      " 29  crema_unit_price         846 non-null    float64            \n",
      " 30  client_email             805 non-null    object             \n",
      " 31  zip                      814 non-null    object             \n",
      " 32  accounting_item          215 non-null    object             \n",
      " 33  manteca_nb               846 non-null    int64              \n",
      " 34  longitude                746 non-null    float64            \n",
      " 35  origin                   846 non-null    object             \n",
      " 36  province                 808 non-null    object             \n",
      " 37  packHidra_unit_price     846 non-null    float64            \n",
      " 38  packBandana_total_price  215 non-null    float64            \n",
      " 39  bolsa_unit_price         231 non-null    float64            \n",
      " 40  client_adresse           203 non-null    object             \n",
      " 41  packNavidad_nb           177 non-null    float64            \n",
      " 42  packAbanico_nb           215 non-null    float64            \n",
      " 43  city                     203 non-null    object             \n",
      " 44  packBandana_unit_price   215 non-null    float64            \n",
      " 45  packAbanico_unit_price   215 non-null    float64            \n",
      " 46  packNavidad_total_price  177 non-null    float64            \n",
      " 47  packNavidad_unit_price   177 non-null    float64            \n",
      " 48  bolsa_total_price        231 non-null    float64            \n",
      " 49  bolsa_nb                 231 non-null    float64            \n",
      " 50  client_phone             203 non-null    object             \n",
      " 51  packBandana_nb           215 non-null    float64            \n",
      " 52  packAbanico_total_price  215 non-null    float64            \n",
      " 53  donation                 846 non-null    float64            \n",
      "dtypes: bool(1), datetime64[ns, UTC](2), float64(23), int64(10), object(18)\n",
      "memory usage: 351.2+ KB\n"
     ]
    }
   ],
   "source": [
    "df_ventas.info()"
   ]
  },
  {
   "cell_type": "code",
   "execution_count": 231,
   "metadata": {},
   "outputs": [],
   "source": [
    "df_ventas=df_ventas.sort_values('creation_date',\n",
    "                                ascending=True).reset_index(drop=True)"
   ]
  },
  {
   "cell_type": "code",
   "execution_count": 232,
   "metadata": {},
   "outputs": [
    {
     "data": {
      "text/plain": [
       "Madrid        79.515829\n",
       "Barcelona      8.379888\n",
       "Valladolid     7.821229\n",
       "Valencia       5.586592\n",
       "Málaga         4.096834\n",
       "A Coruña       3.165736\n",
       "Cantabria      2.979516\n",
       "Asturias       2.793296\n",
       "Granada        2.607076\n",
       "Sevilla        2.234637\n",
       "Name: province, dtype: float64"
      ]
     },
     "execution_count": 232,
     "metadata": {},
     "output_type": "execute_result"
    }
   ],
   "source": [
    "(100*df_ventas['province'].value_counts()/537)[0:10]"
   ]
  },
  {
   "cell_type": "code",
   "execution_count": 180,
   "metadata": {},
   "outputs": [],
   "source": [
    "df_ventas_shopi = df_ventas[df_ventas['origin']=='Shopify'].reset_index(drop=True)"
   ]
  },
  {
   "cell_type": "code",
   "execution_count": 182,
   "metadata": {},
   "outputs": [],
   "source": [
    "shop_url = os.environ['SHOPIFY_ACCESS_URL']\n",
    "dates = ['2019-01-01T00:15:47-04:00','2020-01-01T00:15:47-04:00',\n",
    "         '2020-05-01T00:15:47-04:00','2020-12-10T00:15:47-04:00', '2021-01-10T00:15:47-04:00']\n",
    "l_orders = []\n",
    "\n",
    "for date_min,date_max in zip(dates[:-1],dates[1:]):\n",
    "    orders_url = shop_url+'/orders.json'\n",
    "    r = requests.get(orders_url,\n",
    "                 params={\n",
    "                        'limit':250,\n",
    "                        'status':'any',\n",
    "                         'created_at_max':date_max,\n",
    "                         'created_at_min':date_min\n",
    "                        })\n",
    "    orders = pd.DataFrame(r.json()['orders'])\n",
    "    l_orders.append(orders)\n",
    "df_orders = pd.concat(l_orders,axis=0).reset_index().drop_duplicates(subset=['id'])"
   ]
  },
  {
   "cell_type": "code",
   "execution_count": 183,
   "metadata": {},
   "outputs": [],
   "source": [
    "df_ord = df_orders"
   ]
  },
  {
   "cell_type": "code",
   "execution_count": 186,
   "metadata": {},
   "outputs": [],
   "source": [
    "df_ord['ship_province'] = df_ord['shipping_address'].apply(lambda x: x['province'])"
   ]
  },
  {
   "cell_type": "code",
   "execution_count": 197,
   "metadata": {},
   "outputs": [],
   "source": [
    "df_ord['ship_latitude'] = df_ord['shipping_address'].apply(lambda x: x['latitude'])\n",
    "df_ord['ship_longitude'] = df_ord['shipping_address'].apply(lambda x: x['longitude'])\n"
   ]
  },
  {
   "cell_type": "code",
   "execution_count": 187,
   "metadata": {},
   "outputs": [
    {
     "data": {
      "text/plain": [
       "Madrid        51.05%\n",
       "Barcelona      5.66%\n",
       "Valladolid     5.41%\n",
       "Valencia       3.81%\n",
       "Málaga         2.83%\n",
       "Cantabria      2.09%\n",
       "Asturias       2.09%\n",
       "A Coruña       2.09%\n",
       "Granada         1.6%\n",
       "Murcia          1.6%\n",
       "Name: ship_province, dtype: object"
      ]
     },
     "execution_count": 187,
     "metadata": {},
     "output_type": "execute_result"
    }
   ],
   "source": [
    "(100*df_ord['ship_province'].value_counts()/len(df_ord['ship_province'])).apply(lambda x: str(round(x,2))+'%')[0:10]"
   ]
  },
  {
   "cell_type": "code",
   "execution_count": 188,
   "metadata": {},
   "outputs": [
    {
     "data": {
      "image/png": "[encoded data removed]",
      "text/plain": [
       "<Figure size 432x288 with 1 Axes>"
      ]
     },
     "metadata": {},
     "output_type": "display_data"
    }
   ],
   "source": [
    "fig = plt.figure()\n",
    "ax = fig.add_axes([0,0,1,1])\n",
    "ax.axis('equal')\n",
    "langs = ['Madrid - 5.05€', 'Fuera de Madrid - 6.1€']\n",
    "students = [51.32,100-51.32]\n",
    "ax.pie(students, labels = langs,autopct='%1.2f%%')\n",
    "title= 'TRANSPORTES DE ENVIO 5.5€ \\nPérdidas de {}€ por pedido'.format(abs(round(0.5132*(5.5-5.05)+(1-0.5132)*(5.5-6.1),2)))\n",
    "plt.title(title)\n",
    "plt.show()"
   ]
  },
  {
   "cell_type": "code",
   "execution_count": 189,
   "metadata": {},
   "outputs": [],
   "source": [
    "counts=df_ord['email'].replace('',np.nan).dropna().value_counts().reset_index()\n",
    "counts.columns=['email','counts']"
   ]
  },
  {
   "cell_type": "code",
   "execution_count": 190,
   "metadata": {},
   "outputs": [],
   "source": [
    "email_counts = pd.merge(counts.reset_index(),\n",
    "         df_ord[['email','ship_province']],\n",
    "         on='email',how='left').drop('index',axis=1).drop_duplicates('email')"
   ]
  },
  {
   "cell_type": "code",
   "execution_count": 192,
   "metadata": {},
   "outputs": [
    {
     "data": {
      "text/html": [
       "<div>\n",
       "<style scoped>\n",
       "    .dataframe tbody tr th:only-of-type {\n",
       "        vertical-align: middle;\n",
       "    }\n",
       "\n",
       "    .dataframe tbody tr th {\n",
       "        vertical-align: top;\n",
       "    }\n",
       "\n",
       "    .dataframe thead th {\n",
       "        text-align: right;\n",
       "    }\n",
       "</style>\n",
       "<table border=\"1\" class=\"dataframe\">\n",
       "  <thead>\n",
       "    <tr style=\"text-align: right;\">\n",
       "      <th></th>\n",
       "      <th>Numero de Pedidos x Cliente</th>\n",
       "      <th>Nº de Clientes</th>\n",
       "      <th>% total</th>\n",
       "    </tr>\n",
       "  </thead>\n",
       "  <tbody>\n",
       "    <tr>\n",
       "      <th>1</th>\n",
       "      <td>un solo pedido</td>\n",
       "      <td>593</td>\n",
       "      <td>88.11%</td>\n",
       "    </tr>\n",
       "    <tr>\n",
       "      <th>2</th>\n",
       "      <td>dos pedidos</td>\n",
       "      <td>54</td>\n",
       "      <td>8.02%</td>\n",
       "    </tr>\n",
       "    <tr>\n",
       "      <th>3</th>\n",
       "      <td>tres pedidos</td>\n",
       "      <td>17</td>\n",
       "      <td>2.53%</td>\n",
       "    </tr>\n",
       "    <tr>\n",
       "      <th>4</th>\n",
       "      <td>cuatro pedidos</td>\n",
       "      <td>7</td>\n",
       "      <td>1.04%</td>\n",
       "    </tr>\n",
       "    <tr>\n",
       "      <th>7</th>\n",
       "      <td>cinco pedidos</td>\n",
       "      <td>2</td>\n",
       "      <td>0.3%</td>\n",
       "    </tr>\n",
       "  </tbody>\n",
       "</table>\n",
       "</div>"
      ],
      "text/plain": [
       "  Numero de Pedidos x Cliente  Nº de Clientes % total\n",
       "1              un solo pedido             593  88.11%\n",
       "2                 dos pedidos              54   8.02%\n",
       "3                tres pedidos              17   2.53%\n",
       "4              cuatro pedidos               7   1.04%\n",
       "7               cinco pedidos               2    0.3%"
      ]
     },
     "execution_count": 192,
     "metadata": {},
     "output_type": "execute_result"
    }
   ],
   "source": [
    "counts_total = email_counts['counts'].value_counts().sort_values(ascending=False)\n",
    "counts_perc = (100*email_counts[\n",
    "                                'counts'\n",
    "                              ].value_counts().sort_values(\n",
    "                                                            ascending=False\n",
    "                                                         )\n",
    "                               /len(email_counts['counts'])\n",
    "              ).apply(lambda x:str(round(x,2))+'%')\n",
    "                      \n",
    "labels=['un solo pedido','dos pedidos','tres pedidos','cuatro pedidos','cinco pedidos']\n",
    "pd.DataFrame({'Numero de Pedidos x Cliente':labels,'Nº de Clientes':counts_total,'% total':counts_perc})"
   ]
  },
  {
   "cell_type": "code",
   "execution_count": 193,
   "metadata": {},
   "outputs": [
    {
     "data": {
      "text/plain": [
       "Text(0, 0.5, 'counts')"
      ]
     },
     "execution_count": 193,
     "metadata": {},
     "output_type": "execute_result"
    },
    {
     "data": {
      "image/png": "[encoded data removed]",
      "text/plain": [
       "<Figure size 720x360 with 1 Axes>"
      ]
     },
     "metadata": {
      "needs_background": "light"
     },
     "output_type": "display_data"
    }
   ],
   "source": [
    "fig = plt.figure(figsize=(10,5))\n",
    "sns.countplot('counts',data=email_counts.sort_values('counts'))\n",
    "plt.xticks(rotation=90)\n",
    "plt.title('Numero de pedidos por clientes')\n",
    "plt.xlabel('Nº de pedidos x cliente')\n",
    "plt.ylabel('counts')"
   ]
  },
  {
   "cell_type": "markdown",
   "metadata": {},
   "source": [
    "### con latitud longitud"
   ]
  },
  {
   "cell_type": "code",
   "execution_count": null,
   "metadata": {},
   "outputs": [],
   "source": []
  },
  {
   "cell_type": "code",
   "execution_count": 198,
   "metadata": {},
   "outputs": [
    {
     "data": {
      "text/plain": [
       "1    620\n",
       "2     41\n",
       "3      8\n",
       "4      2\n",
       "8      1\n",
       "dtype: int64"
      ]
     },
     "execution_count": 198,
     "metadata": {},
     "output_type": "execute_result"
    }
   ],
   "source": [
    "df_ord.apply(lambda x: str(x['ship_latitude'])+str(x['ship_longitude']),axis=1\n",
    "            ).replace('nannan',np.nan).dropna().value_counts().value_counts()\n"
   ]
  },
  {
   "cell_type": "markdown",
   "metadata": {},
   "source": [
    "## en cuantas nos comemos el transporte"
   ]
  },
  {
   "cell_type": "code",
   "execution_count": 199,
   "metadata": {},
   "outputs": [
    {
     "data": {
      "text/plain": [
       "Index(['client_last_name', 'country', 'creation_date', 'manteca_nb',\n",
       "       'close_date', 'order_id', 'crema_nb', 'crema_total_price',\n",
       "       'accounting_item', 'latitude', 'balsamo_total_price', 'balsamo_nb',\n",
       "       'total_price', 'packHidra_total_price', 'client_gender',\n",
       "       'subtotal_price', 'balsamo_unit_price', 'packHidra_nb',\n",
       "       'product_movement', 'origin', 'total_tax', 'client_name',\n",
       "       'packHidra_unit_price', 'packContigo_total_price', 'order_status_url',\n",
       "       'longitude', 'packContigo_unit_price', 'manteca_total_price',\n",
       "       'manteca_unit_price', 'zip', 'client_email', 'province',\n",
       "       'packContigo_nb', 'crema_unit_price', 'gateway', 'id',\n",
       "       'packBandana_total_price', 'packAbanico_unit_price', 'bolsa_nb',\n",
       "       'packBandana_unit_price', 'client_phone', 'bolsa_total_price',\n",
       "       'client_adresse', 'city', 'packAbanico_nb', 'packNavidad_unit_price',\n",
       "       'bolsa_unit_price', 'packNavidad_nb', 'packNavidad_total_price',\n",
       "       'packAbanico_total_price', 'packBandana_nb', 'donation',\n",
       "       'buyer_accepts_marketing', 'taxes_included'],\n",
       "      dtype='object')"
      ]
     },
     "execution_count": 199,
     "metadata": {},
     "output_type": "execute_result"
    }
   ],
   "source": [
    "df_ventas.columns"
   ]
  },
  {
   "cell_type": "code",
   "execution_count": 200,
   "metadata": {},
   "outputs": [
    {
     "name": "stdout",
     "output_type": "stream",
     "text": [
      "54.0\n",
      "44.0\n"
     ]
    },
    {
     "data": {
      "image/png": "[encoded data removed]",
      "text/plain": [
       "<Figure size 432x288 with 1 Axes>"
      ]
     },
     "metadata": {
      "needs_background": "light"
     },
     "output_type": "display_data"
    }
   ],
   "source": [
    "thres = df_ventas['total_price'].quantile(0.99)\n",
    "sns.boxenplot(x=df_ventas[df_ventas['total_price']<thres]['total_price'])\n",
    "print(df_ventas['total_price'].quantile(0.90))\n",
    "print(df_ventas['total_price'].quantile(0.75))\n",
    "plt.show()"
   ]
  },
  {
   "cell_type": "code",
   "execution_count": 201,
   "metadata": {},
   "outputs": [
    {
     "data": {
      "text/plain": [
       "Text(0.5, 1.0, 'Histograma de precios/ingresos de los pedidos\\n (sin right_outliers)')"
      ]
     },
     "execution_count": 201,
     "metadata": {},
     "output_type": "execute_result"
    },
    {
     "data": {
      "image/png": "[encoded data removed]",
      "text/plain": [
       "<Figure size 1440x720 with 1 Axes>"
      ]
     },
     "metadata": {
      "needs_background": "light"
     },
     "output_type": "display_data"
    }
   ],
   "source": [
    "thres = df_ventas['total_price'].quantile(0.98)\n",
    "#total_price=df_ventas[df_ventas['total_price']<thres]['total_price']\n",
    "df_ventas[df_ventas['total_price']<40]['total_price'].hist(bins=np.arange(0,41,2),figsize=(20,10))\n",
    "df_ventas[df_ventas['total_price']>40]['total_price'].hist(bins=np.arange(40,80,2),figsize=(20,10))\n",
    "plt.xlabel('Precio/Ingreso del pedido',fontsize=19)\n",
    "plt.ylabel('Nº de pedidos',fontsize=19)\n",
    "plt.plot(40*np.ones(10),30*np.arange(10),color='r')\n",
    "plt.text(40,150,'+ de 40€ de pedido\\n -->\\n -->\\n -->',fontsize=16,color='r')\n",
    "plt.title('Histograma de precios/ingresos de los pedidos\\n (sin right_outliers)',fontsize=25)"
   ]
  },
  {
   "cell_type": "code",
   "execution_count": 207,
   "metadata": {},
   "outputs": [
    {
     "data": {
      "text/plain": [
       "0.67"
      ]
     },
     "execution_count": 207,
     "metadata": {},
     "output_type": "execute_result"
    }
   ],
   "source": [
    "thres=40\n",
    "len(df_ventas)\n",
    "menores = round(len(df_ventas[df_ventas['total_price']<thres]['total_price'])/len(df_ventas),2)\n",
    "menores"
   ]
  },
  {
   "cell_type": "code",
   "execution_count": 208,
   "metadata": {},
   "outputs": [
    {
     "data": {
      "text/plain": [
       "0.33"
      ]
     },
     "execution_count": 208,
     "metadata": {},
     "output_type": "execute_result"
    }
   ],
   "source": [
    "mayores = round(len(df_ventas[df_ventas['total_price']>=thres]['total_price'])/len(df_ventas),2)\n",
    "mayores"
   ]
  },
  {
   "cell_type": "code",
   "execution_count": 210,
   "metadata": {},
   "outputs": [
    {
     "data": {
      "image/png": "[encoded data removed]",
      "text/plain": [
       "<Figure size 432x288 with 1 Axes>"
      ]
     },
     "metadata": {},
     "output_type": "display_data"
    }
   ],
   "source": [
    "fig = plt.figure()\n",
    "ax = fig.add_axes([0,0,1,1])\n",
    "ax.axis('equal')\n",
    "langs = ['Pedidos <40€ (menores)', 'Pedidos >40€ (mayores)']\n",
    "students = [menores,mayores]\n",
    "ax.pie(students, labels = langs,autopct='%1.2f%%')\n",
    "title= '% de pedidos mayores de 40€\\n total nº pedidos: {}'.format(len(df_ventas))\n",
    "plt.title(title)\n",
    "plt.show()"
   ]
  },
  {
   "cell_type": "code",
   "execution_count": 213,
   "metadata": {},
   "outputs": [],
   "source": [
    "ventas_cols = df_ventas.columns"
   ]
  },
  {
   "cell_type": "code",
   "execution_count": 215,
   "metadata": {},
   "outputs": [],
   "source": [
    "nb = [col for col in ventas_cols if 'nb' in col]"
   ]
  },
  {
   "cell_type": "code",
   "execution_count": 223,
   "metadata": {},
   "outputs": [],
   "source": [
    "df_ventas.fillna(0.0,inplace=True)"
   ]
  },
  {
   "cell_type": "code",
   "execution_count": 225,
   "metadata": {},
   "outputs": [
    {
     "data": {
      "text/plain": [
       "0_cre||0_bal||0_mant||1_packH||0_packC||0.0_packN    300\n",
       "0_cre||0_bal||0_mant||0_packH||0_packC||2.0_packN     51\n",
       "0_cre||0_bal||1_mant||0_packH||0_packC||0.0_packN     51\n",
       "0_cre||0_bal||0_mant||3_packH||0_packC||0.0_packN     42\n",
       "0_cre||0_bal||0_mant||0_packH||0_packC||1.0_packN     37\n",
       "0_cre||0_bal||0_mant||2_packH||0_packC||0.0_packN     37\n",
       "0_cre||0_bal||2_mant||0_packH||0_packC||0.0_packN     23\n",
       "0_cre||0_bal||1_mant||2_packH||0_packC||0.0_packN     18\n",
       "0_cre||0_bal||3_mant||0_packH||0_packC||0.0_packN     15\n",
       "0_cre||0_bal||1_mant||1_packH||0_packC||0.0_packN     13\n",
       "0_cre||0_bal||0_mant||4_packH||0_packC||0.0_packN     11\n",
       "0_cre||0_bal||6_mant||0_packH||0_packC||0.0_packN     11\n",
       "0_cre||0_bal||0_mant||0_packH||0_packC||4.0_packN     10\n",
       "0_cre||0_bal||5_mant||0_packH||0_packC||0.0_packN     10\n",
       "0_cre||0_bal||0_mant||0_packH||0_packC||3.0_packN      8\n",
       "0_cre||1_bal||2_mant||0_packH||0_packC||0.0_packN      8\n",
       "1_cre||0_bal||0_mant||2_packH||0_packC||0.0_packN      7\n",
       "0_cre||1_bal||1_mant||0_packH||0_packC||0.0_packN      7\n",
       "0_cre||0_bal||0_mant||0_packH||1_packC||0.0_packN      6\n",
       "0_cre||0_bal||0_mant||0_packH||0_packC||0.0_packN      6\n",
       "dtype: int64"
      ]
     },
     "execution_count": 225,
     "metadata": {},
     "output_type": "execute_result"
    }
   ],
   "source": [
    "df_ventas.apply(lambda x:\n",
    "                ((str(x['crema_nb'])+'_cre||'\n",
    "                 )+(str(x['balsamo_nb'])+'_bal||'\n",
    "                 )+(str(x['manteca_nb'])+'_mant||'\n",
    "                 )+(str(x['packHidra_nb'])+'_packH||'\n",
    "                 )+(str(x['packContigo_nb'])+'_packC||'\n",
    "                 )+(str(x['packNavidad_nb'])+'_packN'\n",
    "                 )\n",
    "                 ),axis=1\n",
    "               ).value_counts()[0:20]"
   ]
  },
  {
   "cell_type": "code",
   "execution_count": 228,
   "metadata": {},
   "outputs": [
    {
     "data": {
      "text/plain": [
       "0      <function iva at 0x7f9c19b2c4c0>\n",
       "1      <function iva at 0x7f9c19b2c4c0>\n",
       "2      <function iva at 0x7f9c19b2c4c0>\n",
       "3      <function iva at 0x7f9c19b2c4c0>\n",
       "4      <function iva at 0x7f9c19b2c4c0>\n",
       "                     ...               \n",
       "841    <function iva at 0x7f9c19b2c4c0>\n",
       "842    <function iva at 0x7f9c19b2c4c0>\n",
       "843    <function iva at 0x7f9c19b2c4c0>\n",
       "844    <function iva at 0x7f9c19b2c4c0>\n",
       "845    <function iva at 0x7f9c19b2c4c0>\n",
       "Name: subtotal_price, Length: 846, dtype: object"
      ]
     },
     "execution_count": 228,
     "metadata": {},
     "output_type": "execute_result"
    }
   ],
   "source": [
    "df_ventas['subtotal_price']"
   ]
  },
  {
   "cell_type": "code",
   "execution_count": 233,
   "metadata": {},
   "outputs": [
    {
     "data": {
      "text/plain": [
       "Text(0, 0.5, 'precios')"
      ]
     },
     "execution_count": 233,
     "metadata": {},
     "output_type": "execute_result"
    },
    {
     "data": {
      "image/png": "[encoded data removed]",
      "text/plain": [
       "<Figure size 432x288 with 1 Axes>"
      ]
     },
     "metadata": {
      "needs_background": "light"
     },
     "output_type": "display_data"
    }
   ],
   "source": [
    "#precios y demanda gráficos\n",
    "demand_plot = df_ventas[df_ventas['subtotal_price']<100]['subtotal_price'].value_counts().reset_index()\n",
    "sns.scatterplot(x='subtotal_price',y='index',data=demand_plot)\n",
    "plt.xlabel('demanda')\n",
    "plt.ylabel('precios')"
   ]
  },
  {
   "cell_type": "markdown",
   "metadata": {},
   "source": [
    "## HOW MUCH MONEY DO WE LOOSE"
   ]
  },
  {
   "cell_type": "code",
   "execution_count": 234,
   "metadata": {},
   "outputs": [
    {
     "name": "stdout",
     "output_type": "stream",
     "text": [
      "90.0\n",
      "811\n"
     ]
    },
    {
     "data": {
      "text/plain": [
       "22545.8"
      ]
     },
     "execution_count": 234,
     "metadata": {},
     "output_type": "execute_result"
    }
   ],
   "source": [
    "thres = df_ventas['subtotal_price'].quantile(0.97)\n",
    "print(thres)\n",
    "total_price=df_ventas[df_ventas['subtotal_price']<thres]['subtotal_price']\n",
    "print(len(total_price))\n",
    "total_revenue=total_price.sum()\n",
    "total_revenue"
   ]
  },
  {
   "cell_type": "code",
   "execution_count": 235,
   "metadata": {},
   "outputs": [
    {
     "data": {
      "text/plain": [
       "1127.29"
      ]
     },
     "execution_count": 235,
     "metadata": {},
     "output_type": "execute_result"
    }
   ],
   "source": [
    "thres=40\n",
    "lost_transport=5.56*0.25*len(total_price)\n",
    "lost_transport"
   ]
  },
  {
   "cell_type": "code",
   "execution_count": 236,
   "metadata": {},
   "outputs": [
    {
     "data": {
      "text/plain": [
       "Text(0, 0.5, '€')"
      ]
     },
     "execution_count": 236,
     "metadata": {},
     "output_type": "execute_result"
    },
    {
     "data": {
      "image/png": "[encoded data removed]",
      "text/plain": [
       "<Figure size 432x288 with 1 Axes>"
      ]
     },
     "metadata": {
      "needs_background": "light"
     },
     "output_type": "display_data"
    }
   ],
   "source": [
    "labels=['total_revenue\\n{}€'.format(round(total_revenue,2)),\n",
    "        'lost_transport\\n{}€'.format(round(lost_transport,2))\n",
    "                                  ]\n",
    "bar_to_plot = pd.DataFrame({'lab':labels,\n",
    "                            'val':[total_revenue,lost_transport]})\n",
    "ax = bar_to_plot.plot(x='lab', y='val', kind='bar')\n",
    "ax.get_legend().remove()\n",
    "ax.set_title(\n",
    "    'Las pérdidas por transporte representan un:\\n {}% de las ventas'.format(\n",
    "                            round(100*(lost_transport/total_revenue),2)),\n",
    "    fontsize=15\n",
    "        )\n",
    "ax.set_xlabel('')\n",
    "plt.xticks(fontsize=14)\n",
    "ax.set_ylabel('€',fontsize=14)"
   ]
  },
  {
   "cell_type": "markdown",
   "metadata": {},
   "source": [
    "### comisiones financieras"
   ]
  },
  {
   "cell_type": "code",
   "execution_count": 237,
   "metadata": {},
   "outputs": [],
   "source": [
    "def comisiones(x):\n",
    "    gateway = x['gateway']\n",
    "    if gateway== 'shopify_payments':\n",
    "        return x['total_price']*0.021+0.25\n",
    "    elif gateway== 'paypal':\n",
    "        return x['total_price']*0.019+0.35\n",
    "    else:\n",
    "        print('error')\n",
    "        print(gateway)\n",
    "    return 0"
   ]
  },
  {
   "cell_type": "code",
   "execution_count": 238,
   "metadata": {},
   "outputs": [
    {
     "data": {
      "text/plain": [
       "814.9623300000001"
      ]
     },
     "execution_count": 238,
     "metadata": {},
     "output_type": "execute_result"
    }
   ],
   "source": [
    "#comisiones\n",
    "df_ventas_shop = df_ventas[\n",
    "                           #(df_ventas['origin'] != 'Contoan') &\n",
    "                           #(df_ventas['gateway'] != 'shopify_payments')]\n",
    "                           #(df_ventas['gateway'] != 'paypal')]\n",
    "                          (df_ventas['origin'] != 'Contoan')]\n",
    "total_comisiones=df_ventas_shop.apply(lambda x: comisiones(x),axis=1).sum()\n",
    "total_comisiones"
   ]
  },
  {
   "cell_type": "code",
   "execution_count": 239,
   "metadata": {},
   "outputs": [
    {
     "data": {
      "text/plain": [
       "26214.3"
      ]
     },
     "execution_count": 239,
     "metadata": {},
     "output_type": "execute_result"
    }
   ],
   "source": [
    "total_sin_trans = df_ventas_shop['subtotal_price'].sum()\n",
    "total_sin_trans"
   ]
  },
  {
   "cell_type": "code",
   "execution_count": 240,
   "metadata": {},
   "outputs": [
    {
     "data": {
      "text/plain": [
       "3.1088464311463593"
      ]
     },
     "execution_count": 240,
     "metadata": {},
     "output_type": "execute_result"
    }
   ],
   "source": [
    "100*total_comisiones/total_sin_trans"
   ]
  },
  {
   "cell_type": "code",
   "execution_count": 241,
   "metadata": {},
   "outputs": [
    {
     "data": {
      "text/plain": [
       "Text(0, 0.5, '€')"
      ]
     },
     "execution_count": 241,
     "metadata": {},
     "output_type": "execute_result"
    },
    {
     "data": {
      "image/png": "[encoded data removed]",
      "text/plain": [
       "<Figure size 432x288 with 1 Axes>"
      ]
     },
     "metadata": {
      "needs_background": "light"
     },
     "output_type": "display_data"
    }
   ],
   "source": [
    "labels=['ingresos\\n{}€'.format(round(total_sin_trans,2)),\n",
    "        'comisiones\\n{}€'.format(round(total_comisiones,2))\n",
    "                                  ]\n",
    "bar_to_plot = pd.DataFrame({'lab':labels,\n",
    "                            'val':[total_sin_trans,total_comisiones]})\n",
    "ax = bar_to_plot.plot(x='lab', y='val', kind='bar')\n",
    "ax.get_legend().remove()\n",
    "ax.set_title(\n",
    "    'Las pérdidas por comisiones financieras representan un:\\n {}% de las ventas'.format(\n",
    "                            round(100*total_comisiones/total_sin_trans,2)),\n",
    "    fontsize=15\n",
    "        )\n",
    "ax.set_xlabel('')\n",
    "plt.xticks(fontsize=14)\n",
    "ax.set_ylabel('€',fontsize=14)"
   ]
  },
  {
   "cell_type": "markdown",
   "metadata": {},
   "source": [
    "Etiquetas (x2)\t\t0.13 €\n",
    "Envase+envasado+materia prima\t\t1.16 €\n",
    "Cajas\t\t0.32 €"
   ]
  },
  {
   "cell_type": "code",
   "execution_count": 242,
   "metadata": {},
   "outputs": [
    {
     "data": {
      "text/plain": [
       "<matplotlib.legend.Legend at 0x7fcd88b630a0>"
      ]
     },
     "execution_count": 242,
     "metadata": {},
     "output_type": "execute_result"
    },
    {
     "data": {
      "image/png": "[encoded data removed]",
      "text/plain": [
       "<Figure size 432x288 with 1 Axes>"
      ]
     },
     "metadata": {
      "needs_background": "light"
     },
     "output_type": "display_data"
    }
   ],
   "source": [
    "#MANTECAS\n",
    "fig = plt.figure()\n",
    "ax = fig.add_axes((1,1,1,1))\n",
    "precio=8\n",
    "width=0.1\n",
    "#comisiones\n",
    "p1 = ax.barh([1],[precio],width,label='precio: {}'.format(precio))\n",
    "\n",
    "#IVA\n",
    "iva=round(precio*(1-1/1.21),2)\n",
    "p2 = ax.barh([1],[iva],width,left=0,label='iva: {}'.format(iva))\n",
    "\n",
    "#ENVASADO\n",
    "envasado=1.16\n",
    "left=iva\n",
    "p3 = ax.barh([1],[envasado],width,left=left,label='envasado: {}'.format(envasado))\n",
    "\n",
    "\n",
    "#COSTE MANTECA\n",
    "manteca=0.58\n",
    "left=left+envasado\n",
    "p3 = ax.barh([1],[manteca],width,left=left,label='manteca: {}'.format(manteca))\n",
    "\n",
    "\n",
    "#transporte gratuito y pedidos fuera de madrid\n",
    "transporte=round(precio*0.0586+0.06,2)\n",
    "left=left+manteca\n",
    "p4 = ax.barh([1],[transporte],width,left=left,label='transporte: {}'.format(transporte))\n",
    "\n",
    "#cajas\n",
    "cajas=0.32\n",
    "left=left+transporte\n",
    "p6 = ax.barh([1],[cajas],width,left=left,label='cajas: {}'.format(cajas))\n",
    "\n",
    "#comisiones\n",
    "comisiones=round(precio*0.033,2)\n",
    "left=left+cajas\n",
    "p5 = ax.barh([1],[comisiones],width,left=left,label='comisiones: {}'.format(comisiones))\n",
    "\n",
    "#etiquetas\n",
    "etiquetas=0.13\n",
    "left=left+comisiones\n",
    "p7 = ax.barh([1],[etiquetas],width,left=left,label='etiquetas: {}'.format(etiquetas))\n",
    "\n",
    "#margen\n",
    "left=left+etiquetas\n",
    "margen=precio-left\n",
    "p8 = ax.barh([0.8],[margen],width,left=left,label='margen: {}'.format(margen))\n",
    "\n",
    "costes_pack1=etiquetas+envasado+manteca\n",
    "\n",
    "perc_margen = round(100*margen/precio,2)\n",
    "\n",
    "text='MARGENES\\nMANTECA DE KARITE\\n{}% (8) = {}€'.format(perc_margen,margen)\n",
    "plt.text(1,1.4,text,fontsize=14)\n",
    "\n",
    "plt.ylim(0.6,1.6)\n",
    "ax.set_yticks([])\n",
    "ax.spines['left'].set_color('none')\n",
    "ax.spines['right'].set_color('none')\n",
    "ax.spines['top'].set_color('none')\n",
    "plt.legend()"
   ]
  },
  {
   "cell_type": "code",
   "execution_count": 243,
   "metadata": {},
   "outputs": [
    {
     "data": {
      "text/plain": [
       "<matplotlib.legend.Legend at 0x7fcd889b3850>"
      ]
     },
     "execution_count": 243,
     "metadata": {},
     "output_type": "execute_result"
    },
    {
     "data": {
      "image/png": "[encoded data removed]",
      "text/plain": [
       "<Figure size 432x288 with 1 Axes>"
      ]
     },
     "metadata": {
      "needs_background": "light"
     },
     "output_type": "display_data"
    }
   ],
   "source": [
    "#CREMAS\n",
    "fig = plt.figure()\n",
    "ax = fig.add_axes((1,1,1,1))\n",
    "precio=6\n",
    "width=0.1\n",
    "#comisiones\n",
    "p1 = ax.barh([1],[precio],width,label='precio: {}'.format(precio))\n",
    "\n",
    "#IVA\n",
    "iva=round(precio*(1-1/1.21),2)\n",
    "p2 = ax.barh([1],[iva],width,left=0,label='iva: {}'.format(iva))\n",
    "\n",
    "#ENVASADO\n",
    "envasado=2.27\n",
    "left=iva\n",
    "p3 = ax.barh([1],[envasado],width,left=left,label='envasado: {}'.format(envasado))\n",
    "env2=envasado\n",
    "\n",
    "\n",
    "#transporte gratuito y pedidos fuera de madrid\n",
    "transporte=round(precio*0.0586+0.06,2)\n",
    "left=left+envasado\n",
    "p4 = ax.barh([1],[transporte],width,left=left,label='transporte: {}'.format(transporte))\n",
    "\n",
    "#cajas\n",
    "cajas=0.32\n",
    "left=left+transporte\n",
    "p6 = ax.barh([1],[cajas],width,left=left,label='cajas: {}'.format(cajas))\n",
    "\n",
    "#comisiones\n",
    "comisiones=round(precio*0.033,2)\n",
    "left=left+cajas\n",
    "p5 = ax.barh([1],[comisiones],width,left=left,label='comisiones: {}'.format(comisiones))\n",
    "\n",
    "#COSTE MANTECA\n",
    "manteca=0.05\n",
    "left=left+comisiones\n",
    "p3 = ax.barh([1],[manteca],width,left=left,label='manteca: {}'.format(manteca))\n",
    "\n",
    "#margen\n",
    "left=left+manteca\n",
    "margen=round(precio-left,2)\n",
    "p8 = ax.barh([0.8],[margen],width,left=left,label='margen: {}'.format(margen))\n",
    "\n",
    "costes_pack2=envasado+manteca\n",
    "\n",
    "perc_margen = round(100*margen/precio,2)\n",
    "\n",
    "text='MARGENES\\nCREMA DE MANOS\\n{}% (6) = {}€'.format(perc_margen,margen)\n",
    "plt.text(1,1.4,text,fontsize=14)\n",
    "\n",
    "plt.ylim(0.6,1.6)\n",
    "ax.set_yticks([])\n",
    "ax.spines['left'].set_color('none')\n",
    "ax.spines['right'].set_color('none')\n",
    "ax.spines['top'].set_color('none')\n",
    "plt.legend()"
   ]
  },
  {
   "cell_type": "code",
   "execution_count": 245,
   "metadata": {},
   "outputs": [
    {
     "data": {
      "text/plain": [
       "<matplotlib.legend.Legend at 0x7fcd8882f790>"
      ]
     },
     "execution_count": 245,
     "metadata": {},
     "output_type": "execute_result"
    },
    {
     "data": {
      "image/png": "[encoded data removed]",
      "text/plain": [
       "<Figure size 432x288 with 1 Axes>"
      ]
     },
     "metadata": {
      "needs_background": "light"
     },
     "output_type": "display_data"
    }
   ],
   "source": [
    "#BALSAMOS\n",
    "fig = plt.figure()\n",
    "ax = fig.add_axes((1,1,1,1))\n",
    "precio=4\n",
    "width=0.1\n",
    "#comisiones\n",
    "p1 = ax.barh([1],[precio],width,label='precio: {}'.format(precio))\n",
    "\n",
    "#IVA\n",
    "iva=round(precio*(1-1/1.21),2)\n",
    "p2 = ax.barh([1],[iva],width,left=0,label='iva: {}'.format(iva))\n",
    "\n",
    "#ENVASADO\n",
    "envasado=1.12\n",
    "left=iva\n",
    "p3 = ax.barh([1],[envasado],width,left=left,label='envasado: {}'.format(envasado))\n",
    "env3=envasado\n",
    "\n",
    "\n",
    "#transporte gratuito y pedidos fuera de madrid\n",
    "transporte=round(precio*0.0586+0.06,2)\n",
    "left=left+envasado\n",
    "p4 = ax.barh([1],[transporte],width,left=left,label='transporte: {}'.format(transporte))\n",
    "\n",
    "#cajas\n",
    "cajas=0.32\n",
    "left=left+transporte\n",
    "p6 = ax.barh([1],[cajas],width,left=left,label='cajas: {}'.format(cajas))\n",
    "\n",
    "#comisiones\n",
    "comisiones=round(precio*0.033,2)\n",
    "left=left+cajas\n",
    "p5 = ax.barh([1],[comisiones],width,left=left,label='comisiones: {}'.format(comisiones))\n",
    "\n",
    "#etiquetas\n",
    "etiquetas=0.1\n",
    "left=left+comisiones\n",
    "p7 = ax.barh([1],[etiquetas],width,left=left,label='etiquetas: {}'.format(etiquetas))\n",
    "\n",
    "#COSTE MANTECA\n",
    "manteca=0.05\n",
    "left=left+etiquetas\n",
    "p3 = ax.barh([1],[manteca],width,left=left,label='manteca: {}'.format(manteca))\n",
    "\n",
    "#margen\n",
    "left=left+manteca\n",
    "margen=round(precio-left,2)\n",
    "p8 = ax.barh([0.8],[margen],width,left=left,label='margen: {}'.format(margen))\n",
    "\n",
    "costes_pack3=etiquetas+envasado+manteca\n",
    "\n",
    "perc_margen = round(100*margen/precio,2)\n",
    "\n",
    "text='MARGENES\\nBALSAMO\\n{}% (6) = {}€'.format(perc_margen,margen)\n",
    "plt.text(1,1.4,text,fontsize=14)\n",
    "\n",
    "plt.ylim(0.6,1.6)\n",
    "ax.set_yticks([])\n",
    "ax.spines['left'].set_color('none')\n",
    "ax.spines['right'].set_color('none')\n",
    "ax.spines['top'].set_color('none')\n",
    "plt.legend()"
   ]
  },
  {
   "cell_type": "code",
   "execution_count": 246,
   "metadata": {},
   "outputs": [
    {
     "data": {
      "text/plain": [
       "<matplotlib.legend.Legend at 0x7fcd88a6cd00>"
      ]
     },
     "execution_count": 246,
     "metadata": {},
     "output_type": "execute_result"
    },
    {
     "data": {
      "image/png": "[encoded data removed]",
      "text/plain": [
       "<Figure size 432x288 with 1 Axes>"
      ]
     },
     "metadata": {
      "needs_background": "light"
     },
     "output_type": "display_data"
    }
   ],
   "source": [
    "#PACK + HIDRATADA\n",
    "fig = plt.figure()\n",
    "ax = fig.add_axes((1,1,1,1))\n",
    "precio=17\n",
    "width=0.1\n",
    "#precio\n",
    "p1 = ax.barh([1],[precio],width,label='precio: {}'.format(precio))\n",
    "\n",
    "#IVA\n",
    "iva=round(precio*(1-1/1.21),2)\n",
    "p2 = ax.barh([1],[iva],width,left=0,label='iva: {}'.format(iva))\n",
    "\n",
    "#ENVASADO Y MANTECA\n",
    "costes_pack=costes_pack1+costes_pack2+costes_pack3\n",
    "left=iva\n",
    "p3 = ax.barh([1],[costes_pack],width,left=left,label='costes_pack: {}'.format(costes_pack))\n",
    "\n",
    "\n",
    "#transporte gratuito y pedidos fuera de madrid\n",
    "transporte=round(precio*0.0586+0.06,2)\n",
    "left=left+costes_pack\n",
    "p4 = ax.barh([1],[transporte],width,left=left,label='transporte: {}'.format(transporte))\n",
    "\n",
    "#cajas\n",
    "cajas=0.32\n",
    "left=left+transporte\n",
    "p6 = ax.barh([1],[cajas],width,left=left,label='cajas: {}'.format(cajas))\n",
    "\n",
    "#comisiones\n",
    "comisiones=round(precio*0.033,2)\n",
    "left=left+cajas\n",
    "p5 = ax.barh([1],[comisiones],width,left=left,label='comisiones: {}'.format(comisiones))\n",
    "\n",
    "#margen\n",
    "left=left+comisiones\n",
    "margen=round(precio-left,2)\n",
    "p8 = ax.barh([0.8],[margen],width,left=left,label='margen: {}'.format(margen))\n",
    "\n",
    "costes_pack3=etiquetas+envasado+manteca\n",
    "\n",
    "perc_margen = round(100*margen/precio,2)\n",
    "\n",
    "text='MARGENES\\nPACK\\n{}% (6) = {}€'.format(perc_margen,margen)\n",
    "plt.text(1,1.4,text,fontsize=14)\n",
    "\n",
    "plt.ylim(0.6,1.6)\n",
    "ax.set_yticks([])\n",
    "ax.spines['left'].set_color('none')\n",
    "ax.spines['right'].set_color('none')\n",
    "ax.spines['top'].set_color('none')\n",
    "plt.legend()"
   ]
  },
  {
   "cell_type": "code",
   "execution_count": 248,
   "metadata": {},
   "outputs": [
    {
     "data": {
      "text/plain": [
       "<matplotlib.legend.Legend at 0x7fcd82663bb0>"
      ]
     },
     "execution_count": 248,
     "metadata": {},
     "output_type": "execute_result"
    },
    {
     "data": {
      "image/png": "[encoded data removed]",
      "text/plain": [
       "<Figure size 432x288 with 1 Axes>"
      ]
     },
     "metadata": {
      "needs_background": "light"
     },
     "output_type": "display_data"
    }
   ],
   "source": [
    "#PACK + HIDRATADA\n",
    "fig = plt.figure()\n",
    "ax = fig.add_axes((1,1,1,1))\n",
    "precio=22.5\n",
    "width=0.1\n",
    "#precio\n",
    "p1 = ax.barh([1],[precio],width,label='precio: {}'.format(precio))\n",
    "\n",
    "#IVA\n",
    "iva=round(precio*(1-1/1.21),2)\n",
    "p2 = ax.barh([1],[iva],width,left=0,label='iva: {}'.format(iva))\n",
    "\n",
    "#ENVASADO Y MANTECA\n",
    "costes_pack=costes_pack1+costes_pack2+costes_pack3\n",
    "left=iva\n",
    "p3 = ax.barh([1],[costes_pack],width,left=left,label='costes_pack: {}'.format(costes_pack))\n",
    "\n",
    "\n",
    "#transporte gratuito y pedidos fuera de madrid\n",
    "transporte=round(precio*0.0586+0.06,2)\n",
    "left=left+costes_pack\n",
    "p4 = ax.barh([1],[transporte],width,left=left,label='transporte: {}'.format(transporte))\n",
    "\n",
    "#cajas\n",
    "cajas=0.32\n",
    "left=left+transporte\n",
    "p6 = ax.barh([1],[cajas],width,left=left,label='cajas: {}'.format(cajas))\n",
    "\n",
    "#comisiones\n",
    "comisiones=round(precio*0.033,2)\n",
    "left=left+cajas\n",
    "p5 = ax.barh([1],[comisiones],width,left=left,label='comisiones: {}'.format(comisiones))\n",
    "\n",
    "#margen\n",
    "left=left+comisiones\n",
    "margen=round(precio-left,2)\n",
    "p8 = ax.barh([0.8],[margen],width,left=left,label='margen: {}'.format(margen))\n",
    "\n",
    "costes_pack3=etiquetas+envasado+manteca\n",
    "\n",
    "perc_margen = round(100*margen/precio,2)\n",
    "\n",
    "text='MARGENES\\nPACK MAVIDAD\\n{}% (6) = {}€'.format(perc_margen,margen)\n",
    "plt.text(1,1.4,text,fontsize=14)\n",
    "\n",
    "plt.ylim(0.6,1.6)\n",
    "ax.set_yticks([])\n",
    "ax.spines['left'].set_color('none')\n",
    "ax.spines['right'].set_color('none')\n",
    "ax.spines['top'].set_color('none')\n",
    "plt.legend()"
   ]
  },
  {
   "cell_type": "code",
   "execution_count": 249,
   "metadata": {},
   "outputs": [
    {
     "name": "stdout",
     "output_type": "stream",
     "text": [
      "635\n"
     ]
    },
    {
     "data": {
      "text/plain": [
       "0_cre||0_bal||0_mant||1_packH||0_packC    0.474016\n",
       "0_cre||0_bal||0_mant||0_packH||0_packC    0.190551\n",
       "0_cre||0_bal||1_mant||0_packH||0_packC    0.081890\n",
       "0_cre||0_bal||0_mant||3_packH||0_packC    0.066142\n",
       "0_cre||0_bal||0_mant||2_packH||0_packC    0.061417\n",
       "0_cre||0_bal||2_mant||0_packH||0_packC    0.036220\n",
       "0_cre||0_bal||1_mant||2_packH||0_packC    0.028346\n",
       "0_cre||0_bal||3_mant||0_packH||0_packC    0.023622\n",
       "0_cre||0_bal||1_mant||1_packH||0_packC    0.020472\n",
       "0_cre||0_bal||6_mant||0_packH||0_packC    0.017323\n",
       "dtype: float64"
      ]
     },
     "execution_count": 249,
     "metadata": {},
     "output_type": "execute_result"
    }
   ],
   "source": [
    "total=df_ventas.apply(lambda x:\n",
    "                ((str(x['crema_nb'])+'_cre||'\n",
    "                 )+(str(x['balsamo_nb'])+'_bal||'\n",
    "                 )+(str(x['manteca_nb'])+'_mant||'\n",
    "                 )+(str(x['packHidra_nb'])+'_packH||'\n",
    "                 )+(str(x['packContigo_nb'])+'_packC'\n",
    "                 )\n",
    "                 ),axis=1\n",
    "               ).value_counts()[0:10].sum()\n",
    "print(total)\n",
    "sales_dist=df_ventas.apply(lambda x:\n",
    "                ((str(x['crema_nb'])+'_cre||'\n",
    "                 )+(str(x['balsamo_nb'])+'_bal||'\n",
    "                 )+(str(x['manteca_nb'])+'_mant||'\n",
    "                 )+(str(x['packHidra_nb'])+'_packH||'\n",
    "                 )+(str(x['packContigo_nb'])+'_packC'\n",
    "                 )\n",
    "                 ),axis=1\n",
    "               ).value_counts()[0:10]/total\n",
    "sales_dist"
   ]
  },
  {
   "cell_type": "markdown",
   "metadata": {},
   "source": [
    "MANTECA: 45.4%\n",
    "CREMA: 28.5%\n",
    "BALSAMO: 32.5%\n",
    "PACK: 39.1%"
   ]
  },
  {
   "cell_type": "code",
   "execution_count": 134,
   "metadata": {},
   "outputs": [
    {
     "data": {
      "text/html": [
       "<div>\n",
       "<style scoped>\n",
       "    .dataframe tbody tr th:only-of-type {\n",
       "        vertical-align: middle;\n",
       "    }\n",
       "\n",
       "    .dataframe tbody tr th {\n",
       "        vertical-align: top;\n",
       "    }\n",
       "\n",
       "    .dataframe thead th {\n",
       "        text-align: right;\n",
       "    }\n",
       "</style>\n",
       "<table border=\"1\" class=\"dataframe\">\n",
       "  <thead>\n",
       "    <tr style=\"text-align: right;\">\n",
       "      <th></th>\n",
       "      <th>ventas mas comunes</th>\n",
       "      <th>mantecas</th>\n",
       "      <th>packs</th>\n",
       "      <th>% recurrencia</th>\n",
       "      <th>margenes</th>\n",
       "    </tr>\n",
       "  </thead>\n",
       "  <tbody>\n",
       "    <tr>\n",
       "      <th>0</th>\n",
       "      <td>1pack</td>\n",
       "      <td>0</td>\n",
       "      <td>1</td>\n",
       "      <td>0.593684</td>\n",
       "      <td>0.3910</td>\n",
       "    </tr>\n",
       "    <tr>\n",
       "      <th>1</th>\n",
       "      <td>1manteca</td>\n",
       "      <td>1</td>\n",
       "      <td>0</td>\n",
       "      <td>0.090526</td>\n",
       "      <td>0.4540</td>\n",
       "    </tr>\n",
       "    <tr>\n",
       "      <th>2</th>\n",
       "      <td>3packs</td>\n",
       "      <td>0</td>\n",
       "      <td>3</td>\n",
       "      <td>0.080000</td>\n",
       "      <td>0.3910</td>\n",
       "    </tr>\n",
       "    <tr>\n",
       "      <th>3</th>\n",
       "      <td>2packs</td>\n",
       "      <td>0</td>\n",
       "      <td>2</td>\n",
       "      <td>0.069474</td>\n",
       "      <td>0.3910</td>\n",
       "    </tr>\n",
       "    <tr>\n",
       "      <th>4</th>\n",
       "      <td>2mantecas</td>\n",
       "      <td>2</td>\n",
       "      <td>0</td>\n",
       "      <td>0.037895</td>\n",
       "      <td>0.4540</td>\n",
       "    </tr>\n",
       "    <tr>\n",
       "      <th>5</th>\n",
       "      <td>1mateca_2packs</td>\n",
       "      <td>1</td>\n",
       "      <td>2</td>\n",
       "      <td>0.035789</td>\n",
       "      <td>0.4120</td>\n",
       "    </tr>\n",
       "    <tr>\n",
       "      <th>6</th>\n",
       "      <td>1mateca_1packs</td>\n",
       "      <td>1</td>\n",
       "      <td>1</td>\n",
       "      <td>0.027368</td>\n",
       "      <td>0.4225</td>\n",
       "    </tr>\n",
       "    <tr>\n",
       "      <th>7</th>\n",
       "      <td>3matecas</td>\n",
       "      <td>3</td>\n",
       "      <td>0</td>\n",
       "      <td>0.025263</td>\n",
       "      <td>0.4540</td>\n",
       "    </tr>\n",
       "    <tr>\n",
       "      <th>8</th>\n",
       "      <td>5matecas</td>\n",
       "      <td>5</td>\n",
       "      <td>0</td>\n",
       "      <td>0.021053</td>\n",
       "      <td>0.4540</td>\n",
       "    </tr>\n",
       "    <tr>\n",
       "      <th>9</th>\n",
       "      <td>4packs</td>\n",
       "      <td>0</td>\n",
       "      <td>4</td>\n",
       "      <td>0.018947</td>\n",
       "      <td>0.3910</td>\n",
       "    </tr>\n",
       "  </tbody>\n",
       "</table>\n",
       "</div>"
      ],
      "text/plain": [
       "  ventas mas comunes  mantecas  packs  % recurrencia  margenes\n",
       "0              1pack         0      1       0.593684    0.3910\n",
       "1           1manteca         1      0       0.090526    0.4540\n",
       "2             3packs         0      3       0.080000    0.3910\n",
       "3             2packs         0      2       0.069474    0.3910\n",
       "4          2mantecas         2      0       0.037895    0.4540\n",
       "5     1mateca_2packs         1      2       0.035789    0.4120\n",
       "6     1mateca_1packs         1      1       0.027368    0.4225\n",
       "7           3matecas         3      0       0.025263    0.4540\n",
       "8           5matecas         5      0       0.021053    0.4540\n",
       "9             4packs         0      4       0.018947    0.3910"
      ]
     },
     "execution_count": 134,
     "metadata": {},
     "output_type": "execute_result"
    }
   ],
   "source": [
    "labels = ['1pack','1manteca','3packs','2packs','2mantecas','1mateca_2packs','1mateca_1packs',\n",
    "         '3matecas','5matecas','4packs']\n",
    "\n",
    "marg = [0.391,0.454,0.391,0.391,0.454,0.412,0.4225,0.454,0.454,0.391] \n",
    "\n",
    "mantecas = [0,1,0,0,2,1,1,3,5,0]\n",
    "packs = [1,0,3,2,0,2,1,0,0,4]\n",
    "\n",
    "margenes = pd.DataFrame({'ventas mas comunes':labels,\n",
    "                         'mantecas':mantecas,\n",
    "                         'packs':packs,\n",
    "                         '% recurrencia':sales_dist,\n",
    "                         'margenes':marg}).reset_index(drop=True)\n",
    "margenes"
   ]
  },
  {
   "cell_type": "code",
   "execution_count": 135,
   "metadata": {},
   "outputs": [],
   "source": [
    "margenes['precio']=margenes['mantecas']*10+margenes['packs']*18"
   ]
  },
  {
   "cell_type": "code",
   "execution_count": 136,
   "metadata": {},
   "outputs": [
    {
     "data": {
      "text/plain": [
       "0.40362210526315795"
      ]
     },
     "execution_count": 136,
     "metadata": {},
     "output_type": "execute_result"
    }
   ],
   "source": [
    "(margenes['margenes']*margenes['% recurrencia']).sum()/margenes['% recurrencia'].sum()"
   ]
  },
  {
   "cell_type": "markdown",
   "metadata": {},
   "source": [
    "# OBJETIVO DE VENTAS"
   ]
  },
  {
   "cell_type": "code",
   "execution_count": 137,
   "metadata": {},
   "outputs": [
    {
     "data": {
      "text/plain": [
       "1486.5389981770336"
      ]
     },
     "execution_count": 137,
     "metadata": {},
     "output_type": "execute_result"
    }
   ],
   "source": [
    "# COSTES FIJOS EN NIKKI 600€\n",
    "600/0.40362210526315795"
   ]
  },
  {
   "cell_type": "code",
   "execution_count": 250,
   "metadata": {},
   "outputs": [
    {
     "data": {
      "text/plain": [
       "17832"
      ]
     },
     "execution_count": 250,
     "metadata": {},
     "output_type": "execute_result"
    }
   ],
   "source": [
    "1486*12"
   ]
  },
  {
   "cell_type": "code",
   "execution_count": 138,
   "metadata": {},
   "outputs": [],
   "source": [
    "margenes['ventas']=margenes['% recurrencia']*1500"
   ]
  },
  {
   "cell_type": "code",
   "execution_count": 139,
   "metadata": {},
   "outputs": [],
   "source": [
    "margenes['beneficios']=margenes['ventas']*margenes['margenes']"
   ]
  },
  {
   "cell_type": "code",
   "execution_count": 140,
   "metadata": {},
   "outputs": [],
   "source": [
    "margenes['packs_total'] = margenes['packs']*margenes['ventas']/(margenes['precio'])"
   ]
  },
  {
   "cell_type": "code",
   "execution_count": 141,
   "metadata": {},
   "outputs": [],
   "source": [
    "margenes['mantecas_total'] =margenes['mantecas']*margenes['ventas']/(margenes['precio'])"
   ]
  },
  {
   "cell_type": "code",
   "execution_count": 142,
   "metadata": {},
   "outputs": [],
   "source": [
    "margenes=margenes.replace(np.nan,0)"
   ]
  },
  {
   "cell_type": "code",
   "execution_count": 143,
   "metadata": {},
   "outputs": [],
   "source": [
    "margenes['mantecas_total'] = margenes['mantecas_total']\n",
    "margenes['packs_total'] = margenes['packs_total']"
   ]
  },
  {
   "cell_type": "code",
   "execution_count": 144,
   "metadata": {},
   "outputs": [],
   "source": [
    "margenes['% recurrencia']=margenes['% recurrencia'].apply(lambda x:str(round(100*x,2))+'%')"
   ]
  },
  {
   "cell_type": "code",
   "execution_count": 145,
   "metadata": {},
   "outputs": [
    {
     "data": {
      "text/html": [
       "<div>\n",
       "<style scoped>\n",
       "    .dataframe tbody tr th:only-of-type {\n",
       "        vertical-align: middle;\n",
       "    }\n",
       "\n",
       "    .dataframe tbody tr th {\n",
       "        vertical-align: top;\n",
       "    }\n",
       "\n",
       "    .dataframe thead th {\n",
       "        text-align: right;\n",
       "    }\n",
       "</style>\n",
       "<table border=\"1\" class=\"dataframe\">\n",
       "  <thead>\n",
       "    <tr style=\"text-align: right;\">\n",
       "      <th></th>\n",
       "      <th>ventas mas comunes</th>\n",
       "      <th>mantecas</th>\n",
       "      <th>packs</th>\n",
       "      <th>% recurrencia</th>\n",
       "      <th>margenes</th>\n",
       "      <th>precio</th>\n",
       "      <th>ventas</th>\n",
       "      <th>beneficios</th>\n",
       "      <th>packs_total</th>\n",
       "      <th>mantecas_total</th>\n",
       "    </tr>\n",
       "  </thead>\n",
       "  <tbody>\n",
       "    <tr>\n",
       "      <th>0</th>\n",
       "      <td>1pack</td>\n",
       "      <td>0</td>\n",
       "      <td>1</td>\n",
       "      <td>59.37%</td>\n",
       "      <td>0.3910</td>\n",
       "      <td>18</td>\n",
       "      <td>890.526316</td>\n",
       "      <td>348.195789</td>\n",
       "      <td>49.473684</td>\n",
       "      <td>0.000000</td>\n",
       "    </tr>\n",
       "    <tr>\n",
       "      <th>1</th>\n",
       "      <td>1manteca</td>\n",
       "      <td>1</td>\n",
       "      <td>0</td>\n",
       "      <td>9.05%</td>\n",
       "      <td>0.4540</td>\n",
       "      <td>10</td>\n",
       "      <td>135.789474</td>\n",
       "      <td>61.648421</td>\n",
       "      <td>0.000000</td>\n",
       "      <td>13.578947</td>\n",
       "    </tr>\n",
       "    <tr>\n",
       "      <th>2</th>\n",
       "      <td>3packs</td>\n",
       "      <td>0</td>\n",
       "      <td>3</td>\n",
       "      <td>8.0%</td>\n",
       "      <td>0.3910</td>\n",
       "      <td>54</td>\n",
       "      <td>120.000000</td>\n",
       "      <td>46.920000</td>\n",
       "      <td>6.666667</td>\n",
       "      <td>0.000000</td>\n",
       "    </tr>\n",
       "    <tr>\n",
       "      <th>3</th>\n",
       "      <td>2packs</td>\n",
       "      <td>0</td>\n",
       "      <td>2</td>\n",
       "      <td>6.95%</td>\n",
       "      <td>0.3910</td>\n",
       "      <td>36</td>\n",
       "      <td>104.210526</td>\n",
       "      <td>40.746316</td>\n",
       "      <td>5.789474</td>\n",
       "      <td>0.000000</td>\n",
       "    </tr>\n",
       "    <tr>\n",
       "      <th>4</th>\n",
       "      <td>2mantecas</td>\n",
       "      <td>2</td>\n",
       "      <td>0</td>\n",
       "      <td>3.79%</td>\n",
       "      <td>0.4540</td>\n",
       "      <td>20</td>\n",
       "      <td>56.842105</td>\n",
       "      <td>25.806316</td>\n",
       "      <td>0.000000</td>\n",
       "      <td>5.684211</td>\n",
       "    </tr>\n",
       "    <tr>\n",
       "      <th>5</th>\n",
       "      <td>1mateca_2packs</td>\n",
       "      <td>1</td>\n",
       "      <td>2</td>\n",
       "      <td>3.58%</td>\n",
       "      <td>0.4120</td>\n",
       "      <td>46</td>\n",
       "      <td>53.684211</td>\n",
       "      <td>22.117895</td>\n",
       "      <td>2.334096</td>\n",
       "      <td>1.167048</td>\n",
       "    </tr>\n",
       "    <tr>\n",
       "      <th>6</th>\n",
       "      <td>1mateca_1packs</td>\n",
       "      <td>1</td>\n",
       "      <td>1</td>\n",
       "      <td>2.74%</td>\n",
       "      <td>0.4225</td>\n",
       "      <td>28</td>\n",
       "      <td>41.052632</td>\n",
       "      <td>17.344737</td>\n",
       "      <td>1.466165</td>\n",
       "      <td>1.466165</td>\n",
       "    </tr>\n",
       "    <tr>\n",
       "      <th>7</th>\n",
       "      <td>3matecas</td>\n",
       "      <td>3</td>\n",
       "      <td>0</td>\n",
       "      <td>2.53%</td>\n",
       "      <td>0.4540</td>\n",
       "      <td>30</td>\n",
       "      <td>37.894737</td>\n",
       "      <td>17.204211</td>\n",
       "      <td>0.000000</td>\n",
       "      <td>3.789474</td>\n",
       "    </tr>\n",
       "    <tr>\n",
       "      <th>8</th>\n",
       "      <td>5matecas</td>\n",
       "      <td>5</td>\n",
       "      <td>0</td>\n",
       "      <td>2.11%</td>\n",
       "      <td>0.4540</td>\n",
       "      <td>50</td>\n",
       "      <td>31.578947</td>\n",
       "      <td>14.336842</td>\n",
       "      <td>0.000000</td>\n",
       "      <td>3.157895</td>\n",
       "    </tr>\n",
       "    <tr>\n",
       "      <th>9</th>\n",
       "      <td>4packs</td>\n",
       "      <td>0</td>\n",
       "      <td>4</td>\n",
       "      <td>1.89%</td>\n",
       "      <td>0.3910</td>\n",
       "      <td>72</td>\n",
       "      <td>28.421053</td>\n",
       "      <td>11.112632</td>\n",
       "      <td>1.578947</td>\n",
       "      <td>0.000000</td>\n",
       "    </tr>\n",
       "  </tbody>\n",
       "</table>\n",
       "</div>"
      ],
      "text/plain": [
       "  ventas mas comunes  mantecas  packs % recurrencia  margenes  precio  \\\n",
       "0              1pack         0      1        59.37%    0.3910      18   \n",
       "1           1manteca         1      0         9.05%    0.4540      10   \n",
       "2             3packs         0      3          8.0%    0.3910      54   \n",
       "3             2packs         0      2         6.95%    0.3910      36   \n",
       "4          2mantecas         2      0         3.79%    0.4540      20   \n",
       "5     1mateca_2packs         1      2         3.58%    0.4120      46   \n",
       "6     1mateca_1packs         1      1         2.74%    0.4225      28   \n",
       "7           3matecas         3      0         2.53%    0.4540      30   \n",
       "8           5matecas         5      0         2.11%    0.4540      50   \n",
       "9             4packs         0      4         1.89%    0.3910      72   \n",
       "\n",
       "       ventas  beneficios  packs_total  mantecas_total  \n",
       "0  890.526316  348.195789    49.473684        0.000000  \n",
       "1  135.789474   61.648421     0.000000       13.578947  \n",
       "2  120.000000   46.920000     6.666667        0.000000  \n",
       "3  104.210526   40.746316     5.789474        0.000000  \n",
       "4   56.842105   25.806316     0.000000        5.684211  \n",
       "5   53.684211   22.117895     2.334096        1.167048  \n",
       "6   41.052632   17.344737     1.466165        1.466165  \n",
       "7   37.894737   17.204211     0.000000        3.789474  \n",
       "8   31.578947   14.336842     0.000000        3.157895  \n",
       "9   28.421053   11.112632     1.578947        0.000000  "
      ]
     },
     "execution_count": 145,
     "metadata": {},
     "output_type": "execute_result"
    }
   ],
   "source": [
    "margenes"
   ]
  },
  {
   "cell_type": "markdown",
   "metadata": {},
   "source": [
    "## 18€ packs y 10€ mantecas"
   ]
  },
  {
   "cell_type": "code",
   "execution_count": 146,
   "metadata": {},
   "outputs": [
    {
     "name": "stdout",
     "output_type": "stream",
     "text": [
      "Estadisticas mensuales\n"
     ]
    },
    {
     "data": {
      "text/plain": [
       "mantecas_total      28.843740\n",
       "packs_total         67.309033\n",
       "ventas            1500.000000\n",
       "beneficios         605.433158\n",
       "dtype: float64"
      ]
     },
     "execution_count": 146,
     "metadata": {},
     "output_type": "execute_result"
    }
   ],
   "source": [
    "print('Estadisticas mensuales')\n",
    "margenes[['mantecas_total','packs_total','ventas','beneficios']].sum()"
   ]
  },
  {
   "cell_type": "code",
   "execution_count": 147,
   "metadata": {},
   "outputs": [
    {
     "name": "stdout",
     "output_type": "stream",
     "text": [
      "Estadisticas diarias\n"
     ]
    },
    {
     "data": {
      "text/plain": [
       "mantecas_total     0.961458\n",
       "packs_total        2.243634\n",
       "ventas            50.000000\n",
       "beneficios        20.181105\n",
       "dtype: float64"
      ]
     },
     "execution_count": 147,
     "metadata": {},
     "output_type": "execute_result"
    }
   ],
   "source": [
    "print('Estadisticas diarias')\n",
    "margenes[['mantecas_total','packs_total','ventas','beneficios']].sum()/30"
   ]
  }
 ],
 "metadata": {
  "kernelspec": {
   "display_name": "Python 3",
   "language": "python",
   "name": "python3"
  },
  "language_info": {
   "codemirror_mode": {
    "name": "ipython",
    "version": 3
   },
   "file_extension": ".py",
   "mimetype": "text/x-python",
   "name": "python",
   "nbconvert_exporter": "python",
   "pygments_lexer": "ipython3",
   "version": "3.8.3"
  }
 },
 "nbformat": 4,
 "nbformat_minor": 2
}

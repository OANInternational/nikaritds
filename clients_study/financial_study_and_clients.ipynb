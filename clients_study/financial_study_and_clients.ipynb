{
 "cells": [
  {
   "cell_type": "code",
   "execution_count": 1,
   "metadata": {},
   "outputs": [],
   "source": [
    "import os\n",
    "import pandas as pd\n",
    "import numpy as np\n",
    "import pandas_gbq\n",
    "import unidecode"
   ]
  },
  {
   "cell_type": "code",
   "execution_count": 2,
   "metadata": {},
   "outputs": [],
   "source": [
    "from google.cloud import bigquery"
   ]
  },
  {
   "cell_type": "code",
   "execution_count": 3,
   "metadata": {},
   "outputs": [],
   "source": [
    "os.environ['GOOGLE_APPLICATION_CREDENTIALS']='#'"
   ]
  },
  {
   "cell_type": "code",
   "execution_count": 4,
   "metadata": {},
   "outputs": [
    {
     "name": "stdout",
     "output_type": "stream",
     "text": [
      "4.9.0\n"
     ]
    }
   ],
   "source": [
    "from plotly import __version__\n",
    "from plotly.offline import download_plotlyjs, init_notebook_mode, plot, iplot\n",
    "\n",
    "print(__version__) # requires version >= 1.9.0"
   ]
  },
  {
   "cell_type": "code",
   "execution_count": 5,
   "metadata": {},
   "outputs": [],
   "source": [
    "import cufflinks as cf"
   ]
  },
  {
   "cell_type": "code",
   "execution_count": 6,
   "metadata": {},
   "outputs": [
    {
     "data": {
      "text/html": [
       "        <script type=\"text/javascript\">\n",
       "        window.PlotlyConfig = {MathJaxConfig: 'local'};\n",
       "        if (window.MathJax) {MathJax.Hub.Config({SVG: {font: \"STIX-Web\"}});}\n",
       "        if (typeof require !== 'undefined') {\n",
       "        require.undef(\"plotly\");\n",
       "        requirejs.config({\n",
       "            paths: {\n",
       "                'plotly': ['https://cdn.plot.ly/plotly-latest.min']\n",
       "            }\n",
       "        });\n",
       "        require(['plotly'], function(Plotly) {\n",
       "            window._Plotly = Plotly;\n",
       "        });\n",
       "        }\n",
       "        </script>\n",
       "        "
      ]
     },
     "metadata": {},
     "output_type": "display_data"
    }
   ],
   "source": [
    "init_notebook_mode(connected=True)"
   ]
  },
  {
   "cell_type": "code",
   "execution_count": 7,
   "metadata": {},
   "outputs": [
    {
     "data": {
      "text/html": [
       "        <script type=\"text/javascript\">\n",
       "        window.PlotlyConfig = {MathJaxConfig: 'local'};\n",
       "        if (window.MathJax) {MathJax.Hub.Config({SVG: {font: \"STIX-Web\"}});}\n",
       "        if (typeof require !== 'undefined') {\n",
       "        require.undef(\"plotly\");\n",
       "        requirejs.config({\n",
       "            paths: {\n",
       "                'plotly': ['https://cdn.plot.ly/plotly-latest.min']\n",
       "            }\n",
       "        });\n",
       "        require(['plotly'], function(Plotly) {\n",
       "            window._Plotly = Plotly;\n",
       "        });\n",
       "        }\n",
       "        </script>\n",
       "        "
      ]
     },
     "metadata": {},
     "output_type": "display_data"
    }
   ],
   "source": [
    "cf.go_offline()"
   ]
  },
  {
   "cell_type": "code",
   "execution_count": 8,
   "metadata": {},
   "outputs": [],
   "source": [
    "import seaborn as sns\n",
    "import matplotlib.pyplot as plt"
   ]
  },
  {
   "cell_type": "code",
   "execution_count": 75,
   "metadata": {},
   "outputs": [],
   "source": [
    "import requests\n",
    "import yaml"
   ]
  },
  {
   "cell_type": "code",
   "execution_count": 76,
   "metadata": {},
   "outputs": [],
   "source": [
    "import firebase_admin\n",
    "#Firbease (pip install firebase_admin)\n",
    "from firebase_admin import credentials\n",
    "from firebase_admin import firestore"
   ]
  },
  {
   "cell_type": "code",
   "execution_count": null,
   "metadata": {},
   "outputs": [],
   "source": [
    "filename='#'"
   ]
  },
  {
   "cell_type": "markdown",
   "metadata": {},
   "source": [
    "### ANALYCEMOS CUENTAS"
   ]
  },
  {
   "cell_type": "code",
   "execution_count": 9,
   "metadata": {},
   "outputs": [
    {
     "name": "stderr",
     "output_type": "stream",
     "text": [
      "Downloading: 100%|██████████| 1436/1436 [00:01<00:00, 989.19rows/s]\n"
     ]
    }
   ],
   "source": [
    "sql = \"\"\"\n",
    "    SELECT *\n",
    "    FROM `oan-nikarit.contoan.accounting`\n",
    "\"\"\"\n",
    "\n",
    "# Run a Standard SQL query using the environment's default project\n",
    "df = pd.read_gbq(sql, dialect='standard')"
   ]
  },
  {
   "cell_type": "code",
   "execution_count": 11,
   "metadata": {},
   "outputs": [],
   "source": [
    "cuentas = pd.read_csv('cuentas.csv',index_col=0).to_dict()['NOMBRE']"
   ]
  },
  {
   "cell_type": "code",
   "execution_count": 12,
   "metadata": {},
   "outputs": [],
   "source": [
    "projectos = pd.read_csv('projectos.csv',index_col=0).to_dict()['TITULO']"
   ]
  },
  {
   "cell_type": "code",
   "execution_count": 42,
   "metadata": {},
   "outputs": [],
   "source": [
    "#df['month']=pd.DatetimeIndex(df['execution_date']).month"
   ]
  },
  {
   "cell_type": "code",
   "execution_count": 43,
   "metadata": {},
   "outputs": [],
   "source": [
    "#df['day']=pd.DatetimeIndex(df['execution_date']).day"
   ]
  },
  {
   "cell_type": "code",
   "execution_count": 56,
   "metadata": {},
   "outputs": [],
   "source": [
    "df['month_day']=df['execution_date'].apply(lambda x: str(x)[5:10])"
   ]
  },
  {
   "cell_type": "code",
   "execution_count": 13,
   "metadata": {},
   "outputs": [],
   "source": [
    "df['proyecto']=df['project'].apply(lambda x: projectos[x])\n",
    "df['inter']=df['intervention'].apply(lambda x: projectos[x])"
   ]
  },
  {
   "cell_type": "code",
   "execution_count": 14,
   "metadata": {},
   "outputs": [
    {
     "data": {
      "text/plain": [
       "Nikarit                   1080\n",
       "Administration_general     136\n",
       "Pompes d'eau                82\n",
       "Fassol                      46\n",
       "ADSAN                       37\n",
       "Emancipacion                26\n",
       "Forum Nikki                 18\n",
       "CPNPF                        6\n",
       "Évènements                   3\n",
       "Aguapp                       2\n",
       "Name: proyecto, dtype: int64"
      ]
     },
     "execution_count": 14,
     "metadata": {},
     "output_type": "execute_result"
    }
   ],
   "source": [
    "df['proyecto'].value_counts()"
   ]
  },
  {
   "cell_type": "code",
   "execution_count": 15,
   "metadata": {},
   "outputs": [
    {
     "data": {
      "image/png": "[encoded data removed]",
      "text/plain": [
       "<Figure size 432x288 with 1 Axes>"
      ]
     },
     "metadata": {
      "needs_background": "light"
     },
     "output_type": "display_data"
    }
   ],
   "source": [
    "sns.countplot(x='proyecto',data=df)\n",
    "plt.xticks(rotation=90)\n",
    "plt.show()"
   ]
  },
  {
   "cell_type": "code",
   "execution_count": 16,
   "metadata": {},
   "outputs": [],
   "source": [
    "df['cuenta_destino']=df['target_id'].apply(lambda x: cuentas[x])"
   ]
  },
  {
   "cell_type": "code",
   "execution_count": 17,
   "metadata": {},
   "outputs": [],
   "source": [
    "df['categoria']=df['account_id'].apply(lambda x: cuentas[x])"
   ]
  },
  {
   "cell_type": "code",
   "execution_count": 18,
   "metadata": {},
   "outputs": [
    {
     "data": {
      "text/plain": [
       "Banco Stripe                  553\n",
       "Banco Paypal                  245\n",
       "Banco Caja de Ingenieros      193\n",
       "Caja Mireille                 114\n",
       "Banco Santander               103\n",
       "Caja Hafiz                     55\n",
       "Caja Kader                     45\n",
       "Caja                           44\n",
       "Caja Abour Rhaman              29\n",
       "Caja Rasak                     24\n",
       "Deudas a c.p. (Acreedores)      6\n",
       "Bank of Africa                  6\n",
       "Deudas a c.p. (Deudores)        5\n",
       "Caja Younous                    5\n",
       "Caja Sofia                      2\n",
       "Caja Imorou                     2\n",
       "Caja Jaume                      2\n",
       "Caja Sianson                    1\n",
       "Caja Daniel                     1\n",
       "Caja Habirou                    1\n",
       "Name: cuenta_destino, dtype: int64"
      ]
     },
     "execution_count": 18,
     "metadata": {},
     "output_type": "execute_result"
    }
   ],
   "source": [
    "df['cuenta_destino'].value_counts()"
   ]
  },
  {
   "cell_type": "code",
   "execution_count": 19,
   "metadata": {},
   "outputs": [
    {
     "data": {
      "text/plain": [
       "script_dani    861\n",
       "contoan        427\n",
       "g_forms        136\n",
       "shopify         12\n",
       "Name: origin, dtype: int64"
      ]
     },
     "execution_count": 19,
     "metadata": {},
     "output_type": "execute_result"
    }
   ],
   "source": [
    "df['origin'].value_counts()"
   ]
  },
  {
   "cell_type": "code",
   "execution_count": 20,
   "metadata": {},
   "outputs": [],
   "source": [
    "usuarios = pd.read_csv('usuarios.csv',index_col=0).to_dict()['NOMBRE']"
   ]
  },
  {
   "cell_type": "code",
   "execution_count": 21,
   "metadata": {},
   "outputs": [],
   "source": [
    "df['usuarios']=df['creator_user'].apply(lambda x: usuarios[x])"
   ]
  },
  {
   "cell_type": "code",
   "execution_count": 22,
   "metadata": {
    "scrolled": false
   },
   "outputs": [
    {
     "data": {
      "image/png": "[encoded data removed]",
      "text/plain": [
       "<Figure size 432x288 with 1 Axes>"
      ]
     },
     "metadata": {
      "needs_background": "light"
     },
     "output_type": "display_data"
    }
   ],
   "source": [
    "sns.countplot(x='usuarios',data=df)\n",
    "plt.xticks(rotation=90)\n",
    "plt.show()"
   ]
  },
  {
   "cell_type": "markdown",
   "metadata": {},
   "source": [
    "## NIKARIT"
   ]
  },
  {
   "cell_type": "code",
   "execution_count": 23,
   "metadata": {},
   "outputs": [
    {
     "data": {
      "text/plain": [
       "Index(['concept', 'place', 'creation_date', 'vat', 'description', 'amount',\n",
       "       'id', 'phase', 'creator_user', 'execution_date', 'user_in_charge',\n",
       "       'origin', 'account_id', 'project', 'code', 'type', 'intervention',\n",
       "       'target_id', 'vat_amount', 'receipt', 'proyecto', 'inter',\n",
       "       'cuenta_destino', 'categoria', 'usuarios'],\n",
       "      dtype='object')"
      ]
     },
     "execution_count": 23,
     "metadata": {},
     "output_type": "execute_result"
    }
   ],
   "source": [
    "df.columns"
   ]
  },
  {
   "cell_type": "code",
   "execution_count": 58,
   "metadata": {},
   "outputs": [],
   "source": [
    "df_nikarit = df[df['proyecto']=='Nikarit']"
   ]
  },
  {
   "cell_type": "code",
   "execution_count": 25,
   "metadata": {},
   "outputs": [],
   "source": [
    "df_nik_cat=df_nikarit.groupby(['categoria','type','inter'])['amount'].sum().reset_index()"
   ]
  },
  {
   "cell_type": "code",
   "execution_count": 26,
   "metadata": {},
   "outputs": [
    {
     "data": {
      "text/html": [
       "<div>\n",
       "<style scoped>\n",
       "    .dataframe tbody tr th:only-of-type {\n",
       "        vertical-align: middle;\n",
       "    }\n",
       "\n",
       "    .dataframe tbody tr th {\n",
       "        vertical-align: top;\n",
       "    }\n",
       "\n",
       "    .dataframe thead th {\n",
       "        text-align: right;\n",
       "    }\n",
       "</style>\n",
       "<table border=\"1\" class=\"dataframe\">\n",
       "  <thead>\n",
       "    <tr style=\"text-align: right;\">\n",
       "      <th></th>\n",
       "      <th>categoria</th>\n",
       "      <th>type</th>\n",
       "      <th>inter</th>\n",
       "      <th>amount</th>\n",
       "    </tr>\n",
       "  </thead>\n",
       "  <tbody>\n",
       "    <tr>\n",
       "      <th>0</th>\n",
       "      <td>Alquileres (oficinas y otros)</td>\n",
       "      <td>expense</td>\n",
       "      <td>Espagne General 2020</td>\n",
       "      <td>199.65</td>\n",
       "    </tr>\n",
       "    <tr>\n",
       "      <th>1</th>\n",
       "      <td>Apertura</td>\n",
       "      <td>movement</td>\n",
       "      <td>Espagne General 2020</td>\n",
       "      <td>12102.71</td>\n",
       "    </tr>\n",
       "  </tbody>\n",
       "</table>\n",
       "</div>"
      ],
      "text/plain": [
       "                       categoria      type                 inter    amount\n",
       "0  Alquileres (oficinas y otros)   expense  Espagne General 2020    199.65\n",
       "1                       Apertura  movement  Espagne General 2020  12102.71"
      ]
     },
     "execution_count": 26,
     "metadata": {},
     "output_type": "execute_result"
    }
   ],
   "source": [
    "df_nik_cat.head(2)"
   ]
  },
  {
   "cell_type": "code",
   "execution_count": 27,
   "metadata": {},
   "outputs": [],
   "source": [
    "expense = df_nik_cat[df_nik_cat['type']=='expense']"
   ]
  },
  {
   "cell_type": "code",
   "execution_count": 28,
   "metadata": {},
   "outputs": [
    {
     "data": {
      "image/png": "[encoded data removed]",
      "text/plain": [
       "<Figure size 1440x720 with 1 Axes>"
      ]
     },
     "metadata": {
      "needs_background": "light"
     },
     "output_type": "display_data"
    }
   ],
   "source": [
    "fig = plt.figure(figsize=(20,10))\n",
    "ax = sns.barplot(x=\"categoria\", y=\"amount\",hue='inter', data=expense)\n",
    "plt.xticks(rotation=90)\n",
    "plt.show()"
   ]
  },
  {
   "cell_type": "markdown",
   "metadata": {},
   "source": [
    "## INGRESOS Y GASTOS"
   ]
  },
  {
   "cell_type": "code",
   "execution_count": 29,
   "metadata": {},
   "outputs": [
    {
     "data": {
      "text/html": [
       "<div>\n",
       "<style scoped>\n",
       "    .dataframe tbody tr th:only-of-type {\n",
       "        vertical-align: middle;\n",
       "    }\n",
       "\n",
       "    .dataframe tbody tr th {\n",
       "        vertical-align: top;\n",
       "    }\n",
       "\n",
       "    .dataframe thead th {\n",
       "        text-align: right;\n",
       "    }\n",
       "</style>\n",
       "<table border=\"1\" class=\"dataframe\">\n",
       "  <thead>\n",
       "    <tr style=\"text-align: right;\">\n",
       "      <th></th>\n",
       "      <th>type</th>\n",
       "      <th>amount</th>\n",
       "    </tr>\n",
       "  </thead>\n",
       "  <tbody>\n",
       "    <tr>\n",
       "      <th>0</th>\n",
       "      <td>expense</td>\n",
       "      <td>25763.75</td>\n",
       "    </tr>\n",
       "    <tr>\n",
       "      <th>1</th>\n",
       "      <td>income</td>\n",
       "      <td>24030.30</td>\n",
       "    </tr>\n",
       "    <tr>\n",
       "      <th>2</th>\n",
       "      <td>movement</td>\n",
       "      <td>43167.60</td>\n",
       "    </tr>\n",
       "  </tbody>\n",
       "</table>\n",
       "</div>"
      ],
      "text/plain": [
       "       type    amount\n",
       "0   expense  25763.75\n",
       "1    income  24030.30\n",
       "2  movement  43167.60"
      ]
     },
     "execution_count": 29,
     "metadata": {},
     "output_type": "execute_result"
    }
   ],
   "source": [
    "df_3 = df_nikarit.groupby('type')['amount'].sum().reset_index()\n",
    "df_3.head()"
   ]
  },
  {
   "cell_type": "code",
   "execution_count": 30,
   "metadata": {},
   "outputs": [
    {
     "data": {
      "application/vnd.plotly.v1+json": {
       "config": {
        "linkText": "Export to plot.ly",
        "plotlyServerURL": "https://plot.ly",
        "showLink": true
       },
       "data": [
        {
         "marker": {
          "color": "rgba(255, 153, 51, 0.6)",
          "line": {
           "color": "rgba(255, 153, 51, 1.0)",
           "width": 1
          }
         },
         "name": "amount",
         "orientation": "v",
         "text": "",
         "type": "bar",
         "x": [
          "expense",
          "income",
          "movement"
         ],
         "y": [
          25763.75000000001,
          24030.299999999996,
          43167.600000000006
         ]
        }
       ],
       "layout": {
        "legend": {
         "bgcolor": "#F5F6F9",
         "font": {
          "color": "#4D5663"
         }
        },
        "paper_bgcolor": "#F5F6F9",
        "plot_bgcolor": "#F5F6F9",
        "template": {
         "data": {
          "bar": [
           {
            "error_x": {
             "color": "#2a3f5f"
            },
            "error_y": {
             "color": "#2a3f5f"
            },
            "marker": {
             "line": {
              "color": "#E5ECF6",
              "width": 0.5
             }
            },
            "type": "bar"
           }
          ],
          "barpolar": [
           {
            "marker": {
             "line": {
              "color": "#E5ECF6",
              "width": 0.5
             }
            },
            "type": "barpolar"
           }
          ],
          "carpet": [
           {
            "aaxis": {
             "endlinecolor": "#2a3f5f",
             "gridcolor": "white",
             "linecolor": "white",
             "minorgridcolor": "white",
             "startlinecolor": "#2a3f5f"
            },
            "baxis": {
             "endlinecolor": "#2a3f5f",
             "gridcolor": "white",
             "linecolor": "white",
             "minorgridcolor": "white",
             "startlinecolor": "#2a3f5f"
            },
            "type": "carpet"
           }
          ],
          "choropleth": [
           {
            "colorbar": {
             "outlinewidth": 0,
             "ticks": ""
            },
            "type": "choropleth"
           }
          ],
          "contour": [
           {
            "colorbar": {
             "outlinewidth": 0,
             "ticks": ""
            },
            "colorscale": [
             [
              0,
              "#0d0887"
             ],
             [
              0.1111111111111111,
              "#46039f"
             ],
             [
              0.2222222222222222,
              "#7201a8"
             ],
             [
              0.3333333333333333,
              "#9c179e"
             ],
             [
              0.4444444444444444,
              "#bd3786"
             ],
             [
              0.5555555555555556,
              "#d8576b"
             ],
             [
              0.6666666666666666,
              "#ed7953"
             ],
             [
              0.7777777777777778,
              "#fb9f3a"
             ],
             [
              0.8888888888888888,
              "#fdca26"
             ],
             [
              1,
              "#f0f921"
             ]
            ],
            "type": "contour"
           }
          ],
          "contourcarpet": [
           {
            "colorbar": {
             "outlinewidth": 0,
             "ticks": ""
            },
            "type": "contourcarpet"
           }
          ],
          "heatmap": [
           {
            "colorbar": {
             "outlinewidth": 0,
             "ticks": ""
            },
            "colorscale": [
             [
              0,
              "#0d0887"
             ],
             [
              0.1111111111111111,
              "#46039f"
             ],
             [
              0.2222222222222222,
              "#7201a8"
             ],
             [
              0.3333333333333333,
              "#9c179e"
             ],
             [
              0.4444444444444444,
              "#bd3786"
             ],
             [
              0.5555555555555556,
              "#d8576b"
             ],
             [
              0.6666666666666666,
              "#ed7953"
             ],
             [
              0.7777777777777778,
              "#fb9f3a"
             ],
             [
              0.8888888888888888,
              "#fdca26"
             ],
             [
              1,
              "#f0f921"
             ]
            ],
            "type": "heatmap"
           }
          ],
          "heatmapgl": [
           {
            "colorbar": {
             "outlinewidth": 0,
             "ticks": ""
            },
            "colorscale": [
             [
              0,
              "#0d0887"
             ],
             [
              0.1111111111111111,
              "#46039f"
             ],
             [
              0.2222222222222222,
              "#7201a8"
             ],
             [
              0.3333333333333333,
              "#9c179e"
             ],
             [
              0.4444444444444444,
              "#bd3786"
             ],
             [
              0.5555555555555556,
              "#d8576b"
             ],
             [
              0.6666666666666666,
              "#ed7953"
             ],
             [
              0.7777777777777778,
              "#fb9f3a"
             ],
             [
              0.8888888888888888,
              "#fdca26"
             ],
             [
              1,
              "#f0f921"
             ]
            ],
            "type": "heatmapgl"
           }
          ],
          "histogram": [
           {
            "marker": {
             "colorbar": {
              "outlinewidth": 0,
              "ticks": ""
             }
            },
            "type": "histogram"
           }
          ],
          "histogram2d": [
           {
            "colorbar": {
             "outlinewidth": 0,
             "ticks": ""
            },
            "colorscale": [
             [
              0,
              "#0d0887"
             ],
             [
              0.1111111111111111,
              "#46039f"
             ],
             [
              0.2222222222222222,
              "#7201a8"
             ],
             [
              0.3333333333333333,
              "#9c179e"
             ],
             [
              0.4444444444444444,
              "#bd3786"
             ],
             [
              0.5555555555555556,
              "#d8576b"
             ],
             [
              0.6666666666666666,
              "#ed7953"
             ],
             [
              0.7777777777777778,
              "#fb9f3a"
             ],
             [
              0.8888888888888888,
              "#fdca26"
             ],
             [
              1,
              "#f0f921"
             ]
            ],
            "type": "histogram2d"
           }
          ],
          "histogram2dcontour": [
           {
            "colorbar": {
             "outlinewidth": 0,
             "ticks": ""
            },
            "colorscale": [
             [
              0,
              "#0d0887"
             ],
             [
              0.1111111111111111,
              "#46039f"
             ],
             [
              0.2222222222222222,
              "#7201a8"
             ],
             [
              0.3333333333333333,
              "#9c179e"
             ],
             [
              0.4444444444444444,
              "#bd3786"
             ],
             [
              0.5555555555555556,
              "#d8576b"
             ],
             [
              0.6666666666666666,
              "#ed7953"
             ],
             [
              0.7777777777777778,
              "#fb9f3a"
             ],
             [
              0.8888888888888888,
              "#fdca26"
             ],
             [
              1,
              "#f0f921"
             ]
            ],
            "type": "histogram2dcontour"
           }
          ],
          "mesh3d": [
           {
            "colorbar": {
             "outlinewidth": 0,
             "ticks": ""
            },
            "type": "mesh3d"
           }
          ],
          "parcoords": [
           {
            "line": {
             "colorbar": {
              "outlinewidth": 0,
              "ticks": ""
             }
            },
            "type": "parcoords"
           }
          ],
          "pie": [
           {
            "automargin": true,
            "type": "pie"
           }
          ],
          "scatter": [
           {
            "marker": {
             "colorbar": {
              "outlinewidth": 0,
              "ticks": ""
             }
            },
            "type": "scatter"
           }
          ],
          "scatter3d": [
           {
            "line": {
             "colorbar": {
              "outlinewidth": 0,
              "ticks": ""
             }
            },
            "marker": {
             "colorbar": {
              "outlinewidth": 0,
              "ticks": ""
             }
            },
            "type": "scatter3d"
           }
          ],
          "scattercarpet": [
           {
            "marker": {
             "colorbar": {
              "outlinewidth": 0,
              "ticks": ""
             }
            },
            "type": "scattercarpet"
           }
          ],
          "scattergeo": [
           {
            "marker": {
             "colorbar": {
              "outlinewidth": 0,
              "ticks": ""
             }
            },
            "type": "scattergeo"
           }
          ],
          "scattergl": [
           {
            "marker": {
             "colorbar": {
              "outlinewidth": 0,
              "ticks": ""
             }
            },
            "type": "scattergl"
           }
          ],
          "scattermapbox": [
           {
            "marker": {
             "colorbar": {
              "outlinewidth": 0,
              "ticks": ""
             }
            },
            "type": "scattermapbox"
           }
          ],
          "scatterpolar": [
           {
            "marker": {
             "colorbar": {
              "outlinewidth": 0,
              "ticks": ""
             }
            },
            "type": "scatterpolar"
           }
          ],
          "scatterpolargl": [
           {
            "marker": {
             "colorbar": {
              "outlinewidth": 0,
              "ticks": ""
             }
            },
            "type": "scatterpolargl"
           }
          ],
          "scatterternary": [
           {
            "marker": {
             "colorbar": {
              "outlinewidth": 0,
              "ticks": ""
             }
            },
            "type": "scatterternary"
           }
          ],
          "surface": [
           {
            "colorbar": {
             "outlinewidth": 0,
             "ticks": ""
            },
            "colorscale": [
             [
              0,
              "#0d0887"
             ],
             [
              0.1111111111111111,
              "#46039f"
             ],
             [
              0.2222222222222222,
              "#7201a8"
             ],
             [
              0.3333333333333333,
              "#9c179e"
             ],
             [
              0.4444444444444444,
              "#bd3786"
             ],
             [
              0.5555555555555556,
              "#d8576b"
             ],
             [
              0.6666666666666666,
              "#ed7953"
             ],
             [
              0.7777777777777778,
              "#fb9f3a"
             ],
             [
              0.8888888888888888,
              "#fdca26"
             ],
             [
              1,
              "#f0f921"
             ]
            ],
            "type": "surface"
           }
          ],
          "table": [
           {
            "cells": {
             "fill": {
              "color": "#EBF0F8"
             },
             "line": {
              "color": "white"
             }
            },
            "header": {
             "fill": {
              "color": "#C8D4E3"
             },
             "line": {
              "color": "white"
             }
            },
            "type": "table"
           }
          ]
         },
         "layout": {
          "annotationdefaults": {
           "arrowcolor": "#2a3f5f",
           "arrowhead": 0,
           "arrowwidth": 1
          },
          "coloraxis": {
           "colorbar": {
            "outlinewidth": 0,
            "ticks": ""
           }
          },
          "colorscale": {
           "diverging": [
            [
             0,
             "#8e0152"
            ],
            [
             0.1,
             "#c51b7d"
            ],
            [
             0.2,
             "#de77ae"
            ],
            [
             0.3,
             "#f1b6da"
            ],
            [
             0.4,
             "#fde0ef"
            ],
            [
             0.5,
             "#f7f7f7"
            ],
            [
             0.6,
             "#e6f5d0"
            ],
            [
             0.7,
             "#b8e186"
            ],
            [
             0.8,
             "#7fbc41"
            ],
            [
             0.9,
             "#4d9221"
            ],
            [
             1,
             "#276419"
            ]
           ],
           "sequential": [
            [
             0,
             "#0d0887"
            ],
            [
             0.1111111111111111,
             "#46039f"
            ],
            [
             0.2222222222222222,
             "#7201a8"
            ],
            [
             0.3333333333333333,
             "#9c179e"
            ],
            [
             0.4444444444444444,
             "#bd3786"
            ],
            [
             0.5555555555555556,
             "#d8576b"
            ],
            [
             0.6666666666666666,
             "#ed7953"
            ],
            [
             0.7777777777777778,
             "#fb9f3a"
            ],
            [
             0.8888888888888888,
             "#fdca26"
            ],
            [
             1,
             "#f0f921"
            ]
           ],
           "sequentialminus": [
            [
             0,
             "#0d0887"
            ],
            [
             0.1111111111111111,
             "#46039f"
            ],
            [
             0.2222222222222222,
             "#7201a8"
            ],
            [
             0.3333333333333333,
             "#9c179e"
            ],
            [
             0.4444444444444444,
             "#bd3786"
            ],
            [
             0.5555555555555556,
             "#d8576b"
            ],
            [
             0.6666666666666666,
             "#ed7953"
            ],
            [
             0.7777777777777778,
             "#fb9f3a"
            ],
            [
             0.8888888888888888,
             "#fdca26"
            ],
            [
             1,
             "#f0f921"
            ]
           ]
          },
          "colorway": [
           "#636efa",
           "#EF553B",
           "#00cc96",
           "#ab63fa",
           "#FFA15A",
           "#19d3f3",
           "#FF6692",
           "#B6E880",
           "#FF97FF",
           "#FECB52"
          ],
          "font": {
           "color": "#2a3f5f"
          },
          "geo": {
           "bgcolor": "white",
           "lakecolor": "white",
           "landcolor": "#E5ECF6",
           "showlakes": true,
           "showland": true,
           "subunitcolor": "white"
          },
          "hoverlabel": {
           "align": "left"
          },
          "hovermode": "closest",
          "mapbox": {
           "style": "light"
          },
          "paper_bgcolor": "white",
          "plot_bgcolor": "#E5ECF6",
          "polar": {
           "angularaxis": {
            "gridcolor": "white",
            "linecolor": "white",
            "ticks": ""
           },
           "bgcolor": "#E5ECF6",
           "radialaxis": {
            "gridcolor": "white",
            "linecolor": "white",
            "ticks": ""
           }
          },
          "scene": {
           "xaxis": {
            "backgroundcolor": "#E5ECF6",
            "gridcolor": "white",
            "gridwidth": 2,
            "linecolor": "white",
            "showbackground": true,
            "ticks": "",
            "zerolinecolor": "white"
           },
           "yaxis": {
            "backgroundcolor": "#E5ECF6",
            "gridcolor": "white",
            "gridwidth": 2,
            "linecolor": "white",
            "showbackground": true,
            "ticks": "",
            "zerolinecolor": "white"
           },
           "zaxis": {
            "backgroundcolor": "#E5ECF6",
            "gridcolor": "white",
            "gridwidth": 2,
            "linecolor": "white",
            "showbackground": true,
            "ticks": "",
            "zerolinecolor": "white"
           }
          },
          "shapedefaults": {
           "line": {
            "color": "#2a3f5f"
           }
          },
          "ternary": {
           "aaxis": {
            "gridcolor": "white",
            "linecolor": "white",
            "ticks": ""
           },
           "baxis": {
            "gridcolor": "white",
            "linecolor": "white",
            "ticks": ""
           },
           "bgcolor": "#E5ECF6",
           "caxis": {
            "gridcolor": "white",
            "linecolor": "white",
            "ticks": ""
           }
          },
          "title": {
           "x": 0.05
          },
          "xaxis": {
           "automargin": true,
           "gridcolor": "white",
           "linecolor": "white",
           "ticks": "",
           "title": {
            "standoff": 15
           },
           "zerolinecolor": "white",
           "zerolinewidth": 2
          },
          "yaxis": {
           "automargin": true,
           "gridcolor": "white",
           "linecolor": "white",
           "ticks": "",
           "title": {
            "standoff": 15
           },
           "zerolinecolor": "white",
           "zerolinewidth": 2
          }
         }
        },
        "title": {
         "font": {
          "color": "#4D5663"
         }
        },
        "xaxis": {
         "gridcolor": "#E1E5ED",
         "showgrid": true,
         "tickfont": {
          "color": "#4D5663"
         },
         "title": {
          "font": {
           "color": "#4D5663"
          },
          "text": ""
         },
         "zerolinecolor": "#E1E5ED"
        },
        "yaxis": {
         "gridcolor": "#E1E5ED",
         "showgrid": true,
         "tickfont": {
          "color": "#4D5663"
         },
         "title": {
          "font": {
           "color": "#4D5663"
          },
          "text": ""
         },
         "zerolinecolor": "#E1E5ED"
        }
       }
      },
      "text/html": [
       "<div>\n",
       "        \n",
       "        \n",
       "            <div id=\"f4b83a65-6d8c-4d95-bd6e-736b9def1395\" class=\"plotly-graph-div\" style=\"height:525px; width:100%;\"></div>\n",
       "            <script type=\"text/javascript\">\n",
       "                require([\"plotly\"], function(Plotly) {\n",
       "                    window.PLOTLYENV=window.PLOTLYENV || {};\n",
       "                    window.PLOTLYENV.BASE_URL='https://plot.ly';\n",
       "                    \n",
       "                if (document.getElementById(\"f4b83a65-6d8c-4d95-bd6e-736b9def1395\")) {\n",
       "                    Plotly.newPlot(\n",
       "                        'f4b83a65-6d8c-4d95-bd6e-736b9def1395',\n",
       "                        [{\"marker\": {\"color\": \"rgba(255, 153, 51, 0.6)\", \"line\": {\"color\": \"rgba(255, 153, 51, 1.0)\", \"width\": 1}}, \"name\": \"amount\", \"orientation\": \"v\", \"text\": \"\", \"type\": \"bar\", \"x\": [\"expense\", \"income\", \"movement\"], \"y\": [25763.75000000001, 24030.299999999996, 43167.600000000006]}],\n",
       "                        {\"legend\": {\"bgcolor\": \"#F5F6F9\", \"font\": {\"color\": \"#4D5663\"}}, \"paper_bgcolor\": \"#F5F6F9\", \"plot_bgcolor\": \"#F5F6F9\", \"template\": {\"data\": {\"bar\": [{\"error_x\": {\"color\": \"#2a3f5f\"}, \"error_y\": {\"color\": \"#2a3f5f\"}, \"marker\": {\"line\": {\"color\": \"#E5ECF6\", \"width\": 0.5}}, \"type\": \"bar\"}], \"barpolar\": [{\"marker\": {\"line\": {\"color\": \"#E5ECF6\", \"width\": 0.5}}, \"type\": \"barpolar\"}], \"carpet\": [{\"aaxis\": {\"endlinecolor\": \"#2a3f5f\", \"gridcolor\": \"white\", \"linecolor\": \"white\", \"minorgridcolor\": \"white\", \"startlinecolor\": \"#2a3f5f\"}, \"baxis\": {\"endlinecolor\": \"#2a3f5f\", \"gridcolor\": \"white\", \"linecolor\": \"white\", \"minorgridcolor\": \"white\", \"startlinecolor\": \"#2a3f5f\"}, \"type\": \"carpet\"}], \"choropleth\": [{\"colorbar\": {\"outlinewidth\": 0, \"ticks\": \"\"}, \"type\": \"choropleth\"}], \"contour\": [{\"colorbar\": {\"outlinewidth\": 0, \"ticks\": \"\"}, \"colorscale\": [[0.0, \"#0d0887\"], [0.1111111111111111, \"#46039f\"], [0.2222222222222222, \"#7201a8\"], [0.3333333333333333, \"#9c179e\"], [0.4444444444444444, \"#bd3786\"], [0.5555555555555556, \"#d8576b\"], [0.6666666666666666, \"#ed7953\"], [0.7777777777777778, \"#fb9f3a\"], [0.8888888888888888, \"#fdca26\"], [1.0, \"#f0f921\"]], \"type\": \"contour\"}], \"contourcarpet\": [{\"colorbar\": {\"outlinewidth\": 0, \"ticks\": \"\"}, \"type\": \"contourcarpet\"}], \"heatmap\": [{\"colorbar\": {\"outlinewidth\": 0, \"ticks\": \"\"}, \"colorscale\": [[0.0, \"#0d0887\"], [0.1111111111111111, \"#46039f\"], [0.2222222222222222, \"#7201a8\"], [0.3333333333333333, \"#9c179e\"], [0.4444444444444444, \"#bd3786\"], [0.5555555555555556, \"#d8576b\"], [0.6666666666666666, \"#ed7953\"], [0.7777777777777778, \"#fb9f3a\"], [0.8888888888888888, \"#fdca26\"], [1.0, \"#f0f921\"]], \"type\": \"heatmap\"}], \"heatmapgl\": [{\"colorbar\": {\"outlinewidth\": 0, \"ticks\": \"\"}, \"colorscale\": [[0.0, \"#0d0887\"], [0.1111111111111111, \"#46039f\"], [0.2222222222222222, \"#7201a8\"], [0.3333333333333333, \"#9c179e\"], [0.4444444444444444, \"#bd3786\"], [0.5555555555555556, \"#d8576b\"], [0.6666666666666666, \"#ed7953\"], [0.7777777777777778, \"#fb9f3a\"], [0.8888888888888888, \"#fdca26\"], [1.0, \"#f0f921\"]], \"type\": \"heatmapgl\"}], \"histogram\": [{\"marker\": {\"colorbar\": {\"outlinewidth\": 0, \"ticks\": \"\"}}, \"type\": \"histogram\"}], \"histogram2d\": [{\"colorbar\": {\"outlinewidth\": 0, \"ticks\": \"\"}, \"colorscale\": [[0.0, \"#0d0887\"], [0.1111111111111111, \"#46039f\"], [0.2222222222222222, \"#7201a8\"], [0.3333333333333333, \"#9c179e\"], [0.4444444444444444, \"#bd3786\"], [0.5555555555555556, \"#d8576b\"], [0.6666666666666666, \"#ed7953\"], [0.7777777777777778, \"#fb9f3a\"], [0.8888888888888888, \"#fdca26\"], [1.0, \"#f0f921\"]], \"type\": \"histogram2d\"}], \"histogram2dcontour\": [{\"colorbar\": {\"outlinewidth\": 0, \"ticks\": \"\"}, \"colorscale\": [[0.0, \"#0d0887\"], [0.1111111111111111, \"#46039f\"], [0.2222222222222222, \"#7201a8\"], [0.3333333333333333, \"#9c179e\"], [0.4444444444444444, \"#bd3786\"], [0.5555555555555556, \"#d8576b\"], [0.6666666666666666, \"#ed7953\"], [0.7777777777777778, \"#fb9f3a\"], [0.8888888888888888, \"#fdca26\"], [1.0, \"#f0f921\"]], \"type\": \"histogram2dcontour\"}], \"mesh3d\": [{\"colorbar\": {\"outlinewidth\": 0, \"ticks\": \"\"}, \"type\": \"mesh3d\"}], \"parcoords\": [{\"line\": {\"colorbar\": {\"outlinewidth\": 0, \"ticks\": \"\"}}, \"type\": \"parcoords\"}], \"pie\": [{\"automargin\": true, \"type\": \"pie\"}], \"scatter\": [{\"marker\": {\"colorbar\": {\"outlinewidth\": 0, \"ticks\": \"\"}}, \"type\": \"scatter\"}], \"scatter3d\": [{\"line\": {\"colorbar\": {\"outlinewidth\": 0, \"ticks\": \"\"}}, \"marker\": {\"colorbar\": {\"outlinewidth\": 0, \"ticks\": \"\"}}, \"type\": \"scatter3d\"}], \"scattercarpet\": [{\"marker\": {\"colorbar\": {\"outlinewidth\": 0, \"ticks\": \"\"}}, \"type\": \"scattercarpet\"}], \"scattergeo\": [{\"marker\": {\"colorbar\": {\"outlinewidth\": 0, \"ticks\": \"\"}}, \"type\": \"scattergeo\"}], \"scattergl\": [{\"marker\": {\"colorbar\": {\"outlinewidth\": 0, \"ticks\": \"\"}}, \"type\": \"scattergl\"}], \"scattermapbox\": [{\"marker\": {\"colorbar\": {\"outlinewidth\": 0, \"ticks\": \"\"}}, \"type\": \"scattermapbox\"}], \"scatterpolar\": [{\"marker\": {\"colorbar\": {\"outlinewidth\": 0, \"ticks\": \"\"}}, \"type\": \"scatterpolar\"}], \"scatterpolargl\": [{\"marker\": {\"colorbar\": {\"outlinewidth\": 0, \"ticks\": \"\"}}, \"type\": \"scatterpolargl\"}], \"scatterternary\": [{\"marker\": {\"colorbar\": {\"outlinewidth\": 0, \"ticks\": \"\"}}, \"type\": \"scatterternary\"}], \"surface\": [{\"colorbar\": {\"outlinewidth\": 0, \"ticks\": \"\"}, \"colorscale\": [[0.0, \"#0d0887\"], [0.1111111111111111, \"#46039f\"], [0.2222222222222222, \"#7201a8\"], [0.3333333333333333, \"#9c179e\"], [0.4444444444444444, \"#bd3786\"], [0.5555555555555556, \"#d8576b\"], [0.6666666666666666, \"#ed7953\"], [0.7777777777777778, \"#fb9f3a\"], [0.8888888888888888, \"#fdca26\"], [1.0, \"#f0f921\"]], \"type\": \"surface\"}], \"table\": [{\"cells\": {\"fill\": {\"color\": \"#EBF0F8\"}, \"line\": {\"color\": \"white\"}}, \"header\": {\"fill\": {\"color\": \"#C8D4E3\"}, \"line\": {\"color\": \"white\"}}, \"type\": \"table\"}]}, \"layout\": {\"annotationdefaults\": {\"arrowcolor\": \"#2a3f5f\", \"arrowhead\": 0, \"arrowwidth\": 1}, \"coloraxis\": {\"colorbar\": {\"outlinewidth\": 0, \"ticks\": \"\"}}, \"colorscale\": {\"diverging\": [[0, \"#8e0152\"], [0.1, \"#c51b7d\"], [0.2, \"#de77ae\"], [0.3, \"#f1b6da\"], [0.4, \"#fde0ef\"], [0.5, \"#f7f7f7\"], [0.6, \"#e6f5d0\"], [0.7, \"#b8e186\"], [0.8, \"#7fbc41\"], [0.9, \"#4d9221\"], [1, \"#276419\"]], \"sequential\": [[0.0, \"#0d0887\"], [0.1111111111111111, \"#46039f\"], [0.2222222222222222, \"#7201a8\"], [0.3333333333333333, \"#9c179e\"], [0.4444444444444444, \"#bd3786\"], [0.5555555555555556, \"#d8576b\"], [0.6666666666666666, \"#ed7953\"], [0.7777777777777778, \"#fb9f3a\"], [0.8888888888888888, \"#fdca26\"], [1.0, \"#f0f921\"]], \"sequentialminus\": [[0.0, \"#0d0887\"], [0.1111111111111111, \"#46039f\"], [0.2222222222222222, \"#7201a8\"], [0.3333333333333333, \"#9c179e\"], [0.4444444444444444, \"#bd3786\"], [0.5555555555555556, \"#d8576b\"], [0.6666666666666666, \"#ed7953\"], [0.7777777777777778, \"#fb9f3a\"], [0.8888888888888888, \"#fdca26\"], [1.0, \"#f0f921\"]]}, \"colorway\": [\"#636efa\", \"#EF553B\", \"#00cc96\", \"#ab63fa\", \"#FFA15A\", \"#19d3f3\", \"#FF6692\", \"#B6E880\", \"#FF97FF\", \"#FECB52\"], \"font\": {\"color\": \"#2a3f5f\"}, \"geo\": {\"bgcolor\": \"white\", \"lakecolor\": \"white\", \"landcolor\": \"#E5ECF6\", \"showlakes\": true, \"showland\": true, \"subunitcolor\": \"white\"}, \"hoverlabel\": {\"align\": \"left\"}, \"hovermode\": \"closest\", \"mapbox\": {\"style\": \"light\"}, \"paper_bgcolor\": \"white\", \"plot_bgcolor\": \"#E5ECF6\", \"polar\": {\"angularaxis\": {\"gridcolor\": \"white\", \"linecolor\": \"white\", \"ticks\": \"\"}, \"bgcolor\": \"#E5ECF6\", \"radialaxis\": {\"gridcolor\": \"white\", \"linecolor\": \"white\", \"ticks\": \"\"}}, \"scene\": {\"xaxis\": {\"backgroundcolor\": \"#E5ECF6\", \"gridcolor\": \"white\", \"gridwidth\": 2, \"linecolor\": \"white\", \"showbackground\": true, \"ticks\": \"\", \"zerolinecolor\": \"white\"}, \"yaxis\": {\"backgroundcolor\": \"#E5ECF6\", \"gridcolor\": \"white\", \"gridwidth\": 2, \"linecolor\": \"white\", \"showbackground\": true, \"ticks\": \"\", \"zerolinecolor\": \"white\"}, \"zaxis\": {\"backgroundcolor\": \"#E5ECF6\", \"gridcolor\": \"white\", \"gridwidth\": 2, \"linecolor\": \"white\", \"showbackground\": true, \"ticks\": \"\", \"zerolinecolor\": \"white\"}}, \"shapedefaults\": {\"line\": {\"color\": \"#2a3f5f\"}}, \"ternary\": {\"aaxis\": {\"gridcolor\": \"white\", \"linecolor\": \"white\", \"ticks\": \"\"}, \"baxis\": {\"gridcolor\": \"white\", \"linecolor\": \"white\", \"ticks\": \"\"}, \"bgcolor\": \"#E5ECF6\", \"caxis\": {\"gridcolor\": \"white\", \"linecolor\": \"white\", \"ticks\": \"\"}}, \"title\": {\"x\": 0.05}, \"xaxis\": {\"automargin\": true, \"gridcolor\": \"white\", \"linecolor\": \"white\", \"ticks\": \"\", \"title\": {\"standoff\": 15}, \"zerolinecolor\": \"white\", \"zerolinewidth\": 2}, \"yaxis\": {\"automargin\": true, \"gridcolor\": \"white\", \"linecolor\": \"white\", \"ticks\": \"\", \"title\": {\"standoff\": 15}, \"zerolinecolor\": \"white\", \"zerolinewidth\": 2}}}, \"title\": {\"font\": {\"color\": \"#4D5663\"}}, \"xaxis\": {\"gridcolor\": \"#E1E5ED\", \"showgrid\": true, \"tickfont\": {\"color\": \"#4D5663\"}, \"title\": {\"font\": {\"color\": \"#4D5663\"}, \"text\": \"\"}, \"zerolinecolor\": \"#E1E5ED\"}, \"yaxis\": {\"gridcolor\": \"#E1E5ED\", \"showgrid\": true, \"tickfont\": {\"color\": \"#4D5663\"}, \"title\": {\"font\": {\"color\": \"#4D5663\"}, \"text\": \"\"}, \"zerolinecolor\": \"#E1E5ED\"}},\n",
       "                        {\"showLink\": true, \"linkText\": \"Export to plot.ly\", \"plotlyServerURL\": \"https://plot.ly\", \"responsive\": true}\n",
       "                    ).then(function(){\n",
       "                            \n",
       "var gd = document.getElementById('f4b83a65-6d8c-4d95-bd6e-736b9def1395');\n",
       "var x = new MutationObserver(function (mutations, observer) {{\n",
       "        var display = window.getComputedStyle(gd).display;\n",
       "        if (!display || display === 'none') {{\n",
       "            console.log([gd, 'removed!']);\n",
       "            Plotly.purge(gd);\n",
       "            observer.disconnect();\n",
       "        }}\n",
       "}});\n",
       "\n",
       "// Listen for the removal of the full notebook cells\n",
       "var notebookContainer = gd.closest('#notebook-container');\n",
       "if (notebookContainer) {{\n",
       "    x.observe(notebookContainer, {childList: true});\n",
       "}}\n",
       "\n",
       "// Listen for the clearing of the current output cell\n",
       "var outputEl = gd.closest('.output');\n",
       "if (outputEl) {{\n",
       "    x.observe(outputEl, {childList: true});\n",
       "}}\n",
       "\n",
       "                        })\n",
       "                };\n",
       "                });\n",
       "            </script>\n",
       "        </div>"
      ]
     },
     "metadata": {},
     "output_type": "display_data"
    }
   ],
   "source": [
    "df_3.iplot(kind='bar',x='type',y='amount')"
   ]
  },
  {
   "cell_type": "markdown",
   "metadata": {},
   "source": [
    "## GASTOS"
   ]
  },
  {
   "cell_type": "code",
   "execution_count": 31,
   "metadata": {},
   "outputs": [
    {
     "data": {
      "text/plain": [
       "array(['Espagne General 2020', 'Intervention 2020'], dtype=object)"
      ]
     },
     "execution_count": 31,
     "metadata": {},
     "output_type": "execute_result"
    }
   ],
   "source": [
    "expense.inter.unique()"
   ]
  },
  {
   "cell_type": "markdown",
   "metadata": {},
   "source": [
    "### NIKKI"
   ]
  },
  {
   "cell_type": "code",
   "execution_count": 32,
   "metadata": {},
   "outputs": [
    {
     "data": {
      "text/plain": [
       "3853.7599999999998"
      ]
     },
     "execution_count": 32,
     "metadata": {},
     "output_type": "execute_result"
    }
   ],
   "source": [
    "expense[expense['inter']=='Intervention 2020']['amount'].sum()"
   ]
  },
  {
   "cell_type": "code",
   "execution_count": 33,
   "metadata": {},
   "outputs": [
    {
     "data": {
      "text/html": [
       "<div>\n",
       "<style scoped>\n",
       "    .dataframe tbody tr th:only-of-type {\n",
       "        vertical-align: middle;\n",
       "    }\n",
       "\n",
       "    .dataframe tbody tr th {\n",
       "        vertical-align: top;\n",
       "    }\n",
       "\n",
       "    .dataframe thead th {\n",
       "        text-align: right;\n",
       "    }\n",
       "</style>\n",
       "<table border=\"1\" class=\"dataframe\">\n",
       "  <thead>\n",
       "    <tr style=\"text-align: right;\">\n",
       "      <th></th>\n",
       "      <th>categoria</th>\n",
       "      <th>amount</th>\n",
       "    </tr>\n",
       "  </thead>\n",
       "  <tbody>\n",
       "    <tr>\n",
       "      <th>29</th>\n",
       "      <td>Sueldos y Salarios</td>\n",
       "      <td>1310.27</td>\n",
       "    </tr>\n",
       "    <tr>\n",
       "      <th>9</th>\n",
       "      <td>Compras de otros aprovisionamientos</td>\n",
       "      <td>943.79</td>\n",
       "    </tr>\n",
       "    <tr>\n",
       "      <th>8</th>\n",
       "      <td>Compra de materias primas</td>\n",
       "      <td>613.42</td>\n",
       "    </tr>\n",
       "    <tr>\n",
       "      <th>15</th>\n",
       "      <td>Gasolina</td>\n",
       "      <td>474.98</td>\n",
       "    </tr>\n",
       "    <tr>\n",
       "      <th>17</th>\n",
       "      <td>Gastos Telefónicos</td>\n",
       "      <td>155.31</td>\n",
       "    </tr>\n",
       "    <tr>\n",
       "      <th>32</th>\n",
       "      <td>Transporte (Benin Ej. Bus)</td>\n",
       "      <td>149.49</td>\n",
       "    </tr>\n",
       "    <tr>\n",
       "      <th>22</th>\n",
       "      <td>Otros Servicios Profesionales</td>\n",
       "      <td>91.44</td>\n",
       "    </tr>\n",
       "    <tr>\n",
       "      <th>24</th>\n",
       "      <td>Reparaciones y conservación (Ej. coche)</td>\n",
       "      <td>40.40</td>\n",
       "    </tr>\n",
       "    <tr>\n",
       "      <th>26</th>\n",
       "      <td>Seguridad Social a Cargo de la Entidad</td>\n",
       "      <td>22.87</td>\n",
       "    </tr>\n",
       "    <tr>\n",
       "      <th>19</th>\n",
       "      <td>Gastos y Comisiones Financieras</td>\n",
       "      <td>15.98</td>\n",
       "    </tr>\n",
       "    <tr>\n",
       "      <th>31</th>\n",
       "      <td>Transformacion materia prima</td>\n",
       "      <td>15.24</td>\n",
       "    </tr>\n",
       "    <tr>\n",
       "      <th>21</th>\n",
       "      <td>Material de Oficina</td>\n",
       "      <td>11.42</td>\n",
       "    </tr>\n",
       "    <tr>\n",
       "      <th>33</th>\n",
       "      <td>Transporte de materias primas</td>\n",
       "      <td>9.15</td>\n",
       "    </tr>\n",
       "  </tbody>\n",
       "</table>\n",
       "</div>"
      ],
      "text/plain": [
       "                                  categoria   amount\n",
       "29                       Sueldos y Salarios  1310.27\n",
       "9       Compras de otros aprovisionamientos   943.79\n",
       "8                 Compra de materias primas   613.42\n",
       "15                                 Gasolina   474.98\n",
       "17                       Gastos Telefónicos   155.31\n",
       "32               Transporte (Benin Ej. Bus)   149.49\n",
       "22            Otros Servicios Profesionales    91.44\n",
       "24  Reparaciones y conservación (Ej. coche)    40.40\n",
       "26   Seguridad Social a Cargo de la Entidad    22.87\n",
       "19          Gastos y Comisiones Financieras    15.98\n",
       "31             Transformacion materia prima    15.24\n",
       "21                      Material de Oficina    11.42\n",
       "33            Transporte de materias primas     9.15"
      ]
     },
     "execution_count": 33,
     "metadata": {},
     "output_type": "execute_result"
    }
   ],
   "source": [
    "expense[expense['inter']=='Intervention 2020'].sort_values('amount',ascending=False)[['categoria','amount']]"
   ]
  },
  {
   "cell_type": "code",
   "execution_count": 34,
   "metadata": {
    "scrolled": false
   },
   "outputs": [
    {
     "data": {
      "application/vnd.plotly.v1+json": {
       "config": {
        "linkText": "Export to plot.ly",
        "plotlyServerURL": "https://plot.ly",
        "showLink": true
       },
       "data": [
        {
         "marker": {
          "color": "rgba(255, 153, 51, 0.6)",
          "line": {
           "color": "rgba(255, 153, 51, 1.0)",
           "width": 1
          }
         },
         "name": "amount",
         "orientation": "v",
         "text": "",
         "type": "bar",
         "x": [
          "Sueldos y Salarios",
          "Compras de otros aprovisionamientos",
          "Compra de materias primas",
          "Gasolina",
          "Gastos Telefónicos",
          "Transporte (Benin Ej. Bus)",
          "Otros Servicios Profesionales",
          "Reparaciones y conservación (Ej. coche)",
          "Seguridad Social a Cargo de la Entidad",
          "Gastos y Comisiones Financieras",
          "Transformacion materia prima",
          "Material de Oficina",
          "Transporte de materias primas"
         ],
         "y": [
          1310.2700000000002,
          943.7900000000001,
          613.4200000000001,
          474.98,
          155.31,
          149.49,
          91.44,
          40.400000000000006,
          22.87,
          15.98,
          15.24,
          11.419999999999998,
          9.15
         ]
        }
       ],
       "layout": {
        "legend": {
         "bgcolor": "#F5F6F9",
         "font": {
          "color": "#4D5663"
         }
        },
        "paper_bgcolor": "#F5F6F9",
        "plot_bgcolor": "#F5F6F9",
        "template": {
         "data": {
          "bar": [
           {
            "error_x": {
             "color": "#2a3f5f"
            },
            "error_y": {
             "color": "#2a3f5f"
            },
            "marker": {
             "line": {
              "color": "#E5ECF6",
              "width": 0.5
             }
            },
            "type": "bar"
           }
          ],
          "barpolar": [
           {
            "marker": {
             "line": {
              "color": "#E5ECF6",
              "width": 0.5
             }
            },
            "type": "barpolar"
           }
          ],
          "carpet": [
           {
            "aaxis": {
             "endlinecolor": "#2a3f5f",
             "gridcolor": "white",
             "linecolor": "white",
             "minorgridcolor": "white",
             "startlinecolor": "#2a3f5f"
            },
            "baxis": {
             "endlinecolor": "#2a3f5f",
             "gridcolor": "white",
             "linecolor": "white",
             "minorgridcolor": "white",
             "startlinecolor": "#2a3f5f"
            },
            "type": "carpet"
           }
          ],
          "choropleth": [
           {
            "colorbar": {
             "outlinewidth": 0,
             "ticks": ""
            },
            "type": "choropleth"
           }
          ],
          "contour": [
           {
            "colorbar": {
             "outlinewidth": 0,
             "ticks": ""
            },
            "colorscale": [
             [
              0,
              "#0d0887"
             ],
             [
              0.1111111111111111,
              "#46039f"
             ],
             [
              0.2222222222222222,
              "#7201a8"
             ],
             [
              0.3333333333333333,
              "#9c179e"
             ],
             [
              0.4444444444444444,
              "#bd3786"
             ],
             [
              0.5555555555555556,
              "#d8576b"
             ],
             [
              0.6666666666666666,
              "#ed7953"
             ],
             [
              0.7777777777777778,
              "#fb9f3a"
             ],
             [
              0.8888888888888888,
              "#fdca26"
             ],
             [
              1,
              "#f0f921"
             ]
            ],
            "type": "contour"
           }
          ],
          "contourcarpet": [
           {
            "colorbar": {
             "outlinewidth": 0,
             "ticks": ""
            },
            "type": "contourcarpet"
           }
          ],
          "heatmap": [
           {
            "colorbar": {
             "outlinewidth": 0,
             "ticks": ""
            },
            "colorscale": [
             [
              0,
              "#0d0887"
             ],
             [
              0.1111111111111111,
              "#46039f"
             ],
             [
              0.2222222222222222,
              "#7201a8"
             ],
             [
              0.3333333333333333,
              "#9c179e"
             ],
             [
              0.4444444444444444,
              "#bd3786"
             ],
             [
              0.5555555555555556,
              "#d8576b"
             ],
             [
              0.6666666666666666,
              "#ed7953"
             ],
             [
              0.7777777777777778,
              "#fb9f3a"
             ],
             [
              0.8888888888888888,
              "#fdca26"
             ],
             [
              1,
              "#f0f921"
             ]
            ],
            "type": "heatmap"
           }
          ],
          "heatmapgl": [
           {
            "colorbar": {
             "outlinewidth": 0,
             "ticks": ""
            },
            "colorscale": [
             [
              0,
              "#0d0887"
             ],
             [
              0.1111111111111111,
              "#46039f"
             ],
             [
              0.2222222222222222,
              "#7201a8"
             ],
             [
              0.3333333333333333,
              "#9c179e"
             ],
             [
              0.4444444444444444,
              "#bd3786"
             ],
             [
              0.5555555555555556,
              "#d8576b"
             ],
             [
              0.6666666666666666,
              "#ed7953"
             ],
             [
              0.7777777777777778,
              "#fb9f3a"
             ],
             [
              0.8888888888888888,
              "#fdca26"
             ],
             [
              1,
              "#f0f921"
             ]
            ],
            "type": "heatmapgl"
           }
          ],
          "histogram": [
           {
            "marker": {
             "colorbar": {
              "outlinewidth": 0,
              "ticks": ""
             }
            },
            "type": "histogram"
           }
          ],
          "histogram2d": [
           {
            "colorbar": {
             "outlinewidth": 0,
             "ticks": ""
            },
            "colorscale": [
             [
              0,
              "#0d0887"
             ],
             [
              0.1111111111111111,
              "#46039f"
             ],
             [
              0.2222222222222222,
              "#7201a8"
             ],
             [
              0.3333333333333333,
              "#9c179e"
             ],
             [
              0.4444444444444444,
              "#bd3786"
             ],
             [
              0.5555555555555556,
              "#d8576b"
             ],
             [
              0.6666666666666666,
              "#ed7953"
             ],
             [
              0.7777777777777778,
              "#fb9f3a"
             ],
             [
              0.8888888888888888,
              "#fdca26"
             ],
             [
              1,
              "#f0f921"
             ]
            ],
            "type": "histogram2d"
           }
          ],
          "histogram2dcontour": [
           {
            "colorbar": {
             "outlinewidth": 0,
             "ticks": ""
            },
            "colorscale": [
             [
              0,
              "#0d0887"
             ],
             [
              0.1111111111111111,
              "#46039f"
             ],
             [
              0.2222222222222222,
              "#7201a8"
             ],
             [
              0.3333333333333333,
              "#9c179e"
             ],
             [
              0.4444444444444444,
              "#bd3786"
             ],
             [
              0.5555555555555556,
              "#d8576b"
             ],
             [
              0.6666666666666666,
              "#ed7953"
             ],
             [
              0.7777777777777778,
              "#fb9f3a"
             ],
             [
              0.8888888888888888,
              "#fdca26"
             ],
             [
              1,
              "#f0f921"
             ]
            ],
            "type": "histogram2dcontour"
           }
          ],
          "mesh3d": [
           {
            "colorbar": {
             "outlinewidth": 0,
             "ticks": ""
            },
            "type": "mesh3d"
           }
          ],
          "parcoords": [
           {
            "line": {
             "colorbar": {
              "outlinewidth": 0,
              "ticks": ""
             }
            },
            "type": "parcoords"
           }
          ],
          "pie": [
           {
            "automargin": true,
            "type": "pie"
           }
          ],
          "scatter": [
           {
            "marker": {
             "colorbar": {
              "outlinewidth": 0,
              "ticks": ""
             }
            },
            "type": "scatter"
           }
          ],
          "scatter3d": [
           {
            "line": {
             "colorbar": {
              "outlinewidth": 0,
              "ticks": ""
             }
            },
            "marker": {
             "colorbar": {
              "outlinewidth": 0,
              "ticks": ""
             }
            },
            "type": "scatter3d"
           }
          ],
          "scattercarpet": [
           {
            "marker": {
             "colorbar": {
              "outlinewidth": 0,
              "ticks": ""
             }
            },
            "type": "scattercarpet"
           }
          ],
          "scattergeo": [
           {
            "marker": {
             "colorbar": {
              "outlinewidth": 0,
              "ticks": ""
             }
            },
            "type": "scattergeo"
           }
          ],
          "scattergl": [
           {
            "marker": {
             "colorbar": {
              "outlinewidth": 0,
              "ticks": ""
             }
            },
            "type": "scattergl"
           }
          ],
          "scattermapbox": [
           {
            "marker": {
             "colorbar": {
              "outlinewidth": 0,
              "ticks": ""
             }
            },
            "type": "scattermapbox"
           }
          ],
          "scatterpolar": [
           {
            "marker": {
             "colorbar": {
              "outlinewidth": 0,
              "ticks": ""
             }
            },
            "type": "scatterpolar"
           }
          ],
          "scatterpolargl": [
           {
            "marker": {
             "colorbar": {
              "outlinewidth": 0,
              "ticks": ""
             }
            },
            "type": "scatterpolargl"
           }
          ],
          "scatterternary": [
           {
            "marker": {
             "colorbar": {
              "outlinewidth": 0,
              "ticks": ""
             }
            },
            "type": "scatterternary"
           }
          ],
          "surface": [
           {
            "colorbar": {
             "outlinewidth": 0,
             "ticks": ""
            },
            "colorscale": [
             [
              0,
              "#0d0887"
             ],
             [
              0.1111111111111111,
              "#46039f"
             ],
             [
              0.2222222222222222,
              "#7201a8"
             ],
             [
              0.3333333333333333,
              "#9c179e"
             ],
             [
              0.4444444444444444,
              "#bd3786"
             ],
             [
              0.5555555555555556,
              "#d8576b"
             ],
             [
              0.6666666666666666,
              "#ed7953"
             ],
             [
              0.7777777777777778,
              "#fb9f3a"
             ],
             [
              0.8888888888888888,
              "#fdca26"
             ],
             [
              1,
              "#f0f921"
             ]
            ],
            "type": "surface"
           }
          ],
          "table": [
           {
            "cells": {
             "fill": {
              "color": "#EBF0F8"
             },
             "line": {
              "color": "white"
             }
            },
            "header": {
             "fill": {
              "color": "#C8D4E3"
             },
             "line": {
              "color": "white"
             }
            },
            "type": "table"
           }
          ]
         },
         "layout": {
          "annotationdefaults": {
           "arrowcolor": "#2a3f5f",
           "arrowhead": 0,
           "arrowwidth": 1
          },
          "coloraxis": {
           "colorbar": {
            "outlinewidth": 0,
            "ticks": ""
           }
          },
          "colorscale": {
           "diverging": [
            [
             0,
             "#8e0152"
            ],
            [
             0.1,
             "#c51b7d"
            ],
            [
             0.2,
             "#de77ae"
            ],
            [
             0.3,
             "#f1b6da"
            ],
            [
             0.4,
             "#fde0ef"
            ],
            [
             0.5,
             "#f7f7f7"
            ],
            [
             0.6,
             "#e6f5d0"
            ],
            [
             0.7,
             "#b8e186"
            ],
            [
             0.8,
             "#7fbc41"
            ],
            [
             0.9,
             "#4d9221"
            ],
            [
             1,
             "#276419"
            ]
           ],
           "sequential": [
            [
             0,
             "#0d0887"
            ],
            [
             0.1111111111111111,
             "#46039f"
            ],
            [
             0.2222222222222222,
             "#7201a8"
            ],
            [
             0.3333333333333333,
             "#9c179e"
            ],
            [
             0.4444444444444444,
             "#bd3786"
            ],
            [
             0.5555555555555556,
             "#d8576b"
            ],
            [
             0.6666666666666666,
             "#ed7953"
            ],
            [
             0.7777777777777778,
             "#fb9f3a"
            ],
            [
             0.8888888888888888,
             "#fdca26"
            ],
            [
             1,
             "#f0f921"
            ]
           ],
           "sequentialminus": [
            [
             0,
             "#0d0887"
            ],
            [
             0.1111111111111111,
             "#46039f"
            ],
            [
             0.2222222222222222,
             "#7201a8"
            ],
            [
             0.3333333333333333,
             "#9c179e"
            ],
            [
             0.4444444444444444,
             "#bd3786"
            ],
            [
             0.5555555555555556,
             "#d8576b"
            ],
            [
             0.6666666666666666,
             "#ed7953"
            ],
            [
             0.7777777777777778,
             "#fb9f3a"
            ],
            [
             0.8888888888888888,
             "#fdca26"
            ],
            [
             1,
             "#f0f921"
            ]
           ]
          },
          "colorway": [
           "#636efa",
           "#EF553B",
           "#00cc96",
           "#ab63fa",
           "#FFA15A",
           "#19d3f3",
           "#FF6692",
           "#B6E880",
           "#FF97FF",
           "#FECB52"
          ],
          "font": {
           "color": "#2a3f5f"
          },
          "geo": {
           "bgcolor": "white",
           "lakecolor": "white",
           "landcolor": "#E5ECF6",
           "showlakes": true,
           "showland": true,
           "subunitcolor": "white"
          },
          "hoverlabel": {
           "align": "left"
          },
          "hovermode": "closest",
          "mapbox": {
           "style": "light"
          },
          "paper_bgcolor": "white",
          "plot_bgcolor": "#E5ECF6",
          "polar": {
           "angularaxis": {
            "gridcolor": "white",
            "linecolor": "white",
            "ticks": ""
           },
           "bgcolor": "#E5ECF6",
           "radialaxis": {
            "gridcolor": "white",
            "linecolor": "white",
            "ticks": ""
           }
          },
          "scene": {
           "xaxis": {
            "backgroundcolor": "#E5ECF6",
            "gridcolor": "white",
            "gridwidth": 2,
            "linecolor": "white",
            "showbackground": true,
            "ticks": "",
            "zerolinecolor": "white"
           },
           "yaxis": {
            "backgroundcolor": "#E5ECF6",
            "gridcolor": "white",
            "gridwidth": 2,
            "linecolor": "white",
            "showbackground": true,
            "ticks": "",
            "zerolinecolor": "white"
           },
           "zaxis": {
            "backgroundcolor": "#E5ECF6",
            "gridcolor": "white",
            "gridwidth": 2,
            "linecolor": "white",
            "showbackground": true,
            "ticks": "",
            "zerolinecolor": "white"
           }
          },
          "shapedefaults": {
           "line": {
            "color": "#2a3f5f"
           }
          },
          "ternary": {
           "aaxis": {
            "gridcolor": "white",
            "linecolor": "white",
            "ticks": ""
           },
           "baxis": {
            "gridcolor": "white",
            "linecolor": "white",
            "ticks": ""
           },
           "bgcolor": "#E5ECF6",
           "caxis": {
            "gridcolor": "white",
            "linecolor": "white",
            "ticks": ""
           }
          },
          "title": {
           "x": 0.05
          },
          "xaxis": {
           "automargin": true,
           "gridcolor": "white",
           "linecolor": "white",
           "ticks": "",
           "title": {
            "standoff": 15
           },
           "zerolinecolor": "white",
           "zerolinewidth": 2
          },
          "yaxis": {
           "automargin": true,
           "gridcolor": "white",
           "linecolor": "white",
           "ticks": "",
           "title": {
            "standoff": 15
           },
           "zerolinecolor": "white",
           "zerolinewidth": 2
          }
         }
        },
        "title": {
         "font": {
          "color": "#4D5663"
         },
         "text": "GASTOS NIKKI - 3853.75 €"
        },
        "xaxis": {
         "gridcolor": "#E1E5ED",
         "showgrid": true,
         "tickfont": {
          "color": "#4D5663"
         },
         "title": {
          "font": {
           "color": "#4D5663"
          },
          "text": ""
         },
         "zerolinecolor": "#E1E5ED"
        },
        "yaxis": {
         "gridcolor": "#E1E5ED",
         "showgrid": true,
         "tickfont": {
          "color": "#4D5663"
         },
         "title": {
          "font": {
           "color": "#4D5663"
          },
          "text": ""
         },
         "zerolinecolor": "#E1E5ED"
        }
       }
      },
      "text/html": [
       "<div>\n",
       "        \n",
       "        \n",
       "            <div id=\"ab05baa1-858f-4e3b-a405-fd6bcb38a6eb\" class=\"plotly-graph-div\" style=\"height:525px; width:100%;\"></div>\n",
       "            <script type=\"text/javascript\">\n",
       "                require([\"plotly\"], function(Plotly) {\n",
       "                    window.PLOTLYENV=window.PLOTLYENV || {};\n",
       "                    window.PLOTLYENV.BASE_URL='https://plot.ly';\n",
       "                    \n",
       "                if (document.getElementById(\"ab05baa1-858f-4e3b-a405-fd6bcb38a6eb\")) {\n",
       "                    Plotly.newPlot(\n",
       "                        'ab05baa1-858f-4e3b-a405-fd6bcb38a6eb',\n",
       "                        [{\"marker\": {\"color\": \"rgba(255, 153, 51, 0.6)\", \"line\": {\"color\": \"rgba(255, 153, 51, 1.0)\", \"width\": 1}}, \"name\": \"amount\", \"orientation\": \"v\", \"text\": \"\", \"type\": \"bar\", \"x\": [\"Sueldos y Salarios\", \"Compras de otros aprovisionamientos\", \"Compra de materias primas\", \"Gasolina\", \"Gastos Telef\\u00f3nicos\", \"Transporte (Benin Ej. Bus)\", \"Otros Servicios Profesionales\", \"Reparaciones y conservaci\\u00f3n (Ej. coche)\", \"Seguridad Social a Cargo de la Entidad\", \"Gastos y Comisiones Financieras\", \"Transformacion materia prima\", \"Material de Oficina\", \"Transporte de materias primas\"], \"y\": [1310.2700000000002, 943.7900000000001, 613.4200000000001, 474.98, 155.31, 149.49, 91.44, 40.400000000000006, 22.87, 15.98, 15.24, 11.419999999999998, 9.15]}],\n",
       "                        {\"legend\": {\"bgcolor\": \"#F5F6F9\", \"font\": {\"color\": \"#4D5663\"}}, \"paper_bgcolor\": \"#F5F6F9\", \"plot_bgcolor\": \"#F5F6F9\", \"template\": {\"data\": {\"bar\": [{\"error_x\": {\"color\": \"#2a3f5f\"}, \"error_y\": {\"color\": \"#2a3f5f\"}, \"marker\": {\"line\": {\"color\": \"#E5ECF6\", \"width\": 0.5}}, \"type\": \"bar\"}], \"barpolar\": [{\"marker\": {\"line\": {\"color\": \"#E5ECF6\", \"width\": 0.5}}, \"type\": \"barpolar\"}], \"carpet\": [{\"aaxis\": {\"endlinecolor\": \"#2a3f5f\", \"gridcolor\": \"white\", \"linecolor\": \"white\", \"minorgridcolor\": \"white\", \"startlinecolor\": \"#2a3f5f\"}, \"baxis\": {\"endlinecolor\": \"#2a3f5f\", \"gridcolor\": \"white\", \"linecolor\": \"white\", \"minorgridcolor\": \"white\", \"startlinecolor\": \"#2a3f5f\"}, \"type\": \"carpet\"}], \"choropleth\": [{\"colorbar\": {\"outlinewidth\": 0, \"ticks\": \"\"}, \"type\": \"choropleth\"}], \"contour\": [{\"colorbar\": {\"outlinewidth\": 0, \"ticks\": \"\"}, \"colorscale\": [[0.0, \"#0d0887\"], [0.1111111111111111, \"#46039f\"], [0.2222222222222222, \"#7201a8\"], [0.3333333333333333, \"#9c179e\"], [0.4444444444444444, \"#bd3786\"], [0.5555555555555556, \"#d8576b\"], [0.6666666666666666, \"#ed7953\"], [0.7777777777777778, \"#fb9f3a\"], [0.8888888888888888, \"#fdca26\"], [1.0, \"#f0f921\"]], \"type\": \"contour\"}], \"contourcarpet\": [{\"colorbar\": {\"outlinewidth\": 0, \"ticks\": \"\"}, \"type\": \"contourcarpet\"}], \"heatmap\": [{\"colorbar\": {\"outlinewidth\": 0, \"ticks\": \"\"}, \"colorscale\": [[0.0, \"#0d0887\"], [0.1111111111111111, \"#46039f\"], [0.2222222222222222, \"#7201a8\"], [0.3333333333333333, \"#9c179e\"], [0.4444444444444444, \"#bd3786\"], [0.5555555555555556, \"#d8576b\"], [0.6666666666666666, \"#ed7953\"], [0.7777777777777778, \"#fb9f3a\"], [0.8888888888888888, \"#fdca26\"], [1.0, \"#f0f921\"]], \"type\": \"heatmap\"}], \"heatmapgl\": [{\"colorbar\": {\"outlinewidth\": 0, \"ticks\": \"\"}, \"colorscale\": [[0.0, \"#0d0887\"], [0.1111111111111111, \"#46039f\"], [0.2222222222222222, \"#7201a8\"], [0.3333333333333333, \"#9c179e\"], [0.4444444444444444, \"#bd3786\"], [0.5555555555555556, \"#d8576b\"], [0.6666666666666666, \"#ed7953\"], [0.7777777777777778, \"#fb9f3a\"], [0.8888888888888888, \"#fdca26\"], [1.0, \"#f0f921\"]], \"type\": \"heatmapgl\"}], \"histogram\": [{\"marker\": {\"colorbar\": {\"outlinewidth\": 0, \"ticks\": \"\"}}, \"type\": \"histogram\"}], \"histogram2d\": [{\"colorbar\": {\"outlinewidth\": 0, \"ticks\": \"\"}, \"colorscale\": [[0.0, \"#0d0887\"], [0.1111111111111111, \"#46039f\"], [0.2222222222222222, \"#7201a8\"], [0.3333333333333333, \"#9c179e\"], [0.4444444444444444, \"#bd3786\"], [0.5555555555555556, \"#d8576b\"], [0.6666666666666666, \"#ed7953\"], [0.7777777777777778, \"#fb9f3a\"], [0.8888888888888888, \"#fdca26\"], [1.0, \"#f0f921\"]], \"type\": \"histogram2d\"}], \"histogram2dcontour\": [{\"colorbar\": {\"outlinewidth\": 0, \"ticks\": \"\"}, \"colorscale\": [[0.0, \"#0d0887\"], [0.1111111111111111, \"#46039f\"], [0.2222222222222222, \"#7201a8\"], [0.3333333333333333, \"#9c179e\"], [0.4444444444444444, \"#bd3786\"], [0.5555555555555556, \"#d8576b\"], [0.6666666666666666, \"#ed7953\"], [0.7777777777777778, \"#fb9f3a\"], [0.8888888888888888, \"#fdca26\"], [1.0, \"#f0f921\"]], \"type\": \"histogram2dcontour\"}], \"mesh3d\": [{\"colorbar\": {\"outlinewidth\": 0, \"ticks\": \"\"}, \"type\": \"mesh3d\"}], \"parcoords\": [{\"line\": {\"colorbar\": {\"outlinewidth\": 0, \"ticks\": \"\"}}, \"type\": \"parcoords\"}], \"pie\": [{\"automargin\": true, \"type\": \"pie\"}], \"scatter\": [{\"marker\": {\"colorbar\": {\"outlinewidth\": 0, \"ticks\": \"\"}}, \"type\": \"scatter\"}], \"scatter3d\": [{\"line\": {\"colorbar\": {\"outlinewidth\": 0, \"ticks\": \"\"}}, \"marker\": {\"colorbar\": {\"outlinewidth\": 0, \"ticks\": \"\"}}, \"type\": \"scatter3d\"}], \"scattercarpet\": [{\"marker\": {\"colorbar\": {\"outlinewidth\": 0, \"ticks\": \"\"}}, \"type\": \"scattercarpet\"}], \"scattergeo\": [{\"marker\": {\"colorbar\": {\"outlinewidth\": 0, \"ticks\": \"\"}}, \"type\": \"scattergeo\"}], \"scattergl\": [{\"marker\": {\"colorbar\": {\"outlinewidth\": 0, \"ticks\": \"\"}}, \"type\": \"scattergl\"}], \"scattermapbox\": [{\"marker\": {\"colorbar\": {\"outlinewidth\": 0, \"ticks\": \"\"}}, \"type\": \"scattermapbox\"}], \"scatterpolar\": [{\"marker\": {\"colorbar\": {\"outlinewidth\": 0, \"ticks\": \"\"}}, \"type\": \"scatterpolar\"}], \"scatterpolargl\": [{\"marker\": {\"colorbar\": {\"outlinewidth\": 0, \"ticks\": \"\"}}, \"type\": \"scatterpolargl\"}], \"scatterternary\": [{\"marker\": {\"colorbar\": {\"outlinewidth\": 0, \"ticks\": \"\"}}, \"type\": \"scatterternary\"}], \"surface\": [{\"colorbar\": {\"outlinewidth\": 0, \"ticks\": \"\"}, \"colorscale\": [[0.0, \"#0d0887\"], [0.1111111111111111, \"#46039f\"], [0.2222222222222222, \"#7201a8\"], [0.3333333333333333, \"#9c179e\"], [0.4444444444444444, \"#bd3786\"], [0.5555555555555556, \"#d8576b\"], [0.6666666666666666, \"#ed7953\"], [0.7777777777777778, \"#fb9f3a\"], [0.8888888888888888, \"#fdca26\"], [1.0, \"#f0f921\"]], \"type\": \"surface\"}], \"table\": [{\"cells\": {\"fill\": {\"color\": \"#EBF0F8\"}, \"line\": {\"color\": \"white\"}}, \"header\": {\"fill\": {\"color\": \"#C8D4E3\"}, \"line\": {\"color\": \"white\"}}, \"type\": \"table\"}]}, \"layout\": {\"annotationdefaults\": {\"arrowcolor\": \"#2a3f5f\", \"arrowhead\": 0, \"arrowwidth\": 1}, \"coloraxis\": {\"colorbar\": {\"outlinewidth\": 0, \"ticks\": \"\"}}, \"colorscale\": {\"diverging\": [[0, \"#8e0152\"], [0.1, \"#c51b7d\"], [0.2, \"#de77ae\"], [0.3, \"#f1b6da\"], [0.4, \"#fde0ef\"], [0.5, \"#f7f7f7\"], [0.6, \"#e6f5d0\"], [0.7, \"#b8e186\"], [0.8, \"#7fbc41\"], [0.9, \"#4d9221\"], [1, \"#276419\"]], \"sequential\": [[0.0, \"#0d0887\"], [0.1111111111111111, \"#46039f\"], [0.2222222222222222, \"#7201a8\"], [0.3333333333333333, \"#9c179e\"], [0.4444444444444444, \"#bd3786\"], [0.5555555555555556, \"#d8576b\"], [0.6666666666666666, \"#ed7953\"], [0.7777777777777778, \"#fb9f3a\"], [0.8888888888888888, \"#fdca26\"], [1.0, \"#f0f921\"]], \"sequentialminus\": [[0.0, \"#0d0887\"], [0.1111111111111111, \"#46039f\"], [0.2222222222222222, \"#7201a8\"], [0.3333333333333333, \"#9c179e\"], [0.4444444444444444, \"#bd3786\"], [0.5555555555555556, \"#d8576b\"], [0.6666666666666666, \"#ed7953\"], [0.7777777777777778, \"#fb9f3a\"], [0.8888888888888888, \"#fdca26\"], [1.0, \"#f0f921\"]]}, \"colorway\": [\"#636efa\", \"#EF553B\", \"#00cc96\", \"#ab63fa\", \"#FFA15A\", \"#19d3f3\", \"#FF6692\", \"#B6E880\", \"#FF97FF\", \"#FECB52\"], \"font\": {\"color\": \"#2a3f5f\"}, \"geo\": {\"bgcolor\": \"white\", \"lakecolor\": \"white\", \"landcolor\": \"#E5ECF6\", \"showlakes\": true, \"showland\": true, \"subunitcolor\": \"white\"}, \"hoverlabel\": {\"align\": \"left\"}, \"hovermode\": \"closest\", \"mapbox\": {\"style\": \"light\"}, \"paper_bgcolor\": \"white\", \"plot_bgcolor\": \"#E5ECF6\", \"polar\": {\"angularaxis\": {\"gridcolor\": \"white\", \"linecolor\": \"white\", \"ticks\": \"\"}, \"bgcolor\": \"#E5ECF6\", \"radialaxis\": {\"gridcolor\": \"white\", \"linecolor\": \"white\", \"ticks\": \"\"}}, \"scene\": {\"xaxis\": {\"backgroundcolor\": \"#E5ECF6\", \"gridcolor\": \"white\", \"gridwidth\": 2, \"linecolor\": \"white\", \"showbackground\": true, \"ticks\": \"\", \"zerolinecolor\": \"white\"}, \"yaxis\": {\"backgroundcolor\": \"#E5ECF6\", \"gridcolor\": \"white\", \"gridwidth\": 2, \"linecolor\": \"white\", \"showbackground\": true, \"ticks\": \"\", \"zerolinecolor\": \"white\"}, \"zaxis\": {\"backgroundcolor\": \"#E5ECF6\", \"gridcolor\": \"white\", \"gridwidth\": 2, \"linecolor\": \"white\", \"showbackground\": true, \"ticks\": \"\", \"zerolinecolor\": \"white\"}}, \"shapedefaults\": {\"line\": {\"color\": \"#2a3f5f\"}}, \"ternary\": {\"aaxis\": {\"gridcolor\": \"white\", \"linecolor\": \"white\", \"ticks\": \"\"}, \"baxis\": {\"gridcolor\": \"white\", \"linecolor\": \"white\", \"ticks\": \"\"}, \"bgcolor\": \"#E5ECF6\", \"caxis\": {\"gridcolor\": \"white\", \"linecolor\": \"white\", \"ticks\": \"\"}}, \"title\": {\"x\": 0.05}, \"xaxis\": {\"automargin\": true, \"gridcolor\": \"white\", \"linecolor\": \"white\", \"ticks\": \"\", \"title\": {\"standoff\": 15}, \"zerolinecolor\": \"white\", \"zerolinewidth\": 2}, \"yaxis\": {\"automargin\": true, \"gridcolor\": \"white\", \"linecolor\": \"white\", \"ticks\": \"\", \"title\": {\"standoff\": 15}, \"zerolinecolor\": \"white\", \"zerolinewidth\": 2}}}, \"title\": {\"font\": {\"color\": \"#4D5663\"}, \"text\": \"GASTOS NIKKI - 3853.75 \\u20ac\"}, \"xaxis\": {\"gridcolor\": \"#E1E5ED\", \"showgrid\": true, \"tickfont\": {\"color\": \"#4D5663\"}, \"title\": {\"font\": {\"color\": \"#4D5663\"}, \"text\": \"\"}, \"zerolinecolor\": \"#E1E5ED\"}, \"yaxis\": {\"gridcolor\": \"#E1E5ED\", \"showgrid\": true, \"tickfont\": {\"color\": \"#4D5663\"}, \"title\": {\"font\": {\"color\": \"#4D5663\"}, \"text\": \"\"}, \"zerolinecolor\": \"#E1E5ED\"}},\n",
       "                        {\"showLink\": true, \"linkText\": \"Export to plot.ly\", \"plotlyServerURL\": \"https://plot.ly\", \"responsive\": true}\n",
       "                    ).then(function(){\n",
       "                            \n",
       "var gd = document.getElementById('ab05baa1-858f-4e3b-a405-fd6bcb38a6eb');\n",
       "var x = new MutationObserver(function (mutations, observer) {{\n",
       "        var display = window.getComputedStyle(gd).display;\n",
       "        if (!display || display === 'none') {{\n",
       "            console.log([gd, 'removed!']);\n",
       "            Plotly.purge(gd);\n",
       "            observer.disconnect();\n",
       "        }}\n",
       "}});\n",
       "\n",
       "// Listen for the removal of the full notebook cells\n",
       "var notebookContainer = gd.closest('#notebook-container');\n",
       "if (notebookContainer) {{\n",
       "    x.observe(notebookContainer, {childList: true});\n",
       "}}\n",
       "\n",
       "// Listen for the clearing of the current output cell\n",
       "var outputEl = gd.closest('.output');\n",
       "if (outputEl) {{\n",
       "    x.observe(outputEl, {childList: true});\n",
       "}}\n",
       "\n",
       "                        })\n",
       "                };\n",
       "                });\n",
       "            </script>\n",
       "        </div>"
      ]
     },
     "metadata": {},
     "output_type": "display_data"
    }
   ],
   "source": [
    "expense[expense['inter']=='Intervention 2020'].sort_values('amount',ascending=False).iplot(kind='bar',x='categoria',y='amount',title='GASTOS NIKKI - 3853.75 €')"
   ]
  },
  {
   "cell_type": "code",
   "execution_count": 59,
   "metadata": {},
   "outputs": [
    {
     "data": {
      "text/html": [
       "<div>\n",
       "<style scoped>\n",
       "    .dataframe tbody tr th:only-of-type {\n",
       "        vertical-align: middle;\n",
       "    }\n",
       "\n",
       "    .dataframe tbody tr th {\n",
       "        vertical-align: top;\n",
       "    }\n",
       "\n",
       "    .dataframe thead th {\n",
       "        text-align: right;\n",
       "    }\n",
       "</style>\n",
       "<table border=\"1\" class=\"dataframe\">\n",
       "  <thead>\n",
       "    <tr style=\"text-align: right;\">\n",
       "      <th></th>\n",
       "      <th>concept</th>\n",
       "      <th>amount</th>\n",
       "      <th>month_day</th>\n",
       "      <th>description</th>\n",
       "    </tr>\n",
       "  </thead>\n",
       "  <tbody>\n",
       "    <tr>\n",
       "      <th>1368</th>\n",
       "      <td>Salaire / Personnelle</td>\n",
       "      <td>60.89</td>\n",
       "      <td>02-20</td>\n",
       "      <td>Salaires del mes de febrero 2020 de Younous y ...</td>\n",
       "    </tr>\n",
       "    <tr>\n",
       "      <th>1366</th>\n",
       "      <td>Salaire / Personnelle</td>\n",
       "      <td>22.83</td>\n",
       "      <td>02-27</td>\n",
       "      <td>Salaire de Younous, Mireille et Lamatou pour l...</td>\n",
       "    </tr>\n",
       "    <tr>\n",
       "      <th>1370</th>\n",
       "      <td>Salaire / Personnelle</td>\n",
       "      <td>45.66</td>\n",
       "      <td>03-12</td>\n",
       "      <td>2 visites aux villages nouveaux avec Lamatou, ...</td>\n",
       "    </tr>\n",
       "    <tr>\n",
       "      <th>1367</th>\n",
       "      <td>Salaire / Personnelle</td>\n",
       "      <td>91.33</td>\n",
       "      <td>03-31</td>\n",
       "      <td>Salaire pour voyage dans les villages</td>\n",
       "    </tr>\n",
       "    <tr>\n",
       "      <th>1372</th>\n",
       "      <td>Salaire / Personnelle</td>\n",
       "      <td>53.35</td>\n",
       "      <td>04-18</td>\n",
       "      <td>Salaire younouss et lamatou</td>\n",
       "    </tr>\n",
       "    <tr>\n",
       "      <th>1369</th>\n",
       "      <td>Salaire / Personnelle</td>\n",
       "      <td>91.33</td>\n",
       "      <td>04-30</td>\n",
       "      <td>Salaire mensuel</td>\n",
       "    </tr>\n",
       "    <tr>\n",
       "      <th>1364</th>\n",
       "      <td>entretien younouss</td>\n",
       "      <td>22.87</td>\n",
       "      <td>05-27</td>\n",
       "      <td>entretien de younouss pour voyager dans les vi...</td>\n",
       "    </tr>\n",
       "    <tr>\n",
       "      <th>1357</th>\n",
       "      <td>salaire mireille</td>\n",
       "      <td>121.95</td>\n",
       "      <td>06-01</td>\n",
       "      <td>salaire du mois de Mai</td>\n",
       "    </tr>\n",
       "    <tr>\n",
       "      <th>1089</th>\n",
       "      <td>salaire younouss</td>\n",
       "      <td>60.98</td>\n",
       "      <td>06-18</td>\n",
       "      <td>entretien de younouss du voyage sur parakou po...</td>\n",
       "    </tr>\n",
       "    <tr>\n",
       "      <th>1092</th>\n",
       "      <td>entretien younouss</td>\n",
       "      <td>15.24</td>\n",
       "      <td>06-20</td>\n",
       "      <td>salaire de younouss pour le voyage sur parakou...</td>\n",
       "    </tr>\n",
       "    <tr>\n",
       "      <th>1094</th>\n",
       "      <td>entretien younouss</td>\n",
       "      <td>7.62</td>\n",
       "      <td>06-22</td>\n",
       "      <td>salaire de younouss pour le voyage dans les vi...</td>\n",
       "    </tr>\n",
       "    <tr>\n",
       "      <th>1091</th>\n",
       "      <td>entretien younouss</td>\n",
       "      <td>7.62</td>\n",
       "      <td>06-25</td>\n",
       "      <td>salaire de younouss pour boudhal et monnon</td>\n",
       "    </tr>\n",
       "    <tr>\n",
       "      <th>1093</th>\n",
       "      <td>entretien younouss</td>\n",
       "      <td>7.62</td>\n",
       "      <td>06-26</td>\n",
       "      <td>voyage avec ousmane sur sansi et bessangourou ...</td>\n",
       "    </tr>\n",
       "    <tr>\n",
       "      <th>1085</th>\n",
       "      <td>salaire mireille</td>\n",
       "      <td>182.93</td>\n",
       "      <td>07-10</td>\n",
       "      <td>salaire du mois de juin</td>\n",
       "    </tr>\n",
       "    <tr>\n",
       "      <th>1088</th>\n",
       "      <td>salaire younouss</td>\n",
       "      <td>68.60</td>\n",
       "      <td>07-13</td>\n",
       "      <td>salaire de younouss pour différents voyages</td>\n",
       "    </tr>\n",
       "    <tr>\n",
       "      <th>1087</th>\n",
       "      <td>salaire younouss</td>\n",
       "      <td>60.98</td>\n",
       "      <td>07-28</td>\n",
       "      <td>salaire de Younouss pour différents voyages</td>\n",
       "    </tr>\n",
       "    <tr>\n",
       "      <th>1086</th>\n",
       "      <td>salaire mireille</td>\n",
       "      <td>182.93</td>\n",
       "      <td>07-31</td>\n",
       "      <td>salaire du mois de juillet</td>\n",
       "    </tr>\n",
       "    <tr>\n",
       "      <th>1090</th>\n",
       "      <td>entretien Younouss</td>\n",
       "      <td>22.87</td>\n",
       "      <td>08-15</td>\n",
       "      <td>entretien de younouss pour trois sorties 05, 0...</td>\n",
       "    </tr>\n",
       "    <tr>\n",
       "      <th>1083</th>\n",
       "      <td>salaire lamatou</td>\n",
       "      <td>7.62</td>\n",
       "      <td>08-15</td>\n",
       "      <td>entretien lamatou pour la sortie sur boudhal</td>\n",
       "    </tr>\n",
       "    <tr>\n",
       "      <th>1371</th>\n",
       "      <td>Salaire / Personnelle</td>\n",
       "      <td>175.05</td>\n",
       "      <td>12-23</td>\n",
       "      <td>Salarios acumulados de Younous, Lamatou y Mire...</td>\n",
       "    </tr>\n",
       "  </tbody>\n",
       "</table>\n",
       "</div>"
      ],
      "text/plain": [
       "                    concept  amount month_day  \\\n",
       "1368  Salaire / Personnelle   60.89     02-20   \n",
       "1366  Salaire / Personnelle   22.83     02-27   \n",
       "1370  Salaire / Personnelle   45.66     03-12   \n",
       "1367  Salaire / Personnelle   91.33     03-31   \n",
       "1372  Salaire / Personnelle   53.35     04-18   \n",
       "1369  Salaire / Personnelle   91.33     04-30   \n",
       "1364     entretien younouss   22.87     05-27   \n",
       "1357       salaire mireille  121.95     06-01   \n",
       "1089       salaire younouss   60.98     06-18   \n",
       "1092     entretien younouss   15.24     06-20   \n",
       "1094     entretien younouss    7.62     06-22   \n",
       "1091     entretien younouss    7.62     06-25   \n",
       "1093     entretien younouss    7.62     06-26   \n",
       "1085       salaire mireille  182.93     07-10   \n",
       "1088       salaire younouss   68.60     07-13   \n",
       "1087       salaire younouss   60.98     07-28   \n",
       "1086       salaire mireille  182.93     07-31   \n",
       "1090     entretien Younouss   22.87     08-15   \n",
       "1083        salaire lamatou    7.62     08-15   \n",
       "1371  Salaire / Personnelle  175.05     12-23   \n",
       "\n",
       "                                            description  \n",
       "1368  Salaires del mes de febrero 2020 de Younous y ...  \n",
       "1366  Salaire de Younous, Mireille et Lamatou pour l...  \n",
       "1370  2 visites aux villages nouveaux avec Lamatou, ...  \n",
       "1367              Salaire pour voyage dans les villages  \n",
       "1372                        Salaire younouss et lamatou  \n",
       "1369                                    Salaire mensuel  \n",
       "1364  entretien de younouss pour voyager dans les vi...  \n",
       "1357                            salaire du mois de Mai   \n",
       "1089  entretien de younouss du voyage sur parakou po...  \n",
       "1092  salaire de younouss pour le voyage sur parakou...  \n",
       "1094  salaire de younouss pour le voyage dans les vi...  \n",
       "1091         salaire de younouss pour boudhal et monnon  \n",
       "1093  voyage avec ousmane sur sansi et bessangourou ...  \n",
       "1085                            salaire du mois de juin  \n",
       "1088        salaire de younouss pour différents voyages  \n",
       "1087        salaire de Younouss pour différents voyages  \n",
       "1086                         salaire du mois de juillet  \n",
       "1090  entretien de younouss pour trois sorties 05, 0...  \n",
       "1083       entretien lamatou pour la sortie sur boudhal  \n",
       "1371  Salarios acumulados de Younous, Lamatou y Mire...  "
      ]
     },
     "execution_count": 59,
     "metadata": {},
     "output_type": "execute_result"
    }
   ],
   "source": [
    "df_nikarit[(df_nikarit['inter']=='Intervention 2020') &\n",
    "         (df_nikarit['categoria']=='Sueldos y Salarios')][['concept','amount','month_day','description']].sort_values('month_day')\n"
   ]
  },
  {
   "cell_type": "markdown",
   "metadata": {},
   "source": [
    "Salaire / Personnelle\t91.33\t04-30\tSalaire mensuel (ABRIL)\n",
    "salaire mireille\t121.95\t06-01\tsalaire du mois de Mai\n",
    "alaire mireille\t182.93\t07-10\tsalaire du mois de juin\n",
    "salaire mireille\t182.93\t07-31\tsalaire du mois de juillet\n",
    "Salaire / Personnelle\t175.05\t12-23\tSalarios acumulados de Younous, Lamatou y Mire...\n"
   ]
  },
  {
   "cell_type": "markdown",
   "metadata": {},
   "source": [
    "## ESPAÑA"
   ]
  },
  {
   "cell_type": "code",
   "execution_count": 60,
   "metadata": {},
   "outputs": [
    {
     "data": {
      "text/html": [
       "<div>\n",
       "<style scoped>\n",
       "    .dataframe tbody tr th:only-of-type {\n",
       "        vertical-align: middle;\n",
       "    }\n",
       "\n",
       "    .dataframe tbody tr th {\n",
       "        vertical-align: top;\n",
       "    }\n",
       "\n",
       "    .dataframe thead th {\n",
       "        text-align: right;\n",
       "    }\n",
       "</style>\n",
       "<table border=\"1\" class=\"dataframe\">\n",
       "  <thead>\n",
       "    <tr style=\"text-align: right;\">\n",
       "      <th></th>\n",
       "      <th>categoria</th>\n",
       "      <th>amount</th>\n",
       "    </tr>\n",
       "  </thead>\n",
       "  <tbody>\n",
       "    <tr>\n",
       "      <th>30</th>\n",
       "      <td>Transformacion materia prima</td>\n",
       "      <td>7476.64</td>\n",
       "    </tr>\n",
       "    <tr>\n",
       "      <th>34</th>\n",
       "      <td>Transporte de ventas</td>\n",
       "      <td>3631.65</td>\n",
       "    </tr>\n",
       "    <tr>\n",
       "      <th>28</th>\n",
       "      <td>Sueldos y Salarios</td>\n",
       "      <td>3296.18</td>\n",
       "    </tr>\n",
       "    <tr>\n",
       "      <th>23</th>\n",
       "      <td>Otros Tributos</td>\n",
       "      <td>2149.46</td>\n",
       "    </tr>\n",
       "    <tr>\n",
       "      <th>25</th>\n",
       "      <td>Seguridad Social a Cargo de la Entidad</td>\n",
       "      <td>1930.91</td>\n",
       "    </tr>\n",
       "    <tr>\n",
       "      <th>14</th>\n",
       "      <td>Etiquetas de productos</td>\n",
       "      <td>1129.81</td>\n",
       "    </tr>\n",
       "    <tr>\n",
       "      <th>13</th>\n",
       "      <td>Envases de productos</td>\n",
       "      <td>1003.24</td>\n",
       "    </tr>\n",
       "    <tr>\n",
       "      <th>27</th>\n",
       "      <td>Servicio de gestoría</td>\n",
       "      <td>467.95</td>\n",
       "    </tr>\n",
       "    <tr>\n",
       "      <th>18</th>\n",
       "      <td>Gastos y Comisiones Financieras</td>\n",
       "      <td>391.27</td>\n",
       "    </tr>\n",
       "    <tr>\n",
       "      <th>36</th>\n",
       "      <td>WEB y Hosting</td>\n",
       "      <td>210.25</td>\n",
       "    </tr>\n",
       "    <tr>\n",
       "      <th>0</th>\n",
       "      <td>Alquileres (oficinas y otros)</td>\n",
       "      <td>199.65</td>\n",
       "    </tr>\n",
       "    <tr>\n",
       "      <th>16</th>\n",
       "      <td>Gastos Telefónicos</td>\n",
       "      <td>15.24</td>\n",
       "    </tr>\n",
       "    <tr>\n",
       "      <th>20</th>\n",
       "      <td>Material de Oficina</td>\n",
       "      <td>7.74</td>\n",
       "    </tr>\n",
       "  </tbody>\n",
       "</table>\n",
       "</div>"
      ],
      "text/plain": [
       "                                 categoria   amount\n",
       "30            Transformacion materia prima  7476.64\n",
       "34                    Transporte de ventas  3631.65\n",
       "28                      Sueldos y Salarios  3296.18\n",
       "23                          Otros Tributos  2149.46\n",
       "25  Seguridad Social a Cargo de la Entidad  1930.91\n",
       "14                  Etiquetas de productos  1129.81\n",
       "13                    Envases de productos  1003.24\n",
       "27                    Servicio de gestoría   467.95\n",
       "18         Gastos y Comisiones Financieras   391.27\n",
       "36                           WEB y Hosting   210.25\n",
       "0            Alquileres (oficinas y otros)   199.65\n",
       "16                      Gastos Telefónicos    15.24\n",
       "20                     Material de Oficina     7.74"
      ]
     },
     "execution_count": 60,
     "metadata": {},
     "output_type": "execute_result"
    }
   ],
   "source": [
    "expense[expense['inter']=='Espagne General 2020'].sort_values('amount',ascending=False)[['categoria','amount']]"
   ]
  },
  {
   "cell_type": "code",
   "execution_count": 61,
   "metadata": {},
   "outputs": [
    {
     "data": {
      "text/plain": [
       "21909.99"
      ]
     },
     "execution_count": 61,
     "metadata": {},
     "output_type": "execute_result"
    }
   ],
   "source": [
    "expense[expense['inter']=='Espagne General 2020']['amount'].sum()"
   ]
  },
  {
   "cell_type": "code",
   "execution_count": 62,
   "metadata": {},
   "outputs": [
    {
     "data": {
      "application/vnd.plotly.v1+json": {
       "config": {
        "linkText": "Export to plot.ly",
        "plotlyServerURL": "https://plot.ly",
        "showLink": true
       },
       "data": [
        {
         "marker": {
          "color": "rgba(255, 153, 51, 0.6)",
          "line": {
           "color": "rgba(255, 153, 51, 1.0)",
           "width": 1
          }
         },
         "name": "amount",
         "orientation": "v",
         "text": "",
         "type": "bar",
         "x": [
          "Transformacion materia prima",
          "Transporte de ventas",
          "Sueldos y Salarios",
          "Otros Tributos",
          "Seguridad Social a Cargo de la Entidad",
          "Etiquetas de productos",
          "Envases de productos",
          "Servicio de gestoría",
          "Gastos y Comisiones Financieras",
          "WEB y Hosting",
          "Alquileres (oficinas y otros)",
          "Gastos Telefónicos",
          "Material de Oficina"
         ],
         "y": [
          7476.64,
          3631.65,
          3296.1800000000003,
          2149.46,
          1930.9099999999999,
          1129.81,
          1003.24,
          467.95,
          391.26999999999987,
          210.24999999999997,
          199.65,
          15.24,
          7.74
         ]
        }
       ],
       "layout": {
        "legend": {
         "bgcolor": "#F5F6F9",
         "font": {
          "color": "#4D5663"
         }
        },
        "paper_bgcolor": "#F5F6F9",
        "plot_bgcolor": "#F5F6F9",
        "template": {
         "data": {
          "bar": [
           {
            "error_x": {
             "color": "#2a3f5f"
            },
            "error_y": {
             "color": "#2a3f5f"
            },
            "marker": {
             "line": {
              "color": "#E5ECF6",
              "width": 0.5
             }
            },
            "type": "bar"
           }
          ],
          "barpolar": [
           {
            "marker": {
             "line": {
              "color": "#E5ECF6",
              "width": 0.5
             }
            },
            "type": "barpolar"
           }
          ],
          "carpet": [
           {
            "aaxis": {
             "endlinecolor": "#2a3f5f",
             "gridcolor": "white",
             "linecolor": "white",
             "minorgridcolor": "white",
             "startlinecolor": "#2a3f5f"
            },
            "baxis": {
             "endlinecolor": "#2a3f5f",
             "gridcolor": "white",
             "linecolor": "white",
             "minorgridcolor": "white",
             "startlinecolor": "#2a3f5f"
            },
            "type": "carpet"
           }
          ],
          "choropleth": [
           {
            "colorbar": {
             "outlinewidth": 0,
             "ticks": ""
            },
            "type": "choropleth"
           }
          ],
          "contour": [
           {
            "colorbar": {
             "outlinewidth": 0,
             "ticks": ""
            },
            "colorscale": [
             [
              0,
              "#0d0887"
             ],
             [
              0.1111111111111111,
              "#46039f"
             ],
             [
              0.2222222222222222,
              "#7201a8"
             ],
             [
              0.3333333333333333,
              "#9c179e"
             ],
             [
              0.4444444444444444,
              "#bd3786"
             ],
             [
              0.5555555555555556,
              "#d8576b"
             ],
             [
              0.6666666666666666,
              "#ed7953"
             ],
             [
              0.7777777777777778,
              "#fb9f3a"
             ],
             [
              0.8888888888888888,
              "#fdca26"
             ],
             [
              1,
              "#f0f921"
             ]
            ],
            "type": "contour"
           }
          ],
          "contourcarpet": [
           {
            "colorbar": {
             "outlinewidth": 0,
             "ticks": ""
            },
            "type": "contourcarpet"
           }
          ],
          "heatmap": [
           {
            "colorbar": {
             "outlinewidth": 0,
             "ticks": ""
            },
            "colorscale": [
             [
              0,
              "#0d0887"
             ],
             [
              0.1111111111111111,
              "#46039f"
             ],
             [
              0.2222222222222222,
              "#7201a8"
             ],
             [
              0.3333333333333333,
              "#9c179e"
             ],
             [
              0.4444444444444444,
              "#bd3786"
             ],
             [
              0.5555555555555556,
              "#d8576b"
             ],
             [
              0.6666666666666666,
              "#ed7953"
             ],
             [
              0.7777777777777778,
              "#fb9f3a"
             ],
             [
              0.8888888888888888,
              "#fdca26"
             ],
             [
              1,
              "#f0f921"
             ]
            ],
            "type": "heatmap"
           }
          ],
          "heatmapgl": [
           {
            "colorbar": {
             "outlinewidth": 0,
             "ticks": ""
            },
            "colorscale": [
             [
              0,
              "#0d0887"
             ],
             [
              0.1111111111111111,
              "#46039f"
             ],
             [
              0.2222222222222222,
              "#7201a8"
             ],
             [
              0.3333333333333333,
              "#9c179e"
             ],
             [
              0.4444444444444444,
              "#bd3786"
             ],
             [
              0.5555555555555556,
              "#d8576b"
             ],
             [
              0.6666666666666666,
              "#ed7953"
             ],
             [
              0.7777777777777778,
              "#fb9f3a"
             ],
             [
              0.8888888888888888,
              "#fdca26"
             ],
             [
              1,
              "#f0f921"
             ]
            ],
            "type": "heatmapgl"
           }
          ],
          "histogram": [
           {
            "marker": {
             "colorbar": {
              "outlinewidth": 0,
              "ticks": ""
             }
            },
            "type": "histogram"
           }
          ],
          "histogram2d": [
           {
            "colorbar": {
             "outlinewidth": 0,
             "ticks": ""
            },
            "colorscale": [
             [
              0,
              "#0d0887"
             ],
             [
              0.1111111111111111,
              "#46039f"
             ],
             [
              0.2222222222222222,
              "#7201a8"
             ],
             [
              0.3333333333333333,
              "#9c179e"
             ],
             [
              0.4444444444444444,
              "#bd3786"
             ],
             [
              0.5555555555555556,
              "#d8576b"
             ],
             [
              0.6666666666666666,
              "#ed7953"
             ],
             [
              0.7777777777777778,
              "#fb9f3a"
             ],
             [
              0.8888888888888888,
              "#fdca26"
             ],
             [
              1,
              "#f0f921"
             ]
            ],
            "type": "histogram2d"
           }
          ],
          "histogram2dcontour": [
           {
            "colorbar": {
             "outlinewidth": 0,
             "ticks": ""
            },
            "colorscale": [
             [
              0,
              "#0d0887"
             ],
             [
              0.1111111111111111,
              "#46039f"
             ],
             [
              0.2222222222222222,
              "#7201a8"
             ],
             [
              0.3333333333333333,
              "#9c179e"
             ],
             [
              0.4444444444444444,
              "#bd3786"
             ],
             [
              0.5555555555555556,
              "#d8576b"
             ],
             [
              0.6666666666666666,
              "#ed7953"
             ],
             [
              0.7777777777777778,
              "#fb9f3a"
             ],
             [
              0.8888888888888888,
              "#fdca26"
             ],
             [
              1,
              "#f0f921"
             ]
            ],
            "type": "histogram2dcontour"
           }
          ],
          "mesh3d": [
           {
            "colorbar": {
             "outlinewidth": 0,
             "ticks": ""
            },
            "type": "mesh3d"
           }
          ],
          "parcoords": [
           {
            "line": {
             "colorbar": {
              "outlinewidth": 0,
              "ticks": ""
             }
            },
            "type": "parcoords"
           }
          ],
          "pie": [
           {
            "automargin": true,
            "type": "pie"
           }
          ],
          "scatter": [
           {
            "marker": {
             "colorbar": {
              "outlinewidth": 0,
              "ticks": ""
             }
            },
            "type": "scatter"
           }
          ],
          "scatter3d": [
           {
            "line": {
             "colorbar": {
              "outlinewidth": 0,
              "ticks": ""
             }
            },
            "marker": {
             "colorbar": {
              "outlinewidth": 0,
              "ticks": ""
             }
            },
            "type": "scatter3d"
           }
          ],
          "scattercarpet": [
           {
            "marker": {
             "colorbar": {
              "outlinewidth": 0,
              "ticks": ""
             }
            },
            "type": "scattercarpet"
           }
          ],
          "scattergeo": [
           {
            "marker": {
             "colorbar": {
              "outlinewidth": 0,
              "ticks": ""
             }
            },
            "type": "scattergeo"
           }
          ],
          "scattergl": [
           {
            "marker": {
             "colorbar": {
              "outlinewidth": 0,
              "ticks": ""
             }
            },
            "type": "scattergl"
           }
          ],
          "scattermapbox": [
           {
            "marker": {
             "colorbar": {
              "outlinewidth": 0,
              "ticks": ""
             }
            },
            "type": "scattermapbox"
           }
          ],
          "scatterpolar": [
           {
            "marker": {
             "colorbar": {
              "outlinewidth": 0,
              "ticks": ""
             }
            },
            "type": "scatterpolar"
           }
          ],
          "scatterpolargl": [
           {
            "marker": {
             "colorbar": {
              "outlinewidth": 0,
              "ticks": ""
             }
            },
            "type": "scatterpolargl"
           }
          ],
          "scatterternary": [
           {
            "marker": {
             "colorbar": {
              "outlinewidth": 0,
              "ticks": ""
             }
            },
            "type": "scatterternary"
           }
          ],
          "surface": [
           {
            "colorbar": {
             "outlinewidth": 0,
             "ticks": ""
            },
            "colorscale": [
             [
              0,
              "#0d0887"
             ],
             [
              0.1111111111111111,
              "#46039f"
             ],
             [
              0.2222222222222222,
              "#7201a8"
             ],
             [
              0.3333333333333333,
              "#9c179e"
             ],
             [
              0.4444444444444444,
              "#bd3786"
             ],
             [
              0.5555555555555556,
              "#d8576b"
             ],
             [
              0.6666666666666666,
              "#ed7953"
             ],
             [
              0.7777777777777778,
              "#fb9f3a"
             ],
             [
              0.8888888888888888,
              "#fdca26"
             ],
             [
              1,
              "#f0f921"
             ]
            ],
            "type": "surface"
           }
          ],
          "table": [
           {
            "cells": {
             "fill": {
              "color": "#EBF0F8"
             },
             "line": {
              "color": "white"
             }
            },
            "header": {
             "fill": {
              "color": "#C8D4E3"
             },
             "line": {
              "color": "white"
             }
            },
            "type": "table"
           }
          ]
         },
         "layout": {
          "annotationdefaults": {
           "arrowcolor": "#2a3f5f",
           "arrowhead": 0,
           "arrowwidth": 1
          },
          "coloraxis": {
           "colorbar": {
            "outlinewidth": 0,
            "ticks": ""
           }
          },
          "colorscale": {
           "diverging": [
            [
             0,
             "#8e0152"
            ],
            [
             0.1,
             "#c51b7d"
            ],
            [
             0.2,
             "#de77ae"
            ],
            [
             0.3,
             "#f1b6da"
            ],
            [
             0.4,
             "#fde0ef"
            ],
            [
             0.5,
             "#f7f7f7"
            ],
            [
             0.6,
             "#e6f5d0"
            ],
            [
             0.7,
             "#b8e186"
            ],
            [
             0.8,
             "#7fbc41"
            ],
            [
             0.9,
             "#4d9221"
            ],
            [
             1,
             "#276419"
            ]
           ],
           "sequential": [
            [
             0,
             "#0d0887"
            ],
            [
             0.1111111111111111,
             "#46039f"
            ],
            [
             0.2222222222222222,
             "#7201a8"
            ],
            [
             0.3333333333333333,
             "#9c179e"
            ],
            [
             0.4444444444444444,
             "#bd3786"
            ],
            [
             0.5555555555555556,
             "#d8576b"
            ],
            [
             0.6666666666666666,
             "#ed7953"
            ],
            [
             0.7777777777777778,
             "#fb9f3a"
            ],
            [
             0.8888888888888888,
             "#fdca26"
            ],
            [
             1,
             "#f0f921"
            ]
           ],
           "sequentialminus": [
            [
             0,
             "#0d0887"
            ],
            [
             0.1111111111111111,
             "#46039f"
            ],
            [
             0.2222222222222222,
             "#7201a8"
            ],
            [
             0.3333333333333333,
             "#9c179e"
            ],
            [
             0.4444444444444444,
             "#bd3786"
            ],
            [
             0.5555555555555556,
             "#d8576b"
            ],
            [
             0.6666666666666666,
             "#ed7953"
            ],
            [
             0.7777777777777778,
             "#fb9f3a"
            ],
            [
             0.8888888888888888,
             "#fdca26"
            ],
            [
             1,
             "#f0f921"
            ]
           ]
          },
          "colorway": [
           "#636efa",
           "#EF553B",
           "#00cc96",
           "#ab63fa",
           "#FFA15A",
           "#19d3f3",
           "#FF6692",
           "#B6E880",
           "#FF97FF",
           "#FECB52"
          ],
          "font": {
           "color": "#2a3f5f"
          },
          "geo": {
           "bgcolor": "white",
           "lakecolor": "white",
           "landcolor": "#E5ECF6",
           "showlakes": true,
           "showland": true,
           "subunitcolor": "white"
          },
          "hoverlabel": {
           "align": "left"
          },
          "hovermode": "closest",
          "mapbox": {
           "style": "light"
          },
          "paper_bgcolor": "white",
          "plot_bgcolor": "#E5ECF6",
          "polar": {
           "angularaxis": {
            "gridcolor": "white",
            "linecolor": "white",
            "ticks": ""
           },
           "bgcolor": "#E5ECF6",
           "radialaxis": {
            "gridcolor": "white",
            "linecolor": "white",
            "ticks": ""
           }
          },
          "scene": {
           "xaxis": {
            "backgroundcolor": "#E5ECF6",
            "gridcolor": "white",
            "gridwidth": 2,
            "linecolor": "white",
            "showbackground": true,
            "ticks": "",
            "zerolinecolor": "white"
           },
           "yaxis": {
            "backgroundcolor": "#E5ECF6",
            "gridcolor": "white",
            "gridwidth": 2,
            "linecolor": "white",
            "showbackground": true,
            "ticks": "",
            "zerolinecolor": "white"
           },
           "zaxis": {
            "backgroundcolor": "#E5ECF6",
            "gridcolor": "white",
            "gridwidth": 2,
            "linecolor": "white",
            "showbackground": true,
            "ticks": "",
            "zerolinecolor": "white"
           }
          },
          "shapedefaults": {
           "line": {
            "color": "#2a3f5f"
           }
          },
          "ternary": {
           "aaxis": {
            "gridcolor": "white",
            "linecolor": "white",
            "ticks": ""
           },
           "baxis": {
            "gridcolor": "white",
            "linecolor": "white",
            "ticks": ""
           },
           "bgcolor": "#E5ECF6",
           "caxis": {
            "gridcolor": "white",
            "linecolor": "white",
            "ticks": ""
           }
          },
          "title": {
           "x": 0.05
          },
          "xaxis": {
           "automargin": true,
           "gridcolor": "white",
           "linecolor": "white",
           "ticks": "",
           "title": {
            "standoff": 15
           },
           "zerolinecolor": "white",
           "zerolinewidth": 2
          },
          "yaxis": {
           "automargin": true,
           "gridcolor": "white",
           "linecolor": "white",
           "ticks": "",
           "title": {
            "standoff": 15
           },
           "zerolinecolor": "white",
           "zerolinewidth": 2
          }
         }
        },
        "title": {
         "font": {
          "color": "#4D5663"
         },
         "text": "Gastos Totales 21,909€"
        },
        "xaxis": {
         "gridcolor": "#E1E5ED",
         "showgrid": true,
         "tickfont": {
          "color": "#4D5663"
         },
         "title": {
          "font": {
           "color": "#4D5663"
          },
          "text": ""
         },
         "zerolinecolor": "#E1E5ED"
        },
        "yaxis": {
         "gridcolor": "#E1E5ED",
         "showgrid": true,
         "tickfont": {
          "color": "#4D5663"
         },
         "title": {
          "font": {
           "color": "#4D5663"
          },
          "text": ""
         },
         "zerolinecolor": "#E1E5ED"
        }
       }
      },
      "text/html": [
       "<div>\n",
       "        \n",
       "        \n",
       "            <div id=\"062f28f0-2c09-42fc-80a7-73878a01c14d\" class=\"plotly-graph-div\" style=\"height:525px; width:100%;\"></div>\n",
       "            <script type=\"text/javascript\">\n",
       "                require([\"plotly\"], function(Plotly) {\n",
       "                    window.PLOTLYENV=window.PLOTLYENV || {};\n",
       "                    window.PLOTLYENV.BASE_URL='https://plot.ly';\n",
       "                    \n",
       "                if (document.getElementById(\"062f28f0-2c09-42fc-80a7-73878a01c14d\")) {\n",
       "                    Plotly.newPlot(\n",
       "                        '062f28f0-2c09-42fc-80a7-73878a01c14d',\n",
       "                        [{\"marker\": {\"color\": \"rgba(255, 153, 51, 0.6)\", \"line\": {\"color\": \"rgba(255, 153, 51, 1.0)\", \"width\": 1}}, \"name\": \"amount\", \"orientation\": \"v\", \"text\": \"\", \"type\": \"bar\", \"x\": [\"Transformacion materia prima\", \"Transporte de ventas\", \"Sueldos y Salarios\", \"Otros Tributos\", \"Seguridad Social a Cargo de la Entidad\", \"Etiquetas de productos\", \"Envases de productos\", \"Servicio de gestor\\u00eda\", \"Gastos y Comisiones Financieras\", \"WEB y Hosting\", \"Alquileres (oficinas y otros)\", \"Gastos Telef\\u00f3nicos\", \"Material de Oficina\"], \"y\": [7476.64, 3631.65, 3296.1800000000003, 2149.46, 1930.9099999999999, 1129.81, 1003.24, 467.95, 391.26999999999987, 210.24999999999997, 199.65, 15.24, 7.74]}],\n",
       "                        {\"legend\": {\"bgcolor\": \"#F5F6F9\", \"font\": {\"color\": \"#4D5663\"}}, \"paper_bgcolor\": \"#F5F6F9\", \"plot_bgcolor\": \"#F5F6F9\", \"template\": {\"data\": {\"bar\": [{\"error_x\": {\"color\": \"#2a3f5f\"}, \"error_y\": {\"color\": \"#2a3f5f\"}, \"marker\": {\"line\": {\"color\": \"#E5ECF6\", \"width\": 0.5}}, \"type\": \"bar\"}], \"barpolar\": [{\"marker\": {\"line\": {\"color\": \"#E5ECF6\", \"width\": 0.5}}, \"type\": \"barpolar\"}], \"carpet\": [{\"aaxis\": {\"endlinecolor\": \"#2a3f5f\", \"gridcolor\": \"white\", \"linecolor\": \"white\", \"minorgridcolor\": \"white\", \"startlinecolor\": \"#2a3f5f\"}, \"baxis\": {\"endlinecolor\": \"#2a3f5f\", \"gridcolor\": \"white\", \"linecolor\": \"white\", \"minorgridcolor\": \"white\", \"startlinecolor\": \"#2a3f5f\"}, \"type\": \"carpet\"}], \"choropleth\": [{\"colorbar\": {\"outlinewidth\": 0, \"ticks\": \"\"}, \"type\": \"choropleth\"}], \"contour\": [{\"colorbar\": {\"outlinewidth\": 0, \"ticks\": \"\"}, \"colorscale\": [[0.0, \"#0d0887\"], [0.1111111111111111, \"#46039f\"], [0.2222222222222222, \"#7201a8\"], [0.3333333333333333, \"#9c179e\"], [0.4444444444444444, \"#bd3786\"], [0.5555555555555556, \"#d8576b\"], [0.6666666666666666, \"#ed7953\"], [0.7777777777777778, \"#fb9f3a\"], [0.8888888888888888, \"#fdca26\"], [1.0, \"#f0f921\"]], \"type\": \"contour\"}], \"contourcarpet\": [{\"colorbar\": {\"outlinewidth\": 0, \"ticks\": \"\"}, \"type\": \"contourcarpet\"}], \"heatmap\": [{\"colorbar\": {\"outlinewidth\": 0, \"ticks\": \"\"}, \"colorscale\": [[0.0, \"#0d0887\"], [0.1111111111111111, \"#46039f\"], [0.2222222222222222, \"#7201a8\"], [0.3333333333333333, \"#9c179e\"], [0.4444444444444444, \"#bd3786\"], [0.5555555555555556, \"#d8576b\"], [0.6666666666666666, \"#ed7953\"], [0.7777777777777778, \"#fb9f3a\"], [0.8888888888888888, \"#fdca26\"], [1.0, \"#f0f921\"]], \"type\": \"heatmap\"}], \"heatmapgl\": [{\"colorbar\": {\"outlinewidth\": 0, \"ticks\": \"\"}, \"colorscale\": [[0.0, \"#0d0887\"], [0.1111111111111111, \"#46039f\"], [0.2222222222222222, \"#7201a8\"], [0.3333333333333333, \"#9c179e\"], [0.4444444444444444, \"#bd3786\"], [0.5555555555555556, \"#d8576b\"], [0.6666666666666666, \"#ed7953\"], [0.7777777777777778, \"#fb9f3a\"], [0.8888888888888888, \"#fdca26\"], [1.0, \"#f0f921\"]], \"type\": \"heatmapgl\"}], \"histogram\": [{\"marker\": {\"colorbar\": {\"outlinewidth\": 0, \"ticks\": \"\"}}, \"type\": \"histogram\"}], \"histogram2d\": [{\"colorbar\": {\"outlinewidth\": 0, \"ticks\": \"\"}, \"colorscale\": [[0.0, \"#0d0887\"], [0.1111111111111111, \"#46039f\"], [0.2222222222222222, \"#7201a8\"], [0.3333333333333333, \"#9c179e\"], [0.4444444444444444, \"#bd3786\"], [0.5555555555555556, \"#d8576b\"], [0.6666666666666666, \"#ed7953\"], [0.7777777777777778, \"#fb9f3a\"], [0.8888888888888888, \"#fdca26\"], [1.0, \"#f0f921\"]], \"type\": \"histogram2d\"}], \"histogram2dcontour\": [{\"colorbar\": {\"outlinewidth\": 0, \"ticks\": \"\"}, \"colorscale\": [[0.0, \"#0d0887\"], [0.1111111111111111, \"#46039f\"], [0.2222222222222222, \"#7201a8\"], [0.3333333333333333, \"#9c179e\"], [0.4444444444444444, \"#bd3786\"], [0.5555555555555556, \"#d8576b\"], [0.6666666666666666, \"#ed7953\"], [0.7777777777777778, \"#fb9f3a\"], [0.8888888888888888, \"#fdca26\"], [1.0, \"#f0f921\"]], \"type\": \"histogram2dcontour\"}], \"mesh3d\": [{\"colorbar\": {\"outlinewidth\": 0, \"ticks\": \"\"}, \"type\": \"mesh3d\"}], \"parcoords\": [{\"line\": {\"colorbar\": {\"outlinewidth\": 0, \"ticks\": \"\"}}, \"type\": \"parcoords\"}], \"pie\": [{\"automargin\": true, \"type\": \"pie\"}], \"scatter\": [{\"marker\": {\"colorbar\": {\"outlinewidth\": 0, \"ticks\": \"\"}}, \"type\": \"scatter\"}], \"scatter3d\": [{\"line\": {\"colorbar\": {\"outlinewidth\": 0, \"ticks\": \"\"}}, \"marker\": {\"colorbar\": {\"outlinewidth\": 0, \"ticks\": \"\"}}, \"type\": \"scatter3d\"}], \"scattercarpet\": [{\"marker\": {\"colorbar\": {\"outlinewidth\": 0, \"ticks\": \"\"}}, \"type\": \"scattercarpet\"}], \"scattergeo\": [{\"marker\": {\"colorbar\": {\"outlinewidth\": 0, \"ticks\": \"\"}}, \"type\": \"scattergeo\"}], \"scattergl\": [{\"marker\": {\"colorbar\": {\"outlinewidth\": 0, \"ticks\": \"\"}}, \"type\": \"scattergl\"}], \"scattermapbox\": [{\"marker\": {\"colorbar\": {\"outlinewidth\": 0, \"ticks\": \"\"}}, \"type\": \"scattermapbox\"}], \"scatterpolar\": [{\"marker\": {\"colorbar\": {\"outlinewidth\": 0, \"ticks\": \"\"}}, \"type\": \"scatterpolar\"}], \"scatterpolargl\": [{\"marker\": {\"colorbar\": {\"outlinewidth\": 0, \"ticks\": \"\"}}, \"type\": \"scatterpolargl\"}], \"scatterternary\": [{\"marker\": {\"colorbar\": {\"outlinewidth\": 0, \"ticks\": \"\"}}, \"type\": \"scatterternary\"}], \"surface\": [{\"colorbar\": {\"outlinewidth\": 0, \"ticks\": \"\"}, \"colorscale\": [[0.0, \"#0d0887\"], [0.1111111111111111, \"#46039f\"], [0.2222222222222222, \"#7201a8\"], [0.3333333333333333, \"#9c179e\"], [0.4444444444444444, \"#bd3786\"], [0.5555555555555556, \"#d8576b\"], [0.6666666666666666, \"#ed7953\"], [0.7777777777777778, \"#fb9f3a\"], [0.8888888888888888, \"#fdca26\"], [1.0, \"#f0f921\"]], \"type\": \"surface\"}], \"table\": [{\"cells\": {\"fill\": {\"color\": \"#EBF0F8\"}, \"line\": {\"color\": \"white\"}}, \"header\": {\"fill\": {\"color\": \"#C8D4E3\"}, \"line\": {\"color\": \"white\"}}, \"type\": \"table\"}]}, \"layout\": {\"annotationdefaults\": {\"arrowcolor\": \"#2a3f5f\", \"arrowhead\": 0, \"arrowwidth\": 1}, \"coloraxis\": {\"colorbar\": {\"outlinewidth\": 0, \"ticks\": \"\"}}, \"colorscale\": {\"diverging\": [[0, \"#8e0152\"], [0.1, \"#c51b7d\"], [0.2, \"#de77ae\"], [0.3, \"#f1b6da\"], [0.4, \"#fde0ef\"], [0.5, \"#f7f7f7\"], [0.6, \"#e6f5d0\"], [0.7, \"#b8e186\"], [0.8, \"#7fbc41\"], [0.9, \"#4d9221\"], [1, \"#276419\"]], \"sequential\": [[0.0, \"#0d0887\"], [0.1111111111111111, \"#46039f\"], [0.2222222222222222, \"#7201a8\"], [0.3333333333333333, \"#9c179e\"], [0.4444444444444444, \"#bd3786\"], [0.5555555555555556, \"#d8576b\"], [0.6666666666666666, \"#ed7953\"], [0.7777777777777778, \"#fb9f3a\"], [0.8888888888888888, \"#fdca26\"], [1.0, \"#f0f921\"]], \"sequentialminus\": [[0.0, \"#0d0887\"], [0.1111111111111111, \"#46039f\"], [0.2222222222222222, \"#7201a8\"], [0.3333333333333333, \"#9c179e\"], [0.4444444444444444, \"#bd3786\"], [0.5555555555555556, \"#d8576b\"], [0.6666666666666666, \"#ed7953\"], [0.7777777777777778, \"#fb9f3a\"], [0.8888888888888888, \"#fdca26\"], [1.0, \"#f0f921\"]]}, \"colorway\": [\"#636efa\", \"#EF553B\", \"#00cc96\", \"#ab63fa\", \"#FFA15A\", \"#19d3f3\", \"#FF6692\", \"#B6E880\", \"#FF97FF\", \"#FECB52\"], \"font\": {\"color\": \"#2a3f5f\"}, \"geo\": {\"bgcolor\": \"white\", \"lakecolor\": \"white\", \"landcolor\": \"#E5ECF6\", \"showlakes\": true, \"showland\": true, \"subunitcolor\": \"white\"}, \"hoverlabel\": {\"align\": \"left\"}, \"hovermode\": \"closest\", \"mapbox\": {\"style\": \"light\"}, \"paper_bgcolor\": \"white\", \"plot_bgcolor\": \"#E5ECF6\", \"polar\": {\"angularaxis\": {\"gridcolor\": \"white\", \"linecolor\": \"white\", \"ticks\": \"\"}, \"bgcolor\": \"#E5ECF6\", \"radialaxis\": {\"gridcolor\": \"white\", \"linecolor\": \"white\", \"ticks\": \"\"}}, \"scene\": {\"xaxis\": {\"backgroundcolor\": \"#E5ECF6\", \"gridcolor\": \"white\", \"gridwidth\": 2, \"linecolor\": \"white\", \"showbackground\": true, \"ticks\": \"\", \"zerolinecolor\": \"white\"}, \"yaxis\": {\"backgroundcolor\": \"#E5ECF6\", \"gridcolor\": \"white\", \"gridwidth\": 2, \"linecolor\": \"white\", \"showbackground\": true, \"ticks\": \"\", \"zerolinecolor\": \"white\"}, \"zaxis\": {\"backgroundcolor\": \"#E5ECF6\", \"gridcolor\": \"white\", \"gridwidth\": 2, \"linecolor\": \"white\", \"showbackground\": true, \"ticks\": \"\", \"zerolinecolor\": \"white\"}}, \"shapedefaults\": {\"line\": {\"color\": \"#2a3f5f\"}}, \"ternary\": {\"aaxis\": {\"gridcolor\": \"white\", \"linecolor\": \"white\", \"ticks\": \"\"}, \"baxis\": {\"gridcolor\": \"white\", \"linecolor\": \"white\", \"ticks\": \"\"}, \"bgcolor\": \"#E5ECF6\", \"caxis\": {\"gridcolor\": \"white\", \"linecolor\": \"white\", \"ticks\": \"\"}}, \"title\": {\"x\": 0.05}, \"xaxis\": {\"automargin\": true, \"gridcolor\": \"white\", \"linecolor\": \"white\", \"ticks\": \"\", \"title\": {\"standoff\": 15}, \"zerolinecolor\": \"white\", \"zerolinewidth\": 2}, \"yaxis\": {\"automargin\": true, \"gridcolor\": \"white\", \"linecolor\": \"white\", \"ticks\": \"\", \"title\": {\"standoff\": 15}, \"zerolinecolor\": \"white\", \"zerolinewidth\": 2}}}, \"title\": {\"font\": {\"color\": \"#4D5663\"}, \"text\": \"Gastos Totales 21,909\\u20ac\"}, \"xaxis\": {\"gridcolor\": \"#E1E5ED\", \"showgrid\": true, \"tickfont\": {\"color\": \"#4D5663\"}, \"title\": {\"font\": {\"color\": \"#4D5663\"}, \"text\": \"\"}, \"zerolinecolor\": \"#E1E5ED\"}, \"yaxis\": {\"gridcolor\": \"#E1E5ED\", \"showgrid\": true, \"tickfont\": {\"color\": \"#4D5663\"}, \"title\": {\"font\": {\"color\": \"#4D5663\"}, \"text\": \"\"}, \"zerolinecolor\": \"#E1E5ED\"}},\n",
       "                        {\"showLink\": true, \"linkText\": \"Export to plot.ly\", \"plotlyServerURL\": \"https://plot.ly\", \"responsive\": true}\n",
       "                    ).then(function(){\n",
       "                            \n",
       "var gd = document.getElementById('062f28f0-2c09-42fc-80a7-73878a01c14d');\n",
       "var x = new MutationObserver(function (mutations, observer) {{\n",
       "        var display = window.getComputedStyle(gd).display;\n",
       "        if (!display || display === 'none') {{\n",
       "            console.log([gd, 'removed!']);\n",
       "            Plotly.purge(gd);\n",
       "            observer.disconnect();\n",
       "        }}\n",
       "}});\n",
       "\n",
       "// Listen for the removal of the full notebook cells\n",
       "var notebookContainer = gd.closest('#notebook-container');\n",
       "if (notebookContainer) {{\n",
       "    x.observe(notebookContainer, {childList: true});\n",
       "}}\n",
       "\n",
       "// Listen for the clearing of the current output cell\n",
       "var outputEl = gd.closest('.output');\n",
       "if (outputEl) {{\n",
       "    x.observe(outputEl, {childList: true});\n",
       "}}\n",
       "\n",
       "                        })\n",
       "                };\n",
       "                });\n",
       "            </script>\n",
       "        </div>"
      ]
     },
     "metadata": {},
     "output_type": "display_data"
    }
   ],
   "source": [
    "expense[expense['inter']=='Espagne General 2020'\n",
    "       ].sort_values('amount',ascending=False\n",
    "                    ).iplot(kind='bar',x='categoria',y='amount',title='Gastos Totales 21,909€'\n",
    "                           )"
   ]
  },
  {
   "cell_type": "code",
   "execution_count": 63,
   "metadata": {},
   "outputs": [
    {
     "data": {
      "text/plain": [
       "array(['Alquileres (oficinas y otros)', 'Apertura',\n",
       "       'Banco Caja de Ingenieros', 'Banco Paypal', 'Banco Santander',\n",
       "       'Banco Stripe', 'Caja', 'Caja Mireille',\n",
       "       'Compra de materias primas', 'Compras de otros aprovisionamientos',\n",
       "       'Deudas a c.p. (Acreedores)', 'Deudas gastos de envio',\n",
       "       'Donaciones', 'Envases de productos', 'Etiquetas de productos',\n",
       "       'Gasolina', 'Gastos Telefónicos',\n",
       "       'Gastos y Comisiones Financieras', 'Material de Oficina',\n",
       "       'Otros Servicios Profesionales', 'Otros Tributos',\n",
       "       'Reparaciones y conservación (Ej. coche)',\n",
       "       'Seguridad Social a Cargo de la Entidad', 'Servicio de gestoría',\n",
       "       'Sueldos y Salarios', 'Transformacion materia prima',\n",
       "       'Transporte (Benin Ej. Bus)', 'Transporte de materias primas',\n",
       "       'Transporte de ventas', 'Venta de Manteca de Karite',\n",
       "       'WEB y Hosting'], dtype=object)"
      ]
     },
     "execution_count": 63,
     "metadata": {},
     "output_type": "execute_result"
    }
   ],
   "source": [
    "df_nik_cat.categoria.unique()"
   ]
  },
  {
   "cell_type": "markdown",
   "metadata": {},
   "source": [
    "### ANALIZAR COMISIONES"
   ]
  },
  {
   "cell_type": "code",
   "execution_count": 64,
   "metadata": {},
   "outputs": [],
   "source": [
    "df2=df_nikarit[(df_nikarit['inter']=='Espagne General 2020')&\n",
    "                (df_nikarit['origin'] !='contoan' )].groupby('categoria')['amount'].sum().reset_index()"
   ]
  },
  {
   "cell_type": "code",
   "execution_count": 65,
   "metadata": {},
   "outputs": [
    {
     "data": {
      "text/plain": [
       "11155.2"
      ]
     },
     "execution_count": 65,
     "metadata": {},
     "output_type": "execute_result"
    }
   ],
   "source": [
    "#Ingresos shopify\n",
    "df2[df2['categoria']=='Venta de Manteca de Karite']['amount'].values[0]"
   ]
  },
  {
   "cell_type": "code",
   "execution_count": 66,
   "metadata": {},
   "outputs": [
    {
     "data": {
      "text/plain": [
       "336.7599999999999"
      ]
     },
     "execution_count": 66,
     "metadata": {},
     "output_type": "execute_result"
    }
   ],
   "source": [
    "#Comisiones pagos en shopify\n",
    "df2[df2['categoria']=='Gastos y Comisiones Financieras']['amount'].values[0]"
   ]
  },
  {
   "cell_type": "code",
   "execution_count": 67,
   "metadata": {},
   "outputs": [
    {
     "data": {
      "text/plain": [
       "3.018861158921399"
      ]
     },
     "execution_count": 67,
     "metadata": {},
     "output_type": "execute_result"
    }
   ],
   "source": [
    "#Ratio de comision\n",
    "100*(df2[df2['categoria']=='Gastos y Comisiones Financieras']['amount'].values[0]\n",
    " /df2[df2['categoria']=='Venta de Manteca de Karite']['amount'].values[0])"
   ]
  },
  {
   "cell_type": "code",
   "execution_count": 68,
   "metadata": {},
   "outputs": [
    {
     "data": {
      "text/plain": [
       "array(['Venta de Manteca de Karite', 'Caja Mireille', 'Donaciones',\n",
       "       'Banco Stripe', 'Apertura', 'Gastos y Comisiones Financieras',\n",
       "       'Deudas gastos de envio', 'Caja', 'Banco Caja de Ingenieros',\n",
       "       'Deudas a c.p. (Acreedores)', 'Banco Santander', 'Banco Paypal',\n",
       "       'Otros Tributos', 'Transporte (Benin Ej. Bus)',\n",
       "       'Compra de materias primas', 'Gasolina',\n",
       "       'Reparaciones y conservación (Ej. coche)',\n",
       "       'Transporte de materias primas',\n",
       "       'Compras de otros aprovisionamientos', 'Sueldos y Salarios',\n",
       "       'Seguridad Social a Cargo de la Entidad', 'Material de Oficina',\n",
       "       'Gastos Telefónicos', 'Otros Servicios Profesionales',\n",
       "       'WEB y Hosting', 'Transporte de ventas', 'Servicio de gestoría',\n",
       "       'Envases de productos', 'Alquileres (oficinas y otros)',\n",
       "       'Transformacion materia prima', 'Etiquetas de productos'],\n",
       "      dtype=object)"
      ]
     },
     "execution_count": 68,
     "metadata": {},
     "output_type": "execute_result"
    }
   ],
   "source": [
    "df_nikarit['categoria'].unique()"
   ]
  },
  {
   "cell_type": "code",
   "execution_count": 69,
   "metadata": {},
   "outputs": [
    {
     "data": {
      "text/html": [
       "<div>\n",
       "<style scoped>\n",
       "    .dataframe tbody tr th:only-of-type {\n",
       "        vertical-align: middle;\n",
       "    }\n",
       "\n",
       "    .dataframe tbody tr th {\n",
       "        vertical-align: top;\n",
       "    }\n",
       "\n",
       "    .dataframe thead th {\n",
       "        text-align: right;\n",
       "    }\n",
       "</style>\n",
       "<table border=\"1\" class=\"dataframe\">\n",
       "  <thead>\n",
       "    <tr style=\"text-align: right;\">\n",
       "      <th></th>\n",
       "      <th>concept</th>\n",
       "      <th>amount</th>\n",
       "      <th>month_day</th>\n",
       "      <th>description</th>\n",
       "    </tr>\n",
       "  </thead>\n",
       "  <tbody>\n",
       "    <tr>\n",
       "      <th>1433</th>\n",
       "      <td>Achat de materiaux</td>\n",
       "      <td>24.35</td>\n",
       "      <td>02-24</td>\n",
       "      <td>Achat de 10 metres de tissus a 6.000 F le tota...</td>\n",
       "    </tr>\n",
       "    <tr>\n",
       "      <th>1362</th>\n",
       "      <td>Achat de materiaux</td>\n",
       "      <td>45.66</td>\n",
       "      <td>02-26</td>\n",
       "      <td>Achat d'une bascul de maximum 100 kilos pour p...</td>\n",
       "    </tr>\n",
       "    <tr>\n",
       "      <th>1432</th>\n",
       "      <td>Achat de materiaux</td>\n",
       "      <td>38.97</td>\n",
       "      <td>03-09</td>\n",
       "      <td>Compra de 12 metros de tela en el mercado a 72...</td>\n",
       "    </tr>\n",
       "    <tr>\n",
       "      <th>1434</th>\n",
       "      <td>Achat de materiaux</td>\n",
       "      <td>49.47</td>\n",
       "      <td>03-11</td>\n",
       "      <td>Compra de 56 metros de tela para el pedido de ...</td>\n",
       "    </tr>\n",
       "    <tr>\n",
       "      <th>1361</th>\n",
       "      <td>Achat de materiaux</td>\n",
       "      <td>96.12</td>\n",
       "      <td>03-17</td>\n",
       "      <td>Couture 421 petits sacs chez Kasim</td>\n",
       "    </tr>\n",
       "    <tr>\n",
       "      <th>1358</th>\n",
       "      <td>Carte d'identité</td>\n",
       "      <td>4.57</td>\n",
       "      <td>03-27</td>\n",
       "      <td>Carte d'identité</td>\n",
       "    </tr>\n",
       "    <tr>\n",
       "      <th>1360</th>\n",
       "      <td>Achat de materiaux</td>\n",
       "      <td>27.40</td>\n",
       "      <td>04-17</td>\n",
       "      <td>Achat de pneu</td>\n",
       "    </tr>\n",
       "    <tr>\n",
       "      <th>1102</th>\n",
       "      <td>achat matériels des femmes</td>\n",
       "      <td>334.15</td>\n",
       "      <td>06-20</td>\n",
       "      <td>achat des sacs pour emballer les amandes de ka...</td>\n",
       "    </tr>\n",
       "    <tr>\n",
       "      <th>1082</th>\n",
       "      <td>achats de gants</td>\n",
       "      <td>68.60</td>\n",
       "      <td>07-13</td>\n",
       "      <td>achats de gants pour les femmes de monnon</td>\n",
       "    </tr>\n",
       "    <tr>\n",
       "      <th>1084</th>\n",
       "      <td>achats aiguilles</td>\n",
       "      <td>7.62</td>\n",
       "      <td>07-13</td>\n",
       "      <td>achat aiguilles pours coudre les sacs</td>\n",
       "    </tr>\n",
       "    <tr>\n",
       "      <th>1103</th>\n",
       "      <td>achat de chaussutes pour les femmes</td>\n",
       "      <td>114.33</td>\n",
       "      <td>07-13</td>\n",
       "      <td>achats de chaussures pour les femmes de Monnon</td>\n",
       "    </tr>\n",
       "    <tr>\n",
       "      <th>1096</th>\n",
       "      <td>fabrication planches</td>\n",
       "      <td>86.89</td>\n",
       "      <td>07-14</td>\n",
       "      <td>fabrication des planches pour poser des sacs d...</td>\n",
       "    </tr>\n",
       "    <tr>\n",
       "      <th>1363</th>\n",
       "      <td>Achat de materiaux</td>\n",
       "      <td>45.66</td>\n",
       "      <td>09-19</td>\n",
       "      <td>Achat piece pour reparation moulin Bessen Gourou</td>\n",
       "    </tr>\n",
       "  </tbody>\n",
       "</table>\n",
       "</div>"
      ],
      "text/plain": [
       "                                  concept  amount month_day  \\\n",
       "1433                   Achat de materiaux   24.35     02-24   \n",
       "1362                   Achat de materiaux   45.66     02-26   \n",
       "1432                   Achat de materiaux   38.97     03-09   \n",
       "1434                   Achat de materiaux   49.47     03-11   \n",
       "1361                   Achat de materiaux   96.12     03-17   \n",
       "1358                     Carte d'identité    4.57     03-27   \n",
       "1360                   Achat de materiaux   27.40     04-17   \n",
       "1102           achat matériels des femmes  334.15     06-20   \n",
       "1082                      achats de gants   68.60     07-13   \n",
       "1084                     achats aiguilles    7.62     07-13   \n",
       "1103  achat de chaussutes pour les femmes  114.33     07-13   \n",
       "1096                 fabrication planches   86.89     07-14   \n",
       "1363                   Achat de materiaux   45.66     09-19   \n",
       "\n",
       "                                            description  \n",
       "1433  Achat de 10 metres de tissus a 6.000 F le tota...  \n",
       "1362  Achat d'une bascul de maximum 100 kilos pour p...  \n",
       "1432  Compra de 12 metros de tela en el mercado a 72...  \n",
       "1434  Compra de 56 metros de tela para el pedido de ...  \n",
       "1361                 Couture 421 petits sacs chez Kasim  \n",
       "1358                                   Carte d'identité  \n",
       "1360                                      Achat de pneu  \n",
       "1102  achat des sacs pour emballer les amandes de ka...  \n",
       "1082          achats de gants pour les femmes de monnon  \n",
       "1084              achat aiguilles pours coudre les sacs  \n",
       "1103     achats de chaussures pour les femmes de Monnon  \n",
       "1096  fabrication des planches pour poser des sacs d...  \n",
       "1363   Achat piece pour reparation moulin Bessen Gourou  "
      ]
     },
     "execution_count": 69,
     "metadata": {},
     "output_type": "execute_result"
    }
   ],
   "source": [
    "df_nikarit[(df_nikarit['inter']=='Intervention 2020') &\n",
    "         (df_nikarit['categoria']=='Compras de otros aprovisionamientos')][['concept','amount','month_day','description']].sort_values('month_day')"
   ]
  },
  {
   "cell_type": "markdown",
   "metadata": {},
   "source": [
    "## ventas"
   ]
  },
  {
   "cell_type": "code",
   "execution_count": 70,
   "metadata": {},
   "outputs": [
    {
     "name": "stderr",
     "output_type": "stream",
     "text": [
      "Downloading: 100%|██████████| 620/620 [00:01<00:00, 427.55rows/s]\n"
     ]
    }
   ],
   "source": [
    "sql = \"\"\"\n",
    "    SELECT *\n",
    "    FROM `oan-nikarit.contoan.sales`\n",
    "\"\"\"\n",
    "\n",
    "# Run a Standard SQL query using the environment's default project\n",
    "df_ventas = pd.read_gbq(sql, dialect='standard')"
   ]
  },
  {
   "cell_type": "code",
   "execution_count": 71,
   "metadata": {},
   "outputs": [
    {
     "name": "stdout",
     "output_type": "stream",
     "text": [
      "<class 'pandas.core.frame.DataFrame'>\n",
      "RangeIndex: 620 entries, 0 to 619\n",
      "Data columns (total 50 columns):\n",
      " #   Column                   Non-Null Count  Dtype              \n",
      "---  ------                   --------------  -----              \n",
      " 0   close_date               539 non-null    datetime64[ns, UTC]\n",
      " 1   creation_date            620 non-null    datetime64[ns, UTC]\n",
      " 2   packContigo_unit_price   620 non-null    float64            \n",
      " 3   gateway                  620 non-null    object             \n",
      " 4   crema_total_price        620 non-null    int64              \n",
      " 5   packHidra_unit_price     620 non-null    float64            \n",
      " 6   crema_unit_price         620 non-null    float64            \n",
      " 7   balsamo_total_price      620 non-null    int64              \n",
      " 8   id                       620 non-null    object             \n",
      " 9   total_tax                620 non-null    float64            \n",
      " 10  longitude                562 non-null    float64            \n",
      " 11  province                 537 non-null    object             \n",
      " 12  packContigo_nb           620 non-null    int64              \n",
      " 13  packHidra_nb             620 non-null    int64              \n",
      " 14  packHidra_total_price    620 non-null    int64              \n",
      " 15  balsamo_unit_price       620 non-null    float64            \n",
      " 16  client_gender            620 non-null    object             \n",
      " 17  order_id                 616 non-null    object             \n",
      " 18  client_email             601 non-null    object             \n",
      " 19  manteca_unit_price       620 non-null    float64            \n",
      " 20  origin                   620 non-null    object             \n",
      " 21  buyer_accepts_marketing  98 non-null     float64            \n",
      " 22  manteca_nb               620 non-null    int64              \n",
      " 23  latitude                 562 non-null    float64            \n",
      " 24  zip                      615 non-null    object             \n",
      " 25  manteca_total_price      620 non-null    int64              \n",
      " 26  accounting_item          4 non-null      object             \n",
      " 27  order_status_url         616 non-null    object             \n",
      " 28  crema_nb                 620 non-null    int64              \n",
      " 29  country                  547 non-null    object             \n",
      " 30  product_movement         4 non-null      object             \n",
      " 31  packContigo_total_price  620 non-null    int64              \n",
      " 32  subtotal_price           620 non-null    float64            \n",
      " 33  client_name              613 non-null    object             \n",
      " 34  taxes_included           620 non-null    bool               \n",
      " 35  client_last_name         620 non-null    object             \n",
      " 36  total_price              620 non-null    float64            \n",
      " 37  balsamo_nb               620 non-null    int64              \n",
      " 38  packAbanico_total_price  3 non-null      float64            \n",
      " 39  client_adresse           4 non-null      object             \n",
      " 40  packAbanico_unit_price   3 non-null      float64            \n",
      " 41  packBandana_total_price  3 non-null      float64            \n",
      " 42  bolsa_nb                 5 non-null      float64            \n",
      " 43  city                     4 non-null      object             \n",
      " 44  packBandana_nb           3 non-null      float64            \n",
      " 45  bolsa_total_price        5 non-null      float64            \n",
      " 46  packAbanico_nb           3 non-null      float64            \n",
      " 47  packBandana_unit_price   3 non-null      float64            \n",
      " 48  client_phone             4 non-null      object             \n",
      " 49  bolsa_unit_price         5 non-null      float64            \n",
      "dtypes: bool(1), datetime64[ns, UTC](2), float64(20), int64(10), object(17)\n",
      "memory usage: 238.1+ KB\n"
     ]
    }
   ],
   "source": [
    "df_ventas.info()"
   ]
  },
  {
   "cell_type": "code",
   "execution_count": 72,
   "metadata": {},
   "outputs": [],
   "source": [
    "df_ventas=df_ventas.sort_values('creation_date',\n",
    "                                ascending=True).reset_index(drop=True)"
   ]
  },
  {
   "cell_type": "code",
   "execution_count": 105,
   "metadata": {},
   "outputs": [
    {
     "data": {
      "text/plain": [
       "Madrid        54.748603\n",
       "Barcelona      5.586592\n",
       "Valladolid     5.027933\n",
       "Valencia       3.538175\n",
       "Málaga         3.165736\n",
       "A Coruña       2.793296\n",
       "Cantabria      2.048417\n",
       "Toledo         1.675978\n",
       "Asturias       1.675978\n",
       "Sevilla        1.675978\n",
       "Name: province, dtype: float64"
      ]
     },
     "execution_count": 105,
     "metadata": {},
     "output_type": "execute_result"
    }
   ],
   "source": [
    "(100*df_ventas['province'].value_counts()/537)[0:10]"
   ]
  },
  {
   "cell_type": "code",
   "execution_count": 77,
   "metadata": {},
   "outputs": [],
   "source": [
    "with open(\"/Users/daniel/OAN/credentials/shopify/parameters.yaml\",\"r\") as params:\n",
    "    f = yaml.load(params, Loader=yaml.Loader)\n",
    "    shop_url = f['ACCESS_URL']"
   ]
  },
  {
   "cell_type": "code",
   "execution_count": 79,
   "metadata": {},
   "outputs": [],
   "source": [
    "orders = shop_url+'/orders.json'\n",
    "r = requests.get(orders,\n",
    "                 params={\n",
    "                        'limit':250,\n",
    "                        'status':'any',\n",
    "                         'created_at_max':'2020-01-01T00:15:47-04:00'\n",
    "                        })"
   ]
  },
  {
   "cell_type": "code",
   "execution_count": 80,
   "metadata": {},
   "outputs": [],
   "source": [
    "all_orders = r.json()"
   ]
  },
  {
   "cell_type": "code",
   "execution_count": 81,
   "metadata": {},
   "outputs": [],
   "source": [
    "orders2019 = pd.DataFrame(all_orders['orders'])"
   ]
  },
  {
   "cell_type": "code",
   "execution_count": 82,
   "metadata": {},
   "outputs": [],
   "source": [
    "orders2019=orders2019.sort_values('created_at')"
   ]
  },
  {
   "cell_type": "code",
   "execution_count": 83,
   "metadata": {},
   "outputs": [],
   "source": [
    "orders = shop_url+'/orders.json'\n",
    "r = requests.get(orders,\n",
    "                 params={\n",
    "                        'limit':250,\n",
    "                        'status':'any',\n",
    "                         'created_at_max':'2020-05-01T00:15:47-04:00',\n",
    "                         'created_at_min':'2020-01-01T00:15:47-04:00'\n",
    "                        })"
   ]
  },
  {
   "cell_type": "code",
   "execution_count": 84,
   "metadata": {},
   "outputs": [],
   "source": [
    "all_orders = r.json()"
   ]
  },
  {
   "cell_type": "code",
   "execution_count": 85,
   "metadata": {},
   "outputs": [],
   "source": [
    "orders2020_1 = pd.DataFrame(all_orders['orders'])"
   ]
  },
  {
   "cell_type": "code",
   "execution_count": 86,
   "metadata": {},
   "outputs": [
    {
     "data": {
      "text/plain": [
       "230"
      ]
     },
     "execution_count": 86,
     "metadata": {},
     "output_type": "execute_result"
    }
   ],
   "source": [
    "len(orders2020_1)"
   ]
  },
  {
   "cell_type": "code",
   "execution_count": 87,
   "metadata": {},
   "outputs": [],
   "source": [
    "orders2020_1=orders2020_1.sort_values('created_at')"
   ]
  },
  {
   "cell_type": "code",
   "execution_count": 88,
   "metadata": {},
   "outputs": [],
   "source": [
    "orders = shop_url+'/orders.json'\n",
    "r = requests.get(orders,\n",
    "                 params={\n",
    "                        'limit':250,\n",
    "                        'status':'any',\n",
    "                         'created_at_min':'2020-05-01T00:15:47-04:00'#,\n",
    "                         #'created_at_min':'2020-01-01T00:15:47-04:00'\n",
    "                        })"
   ]
  },
  {
   "cell_type": "code",
   "execution_count": 89,
   "metadata": {},
   "outputs": [],
   "source": [
    "all_orders = r.json()"
   ]
  },
  {
   "cell_type": "code",
   "execution_count": 90,
   "metadata": {},
   "outputs": [],
   "source": [
    "orders2020_2 = pd.DataFrame(all_orders['orders'])"
   ]
  },
  {
   "cell_type": "code",
   "execution_count": 91,
   "metadata": {},
   "outputs": [
    {
     "data": {
      "text/plain": [
       "149"
      ]
     },
     "execution_count": 91,
     "metadata": {},
     "output_type": "execute_result"
    }
   ],
   "source": [
    "len(orders2020_2)"
   ]
  },
  {
   "cell_type": "code",
   "execution_count": 92,
   "metadata": {},
   "outputs": [],
   "source": [
    "orders2020_2=orders2020_2.sort_values('created_at')"
   ]
  },
  {
   "cell_type": "code",
   "execution_count": 93,
   "metadata": {},
   "outputs": [],
   "source": [
    "df_orders = pd.concat([orders2019,orders2020_1,orders2020_2],axis=0).reset_index()"
   ]
  },
  {
   "cell_type": "code",
   "execution_count": 94,
   "metadata": {},
   "outputs": [
    {
     "name": "stdout",
     "output_type": "stream",
     "text": [
      "<class 'pandas.core.frame.DataFrame'>\n",
      "RangeIndex: 607 entries, 0 to 606\n",
      "Data columns (total 73 columns):\n",
      " #   Column                      Non-Null Count  Dtype \n",
      "---  ------                      --------------  ----- \n",
      " 0   index                       607 non-null    int64 \n",
      " 1   id                          607 non-null    int64 \n",
      " 2   email                       607 non-null    object\n",
      " 3   closed_at                   593 non-null    object\n",
      " 4   created_at                  607 non-null    object\n",
      " 5   updated_at                  607 non-null    object\n",
      " 6   number                      607 non-null    int64 \n",
      " 7   note                        0 non-null      object\n",
      " 8   token                       607 non-null    object\n",
      " 9   gateway                     607 non-null    object\n",
      " 10  test                        607 non-null    bool  \n",
      " 11  total_price                 607 non-null    object\n",
      " 12  subtotal_price              607 non-null    object\n",
      " 13  total_weight                607 non-null    int64 \n",
      " 14  total_tax                   607 non-null    object\n",
      " 15  taxes_included              607 non-null    bool  \n",
      " 16  currency                    607 non-null    object\n",
      " 17  financial_status            607 non-null    object\n",
      " 18  confirmed                   607 non-null    bool  \n",
      " 19  total_discounts             607 non-null    object\n",
      " 20  total_line_items_price      607 non-null    object\n",
      " 21  cart_token                  607 non-null    object\n",
      " 22  buyer_accepts_marketing     607 non-null    bool  \n",
      " 23  name                        607 non-null    object\n",
      " 24  referring_site              607 non-null    object\n",
      " 25  landing_site                607 non-null    object\n",
      " 26  cancelled_at                6 non-null      object\n",
      " 27  cancel_reason               6 non-null      object\n",
      " 28  total_price_usd             607 non-null    object\n",
      " 29  checkout_token              607 non-null    object\n",
      " 30  reference                   0 non-null      object\n",
      " 31  user_id                     0 non-null      object\n",
      " 32  location_id                 0 non-null      object\n",
      " 33  source_identifier           0 non-null      object\n",
      " 34  source_url                  0 non-null      object\n",
      " 35  processed_at                607 non-null    object\n",
      " 36  device_id                   0 non-null      object\n",
      " 37  phone                       111 non-null    object\n",
      " 38  customer_locale             607 non-null    object\n",
      " 39  app_id                      607 non-null    int64 \n",
      " 40  browser_ip                  607 non-null    object\n",
      " 41  landing_site_ref            0 non-null      object\n",
      " 42  order_number                607 non-null    int64 \n",
      " 43  discount_applications       607 non-null    object\n",
      " 44  discount_codes              607 non-null    object\n",
      " 45  note_attributes             607 non-null    object\n",
      " 46  payment_gateway_names       607 non-null    object\n",
      " 47  processing_method           607 non-null    object\n",
      " 48  checkout_id                 607 non-null    int64 \n",
      " 49  source_name                 607 non-null    object\n",
      " 50  fulfillment_status          590 non-null    object\n",
      " 51  tax_lines                   607 non-null    object\n",
      " 52  tags                        607 non-null    object\n",
      " 53  contact_email               588 non-null    object\n",
      " 54  order_status_url            607 non-null    object\n",
      " 55  presentment_currency        607 non-null    object\n",
      " 56  total_line_items_price_set  607 non-null    object\n",
      " 57  total_discounts_set         607 non-null    object\n",
      " 58  total_shipping_price_set    607 non-null    object\n",
      " 59  subtotal_price_set          607 non-null    object\n",
      " 60  total_price_set             607 non-null    object\n",
      " 61  total_tax_set               607 non-null    object\n",
      " 62  line_items                  607 non-null    object\n",
      " 63  fulfillments                607 non-null    object\n",
      " 64  refunds                     607 non-null    object\n",
      " 65  total_tip_received          607 non-null    object\n",
      " 66  admin_graphql_api_id        607 non-null    object\n",
      " 67  shipping_lines              607 non-null    object\n",
      " 68  billing_address             607 non-null    object\n",
      " 69  shipping_address            607 non-null    object\n",
      " 70  client_details              607 non-null    object\n",
      " 71  customer                    607 non-null    object\n",
      " 72  payment_details             435 non-null    object\n",
      "dtypes: bool(4), int64(7), object(62)\n",
      "memory usage: 329.7+ KB\n"
     ]
    }
   ],
   "source": [
    "df_orders.info()"
   ]
  },
  {
   "cell_type": "code",
   "execution_count": 95,
   "metadata": {},
   "outputs": [],
   "source": [
    "df_ord = df_orders[['id', 'email', 'closed_at', 'created_at', 'total_price','subtotal_price',\n",
    "           'total_tax','total_discounts','buyer_accepts_marketing', 'phone',\n",
    "        'payment_gateway_names', 'line_items',\n",
    "       'billing_address', 'shipping_address', 'client_details', 'customer',\n",
    "       'payment_details']]"
   ]
  },
  {
   "cell_type": "code",
   "execution_count": 96,
   "metadata": {},
   "outputs": [],
   "source": [
    "l_ship_det = ['ship_'+a for a in list(df_ord['shipping_address'][0].keys())]"
   ]
  },
  {
   "cell_type": "code",
   "execution_count": 97,
   "metadata": {},
   "outputs": [],
   "source": [
    "df_ord[l_ship_det] = df_ord['shipping_address'].apply(lambda x: pd.Series(list(x.values()),index=l_ship_det))"
   ]
  },
  {
   "cell_type": "code",
   "execution_count": 98,
   "metadata": {},
   "outputs": [],
   "source": [
    "df_ord['ship_zip']=df_ord['ship_zip'].fillna(value='')"
   ]
  },
  {
   "cell_type": "code",
   "execution_count": null,
   "metadata": {},
   "outputs": [],
   "source": [
    "def update_firebase(x):\n",
    "    order_id = x['order_id']\n",
    "    if order_id==None :\n",
    "        return True\n",
    "    else:\n",
    "        order_id = int(order_id)\n",
    "    ship_zip=df_ord[df_ord['id']==order_id]['ship_zip'].values[0]\n",
    "    fire_id=x['id']\n",
    "    #print(x['creation_date'])\n",
    "    #a=db.collection(u'Nikarit_Sales').document(x['id']).update({'zip':ship_zip})\n",
    "    "
   ]
  },
  {
   "cell_type": "code",
   "execution_count": null,
   "metadata": {},
   "outputs": [],
   "source": [
    "#df_ventas[df_ventas['origin']!='Contoan'].apply(lambda x: update_firebase(x),axis=1)"
   ]
  },
  {
   "cell_type": "code",
   "execution_count": 100,
   "metadata": {},
   "outputs": [
    {
     "data": {
      "text/plain": [
       "Madrid        51.24%\n",
       "Barcelona       5.6%\n",
       "Valladolid     5.27%\n",
       "Valencia       3.95%\n",
       "Málaga         3.13%\n",
       "A Coruña       2.64%\n",
       "Asturias       1.98%\n",
       "Toledo         1.81%\n",
       "Cantabria      1.81%\n",
       "Sevilla        1.48%\n",
       "Name: ship_province, dtype: object"
      ]
     },
     "execution_count": 100,
     "metadata": {},
     "output_type": "execute_result"
    }
   ],
   "source": [
    "(100*df_ord['ship_province'].value_counts()/len(df_ord['ship_province'])).apply(lambda x: str(round(x,2))+'%')[0:10]"
   ]
  },
  {
   "cell_type": "code",
   "execution_count": 101,
   "metadata": {},
   "outputs": [
    {
     "data": {
      "image/png": "[encoded data removed]",
      "text/plain": [
       "<Figure size 432x288 with 1 Axes>"
      ]
     },
     "metadata": {},
     "output_type": "display_data"
    }
   ],
   "source": [
    "fig = plt.figure()\n",
    "ax = fig.add_axes([0,0,1,1])\n",
    "ax.axis('equal')\n",
    "langs = ['Madrid - 5.05€', 'Fuera de Madrid - 6.1€']\n",
    "students = [51.32,100-51.32]\n",
    "ax.pie(students, labels = langs,autopct='%1.2f%%')\n",
    "title= 'TRANSPORTES DE ENVIO 5.5€ \\nPérdidas de {}€ por pedido'.format(abs(round(0.5132*(5.5-5.05)+(1-0.5132)*(5.5-6.1),2)))\n",
    "plt.title(title)\n",
    "plt.show()"
   ]
  },
  {
   "cell_type": "code",
   "execution_count": 106,
   "metadata": {},
   "outputs": [],
   "source": [
    "counts=df_ord['email'].replace('',np.nan).dropna().value_counts().reset_index()\n",
    "counts.columns=['email','counts']"
   ]
  },
  {
   "cell_type": "code",
   "execution_count": 107,
   "metadata": {},
   "outputs": [],
   "source": [
    "email_counts = pd.merge(counts.reset_index(),\n",
    "         df_ord[['email','ship_province']],\n",
    "         on='email',how='left').drop('index',axis=1).drop_duplicates('email')"
   ]
  },
  {
   "cell_type": "code",
   "execution_count": 108,
   "metadata": {},
   "outputs": [
    {
     "data": {
      "text/html": [
       "<div>\n",
       "<style scoped>\n",
       "    .dataframe tbody tr th:only-of-type {\n",
       "        vertical-align: middle;\n",
       "    }\n",
       "\n",
       "    .dataframe tbody tr th {\n",
       "        vertical-align: top;\n",
       "    }\n",
       "\n",
       "    .dataframe thead th {\n",
       "        text-align: right;\n",
       "    }\n",
       "</style>\n",
       "<table border=\"1\" class=\"dataframe\">\n",
       "  <thead>\n",
       "    <tr style=\"text-align: right;\">\n",
       "      <th></th>\n",
       "      <th>Numero de Pedidos x Cliente</th>\n",
       "      <th>Nº de Clientes</th>\n",
       "      <th>% total</th>\n",
       "    </tr>\n",
       "  </thead>\n",
       "  <tbody>\n",
       "    <tr>\n",
       "      <th>1</th>\n",
       "      <td>un solo pedido</td>\n",
       "      <td>454</td>\n",
       "      <td>89.02%</td>\n",
       "    </tr>\n",
       "    <tr>\n",
       "      <th>2</th>\n",
       "      <td>dos pedidos</td>\n",
       "      <td>40</td>\n",
       "      <td>7.84%</td>\n",
       "    </tr>\n",
       "    <tr>\n",
       "      <th>3</th>\n",
       "      <td>tres pedidos</td>\n",
       "      <td>13</td>\n",
       "      <td>2.55%</td>\n",
       "    </tr>\n",
       "    <tr>\n",
       "      <th>4</th>\n",
       "      <td>cuatro pedidos</td>\n",
       "      <td>1</td>\n",
       "      <td>0.2%</td>\n",
       "    </tr>\n",
       "    <tr>\n",
       "      <th>5</th>\n",
       "      <td>cinco pedidos</td>\n",
       "      <td>1</td>\n",
       "      <td>0.2%</td>\n",
       "    </tr>\n",
       "    <tr>\n",
       "      <th>6</th>\n",
       "      <td>seis pedidos</td>\n",
       "      <td>1</td>\n",
       "      <td>0.2%</td>\n",
       "    </tr>\n",
       "  </tbody>\n",
       "</table>\n",
       "</div>"
      ],
      "text/plain": [
       "  Numero de Pedidos x Cliente  Nº de Clientes % total\n",
       "1              un solo pedido             454  89.02%\n",
       "2                 dos pedidos              40   7.84%\n",
       "3                tres pedidos              13   2.55%\n",
       "4              cuatro pedidos               1    0.2%\n",
       "5               cinco pedidos               1    0.2%\n",
       "6                seis pedidos               1    0.2%"
      ]
     },
     "execution_count": 108,
     "metadata": {},
     "output_type": "execute_result"
    }
   ],
   "source": [
    "counts_total = email_counts['counts'].value_counts().sort_values(ascending=False)\n",
    "counts_perc = (100*email_counts[\n",
    "                                'counts'\n",
    "                              ].value_counts().sort_values(\n",
    "                                                            ascending=False\n",
    "                                                         )\n",
    "                               /len(email_counts['counts'])\n",
    "              ).apply(lambda x:str(round(x,2))+'%')\n",
    "                      \n",
    "labels=['un solo pedido','dos pedidos','tres pedidos','cuatro pedidos','cinco pedidos','seis pedidos']\n",
    "pd.DataFrame({'Numero de Pedidos x Cliente':labels,'Nº de Clientes':counts_total,'% total':counts_perc})"
   ]
  },
  {
   "cell_type": "code",
   "execution_count": 109,
   "metadata": {},
   "outputs": [
    {
     "data": {
      "text/plain": [
       "Text(0, 0.5, 'counts')"
      ]
     },
     "execution_count": 109,
     "metadata": {},
     "output_type": "execute_result"
    },
    {
     "data": {
      "image/png": "[encoded data removed]",
      "text/plain": [
       "<Figure size 720x360 with 1 Axes>"
      ]
     },
     "metadata": {
      "needs_background": "light"
     },
     "output_type": "display_data"
    }
   ],
   "source": [
    "fig = plt.figure(figsize=(10,5))\n",
    "sns.countplot('counts',data=email_counts.sort_values('counts'))\n",
    "plt.xticks(rotation=90)\n",
    "plt.title('Numero de pedidos por clientes')\n",
    "plt.xlabel('Nº de pedidos x cliente')\n",
    "plt.ylabel('counts')"
   ]
  },
  {
   "cell_type": "markdown",
   "metadata": {},
   "source": [
    "### con latitud longitud"
   ]
  },
  {
   "cell_type": "code",
   "execution_count": 110,
   "metadata": {},
   "outputs": [
    {
     "data": {
      "text/plain": [
       "1    487\n",
       "2     23\n",
       "3      4\n",
       "8      1\n",
       "dtype: int64"
      ]
     },
     "execution_count": 110,
     "metadata": {},
     "output_type": "execute_result"
    }
   ],
   "source": [
    "df_ord.apply(lambda x: str(x['ship_latitude'])+str(x['ship_latitude']),axis=1\n",
    "            ).replace('nannan',np.nan).dropna().value_counts().value_counts()\n"
   ]
  },
  {
   "cell_type": "markdown",
   "metadata": {},
   "source": [
    "## en cuantas nos comemos el transporte"
   ]
  },
  {
   "cell_type": "code",
   "execution_count": 111,
   "metadata": {},
   "outputs": [
    {
     "data": {
      "text/plain": [
       "Index(['close_date', 'creation_date', 'packContigo_unit_price', 'gateway',\n",
       "       'crema_total_price', 'packHidra_unit_price', 'crema_unit_price',\n",
       "       'balsamo_total_price', 'id', 'total_tax', 'longitude', 'province',\n",
       "       'packContigo_nb', 'packHidra_nb', 'packHidra_total_price',\n",
       "       'balsamo_unit_price', 'client_gender', 'order_id', 'client_email',\n",
       "       'manteca_unit_price', 'origin', 'buyer_accepts_marketing', 'manteca_nb',\n",
       "       'latitude', 'zip', 'manteca_total_price', 'accounting_item',\n",
       "       'order_status_url', 'crema_nb', 'country', 'product_movement',\n",
       "       'packContigo_total_price', 'subtotal_price', 'client_name',\n",
       "       'taxes_included', 'client_last_name', 'total_price', 'balsamo_nb',\n",
       "       'packAbanico_total_price', 'client_adresse', 'packAbanico_unit_price',\n",
       "       'packBandana_total_price', 'bolsa_nb', 'city', 'packBandana_nb',\n",
       "       'bolsa_total_price', 'packAbanico_nb', 'packBandana_unit_price',\n",
       "       'client_phone', 'bolsa_unit_price'],\n",
       "      dtype='object')"
      ]
     },
     "execution_count": 111,
     "metadata": {},
     "output_type": "execute_result"
    }
   ],
   "source": [
    "df_ventas.columns"
   ]
  },
  {
   "cell_type": "code",
   "execution_count": 112,
   "metadata": {},
   "outputs": [
    {
     "name": "stdout",
     "output_type": "stream",
     "text": [
      "50.0\n",
      "38.0\n"
     ]
    },
    {
     "data": {
      "image/png": "[encoded data removed]",
      "text/plain": [
       "<Figure size 432x288 with 1 Axes>"
      ]
     },
     "metadata": {
      "needs_background": "light"
     },
     "output_type": "display_data"
    }
   ],
   "source": [
    "thres = df_ventas['total_price'].quantile(0.99)\n",
    "sns.boxenplot(x=df_ventas[df_ventas['total_price']<thres]['total_price'])\n",
    "print(df_ventas['total_price'].quantile(0.90))\n",
    "print(df_ventas['total_price'].quantile(0.75))\n",
    "plt.show()"
   ]
  },
  {
   "cell_type": "code",
   "execution_count": 113,
   "metadata": {},
   "outputs": [
    {
     "data": {
      "text/plain": [
       "Text(0.5, 1.0, 'Histograma de precios/ingresos de los pedidos\\n (sin right_outliers)')"
      ]
     },
     "execution_count": 113,
     "metadata": {},
     "output_type": "execute_result"
    },
    {
     "data": {
      "image/png": "[encoded data removed]",
      "text/plain": [
       "<Figure size 1440x720 with 1 Axes>"
      ]
     },
     "metadata": {
      "needs_background": "light"
     },
     "output_type": "display_data"
    }
   ],
   "source": [
    "thres = df_ventas['total_price'].quantile(0.98)\n",
    "#total_price=df_ventas[df_ventas['total_price']<thres]['total_price']\n",
    "df_ventas[df_ventas['total_price']<40]['total_price'].hist(bins=np.arange(0,41,2),figsize=(20,10))\n",
    "df_ventas[df_ventas['total_price']>40]['total_price'].hist(bins=np.arange(40,80,2),figsize=(20,10))\n",
    "plt.xlabel('Precio/Ingreso del pedido',fontsize=19)\n",
    "plt.ylabel('Nº de pedidos',fontsize=19)\n",
    "plt.plot(40*np.ones(10),30*np.arange(10),color='r')\n",
    "plt.text(40,150,'+ de 40€ de pedido\\n -->\\n -->\\n -->',fontsize=16,color='r')\n",
    "plt.title('Histograma de precios/ingresos de los pedidos\\n (sin right_outliers)',fontsize=25)"
   ]
  },
  {
   "cell_type": "code",
   "execution_count": 114,
   "metadata": {},
   "outputs": [
    {
     "data": {
      "text/plain": [
       "0.7596774193548387"
      ]
     },
     "execution_count": 114,
     "metadata": {},
     "output_type": "execute_result"
    }
   ],
   "source": [
    "thres=40\n",
    "len(df_ventas)\n",
    "len(df_ventas[df_ventas['total_price']<thres]['total_price'])/len(df_ventas)"
   ]
  },
  {
   "cell_type": "code",
   "execution_count": 115,
   "metadata": {},
   "outputs": [
    {
     "data": {
      "text/plain": [
       "0.2403225806451613"
      ]
     },
     "execution_count": 115,
     "metadata": {},
     "output_type": "execute_result"
    }
   ],
   "source": [
    "len(df_ventas[df_ventas['total_price']>=thres]['total_price'])/len(df_ventas)"
   ]
  },
  {
   "cell_type": "code",
   "execution_count": 116,
   "metadata": {},
   "outputs": [
    {
     "data": {
      "image/png": "[encoded data removed]",
      "text/plain": [
       "<Figure size 432x288 with 1 Axes>"
      ]
     },
     "metadata": {},
     "output_type": "display_data"
    }
   ],
   "source": [
    "fig = plt.figure()\n",
    "ax = fig.add_axes([0,0,1,1])\n",
    "ax.axis('equal')\n",
    "langs = ['Pedidos <40€ (menores)', 'Pedidos >40€ (mayores)']\n",
    "students = [75.889,24.11]\n",
    "ax.pie(students, labels = langs,autopct='%1.2f%%')\n",
    "title= '% de pedidos mayores de 40€\\n total nº pedidos: {}'.format(len(df_ventas))\n",
    "plt.title(title)\n",
    "plt.show()"
   ]
  },
  {
   "cell_type": "code",
   "execution_count": 117,
   "metadata": {},
   "outputs": [
    {
     "data": {
      "text/plain": [
       "0_cre||0_bal||0_mant||1_packH||0_packC    282\n",
       "0_cre||0_bal||1_mant||0_packH||0_packC     43\n",
       "0_cre||0_bal||0_mant||3_packH||0_packC     38\n",
       "0_cre||0_bal||0_mant||2_packH||0_packC     33\n",
       "0_cre||0_bal||2_mant||0_packH||0_packC     18\n",
       "0_cre||0_bal||1_mant||2_packH||0_packC     17\n",
       "0_cre||0_bal||1_mant||1_packH||0_packC     13\n",
       "0_cre||0_bal||3_mant||0_packH||0_packC     12\n",
       "0_cre||0_bal||5_mant||0_packH||0_packC     10\n",
       "0_cre||0_bal||0_mant||4_packH||0_packC      9\n",
       "0_cre||1_bal||2_mant||0_packH||0_packC      8\n",
       "0_cre||1_bal||1_mant||0_packH||0_packC      7\n",
       "1_cre||0_bal||0_mant||2_packH||0_packC      7\n",
       "0_cre||0_bal||3_mant||1_packH||0_packC      6\n",
       "0_cre||0_bal||6_mant||0_packH||0_packC      6\n",
       "0_cre||0_bal||0_mant||0_packH||1_packC      5\n",
       "1_cre||0_bal||0_mant||1_packH||0_packC      4\n",
       "0_cre||0_bal||0_mant||2_packH||1_packC      4\n",
       "1_cre||0_bal||1_mant||0_packH||0_packC      4\n",
       "2_cre||0_bal||0_mant||0_packH||0_packC      4\n",
       "dtype: int64"
      ]
     },
     "execution_count": 117,
     "metadata": {},
     "output_type": "execute_result"
    }
   ],
   "source": [
    "df_ventas.apply(lambda x:\n",
    "                ((str(x['crema_nb'])+'_cre||'\n",
    "                 )+(str(x['balsamo_nb'])+'_bal||'\n",
    "                 )+(str(x['manteca_nb'])+'_mant||'\n",
    "                 )+(str(x['packHidra_nb'])+'_packH||'\n",
    "                 )+(str(x['packContigo_nb'])+'_packC'\n",
    "                 )\n",
    "                 ),axis=1\n",
    "               ).value_counts()[0:20]"
   ]
  },
  {
   "cell_type": "code",
   "execution_count": 118,
   "metadata": {},
   "outputs": [
    {
     "data": {
      "text/plain": [
       "Text(0, 0.5, 'precios')"
      ]
     },
     "execution_count": 118,
     "metadata": {},
     "output_type": "execute_result"
    },
    {
     "data": {
      "image/png": "[encoded data removed]",
      "text/plain": [
       "<Figure size 432x288 with 1 Axes>"
      ]
     },
     "metadata": {
      "needs_background": "light"
     },
     "output_type": "display_data"
    }
   ],
   "source": [
    "#precios y demanda gráficos\n",
    "demand_plot = df_ventas[df_ventas['subtotal_price']<100]['subtotal_price'].value_counts().reset_index()\n",
    "sns.scatterplot(x='subtotal_price',y='index',data=demand_plot)\n",
    "plt.xlabel('demanda')\n",
    "plt.ylabel('precios')"
   ]
  },
  {
   "cell_type": "markdown",
   "metadata": {},
   "source": [
    "## HOW MUCH MONEY DO WE LOOSE"
   ]
  },
  {
   "cell_type": "code",
   "execution_count": 119,
   "metadata": {},
   "outputs": [],
   "source": [
    "df_ventas['subtotal_price']=pd.to_numeric(df_ventas['subtotal_price'])"
   ]
  },
  {
   "cell_type": "code",
   "execution_count": 120,
   "metadata": {},
   "outputs": [
    {
     "name": "stdout",
     "output_type": "stream",
     "text": [
      "68.0\n",
      "600\n"
     ]
    },
    {
     "data": {
      "text/plain": [
       "14215.7"
      ]
     },
     "execution_count": 120,
     "metadata": {},
     "output_type": "execute_result"
    }
   ],
   "source": [
    "thres = df_ventas['subtotal_price'].quantile(0.97)\n",
    "print(thres)\n",
    "total_price=df_ventas[df_ventas['subtotal_price']<thres]['subtotal_price']\n",
    "print(len(total_price))\n",
    "total_revenue=total_price.sum()\n",
    "total_revenue"
   ]
  },
  {
   "cell_type": "code",
   "execution_count": 121,
   "metadata": {},
   "outputs": [
    {
     "data": {
      "text/plain": [
       "833.9999999999999"
      ]
     },
     "execution_count": 121,
     "metadata": {},
     "output_type": "execute_result"
    }
   ],
   "source": [
    "thres=40\n",
    "lost_transport=5.56*0.25*len(total_price)\n",
    "lost_transport"
   ]
  },
  {
   "cell_type": "code",
   "execution_count": 122,
   "metadata": {},
   "outputs": [
    {
     "data": {
      "text/plain": [
       "Text(0, 0.5, '€')"
      ]
     },
     "execution_count": 122,
     "metadata": {},
     "output_type": "execute_result"
    },
    {
     "data": {
      "image/png": "[encoded data removed]",
      "text/plain": [
       "<Figure size 432x288 with 1 Axes>"
      ]
     },
     "metadata": {
      "needs_background": "light"
     },
     "output_type": "display_data"
    }
   ],
   "source": [
    "labels=['total_revenue\\n{}€'.format(round(total_revenue,2)),\n",
    "        'lost_transport\\n{}€'.format(round(lost_transport,2))\n",
    "                                  ]\n",
    "bar_to_plot = pd.DataFrame({'lab':labels,\n",
    "                            'val':[total_revenue,lost_transport]})\n",
    "ax = bar_to_plot.plot(x='lab', y='val', kind='bar')\n",
    "ax.get_legend().remove()\n",
    "ax.set_title(\n",
    "    'Las pérdidas por transporte representan un:\\n {}% de las ventas'.format(\n",
    "                            round(100*(lost_transport/total_revenue),2)),\n",
    "    fontsize=15\n",
    "        )\n",
    "ax.set_xlabel('')\n",
    "plt.xticks(fontsize=14)\n",
    "ax.set_ylabel('€',fontsize=14)"
   ]
  },
  {
   "cell_type": "markdown",
   "metadata": {},
   "source": [
    "### comisiones financieras"
   ]
  },
  {
   "cell_type": "code",
   "execution_count": 123,
   "metadata": {},
   "outputs": [],
   "source": [
    "def comisiones(x):\n",
    "    gateway = x['gateway']\n",
    "    if gateway== 'shopify_payments':\n",
    "        return x['total_price']*0.021+0.25\n",
    "    elif gateway== 'paypal':\n",
    "        return x['total_price']*0.019+0.35\n",
    "    else:\n",
    "        print('error')\n",
    "        print(gateway)\n",
    "    return 0"
   ]
  },
  {
   "cell_type": "code",
   "execution_count": 124,
   "metadata": {},
   "outputs": [
    {
     "data": {
      "text/plain": [
       "555.05675"
      ]
     },
     "execution_count": 124,
     "metadata": {},
     "output_type": "execute_result"
    }
   ],
   "source": [
    "#comisiones\n",
    "df_ventas_shop = df_ventas[\n",
    "                           #(df_ventas['origin'] != 'Contoan') &\n",
    "                           #(df_ventas['gateway'] != 'shopify_payments')]\n",
    "                           #(df_ventas['gateway'] != 'paypal')]\n",
    "                          (df_ventas['origin'] != 'Contoan')]\n",
    "total_comisiones=df_ventas_shop.apply(lambda x: comisiones(x),axis=1).sum()\n",
    "total_comisiones"
   ]
  },
  {
   "cell_type": "code",
   "execution_count": 125,
   "metadata": {},
   "outputs": [
    {
     "data": {
      "text/plain": [
       "16880.25"
      ]
     },
     "execution_count": 125,
     "metadata": {},
     "output_type": "execute_result"
    }
   ],
   "source": [
    "total_sin_trans = df_ventas_shop['subtotal_price'].sum()\n",
    "total_sin_trans"
   ]
  },
  {
   "cell_type": "code",
   "execution_count": 126,
   "metadata": {},
   "outputs": [
    {
     "data": {
      "text/plain": [
       "3.288202188948623"
      ]
     },
     "execution_count": 126,
     "metadata": {},
     "output_type": "execute_result"
    }
   ],
   "source": [
    "100*total_comisiones/total_sin_trans"
   ]
  },
  {
   "cell_type": "code",
   "execution_count": 127,
   "metadata": {},
   "outputs": [
    {
     "data": {
      "text/plain": [
       "Text(0, 0.5, '€')"
      ]
     },
     "execution_count": 127,
     "metadata": {},
     "output_type": "execute_result"
    },
    {
     "data": {
      "image/png": "[encoded data removed]",
      "text/plain": [
       "<Figure size 432x288 with 1 Axes>"
      ]
     },
     "metadata": {
      "needs_background": "light"
     },
     "output_type": "display_data"
    }
   ],
   "source": [
    "labels=['ingresos\\n{}€'.format(round(total_sin_trans,2)),\n",
    "        'comisiones\\n{}€'.format(round(total_comisiones,2))\n",
    "                                  ]\n",
    "bar_to_plot = pd.DataFrame({'lab':labels,\n",
    "                            'val':[total_sin_trans,total_comisiones]})\n",
    "ax = bar_to_plot.plot(x='lab', y='val', kind='bar')\n",
    "ax.get_legend().remove()\n",
    "ax.set_title(\n",
    "    'Las pérdidas por comisiones financieras representan un:\\n {}% de las ventas'.format(\n",
    "                            round(100*total_comisiones/total_sin_trans,2)),\n",
    "    fontsize=15\n",
    "        )\n",
    "ax.set_xlabel('')\n",
    "plt.xticks(fontsize=14)\n",
    "ax.set_ylabel('€',fontsize=14)"
   ]
  },
  {
   "cell_type": "markdown",
   "metadata": {},
   "source": [
    "Etiquetas (x2)\t\t0.13 €\n",
    "Envase+envasado+materia prima\t\t1.16 €\n",
    "Cajas\t\t0.32 €"
   ]
  },
  {
   "cell_type": "code",
   "execution_count": 129,
   "metadata": {},
   "outputs": [
    {
     "data": {
      "text/plain": [
       "<matplotlib.legend.Legend at 0x7fc20e8a4940>"
      ]
     },
     "execution_count": 129,
     "metadata": {},
     "output_type": "execute_result"
    },
    {
     "data": {
      "image/png": "[encoded data removed]",
      "text/plain": [
       "<Figure size 432x288 with 1 Axes>"
      ]
     },
     "metadata": {
      "needs_background": "light"
     },
     "output_type": "display_data"
    }
   ],
   "source": [
    "#MANTECAS\n",
    "fig = plt.figure()\n",
    "ax = fig.add_axes((1,1,1,1))\n",
    "precio=8\n",
    "width=0.1\n",
    "#comisiones\n",
    "p1 = ax.barh([1],[precio],width,label='precio: {}'.format(precio))\n",
    "\n",
    "#IVA\n",
    "iva=round(precio*(1-1/1.21),2)\n",
    "p2 = ax.barh([1],[iva],width,left=0,label='iva: {}'.format(iva))\n",
    "\n",
    "#ENVASADO\n",
    "envasado=1.16\n",
    "left=iva\n",
    "p3 = ax.barh([1],[envasado],width,left=left,label='envasado: {}'.format(envasado))\n",
    "\n",
    "\n",
    "#COSTE MANTECA\n",
    "manteca=0.58\n",
    "left=left+envasado\n",
    "p3 = ax.barh([1],[manteca],width,left=left,label='manteca: {}'.format(manteca))\n",
    "\n",
    "\n",
    "#transporte gratuito y pedidos fuera de madrid\n",
    "transporte=round(precio*0.0586+0.06,2)\n",
    "left=left+manteca\n",
    "p4 = ax.barh([1],[transporte],width,left=left,label='transporte: {}'.format(transporte))\n",
    "\n",
    "#cajas\n",
    "cajas=0.32\n",
    "left=left+transporte\n",
    "p6 = ax.barh([1],[cajas],width,left=left,label='cajas: {}'.format(cajas))\n",
    "\n",
    "#comisiones\n",
    "comisiones=round(precio*0.033,2)\n",
    "left=left+cajas\n",
    "p5 = ax.barh([1],[comisiones],width,left=left,label='comisiones: {}'.format(comisiones))\n",
    "\n",
    "#etiquetas\n",
    "etiquetas=0.13\n",
    "left=left+comisiones\n",
    "p7 = ax.barh([1],[etiquetas],width,left=left,label='etiquetas: {}'.format(etiquetas))\n",
    "\n",
    "#margen\n",
    "left=left+etiquetas\n",
    "margen=precio-left\n",
    "p8 = ax.barh([0.8],[margen],width,left=left,label='margen: {}'.format(margen))\n",
    "\n",
    "costes_pack1=etiquetas+envasado+manteca\n",
    "\n",
    "perc_margen = round(100*margen/precio,2)\n",
    "\n",
    "text='MARGENES\\nMANTECA DE KARITE\\n{}% (8) = {}€'.format(perc_margen,margen)\n",
    "plt.text(1,1.4,text,fontsize=14)\n",
    "\n",
    "plt.ylim(0.6,1.6)\n",
    "ax.set_yticks([])\n",
    "ax.spines['left'].set_color('none')\n",
    "ax.spines['right'].set_color('none')\n",
    "ax.spines['top'].set_color('none')\n",
    "plt.legend()"
   ]
  },
  {
   "cell_type": "code",
   "execution_count": 130,
   "metadata": {},
   "outputs": [
    {
     "data": {
      "text/plain": [
       "<matplotlib.legend.Legend at 0x7fc211246c10>"
      ]
     },
     "execution_count": 130,
     "metadata": {},
     "output_type": "execute_result"
    },
    {
     "data": {
      "image/png": "[encoded data removed]",
      "text/plain": [
       "<Figure size 432x288 with 1 Axes>"
      ]
     },
     "metadata": {
      "needs_background": "light"
     },
     "output_type": "display_data"
    }
   ],
   "source": [
    "#CREMAS\n",
    "fig = plt.figure()\n",
    "ax = fig.add_axes((1,1,1,1))\n",
    "precio=6\n",
    "width=0.1\n",
    "#comisiones\n",
    "p1 = ax.barh([1],[precio],width,label='precio: {}'.format(precio))\n",
    "\n",
    "#IVA\n",
    "iva=round(precio*(1-1/1.21),2)\n",
    "p2 = ax.barh([1],[iva],width,left=0,label='iva: {}'.format(iva))\n",
    "\n",
    "#ENVASADO\n",
    "envasado=2.27\n",
    "left=iva\n",
    "p3 = ax.barh([1],[envasado],width,left=left,label='envasado: {}'.format(envasado))\n",
    "env2=envasado\n",
    "\n",
    "\n",
    "#transporte gratuito y pedidos fuera de madrid\n",
    "transporte=round(precio*0.0586+0.06,2)\n",
    "left=left+envasado\n",
    "p4 = ax.barh([1],[transporte],width,left=left,label='transporte: {}'.format(transporte))\n",
    "\n",
    "#cajas\n",
    "cajas=0.32\n",
    "left=left+transporte\n",
    "p6 = ax.barh([1],[cajas],width,left=left,label='cajas: {}'.format(cajas))\n",
    "\n",
    "#comisiones\n",
    "comisiones=round(precio*0.033,2)\n",
    "left=left+cajas\n",
    "p5 = ax.barh([1],[comisiones],width,left=left,label='comisiones: {}'.format(comisiones))\n",
    "\n",
    "#COSTE MANTECA\n",
    "manteca=0.05\n",
    "left=left+comisiones\n",
    "p3 = ax.barh([1],[manteca],width,left=left,label='manteca: {}'.format(manteca))\n",
    "\n",
    "#margen\n",
    "left=left+manteca\n",
    "margen=round(precio-left,2)\n",
    "p8 = ax.barh([0.8],[margen],width,left=left,label='margen: {}'.format(margen))\n",
    "\n",
    "costes_pack2=envasado+manteca\n",
    "\n",
    "perc_margen = round(100*margen/precio,2)\n",
    "\n",
    "text='MARGENES\\nCREMA DE MANOS\\n{}% (6) = {}€'.format(perc_margen,margen)\n",
    "plt.text(1,1.4,text,fontsize=14)\n",
    "\n",
    "plt.ylim(0.6,1.6)\n",
    "ax.set_yticks([])\n",
    "ax.spines['left'].set_color('none')\n",
    "ax.spines['right'].set_color('none')\n",
    "ax.spines['top'].set_color('none')\n",
    "plt.legend()"
   ]
  },
  {
   "cell_type": "code",
   "execution_count": 131,
   "metadata": {},
   "outputs": [
    {
     "data": {
      "text/plain": [
       "<matplotlib.legend.Legend at 0x7fc211385b80>"
      ]
     },
     "execution_count": 131,
     "metadata": {},
     "output_type": "execute_result"
    },
    {
     "data": {
      "image/png": "[encoded data removed]",
      "text/plain": [
       "<Figure size 432x288 with 1 Axes>"
      ]
     },
     "metadata": {
      "needs_background": "light"
     },
     "output_type": "display_data"
    }
   ],
   "source": [
    "#BALSAMOS\n",
    "fig = plt.figure()\n",
    "ax = fig.add_axes((1,1,1,1))\n",
    "precio=4\n",
    "width=0.1\n",
    "#comisiones\n",
    "p1 = ax.barh([1],[precio],width,label='precio: {}'.format(precio))\n",
    "\n",
    "#IVA\n",
    "iva=round(precio*(1-1/1.21),2)\n",
    "p2 = ax.barh([1],[iva],width,left=0,label='iva: {}'.format(iva))\n",
    "\n",
    "#ENVASADO\n",
    "envasado=1.12\n",
    "left=iva\n",
    "p3 = ax.barh([1],[envasado],width,left=left,label='envasado: {}'.format(envasado))\n",
    "env3=envasado\n",
    "\n",
    "\n",
    "#transporte gratuito y pedidos fuera de madrid\n",
    "transporte=round(precio*0.0586+0.06,2)\n",
    "left=left+envasado\n",
    "p4 = ax.barh([1],[transporte],width,left=left,label='transporte: {}'.format(transporte))\n",
    "\n",
    "#cajas\n",
    "cajas=0.32\n",
    "left=left+transporte\n",
    "p6 = ax.barh([1],[cajas],width,left=left,label='cajas: {}'.format(cajas))\n",
    "\n",
    "#comisiones\n",
    "comisiones=round(precio*0.033,2)\n",
    "left=left+cajas\n",
    "p5 = ax.barh([1],[comisiones],width,left=left,label='comisiones: {}'.format(comisiones))\n",
    "\n",
    "#etiquetas\n",
    "etiquetas=0.1\n",
    "left=left+comisiones\n",
    "p7 = ax.barh([1],[etiquetas],width,left=left,label='etiquetas: {}'.format(etiquetas))\n",
    "\n",
    "#COSTE MANTECA\n",
    "manteca=0.05\n",
    "left=left+etiquetas\n",
    "p3 = ax.barh([1],[manteca],width,left=left,label='manteca: {}'.format(manteca))\n",
    "\n",
    "#margen\n",
    "left=left+manteca\n",
    "margen=round(precio-left,2)\n",
    "p8 = ax.barh([0.8],[margen],width,left=left,label='margen: {}'.format(margen))\n",
    "\n",
    "costes_pack3=etiquetas+envasado+manteca\n",
    "\n",
    "perc_margen = round(100*margen/precio,2)\n",
    "\n",
    "text='MARGENES\\nBALSAMO\\n{}% (6) = {}€'.format(perc_margen,margen)\n",
    "plt.text(1,1.4,text,fontsize=14)\n",
    "\n",
    "plt.ylim(0.6,1.6)\n",
    "ax.set_yticks([])\n",
    "ax.spines['left'].set_color('none')\n",
    "ax.spines['right'].set_color('none')\n",
    "ax.spines['top'].set_color('none')\n",
    "plt.legend()"
   ]
  },
  {
   "cell_type": "code",
   "execution_count": 132,
   "metadata": {},
   "outputs": [
    {
     "data": {
      "text/plain": [
       "<matplotlib.legend.Legend at 0x7fc2114cd9d0>"
      ]
     },
     "execution_count": 132,
     "metadata": {},
     "output_type": "execute_result"
    },
    {
     "data": {
      "image/png": "[encoded data removed]",
      "text/plain": [
       "<Figure size 432x288 with 1 Axes>"
      ]
     },
     "metadata": {
      "needs_background": "light"
     },
     "output_type": "display_data"
    }
   ],
   "source": [
    "#PACK + HIDRATADA\n",
    "fig = plt.figure()\n",
    "ax = fig.add_axes((1,1,1,1))\n",
    "precio=17\n",
    "width=0.1\n",
    "#precio\n",
    "p1 = ax.barh([1],[precio],width,label='precio: {}'.format(precio))\n",
    "\n",
    "#IVA\n",
    "iva=round(precio*(1-1/1.21),2)\n",
    "p2 = ax.barh([1],[iva],width,left=0,label='iva: {}'.format(iva))\n",
    "\n",
    "#ENVASADO Y MANTECA\n",
    "costes_pack=costes_pack1+costes_pack2+costes_pack3\n",
    "left=iva\n",
    "p3 = ax.barh([1],[costes_pack],width,left=left,label='costes_pack: {}'.format(costes_pack))\n",
    "\n",
    "\n",
    "#transporte gratuito y pedidos fuera de madrid\n",
    "transporte=round(precio*0.0586+0.06,2)\n",
    "left=left+costes_pack\n",
    "p4 = ax.barh([1],[transporte],width,left=left,label='transporte: {}'.format(transporte))\n",
    "\n",
    "#cajas\n",
    "cajas=0.32\n",
    "left=left+transporte\n",
    "p6 = ax.barh([1],[cajas],width,left=left,label='cajas: {}'.format(cajas))\n",
    "\n",
    "#comisiones\n",
    "comisiones=round(precio*0.033,2)\n",
    "left=left+cajas\n",
    "p5 = ax.barh([1],[comisiones],width,left=left,label='comisiones: {}'.format(comisiones))\n",
    "\n",
    "#margen\n",
    "left=left+comisiones\n",
    "margen=round(precio-left,2)\n",
    "p8 = ax.barh([0.8],[margen],width,left=left,label='margen: {}'.format(margen))\n",
    "\n",
    "costes_pack3=etiquetas+envasado+manteca\n",
    "\n",
    "perc_margen = round(100*margen/precio,2)\n",
    "\n",
    "text='MARGENES\\nPACK\\n{}% (6) = {}€'.format(perc_margen,margen)\n",
    "plt.text(1,1.4,text,fontsize=14)\n",
    "\n",
    "plt.ylim(0.6,1.6)\n",
    "ax.set_yticks([])\n",
    "ax.spines['left'].set_color('none')\n",
    "ax.spines['right'].set_color('none')\n",
    "ax.spines['top'].set_color('none')\n",
    "plt.legend()"
   ]
  },
  {
   "cell_type": "code",
   "execution_count": 133,
   "metadata": {},
   "outputs": [
    {
     "name": "stdout",
     "output_type": "stream",
     "text": [
      "475\n"
     ]
    },
    {
     "data": {
      "text/plain": [
       "0_cre||0_bal||0_mant||1_packH||0_packC    0.593684\n",
       "0_cre||0_bal||1_mant||0_packH||0_packC    0.090526\n",
       "0_cre||0_bal||0_mant||3_packH||0_packC    0.080000\n",
       "0_cre||0_bal||0_mant||2_packH||0_packC    0.069474\n",
       "0_cre||0_bal||2_mant||0_packH||0_packC    0.037895\n",
       "0_cre||0_bal||1_mant||2_packH||0_packC    0.035789\n",
       "0_cre||0_bal||1_mant||1_packH||0_packC    0.027368\n",
       "0_cre||0_bal||3_mant||0_packH||0_packC    0.025263\n",
       "0_cre||0_bal||5_mant||0_packH||0_packC    0.021053\n",
       "0_cre||0_bal||0_mant||4_packH||0_packC    0.018947\n",
       "dtype: float64"
      ]
     },
     "execution_count": 133,
     "metadata": {},
     "output_type": "execute_result"
    }
   ],
   "source": [
    "total=df_ventas.apply(lambda x:\n",
    "                ((str(x['crema_nb'])+'_cre||'\n",
    "                 )+(str(x['balsamo_nb'])+'_bal||'\n",
    "                 )+(str(x['manteca_nb'])+'_mant||'\n",
    "                 )+(str(x['packHidra_nb'])+'_packH||'\n",
    "                 )+(str(x['packContigo_nb'])+'_packC'\n",
    "                 )\n",
    "                 ),axis=1\n",
    "               ).value_counts()[0:10].sum()\n",
    "print(total)\n",
    "sales_dist=df_ventas.apply(lambda x:\n",
    "                ((str(x['crema_nb'])+'_cre||'\n",
    "                 )+(str(x['balsamo_nb'])+'_bal||'\n",
    "                 )+(str(x['manteca_nb'])+'_mant||'\n",
    "                 )+(str(x['packHidra_nb'])+'_packH||'\n",
    "                 )+(str(x['packContigo_nb'])+'_packC'\n",
    "                 )\n",
    "                 ),axis=1\n",
    "               ).value_counts()[0:10]/total\n",
    "sales_dist"
   ]
  },
  {
   "cell_type": "markdown",
   "metadata": {},
   "source": [
    "MANTECA: 45.4%\n",
    "CREMA: 28.5%\n",
    "BALSAMO: 32.5%\n",
    "PACK: 39.1%"
   ]
  },
  {
   "cell_type": "code",
   "execution_count": 134,
   "metadata": {},
   "outputs": [
    {
     "data": {
      "text/html": [
       "<div>\n",
       "<style scoped>\n",
       "    .dataframe tbody tr th:only-of-type {\n",
       "        vertical-align: middle;\n",
       "    }\n",
       "\n",
       "    .dataframe tbody tr th {\n",
       "        vertical-align: top;\n",
       "    }\n",
       "\n",
       "    .dataframe thead th {\n",
       "        text-align: right;\n",
       "    }\n",
       "</style>\n",
       "<table border=\"1\" class=\"dataframe\">\n",
       "  <thead>\n",
       "    <tr style=\"text-align: right;\">\n",
       "      <th></th>\n",
       "      <th>ventas mas comunes</th>\n",
       "      <th>mantecas</th>\n",
       "      <th>packs</th>\n",
       "      <th>% recurrencia</th>\n",
       "      <th>margenes</th>\n",
       "    </tr>\n",
       "  </thead>\n",
       "  <tbody>\n",
       "    <tr>\n",
       "      <th>0</th>\n",
       "      <td>1pack</td>\n",
       "      <td>0</td>\n",
       "      <td>1</td>\n",
       "      <td>0.593684</td>\n",
       "      <td>0.3910</td>\n",
       "    </tr>\n",
       "    <tr>\n",
       "      <th>1</th>\n",
       "      <td>1manteca</td>\n",
       "      <td>1</td>\n",
       "      <td>0</td>\n",
       "      <td>0.090526</td>\n",
       "      <td>0.4540</td>\n",
       "    </tr>\n",
       "    <tr>\n",
       "      <th>2</th>\n",
       "      <td>3packs</td>\n",
       "      <td>0</td>\n",
       "      <td>3</td>\n",
       "      <td>0.080000</td>\n",
       "      <td>0.3910</td>\n",
       "    </tr>\n",
       "    <tr>\n",
       "      <th>3</th>\n",
       "      <td>2packs</td>\n",
       "      <td>0</td>\n",
       "      <td>2</td>\n",
       "      <td>0.069474</td>\n",
       "      <td>0.3910</td>\n",
       "    </tr>\n",
       "    <tr>\n",
       "      <th>4</th>\n",
       "      <td>2mantecas</td>\n",
       "      <td>2</td>\n",
       "      <td>0</td>\n",
       "      <td>0.037895</td>\n",
       "      <td>0.4540</td>\n",
       "    </tr>\n",
       "    <tr>\n",
       "      <th>5</th>\n",
       "      <td>1mateca_2packs</td>\n",
       "      <td>1</td>\n",
       "      <td>2</td>\n",
       "      <td>0.035789</td>\n",
       "      <td>0.4120</td>\n",
       "    </tr>\n",
       "    <tr>\n",
       "      <th>6</th>\n",
       "      <td>1mateca_1packs</td>\n",
       "      <td>1</td>\n",
       "      <td>1</td>\n",
       "      <td>0.027368</td>\n",
       "      <td>0.4225</td>\n",
       "    </tr>\n",
       "    <tr>\n",
       "      <th>7</th>\n",
       "      <td>3matecas</td>\n",
       "      <td>3</td>\n",
       "      <td>0</td>\n",
       "      <td>0.025263</td>\n",
       "      <td>0.4540</td>\n",
       "    </tr>\n",
       "    <tr>\n",
       "      <th>8</th>\n",
       "      <td>5matecas</td>\n",
       "      <td>5</td>\n",
       "      <td>0</td>\n",
       "      <td>0.021053</td>\n",
       "      <td>0.4540</td>\n",
       "    </tr>\n",
       "    <tr>\n",
       "      <th>9</th>\n",
       "      <td>4packs</td>\n",
       "      <td>0</td>\n",
       "      <td>4</td>\n",
       "      <td>0.018947</td>\n",
       "      <td>0.3910</td>\n",
       "    </tr>\n",
       "  </tbody>\n",
       "</table>\n",
       "</div>"
      ],
      "text/plain": [
       "  ventas mas comunes  mantecas  packs  % recurrencia  margenes\n",
       "0              1pack         0      1       0.593684    0.3910\n",
       "1           1manteca         1      0       0.090526    0.4540\n",
       "2             3packs         0      3       0.080000    0.3910\n",
       "3             2packs         0      2       0.069474    0.3910\n",
       "4          2mantecas         2      0       0.037895    0.4540\n",
       "5     1mateca_2packs         1      2       0.035789    0.4120\n",
       "6     1mateca_1packs         1      1       0.027368    0.4225\n",
       "7           3matecas         3      0       0.025263    0.4540\n",
       "8           5matecas         5      0       0.021053    0.4540\n",
       "9             4packs         0      4       0.018947    0.3910"
      ]
     },
     "execution_count": 134,
     "metadata": {},
     "output_type": "execute_result"
    }
   ],
   "source": [
    "labels = ['1pack','1manteca','3packs','2packs','2mantecas','1mateca_2packs','1mateca_1packs',\n",
    "         '3matecas','5matecas','4packs']\n",
    "\n",
    "marg = [0.391,0.454,0.391,0.391,0.454,0.412,0.4225,0.454,0.454,0.391] \n",
    "\n",
    "mantecas = [0,1,0,0,2,1,1,3,5,0]\n",
    "packs = [1,0,3,2,0,2,1,0,0,4]\n",
    "\n",
    "margenes = pd.DataFrame({'ventas mas comunes':labels,\n",
    "                         'mantecas':mantecas,\n",
    "                         'packs':packs,\n",
    "                         '% recurrencia':sales_dist,\n",
    "                         'margenes':marg}).reset_index(drop=True)\n",
    "margenes"
   ]
  },
  {
   "cell_type": "code",
   "execution_count": 135,
   "metadata": {},
   "outputs": [],
   "source": [
    "margenes['precio']=margenes['mantecas']*10+margenes['packs']*18"
   ]
  },
  {
   "cell_type": "code",
   "execution_count": 136,
   "metadata": {},
   "outputs": [
    {
     "data": {
      "text/plain": [
       "0.40362210526315795"
      ]
     },
     "execution_count": 136,
     "metadata": {},
     "output_type": "execute_result"
    }
   ],
   "source": [
    "(margenes['margenes']*margenes['% recurrencia']).sum()/margenes['% recurrencia'].sum()"
   ]
  },
  {
   "cell_type": "markdown",
   "metadata": {},
   "source": [
    "# OBJETIVO DE VENTAS"
   ]
  },
  {
   "cell_type": "code",
   "execution_count": 137,
   "metadata": {},
   "outputs": [
    {
     "data": {
      "text/plain": [
       "1486.5389981770336"
      ]
     },
     "execution_count": 137,
     "metadata": {},
     "output_type": "execute_result"
    }
   ],
   "source": [
    "# COSTES FIJOS EN NIKKI 600€\n",
    "600/0.40362210526315795"
   ]
  },
  {
   "cell_type": "code",
   "execution_count": 138,
   "metadata": {},
   "outputs": [],
   "source": [
    "margenes['ventas']=margenes['% recurrencia']*1500"
   ]
  },
  {
   "cell_type": "code",
   "execution_count": 139,
   "metadata": {},
   "outputs": [],
   "source": [
    "margenes['beneficios']=margenes['ventas']*margenes['margenes']"
   ]
  },
  {
   "cell_type": "code",
   "execution_count": 140,
   "metadata": {},
   "outputs": [],
   "source": [
    "margenes['packs_total'] = margenes['packs']*margenes['ventas']/(margenes['precio'])"
   ]
  },
  {
   "cell_type": "code",
   "execution_count": 141,
   "metadata": {},
   "outputs": [],
   "source": [
    "margenes['mantecas_total'] =margenes['mantecas']*margenes['ventas']/(margenes['precio'])"
   ]
  },
  {
   "cell_type": "code",
   "execution_count": 142,
   "metadata": {},
   "outputs": [],
   "source": [
    "margenes=margenes.replace(np.nan,0)"
   ]
  },
  {
   "cell_type": "code",
   "execution_count": 143,
   "metadata": {},
   "outputs": [],
   "source": [
    "margenes['mantecas_total'] = margenes['mantecas_total']\n",
    "margenes['packs_total'] = margenes['packs_total']"
   ]
  },
  {
   "cell_type": "code",
   "execution_count": 144,
   "metadata": {},
   "outputs": [],
   "source": [
    "margenes['% recurrencia']=margenes['% recurrencia'].apply(lambda x:str(round(100*x,2))+'%')"
   ]
  },
  {
   "cell_type": "code",
   "execution_count": 145,
   "metadata": {},
   "outputs": [
    {
     "data": {
      "text/html": [
       "<div>\n",
       "<style scoped>\n",
       "    .dataframe tbody tr th:only-of-type {\n",
       "        vertical-align: middle;\n",
       "    }\n",
       "\n",
       "    .dataframe tbody tr th {\n",
       "        vertical-align: top;\n",
       "    }\n",
       "\n",
       "    .dataframe thead th {\n",
       "        text-align: right;\n",
       "    }\n",
       "</style>\n",
       "<table border=\"1\" class=\"dataframe\">\n",
       "  <thead>\n",
       "    <tr style=\"text-align: right;\">\n",
       "      <th></th>\n",
       "      <th>ventas mas comunes</th>\n",
       "      <th>mantecas</th>\n",
       "      <th>packs</th>\n",
       "      <th>% recurrencia</th>\n",
       "      <th>margenes</th>\n",
       "      <th>precio</th>\n",
       "      <th>ventas</th>\n",
       "      <th>beneficios</th>\n",
       "      <th>packs_total</th>\n",
       "      <th>mantecas_total</th>\n",
       "    </tr>\n",
       "  </thead>\n",
       "  <tbody>\n",
       "    <tr>\n",
       "      <th>0</th>\n",
       "      <td>1pack</td>\n",
       "      <td>0</td>\n",
       "      <td>1</td>\n",
       "      <td>59.37%</td>\n",
       "      <td>0.3910</td>\n",
       "      <td>18</td>\n",
       "      <td>890.526316</td>\n",
       "      <td>348.195789</td>\n",
       "      <td>49.473684</td>\n",
       "      <td>0.000000</td>\n",
       "    </tr>\n",
       "    <tr>\n",
       "      <th>1</th>\n",
       "      <td>1manteca</td>\n",
       "      <td>1</td>\n",
       "      <td>0</td>\n",
       "      <td>9.05%</td>\n",
       "      <td>0.4540</td>\n",
       "      <td>10</td>\n",
       "      <td>135.789474</td>\n",
       "      <td>61.648421</td>\n",
       "      <td>0.000000</td>\n",
       "      <td>13.578947</td>\n",
       "    </tr>\n",
       "    <tr>\n",
       "      <th>2</th>\n",
       "      <td>3packs</td>\n",
       "      <td>0</td>\n",
       "      <td>3</td>\n",
       "      <td>8.0%</td>\n",
       "      <td>0.3910</td>\n",
       "      <td>54</td>\n",
       "      <td>120.000000</td>\n",
       "      <td>46.920000</td>\n",
       "      <td>6.666667</td>\n",
       "      <td>0.000000</td>\n",
       "    </tr>\n",
       "    <tr>\n",
       "      <th>3</th>\n",
       "      <td>2packs</td>\n",
       "      <td>0</td>\n",
       "      <td>2</td>\n",
       "      <td>6.95%</td>\n",
       "      <td>0.3910</td>\n",
       "      <td>36</td>\n",
       "      <td>104.210526</td>\n",
       "      <td>40.746316</td>\n",
       "      <td>5.789474</td>\n",
       "      <td>0.000000</td>\n",
       "    </tr>\n",
       "    <tr>\n",
       "      <th>4</th>\n",
       "      <td>2mantecas</td>\n",
       "      <td>2</td>\n",
       "      <td>0</td>\n",
       "      <td>3.79%</td>\n",
       "      <td>0.4540</td>\n",
       "      <td>20</td>\n",
       "      <td>56.842105</td>\n",
       "      <td>25.806316</td>\n",
       "      <td>0.000000</td>\n",
       "      <td>5.684211</td>\n",
       "    </tr>\n",
       "    <tr>\n",
       "      <th>5</th>\n",
       "      <td>1mateca_2packs</td>\n",
       "      <td>1</td>\n",
       "      <td>2</td>\n",
       "      <td>3.58%</td>\n",
       "      <td>0.4120</td>\n",
       "      <td>46</td>\n",
       "      <td>53.684211</td>\n",
       "      <td>22.117895</td>\n",
       "      <td>2.334096</td>\n",
       "      <td>1.167048</td>\n",
       "    </tr>\n",
       "    <tr>\n",
       "      <th>6</th>\n",
       "      <td>1mateca_1packs</td>\n",
       "      <td>1</td>\n",
       "      <td>1</td>\n",
       "      <td>2.74%</td>\n",
       "      <td>0.4225</td>\n",
       "      <td>28</td>\n",
       "      <td>41.052632</td>\n",
       "      <td>17.344737</td>\n",
       "      <td>1.466165</td>\n",
       "      <td>1.466165</td>\n",
       "    </tr>\n",
       "    <tr>\n",
       "      <th>7</th>\n",
       "      <td>3matecas</td>\n",
       "      <td>3</td>\n",
       "      <td>0</td>\n",
       "      <td>2.53%</td>\n",
       "      <td>0.4540</td>\n",
       "      <td>30</td>\n",
       "      <td>37.894737</td>\n",
       "      <td>17.204211</td>\n",
       "      <td>0.000000</td>\n",
       "      <td>3.789474</td>\n",
       "    </tr>\n",
       "    <tr>\n",
       "      <th>8</th>\n",
       "      <td>5matecas</td>\n",
       "      <td>5</td>\n",
       "      <td>0</td>\n",
       "      <td>2.11%</td>\n",
       "      <td>0.4540</td>\n",
       "      <td>50</td>\n",
       "      <td>31.578947</td>\n",
       "      <td>14.336842</td>\n",
       "      <td>0.000000</td>\n",
       "      <td>3.157895</td>\n",
       "    </tr>\n",
       "    <tr>\n",
       "      <th>9</th>\n",
       "      <td>4packs</td>\n",
       "      <td>0</td>\n",
       "      <td>4</td>\n",
       "      <td>1.89%</td>\n",
       "      <td>0.3910</td>\n",
       "      <td>72</td>\n",
       "      <td>28.421053</td>\n",
       "      <td>11.112632</td>\n",
       "      <td>1.578947</td>\n",
       "      <td>0.000000</td>\n",
       "    </tr>\n",
       "  </tbody>\n",
       "</table>\n",
       "</div>"
      ],
      "text/plain": [
       "  ventas mas comunes  mantecas  packs % recurrencia  margenes  precio  \\\n",
       "0              1pack         0      1        59.37%    0.3910      18   \n",
       "1           1manteca         1      0         9.05%    0.4540      10   \n",
       "2             3packs         0      3          8.0%    0.3910      54   \n",
       "3             2packs         0      2         6.95%    0.3910      36   \n",
       "4          2mantecas         2      0         3.79%    0.4540      20   \n",
       "5     1mateca_2packs         1      2         3.58%    0.4120      46   \n",
       "6     1mateca_1packs         1      1         2.74%    0.4225      28   \n",
       "7           3matecas         3      0         2.53%    0.4540      30   \n",
       "8           5matecas         5      0         2.11%    0.4540      50   \n",
       "9             4packs         0      4         1.89%    0.3910      72   \n",
       "\n",
       "       ventas  beneficios  packs_total  mantecas_total  \n",
       "0  890.526316  348.195789    49.473684        0.000000  \n",
       "1  135.789474   61.648421     0.000000       13.578947  \n",
       "2  120.000000   46.920000     6.666667        0.000000  \n",
       "3  104.210526   40.746316     5.789474        0.000000  \n",
       "4   56.842105   25.806316     0.000000        5.684211  \n",
       "5   53.684211   22.117895     2.334096        1.167048  \n",
       "6   41.052632   17.344737     1.466165        1.466165  \n",
       "7   37.894737   17.204211     0.000000        3.789474  \n",
       "8   31.578947   14.336842     0.000000        3.157895  \n",
       "9   28.421053   11.112632     1.578947        0.000000  "
      ]
     },
     "execution_count": 145,
     "metadata": {},
     "output_type": "execute_result"
    }
   ],
   "source": [
    "margenes"
   ]
  },
  {
   "cell_type": "markdown",
   "metadata": {},
   "source": [
    "## 18€ packs y 10€ mantecas"
   ]
  },
  {
   "cell_type": "code",
   "execution_count": 146,
   "metadata": {},
   "outputs": [
    {
     "name": "stdout",
     "output_type": "stream",
     "text": [
      "Estadisticas mensuales\n"
     ]
    },
    {
     "data": {
      "text/plain": [
       "mantecas_total      28.843740\n",
       "packs_total         67.309033\n",
       "ventas            1500.000000\n",
       "beneficios         605.433158\n",
       "dtype: float64"
      ]
     },
     "execution_count": 146,
     "metadata": {},
     "output_type": "execute_result"
    }
   ],
   "source": [
    "print('Estadisticas mensuales')\n",
    "margenes[['mantecas_total','packs_total','ventas','beneficios']].sum()"
   ]
  },
  {
   "cell_type": "code",
   "execution_count": 147,
   "metadata": {},
   "outputs": [
    {
     "name": "stdout",
     "output_type": "stream",
     "text": [
      "Estadisticas diarias\n"
     ]
    },
    {
     "data": {
      "text/plain": [
       "mantecas_total     0.961458\n",
       "packs_total        2.243634\n",
       "ventas            50.000000\n",
       "beneficios        20.181105\n",
       "dtype: float64"
      ]
     },
     "execution_count": 147,
     "metadata": {},
     "output_type": "execute_result"
    }
   ],
   "source": [
    "print('Estadisticas diarias')\n",
    "margenes[['mantecas_total','packs_total','ventas','beneficios']].sum()/30"
   ]
  }
 ],
 "metadata": {
  "kernelspec": {
   "display_name": "Python 3",
   "language": "python",
   "name": "python3"
  },
  "language_info": {
   "codemirror_mode": {
    "name": "ipython",
    "version": 3
   },
   "file_extension": ".py",
   "mimetype": "text/x-python",
   "name": "python",
   "nbconvert_exporter": "python",
   "pygments_lexer": "ipython3",
   "version": "3.8.3"
  }
 },
 "nbformat": 4,
 "nbformat_minor": 2
}

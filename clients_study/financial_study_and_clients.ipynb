{
 "cells": [
  {
   "cell_type": "code",
   "execution_count": 78,
   "metadata": {},
   "outputs": [],
   "source": [
    "import os\n",
    "import pandas as pd\n",
    "import numpy as np\n",
    "import pandas_gbq\n",
    "import unidecode\n",
    "import requests"
   ]
  },
  {
   "cell_type": "code",
   "execution_count": 79,
   "metadata": {},
   "outputs": [],
   "source": [
    "from google.cloud import bigquery"
   ]
  },
  {
   "cell_type": "code",
   "execution_count": 80,
   "metadata": {},
   "outputs": [
    {
     "data": {
      "text/plain": [
       "True"
      ]
     },
     "execution_count": 80,
     "metadata": {},
     "output_type": "execute_result"
    }
   ],
   "source": [
    "from dotenv import load_dotenv\n",
    "load_dotenv('/Users/daniel/OAN/credentials/contoan/.env')"
   ]
  },
  {
   "cell_type": "code",
   "execution_count": 81,
   "metadata": {},
   "outputs": [
    {
     "name": "stdout",
     "output_type": "stream",
     "text": [
      "4.9.0\n"
     ]
    }
   ],
   "source": [
    "from plotly import __version__\n",
    "from plotly.offline import download_plotlyjs, init_notebook_mode, plot, iplot\n",
    "\n",
    "print(__version__) # requires version >= 1.9.0"
   ]
  },
  {
   "cell_type": "code",
   "execution_count": 82,
   "metadata": {},
   "outputs": [],
   "source": [
    "import cufflinks as cf"
   ]
  },
  {
   "cell_type": "code",
   "execution_count": 83,
   "metadata": {},
   "outputs": [
    {
     "data": {
      "text/html": [
       "        <script type=\"text/javascript\">\n",
       "        window.PlotlyConfig = {MathJaxConfig: 'local'};\n",
       "        if (window.MathJax) {MathJax.Hub.Config({SVG: {font: \"STIX-Web\"}});}\n",
       "        if (typeof require !== 'undefined') {\n",
       "        require.undef(\"plotly\");\n",
       "        requirejs.config({\n",
       "            paths: {\n",
       "                'plotly': ['https://cdn.plot.ly/plotly-latest.min']\n",
       "            }\n",
       "        });\n",
       "        require(['plotly'], function(Plotly) {\n",
       "            window._Plotly = Plotly;\n",
       "        });\n",
       "        }\n",
       "        </script>\n",
       "        "
      ]
     },
     "metadata": {},
     "output_type": "display_data"
    }
   ],
   "source": [
    "init_notebook_mode(connected=True)"
   ]
  },
  {
   "cell_type": "code",
   "execution_count": 84,
   "metadata": {},
   "outputs": [
    {
     "data": {
      "text/html": [
       "        <script type=\"text/javascript\">\n",
       "        window.PlotlyConfig = {MathJaxConfig: 'local'};\n",
       "        if (window.MathJax) {MathJax.Hub.Config({SVG: {font: \"STIX-Web\"}});}\n",
       "        if (typeof require !== 'undefined') {\n",
       "        require.undef(\"plotly\");\n",
       "        requirejs.config({\n",
       "            paths: {\n",
       "                'plotly': ['https://cdn.plot.ly/plotly-latest.min']\n",
       "            }\n",
       "        });\n",
       "        require(['plotly'], function(Plotly) {\n",
       "            window._Plotly = Plotly;\n",
       "        });\n",
       "        }\n",
       "        </script>\n",
       "        "
      ]
     },
     "metadata": {},
     "output_type": "display_data"
    }
   ],
   "source": [
    "cf.go_offline()"
   ]
  },
  {
   "cell_type": "code",
   "execution_count": 85,
   "metadata": {},
   "outputs": [],
   "source": [
    "import seaborn as sns\n",
    "import matplotlib.pyplot as plt"
   ]
  },
  {
   "cell_type": "markdown",
   "metadata": {},
   "source": [
    "### ANALYCEMOS CUENTAS"
   ]
  },
  {
   "cell_type": "code",
   "execution_count": 86,
   "metadata": {},
   "outputs": [
    {
     "name": "stderr",
     "output_type": "stream",
     "text": [
      "Downloading: 100%|██████████| 2403/2403 [00:01<00:00, 1611.59rows/s]\n"
     ]
    }
   ],
   "source": [
    "sql = \"\"\"\n",
    "   SELECT acc.id as `ID`,\n",
    "       acc.creation_date as `CREACION`,\n",
    "       acc.execution_date as `EJECUCION`,\n",
    "       acc.concept as `CONCEPTO`,\n",
    "       pr.name as `PROJECTO`,\n",
    "       int.name as `INTERVENCION`,\n",
    "       ph.name as `FASE`,\n",
    "       CASE \n",
    "        WHEN acc.type = 'expense'  THEN 'Gasto'\n",
    "        WHEN acc.type = 'income'  THEN 'Ingreso'\n",
    "        WHEN acc.type = 'movement'  THEN 'Movimiento'\n",
    "        ELSE ''\n",
    "      END AS `TIPO`,\n",
    "       acc.amount as `CANTIDAD`,\n",
    "       acc.vat as `IVA`,\n",
    "       acc.vat_amount as `IVA_CTA`,\n",
    "       tg.name as `CAJA_BANCO`,\n",
    "       ac.name as `CATEGORIA`,\n",
    "       acc.description as `DESCRIPCION`,\n",
    "       cr.name as `CREADOR`,\n",
    "       rs.name as `RESPONSABLE`,      \n",
    "       acc.code as `COTADOR`,\n",
    "       acc.origin as `ORIGEN`,\n",
    "       acc.place as `LUGAR`,\n",
    "       acc.receipt as `FACTURA`\n",
    "       \n",
    "      \n",
    "FROM `oan-nikarit.contoan.accounting` acc\n",
    "LEFT OUTER JOIN `oan-nikarit.contoan.accounts` ac\n",
    "ON acc.account_id = ac.id\n",
    "LEFT OUTER JOIN `oan-nikarit.contoan.accounts` tg\n",
    "ON acc.target_id = tg.id\n",
    "LEFT OUTER JOIN `oan-nikarit.contoan.projects` pr\n",
    "ON acc.project = pr.id\n",
    "LEFT OUTER JOIN `oan-nikarit.contoan.projects` int\n",
    "ON acc.intervention = int.id\n",
    "LEFT OUTER JOIN `oan-nikarit.contoan.projects` ph\n",
    "ON acc.phase = ph.id\n",
    "LEFT OUTER JOIN `oan-nikarit.contoan.users` cr\n",
    "ON acc.creator_user = cr.id\n",
    "LEFT OUTER JOIN `oan-nikarit.contoan.users` rs\n",
    "ON acc.user_in_charge = rs.id\n",
    "\"\"\".lower()\n",
    "\n",
    "# Run a Standard SQL query using the environment's default project\n",
    "df = pd.read_gbq(sql, dialect='standard')"
   ]
  },
  {
   "cell_type": "code",
   "execution_count": 87,
   "metadata": {},
   "outputs": [
    {
     "data": {
      "text/plain": [
       "Nikarit                   1904\n",
       "Administration_general     209\n",
       "Pompes d'eau                82\n",
       "ADSAN                       71\n",
       "Fassol                      57\n",
       "Emancipacion                49\n",
       "Forum Nikki                 17\n",
       "CPNPF                        6\n",
       "Aguapp                       4\n",
       "Évènements                   4\n",
       "Name: projecto, dtype: int64"
      ]
     },
     "execution_count": 87,
     "metadata": {},
     "output_type": "execute_result"
    }
   ],
   "source": [
    "df['projecto'].value_counts()"
   ]
  },
  {
   "cell_type": "code",
   "execution_count": 88,
   "metadata": {},
   "outputs": [
    {
     "data": {
      "image/png": "[encoded data removed]",
      "text/plain": [
       "<Figure size 432x288 with 1 Axes>"
      ]
     },
     "metadata": {
      "needs_background": "light"
     },
     "output_type": "display_data"
    }
   ],
   "source": [
    "sns.countplot(x='projecto',data=df)\n",
    "plt.xticks(rotation=90)\n",
    "plt.show()"
   ]
  },
  {
   "cell_type": "code",
   "execution_count": 89,
   "metadata": {},
   "outputs": [
    {
     "data": {
      "text/plain": [
       "Banco Stripe                  1064\n",
       "Banco Paypal                   401\n",
       "Banco Caja de Ingenieros       319\n",
       "Caja Mireille                  182\n",
       "Banco Santander                140\n",
       "Caja Kader                      80\n",
       "Caja Hafiz                      55\n",
       "Caja Daniel                     37\n",
       "Caja Abour Rhaman               29\n",
       "Caja Rasak                      24\n",
       "Caja Imorou                     14\n",
       "Caja Chemita                    11\n",
       "Caja Habirou                    11\n",
       "Bank of Africa                   7\n",
       "Caja                             7\n",
       "Deudas a c.p. (Acreedores)       7\n",
       "Caja Younous                     5\n",
       "Deudas a c.p. (Deudores)         4\n",
       "Caja Jaume                       2\n",
       "Caja Sofia                       2\n",
       "Caja Sianson                     1\n",
       "Caja Angel                       1\n",
       "Name: caja_banco, dtype: int64"
      ]
     },
     "execution_count": 89,
     "metadata": {},
     "output_type": "execute_result"
    }
   ],
   "source": [
    "df['caja_banco'].value_counts()"
   ]
  },
  {
   "cell_type": "code",
   "execution_count": 90,
   "metadata": {},
   "outputs": [
    {
     "data": {
      "text/plain": [
       "script_dani    903\n",
       "contoan        710\n",
       "shopify        654\n",
       "g_forms        136\n",
       "Name: origen, dtype: int64"
      ]
     },
     "execution_count": 90,
     "metadata": {},
     "output_type": "execute_result"
    }
   ],
   "source": [
    "df['origen'].value_counts()"
   ]
  },
  {
   "cell_type": "code",
   "execution_count": 91,
   "metadata": {},
   "outputs": [
    {
     "data": {
      "text/plain": [
       "origen       lugar\n",
       "contoan      benin    247\n",
       "             spain    463\n",
       "g_forms      benin    135\n",
       "             spain      1\n",
       "script_dani  spain    903\n",
       "shopify      spain    654\n",
       "Name: id, dtype: int64"
      ]
     },
     "execution_count": 91,
     "metadata": {},
     "output_type": "execute_result"
    }
   ],
   "source": [
    "df.groupby(['origen','lugar']).count()['id']"
   ]
  },
  {
   "cell_type": "code",
   "execution_count": 92,
   "metadata": {},
   "outputs": [
    {
     "name": "stdout",
     "output_type": "stream",
     "text": [
      "Index(['id', 'creacion', 'ejecucion', 'concepto', 'projecto', 'intervencion',\n",
      "       'fase', 'tipo', 'cantidad', 'iva', 'iva_cta', 'caja_banco', 'categoria',\n",
      "       'descripcion', 'creador', 'responsable', 'cotador', 'origen', 'lugar',\n",
      "       'factura'],\n",
      "      dtype='object')\n"
     ]
    }
   ],
   "source": [
    "print(df.columns)"
   ]
  },
  {
   "cell_type": "code",
   "execution_count": 93,
   "metadata": {
    "scrolled": false
   },
   "outputs": [
    {
     "data": {
      "image/png": "[encoded data removed]",
      "text/plain": [
       "<Figure size 432x288 with 1 Axes>"
      ]
     },
     "metadata": {
      "needs_background": "light"
     },
     "output_type": "display_data"
    }
   ],
   "source": [
    "sns.countplot(x='creador',data=df)\n",
    "plt.xticks(rotation=90)\n",
    "plt.show()"
   ]
  },
  {
   "cell_type": "markdown",
   "metadata": {},
   "source": [
    "## NIKARIT"
   ]
  },
  {
   "cell_type": "code",
   "execution_count": 94,
   "metadata": {},
   "outputs": [
    {
     "data": {
      "text/plain": [
       "Index(['id', 'creacion', 'ejecucion', 'concepto', 'projecto', 'intervencion',\n",
       "       'fase', 'tipo', 'cantidad', 'iva', 'iva_cta', 'caja_banco', 'categoria',\n",
       "       'descripcion', 'creador', 'responsable', 'cotador', 'origen', 'lugar',\n",
       "       'factura'],\n",
       "      dtype='object')"
      ]
     },
     "execution_count": 94,
     "metadata": {},
     "output_type": "execute_result"
    }
   ],
   "source": [
    "df.columns"
   ]
  },
  {
   "cell_type": "code",
   "execution_count": 95,
   "metadata": {},
   "outputs": [],
   "source": [
    "df_nikarit = df[df['projecto']=='Nikarit']"
   ]
  },
  {
   "cell_type": "code",
   "execution_count": 96,
   "metadata": {},
   "outputs": [],
   "source": [
    "df_nik_cat=df_nikarit.groupby(['categoria','tipo','intervencion'])['cantidad'].sum().reset_index()"
   ]
  },
  {
   "cell_type": "code",
   "execution_count": 97,
   "metadata": {},
   "outputs": [
    {
     "data": {
      "text/html": [
       "<div>\n",
       "<style scoped>\n",
       "    .dataframe tbody tr th:only-of-type {\n",
       "        vertical-align: middle;\n",
       "    }\n",
       "\n",
       "    .dataframe tbody tr th {\n",
       "        vertical-align: top;\n",
       "    }\n",
       "\n",
       "    .dataframe thead th {\n",
       "        text-align: right;\n",
       "    }\n",
       "</style>\n",
       "<table border=\"1\" class=\"dataframe\">\n",
       "  <thead>\n",
       "    <tr style=\"text-align: right;\">\n",
       "      <th></th>\n",
       "      <th>categoria</th>\n",
       "      <th>tipo</th>\n",
       "      <th>intervencion</th>\n",
       "      <th>cantidad</th>\n",
       "    </tr>\n",
       "  </thead>\n",
       "  <tbody>\n",
       "    <tr>\n",
       "      <th>0</th>\n",
       "      <td>Alquileres (oficinas y otros)</td>\n",
       "      <td>gasto</td>\n",
       "      <td>Espagne General 2020</td>\n",
       "      <td>199.65</td>\n",
       "    </tr>\n",
       "    <tr>\n",
       "      <th>1</th>\n",
       "      <td>Apertura</td>\n",
       "      <td>movimiento</td>\n",
       "      <td>Espagne General 2020</td>\n",
       "      <td>12102.71</td>\n",
       "    </tr>\n",
       "  </tbody>\n",
       "</table>\n",
       "</div>"
      ],
      "text/plain": [
       "                       categoria        tipo          intervencion  cantidad\n",
       "0  Alquileres (oficinas y otros)       gasto  Espagne General 2020    199.65\n",
       "1                       Apertura  movimiento  Espagne General 2020  12102.71"
      ]
     },
     "execution_count": 97,
     "metadata": {},
     "output_type": "execute_result"
    }
   ],
   "source": [
    "df_nik_cat.head(2)"
   ]
  },
  {
   "cell_type": "code",
   "execution_count": 98,
   "metadata": {},
   "outputs": [],
   "source": [
    "expense = df_nik_cat[df_nik_cat['tipo']=='gasto']"
   ]
  },
  {
   "cell_type": "code",
   "execution_count": 99,
   "metadata": {},
   "outputs": [
    {
     "data": {
      "image/png": "[encoded data removed]",
      "text/plain": [
       "<Figure size 1440x720 with 1 Axes>"
      ]
     },
     "metadata": {
      "needs_background": "light"
     },
     "output_type": "display_data"
    }
   ],
   "source": [
    "fig = plt.figure(figsize=(20,10))\n",
    "ax = sns.barplot(x=\"categoria\", y=\"cantidad\",hue='intervencion', data=expense)\n",
    "plt.xticks(rotation=90)\n",
    "plt.show()"
   ]
  },
  {
   "cell_type": "markdown",
   "metadata": {},
   "source": [
    "## INGRESOS Y GASTOS"
   ]
  },
  {
   "cell_type": "code",
   "execution_count": 100,
   "metadata": {},
   "outputs": [
    {
     "data": {
      "text/html": [
       "<div>\n",
       "<style scoped>\n",
       "    .dataframe tbody tr th:only-of-type {\n",
       "        vertical-align: middle;\n",
       "    }\n",
       "\n",
       "    .dataframe tbody tr th {\n",
       "        vertical-align: top;\n",
       "    }\n",
       "\n",
       "    .dataframe thead th {\n",
       "        text-align: right;\n",
       "    }\n",
       "</style>\n",
       "<table border=\"1\" class=\"dataframe\">\n",
       "  <thead>\n",
       "    <tr style=\"text-align: right;\">\n",
       "      <th></th>\n",
       "      <th>tipo</th>\n",
       "      <th>cantidad</th>\n",
       "    </tr>\n",
       "  </thead>\n",
       "  <tbody>\n",
       "    <tr>\n",
       "      <th>0</th>\n",
       "      <td>gasto</td>\n",
       "      <td>47505.89</td>\n",
       "    </tr>\n",
       "    <tr>\n",
       "      <th>1</th>\n",
       "      <td>ingreso</td>\n",
       "      <td>37496.03</td>\n",
       "    </tr>\n",
       "    <tr>\n",
       "      <th>2</th>\n",
       "      <td>movimiento</td>\n",
       "      <td>51027.12</td>\n",
       "    </tr>\n",
       "  </tbody>\n",
       "</table>\n",
       "</div>"
      ],
      "text/plain": [
       "         tipo  cantidad\n",
       "0       gasto  47505.89\n",
       "1     ingreso  37496.03\n",
       "2  movimiento  51027.12"
      ]
     },
     "execution_count": 100,
     "metadata": {},
     "output_type": "execute_result"
    }
   ],
   "source": [
    "df_3 = df_nikarit.groupby('tipo')['cantidad'].sum().reset_index()\n",
    "df_3.head()"
   ]
  },
  {
   "cell_type": "code",
   "execution_count": 101,
   "metadata": {},
   "outputs": [
    {
     "data": {
      "application/vnd.plotly.v1+json": {
       "config": {
        "linkText": "Export to plot.ly",
        "plotlyServerURL": "https://plot.ly",
        "showLink": true
       },
       "data": [
        {
         "marker": {
          "color": "rgba(255, 153, 51, 0.6)",
          "line": {
           "color": "rgba(255, 153, 51, 1.0)",
           "width": 1
          }
         },
         "name": "cantidad",
         "orientation": "v",
         "text": "",
         "type": "bar",
         "x": [
          "gasto",
          "ingreso",
          "movimiento"
         ],
         "y": [
          47505.89,
          37496.03,
          51027.119999999755
         ]
        }
       ],
       "layout": {
        "legend": {
         "bgcolor": "#F5F6F9",
         "font": {
          "color": "#4D5663"
         }
        },
        "paper_bgcolor": "#F5F6F9",
        "plot_bgcolor": "#F5F6F9",
        "template": {
         "data": {
          "bar": [
           {
            "error_x": {
             "color": "#2a3f5f"
            },
            "error_y": {
             "color": "#2a3f5f"
            },
            "marker": {
             "line": {
              "color": "#E5ECF6",
              "width": 0.5
             }
            },
            "type": "bar"
           }
          ],
          "barpolar": [
           {
            "marker": {
             "line": {
              "color": "#E5ECF6",
              "width": 0.5
             }
            },
            "type": "barpolar"
           }
          ],
          "carpet": [
           {
            "aaxis": {
             "endlinecolor": "#2a3f5f",
             "gridcolor": "white",
             "linecolor": "white",
             "minorgridcolor": "white",
             "startlinecolor": "#2a3f5f"
            },
            "baxis": {
             "endlinecolor": "#2a3f5f",
             "gridcolor": "white",
             "linecolor": "white",
             "minorgridcolor": "white",
             "startlinecolor": "#2a3f5f"
            },
            "type": "carpet"
           }
          ],
          "choropleth": [
           {
            "colorbar": {
             "outlinewidth": 0,
             "ticks": ""
            },
            "type": "choropleth"
           }
          ],
          "contour": [
           {
            "colorbar": {
             "outlinewidth": 0,
             "ticks": ""
            },
            "colorscale": [
             [
              0,
              "#0d0887"
             ],
             [
              0.1111111111111111,
              "#46039f"
             ],
             [
              0.2222222222222222,
              "#7201a8"
             ],
             [
              0.3333333333333333,
              "#9c179e"
             ],
             [
              0.4444444444444444,
              "#bd3786"
             ],
             [
              0.5555555555555556,
              "#d8576b"
             ],
             [
              0.6666666666666666,
              "#ed7953"
             ],
             [
              0.7777777777777778,
              "#fb9f3a"
             ],
             [
              0.8888888888888888,
              "#fdca26"
             ],
             [
              1,
              "#f0f921"
             ]
            ],
            "type": "contour"
           }
          ],
          "contourcarpet": [
           {
            "colorbar": {
             "outlinewidth": 0,
             "ticks": ""
            },
            "type": "contourcarpet"
           }
          ],
          "heatmap": [
           {
            "colorbar": {
             "outlinewidth": 0,
             "ticks": ""
            },
            "colorscale": [
             [
              0,
              "#0d0887"
             ],
             [
              0.1111111111111111,
              "#46039f"
             ],
             [
              0.2222222222222222,
              "#7201a8"
             ],
             [
              0.3333333333333333,
              "#9c179e"
             ],
             [
              0.4444444444444444,
              "#bd3786"
             ],
             [
              0.5555555555555556,
              "#d8576b"
             ],
             [
              0.6666666666666666,
              "#ed7953"
             ],
             [
              0.7777777777777778,
              "#fb9f3a"
             ],
             [
              0.8888888888888888,
              "#fdca26"
             ],
             [
              1,
              "#f0f921"
             ]
            ],
            "type": "heatmap"
           }
          ],
          "heatmapgl": [
           {
            "colorbar": {
             "outlinewidth": 0,
             "ticks": ""
            },
            "colorscale": [
             [
              0,
              "#0d0887"
             ],
             [
              0.1111111111111111,
              "#46039f"
             ],
             [
              0.2222222222222222,
              "#7201a8"
             ],
             [
              0.3333333333333333,
              "#9c179e"
             ],
             [
              0.4444444444444444,
              "#bd3786"
             ],
             [
              0.5555555555555556,
              "#d8576b"
             ],
             [
              0.6666666666666666,
              "#ed7953"
             ],
             [
              0.7777777777777778,
              "#fb9f3a"
             ],
             [
              0.8888888888888888,
              "#fdca26"
             ],
             [
              1,
              "#f0f921"
             ]
            ],
            "type": "heatmapgl"
           }
          ],
          "histogram": [
           {
            "marker": {
             "colorbar": {
              "outlinewidth": 0,
              "ticks": ""
             }
            },
            "type": "histogram"
           }
          ],
          "histogram2d": [
           {
            "colorbar": {
             "outlinewidth": 0,
             "ticks": ""
            },
            "colorscale": [
             [
              0,
              "#0d0887"
             ],
             [
              0.1111111111111111,
              "#46039f"
             ],
             [
              0.2222222222222222,
              "#7201a8"
             ],
             [
              0.3333333333333333,
              "#9c179e"
             ],
             [
              0.4444444444444444,
              "#bd3786"
             ],
             [
              0.5555555555555556,
              "#d8576b"
             ],
             [
              0.6666666666666666,
              "#ed7953"
             ],
             [
              0.7777777777777778,
              "#fb9f3a"
             ],
             [
              0.8888888888888888,
              "#fdca26"
             ],
             [
              1,
              "#f0f921"
             ]
            ],
            "type": "histogram2d"
           }
          ],
          "histogram2dcontour": [
           {
            "colorbar": {
             "outlinewidth": 0,
             "ticks": ""
            },
            "colorscale": [
             [
              0,
              "#0d0887"
             ],
             [
              0.1111111111111111,
              "#46039f"
             ],
             [
              0.2222222222222222,
              "#7201a8"
             ],
             [
              0.3333333333333333,
              "#9c179e"
             ],
             [
              0.4444444444444444,
              "#bd3786"
             ],
             [
              0.5555555555555556,
              "#d8576b"
             ],
             [
              0.6666666666666666,
              "#ed7953"
             ],
             [
              0.7777777777777778,
              "#fb9f3a"
             ],
             [
              0.8888888888888888,
              "#fdca26"
             ],
             [
              1,
              "#f0f921"
             ]
            ],
            "type": "histogram2dcontour"
           }
          ],
          "mesh3d": [
           {
            "colorbar": {
             "outlinewidth": 0,
             "ticks": ""
            },
            "type": "mesh3d"
           }
          ],
          "parcoords": [
           {
            "line": {
             "colorbar": {
              "outlinewidth": 0,
              "ticks": ""
             }
            },
            "type": "parcoords"
           }
          ],
          "pie": [
           {
            "automargin": true,
            "type": "pie"
           }
          ],
          "scatter": [
           {
            "marker": {
             "colorbar": {
              "outlinewidth": 0,
              "ticks": ""
             }
            },
            "type": "scatter"
           }
          ],
          "scatter3d": [
           {
            "line": {
             "colorbar": {
              "outlinewidth": 0,
              "ticks": ""
             }
            },
            "marker": {
             "colorbar": {
              "outlinewidth": 0,
              "ticks": ""
             }
            },
            "type": "scatter3d"
           }
          ],
          "scattercarpet": [
           {
            "marker": {
             "colorbar": {
              "outlinewidth": 0,
              "ticks": ""
             }
            },
            "type": "scattercarpet"
           }
          ],
          "scattergeo": [
           {
            "marker": {
             "colorbar": {
              "outlinewidth": 0,
              "ticks": ""
             }
            },
            "type": "scattergeo"
           }
          ],
          "scattergl": [
           {
            "marker": {
             "colorbar": {
              "outlinewidth": 0,
              "ticks": ""
             }
            },
            "type": "scattergl"
           }
          ],
          "scattermapbox": [
           {
            "marker": {
             "colorbar": {
              "outlinewidth": 0,
              "ticks": ""
             }
            },
            "type": "scattermapbox"
           }
          ],
          "scatterpolar": [
           {
            "marker": {
             "colorbar": {
              "outlinewidth": 0,
              "ticks": ""
             }
            },
            "type": "scatterpolar"
           }
          ],
          "scatterpolargl": [
           {
            "marker": {
             "colorbar": {
              "outlinewidth": 0,
              "ticks": ""
             }
            },
            "type": "scatterpolargl"
           }
          ],
          "scatterternary": [
           {
            "marker": {
             "colorbar": {
              "outlinewidth": 0,
              "ticks": ""
             }
            },
            "type": "scatterternary"
           }
          ],
          "surface": [
           {
            "colorbar": {
             "outlinewidth": 0,
             "ticks": ""
            },
            "colorscale": [
             [
              0,
              "#0d0887"
             ],
             [
              0.1111111111111111,
              "#46039f"
             ],
             [
              0.2222222222222222,
              "#7201a8"
             ],
             [
              0.3333333333333333,
              "#9c179e"
             ],
             [
              0.4444444444444444,
              "#bd3786"
             ],
             [
              0.5555555555555556,
              "#d8576b"
             ],
             [
              0.6666666666666666,
              "#ed7953"
             ],
             [
              0.7777777777777778,
              "#fb9f3a"
             ],
             [
              0.8888888888888888,
              "#fdca26"
             ],
             [
              1,
              "#f0f921"
             ]
            ],
            "type": "surface"
           }
          ],
          "table": [
           {
            "cells": {
             "fill": {
              "color": "#EBF0F8"
             },
             "line": {
              "color": "white"
             }
            },
            "header": {
             "fill": {
              "color": "#C8D4E3"
             },
             "line": {
              "color": "white"
             }
            },
            "type": "table"
           }
          ]
         },
         "layout": {
          "annotationdefaults": {
           "arrowcolor": "#2a3f5f",
           "arrowhead": 0,
           "arrowwidth": 1
          },
          "coloraxis": {
           "colorbar": {
            "outlinewidth": 0,
            "ticks": ""
           }
          },
          "colorscale": {
           "diverging": [
            [
             0,
             "#8e0152"
            ],
            [
             0.1,
             "#c51b7d"
            ],
            [
             0.2,
             "#de77ae"
            ],
            [
             0.3,
             "#f1b6da"
            ],
            [
             0.4,
             "#fde0ef"
            ],
            [
             0.5,
             "#f7f7f7"
            ],
            [
             0.6,
             "#e6f5d0"
            ],
            [
             0.7,
             "#b8e186"
            ],
            [
             0.8,
             "#7fbc41"
            ],
            [
             0.9,
             "#4d9221"
            ],
            [
             1,
             "#276419"
            ]
           ],
           "sequential": [
            [
             0,
             "#0d0887"
            ],
            [
             0.1111111111111111,
             "#46039f"
            ],
            [
             0.2222222222222222,
             "#7201a8"
            ],
            [
             0.3333333333333333,
             "#9c179e"
            ],
            [
             0.4444444444444444,
             "#bd3786"
            ],
            [
             0.5555555555555556,
             "#d8576b"
            ],
            [
             0.6666666666666666,
             "#ed7953"
            ],
            [
             0.7777777777777778,
             "#fb9f3a"
            ],
            [
             0.8888888888888888,
             "#fdca26"
            ],
            [
             1,
             "#f0f921"
            ]
           ],
           "sequentialminus": [
            [
             0,
             "#0d0887"
            ],
            [
             0.1111111111111111,
             "#46039f"
            ],
            [
             0.2222222222222222,
             "#7201a8"
            ],
            [
             0.3333333333333333,
             "#9c179e"
            ],
            [
             0.4444444444444444,
             "#bd3786"
            ],
            [
             0.5555555555555556,
             "#d8576b"
            ],
            [
             0.6666666666666666,
             "#ed7953"
            ],
            [
             0.7777777777777778,
             "#fb9f3a"
            ],
            [
             0.8888888888888888,
             "#fdca26"
            ],
            [
             1,
             "#f0f921"
            ]
           ]
          },
          "colorway": [
           "#636efa",
           "#EF553B",
           "#00cc96",
           "#ab63fa",
           "#FFA15A",
           "#19d3f3",
           "#FF6692",
           "#B6E880",
           "#FF97FF",
           "#FECB52"
          ],
          "font": {
           "color": "#2a3f5f"
          },
          "geo": {
           "bgcolor": "white",
           "lakecolor": "white",
           "landcolor": "#E5ECF6",
           "showlakes": true,
           "showland": true,
           "subunitcolor": "white"
          },
          "hoverlabel": {
           "align": "left"
          },
          "hovermode": "closest",
          "mapbox": {
           "style": "light"
          },
          "paper_bgcolor": "white",
          "plot_bgcolor": "#E5ECF6",
          "polar": {
           "angularaxis": {
            "gridcolor": "white",
            "linecolor": "white",
            "ticks": ""
           },
           "bgcolor": "#E5ECF6",
           "radialaxis": {
            "gridcolor": "white",
            "linecolor": "white",
            "ticks": ""
           }
          },
          "scene": {
           "xaxis": {
            "backgroundcolor": "#E5ECF6",
            "gridcolor": "white",
            "gridwidth": 2,
            "linecolor": "white",
            "showbackground": true,
            "ticks": "",
            "zerolinecolor": "white"
           },
           "yaxis": {
            "backgroundcolor": "#E5ECF6",
            "gridcolor": "white",
            "gridwidth": 2,
            "linecolor": "white",
            "showbackground": true,
            "ticks": "",
            "zerolinecolor": "white"
           },
           "zaxis": {
            "backgroundcolor": "#E5ECF6",
            "gridcolor": "white",
            "gridwidth": 2,
            "linecolor": "white",
            "showbackground": true,
            "ticks": "",
            "zerolinecolor": "white"
           }
          },
          "shapedefaults": {
           "line": {
            "color": "#2a3f5f"
           }
          },
          "ternary": {
           "aaxis": {
            "gridcolor": "white",
            "linecolor": "white",
            "ticks": ""
           },
           "baxis": {
            "gridcolor": "white",
            "linecolor": "white",
            "ticks": ""
           },
           "bgcolor": "#E5ECF6",
           "caxis": {
            "gridcolor": "white",
            "linecolor": "white",
            "ticks": ""
           }
          },
          "title": {
           "x": 0.05
          },
          "xaxis": {
           "automargin": true,
           "gridcolor": "white",
           "linecolor": "white",
           "ticks": "",
           "title": {
            "standoff": 15
           },
           "zerolinecolor": "white",
           "zerolinewidth": 2
          },
          "yaxis": {
           "automargin": true,
           "gridcolor": "white",
           "linecolor": "white",
           "ticks": "",
           "title": {
            "standoff": 15
           },
           "zerolinecolor": "white",
           "zerolinewidth": 2
          }
         }
        },
        "title": {
         "font": {
          "color": "#4D5663"
         }
        },
        "xaxis": {
         "gridcolor": "#E1E5ED",
         "showgrid": true,
         "tickfont": {
          "color": "#4D5663"
         },
         "title": {
          "font": {
           "color": "#4D5663"
          },
          "text": ""
         },
         "zerolinecolor": "#E1E5ED"
        },
        "yaxis": {
         "gridcolor": "#E1E5ED",
         "showgrid": true,
         "tickfont": {
          "color": "#4D5663"
         },
         "title": {
          "font": {
           "color": "#4D5663"
          },
          "text": ""
         },
         "zerolinecolor": "#E1E5ED"
        }
       }
      },
      "text/html": [
       "<div>\n",
       "        \n",
       "        \n",
       "            <div id=\"35fbd5c9-e93d-45d5-82be-78919fea0387\" class=\"plotly-graph-div\" style=\"height:525px; width:100%;\"></div>\n",
       "            <script type=\"text/javascript\">\n",
       "                require([\"plotly\"], function(Plotly) {\n",
       "                    window.PLOTLYENV=window.PLOTLYENV || {};\n",
       "                    window.PLOTLYENV.BASE_URL='https://plot.ly';\n",
       "                    \n",
       "                if (document.getElementById(\"35fbd5c9-e93d-45d5-82be-78919fea0387\")) {\n",
       "                    Plotly.newPlot(\n",
       "                        '35fbd5c9-e93d-45d5-82be-78919fea0387',\n",
       "                        [{\"marker\": {\"color\": \"rgba(255, 153, 51, 0.6)\", \"line\": {\"color\": \"rgba(255, 153, 51, 1.0)\", \"width\": 1}}, \"name\": \"cantidad\", \"orientation\": \"v\", \"text\": \"\", \"type\": \"bar\", \"x\": [\"gasto\", \"ingreso\", \"movimiento\"], \"y\": [47505.89, 37496.03, 51027.119999999755]}],\n",
       "                        {\"legend\": {\"bgcolor\": \"#F5F6F9\", \"font\": {\"color\": \"#4D5663\"}}, \"paper_bgcolor\": \"#F5F6F9\", \"plot_bgcolor\": \"#F5F6F9\", \"template\": {\"data\": {\"bar\": [{\"error_x\": {\"color\": \"#2a3f5f\"}, \"error_y\": {\"color\": \"#2a3f5f\"}, \"marker\": {\"line\": {\"color\": \"#E5ECF6\", \"width\": 0.5}}, \"type\": \"bar\"}], \"barpolar\": [{\"marker\": {\"line\": {\"color\": \"#E5ECF6\", \"width\": 0.5}}, \"type\": \"barpolar\"}], \"carpet\": [{\"aaxis\": {\"endlinecolor\": \"#2a3f5f\", \"gridcolor\": \"white\", \"linecolor\": \"white\", \"minorgridcolor\": \"white\", \"startlinecolor\": \"#2a3f5f\"}, \"baxis\": {\"endlinecolor\": \"#2a3f5f\", \"gridcolor\": \"white\", \"linecolor\": \"white\", \"minorgridcolor\": \"white\", \"startlinecolor\": \"#2a3f5f\"}, \"type\": \"carpet\"}], \"choropleth\": [{\"colorbar\": {\"outlinewidth\": 0, \"ticks\": \"\"}, \"type\": \"choropleth\"}], \"contour\": [{\"colorbar\": {\"outlinewidth\": 0, \"ticks\": \"\"}, \"colorscale\": [[0.0, \"#0d0887\"], [0.1111111111111111, \"#46039f\"], [0.2222222222222222, \"#7201a8\"], [0.3333333333333333, \"#9c179e\"], [0.4444444444444444, \"#bd3786\"], [0.5555555555555556, \"#d8576b\"], [0.6666666666666666, \"#ed7953\"], [0.7777777777777778, \"#fb9f3a\"], [0.8888888888888888, \"#fdca26\"], [1.0, \"#f0f921\"]], \"type\": \"contour\"}], \"contourcarpet\": [{\"colorbar\": {\"outlinewidth\": 0, \"ticks\": \"\"}, \"type\": \"contourcarpet\"}], \"heatmap\": [{\"colorbar\": {\"outlinewidth\": 0, \"ticks\": \"\"}, \"colorscale\": [[0.0, \"#0d0887\"], [0.1111111111111111, \"#46039f\"], [0.2222222222222222, \"#7201a8\"], [0.3333333333333333, \"#9c179e\"], [0.4444444444444444, \"#bd3786\"], [0.5555555555555556, \"#d8576b\"], [0.6666666666666666, \"#ed7953\"], [0.7777777777777778, \"#fb9f3a\"], [0.8888888888888888, \"#fdca26\"], [1.0, \"#f0f921\"]], \"type\": \"heatmap\"}], \"heatmapgl\": [{\"colorbar\": {\"outlinewidth\": 0, \"ticks\": \"\"}, \"colorscale\": [[0.0, \"#0d0887\"], [0.1111111111111111, \"#46039f\"], [0.2222222222222222, \"#7201a8\"], [0.3333333333333333, \"#9c179e\"], [0.4444444444444444, \"#bd3786\"], [0.5555555555555556, \"#d8576b\"], [0.6666666666666666, \"#ed7953\"], [0.7777777777777778, \"#fb9f3a\"], [0.8888888888888888, \"#fdca26\"], [1.0, \"#f0f921\"]], \"type\": \"heatmapgl\"}], \"histogram\": [{\"marker\": {\"colorbar\": {\"outlinewidth\": 0, \"ticks\": \"\"}}, \"type\": \"histogram\"}], \"histogram2d\": [{\"colorbar\": {\"outlinewidth\": 0, \"ticks\": \"\"}, \"colorscale\": [[0.0, \"#0d0887\"], [0.1111111111111111, \"#46039f\"], [0.2222222222222222, \"#7201a8\"], [0.3333333333333333, \"#9c179e\"], [0.4444444444444444, \"#bd3786\"], [0.5555555555555556, \"#d8576b\"], [0.6666666666666666, \"#ed7953\"], [0.7777777777777778, \"#fb9f3a\"], [0.8888888888888888, \"#fdca26\"], [1.0, \"#f0f921\"]], \"type\": \"histogram2d\"}], \"histogram2dcontour\": [{\"colorbar\": {\"outlinewidth\": 0, \"ticks\": \"\"}, \"colorscale\": [[0.0, \"#0d0887\"], [0.1111111111111111, \"#46039f\"], [0.2222222222222222, \"#7201a8\"], [0.3333333333333333, \"#9c179e\"], [0.4444444444444444, \"#bd3786\"], [0.5555555555555556, \"#d8576b\"], [0.6666666666666666, \"#ed7953\"], [0.7777777777777778, \"#fb9f3a\"], [0.8888888888888888, \"#fdca26\"], [1.0, \"#f0f921\"]], \"type\": \"histogram2dcontour\"}], \"mesh3d\": [{\"colorbar\": {\"outlinewidth\": 0, \"ticks\": \"\"}, \"type\": \"mesh3d\"}], \"parcoords\": [{\"line\": {\"colorbar\": {\"outlinewidth\": 0, \"ticks\": \"\"}}, \"type\": \"parcoords\"}], \"pie\": [{\"automargin\": true, \"type\": \"pie\"}], \"scatter\": [{\"marker\": {\"colorbar\": {\"outlinewidth\": 0, \"ticks\": \"\"}}, \"type\": \"scatter\"}], \"scatter3d\": [{\"line\": {\"colorbar\": {\"outlinewidth\": 0, \"ticks\": \"\"}}, \"marker\": {\"colorbar\": {\"outlinewidth\": 0, \"ticks\": \"\"}}, \"type\": \"scatter3d\"}], \"scattercarpet\": [{\"marker\": {\"colorbar\": {\"outlinewidth\": 0, \"ticks\": \"\"}}, \"type\": \"scattercarpet\"}], \"scattergeo\": [{\"marker\": {\"colorbar\": {\"outlinewidth\": 0, \"ticks\": \"\"}}, \"type\": \"scattergeo\"}], \"scattergl\": [{\"marker\": {\"colorbar\": {\"outlinewidth\": 0, \"ticks\": \"\"}}, \"type\": \"scattergl\"}], \"scattermapbox\": [{\"marker\": {\"colorbar\": {\"outlinewidth\": 0, \"ticks\": \"\"}}, \"type\": \"scattermapbox\"}], \"scatterpolar\": [{\"marker\": {\"colorbar\": {\"outlinewidth\": 0, \"ticks\": \"\"}}, \"type\": \"scatterpolar\"}], \"scatterpolargl\": [{\"marker\": {\"colorbar\": {\"outlinewidth\": 0, \"ticks\": \"\"}}, \"type\": \"scatterpolargl\"}], \"scatterternary\": [{\"marker\": {\"colorbar\": {\"outlinewidth\": 0, \"ticks\": \"\"}}, \"type\": \"scatterternary\"}], \"surface\": [{\"colorbar\": {\"outlinewidth\": 0, \"ticks\": \"\"}, \"colorscale\": [[0.0, \"#0d0887\"], [0.1111111111111111, \"#46039f\"], [0.2222222222222222, \"#7201a8\"], [0.3333333333333333, \"#9c179e\"], [0.4444444444444444, \"#bd3786\"], [0.5555555555555556, \"#d8576b\"], [0.6666666666666666, \"#ed7953\"], [0.7777777777777778, \"#fb9f3a\"], [0.8888888888888888, \"#fdca26\"], [1.0, \"#f0f921\"]], \"type\": \"surface\"}], \"table\": [{\"cells\": {\"fill\": {\"color\": \"#EBF0F8\"}, \"line\": {\"color\": \"white\"}}, \"header\": {\"fill\": {\"color\": \"#C8D4E3\"}, \"line\": {\"color\": \"white\"}}, \"type\": \"table\"}]}, \"layout\": {\"annotationdefaults\": {\"arrowcolor\": \"#2a3f5f\", \"arrowhead\": 0, \"arrowwidth\": 1}, \"coloraxis\": {\"colorbar\": {\"outlinewidth\": 0, \"ticks\": \"\"}}, \"colorscale\": {\"diverging\": [[0, \"#8e0152\"], [0.1, \"#c51b7d\"], [0.2, \"#de77ae\"], [0.3, \"#f1b6da\"], [0.4, \"#fde0ef\"], [0.5, \"#f7f7f7\"], [0.6, \"#e6f5d0\"], [0.7, \"#b8e186\"], [0.8, \"#7fbc41\"], [0.9, \"#4d9221\"], [1, \"#276419\"]], \"sequential\": [[0.0, \"#0d0887\"], [0.1111111111111111, \"#46039f\"], [0.2222222222222222, \"#7201a8\"], [0.3333333333333333, \"#9c179e\"], [0.4444444444444444, \"#bd3786\"], [0.5555555555555556, \"#d8576b\"], [0.6666666666666666, \"#ed7953\"], [0.7777777777777778, \"#fb9f3a\"], [0.8888888888888888, \"#fdca26\"], [1.0, \"#f0f921\"]], \"sequentialminus\": [[0.0, \"#0d0887\"], [0.1111111111111111, \"#46039f\"], [0.2222222222222222, \"#7201a8\"], [0.3333333333333333, \"#9c179e\"], [0.4444444444444444, \"#bd3786\"], [0.5555555555555556, \"#d8576b\"], [0.6666666666666666, \"#ed7953\"], [0.7777777777777778, \"#fb9f3a\"], [0.8888888888888888, \"#fdca26\"], [1.0, \"#f0f921\"]]}, \"colorway\": [\"#636efa\", \"#EF553B\", \"#00cc96\", \"#ab63fa\", \"#FFA15A\", \"#19d3f3\", \"#FF6692\", \"#B6E880\", \"#FF97FF\", \"#FECB52\"], \"font\": {\"color\": \"#2a3f5f\"}, \"geo\": {\"bgcolor\": \"white\", \"lakecolor\": \"white\", \"landcolor\": \"#E5ECF6\", \"showlakes\": true, \"showland\": true, \"subunitcolor\": \"white\"}, \"hoverlabel\": {\"align\": \"left\"}, \"hovermode\": \"closest\", \"mapbox\": {\"style\": \"light\"}, \"paper_bgcolor\": \"white\", \"plot_bgcolor\": \"#E5ECF6\", \"polar\": {\"angularaxis\": {\"gridcolor\": \"white\", \"linecolor\": \"white\", \"ticks\": \"\"}, \"bgcolor\": \"#E5ECF6\", \"radialaxis\": {\"gridcolor\": \"white\", \"linecolor\": \"white\", \"ticks\": \"\"}}, \"scene\": {\"xaxis\": {\"backgroundcolor\": \"#E5ECF6\", \"gridcolor\": \"white\", \"gridwidth\": 2, \"linecolor\": \"white\", \"showbackground\": true, \"ticks\": \"\", \"zerolinecolor\": \"white\"}, \"yaxis\": {\"backgroundcolor\": \"#E5ECF6\", \"gridcolor\": \"white\", \"gridwidth\": 2, \"linecolor\": \"white\", \"showbackground\": true, \"ticks\": \"\", \"zerolinecolor\": \"white\"}, \"zaxis\": {\"backgroundcolor\": \"#E5ECF6\", \"gridcolor\": \"white\", \"gridwidth\": 2, \"linecolor\": \"white\", \"showbackground\": true, \"ticks\": \"\", \"zerolinecolor\": \"white\"}}, \"shapedefaults\": {\"line\": {\"color\": \"#2a3f5f\"}}, \"ternary\": {\"aaxis\": {\"gridcolor\": \"white\", \"linecolor\": \"white\", \"ticks\": \"\"}, \"baxis\": {\"gridcolor\": \"white\", \"linecolor\": \"white\", \"ticks\": \"\"}, \"bgcolor\": \"#E5ECF6\", \"caxis\": {\"gridcolor\": \"white\", \"linecolor\": \"white\", \"ticks\": \"\"}}, \"title\": {\"x\": 0.05}, \"xaxis\": {\"automargin\": true, \"gridcolor\": \"white\", \"linecolor\": \"white\", \"ticks\": \"\", \"title\": {\"standoff\": 15}, \"zerolinecolor\": \"white\", \"zerolinewidth\": 2}, \"yaxis\": {\"automargin\": true, \"gridcolor\": \"white\", \"linecolor\": \"white\", \"ticks\": \"\", \"title\": {\"standoff\": 15}, \"zerolinecolor\": \"white\", \"zerolinewidth\": 2}}}, \"title\": {\"font\": {\"color\": \"#4D5663\"}}, \"xaxis\": {\"gridcolor\": \"#E1E5ED\", \"showgrid\": true, \"tickfont\": {\"color\": \"#4D5663\"}, \"title\": {\"font\": {\"color\": \"#4D5663\"}, \"text\": \"\"}, \"zerolinecolor\": \"#E1E5ED\"}, \"yaxis\": {\"gridcolor\": \"#E1E5ED\", \"showgrid\": true, \"tickfont\": {\"color\": \"#4D5663\"}, \"title\": {\"font\": {\"color\": \"#4D5663\"}, \"text\": \"\"}, \"zerolinecolor\": \"#E1E5ED\"}},\n",
       "                        {\"showLink\": true, \"linkText\": \"Export to plot.ly\", \"plotlyServerURL\": \"https://plot.ly\", \"responsive\": true}\n",
       "                    ).then(function(){\n",
       "                            \n",
       "var gd = document.getElementById('35fbd5c9-e93d-45d5-82be-78919fea0387');\n",
       "var x = new MutationObserver(function (mutations, observer) {{\n",
       "        var display = window.getComputedStyle(gd).display;\n",
       "        if (!display || display === 'none') {{\n",
       "            console.log([gd, 'removed!']);\n",
       "            Plotly.purge(gd);\n",
       "            observer.disconnect();\n",
       "        }}\n",
       "}});\n",
       "\n",
       "// Listen for the removal of the full notebook cells\n",
       "var notebookContainer = gd.closest('#notebook-container');\n",
       "if (notebookContainer) {{\n",
       "    x.observe(notebookContainer, {childList: true});\n",
       "}}\n",
       "\n",
       "// Listen for the clearing of the current output cell\n",
       "var outputEl = gd.closest('.output');\n",
       "if (outputEl) {{\n",
       "    x.observe(outputEl, {childList: true});\n",
       "}}\n",
       "\n",
       "                        })\n",
       "                };\n",
       "                });\n",
       "            </script>\n",
       "        </div>"
      ]
     },
     "metadata": {},
     "output_type": "display_data"
    }
   ],
   "source": [
    "df_3.iplot(kind='bar',x='tipo',y='cantidad')"
   ]
  },
  {
   "cell_type": "markdown",
   "metadata": {},
   "source": [
    "## GASTOS"
   ]
  },
  {
   "cell_type": "code",
   "execution_count": 102,
   "metadata": {},
   "outputs": [
    {
     "data": {
      "text/plain": [
       "array(['Espagne General 2020', 'Intervention 2020',\n",
       "       'Espagne General 2021'], dtype=object)"
      ]
     },
     "execution_count": 102,
     "metadata": {},
     "output_type": "execute_result"
    }
   ],
   "source": [
    "expense.intervencion.unique()"
   ]
  },
  {
   "cell_type": "markdown",
   "metadata": {},
   "source": [
    "### NIKKI"
   ]
  },
  {
   "cell_type": "code",
   "execution_count": 103,
   "metadata": {},
   "outputs": [
    {
     "data": {
      "text/plain": [
       "8091.379999999999"
      ]
     },
     "execution_count": 103,
     "metadata": {},
     "output_type": "execute_result"
    }
   ],
   "source": [
    "expense[expense['intervencion']=='Intervention 2020'\n",
    "       ]['cantidad'].sum()"
   ]
  },
  {
   "cell_type": "code",
   "execution_count": 104,
   "metadata": {},
   "outputs": [
    {
     "data": {
      "text/html": [
       "<div>\n",
       "<style scoped>\n",
       "    .dataframe tbody tr th:only-of-type {\n",
       "        vertical-align: middle;\n",
       "    }\n",
       "\n",
       "    .dataframe tbody tr th {\n",
       "        vertical-align: top;\n",
       "    }\n",
       "\n",
       "    .dataframe thead th {\n",
       "        text-align: right;\n",
       "    }\n",
       "</style>\n",
       "<table border=\"1\" class=\"dataframe\">\n",
       "  <thead>\n",
       "    <tr style=\"text-align: right;\">\n",
       "      <th></th>\n",
       "      <th>categoria</th>\n",
       "      <th>cantidad</th>\n",
       "    </tr>\n",
       "  </thead>\n",
       "  <tbody>\n",
       "    <tr>\n",
       "      <th>38</th>\n",
       "      <td>Sueldos y Salarios</td>\n",
       "      <td>2401.75</td>\n",
       "    </tr>\n",
       "    <tr>\n",
       "      <th>8</th>\n",
       "      <td>Compra de materias primas</td>\n",
       "      <td>1863.32</td>\n",
       "    </tr>\n",
       "    <tr>\n",
       "      <th>9</th>\n",
       "      <td>Compras de otros aprovisionamientos</td>\n",
       "      <td>965.13</td>\n",
       "    </tr>\n",
       "    <tr>\n",
       "      <th>21</th>\n",
       "      <td>Gasolina</td>\n",
       "      <td>889.08</td>\n",
       "    </tr>\n",
       "    <tr>\n",
       "      <th>30</th>\n",
       "      <td>Otros Servicios Profesionales</td>\n",
       "      <td>547.54</td>\n",
       "    </tr>\n",
       "    <tr>\n",
       "      <th>43</th>\n",
       "      <td>Transporte de materias primas</td>\n",
       "      <td>230.19</td>\n",
       "    </tr>\n",
       "    <tr>\n",
       "      <th>17</th>\n",
       "      <td>Envasado</td>\n",
       "      <td>228.66</td>\n",
       "    </tr>\n",
       "    <tr>\n",
       "      <th>33</th>\n",
       "      <td>Reparaciones y conservación (Ej. coche)</td>\n",
       "      <td>223.32</td>\n",
       "    </tr>\n",
       "    <tr>\n",
       "      <th>41</th>\n",
       "      <td>Transporte (Benin Ej. Bus)</td>\n",
       "      <td>218.09</td>\n",
       "    </tr>\n",
       "    <tr>\n",
       "      <th>23</th>\n",
       "      <td>Gastos Telefónicos</td>\n",
       "      <td>216.27</td>\n",
       "    </tr>\n",
       "    <tr>\n",
       "      <th>19</th>\n",
       "      <td>Envases de productos</td>\n",
       "      <td>125.76</td>\n",
       "    </tr>\n",
       "    <tr>\n",
       "      <th>26</th>\n",
       "      <td>Gastos y Comisiones Financieras</td>\n",
       "      <td>115.06</td>\n",
       "    </tr>\n",
       "    <tr>\n",
       "      <th>28</th>\n",
       "      <td>Material de Oficina</td>\n",
       "      <td>29.10</td>\n",
       "    </tr>\n",
       "    <tr>\n",
       "      <th>35</th>\n",
       "      <td>Seguridad Social a Cargo de la Entidad</td>\n",
       "      <td>22.87</td>\n",
       "    </tr>\n",
       "    <tr>\n",
       "      <th>40</th>\n",
       "      <td>Transformacion materia prima</td>\n",
       "      <td>15.24</td>\n",
       "    </tr>\n",
       "  </tbody>\n",
       "</table>\n",
       "</div>"
      ],
      "text/plain": [
       "                                  categoria  cantidad\n",
       "38                       Sueldos y Salarios   2401.75\n",
       "8                 Compra de materias primas   1863.32\n",
       "9       Compras de otros aprovisionamientos    965.13\n",
       "21                                 Gasolina    889.08\n",
       "30            Otros Servicios Profesionales    547.54\n",
       "43            Transporte de materias primas    230.19\n",
       "17                                 Envasado    228.66\n",
       "33  Reparaciones y conservación (Ej. coche)    223.32\n",
       "41               Transporte (Benin Ej. Bus)    218.09\n",
       "23                       Gastos Telefónicos    216.27\n",
       "19                     Envases de productos    125.76\n",
       "26          Gastos y Comisiones Financieras    115.06\n",
       "28                      Material de Oficina     29.10\n",
       "35   Seguridad Social a Cargo de la Entidad     22.87\n",
       "40             Transformacion materia prima     15.24"
      ]
     },
     "execution_count": 104,
     "metadata": {},
     "output_type": "execute_result"
    }
   ],
   "source": [
    "expense[expense['intervencion']=='Intervention 2020'\n",
    "       ].sort_values('cantidad',ascending=False)[['categoria','cantidad']]"
   ]
  },
  {
   "cell_type": "code",
   "execution_count": 105,
   "metadata": {
    "scrolled": false
   },
   "outputs": [
    {
     "data": {
      "application/vnd.plotly.v1+json": {
       "config": {
        "linkText": "Export to plot.ly",
        "plotlyServerURL": "https://plot.ly",
        "showLink": true
       },
       "data": [
        {
         "marker": {
          "color": "rgba(255, 153, 51, 0.6)",
          "line": {
           "color": "rgba(255, 153, 51, 1.0)",
           "width": 1
          }
         },
         "name": "cantidad",
         "orientation": "v",
         "text": "",
         "type": "bar",
         "x": [
          "Sueldos y Salarios",
          "Compra de materias primas",
          "Compras de otros aprovisionamientos",
          "Gasolina",
          "Otros Servicios Profesionales",
          "Transporte de materias primas",
          "Envasado",
          "Reparaciones y conservación (Ej. coche)",
          "Transporte (Benin Ej. Bus)",
          "Gastos Telefónicos",
          "Envases de productos",
          "Gastos y Comisiones Financieras",
          "Material de Oficina",
          "Seguridad Social a Cargo de la Entidad",
          "Transformacion materia prima"
         ],
         "y": [
          2401.75,
          1863.3199999999997,
          965.1300000000001,
          889.0800000000002,
          547.54,
          230.19,
          228.66,
          223.32,
          218.09,
          216.27,
          125.75999999999999,
          115.06,
          29.1,
          22.87,
          15.24
         ]
        }
       ],
       "layout": {
        "legend": {
         "bgcolor": "#F5F6F9",
         "font": {
          "color": "#4D5663"
         }
        },
        "paper_bgcolor": "#F5F6F9",
        "plot_bgcolor": "#F5F6F9",
        "template": {
         "data": {
          "bar": [
           {
            "error_x": {
             "color": "#2a3f5f"
            },
            "error_y": {
             "color": "#2a3f5f"
            },
            "marker": {
             "line": {
              "color": "#E5ECF6",
              "width": 0.5
             }
            },
            "type": "bar"
           }
          ],
          "barpolar": [
           {
            "marker": {
             "line": {
              "color": "#E5ECF6",
              "width": 0.5
             }
            },
            "type": "barpolar"
           }
          ],
          "carpet": [
           {
            "aaxis": {
             "endlinecolor": "#2a3f5f",
             "gridcolor": "white",
             "linecolor": "white",
             "minorgridcolor": "white",
             "startlinecolor": "#2a3f5f"
            },
            "baxis": {
             "endlinecolor": "#2a3f5f",
             "gridcolor": "white",
             "linecolor": "white",
             "minorgridcolor": "white",
             "startlinecolor": "#2a3f5f"
            },
            "type": "carpet"
           }
          ],
          "choropleth": [
           {
            "colorbar": {
             "outlinewidth": 0,
             "ticks": ""
            },
            "type": "choropleth"
           }
          ],
          "contour": [
           {
            "colorbar": {
             "outlinewidth": 0,
             "ticks": ""
            },
            "colorscale": [
             [
              0,
              "#0d0887"
             ],
             [
              0.1111111111111111,
              "#46039f"
             ],
             [
              0.2222222222222222,
              "#7201a8"
             ],
             [
              0.3333333333333333,
              "#9c179e"
             ],
             [
              0.4444444444444444,
              "#bd3786"
             ],
             [
              0.5555555555555556,
              "#d8576b"
             ],
             [
              0.6666666666666666,
              "#ed7953"
             ],
             [
              0.7777777777777778,
              "#fb9f3a"
             ],
             [
              0.8888888888888888,
              "#fdca26"
             ],
             [
              1,
              "#f0f921"
             ]
            ],
            "type": "contour"
           }
          ],
          "contourcarpet": [
           {
            "colorbar": {
             "outlinewidth": 0,
             "ticks": ""
            },
            "type": "contourcarpet"
           }
          ],
          "heatmap": [
           {
            "colorbar": {
             "outlinewidth": 0,
             "ticks": ""
            },
            "colorscale": [
             [
              0,
              "#0d0887"
             ],
             [
              0.1111111111111111,
              "#46039f"
             ],
             [
              0.2222222222222222,
              "#7201a8"
             ],
             [
              0.3333333333333333,
              "#9c179e"
             ],
             [
              0.4444444444444444,
              "#bd3786"
             ],
             [
              0.5555555555555556,
              "#d8576b"
             ],
             [
              0.6666666666666666,
              "#ed7953"
             ],
             [
              0.7777777777777778,
              "#fb9f3a"
             ],
             [
              0.8888888888888888,
              "#fdca26"
             ],
             [
              1,
              "#f0f921"
             ]
            ],
            "type": "heatmap"
           }
          ],
          "heatmapgl": [
           {
            "colorbar": {
             "outlinewidth": 0,
             "ticks": ""
            },
            "colorscale": [
             [
              0,
              "#0d0887"
             ],
             [
              0.1111111111111111,
              "#46039f"
             ],
             [
              0.2222222222222222,
              "#7201a8"
             ],
             [
              0.3333333333333333,
              "#9c179e"
             ],
             [
              0.4444444444444444,
              "#bd3786"
             ],
             [
              0.5555555555555556,
              "#d8576b"
             ],
             [
              0.6666666666666666,
              "#ed7953"
             ],
             [
              0.7777777777777778,
              "#fb9f3a"
             ],
             [
              0.8888888888888888,
              "#fdca26"
             ],
             [
              1,
              "#f0f921"
             ]
            ],
            "type": "heatmapgl"
           }
          ],
          "histogram": [
           {
            "marker": {
             "colorbar": {
              "outlinewidth": 0,
              "ticks": ""
             }
            },
            "type": "histogram"
           }
          ],
          "histogram2d": [
           {
            "colorbar": {
             "outlinewidth": 0,
             "ticks": ""
            },
            "colorscale": [
             [
              0,
              "#0d0887"
             ],
             [
              0.1111111111111111,
              "#46039f"
             ],
             [
              0.2222222222222222,
              "#7201a8"
             ],
             [
              0.3333333333333333,
              "#9c179e"
             ],
             [
              0.4444444444444444,
              "#bd3786"
             ],
             [
              0.5555555555555556,
              "#d8576b"
             ],
             [
              0.6666666666666666,
              "#ed7953"
             ],
             [
              0.7777777777777778,
              "#fb9f3a"
             ],
             [
              0.8888888888888888,
              "#fdca26"
             ],
             [
              1,
              "#f0f921"
             ]
            ],
            "type": "histogram2d"
           }
          ],
          "histogram2dcontour": [
           {
            "colorbar": {
             "outlinewidth": 0,
             "ticks": ""
            },
            "colorscale": [
             [
              0,
              "#0d0887"
             ],
             [
              0.1111111111111111,
              "#46039f"
             ],
             [
              0.2222222222222222,
              "#7201a8"
             ],
             [
              0.3333333333333333,
              "#9c179e"
             ],
             [
              0.4444444444444444,
              "#bd3786"
             ],
             [
              0.5555555555555556,
              "#d8576b"
             ],
             [
              0.6666666666666666,
              "#ed7953"
             ],
             [
              0.7777777777777778,
              "#fb9f3a"
             ],
             [
              0.8888888888888888,
              "#fdca26"
             ],
             [
              1,
              "#f0f921"
             ]
            ],
            "type": "histogram2dcontour"
           }
          ],
          "mesh3d": [
           {
            "colorbar": {
             "outlinewidth": 0,
             "ticks": ""
            },
            "type": "mesh3d"
           }
          ],
          "parcoords": [
           {
            "line": {
             "colorbar": {
              "outlinewidth": 0,
              "ticks": ""
             }
            },
            "type": "parcoords"
           }
          ],
          "pie": [
           {
            "automargin": true,
            "type": "pie"
           }
          ],
          "scatter": [
           {
            "marker": {
             "colorbar": {
              "outlinewidth": 0,
              "ticks": ""
             }
            },
            "type": "scatter"
           }
          ],
          "scatter3d": [
           {
            "line": {
             "colorbar": {
              "outlinewidth": 0,
              "ticks": ""
             }
            },
            "marker": {
             "colorbar": {
              "outlinewidth": 0,
              "ticks": ""
             }
            },
            "type": "scatter3d"
           }
          ],
          "scattercarpet": [
           {
            "marker": {
             "colorbar": {
              "outlinewidth": 0,
              "ticks": ""
             }
            },
            "type": "scattercarpet"
           }
          ],
          "scattergeo": [
           {
            "marker": {
             "colorbar": {
              "outlinewidth": 0,
              "ticks": ""
             }
            },
            "type": "scattergeo"
           }
          ],
          "scattergl": [
           {
            "marker": {
             "colorbar": {
              "outlinewidth": 0,
              "ticks": ""
             }
            },
            "type": "scattergl"
           }
          ],
          "scattermapbox": [
           {
            "marker": {
             "colorbar": {
              "outlinewidth": 0,
              "ticks": ""
             }
            },
            "type": "scattermapbox"
           }
          ],
          "scatterpolar": [
           {
            "marker": {
             "colorbar": {
              "outlinewidth": 0,
              "ticks": ""
             }
            },
            "type": "scatterpolar"
           }
          ],
          "scatterpolargl": [
           {
            "marker": {
             "colorbar": {
              "outlinewidth": 0,
              "ticks": ""
             }
            },
            "type": "scatterpolargl"
           }
          ],
          "scatterternary": [
           {
            "marker": {
             "colorbar": {
              "outlinewidth": 0,
              "ticks": ""
             }
            },
            "type": "scatterternary"
           }
          ],
          "surface": [
           {
            "colorbar": {
             "outlinewidth": 0,
             "ticks": ""
            },
            "colorscale": [
             [
              0,
              "#0d0887"
             ],
             [
              0.1111111111111111,
              "#46039f"
             ],
             [
              0.2222222222222222,
              "#7201a8"
             ],
             [
              0.3333333333333333,
              "#9c179e"
             ],
             [
              0.4444444444444444,
              "#bd3786"
             ],
             [
              0.5555555555555556,
              "#d8576b"
             ],
             [
              0.6666666666666666,
              "#ed7953"
             ],
             [
              0.7777777777777778,
              "#fb9f3a"
             ],
             [
              0.8888888888888888,
              "#fdca26"
             ],
             [
              1,
              "#f0f921"
             ]
            ],
            "type": "surface"
           }
          ],
          "table": [
           {
            "cells": {
             "fill": {
              "color": "#EBF0F8"
             },
             "line": {
              "color": "white"
             }
            },
            "header": {
             "fill": {
              "color": "#C8D4E3"
             },
             "line": {
              "color": "white"
             }
            },
            "type": "table"
           }
          ]
         },
         "layout": {
          "annotationdefaults": {
           "arrowcolor": "#2a3f5f",
           "arrowhead": 0,
           "arrowwidth": 1
          },
          "coloraxis": {
           "colorbar": {
            "outlinewidth": 0,
            "ticks": ""
           }
          },
          "colorscale": {
           "diverging": [
            [
             0,
             "#8e0152"
            ],
            [
             0.1,
             "#c51b7d"
            ],
            [
             0.2,
             "#de77ae"
            ],
            [
             0.3,
             "#f1b6da"
            ],
            [
             0.4,
             "#fde0ef"
            ],
            [
             0.5,
             "#f7f7f7"
            ],
            [
             0.6,
             "#e6f5d0"
            ],
            [
             0.7,
             "#b8e186"
            ],
            [
             0.8,
             "#7fbc41"
            ],
            [
             0.9,
             "#4d9221"
            ],
            [
             1,
             "#276419"
            ]
           ],
           "sequential": [
            [
             0,
             "#0d0887"
            ],
            [
             0.1111111111111111,
             "#46039f"
            ],
            [
             0.2222222222222222,
             "#7201a8"
            ],
            [
             0.3333333333333333,
             "#9c179e"
            ],
            [
             0.4444444444444444,
             "#bd3786"
            ],
            [
             0.5555555555555556,
             "#d8576b"
            ],
            [
             0.6666666666666666,
             "#ed7953"
            ],
            [
             0.7777777777777778,
             "#fb9f3a"
            ],
            [
             0.8888888888888888,
             "#fdca26"
            ],
            [
             1,
             "#f0f921"
            ]
           ],
           "sequentialminus": [
            [
             0,
             "#0d0887"
            ],
            [
             0.1111111111111111,
             "#46039f"
            ],
            [
             0.2222222222222222,
             "#7201a8"
            ],
            [
             0.3333333333333333,
             "#9c179e"
            ],
            [
             0.4444444444444444,
             "#bd3786"
            ],
            [
             0.5555555555555556,
             "#d8576b"
            ],
            [
             0.6666666666666666,
             "#ed7953"
            ],
            [
             0.7777777777777778,
             "#fb9f3a"
            ],
            [
             0.8888888888888888,
             "#fdca26"
            ],
            [
             1,
             "#f0f921"
            ]
           ]
          },
          "colorway": [
           "#636efa",
           "#EF553B",
           "#00cc96",
           "#ab63fa",
           "#FFA15A",
           "#19d3f3",
           "#FF6692",
           "#B6E880",
           "#FF97FF",
           "#FECB52"
          ],
          "font": {
           "color": "#2a3f5f"
          },
          "geo": {
           "bgcolor": "white",
           "lakecolor": "white",
           "landcolor": "#E5ECF6",
           "showlakes": true,
           "showland": true,
           "subunitcolor": "white"
          },
          "hoverlabel": {
           "align": "left"
          },
          "hovermode": "closest",
          "mapbox": {
           "style": "light"
          },
          "paper_bgcolor": "white",
          "plot_bgcolor": "#E5ECF6",
          "polar": {
           "angularaxis": {
            "gridcolor": "white",
            "linecolor": "white",
            "ticks": ""
           },
           "bgcolor": "#E5ECF6",
           "radialaxis": {
            "gridcolor": "white",
            "linecolor": "white",
            "ticks": ""
           }
          },
          "scene": {
           "xaxis": {
            "backgroundcolor": "#E5ECF6",
            "gridcolor": "white",
            "gridwidth": 2,
            "linecolor": "white",
            "showbackground": true,
            "ticks": "",
            "zerolinecolor": "white"
           },
           "yaxis": {
            "backgroundcolor": "#E5ECF6",
            "gridcolor": "white",
            "gridwidth": 2,
            "linecolor": "white",
            "showbackground": true,
            "ticks": "",
            "zerolinecolor": "white"
           },
           "zaxis": {
            "backgroundcolor": "#E5ECF6",
            "gridcolor": "white",
            "gridwidth": 2,
            "linecolor": "white",
            "showbackground": true,
            "ticks": "",
            "zerolinecolor": "white"
           }
          },
          "shapedefaults": {
           "line": {
            "color": "#2a3f5f"
           }
          },
          "ternary": {
           "aaxis": {
            "gridcolor": "white",
            "linecolor": "white",
            "ticks": ""
           },
           "baxis": {
            "gridcolor": "white",
            "linecolor": "white",
            "ticks": ""
           },
           "bgcolor": "#E5ECF6",
           "caxis": {
            "gridcolor": "white",
            "linecolor": "white",
            "ticks": ""
           }
          },
          "title": {
           "x": 0.05
          },
          "xaxis": {
           "automargin": true,
           "gridcolor": "white",
           "linecolor": "white",
           "ticks": "",
           "title": {
            "standoff": 15
           },
           "zerolinecolor": "white",
           "zerolinewidth": 2
          },
          "yaxis": {
           "automargin": true,
           "gridcolor": "white",
           "linecolor": "white",
           "ticks": "",
           "title": {
            "standoff": 15
           },
           "zerolinecolor": "white",
           "zerolinewidth": 2
          }
         }
        },
        "title": {
         "font": {
          "color": "#4D5663"
         },
         "text": "GASTOS NIKKI - 3853.75 €"
        },
        "xaxis": {
         "gridcolor": "#E1E5ED",
         "showgrid": true,
         "tickfont": {
          "color": "#4D5663"
         },
         "title": {
          "font": {
           "color": "#4D5663"
          },
          "text": ""
         },
         "zerolinecolor": "#E1E5ED"
        },
        "yaxis": {
         "gridcolor": "#E1E5ED",
         "showgrid": true,
         "tickfont": {
          "color": "#4D5663"
         },
         "title": {
          "font": {
           "color": "#4D5663"
          },
          "text": ""
         },
         "zerolinecolor": "#E1E5ED"
        }
       }
      },
      "text/html": [
       "<div>\n",
       "        \n",
       "        \n",
       "            <div id=\"8c98f750-c390-4c10-8b9e-0e468f9477d8\" class=\"plotly-graph-div\" style=\"height:525px; width:100%;\"></div>\n",
       "            <script type=\"text/javascript\">\n",
       "                require([\"plotly\"], function(Plotly) {\n",
       "                    window.PLOTLYENV=window.PLOTLYENV || {};\n",
       "                    window.PLOTLYENV.BASE_URL='https://plot.ly';\n",
       "                    \n",
       "                if (document.getElementById(\"8c98f750-c390-4c10-8b9e-0e468f9477d8\")) {\n",
       "                    Plotly.newPlot(\n",
       "                        '8c98f750-c390-4c10-8b9e-0e468f9477d8',\n",
       "                        [{\"marker\": {\"color\": \"rgba(255, 153, 51, 0.6)\", \"line\": {\"color\": \"rgba(255, 153, 51, 1.0)\", \"width\": 1}}, \"name\": \"cantidad\", \"orientation\": \"v\", \"text\": \"\", \"type\": \"bar\", \"x\": [\"Sueldos y Salarios\", \"Compra de materias primas\", \"Compras de otros aprovisionamientos\", \"Gasolina\", \"Otros Servicios Profesionales\", \"Transporte de materias primas\", \"Envasado\", \"Reparaciones y conservaci\\u00f3n (Ej. coche)\", \"Transporte (Benin Ej. Bus)\", \"Gastos Telef\\u00f3nicos\", \"Envases de productos\", \"Gastos y Comisiones Financieras\", \"Material de Oficina\", \"Seguridad Social a Cargo de la Entidad\", \"Transformacion materia prima\"], \"y\": [2401.75, 1863.3199999999997, 965.1300000000001, 889.0800000000002, 547.54, 230.19, 228.66, 223.32, 218.09, 216.27, 125.75999999999999, 115.06, 29.1, 22.87, 15.24]}],\n",
       "                        {\"legend\": {\"bgcolor\": \"#F5F6F9\", \"font\": {\"color\": \"#4D5663\"}}, \"paper_bgcolor\": \"#F5F6F9\", \"plot_bgcolor\": \"#F5F6F9\", \"template\": {\"data\": {\"bar\": [{\"error_x\": {\"color\": \"#2a3f5f\"}, \"error_y\": {\"color\": \"#2a3f5f\"}, \"marker\": {\"line\": {\"color\": \"#E5ECF6\", \"width\": 0.5}}, \"type\": \"bar\"}], \"barpolar\": [{\"marker\": {\"line\": {\"color\": \"#E5ECF6\", \"width\": 0.5}}, \"type\": \"barpolar\"}], \"carpet\": [{\"aaxis\": {\"endlinecolor\": \"#2a3f5f\", \"gridcolor\": \"white\", \"linecolor\": \"white\", \"minorgridcolor\": \"white\", \"startlinecolor\": \"#2a3f5f\"}, \"baxis\": {\"endlinecolor\": \"#2a3f5f\", \"gridcolor\": \"white\", \"linecolor\": \"white\", \"minorgridcolor\": \"white\", \"startlinecolor\": \"#2a3f5f\"}, \"type\": \"carpet\"}], \"choropleth\": [{\"colorbar\": {\"outlinewidth\": 0, \"ticks\": \"\"}, \"type\": \"choropleth\"}], \"contour\": [{\"colorbar\": {\"outlinewidth\": 0, \"ticks\": \"\"}, \"colorscale\": [[0.0, \"#0d0887\"], [0.1111111111111111, \"#46039f\"], [0.2222222222222222, \"#7201a8\"], [0.3333333333333333, \"#9c179e\"], [0.4444444444444444, \"#bd3786\"], [0.5555555555555556, \"#d8576b\"], [0.6666666666666666, \"#ed7953\"], [0.7777777777777778, \"#fb9f3a\"], [0.8888888888888888, \"#fdca26\"], [1.0, \"#f0f921\"]], \"type\": \"contour\"}], \"contourcarpet\": [{\"colorbar\": {\"outlinewidth\": 0, \"ticks\": \"\"}, \"type\": \"contourcarpet\"}], \"heatmap\": [{\"colorbar\": {\"outlinewidth\": 0, \"ticks\": \"\"}, \"colorscale\": [[0.0, \"#0d0887\"], [0.1111111111111111, \"#46039f\"], [0.2222222222222222, \"#7201a8\"], [0.3333333333333333, \"#9c179e\"], [0.4444444444444444, \"#bd3786\"], [0.5555555555555556, \"#d8576b\"], [0.6666666666666666, \"#ed7953\"], [0.7777777777777778, \"#fb9f3a\"], [0.8888888888888888, \"#fdca26\"], [1.0, \"#f0f921\"]], \"type\": \"heatmap\"}], \"heatmapgl\": [{\"colorbar\": {\"outlinewidth\": 0, \"ticks\": \"\"}, \"colorscale\": [[0.0, \"#0d0887\"], [0.1111111111111111, \"#46039f\"], [0.2222222222222222, \"#7201a8\"], [0.3333333333333333, \"#9c179e\"], [0.4444444444444444, \"#bd3786\"], [0.5555555555555556, \"#d8576b\"], [0.6666666666666666, \"#ed7953\"], [0.7777777777777778, \"#fb9f3a\"], [0.8888888888888888, \"#fdca26\"], [1.0, \"#f0f921\"]], \"type\": \"heatmapgl\"}], \"histogram\": [{\"marker\": {\"colorbar\": {\"outlinewidth\": 0, \"ticks\": \"\"}}, \"type\": \"histogram\"}], \"histogram2d\": [{\"colorbar\": {\"outlinewidth\": 0, \"ticks\": \"\"}, \"colorscale\": [[0.0, \"#0d0887\"], [0.1111111111111111, \"#46039f\"], [0.2222222222222222, \"#7201a8\"], [0.3333333333333333, \"#9c179e\"], [0.4444444444444444, \"#bd3786\"], [0.5555555555555556, \"#d8576b\"], [0.6666666666666666, \"#ed7953\"], [0.7777777777777778, \"#fb9f3a\"], [0.8888888888888888, \"#fdca26\"], [1.0, \"#f0f921\"]], \"type\": \"histogram2d\"}], \"histogram2dcontour\": [{\"colorbar\": {\"outlinewidth\": 0, \"ticks\": \"\"}, \"colorscale\": [[0.0, \"#0d0887\"], [0.1111111111111111, \"#46039f\"], [0.2222222222222222, \"#7201a8\"], [0.3333333333333333, \"#9c179e\"], [0.4444444444444444, \"#bd3786\"], [0.5555555555555556, \"#d8576b\"], [0.6666666666666666, \"#ed7953\"], [0.7777777777777778, \"#fb9f3a\"], [0.8888888888888888, \"#fdca26\"], [1.0, \"#f0f921\"]], \"type\": \"histogram2dcontour\"}], \"mesh3d\": [{\"colorbar\": {\"outlinewidth\": 0, \"ticks\": \"\"}, \"type\": \"mesh3d\"}], \"parcoords\": [{\"line\": {\"colorbar\": {\"outlinewidth\": 0, \"ticks\": \"\"}}, \"type\": \"parcoords\"}], \"pie\": [{\"automargin\": true, \"type\": \"pie\"}], \"scatter\": [{\"marker\": {\"colorbar\": {\"outlinewidth\": 0, \"ticks\": \"\"}}, \"type\": \"scatter\"}], \"scatter3d\": [{\"line\": {\"colorbar\": {\"outlinewidth\": 0, \"ticks\": \"\"}}, \"marker\": {\"colorbar\": {\"outlinewidth\": 0, \"ticks\": \"\"}}, \"type\": \"scatter3d\"}], \"scattercarpet\": [{\"marker\": {\"colorbar\": {\"outlinewidth\": 0, \"ticks\": \"\"}}, \"type\": \"scattercarpet\"}], \"scattergeo\": [{\"marker\": {\"colorbar\": {\"outlinewidth\": 0, \"ticks\": \"\"}}, \"type\": \"scattergeo\"}], \"scattergl\": [{\"marker\": {\"colorbar\": {\"outlinewidth\": 0, \"ticks\": \"\"}}, \"type\": \"scattergl\"}], \"scattermapbox\": [{\"marker\": {\"colorbar\": {\"outlinewidth\": 0, \"ticks\": \"\"}}, \"type\": \"scattermapbox\"}], \"scatterpolar\": [{\"marker\": {\"colorbar\": {\"outlinewidth\": 0, \"ticks\": \"\"}}, \"type\": \"scatterpolar\"}], \"scatterpolargl\": [{\"marker\": {\"colorbar\": {\"outlinewidth\": 0, \"ticks\": \"\"}}, \"type\": \"scatterpolargl\"}], \"scatterternary\": [{\"marker\": {\"colorbar\": {\"outlinewidth\": 0, \"ticks\": \"\"}}, \"type\": \"scatterternary\"}], \"surface\": [{\"colorbar\": {\"outlinewidth\": 0, \"ticks\": \"\"}, \"colorscale\": [[0.0, \"#0d0887\"], [0.1111111111111111, \"#46039f\"], [0.2222222222222222, \"#7201a8\"], [0.3333333333333333, \"#9c179e\"], [0.4444444444444444, \"#bd3786\"], [0.5555555555555556, \"#d8576b\"], [0.6666666666666666, \"#ed7953\"], [0.7777777777777778, \"#fb9f3a\"], [0.8888888888888888, \"#fdca26\"], [1.0, \"#f0f921\"]], \"type\": \"surface\"}], \"table\": [{\"cells\": {\"fill\": {\"color\": \"#EBF0F8\"}, \"line\": {\"color\": \"white\"}}, \"header\": {\"fill\": {\"color\": \"#C8D4E3\"}, \"line\": {\"color\": \"white\"}}, \"type\": \"table\"}]}, \"layout\": {\"annotationdefaults\": {\"arrowcolor\": \"#2a3f5f\", \"arrowhead\": 0, \"arrowwidth\": 1}, \"coloraxis\": {\"colorbar\": {\"outlinewidth\": 0, \"ticks\": \"\"}}, \"colorscale\": {\"diverging\": [[0, \"#8e0152\"], [0.1, \"#c51b7d\"], [0.2, \"#de77ae\"], [0.3, \"#f1b6da\"], [0.4, \"#fde0ef\"], [0.5, \"#f7f7f7\"], [0.6, \"#e6f5d0\"], [0.7, \"#b8e186\"], [0.8, \"#7fbc41\"], [0.9, \"#4d9221\"], [1, \"#276419\"]], \"sequential\": [[0.0, \"#0d0887\"], [0.1111111111111111, \"#46039f\"], [0.2222222222222222, \"#7201a8\"], [0.3333333333333333, \"#9c179e\"], [0.4444444444444444, \"#bd3786\"], [0.5555555555555556, \"#d8576b\"], [0.6666666666666666, \"#ed7953\"], [0.7777777777777778, \"#fb9f3a\"], [0.8888888888888888, \"#fdca26\"], [1.0, \"#f0f921\"]], \"sequentialminus\": [[0.0, \"#0d0887\"], [0.1111111111111111, \"#46039f\"], [0.2222222222222222, \"#7201a8\"], [0.3333333333333333, \"#9c179e\"], [0.4444444444444444, \"#bd3786\"], [0.5555555555555556, \"#d8576b\"], [0.6666666666666666, \"#ed7953\"], [0.7777777777777778, \"#fb9f3a\"], [0.8888888888888888, \"#fdca26\"], [1.0, \"#f0f921\"]]}, \"colorway\": [\"#636efa\", \"#EF553B\", \"#00cc96\", \"#ab63fa\", \"#FFA15A\", \"#19d3f3\", \"#FF6692\", \"#B6E880\", \"#FF97FF\", \"#FECB52\"], \"font\": {\"color\": \"#2a3f5f\"}, \"geo\": {\"bgcolor\": \"white\", \"lakecolor\": \"white\", \"landcolor\": \"#E5ECF6\", \"showlakes\": true, \"showland\": true, \"subunitcolor\": \"white\"}, \"hoverlabel\": {\"align\": \"left\"}, \"hovermode\": \"closest\", \"mapbox\": {\"style\": \"light\"}, \"paper_bgcolor\": \"white\", \"plot_bgcolor\": \"#E5ECF6\", \"polar\": {\"angularaxis\": {\"gridcolor\": \"white\", \"linecolor\": \"white\", \"ticks\": \"\"}, \"bgcolor\": \"#E5ECF6\", \"radialaxis\": {\"gridcolor\": \"white\", \"linecolor\": \"white\", \"ticks\": \"\"}}, \"scene\": {\"xaxis\": {\"backgroundcolor\": \"#E5ECF6\", \"gridcolor\": \"white\", \"gridwidth\": 2, \"linecolor\": \"white\", \"showbackground\": true, \"ticks\": \"\", \"zerolinecolor\": \"white\"}, \"yaxis\": {\"backgroundcolor\": \"#E5ECF6\", \"gridcolor\": \"white\", \"gridwidth\": 2, \"linecolor\": \"white\", \"showbackground\": true, \"ticks\": \"\", \"zerolinecolor\": \"white\"}, \"zaxis\": {\"backgroundcolor\": \"#E5ECF6\", \"gridcolor\": \"white\", \"gridwidth\": 2, \"linecolor\": \"white\", \"showbackground\": true, \"ticks\": \"\", \"zerolinecolor\": \"white\"}}, \"shapedefaults\": {\"line\": {\"color\": \"#2a3f5f\"}}, \"ternary\": {\"aaxis\": {\"gridcolor\": \"white\", \"linecolor\": \"white\", \"ticks\": \"\"}, \"baxis\": {\"gridcolor\": \"white\", \"linecolor\": \"white\", \"ticks\": \"\"}, \"bgcolor\": \"#E5ECF6\", \"caxis\": {\"gridcolor\": \"white\", \"linecolor\": \"white\", \"ticks\": \"\"}}, \"title\": {\"x\": 0.05}, \"xaxis\": {\"automargin\": true, \"gridcolor\": \"white\", \"linecolor\": \"white\", \"ticks\": \"\", \"title\": {\"standoff\": 15}, \"zerolinecolor\": \"white\", \"zerolinewidth\": 2}, \"yaxis\": {\"automargin\": true, \"gridcolor\": \"white\", \"linecolor\": \"white\", \"ticks\": \"\", \"title\": {\"standoff\": 15}, \"zerolinecolor\": \"white\", \"zerolinewidth\": 2}}}, \"title\": {\"font\": {\"color\": \"#4D5663\"}, \"text\": \"GASTOS NIKKI - 3853.75 \\u20ac\"}, \"xaxis\": {\"gridcolor\": \"#E1E5ED\", \"showgrid\": true, \"tickfont\": {\"color\": \"#4D5663\"}, \"title\": {\"font\": {\"color\": \"#4D5663\"}, \"text\": \"\"}, \"zerolinecolor\": \"#E1E5ED\"}, \"yaxis\": {\"gridcolor\": \"#E1E5ED\", \"showgrid\": true, \"tickfont\": {\"color\": \"#4D5663\"}, \"title\": {\"font\": {\"color\": \"#4D5663\"}, \"text\": \"\"}, \"zerolinecolor\": \"#E1E5ED\"}},\n",
       "                        {\"showLink\": true, \"linkText\": \"Export to plot.ly\", \"plotlyServerURL\": \"https://plot.ly\", \"responsive\": true}\n",
       "                    ).then(function(){\n",
       "                            \n",
       "var gd = document.getElementById('8c98f750-c390-4c10-8b9e-0e468f9477d8');\n",
       "var x = new MutationObserver(function (mutations, observer) {{\n",
       "        var display = window.getComputedStyle(gd).display;\n",
       "        if (!display || display === 'none') {{\n",
       "            console.log([gd, 'removed!']);\n",
       "            Plotly.purge(gd);\n",
       "            observer.disconnect();\n",
       "        }}\n",
       "}});\n",
       "\n",
       "// Listen for the removal of the full notebook cells\n",
       "var notebookContainer = gd.closest('#notebook-container');\n",
       "if (notebookContainer) {{\n",
       "    x.observe(notebookContainer, {childList: true});\n",
       "}}\n",
       "\n",
       "// Listen for the clearing of the current output cell\n",
       "var outputEl = gd.closest('.output');\n",
       "if (outputEl) {{\n",
       "    x.observe(outputEl, {childList: true});\n",
       "}}\n",
       "\n",
       "                        })\n",
       "                };\n",
       "                });\n",
       "            </script>\n",
       "        </div>"
      ]
     },
     "metadata": {},
     "output_type": "display_data"
    }
   ],
   "source": [
    "expense[expense['intervencion']=='Intervention 2020'\n",
    "       ].sort_values('cantidad',ascending=False\n",
    "                    ).iplot(kind='bar',x='categoria',\n",
    "                            y='cantidad',title='GASTOS NIKKI - 3853.75 €')"
   ]
  },
  {
   "cell_type": "code",
   "execution_count": 106,
   "metadata": {},
   "outputs": [
    {
     "data": {
      "text/html": [
       "<div>\n",
       "<style scoped>\n",
       "    .dataframe tbody tr th:only-of-type {\n",
       "        vertical-align: middle;\n",
       "    }\n",
       "\n",
       "    .dataframe tbody tr th {\n",
       "        vertical-align: top;\n",
       "    }\n",
       "\n",
       "    .dataframe thead th {\n",
       "        text-align: right;\n",
       "    }\n",
       "</style>\n",
       "<table border=\"1\" class=\"dataframe\">\n",
       "  <thead>\n",
       "    <tr style=\"text-align: right;\">\n",
       "      <th></th>\n",
       "      <th>concepto</th>\n",
       "      <th>cantidad</th>\n",
       "      <th>descripcion</th>\n",
       "      <th>creacion</th>\n",
       "    </tr>\n",
       "  </thead>\n",
       "  <tbody>\n",
       "    <tr>\n",
       "      <th>2315</th>\n",
       "      <td>Salaire / Personnelle</td>\n",
       "      <td>22.83</td>\n",
       "      <td>Salaire de Younous, Mireille et Lamatou pour l...</td>\n",
       "      <td>2020-02-27 10:24:26+00:00</td>\n",
       "    </tr>\n",
       "    <tr>\n",
       "      <th>2317</th>\n",
       "      <td>Salaire / Personnelle</td>\n",
       "      <td>175.05</td>\n",
       "      <td>Salarios acumulados de Younous, Lamatou y Mire...</td>\n",
       "      <td>2020-03-11 12:36:58+00:00</td>\n",
       "    </tr>\n",
       "    <tr>\n",
       "      <th>2316</th>\n",
       "      <td>Salaire / Personnelle</td>\n",
       "      <td>60.89</td>\n",
       "      <td>Salaires del mes de febrero 2020 de Younous y ...</td>\n",
       "      <td>2020-03-11 13:04:54+00:00</td>\n",
       "    </tr>\n",
       "    <tr>\n",
       "      <th>2312</th>\n",
       "      <td>Salaire / Personnelle</td>\n",
       "      <td>45.66</td>\n",
       "      <td>2 visites aux villages nouveaux avec Lamatou, ...</td>\n",
       "      <td>2020-03-17 23:19:42+00:00</td>\n",
       "    </tr>\n",
       "    <tr>\n",
       "      <th>2314</th>\n",
       "      <td>Salaire / Personnelle</td>\n",
       "      <td>91.33</td>\n",
       "      <td>Salaire pour voyage dans les villages</td>\n",
       "      <td>2020-04-02 12:17:30+00:00</td>\n",
       "    </tr>\n",
       "    <tr>\n",
       "      <th>2313</th>\n",
       "      <td>Salaire / Personnelle</td>\n",
       "      <td>91.33</td>\n",
       "      <td>Salaire mensuel</td>\n",
       "      <td>2020-05-03 16:15:07+00:00</td>\n",
       "    </tr>\n",
       "    <tr>\n",
       "      <th>2318</th>\n",
       "      <td>Salaire / Personnelle</td>\n",
       "      <td>53.35</td>\n",
       "      <td>Salaire younouss et lamatou</td>\n",
       "      <td>2020-05-03 16:20:03+00:00</td>\n",
       "    </tr>\n",
       "    <tr>\n",
       "      <th>2310</th>\n",
       "      <td>entretien younouss</td>\n",
       "      <td>22.87</td>\n",
       "      <td>entretien de younouss pour voyager dans les vi...</td>\n",
       "      <td>2020-06-19 06:54:26.105000+00:00</td>\n",
       "    </tr>\n",
       "    <tr>\n",
       "      <th>2065</th>\n",
       "      <td>salaire younouss</td>\n",
       "      <td>60.98</td>\n",
       "      <td>entretien de younouss du voyage sur parakou po...</td>\n",
       "      <td>2020-06-19 07:36:31.176000+00:00</td>\n",
       "    </tr>\n",
       "    <tr>\n",
       "      <th>2306</th>\n",
       "      <td>salaire mireille</td>\n",
       "      <td>121.95</td>\n",
       "      <td>salaire du mois de Mai</td>\n",
       "      <td>2020-06-19 07:52:09.020000+00:00</td>\n",
       "    </tr>\n",
       "    <tr>\n",
       "      <th>1701</th>\n",
       "      <td>entretien younouss</td>\n",
       "      <td>15.24</td>\n",
       "      <td>salaire de younouss pour le voyage sur parakou...</td>\n",
       "      <td>2020-06-27 08:12:33.201000+00:00</td>\n",
       "    </tr>\n",
       "    <tr>\n",
       "      <th>1704</th>\n",
       "      <td>entretien younouss</td>\n",
       "      <td>7.62</td>\n",
       "      <td>salaire de younouss pour le voyage dans les vi...</td>\n",
       "      <td>2020-06-27 08:16:21.208000+00:00</td>\n",
       "    </tr>\n",
       "    <tr>\n",
       "      <th>1703</th>\n",
       "      <td>entretien younouss</td>\n",
       "      <td>7.62</td>\n",
       "      <td>salaire de younouss pour boudhal et monnon</td>\n",
       "      <td>2020-06-27 08:18:59.484000+00:00</td>\n",
       "    </tr>\n",
       "    <tr>\n",
       "      <th>1702</th>\n",
       "      <td>entretien younouss</td>\n",
       "      <td>7.62</td>\n",
       "      <td>voyage avec ousmane sur sansi et bessangourou ...</td>\n",
       "      <td>2020-06-27 08:21:25.805000+00:00</td>\n",
       "    </tr>\n",
       "    <tr>\n",
       "      <th>1696</th>\n",
       "      <td>salaire mireille</td>\n",
       "      <td>182.93</td>\n",
       "      <td>salaire du mois de juin</td>\n",
       "      <td>2020-08-10 11:37:02.647000+00:00</td>\n",
       "    </tr>\n",
       "    <tr>\n",
       "      <th>1699</th>\n",
       "      <td>salaire younouss</td>\n",
       "      <td>60.98</td>\n",
       "      <td>salaire de Younouss pour différents voyages</td>\n",
       "      <td>2020-08-10 11:55:46.863000+00:00</td>\n",
       "    </tr>\n",
       "    <tr>\n",
       "      <th>1698</th>\n",
       "      <td>salaire younouss</td>\n",
       "      <td>68.60</td>\n",
       "      <td>salaire de younouss pour différents voyages</td>\n",
       "      <td>2020-08-10 12:00:46.503000+00:00</td>\n",
       "    </tr>\n",
       "    <tr>\n",
       "      <th>1697</th>\n",
       "      <td>salaire mireille</td>\n",
       "      <td>182.93</td>\n",
       "      <td>salaire du mois de juillet</td>\n",
       "      <td>2020-08-16 17:04:42.163000+00:00</td>\n",
       "    </tr>\n",
       "    <tr>\n",
       "      <th>1700</th>\n",
       "      <td>entretien Younouss</td>\n",
       "      <td>22.87</td>\n",
       "      <td>entretien de younouss pour trois sorties 05, 0...</td>\n",
       "      <td>2020-08-17 10:28:44.043000+00:00</td>\n",
       "    </tr>\n",
       "    <tr>\n",
       "      <th>1694</th>\n",
       "      <td>salaire lamatou</td>\n",
       "      <td>7.62</td>\n",
       "      <td>entretien lamatou pour la sortie sur boudhal</td>\n",
       "      <td>2020-08-18 10:40:41.521000+00:00</td>\n",
       "    </tr>\n",
       "    <tr>\n",
       "      <th>2108</th>\n",
       "      <td>salalaire lamatou</td>\n",
       "      <td>45.73</td>\n",
       "      <td>salaire de lamatou pour différents voyages dan...</td>\n",
       "      <td>2020-11-17 16:03:33.980000+00:00</td>\n",
       "    </tr>\n",
       "    <tr>\n",
       "      <th>2104</th>\n",
       "      <td>salaire younouss</td>\n",
       "      <td>114.33</td>\n",
       "      <td>salaire de younouss pour différents voyages</td>\n",
       "      <td>2020-11-17 16:08:18.936000+00:00</td>\n",
       "    </tr>\n",
       "    <tr>\n",
       "      <th>2103</th>\n",
       "      <td>salaire mireille</td>\n",
       "      <td>106.71</td>\n",
       "      <td>salaire du mois daout</td>\n",
       "      <td>2020-11-17 16:33:08.270000+00:00</td>\n",
       "    </tr>\n",
       "    <tr>\n",
       "      <th>2099</th>\n",
       "      <td>salaire Mireille</td>\n",
       "      <td>106.71</td>\n",
       "      <td>salaire mois de Septembre</td>\n",
       "      <td>2020-11-17 16:41:30.264000+00:00</td>\n",
       "    </tr>\n",
       "    <tr>\n",
       "      <th>2106</th>\n",
       "      <td>salaire younouss</td>\n",
       "      <td>114.33</td>\n",
       "      <td>salaire de younouss pour voyage dans les villa...</td>\n",
       "      <td>2020-11-17 18:01:26.977000+00:00</td>\n",
       "    </tr>\n",
       "    <tr>\n",
       "      <th>2096</th>\n",
       "      <td>salaire lamatou</td>\n",
       "      <td>60.98</td>\n",
       "      <td>salaire de lamatou pour ses différents voyages...</td>\n",
       "      <td>2020-11-18 07:03:48.447000+00:00</td>\n",
       "    </tr>\n",
       "    <tr>\n",
       "      <th>2100</th>\n",
       "      <td>salaire Younouss</td>\n",
       "      <td>76.22</td>\n",
       "      <td>salaire de younouss pour le mois de Novembre</td>\n",
       "      <td>2020-11-18 07:25:50.455000+00:00</td>\n",
       "    </tr>\n",
       "    <tr>\n",
       "      <th>2063</th>\n",
       "      <td>salaire kogui</td>\n",
       "      <td>12.20</td>\n",
       "      <td>remise 8000f à kogui pour avoir écrasé les noi...</td>\n",
       "      <td>2020-11-18 08:03:37.738000+00:00</td>\n",
       "    </tr>\n",
       "    <tr>\n",
       "      <th>2069</th>\n",
       "      <td>payement mécanicien</td>\n",
       "      <td>19.82</td>\n",
       "      <td>on est allé chercher un mécanicien dans un vil...</td>\n",
       "      <td>2020-11-18 08:07:27.186000+00:00</td>\n",
       "    </tr>\n",
       "    <tr>\n",
       "      <th>2098</th>\n",
       "      <td>salaire Mireille</td>\n",
       "      <td>167.68</td>\n",
       "      <td>salaires mireilles mois de Novembre pour diffé...</td>\n",
       "      <td>2021-01-13 10:14:39.061000+00:00</td>\n",
       "    </tr>\n",
       "    <tr>\n",
       "      <th>2101</th>\n",
       "      <td>salaire mireille</td>\n",
       "      <td>152.44</td>\n",
       "      <td>salaire du mois doctobre pour différentes acti...</td>\n",
       "      <td>2021-01-13 10:30:17.493000+00:00</td>\n",
       "    </tr>\n",
       "    <tr>\n",
       "      <th>2105</th>\n",
       "      <td>salaire younouss</td>\n",
       "      <td>22.87</td>\n",
       "      <td>salaire pour voyage à monnon besangourou et sa...</td>\n",
       "      <td>2021-01-13 10:42:08.275000+00:00</td>\n",
       "    </tr>\n",
       "    <tr>\n",
       "      <th>2102</th>\n",
       "      <td>salaire mireille</td>\n",
       "      <td>91.46</td>\n",
       "      <td>salaire du mois de décembre</td>\n",
       "      <td>2021-01-13 10:51:08.224000+00:00</td>\n",
       "    </tr>\n",
       "  </tbody>\n",
       "</table>\n",
       "</div>"
      ],
      "text/plain": [
       "                   concepto  cantidad  \\\n",
       "2315  Salaire / Personnelle     22.83   \n",
       "2317  Salaire / Personnelle    175.05   \n",
       "2316  Salaire / Personnelle     60.89   \n",
       "2312  Salaire / Personnelle     45.66   \n",
       "2314  Salaire / Personnelle     91.33   \n",
       "2313  Salaire / Personnelle     91.33   \n",
       "2318  Salaire / Personnelle     53.35   \n",
       "2310     entretien younouss     22.87   \n",
       "2065       salaire younouss     60.98   \n",
       "2306       salaire mireille    121.95   \n",
       "1701     entretien younouss     15.24   \n",
       "1704     entretien younouss      7.62   \n",
       "1703     entretien younouss      7.62   \n",
       "1702     entretien younouss      7.62   \n",
       "1696       salaire mireille    182.93   \n",
       "1699       salaire younouss     60.98   \n",
       "1698       salaire younouss     68.60   \n",
       "1697       salaire mireille    182.93   \n",
       "1700     entretien Younouss     22.87   \n",
       "1694        salaire lamatou      7.62   \n",
       "2108      salalaire lamatou     45.73   \n",
       "2104       salaire younouss    114.33   \n",
       "2103       salaire mireille    106.71   \n",
       "2099       salaire Mireille    106.71   \n",
       "2106       salaire younouss    114.33   \n",
       "2096        salaire lamatou     60.98   \n",
       "2100       salaire Younouss     76.22   \n",
       "2063          salaire kogui     12.20   \n",
       "2069    payement mécanicien     19.82   \n",
       "2098       salaire Mireille    167.68   \n",
       "2101       salaire mireille    152.44   \n",
       "2105       salaire younouss     22.87   \n",
       "2102       salaire mireille     91.46   \n",
       "\n",
       "                                            descripcion  \\\n",
       "2315  Salaire de Younous, Mireille et Lamatou pour l...   \n",
       "2317  Salarios acumulados de Younous, Lamatou y Mire...   \n",
       "2316  Salaires del mes de febrero 2020 de Younous y ...   \n",
       "2312  2 visites aux villages nouveaux avec Lamatou, ...   \n",
       "2314              Salaire pour voyage dans les villages   \n",
       "2313                                    Salaire mensuel   \n",
       "2318                        Salaire younouss et lamatou   \n",
       "2310  entretien de younouss pour voyager dans les vi...   \n",
       "2065  entretien de younouss du voyage sur parakou po...   \n",
       "2306                            salaire du mois de Mai    \n",
       "1701  salaire de younouss pour le voyage sur parakou...   \n",
       "1704  salaire de younouss pour le voyage dans les vi...   \n",
       "1703         salaire de younouss pour boudhal et monnon   \n",
       "1702  voyage avec ousmane sur sansi et bessangourou ...   \n",
       "1696                            salaire du mois de juin   \n",
       "1699        salaire de Younouss pour différents voyages   \n",
       "1698        salaire de younouss pour différents voyages   \n",
       "1697                         salaire du mois de juillet   \n",
       "1700  entretien de younouss pour trois sorties 05, 0...   \n",
       "1694       entretien lamatou pour la sortie sur boudhal   \n",
       "2108  salaire de lamatou pour différents voyages dan...   \n",
       "2104        salaire de younouss pour différents voyages   \n",
       "2103                              salaire du mois daout   \n",
       "2099                          salaire mois de Septembre   \n",
       "2106  salaire de younouss pour voyage dans les villa...   \n",
       "2096  salaire de lamatou pour ses différents voyages...   \n",
       "2100       salaire de younouss pour le mois de Novembre   \n",
       "2063  remise 8000f à kogui pour avoir écrasé les noi...   \n",
       "2069  on est allé chercher un mécanicien dans un vil...   \n",
       "2098  salaires mireilles mois de Novembre pour diffé...   \n",
       "2101  salaire du mois doctobre pour différentes acti...   \n",
       "2105  salaire pour voyage à monnon besangourou et sa...   \n",
       "2102                        salaire du mois de décembre   \n",
       "\n",
       "                             creacion  \n",
       "2315        2020-02-27 10:24:26+00:00  \n",
       "2317        2020-03-11 12:36:58+00:00  \n",
       "2316        2020-03-11 13:04:54+00:00  \n",
       "2312        2020-03-17 23:19:42+00:00  \n",
       "2314        2020-04-02 12:17:30+00:00  \n",
       "2313        2020-05-03 16:15:07+00:00  \n",
       "2318        2020-05-03 16:20:03+00:00  \n",
       "2310 2020-06-19 06:54:26.105000+00:00  \n",
       "2065 2020-06-19 07:36:31.176000+00:00  \n",
       "2306 2020-06-19 07:52:09.020000+00:00  \n",
       "1701 2020-06-27 08:12:33.201000+00:00  \n",
       "1704 2020-06-27 08:16:21.208000+00:00  \n",
       "1703 2020-06-27 08:18:59.484000+00:00  \n",
       "1702 2020-06-27 08:21:25.805000+00:00  \n",
       "1696 2020-08-10 11:37:02.647000+00:00  \n",
       "1699 2020-08-10 11:55:46.863000+00:00  \n",
       "1698 2020-08-10 12:00:46.503000+00:00  \n",
       "1697 2020-08-16 17:04:42.163000+00:00  \n",
       "1700 2020-08-17 10:28:44.043000+00:00  \n",
       "1694 2020-08-18 10:40:41.521000+00:00  \n",
       "2108 2020-11-17 16:03:33.980000+00:00  \n",
       "2104 2020-11-17 16:08:18.936000+00:00  \n",
       "2103 2020-11-17 16:33:08.270000+00:00  \n",
       "2099 2020-11-17 16:41:30.264000+00:00  \n",
       "2106 2020-11-17 18:01:26.977000+00:00  \n",
       "2096 2020-11-18 07:03:48.447000+00:00  \n",
       "2100 2020-11-18 07:25:50.455000+00:00  \n",
       "2063 2020-11-18 08:03:37.738000+00:00  \n",
       "2069 2020-11-18 08:07:27.186000+00:00  \n",
       "2098 2021-01-13 10:14:39.061000+00:00  \n",
       "2101 2021-01-13 10:30:17.493000+00:00  \n",
       "2105 2021-01-13 10:42:08.275000+00:00  \n",
       "2102 2021-01-13 10:51:08.224000+00:00  "
      ]
     },
     "execution_count": 106,
     "metadata": {},
     "output_type": "execute_result"
    }
   ],
   "source": [
    "df_nikarit[(df_nikarit['intervencion']=='Intervention 2020') &\n",
    "         (df_nikarit['categoria']=='Sueldos y Salarios')\n",
    "          ][['concepto','cantidad','descripcion','creacion']].sort_values('creacion')\n"
   ]
  },
  {
   "cell_type": "markdown",
   "metadata": {},
   "source": [
    "Salaire / Personnelle\t91.33\t04-30\tSalaire mensuel (ABRIL)\n",
    "salaire mireille\t121.95\t06-01\tsalaire du mois de Mai\n",
    "alaire mireille\t182.93\t07-10\tsalaire du mois de juin\n",
    "salaire mireille\t182.93\t07-31\tsalaire du mois de juillet\n",
    "Salaire / Personnelle\t175.05\t12-23\tSalarios acumulados de Younous, Lamatou y Mire...\n"
   ]
  },
  {
   "cell_type": "markdown",
   "metadata": {},
   "source": [
    "## ESPAÑA"
   ]
  },
  {
   "cell_type": "code",
   "execution_count": 107,
   "metadata": {},
   "outputs": [
    {
     "data": {
      "text/html": [
       "<div>\n",
       "<style scoped>\n",
       "    .dataframe tbody tr th:only-of-type {\n",
       "        vertical-align: middle;\n",
       "    }\n",
       "\n",
       "    .dataframe tbody tr th {\n",
       "        vertical-align: top;\n",
       "    }\n",
       "\n",
       "    .dataframe thead th {\n",
       "        text-align: right;\n",
       "    }\n",
       "</style>\n",
       "<table border=\"1\" class=\"dataframe\">\n",
       "  <thead>\n",
       "    <tr style=\"text-align: right;\">\n",
       "      <th></th>\n",
       "      <th>categoria</th>\n",
       "      <th>cantidad</th>\n",
       "    </tr>\n",
       "  </thead>\n",
       "  <tbody>\n",
       "    <tr>\n",
       "      <th>39</th>\n",
       "      <td>Transformacion materia prima</td>\n",
       "      <td>9119.77</td>\n",
       "    </tr>\n",
       "    <tr>\n",
       "      <th>16</th>\n",
       "      <td>Envasado</td>\n",
       "      <td>6387.36</td>\n",
       "    </tr>\n",
       "    <tr>\n",
       "      <th>44</th>\n",
       "      <td>Transporte de ventas</td>\n",
       "      <td>4783.80</td>\n",
       "    </tr>\n",
       "    <tr>\n",
       "      <th>37</th>\n",
       "      <td>Sueldos y Salarios</td>\n",
       "      <td>3296.18</td>\n",
       "    </tr>\n",
       "    <tr>\n",
       "      <th>13</th>\n",
       "      <td>Donacion Interna</td>\n",
       "      <td>3212.69</td>\n",
       "    </tr>\n",
       "    <tr>\n",
       "      <th>7</th>\n",
       "      <td>Compra de materias primas</td>\n",
       "      <td>2800.06</td>\n",
       "    </tr>\n",
       "    <tr>\n",
       "      <th>31</th>\n",
       "      <td>Otros Tributos</td>\n",
       "      <td>2149.46</td>\n",
       "    </tr>\n",
       "    <tr>\n",
       "      <th>34</th>\n",
       "      <td>Seguridad Social a Cargo de la Entidad</td>\n",
       "      <td>1930.91</td>\n",
       "    </tr>\n",
       "    <tr>\n",
       "      <th>20</th>\n",
       "      <td>Etiquetas de productos</td>\n",
       "      <td>1418.63</td>\n",
       "    </tr>\n",
       "    <tr>\n",
       "      <th>18</th>\n",
       "      <td>Envases de productos</td>\n",
       "      <td>1003.24</td>\n",
       "    </tr>\n",
       "    <tr>\n",
       "      <th>42</th>\n",
       "      <td>Transporte de materias primas</td>\n",
       "      <td>986.88</td>\n",
       "    </tr>\n",
       "    <tr>\n",
       "      <th>24</th>\n",
       "      <td>Gastos y Comisiones Financieras</td>\n",
       "      <td>655.13</td>\n",
       "    </tr>\n",
       "    <tr>\n",
       "      <th>29</th>\n",
       "      <td>Otros Servicios Profesionales</td>\n",
       "      <td>470.38</td>\n",
       "    </tr>\n",
       "    <tr>\n",
       "      <th>36</th>\n",
       "      <td>Servicio de gestoría</td>\n",
       "      <td>467.95</td>\n",
       "    </tr>\n",
       "    <tr>\n",
       "      <th>32</th>\n",
       "      <td>Publicidad, propaganda y relaciones públicas</td>\n",
       "      <td>256.33</td>\n",
       "    </tr>\n",
       "    <tr>\n",
       "      <th>47</th>\n",
       "      <td>WEB y Hosting</td>\n",
       "      <td>234.82</td>\n",
       "    </tr>\n",
       "    <tr>\n",
       "      <th>0</th>\n",
       "      <td>Alquileres (oficinas y otros)</td>\n",
       "      <td>199.65</td>\n",
       "    </tr>\n",
       "    <tr>\n",
       "      <th>22</th>\n",
       "      <td>Gastos Telefónicos</td>\n",
       "      <td>15.24</td>\n",
       "    </tr>\n",
       "    <tr>\n",
       "      <th>27</th>\n",
       "      <td>Material de Oficina</td>\n",
       "      <td>7.74</td>\n",
       "    </tr>\n",
       "  </tbody>\n",
       "</table>\n",
       "</div>"
      ],
      "text/plain": [
       "                                       categoria  cantidad\n",
       "39                  Transformacion materia prima   9119.77\n",
       "16                                      Envasado   6387.36\n",
       "44                          Transporte de ventas   4783.80\n",
       "37                            Sueldos y Salarios   3296.18\n",
       "13                              Donacion Interna   3212.69\n",
       "7                      Compra de materias primas   2800.06\n",
       "31                                Otros Tributos   2149.46\n",
       "34        Seguridad Social a Cargo de la Entidad   1930.91\n",
       "20                        Etiquetas de productos   1418.63\n",
       "18                          Envases de productos   1003.24\n",
       "42                 Transporte de materias primas    986.88\n",
       "24               Gastos y Comisiones Financieras    655.13\n",
       "29                 Otros Servicios Profesionales    470.38\n",
       "36                          Servicio de gestoría    467.95\n",
       "32  Publicidad, propaganda y relaciones públicas    256.33\n",
       "47                                 WEB y Hosting    234.82\n",
       "0                  Alquileres (oficinas y otros)    199.65\n",
       "22                            Gastos Telefónicos     15.24\n",
       "27                           Material de Oficina      7.74"
      ]
     },
     "execution_count": 107,
     "metadata": {},
     "output_type": "execute_result"
    }
   ],
   "source": [
    "expense[expense['intervencion']=='Espagne General 2020'\n",
    "       ].sort_values('cantidad',ascending=False)[['categoria','cantidad']]"
   ]
  },
  {
   "cell_type": "code",
   "execution_count": 108,
   "metadata": {},
   "outputs": [
    {
     "data": {
      "text/plain": [
       "39396.22"
      ]
     },
     "execution_count": 108,
     "metadata": {},
     "output_type": "execute_result"
    }
   ],
   "source": [
    "expense[expense['intervencion']=='Espagne General 2020']['cantidad'].sum()"
   ]
  },
  {
   "cell_type": "code",
   "execution_count": 109,
   "metadata": {},
   "outputs": [
    {
     "data": {
      "application/vnd.plotly.v1+json": {
       "config": {
        "linkText": "Export to plot.ly",
        "plotlyServerURL": "https://plot.ly",
        "showLink": true
       },
       "data": [
        {
         "marker": {
          "color": "rgba(255, 153, 51, 0.6)",
          "line": {
           "color": "rgba(255, 153, 51, 1.0)",
           "width": 1
          }
         },
         "name": "cantidad",
         "orientation": "v",
         "text": "",
         "type": "bar",
         "x": [
          "Transformacion materia prima",
          "Envasado",
          "Transporte de ventas",
          "Sueldos y Salarios",
          "Donacion Interna",
          "Compra de materias primas",
          "Otros Tributos",
          "Seguridad Social a Cargo de la Entidad",
          "Etiquetas de productos",
          "Envases de productos",
          "Transporte de materias primas",
          "Gastos y Comisiones Financieras",
          "Otros Servicios Profesionales",
          "Servicio de gestoría",
          "Publicidad, propaganda y relaciones públicas",
          "WEB y Hosting",
          "Alquileres (oficinas y otros)",
          "Gastos Telefónicos",
          "Material de Oficina"
         ],
         "y": [
          9119.77,
          6387.36,
          4783.8,
          3296.1800000000003,
          3212.69,
          2800.06,
          2149.46,
          1930.9099999999999,
          1418.63,
          1003.24,
          986.8799999999999,
          655.1299999999998,
          470.38,
          467.95,
          256.33,
          234.81999999999996,
          199.65,
          15.24,
          7.74
         ]
        }
       ],
       "layout": {
        "legend": {
         "bgcolor": "#F5F6F9",
         "font": {
          "color": "#4D5663"
         }
        },
        "paper_bgcolor": "#F5F6F9",
        "plot_bgcolor": "#F5F6F9",
        "template": {
         "data": {
          "bar": [
           {
            "error_x": {
             "color": "#2a3f5f"
            },
            "error_y": {
             "color": "#2a3f5f"
            },
            "marker": {
             "line": {
              "color": "#E5ECF6",
              "width": 0.5
             }
            },
            "type": "bar"
           }
          ],
          "barpolar": [
           {
            "marker": {
             "line": {
              "color": "#E5ECF6",
              "width": 0.5
             }
            },
            "type": "barpolar"
           }
          ],
          "carpet": [
           {
            "aaxis": {
             "endlinecolor": "#2a3f5f",
             "gridcolor": "white",
             "linecolor": "white",
             "minorgridcolor": "white",
             "startlinecolor": "#2a3f5f"
            },
            "baxis": {
             "endlinecolor": "#2a3f5f",
             "gridcolor": "white",
             "linecolor": "white",
             "minorgridcolor": "white",
             "startlinecolor": "#2a3f5f"
            },
            "type": "carpet"
           }
          ],
          "choropleth": [
           {
            "colorbar": {
             "outlinewidth": 0,
             "ticks": ""
            },
            "type": "choropleth"
           }
          ],
          "contour": [
           {
            "colorbar": {
             "outlinewidth": 0,
             "ticks": ""
            },
            "colorscale": [
             [
              0,
              "#0d0887"
             ],
             [
              0.1111111111111111,
              "#46039f"
             ],
             [
              0.2222222222222222,
              "#7201a8"
             ],
             [
              0.3333333333333333,
              "#9c179e"
             ],
             [
              0.4444444444444444,
              "#bd3786"
             ],
             [
              0.5555555555555556,
              "#d8576b"
             ],
             [
              0.6666666666666666,
              "#ed7953"
             ],
             [
              0.7777777777777778,
              "#fb9f3a"
             ],
             [
              0.8888888888888888,
              "#fdca26"
             ],
             [
              1,
              "#f0f921"
             ]
            ],
            "type": "contour"
           }
          ],
          "contourcarpet": [
           {
            "colorbar": {
             "outlinewidth": 0,
             "ticks": ""
            },
            "type": "contourcarpet"
           }
          ],
          "heatmap": [
           {
            "colorbar": {
             "outlinewidth": 0,
             "ticks": ""
            },
            "colorscale": [
             [
              0,
              "#0d0887"
             ],
             [
              0.1111111111111111,
              "#46039f"
             ],
             [
              0.2222222222222222,
              "#7201a8"
             ],
             [
              0.3333333333333333,
              "#9c179e"
             ],
             [
              0.4444444444444444,
              "#bd3786"
             ],
             [
              0.5555555555555556,
              "#d8576b"
             ],
             [
              0.6666666666666666,
              "#ed7953"
             ],
             [
              0.7777777777777778,
              "#fb9f3a"
             ],
             [
              0.8888888888888888,
              "#fdca26"
             ],
             [
              1,
              "#f0f921"
             ]
            ],
            "type": "heatmap"
           }
          ],
          "heatmapgl": [
           {
            "colorbar": {
             "outlinewidth": 0,
             "ticks": ""
            },
            "colorscale": [
             [
              0,
              "#0d0887"
             ],
             [
              0.1111111111111111,
              "#46039f"
             ],
             [
              0.2222222222222222,
              "#7201a8"
             ],
             [
              0.3333333333333333,
              "#9c179e"
             ],
             [
              0.4444444444444444,
              "#bd3786"
             ],
             [
              0.5555555555555556,
              "#d8576b"
             ],
             [
              0.6666666666666666,
              "#ed7953"
             ],
             [
              0.7777777777777778,
              "#fb9f3a"
             ],
             [
              0.8888888888888888,
              "#fdca26"
             ],
             [
              1,
              "#f0f921"
             ]
            ],
            "type": "heatmapgl"
           }
          ],
          "histogram": [
           {
            "marker": {
             "colorbar": {
              "outlinewidth": 0,
              "ticks": ""
             }
            },
            "type": "histogram"
           }
          ],
          "histogram2d": [
           {
            "colorbar": {
             "outlinewidth": 0,
             "ticks": ""
            },
            "colorscale": [
             [
              0,
              "#0d0887"
             ],
             [
              0.1111111111111111,
              "#46039f"
             ],
             [
              0.2222222222222222,
              "#7201a8"
             ],
             [
              0.3333333333333333,
              "#9c179e"
             ],
             [
              0.4444444444444444,
              "#bd3786"
             ],
             [
              0.5555555555555556,
              "#d8576b"
             ],
             [
              0.6666666666666666,
              "#ed7953"
             ],
             [
              0.7777777777777778,
              "#fb9f3a"
             ],
             [
              0.8888888888888888,
              "#fdca26"
             ],
             [
              1,
              "#f0f921"
             ]
            ],
            "type": "histogram2d"
           }
          ],
          "histogram2dcontour": [
           {
            "colorbar": {
             "outlinewidth": 0,
             "ticks": ""
            },
            "colorscale": [
             [
              0,
              "#0d0887"
             ],
             [
              0.1111111111111111,
              "#46039f"
             ],
             [
              0.2222222222222222,
              "#7201a8"
             ],
             [
              0.3333333333333333,
              "#9c179e"
             ],
             [
              0.4444444444444444,
              "#bd3786"
             ],
             [
              0.5555555555555556,
              "#d8576b"
             ],
             [
              0.6666666666666666,
              "#ed7953"
             ],
             [
              0.7777777777777778,
              "#fb9f3a"
             ],
             [
              0.8888888888888888,
              "#fdca26"
             ],
             [
              1,
              "#f0f921"
             ]
            ],
            "type": "histogram2dcontour"
           }
          ],
          "mesh3d": [
           {
            "colorbar": {
             "outlinewidth": 0,
             "ticks": ""
            },
            "type": "mesh3d"
           }
          ],
          "parcoords": [
           {
            "line": {
             "colorbar": {
              "outlinewidth": 0,
              "ticks": ""
             }
            },
            "type": "parcoords"
           }
          ],
          "pie": [
           {
            "automargin": true,
            "type": "pie"
           }
          ],
          "scatter": [
           {
            "marker": {
             "colorbar": {
              "outlinewidth": 0,
              "ticks": ""
             }
            },
            "type": "scatter"
           }
          ],
          "scatter3d": [
           {
            "line": {
             "colorbar": {
              "outlinewidth": 0,
              "ticks": ""
             }
            },
            "marker": {
             "colorbar": {
              "outlinewidth": 0,
              "ticks": ""
             }
            },
            "type": "scatter3d"
           }
          ],
          "scattercarpet": [
           {
            "marker": {
             "colorbar": {
              "outlinewidth": 0,
              "ticks": ""
             }
            },
            "type": "scattercarpet"
           }
          ],
          "scattergeo": [
           {
            "marker": {
             "colorbar": {
              "outlinewidth": 0,
              "ticks": ""
             }
            },
            "type": "scattergeo"
           }
          ],
          "scattergl": [
           {
            "marker": {
             "colorbar": {
              "outlinewidth": 0,
              "ticks": ""
             }
            },
            "type": "scattergl"
           }
          ],
          "scattermapbox": [
           {
            "marker": {
             "colorbar": {
              "outlinewidth": 0,
              "ticks": ""
             }
            },
            "type": "scattermapbox"
           }
          ],
          "scatterpolar": [
           {
            "marker": {
             "colorbar": {
              "outlinewidth": 0,
              "ticks": ""
             }
            },
            "type": "scatterpolar"
           }
          ],
          "scatterpolargl": [
           {
            "marker": {
             "colorbar": {
              "outlinewidth": 0,
              "ticks": ""
             }
            },
            "type": "scatterpolargl"
           }
          ],
          "scatterternary": [
           {
            "marker": {
             "colorbar": {
              "outlinewidth": 0,
              "ticks": ""
             }
            },
            "type": "scatterternary"
           }
          ],
          "surface": [
           {
            "colorbar": {
             "outlinewidth": 0,
             "ticks": ""
            },
            "colorscale": [
             [
              0,
              "#0d0887"
             ],
             [
              0.1111111111111111,
              "#46039f"
             ],
             [
              0.2222222222222222,
              "#7201a8"
             ],
             [
              0.3333333333333333,
              "#9c179e"
             ],
             [
              0.4444444444444444,
              "#bd3786"
             ],
             [
              0.5555555555555556,
              "#d8576b"
             ],
             [
              0.6666666666666666,
              "#ed7953"
             ],
             [
              0.7777777777777778,
              "#fb9f3a"
             ],
             [
              0.8888888888888888,
              "#fdca26"
             ],
             [
              1,
              "#f0f921"
             ]
            ],
            "type": "surface"
           }
          ],
          "table": [
           {
            "cells": {
             "fill": {
              "color": "#EBF0F8"
             },
             "line": {
              "color": "white"
             }
            },
            "header": {
             "fill": {
              "color": "#C8D4E3"
             },
             "line": {
              "color": "white"
             }
            },
            "type": "table"
           }
          ]
         },
         "layout": {
          "annotationdefaults": {
           "arrowcolor": "#2a3f5f",
           "arrowhead": 0,
           "arrowwidth": 1
          },
          "coloraxis": {
           "colorbar": {
            "outlinewidth": 0,
            "ticks": ""
           }
          },
          "colorscale": {
           "diverging": [
            [
             0,
             "#8e0152"
            ],
            [
             0.1,
             "#c51b7d"
            ],
            [
             0.2,
             "#de77ae"
            ],
            [
             0.3,
             "#f1b6da"
            ],
            [
             0.4,
             "#fde0ef"
            ],
            [
             0.5,
             "#f7f7f7"
            ],
            [
             0.6,
             "#e6f5d0"
            ],
            [
             0.7,
             "#b8e186"
            ],
            [
             0.8,
             "#7fbc41"
            ],
            [
             0.9,
             "#4d9221"
            ],
            [
             1,
             "#276419"
            ]
           ],
           "sequential": [
            [
             0,
             "#0d0887"
            ],
            [
             0.1111111111111111,
             "#46039f"
            ],
            [
             0.2222222222222222,
             "#7201a8"
            ],
            [
             0.3333333333333333,
             "#9c179e"
            ],
            [
             0.4444444444444444,
             "#bd3786"
            ],
            [
             0.5555555555555556,
             "#d8576b"
            ],
            [
             0.6666666666666666,
             "#ed7953"
            ],
            [
             0.7777777777777778,
             "#fb9f3a"
            ],
            [
             0.8888888888888888,
             "#fdca26"
            ],
            [
             1,
             "#f0f921"
            ]
           ],
           "sequentialminus": [
            [
             0,
             "#0d0887"
            ],
            [
             0.1111111111111111,
             "#46039f"
            ],
            [
             0.2222222222222222,
             "#7201a8"
            ],
            [
             0.3333333333333333,
             "#9c179e"
            ],
            [
             0.4444444444444444,
             "#bd3786"
            ],
            [
             0.5555555555555556,
             "#d8576b"
            ],
            [
             0.6666666666666666,
             "#ed7953"
            ],
            [
             0.7777777777777778,
             "#fb9f3a"
            ],
            [
             0.8888888888888888,
             "#fdca26"
            ],
            [
             1,
             "#f0f921"
            ]
           ]
          },
          "colorway": [
           "#636efa",
           "#EF553B",
           "#00cc96",
           "#ab63fa",
           "#FFA15A",
           "#19d3f3",
           "#FF6692",
           "#B6E880",
           "#FF97FF",
           "#FECB52"
          ],
          "font": {
           "color": "#2a3f5f"
          },
          "geo": {
           "bgcolor": "white",
           "lakecolor": "white",
           "landcolor": "#E5ECF6",
           "showlakes": true,
           "showland": true,
           "subunitcolor": "white"
          },
          "hoverlabel": {
           "align": "left"
          },
          "hovermode": "closest",
          "mapbox": {
           "style": "light"
          },
          "paper_bgcolor": "white",
          "plot_bgcolor": "#E5ECF6",
          "polar": {
           "angularaxis": {
            "gridcolor": "white",
            "linecolor": "white",
            "ticks": ""
           },
           "bgcolor": "#E5ECF6",
           "radialaxis": {
            "gridcolor": "white",
            "linecolor": "white",
            "ticks": ""
           }
          },
          "scene": {
           "xaxis": {
            "backgroundcolor": "#E5ECF6",
            "gridcolor": "white",
            "gridwidth": 2,
            "linecolor": "white",
            "showbackground": true,
            "ticks": "",
            "zerolinecolor": "white"
           },
           "yaxis": {
            "backgroundcolor": "#E5ECF6",
            "gridcolor": "white",
            "gridwidth": 2,
            "linecolor": "white",
            "showbackground": true,
            "ticks": "",
            "zerolinecolor": "white"
           },
           "zaxis": {
            "backgroundcolor": "#E5ECF6",
            "gridcolor": "white",
            "gridwidth": 2,
            "linecolor": "white",
            "showbackground": true,
            "ticks": "",
            "zerolinecolor": "white"
           }
          },
          "shapedefaults": {
           "line": {
            "color": "#2a3f5f"
           }
          },
          "ternary": {
           "aaxis": {
            "gridcolor": "white",
            "linecolor": "white",
            "ticks": ""
           },
           "baxis": {
            "gridcolor": "white",
            "linecolor": "white",
            "ticks": ""
           },
           "bgcolor": "#E5ECF6",
           "caxis": {
            "gridcolor": "white",
            "linecolor": "white",
            "ticks": ""
           }
          },
          "title": {
           "x": 0.05
          },
          "xaxis": {
           "automargin": true,
           "gridcolor": "white",
           "linecolor": "white",
           "ticks": "",
           "title": {
            "standoff": 15
           },
           "zerolinecolor": "white",
           "zerolinewidth": 2
          },
          "yaxis": {
           "automargin": true,
           "gridcolor": "white",
           "linecolor": "white",
           "ticks": "",
           "title": {
            "standoff": 15
           },
           "zerolinecolor": "white",
           "zerolinewidth": 2
          }
         }
        },
        "title": {
         "font": {
          "color": "#4D5663"
         },
         "text": "Gastos Totales 21,909€"
        },
        "xaxis": {
         "gridcolor": "#E1E5ED",
         "showgrid": true,
         "tickfont": {
          "color": "#4D5663"
         },
         "title": {
          "font": {
           "color": "#4D5663"
          },
          "text": ""
         },
         "zerolinecolor": "#E1E5ED"
        },
        "yaxis": {
         "gridcolor": "#E1E5ED",
         "showgrid": true,
         "tickfont": {
          "color": "#4D5663"
         },
         "title": {
          "font": {
           "color": "#4D5663"
          },
          "text": ""
         },
         "zerolinecolor": "#E1E5ED"
        }
       }
      },
      "text/html": [
       "<div>\n",
       "        \n",
       "        \n",
       "            <div id=\"5ecbce60-3f44-4a14-a1ea-a613767d3e32\" class=\"plotly-graph-div\" style=\"height:525px; width:100%;\"></div>\n",
       "            <script type=\"text/javascript\">\n",
       "                require([\"plotly\"], function(Plotly) {\n",
       "                    window.PLOTLYENV=window.PLOTLYENV || {};\n",
       "                    window.PLOTLYENV.BASE_URL='https://plot.ly';\n",
       "                    \n",
       "                if (document.getElementById(\"5ecbce60-3f44-4a14-a1ea-a613767d3e32\")) {\n",
       "                    Plotly.newPlot(\n",
       "                        '5ecbce60-3f44-4a14-a1ea-a613767d3e32',\n",
       "                        [{\"marker\": {\"color\": \"rgba(255, 153, 51, 0.6)\", \"line\": {\"color\": \"rgba(255, 153, 51, 1.0)\", \"width\": 1}}, \"name\": \"cantidad\", \"orientation\": \"v\", \"text\": \"\", \"type\": \"bar\", \"x\": [\"Transformacion materia prima\", \"Envasado\", \"Transporte de ventas\", \"Sueldos y Salarios\", \"Donacion Interna\", \"Compra de materias primas\", \"Otros Tributos\", \"Seguridad Social a Cargo de la Entidad\", \"Etiquetas de productos\", \"Envases de productos\", \"Transporte de materias primas\", \"Gastos y Comisiones Financieras\", \"Otros Servicios Profesionales\", \"Servicio de gestor\\u00eda\", \"Publicidad, propaganda y relaciones p\\u00fablicas\", \"WEB y Hosting\", \"Alquileres (oficinas y otros)\", \"Gastos Telef\\u00f3nicos\", \"Material de Oficina\"], \"y\": [9119.77, 6387.36, 4783.8, 3296.1800000000003, 3212.69, 2800.06, 2149.46, 1930.9099999999999, 1418.63, 1003.24, 986.8799999999999, 655.1299999999998, 470.38, 467.95, 256.33, 234.81999999999996, 199.65, 15.24, 7.74]}],\n",
       "                        {\"legend\": {\"bgcolor\": \"#F5F6F9\", \"font\": {\"color\": \"#4D5663\"}}, \"paper_bgcolor\": \"#F5F6F9\", \"plot_bgcolor\": \"#F5F6F9\", \"template\": {\"data\": {\"bar\": [{\"error_x\": {\"color\": \"#2a3f5f\"}, \"error_y\": {\"color\": \"#2a3f5f\"}, \"marker\": {\"line\": {\"color\": \"#E5ECF6\", \"width\": 0.5}}, \"type\": \"bar\"}], \"barpolar\": [{\"marker\": {\"line\": {\"color\": \"#E5ECF6\", \"width\": 0.5}}, \"type\": \"barpolar\"}], \"carpet\": [{\"aaxis\": {\"endlinecolor\": \"#2a3f5f\", \"gridcolor\": \"white\", \"linecolor\": \"white\", \"minorgridcolor\": \"white\", \"startlinecolor\": \"#2a3f5f\"}, \"baxis\": {\"endlinecolor\": \"#2a3f5f\", \"gridcolor\": \"white\", \"linecolor\": \"white\", \"minorgridcolor\": \"white\", \"startlinecolor\": \"#2a3f5f\"}, \"type\": \"carpet\"}], \"choropleth\": [{\"colorbar\": {\"outlinewidth\": 0, \"ticks\": \"\"}, \"type\": \"choropleth\"}], \"contour\": [{\"colorbar\": {\"outlinewidth\": 0, \"ticks\": \"\"}, \"colorscale\": [[0.0, \"#0d0887\"], [0.1111111111111111, \"#46039f\"], [0.2222222222222222, \"#7201a8\"], [0.3333333333333333, \"#9c179e\"], [0.4444444444444444, \"#bd3786\"], [0.5555555555555556, \"#d8576b\"], [0.6666666666666666, \"#ed7953\"], [0.7777777777777778, \"#fb9f3a\"], [0.8888888888888888, \"#fdca26\"], [1.0, \"#f0f921\"]], \"type\": \"contour\"}], \"contourcarpet\": [{\"colorbar\": {\"outlinewidth\": 0, \"ticks\": \"\"}, \"type\": \"contourcarpet\"}], \"heatmap\": [{\"colorbar\": {\"outlinewidth\": 0, \"ticks\": \"\"}, \"colorscale\": [[0.0, \"#0d0887\"], [0.1111111111111111, \"#46039f\"], [0.2222222222222222, \"#7201a8\"], [0.3333333333333333, \"#9c179e\"], [0.4444444444444444, \"#bd3786\"], [0.5555555555555556, \"#d8576b\"], [0.6666666666666666, \"#ed7953\"], [0.7777777777777778, \"#fb9f3a\"], [0.8888888888888888, \"#fdca26\"], [1.0, \"#f0f921\"]], \"type\": \"heatmap\"}], \"heatmapgl\": [{\"colorbar\": {\"outlinewidth\": 0, \"ticks\": \"\"}, \"colorscale\": [[0.0, \"#0d0887\"], [0.1111111111111111, \"#46039f\"], [0.2222222222222222, \"#7201a8\"], [0.3333333333333333, \"#9c179e\"], [0.4444444444444444, \"#bd3786\"], [0.5555555555555556, \"#d8576b\"], [0.6666666666666666, \"#ed7953\"], [0.7777777777777778, \"#fb9f3a\"], [0.8888888888888888, \"#fdca26\"], [1.0, \"#f0f921\"]], \"type\": \"heatmapgl\"}], \"histogram\": [{\"marker\": {\"colorbar\": {\"outlinewidth\": 0, \"ticks\": \"\"}}, \"type\": \"histogram\"}], \"histogram2d\": [{\"colorbar\": {\"outlinewidth\": 0, \"ticks\": \"\"}, \"colorscale\": [[0.0, \"#0d0887\"], [0.1111111111111111, \"#46039f\"], [0.2222222222222222, \"#7201a8\"], [0.3333333333333333, \"#9c179e\"], [0.4444444444444444, \"#bd3786\"], [0.5555555555555556, \"#d8576b\"], [0.6666666666666666, \"#ed7953\"], [0.7777777777777778, \"#fb9f3a\"], [0.8888888888888888, \"#fdca26\"], [1.0, \"#f0f921\"]], \"type\": \"histogram2d\"}], \"histogram2dcontour\": [{\"colorbar\": {\"outlinewidth\": 0, \"ticks\": \"\"}, \"colorscale\": [[0.0, \"#0d0887\"], [0.1111111111111111, \"#46039f\"], [0.2222222222222222, \"#7201a8\"], [0.3333333333333333, \"#9c179e\"], [0.4444444444444444, \"#bd3786\"], [0.5555555555555556, \"#d8576b\"], [0.6666666666666666, \"#ed7953\"], [0.7777777777777778, \"#fb9f3a\"], [0.8888888888888888, \"#fdca26\"], [1.0, \"#f0f921\"]], \"type\": \"histogram2dcontour\"}], \"mesh3d\": [{\"colorbar\": {\"outlinewidth\": 0, \"ticks\": \"\"}, \"type\": \"mesh3d\"}], \"parcoords\": [{\"line\": {\"colorbar\": {\"outlinewidth\": 0, \"ticks\": \"\"}}, \"type\": \"parcoords\"}], \"pie\": [{\"automargin\": true, \"type\": \"pie\"}], \"scatter\": [{\"marker\": {\"colorbar\": {\"outlinewidth\": 0, \"ticks\": \"\"}}, \"type\": \"scatter\"}], \"scatter3d\": [{\"line\": {\"colorbar\": {\"outlinewidth\": 0, \"ticks\": \"\"}}, \"marker\": {\"colorbar\": {\"outlinewidth\": 0, \"ticks\": \"\"}}, \"type\": \"scatter3d\"}], \"scattercarpet\": [{\"marker\": {\"colorbar\": {\"outlinewidth\": 0, \"ticks\": \"\"}}, \"type\": \"scattercarpet\"}], \"scattergeo\": [{\"marker\": {\"colorbar\": {\"outlinewidth\": 0, \"ticks\": \"\"}}, \"type\": \"scattergeo\"}], \"scattergl\": [{\"marker\": {\"colorbar\": {\"outlinewidth\": 0, \"ticks\": \"\"}}, \"type\": \"scattergl\"}], \"scattermapbox\": [{\"marker\": {\"colorbar\": {\"outlinewidth\": 0, \"ticks\": \"\"}}, \"type\": \"scattermapbox\"}], \"scatterpolar\": [{\"marker\": {\"colorbar\": {\"outlinewidth\": 0, \"ticks\": \"\"}}, \"type\": \"scatterpolar\"}], \"scatterpolargl\": [{\"marker\": {\"colorbar\": {\"outlinewidth\": 0, \"ticks\": \"\"}}, \"type\": \"scatterpolargl\"}], \"scatterternary\": [{\"marker\": {\"colorbar\": {\"outlinewidth\": 0, \"ticks\": \"\"}}, \"type\": \"scatterternary\"}], \"surface\": [{\"colorbar\": {\"outlinewidth\": 0, \"ticks\": \"\"}, \"colorscale\": [[0.0, \"#0d0887\"], [0.1111111111111111, \"#46039f\"], [0.2222222222222222, \"#7201a8\"], [0.3333333333333333, \"#9c179e\"], [0.4444444444444444, \"#bd3786\"], [0.5555555555555556, \"#d8576b\"], [0.6666666666666666, \"#ed7953\"], [0.7777777777777778, \"#fb9f3a\"], [0.8888888888888888, \"#fdca26\"], [1.0, \"#f0f921\"]], \"type\": \"surface\"}], \"table\": [{\"cells\": {\"fill\": {\"color\": \"#EBF0F8\"}, \"line\": {\"color\": \"white\"}}, \"header\": {\"fill\": {\"color\": \"#C8D4E3\"}, \"line\": {\"color\": \"white\"}}, \"type\": \"table\"}]}, \"layout\": {\"annotationdefaults\": {\"arrowcolor\": \"#2a3f5f\", \"arrowhead\": 0, \"arrowwidth\": 1}, \"coloraxis\": {\"colorbar\": {\"outlinewidth\": 0, \"ticks\": \"\"}}, \"colorscale\": {\"diverging\": [[0, \"#8e0152\"], [0.1, \"#c51b7d\"], [0.2, \"#de77ae\"], [0.3, \"#f1b6da\"], [0.4, \"#fde0ef\"], [0.5, \"#f7f7f7\"], [0.6, \"#e6f5d0\"], [0.7, \"#b8e186\"], [0.8, \"#7fbc41\"], [0.9, \"#4d9221\"], [1, \"#276419\"]], \"sequential\": [[0.0, \"#0d0887\"], [0.1111111111111111, \"#46039f\"], [0.2222222222222222, \"#7201a8\"], [0.3333333333333333, \"#9c179e\"], [0.4444444444444444, \"#bd3786\"], [0.5555555555555556, \"#d8576b\"], [0.6666666666666666, \"#ed7953\"], [0.7777777777777778, \"#fb9f3a\"], [0.8888888888888888, \"#fdca26\"], [1.0, \"#f0f921\"]], \"sequentialminus\": [[0.0, \"#0d0887\"], [0.1111111111111111, \"#46039f\"], [0.2222222222222222, \"#7201a8\"], [0.3333333333333333, \"#9c179e\"], [0.4444444444444444, \"#bd3786\"], [0.5555555555555556, \"#d8576b\"], [0.6666666666666666, \"#ed7953\"], [0.7777777777777778, \"#fb9f3a\"], [0.8888888888888888, \"#fdca26\"], [1.0, \"#f0f921\"]]}, \"colorway\": [\"#636efa\", \"#EF553B\", \"#00cc96\", \"#ab63fa\", \"#FFA15A\", \"#19d3f3\", \"#FF6692\", \"#B6E880\", \"#FF97FF\", \"#FECB52\"], \"font\": {\"color\": \"#2a3f5f\"}, \"geo\": {\"bgcolor\": \"white\", \"lakecolor\": \"white\", \"landcolor\": \"#E5ECF6\", \"showlakes\": true, \"showland\": true, \"subunitcolor\": \"white\"}, \"hoverlabel\": {\"align\": \"left\"}, \"hovermode\": \"closest\", \"mapbox\": {\"style\": \"light\"}, \"paper_bgcolor\": \"white\", \"plot_bgcolor\": \"#E5ECF6\", \"polar\": {\"angularaxis\": {\"gridcolor\": \"white\", \"linecolor\": \"white\", \"ticks\": \"\"}, \"bgcolor\": \"#E5ECF6\", \"radialaxis\": {\"gridcolor\": \"white\", \"linecolor\": \"white\", \"ticks\": \"\"}}, \"scene\": {\"xaxis\": {\"backgroundcolor\": \"#E5ECF6\", \"gridcolor\": \"white\", \"gridwidth\": 2, \"linecolor\": \"white\", \"showbackground\": true, \"ticks\": \"\", \"zerolinecolor\": \"white\"}, \"yaxis\": {\"backgroundcolor\": \"#E5ECF6\", \"gridcolor\": \"white\", \"gridwidth\": 2, \"linecolor\": \"white\", \"showbackground\": true, \"ticks\": \"\", \"zerolinecolor\": \"white\"}, \"zaxis\": {\"backgroundcolor\": \"#E5ECF6\", \"gridcolor\": \"white\", \"gridwidth\": 2, \"linecolor\": \"white\", \"showbackground\": true, \"ticks\": \"\", \"zerolinecolor\": \"white\"}}, \"shapedefaults\": {\"line\": {\"color\": \"#2a3f5f\"}}, \"ternary\": {\"aaxis\": {\"gridcolor\": \"white\", \"linecolor\": \"white\", \"ticks\": \"\"}, \"baxis\": {\"gridcolor\": \"white\", \"linecolor\": \"white\", \"ticks\": \"\"}, \"bgcolor\": \"#E5ECF6\", \"caxis\": {\"gridcolor\": \"white\", \"linecolor\": \"white\", \"ticks\": \"\"}}, \"title\": {\"x\": 0.05}, \"xaxis\": {\"automargin\": true, \"gridcolor\": \"white\", \"linecolor\": \"white\", \"ticks\": \"\", \"title\": {\"standoff\": 15}, \"zerolinecolor\": \"white\", \"zerolinewidth\": 2}, \"yaxis\": {\"automargin\": true, \"gridcolor\": \"white\", \"linecolor\": \"white\", \"ticks\": \"\", \"title\": {\"standoff\": 15}, \"zerolinecolor\": \"white\", \"zerolinewidth\": 2}}}, \"title\": {\"font\": {\"color\": \"#4D5663\"}, \"text\": \"Gastos Totales 21,909\\u20ac\"}, \"xaxis\": {\"gridcolor\": \"#E1E5ED\", \"showgrid\": true, \"tickfont\": {\"color\": \"#4D5663\"}, \"title\": {\"font\": {\"color\": \"#4D5663\"}, \"text\": \"\"}, \"zerolinecolor\": \"#E1E5ED\"}, \"yaxis\": {\"gridcolor\": \"#E1E5ED\", \"showgrid\": true, \"tickfont\": {\"color\": \"#4D5663\"}, \"title\": {\"font\": {\"color\": \"#4D5663\"}, \"text\": \"\"}, \"zerolinecolor\": \"#E1E5ED\"}},\n",
       "                        {\"showLink\": true, \"linkText\": \"Export to plot.ly\", \"plotlyServerURL\": \"https://plot.ly\", \"responsive\": true}\n",
       "                    ).then(function(){\n",
       "                            \n",
       "var gd = document.getElementById('5ecbce60-3f44-4a14-a1ea-a613767d3e32');\n",
       "var x = new MutationObserver(function (mutations, observer) {{\n",
       "        var display = window.getComputedStyle(gd).display;\n",
       "        if (!display || display === 'none') {{\n",
       "            console.log([gd, 'removed!']);\n",
       "            Plotly.purge(gd);\n",
       "            observer.disconnect();\n",
       "        }}\n",
       "}});\n",
       "\n",
       "// Listen for the removal of the full notebook cells\n",
       "var notebookContainer = gd.closest('#notebook-container');\n",
       "if (notebookContainer) {{\n",
       "    x.observe(notebookContainer, {childList: true});\n",
       "}}\n",
       "\n",
       "// Listen for the clearing of the current output cell\n",
       "var outputEl = gd.closest('.output');\n",
       "if (outputEl) {{\n",
       "    x.observe(outputEl, {childList: true});\n",
       "}}\n",
       "\n",
       "                        })\n",
       "                };\n",
       "                });\n",
       "            </script>\n",
       "        </div>"
      ]
     },
     "metadata": {},
     "output_type": "display_data"
    }
   ],
   "source": [
    "expense[expense['intervencion']=='Espagne General 2020'\n",
    "       ].sort_values('cantidad',ascending=False\n",
    "                    ).iplot(kind='bar',x='categoria',y='cantidad',title='Gastos Totales 21,909€'\n",
    "                           )"
   ]
  },
  {
   "cell_type": "code",
   "execution_count": 110,
   "metadata": {},
   "outputs": [
    {
     "data": {
      "text/plain": [
       "array(['Alquileres (oficinas y otros)', 'Apertura',\n",
       "       'Banco Caja de Ingenieros', 'Banco Paypal', 'Banco Santander',\n",
       "       'Banco Stripe', 'Caja', 'Compra de materias primas',\n",
       "       'Compras de otros aprovisionamientos',\n",
       "       'Deudas a c.p. (Acreedores)', 'Deudas gastos de envio',\n",
       "       'Donacion Interna', 'Donaciones', 'Envasado',\n",
       "       'Envases de productos', 'Etiquetas de productos', 'Gasolina',\n",
       "       'Gastos Telefónicos', 'Gastos y Comisiones Financieras',\n",
       "       'Material de Oficina', 'Otros Servicios Profesionales',\n",
       "       'Otros Tributos', 'Publicidad, propaganda y relaciones públicas',\n",
       "       'Reparaciones y conservación (Ej. coche)',\n",
       "       'Seguridad Social a Cargo de la Entidad', 'Servicio de gestoría',\n",
       "       'Sueldos y Salarios', 'Transformacion materia prima',\n",
       "       'Transporte (Benin Ej. Bus)', 'Transporte de materias primas',\n",
       "       'Transporte de ventas', 'Venta de Manteca de Karite',\n",
       "       'WEB y Hosting'], dtype=object)"
      ]
     },
     "execution_count": 110,
     "metadata": {},
     "output_type": "execute_result"
    }
   ],
   "source": [
    "df_nik_cat.categoria.unique()"
   ]
  },
  {
   "cell_type": "markdown",
   "metadata": {},
   "source": [
    "### ANALIZAR COMISIONES"
   ]
  },
  {
   "cell_type": "code",
   "execution_count": 111,
   "metadata": {},
   "outputs": [],
   "source": [
    "df2=df_nikarit[(df_nikarit['intervencion']=='Espagne General 2020')&\n",
    "                (df_nikarit['origen'] !='contoan' )].groupby('categoria')['cantidad'].sum().reset_index()"
   ]
  },
  {
   "cell_type": "code",
   "execution_count": 112,
   "metadata": {},
   "outputs": [
    {
     "data": {
      "text/plain": [
       "19744.329999999973"
      ]
     },
     "execution_count": 112,
     "metadata": {},
     "output_type": "execute_result"
    }
   ],
   "source": [
    "#Ingresos shopify\n",
    "df2[df2['categoria']=='Venta de Manteca de Karite']['cantidad'].values[0]"
   ]
  },
  {
   "cell_type": "code",
   "execution_count": 113,
   "metadata": {},
   "outputs": [
    {
     "data": {
      "text/plain": [
       "590.9099999999999"
      ]
     },
     "execution_count": 113,
     "metadata": {},
     "output_type": "execute_result"
    }
   ],
   "source": [
    "#Comisiones pagos en shopify\n",
    "df2[df2['categoria']=='Gastos y Comisiones Financieras']['cantidad'].values[0]"
   ]
  },
  {
   "cell_type": "code",
   "execution_count": 114,
   "metadata": {},
   "outputs": [
    {
     "data": {
      "text/plain": [
       "2.992808568333292"
      ]
     },
     "execution_count": 114,
     "metadata": {},
     "output_type": "execute_result"
    }
   ],
   "source": [
    "#Ratio de comision\n",
    "100*(df2[df2['categoria']=='Gastos y Comisiones Financieras']['cantidad'].values[0]\n",
    " /df2[df2['categoria']=='Venta de Manteca de Karite']['cantidad'].values[0])"
   ]
  },
  {
   "cell_type": "code",
   "execution_count": 115,
   "metadata": {},
   "outputs": [
    {
     "data": {
      "text/plain": [
       "array(['Venta de Manteca de Karite', 'Donaciones', 'Banco Stripe',\n",
       "       'Apertura', 'Gastos y Comisiones Financieras',\n",
       "       'Deudas gastos de envio', 'Caja', 'Banco Caja de Ingenieros',\n",
       "       'Deudas a c.p. (Acreedores)', 'Banco Santander', 'Banco Paypal',\n",
       "       'Donacion Interna', 'Otros Tributos', 'Gasolina',\n",
       "       'Reparaciones y conservación (Ej. coche)',\n",
       "       'Compra de materias primas', 'Transporte de materias primas',\n",
       "       'Sueldos y Salarios', 'Compras de otros aprovisionamientos',\n",
       "       'Seguridad Social a Cargo de la Entidad', 'Material de Oficina',\n",
       "       'Transporte (Benin Ej. Bus)', 'Gastos Telefónicos',\n",
       "       'Otros Servicios Profesionales', 'WEB y Hosting',\n",
       "       'Transporte de ventas',\n",
       "       'Publicidad, propaganda y relaciones públicas',\n",
       "       'Servicio de gestoría', 'Envasado', 'Envases de productos',\n",
       "       'Etiquetas de productos', 'Alquileres (oficinas y otros)',\n",
       "       'Transformacion materia prima'], dtype=object)"
      ]
     },
     "execution_count": 115,
     "metadata": {},
     "output_type": "execute_result"
    }
   ],
   "source": [
    "df_nikarit['categoria'].unique()"
   ]
  },
  {
   "cell_type": "code",
   "execution_count": 116,
   "metadata": {},
   "outputs": [
    {
     "data": {
      "text/html": [
       "<div>\n",
       "<style scoped>\n",
       "    .dataframe tbody tr th:only-of-type {\n",
       "        vertical-align: middle;\n",
       "    }\n",
       "\n",
       "    .dataframe tbody tr th {\n",
       "        vertical-align: top;\n",
       "    }\n",
       "\n",
       "    .dataframe thead th {\n",
       "        text-align: right;\n",
       "    }\n",
       "</style>\n",
       "<table border=\"1\" class=\"dataframe\">\n",
       "  <thead>\n",
       "    <tr style=\"text-align: right;\">\n",
       "      <th></th>\n",
       "      <th>concepto</th>\n",
       "      <th>cantidad</th>\n",
       "      <th>creacion</th>\n",
       "      <th>descripcion</th>\n",
       "    </tr>\n",
       "  </thead>\n",
       "  <tbody>\n",
       "    <tr>\n",
       "      <th>2308</th>\n",
       "      <td>Achat de materiaux</td>\n",
       "      <td>45.66</td>\n",
       "      <td>2020-02-26 22:58:25+00:00</td>\n",
       "      <td>Achat d'une bascul de maximum 100 kilos pour p...</td>\n",
       "    </tr>\n",
       "    <tr>\n",
       "      <th>2067</th>\n",
       "      <td>Achat de materiaux</td>\n",
       "      <td>45.66</td>\n",
       "      <td>2020-02-26 23:06:58+00:00</td>\n",
       "      <td>Achat piece pour reparation moulin Bessen Gourou</td>\n",
       "    </tr>\n",
       "    <tr>\n",
       "      <th>2401</th>\n",
       "      <td>Achat de materiaux</td>\n",
       "      <td>24.35</td>\n",
       "      <td>2020-02-29 15:48:56+00:00</td>\n",
       "      <td>Achat de 10 metres de tissus a 6.000 F le tota...</td>\n",
       "    </tr>\n",
       "    <tr>\n",
       "      <th>2307</th>\n",
       "      <td>Carte d'identité</td>\n",
       "      <td>4.57</td>\n",
       "      <td>2020-03-11 12:59:18+00:00</td>\n",
       "      <td>Carte d'identité</td>\n",
       "    </tr>\n",
       "    <tr>\n",
       "      <th>2399</th>\n",
       "      <td>Achat de materiaux</td>\n",
       "      <td>38.97</td>\n",
       "      <td>2020-03-11 20:32:07+00:00</td>\n",
       "      <td>Compra de 12 metros de tela en el mercado a 72...</td>\n",
       "    </tr>\n",
       "    <tr>\n",
       "      <th>2398</th>\n",
       "      <td>Achat de materiaux</td>\n",
       "      <td>49.47</td>\n",
       "      <td>2020-03-12 14:49:57+00:00</td>\n",
       "      <td>Compra de 56 metros de tela para el pedido de ...</td>\n",
       "    </tr>\n",
       "    <tr>\n",
       "      <th>2400</th>\n",
       "      <td>Achat de materiaux</td>\n",
       "      <td>96.12</td>\n",
       "      <td>2020-03-17 23:24:14+00:00</td>\n",
       "      <td>Couture 421 petits sacs chez Kasim</td>\n",
       "    </tr>\n",
       "    <tr>\n",
       "      <th>2309</th>\n",
       "      <td>Achat de materiaux</td>\n",
       "      <td>27.40</td>\n",
       "      <td>2020-05-04 08:43:15+00:00</td>\n",
       "      <td>Achat de pneu</td>\n",
       "    </tr>\n",
       "    <tr>\n",
       "      <th>2072</th>\n",
       "      <td>achat matériels des femmes</td>\n",
       "      <td>334.15</td>\n",
       "      <td>2020-06-27 08:24:40.552000+00:00</td>\n",
       "      <td>achat des sacs pour emballer les amandes de ka...</td>\n",
       "    </tr>\n",
       "    <tr>\n",
       "      <th>2064</th>\n",
       "      <td>achats de gants</td>\n",
       "      <td>68.60</td>\n",
       "      <td>2020-08-10 11:16:16.321000+00:00</td>\n",
       "      <td>achats de gants pour les femmes de monnon</td>\n",
       "    </tr>\n",
       "    <tr>\n",
       "      <th>1706</th>\n",
       "      <td>fabrication planches</td>\n",
       "      <td>86.89</td>\n",
       "      <td>2020-08-10 11:25:20.363000+00:00</td>\n",
       "      <td>fabrication des planches pour poser des sacs d...</td>\n",
       "    </tr>\n",
       "    <tr>\n",
       "      <th>2073</th>\n",
       "      <td>achat de chaussutes pour les femmes</td>\n",
       "      <td>114.33</td>\n",
       "      <td>2020-08-10 11:50:48.641000+00:00</td>\n",
       "      <td>achats de chaussures pour les femmes de Monnon</td>\n",
       "    </tr>\n",
       "    <tr>\n",
       "      <th>1695</th>\n",
       "      <td>achats aiguilles</td>\n",
       "      <td>7.62</td>\n",
       "      <td>2020-08-10 12:10:07.181000+00:00</td>\n",
       "      <td>achat aiguilles pours coudre les sacs</td>\n",
       "    </tr>\n",
       "    <tr>\n",
       "      <th>2121</th>\n",
       "      <td>achat plastique pour le beurre et caouchouc, e...</td>\n",
       "      <td>21.34</td>\n",
       "      <td>2020-11-17 15:47:48.963000+00:00</td>\n",
       "      <td>achat de plastique et caouchouc pour mettre le...</td>\n",
       "    </tr>\n",
       "  </tbody>\n",
       "</table>\n",
       "</div>"
      ],
      "text/plain": [
       "                                               concepto  cantidad  \\\n",
       "2308                                 Achat de materiaux     45.66   \n",
       "2067                                 Achat de materiaux     45.66   \n",
       "2401                                 Achat de materiaux     24.35   \n",
       "2307                                   Carte d'identité      4.57   \n",
       "2399                                 Achat de materiaux     38.97   \n",
       "2398                                 Achat de materiaux     49.47   \n",
       "2400                                 Achat de materiaux     96.12   \n",
       "2309                                 Achat de materiaux     27.40   \n",
       "2072                         achat matériels des femmes    334.15   \n",
       "2064                                    achats de gants     68.60   \n",
       "1706                               fabrication planches     86.89   \n",
       "2073                achat de chaussutes pour les femmes    114.33   \n",
       "1695                                   achats aiguilles      7.62   \n",
       "2121  achat plastique pour le beurre et caouchouc, e...     21.34   \n",
       "\n",
       "                             creacion  \\\n",
       "2308        2020-02-26 22:58:25+00:00   \n",
       "2067        2020-02-26 23:06:58+00:00   \n",
       "2401        2020-02-29 15:48:56+00:00   \n",
       "2307        2020-03-11 12:59:18+00:00   \n",
       "2399        2020-03-11 20:32:07+00:00   \n",
       "2398        2020-03-12 14:49:57+00:00   \n",
       "2400        2020-03-17 23:24:14+00:00   \n",
       "2309        2020-05-04 08:43:15+00:00   \n",
       "2072 2020-06-27 08:24:40.552000+00:00   \n",
       "2064 2020-08-10 11:16:16.321000+00:00   \n",
       "1706 2020-08-10 11:25:20.363000+00:00   \n",
       "2073 2020-08-10 11:50:48.641000+00:00   \n",
       "1695 2020-08-10 12:10:07.181000+00:00   \n",
       "2121 2020-11-17 15:47:48.963000+00:00   \n",
       "\n",
       "                                            descripcion  \n",
       "2308  Achat d'une bascul de maximum 100 kilos pour p...  \n",
       "2067   Achat piece pour reparation moulin Bessen Gourou  \n",
       "2401  Achat de 10 metres de tissus a 6.000 F le tota...  \n",
       "2307                                   Carte d'identité  \n",
       "2399  Compra de 12 metros de tela en el mercado a 72...  \n",
       "2398  Compra de 56 metros de tela para el pedido de ...  \n",
       "2400                 Couture 421 petits sacs chez Kasim  \n",
       "2309                                      Achat de pneu  \n",
       "2072  achat des sacs pour emballer les amandes de ka...  \n",
       "2064          achats de gants pour les femmes de monnon  \n",
       "1706  fabrication des planches pour poser des sacs d...  \n",
       "2073     achats de chaussures pour les femmes de Monnon  \n",
       "1695              achat aiguilles pours coudre les sacs  \n",
       "2121  achat de plastique et caouchouc pour mettre le...  "
      ]
     },
     "execution_count": 116,
     "metadata": {},
     "output_type": "execute_result"
    }
   ],
   "source": [
    "df_nikarit[(df_nikarit['intervencion']=='Intervention 2020') &\n",
    "         (df_nikarit['categoria']=='Compras de otros aprovisionamientos')\n",
    "          ][['concepto','cantidad','creacion','descripcion']].sort_values('creacion')"
   ]
  },
  {
   "cell_type": "markdown",
   "metadata": {},
   "source": [
    "## ventas"
   ]
  },
  {
   "cell_type": "code",
   "execution_count": 117,
   "metadata": {},
   "outputs": [
    {
     "name": "stderr",
     "output_type": "stream",
     "text": [
      "Downloading: 100%|██████████| 865/865 [00:01<00:00, 514.77rows/s]\n"
     ]
    }
   ],
   "source": [
    "sql = \"\"\"\n",
    "    SELECT *\n",
    "    FROM `oan-nikarit.contoan.sales`\n",
    "\"\"\"\n",
    "\n",
    "# Run a Standard SQL query using the environment's default project\n",
    "df_ventas = pd.read_gbq(sql, dialect='standard')"
   ]
  },
  {
   "cell_type": "code",
   "execution_count": 118,
   "metadata": {},
   "outputs": [
    {
     "name": "stdout",
     "output_type": "stream",
     "text": [
      "<class 'pandas.core.frame.DataFrame'>\n",
      "RangeIndex: 865 entries, 0 to 864\n",
      "Data columns (total 54 columns):\n",
      " #   Column                   Non-Null Count  Dtype              \n",
      "---  ------                   --------------  -----              \n",
      " 0   latitude                 755 non-null    float64            \n",
      " 1   country                  778 non-null    object             \n",
      " 2   packHidra_unit_price     861 non-null    float64            \n",
      " 3   packContigo_total_price  861 non-null    float64            \n",
      " 4   manteca_total_price      863 non-null    float64            \n",
      " 5   total_tax                865 non-null    float64            \n",
      " 6   longitude                755 non-null    float64            \n",
      " 7   client_gender            865 non-null    object             \n",
      " 8   client_last_name         855 non-null    object             \n",
      " 9   product_movement         215 non-null    object             \n",
      " 10  order_id                 865 non-null    object             \n",
      " 11  accounting_item          227 non-null    object             \n",
      " 12  packContigo_nb           861 non-null    float64            \n",
      " 13  total_price              865 non-null    float64            \n",
      " 14  manteca_unit_price       863 non-null    float64            \n",
      " 15  id                       865 non-null    object             \n",
      " 16  packHidra_nb             861 non-null    float64            \n",
      " 17  manteca_nb               863 non-null    float64            \n",
      " 18  gateway                  865 non-null    object             \n",
      " 19  origin                   865 non-null    object             \n",
      " 20  order_status_url         827 non-null    object             \n",
      " 21  packContigo_unit_price   861 non-null    float64            \n",
      " 22  province                 815 non-null    object             \n",
      " 23  close_date               716 non-null    datetime64[ns, UTC]\n",
      " 24  client_email             817 non-null    object             \n",
      " 25  balsamo_unit_price       861 non-null    float64            \n",
      " 26  balsamo_nb               861 non-null    float64            \n",
      " 27  crema_unit_price         862 non-null    float64            \n",
      " 28  creation_date            865 non-null    datetime64[ns, UTC]\n",
      " 29  crema_total_price        862 non-null    float64            \n",
      " 30  client_name              858 non-null    object             \n",
      " 31  zip                      826 non-null    object             \n",
      " 32  subtotal_price           865 non-null    float64            \n",
      " 33  packHidra_total_price    861 non-null    float64            \n",
      " 34  crema_nb                 862 non-null    float64            \n",
      " 35  balsamo_total_price      861 non-null    float64            \n",
      " 36  packBandana_total_price  230 non-null    float64            \n",
      " 37  packAbanico_nb           230 non-null    float64            \n",
      " 38  packBandana_nb           230 non-null    float64            \n",
      " 39  packAbanico_unit_price   230 non-null    float64            \n",
      " 40  bolsa_unit_price         247 non-null    float64            \n",
      " 41  packAbanico_total_price  230 non-null    float64            \n",
      " 42  packBandana_unit_price   230 non-null    float64            \n",
      " 43  client_adresse           215 non-null    object             \n",
      " 44  packNavidad_nb           192 non-null    float64            \n",
      " 45  bolsa_total_price        247 non-null    float64            \n",
      " 46  client_phone             215 non-null    object             \n",
      " 47  packNavidad_total_price  192 non-null    float64            \n",
      " 48  city                     218 non-null    object             \n",
      " 49  packNavidad_unit_price   192 non-null    float64            \n",
      " 50  bolsa_nb                 247 non-null    float64            \n",
      " 51  donation                 865 non-null    float64            \n",
      " 52  buyer_accepts_marketing  225 non-null    object             \n",
      " 53  taxes_included           865 non-null    bool               \n",
      "dtypes: bool(1), datetime64[ns, UTC](2), float64(33), object(18)\n",
      "memory usage: 359.1+ KB\n"
     ]
    }
   ],
   "source": [
    "df_ventas.info()"
   ]
  },
  {
   "cell_type": "code",
   "execution_count": 119,
   "metadata": {},
   "outputs": [],
   "source": [
    "df_ventas=df_ventas.sort_values('creation_date',\n",
    "                                ascending=True).reset_index(drop=True)"
   ]
  },
  {
   "cell_type": "code",
   "execution_count": 120,
   "metadata": {},
   "outputs": [
    {
     "data": {
      "text/plain": [
       "Madrid        80.074488\n",
       "Barcelona      8.379888\n",
       "Valladolid     7.821229\n",
       "Valencia       5.586592\n",
       "Málaga         4.096834\n",
       "A Coruña       3.165736\n",
       "Cantabria      2.979516\n",
       "Asturias       2.793296\n",
       "Granada        2.607076\n",
       "Sevilla        2.234637\n",
       "Name: province, dtype: float64"
      ]
     },
     "execution_count": 120,
     "metadata": {},
     "output_type": "execute_result"
    }
   ],
   "source": [
    "(100*df_ventas['province'].value_counts()/537)[0:10]"
   ]
  },
  {
   "cell_type": "code",
   "execution_count": 121,
   "metadata": {},
   "outputs": [],
   "source": [
    "df_ventas_shopi = df_ventas[df_ventas['origin']=='Shopify'].reset_index(drop=True)"
   ]
  },
  {
   "cell_type": "code",
   "execution_count": 122,
   "metadata": {},
   "outputs": [],
   "source": [
    "shop_url = os.environ['SHOPIFY_ACCESS_URL']\n",
    "dates = ['2019-01-01T00:15:47-04:00','2020-01-01T00:15:47-04:00',\n",
    "         '2020-05-01T00:15:47-04:00','2020-12-10T00:15:47-04:00', '2021-01-10T00:15:47-04:00']\n",
    "l_orders = []\n",
    "\n",
    "for date_min,date_max in zip(dates[:-1],dates[1:]):\n",
    "    orders_url = shop_url+'/orders.json'\n",
    "    r = requests.get(orders_url,\n",
    "                 params={\n",
    "                        'limit':250,\n",
    "                        'status':'any',\n",
    "                         'created_at_max':date_max,\n",
    "                         'created_at_min':date_min\n",
    "                        })\n",
    "    orders = pd.DataFrame(r.json()['orders'])\n",
    "    l_orders.append(orders)\n",
    "df_orders = pd.concat(l_orders,axis=0).reset_index().drop_duplicates(subset=['id'])"
   ]
  },
  {
   "cell_type": "code",
   "execution_count": 123,
   "metadata": {},
   "outputs": [],
   "source": [
    "df_ord = df_orders"
   ]
  },
  {
   "cell_type": "code",
   "execution_count": 124,
   "metadata": {},
   "outputs": [],
   "source": [
    "df_ord['ship_province'] = df_ord['shipping_address'].apply(lambda x: x['province'])"
   ]
  },
  {
   "cell_type": "code",
   "execution_count": 125,
   "metadata": {},
   "outputs": [],
   "source": [
    "df_ord['ship_latitude'] = df_ord['shipping_address'].apply(lambda x: x['latitude'])\n",
    "df_ord['ship_longitude'] = df_ord['shipping_address'].apply(lambda x: x['longitude'])\n"
   ]
  },
  {
   "cell_type": "code",
   "execution_count": 126,
   "metadata": {},
   "outputs": [
    {
     "data": {
      "text/plain": [
       "Madrid        50.86%\n",
       "Barcelona      5.64%\n",
       "Valladolid     5.39%\n",
       "Valencia        3.8%\n",
       "Málaga         2.82%\n",
       "Cantabria      2.08%\n",
       "A Coruña       2.08%\n",
       "Asturias       2.08%\n",
       "Murcia         1.59%\n",
       "Granada        1.59%\n",
       "Name: ship_province, dtype: object"
      ]
     },
     "execution_count": 126,
     "metadata": {},
     "output_type": "execute_result"
    }
   ],
   "source": [
    "(100*df_ord['ship_province'].value_counts()/len(df_ord['ship_province'])).apply(lambda x: str(round(x,2))+'%')[0:10]"
   ]
  },
  {
   "cell_type": "code",
   "execution_count": 127,
   "metadata": {},
   "outputs": [
    {
     "data": {
      "image/png": "[encoded data removed]",
      "text/plain": [
       "<Figure size 432x288 with 1 Axes>"
      ]
     },
     "metadata": {},
     "output_type": "display_data"
    }
   ],
   "source": [
    "fig = plt.figure()\n",
    "ax = fig.add_axes([0,0,1,1])\n",
    "ax.axis('equal')\n",
    "langs = ['Madrid - 5.05€', 'Fuera de Madrid - 6.1€']\n",
    "students = [51.32,100-51.32]\n",
    "ax.pie(students, labels = langs,autopct='%1.2f%%')\n",
    "title= 'TRANSPORTES DE ENVIO 5.5€ \\nPérdidas de {}€ por pedido'.format(abs(round(0.5132*(5.5-5.05)+(1-0.5132)*(5.5-6.1),2)))\n",
    "plt.title(title)\n",
    "plt.show()"
   ]
  },
  {
   "cell_type": "code",
   "execution_count": 128,
   "metadata": {},
   "outputs": [],
   "source": [
    "counts=df_ord['email'].replace('',np.nan).dropna().value_counts().reset_index()\n",
    "counts.columns=['email','counts']"
   ]
  },
  {
   "cell_type": "code",
   "execution_count": 129,
   "metadata": {},
   "outputs": [],
   "source": [
    "email_counts = pd.merge(counts.reset_index(),\n",
    "         df_ord[['email','ship_province']],\n",
    "         on='email',how='left').drop('index',axis=1).drop_duplicates('email')"
   ]
  },
  {
   "cell_type": "code",
   "execution_count": 130,
   "metadata": {},
   "outputs": [
    {
     "data": {
      "text/html": [
       "<div>\n",
       "<style scoped>\n",
       "    .dataframe tbody tr th:only-of-type {\n",
       "        vertical-align: middle;\n",
       "    }\n",
       "\n",
       "    .dataframe tbody tr th {\n",
       "        vertical-align: top;\n",
       "    }\n",
       "\n",
       "    .dataframe thead th {\n",
       "        text-align: right;\n",
       "    }\n",
       "</style>\n",
       "<table border=\"1\" class=\"dataframe\">\n",
       "  <thead>\n",
       "    <tr style=\"text-align: right;\">\n",
       "      <th></th>\n",
       "      <th>Numero de Pedidos x Cliente</th>\n",
       "      <th>Nº de Clientes</th>\n",
       "      <th>% total</th>\n",
       "    </tr>\n",
       "  </thead>\n",
       "  <tbody>\n",
       "    <tr>\n",
       "      <th>1</th>\n",
       "      <td>un solo pedido</td>\n",
       "      <td>594</td>\n",
       "      <td>88.0%</td>\n",
       "    </tr>\n",
       "    <tr>\n",
       "      <th>2</th>\n",
       "      <td>dos pedidos</td>\n",
       "      <td>55</td>\n",
       "      <td>8.15%</td>\n",
       "    </tr>\n",
       "    <tr>\n",
       "      <th>3</th>\n",
       "      <td>tres pedidos</td>\n",
       "      <td>17</td>\n",
       "      <td>2.52%</td>\n",
       "    </tr>\n",
       "    <tr>\n",
       "      <th>4</th>\n",
       "      <td>cuatro pedidos</td>\n",
       "      <td>7</td>\n",
       "      <td>1.04%</td>\n",
       "    </tr>\n",
       "    <tr>\n",
       "      <th>7</th>\n",
       "      <td>cinco pedidos</td>\n",
       "      <td>2</td>\n",
       "      <td>0.3%</td>\n",
       "    </tr>\n",
       "  </tbody>\n",
       "</table>\n",
       "</div>"
      ],
      "text/plain": [
       "  Numero de Pedidos x Cliente  Nº de Clientes % total\n",
       "1              un solo pedido             594   88.0%\n",
       "2                 dos pedidos              55   8.15%\n",
       "3                tres pedidos              17   2.52%\n",
       "4              cuatro pedidos               7   1.04%\n",
       "7               cinco pedidos               2    0.3%"
      ]
     },
     "execution_count": 130,
     "metadata": {},
     "output_type": "execute_result"
    }
   ],
   "source": [
    "counts_total = email_counts['counts'].value_counts().sort_values(ascending=False)\n",
    "counts_perc = (100*email_counts[\n",
    "                                'counts'\n",
    "                              ].value_counts().sort_values(\n",
    "                                                            ascending=False\n",
    "                                                         )\n",
    "                               /len(email_counts['counts'])\n",
    "              ).apply(lambda x:str(round(x,2))+'%')\n",
    "                      \n",
    "labels=['un solo pedido','dos pedidos','tres pedidos','cuatro pedidos','cinco pedidos']\n",
    "pd.DataFrame({'Numero de Pedidos x Cliente':labels,'Nº de Clientes':counts_total,'% total':counts_perc})"
   ]
  },
  {
   "cell_type": "code",
   "execution_count": 131,
   "metadata": {},
   "outputs": [
    {
     "data": {
      "text/plain": [
       "Text(0, 0.5, 'counts')"
      ]
     },
     "execution_count": 131,
     "metadata": {},
     "output_type": "execute_result"
    },
    {
     "data": {
      "image/png": "[encoded data removed]",
      "text/plain": [
       "<Figure size 720x360 with 1 Axes>"
      ]
     },
     "metadata": {
      "needs_background": "light"
     },
     "output_type": "display_data"
    }
   ],
   "source": [
    "fig = plt.figure(figsize=(10,5))\n",
    "sns.countplot('counts',data=email_counts.sort_values('counts'))\n",
    "plt.xticks(rotation=90)\n",
    "plt.title('Numero de pedidos por clientes')\n",
    "plt.xlabel('Nº de pedidos x cliente')\n",
    "plt.ylabel('counts')"
   ]
  },
  {
   "cell_type": "markdown",
   "metadata": {},
   "source": [
    "### con latitud longitud"
   ]
  },
  {
   "cell_type": "code",
   "execution_count": null,
   "metadata": {},
   "outputs": [],
   "source": []
  },
  {
   "cell_type": "code",
   "execution_count": 132,
   "metadata": {},
   "outputs": [
    {
     "data": {
      "text/plain": [
       "1    620\n",
       "2     42\n",
       "3      8\n",
       "4      2\n",
       "8      1\n",
       "dtype: int64"
      ]
     },
     "execution_count": 132,
     "metadata": {},
     "output_type": "execute_result"
    }
   ],
   "source": [
    "df_ord.apply(lambda x: str(x['ship_latitude'])+str(x['ship_longitude']),axis=1\n",
    "            ).replace('nannan',np.nan).dropna().value_counts().value_counts()\n"
   ]
  },
  {
   "cell_type": "markdown",
   "metadata": {},
   "source": [
    "## en cuantas nos comemos el transporte"
   ]
  },
  {
   "cell_type": "code",
   "execution_count": 133,
   "metadata": {},
   "outputs": [
    {
     "data": {
      "text/plain": [
       "Index(['latitude', 'country', 'packHidra_unit_price',\n",
       "       'packContigo_total_price', 'manteca_total_price', 'total_tax',\n",
       "       'longitude', 'client_gender', 'client_last_name', 'product_movement',\n",
       "       'order_id', 'accounting_item', 'packContigo_nb', 'total_price',\n",
       "       'manteca_unit_price', 'id', 'packHidra_nb', 'manteca_nb', 'gateway',\n",
       "       'origin', 'order_status_url', 'packContigo_unit_price', 'province',\n",
       "       'close_date', 'client_email', 'balsamo_unit_price', 'balsamo_nb',\n",
       "       'crema_unit_price', 'creation_date', 'crema_total_price', 'client_name',\n",
       "       'zip', 'subtotal_price', 'packHidra_total_price', 'crema_nb',\n",
       "       'balsamo_total_price', 'packBandana_total_price', 'packAbanico_nb',\n",
       "       'packBandana_nb', 'packAbanico_unit_price', 'bolsa_unit_price',\n",
       "       'packAbanico_total_price', 'packBandana_unit_price', 'client_adresse',\n",
       "       'packNavidad_nb', 'bolsa_total_price', 'client_phone',\n",
       "       'packNavidad_total_price', 'city', 'packNavidad_unit_price', 'bolsa_nb',\n",
       "       'donation', 'buyer_accepts_marketing', 'taxes_included'],\n",
       "      dtype='object')"
      ]
     },
     "execution_count": 133,
     "metadata": {},
     "output_type": "execute_result"
    }
   ],
   "source": [
    "df_ventas.columns"
   ]
  },
  {
   "cell_type": "code",
   "execution_count": 134,
   "metadata": {},
   "outputs": [
    {
     "name": "stdout",
     "output_type": "stream",
     "text": [
      "54.0\n",
      "44.0\n"
     ]
    },
    {
     "data": {
      "image/png": "[encoded data removed]",
      "text/plain": [
       "<Figure size 432x288 with 1 Axes>"
      ]
     },
     "metadata": {
      "needs_background": "light"
     },
     "output_type": "display_data"
    }
   ],
   "source": [
    "thres = df_ventas['total_price'].quantile(0.99)\n",
    "sns.boxenplot(x=df_ventas[df_ventas['total_price']<thres]['total_price'])\n",
    "print(df_ventas['total_price'].quantile(0.90))\n",
    "print(df_ventas['total_price'].quantile(0.75))\n",
    "plt.show()"
   ]
  },
  {
   "cell_type": "code",
   "execution_count": 135,
   "metadata": {},
   "outputs": [
    {
     "data": {
      "text/plain": [
       "Text(0.5, 1.0, 'Histograma de precios/ingresos de los pedidos\\n (sin right_outliers)')"
      ]
     },
     "execution_count": 135,
     "metadata": {},
     "output_type": "execute_result"
    },
    {
     "data": {
      "image/png": "[encoded data removed]",
      "text/plain": [
       "<Figure size 1440x720 with 1 Axes>"
      ]
     },
     "metadata": {
      "needs_background": "light"
     },
     "output_type": "display_data"
    }
   ],
   "source": [
    "thres = df_ventas['total_price'].quantile(0.98)\n",
    "#total_price=df_ventas[df_ventas['total_price']<thres]['total_price']\n",
    "df_ventas[df_ventas['total_price']<40]['total_price'].hist(bins=np.arange(0,41,2),figsize=(20,10))\n",
    "df_ventas[df_ventas['total_price']>40]['total_price'].hist(bins=np.arange(40,80,2),figsize=(20,10))\n",
    "plt.xlabel('Precio/Ingreso del pedido',fontsize=19)\n",
    "plt.ylabel('Nº de pedidos',fontsize=19)\n",
    "plt.plot(40*np.ones(10),30*np.arange(10),color='r')\n",
    "plt.text(40,150,'+ de 40€ de pedido\\n -->\\n -->\\n -->',fontsize=16,color='r')\n",
    "plt.title('Histograma de precios/ingresos de los pedidos\\n (sin right_outliers)',fontsize=25)"
   ]
  },
  {
   "cell_type": "code",
   "execution_count": 136,
   "metadata": {},
   "outputs": [
    {
     "data": {
      "text/plain": [
       "0.67"
      ]
     },
     "execution_count": 136,
     "metadata": {},
     "output_type": "execute_result"
    }
   ],
   "source": [
    "thres=40\n",
    "len(df_ventas)\n",
    "menores = round(len(df_ventas[df_ventas['total_price']<thres]['total_price'])/len(df_ventas),2)\n",
    "menores"
   ]
  },
  {
   "cell_type": "code",
   "execution_count": 137,
   "metadata": {},
   "outputs": [
    {
     "data": {
      "text/plain": [
       "0.33"
      ]
     },
     "execution_count": 137,
     "metadata": {},
     "output_type": "execute_result"
    }
   ],
   "source": [
    "mayores = round(len(df_ventas[df_ventas['total_price']>=thres]['total_price'])/len(df_ventas),2)\n",
    "mayores"
   ]
  },
  {
   "cell_type": "code",
   "execution_count": 138,
   "metadata": {},
   "outputs": [
    {
     "data": {
      "image/png": "[encoded data removed]",
      "text/plain": [
       "<Figure size 432x288 with 1 Axes>"
      ]
     },
     "metadata": {},
     "output_type": "display_data"
    }
   ],
   "source": [
    "fig = plt.figure()\n",
    "ax = fig.add_axes([0,0,1,1])\n",
    "ax.axis('equal')\n",
    "langs = ['Pedidos <40€ (menores)', 'Pedidos >40€ (mayores)']\n",
    "students = [menores,mayores]\n",
    "ax.pie(students, labels = langs,autopct='%1.2f%%')\n",
    "title= '% de pedidos mayores de 40€\\n total nº pedidos: {}'.format(len(df_ventas))\n",
    "plt.title(title)\n",
    "plt.show()"
   ]
  },
  {
   "cell_type": "code",
   "execution_count": 139,
   "metadata": {},
   "outputs": [],
   "source": [
    "ventas_cols = df_ventas.columns"
   ]
  },
  {
   "cell_type": "code",
   "execution_count": 140,
   "metadata": {},
   "outputs": [],
   "source": [
    "nb = [col for col in ventas_cols if 'nb' in col]"
   ]
  },
  {
   "cell_type": "code",
   "execution_count": 141,
   "metadata": {},
   "outputs": [],
   "source": [
    "df_ventas.fillna(0.0,inplace=True)"
   ]
  },
  {
   "cell_type": "code",
   "execution_count": 142,
   "metadata": {},
   "outputs": [
    {
     "data": {
      "text/plain": [
       "0.0_cre||0.0_bal||0.0_mant||1.0_packH||0.0_packC||0.0_packN    300\n",
       "0.0_cre||0.0_bal||1.0_mant||0.0_packH||0.0_packC||0.0_packN     55\n",
       "0.0_cre||0.0_bal||0.0_mant||0.0_packH||0.0_packC||2.0_packN     52\n",
       "0.0_cre||0.0_bal||0.0_mant||3.0_packH||0.0_packC||0.0_packN     42\n",
       "0.0_cre||0.0_bal||0.0_mant||0.0_packH||0.0_packC||1.0_packN     40\n",
       "0.0_cre||0.0_bal||0.0_mant||2.0_packH||0.0_packC||0.0_packN     37\n",
       "0.0_cre||0.0_bal||2.0_mant||0.0_packH||0.0_packC||0.0_packN     25\n",
       "0.0_cre||0.0_bal||1.0_mant||2.0_packH||0.0_packC||0.0_packN     18\n",
       "0.0_cre||0.0_bal||3.0_mant||0.0_packH||0.0_packC||0.0_packN     17\n",
       "0.0_cre||0.0_bal||1.0_mant||1.0_packH||0.0_packC||0.0_packN     13\n",
       "0.0_cre||0.0_bal||0.0_mant||4.0_packH||0.0_packC||0.0_packN     11\n",
       "0.0_cre||0.0_bal||5.0_mant||0.0_packH||0.0_packC||0.0_packN     11\n",
       "0.0_cre||0.0_bal||6.0_mant||0.0_packH||0.0_packC||0.0_packN     11\n",
       "0.0_cre||0.0_bal||0.0_mant||0.0_packH||0.0_packC||4.0_packN     10\n",
       "0.0_cre||0.0_bal||0.0_mant||0.0_packH||0.0_packC||3.0_packN      8\n",
       "0.0_cre||1.0_bal||1.0_mant||0.0_packH||0.0_packC||0.0_packN      8\n",
       "0.0_cre||1.0_bal||2.0_mant||0.0_packH||0.0_packC||0.0_packN      8\n",
       "1.0_cre||0.0_bal||0.0_mant||2.0_packH||0.0_packC||0.0_packN      7\n",
       "0.0_cre||0.0_bal||3.0_mant||1.0_packH||0.0_packC||0.0_packN      6\n",
       "0.0_cre||0.0_bal||0.0_mant||0.0_packH||0.0_packC||0.0_packN      6\n",
       "dtype: int64"
      ]
     },
     "execution_count": 142,
     "metadata": {},
     "output_type": "execute_result"
    }
   ],
   "source": [
    "df_ventas.apply(lambda x:\n",
    "                ((str(x['crema_nb'])+'_cre||'\n",
    "                 )+(str(x['balsamo_nb'])+'_bal||'\n",
    "                 )+(str(x['manteca_nb'])+'_mant||'\n",
    "                 )+(str(x['packHidra_nb'])+'_packH||'\n",
    "                 )+(str(x['packContigo_nb'])+'_packC||'\n",
    "                 )+(str(x['packNavidad_nb'])+'_packN'\n",
    "                 )\n",
    "                 ),axis=1\n",
    "               ).value_counts()[0:20]"
   ]
  },
  {
   "cell_type": "code",
   "execution_count": 143,
   "metadata": {},
   "outputs": [
    {
     "data": {
      "text/plain": [
       "0      16.00\n",
       "1      28.00\n",
       "2      21.00\n",
       "3      16.00\n",
       "4      11.00\n",
       "       ...  \n",
       "860    38.90\n",
       "861    21.90\n",
       "862    12.95\n",
       "863     8.45\n",
       "864     6.45\n",
       "Name: subtotal_price, Length: 865, dtype: float64"
      ]
     },
     "execution_count": 143,
     "metadata": {},
     "output_type": "execute_result"
    }
   ],
   "source": [
    "df_ventas['subtotal_price']"
   ]
  },
  {
   "cell_type": "code",
   "execution_count": 144,
   "metadata": {},
   "outputs": [
    {
     "data": {
      "text/plain": [
       "Text(0, 0.5, 'precios')"
      ]
     },
     "execution_count": 144,
     "metadata": {},
     "output_type": "execute_result"
    },
    {
     "data": {
      "image/png": "[encoded data removed]",
      "text/plain": [
       "<Figure size 432x288 with 1 Axes>"
      ]
     },
     "metadata": {
      "needs_background": "light"
     },
     "output_type": "display_data"
    }
   ],
   "source": [
    "#precios y demanda gráficos\n",
    "demand_plot = df_ventas[df_ventas['subtotal_price']<100]['subtotal_price'].value_counts().reset_index()\n",
    "sns.scatterplot(x='subtotal_price',y='index',data=demand_plot)\n",
    "plt.xlabel('demanda')\n",
    "plt.ylabel('precios')"
   ]
  },
  {
   "cell_type": "markdown",
   "metadata": {},
   "source": [
    "## HOW MUCH MONEY DO WE LOOSE"
   ]
  },
  {
   "cell_type": "code",
   "execution_count": 145,
   "metadata": {},
   "outputs": [
    {
     "name": "stdout",
     "output_type": "stream",
     "text": [
      "91.39999999999964\n",
      "839\n"
     ]
    },
    {
     "data": {
      "text/plain": [
       "23876.85"
      ]
     },
     "execution_count": 145,
     "metadata": {},
     "output_type": "execute_result"
    }
   ],
   "source": [
    "thres = df_ventas['subtotal_price'].quantile(0.97)\n",
    "print(thres)\n",
    "total_price=df_ventas[df_ventas['subtotal_price']<thres]['subtotal_price']\n",
    "print(len(total_price))\n",
    "total_revenue=total_price.sum()\n",
    "total_revenue"
   ]
  },
  {
   "cell_type": "code",
   "execution_count": 146,
   "metadata": {},
   "outputs": [
    {
     "data": {
      "text/plain": [
       "1166.2099999999998"
      ]
     },
     "execution_count": 146,
     "metadata": {},
     "output_type": "execute_result"
    }
   ],
   "source": [
    "thres=40\n",
    "lost_transport=5.56*0.25*len(total_price)\n",
    "lost_transport"
   ]
  },
  {
   "cell_type": "code",
   "execution_count": 147,
   "metadata": {},
   "outputs": [
    {
     "data": {
      "text/plain": [
       "Text(0, 0.5, '€')"
      ]
     },
     "execution_count": 147,
     "metadata": {},
     "output_type": "execute_result"
    },
    {
     "data": {
      "image/png": "[encoded data removed]",
      "text/plain": [
       "<Figure size 432x288 with 1 Axes>"
      ]
     },
     "metadata": {
      "needs_background": "light"
     },
     "output_type": "display_data"
    }
   ],
   "source": [
    "labels=['total_revenue\\n{}€'.format(round(total_revenue,2)),\n",
    "        'lost_transport\\n{}€'.format(round(lost_transport,2))\n",
    "                                  ]\n",
    "bar_to_plot = pd.DataFrame({'lab':labels,\n",
    "                            'val':[total_revenue,lost_transport]})\n",
    "ax = bar_to_plot.plot(x='lab', y='val', kind='bar')\n",
    "ax.get_legend().remove()\n",
    "ax.set_title(\n",
    "    'Las pérdidas por transporte representan un:\\n {}% de las ventas'.format(\n",
    "                            round(100*(lost_transport/total_revenue),2)),\n",
    "    fontsize=15\n",
    "        )\n",
    "ax.set_xlabel('')\n",
    "plt.xticks(fontsize=14)\n",
    "ax.set_ylabel('€',fontsize=14)"
   ]
  },
  {
   "cell_type": "markdown",
   "metadata": {},
   "source": [
    "### comisiones financieras"
   ]
  },
  {
   "cell_type": "code",
   "execution_count": 148,
   "metadata": {},
   "outputs": [],
   "source": [
    "def comisiones(x):\n",
    "    gateway = x['gateway']\n",
    "    if gateway== 'shopify_payments':\n",
    "        return x['total_price']*0.021+0.25\n",
    "    elif gateway== 'paypal':\n",
    "        return x['total_price']*0.019+0.35\n",
    "    else:\n",
    "        print('error')\n",
    "        print(gateway)\n",
    "    return 0"
   ]
  },
  {
   "cell_type": "code",
   "execution_count": 149,
   "metadata": {},
   "outputs": [
    {
     "data": {
      "text/plain": [
       "824.75638"
      ]
     },
     "execution_count": 149,
     "metadata": {},
     "output_type": "execute_result"
    }
   ],
   "source": [
    "#comisiones\n",
    "df_ventas_shop = df_ventas[\n",
    "                           #(df_ventas['origin'] != 'Contoan') &\n",
    "                           #(df_ventas['gateway'] != 'shopify_payments')]\n",
    "                           #(df_ventas['gateway'] != 'paypal')]\n",
    "                          (df_ventas['origin'] != 'Contoan')]\n",
    "total_comisiones=df_ventas_shop.apply(lambda x: comisiones(x),axis=1).sum()\n",
    "total_comisiones"
   ]
  },
  {
   "cell_type": "code",
   "execution_count": 150,
   "metadata": {},
   "outputs": [
    {
     "data": {
      "text/plain": [
       "26452.85"
      ]
     },
     "execution_count": 150,
     "metadata": {},
     "output_type": "execute_result"
    }
   ],
   "source": [
    "total_sin_trans = df_ventas_shop['subtotal_price'].sum()\n",
    "total_sin_trans"
   ]
  },
  {
   "cell_type": "code",
   "execution_count": 151,
   "metadata": {},
   "outputs": [
    {
     "data": {
      "text/plain": [
       "3.1178356207365185"
      ]
     },
     "execution_count": 151,
     "metadata": {},
     "output_type": "execute_result"
    }
   ],
   "source": [
    "100*total_comisiones/total_sin_trans"
   ]
  },
  {
   "cell_type": "code",
   "execution_count": 152,
   "metadata": {},
   "outputs": [
    {
     "data": {
      "text/plain": [
       "Text(0, 0.5, '€')"
      ]
     },
     "execution_count": 152,
     "metadata": {},
     "output_type": "execute_result"
    },
    {
     "data": {
      "image/png": "[encoded data removed]",
      "text/plain": [
       "<Figure size 432x288 with 1 Axes>"
      ]
     },
     "metadata": {
      "needs_background": "light"
     },
     "output_type": "display_data"
    }
   ],
   "source": [
    "labels=['ingresos\\n{}€'.format(round(total_sin_trans,2)),\n",
    "        'comisiones\\n{}€'.format(round(total_comisiones,2))\n",
    "                                  ]\n",
    "bar_to_plot = pd.DataFrame({'lab':labels,\n",
    "                            'val':[total_sin_trans,total_comisiones]})\n",
    "ax = bar_to_plot.plot(x='lab', y='val', kind='bar')\n",
    "ax.get_legend().remove()\n",
    "ax.set_title(\n",
    "    'Las pérdidas por comisiones financieras representan un:\\n {}% de las ventas'.format(\n",
    "                            round(100*total_comisiones/total_sin_trans,2)),\n",
    "    fontsize=15\n",
    "        )\n",
    "ax.set_xlabel('')\n",
    "plt.xticks(fontsize=14)\n",
    "ax.set_ylabel('€',fontsize=14)"
   ]
  },
  {
   "cell_type": "markdown",
   "metadata": {},
   "source": [
    "Etiquetas (x2)\t\t0.13 €\n",
    "Envase+envasado+materia prima\t\t1.16 €\n",
    "Cajas\t\t0.32 €"
   ]
  },
  {
   "cell_type": "code",
   "execution_count": 153,
   "metadata": {},
   "outputs": [
    {
     "data": {
      "text/plain": [
       "<matplotlib.legend.Legend at 0x7f84e6943130>"
      ]
     },
     "execution_count": 153,
     "metadata": {},
     "output_type": "execute_result"
    },
    {
     "data": {
      "image/png": "[encoded data removed]",
      "text/plain": [
       "<Figure size 432x288 with 1 Axes>"
      ]
     },
     "metadata": {
      "needs_background": "light"
     },
     "output_type": "display_data"
    }
   ],
   "source": [
    "#MANTECAS\n",
    "fig = plt.figure()\n",
    "ax = fig.add_axes((1,1,1,1))\n",
    "precio=8\n",
    "width=0.1\n",
    "#comisiones\n",
    "p1 = ax.barh([1],[precio],width,label='precio: {}'.format(precio))\n",
    "\n",
    "#IVA\n",
    "iva=round(precio*(1-1/1.21),2)\n",
    "p2 = ax.barh([1],[iva],width,left=0,label='iva: {}'.format(iva))\n",
    "\n",
    "#ENVASADO\n",
    "envasado=1.16\n",
    "left=iva\n",
    "p3 = ax.barh([1],[envasado],width,left=left,label='envasado: {}'.format(envasado))\n",
    "\n",
    "\n",
    "#COSTE MANTECA\n",
    "manteca=0.58\n",
    "left=left+envasado\n",
    "p3 = ax.barh([1],[manteca],width,left=left,label='manteca: {}'.format(manteca))\n",
    "\n",
    "\n",
    "#transporte gratuito y pedidos fuera de madrid\n",
    "transporte=round(precio*0.0586+0.06,2)\n",
    "left=left+manteca\n",
    "p4 = ax.barh([1],[transporte],width,left=left,label='transporte: {}'.format(transporte))\n",
    "\n",
    "#cajas\n",
    "cajas=0.32\n",
    "left=left+transporte\n",
    "p6 = ax.barh([1],[cajas],width,left=left,label='cajas: {}'.format(cajas))\n",
    "\n",
    "#comisiones\n",
    "comisiones=round(precio*0.033,2)\n",
    "left=left+cajas\n",
    "p5 = ax.barh([1],[comisiones],width,left=left,label='comisiones: {}'.format(comisiones))\n",
    "\n",
    "#etiquetas\n",
    "etiquetas=0.13\n",
    "left=left+comisiones\n",
    "p7 = ax.barh([1],[etiquetas],width,left=left,label='etiquetas: {}'.format(etiquetas))\n",
    "\n",
    "#margen\n",
    "left=left+etiquetas\n",
    "margen=precio-left\n",
    "p8 = ax.barh([0.8],[margen],width,left=left,label='margen: {}'.format(margen))\n",
    "\n",
    "costes_pack1=etiquetas+envasado+manteca\n",
    "\n",
    "perc_margen = round(100*margen/precio,2)\n",
    "\n",
    "text='MARGENES\\nMANTECA DE KARITE\\n{}% (8) = {}€'.format(perc_margen,margen)\n",
    "plt.text(1,1.4,text,fontsize=14)\n",
    "\n",
    "plt.ylim(0.6,1.6)\n",
    "ax.set_yticks([])\n",
    "ax.spines['left'].set_color('none')\n",
    "ax.spines['right'].set_color('none')\n",
    "ax.spines['top'].set_color('none')\n",
    "plt.legend()"
   ]
  },
  {
   "cell_type": "markdown",
   "metadata": {},
   "source": [
    "### CREMAS"
   ]
  },
  {
   "cell_type": "code",
   "execution_count": 154,
   "metadata": {},
   "outputs": [
    {
     "data": {
      "text/plain": [
       "<matplotlib.legend.Legend at 0x7f84e692ca00>"
      ]
     },
     "execution_count": 154,
     "metadata": {},
     "output_type": "execute_result"
    },
    {
     "data": {
      "image/png": "[encoded data removed]",
      "text/plain": [
       "<Figure size 432x288 with 1 Axes>"
      ]
     },
     "metadata": {
      "needs_background": "light"
     },
     "output_type": "display_data"
    }
   ],
   "source": [
    "#CREMAS\n",
    "fig = plt.figure()\n",
    "ax = fig.add_axes((1,1,1,1))\n",
    "precio=6\n",
    "width=0.1\n",
    "#comisiones\n",
    "p1 = ax.barh([1],[precio],width,label='precio: {}'.format(precio))\n",
    "\n",
    "#IVA\n",
    "iva=round(precio*(1-1/1.21),2)\n",
    "p2 = ax.barh([1],[iva],width,left=0,label='iva: {}'.format(iva))\n",
    "\n",
    "#ENVASADO\n",
    "envasado=2.27\n",
    "left=iva\n",
    "p3 = ax.barh([1],[envasado],width,left=left,label='envasado: {}'.format(envasado))\n",
    "env2=envasado\n",
    "\n",
    "\n",
    "#transporte gratuito y pedidos fuera de madrid\n",
    "transporte=round(precio*0.0586+0.06,2)\n",
    "left=left+envasado\n",
    "p4 = ax.barh([1],[transporte],width,left=left,label='transporte: {}'.format(transporte))\n",
    "\n",
    "#cajas\n",
    "cajas=0.32\n",
    "left=left+transporte\n",
    "p6 = ax.barh([1],[cajas],width,left=left,label='cajas: {}'.format(cajas))\n",
    "\n",
    "#comisiones\n",
    "comisiones=round(precio*0.033,2)\n",
    "left=left+cajas\n",
    "p5 = ax.barh([1],[comisiones],width,left=left,label='comisiones: {}'.format(comisiones))\n",
    "\n",
    "#COSTE MANTECA\n",
    "manteca=0.05\n",
    "left=left+comisiones\n",
    "p3 = ax.barh([1],[manteca],width,left=left,label='manteca: {}'.format(manteca))\n",
    "\n",
    "#margen\n",
    "left=left+manteca\n",
    "margen=round(precio-left,2)\n",
    "p8 = ax.barh([0.8],[margen],width,left=left,label='margen: {}'.format(margen))\n",
    "\n",
    "costes_pack2=envasado+manteca\n",
    "\n",
    "perc_margen = round(100*margen/precio,2)\n",
    "\n",
    "text='MARGENES\\nCREMA DE MANOS\\n{}% (6) = {}€'.format(perc_margen,margen)\n",
    "plt.text(1,1.4,text,fontsize=14)\n",
    "\n",
    "plt.ylim(0.6,1.6)\n",
    "ax.set_yticks([])\n",
    "ax.spines['left'].set_color('none')\n",
    "ax.spines['right'].set_color('none')\n",
    "ax.spines['top'].set_color('none')\n",
    "plt.legend()"
   ]
  },
  {
   "cell_type": "code",
   "execution_count": 155,
   "metadata": {},
   "outputs": [
    {
     "data": {
      "text/plain": [
       "<matplotlib.legend.Legend at 0x7f84e6901a30>"
      ]
     },
     "execution_count": 155,
     "metadata": {},
     "output_type": "execute_result"
    },
    {
     "data": {
      "image/png": "[encoded data removed]",
      "text/plain": [
       "<Figure size 432x288 with 1 Axes>"
      ]
     },
     "metadata": {
      "needs_background": "light"
     },
     "output_type": "display_data"
    }
   ],
   "source": [
    "#BALSAMOS\n",
    "fig = plt.figure()\n",
    "ax = fig.add_axes((1,1,1,1))\n",
    "precio=4\n",
    "width=0.1\n",
    "#comisiones\n",
    "p1 = ax.barh([1],[precio],width,label='precio: {}'.format(precio))\n",
    "\n",
    "#IVA\n",
    "iva=round(precio*(1-1/1.21),2)\n",
    "p2 = ax.barh([1],[iva],width,left=0,label='iva: {}'.format(iva))\n",
    "\n",
    "#ENVASADO\n",
    "envasado=1.12\n",
    "left=iva\n",
    "p3 = ax.barh([1],[envasado],width,left=left,label='envasado: {}'.format(envasado))\n",
    "env3=envasado\n",
    "\n",
    "\n",
    "#transporte gratuito y pedidos fuera de madrid\n",
    "transporte=round(precio*0.0586+0.06,2)\n",
    "left=left+envasado\n",
    "p4 = ax.barh([1],[transporte],width,left=left,label='transporte: {}'.format(transporte))\n",
    "\n",
    "#cajas\n",
    "cajas=0.32\n",
    "left=left+transporte\n",
    "p6 = ax.barh([1],[cajas],width,left=left,label='cajas: {}'.format(cajas))\n",
    "\n",
    "#comisiones\n",
    "comisiones=round(precio*0.033,2)\n",
    "left=left+cajas\n",
    "p5 = ax.barh([1],[comisiones],width,left=left,label='comisiones: {}'.format(comisiones))\n",
    "\n",
    "#etiquetas\n",
    "etiquetas=0.1\n",
    "left=left+comisiones\n",
    "p7 = ax.barh([1],[etiquetas],width,left=left,label='etiquetas: {}'.format(etiquetas))\n",
    "\n",
    "#COSTE MANTECA\n",
    "manteca=0.05\n",
    "left=left+etiquetas\n",
    "p3 = ax.barh([1],[manteca],width,left=left,label='manteca: {}'.format(manteca))\n",
    "\n",
    "#margen\n",
    "left=left+manteca\n",
    "margen=round(precio-left,2)\n",
    "p8 = ax.barh([0.8],[margen],width,left=left,label='margen: {}'.format(margen))\n",
    "\n",
    "costes_pack3=etiquetas+envasado+manteca\n",
    "\n",
    "perc_margen = round(100*margen/precio,2)\n",
    "\n",
    "text='MARGENES\\nBALSAMO\\n{}% (6) = {}€'.format(perc_margen,margen)\n",
    "plt.text(1,1.4,text,fontsize=14)\n",
    "\n",
    "plt.ylim(0.6,1.6)\n",
    "ax.set_yticks([])\n",
    "ax.spines['left'].set_color('none')\n",
    "ax.spines['right'].set_color('none')\n",
    "ax.spines['top'].set_color('none')\n",
    "plt.legend()"
   ]
  },
  {
   "cell_type": "code",
   "execution_count": 156,
   "metadata": {},
   "outputs": [
    {
     "data": {
      "text/plain": [
       "<matplotlib.legend.Legend at 0x7f84e795a0a0>"
      ]
     },
     "execution_count": 156,
     "metadata": {},
     "output_type": "execute_result"
    },
    {
     "data": {
      "image/png": "[encoded data removed]",
      "text/plain": [
       "<Figure size 432x288 with 1 Axes>"
      ]
     },
     "metadata": {
      "needs_background": "light"
     },
     "output_type": "display_data"
    }
   ],
   "source": [
    "#PACK + HIDRATADA\n",
    "fig = plt.figure()\n",
    "ax = fig.add_axes((1,1,1,1))\n",
    "precio=17\n",
    "width=0.1\n",
    "#precio\n",
    "p1 = ax.barh([1],[precio],width,label='precio: {}'.format(precio))\n",
    "\n",
    "#IVA\n",
    "iva=round(precio*(1-1/1.21),2)\n",
    "p2 = ax.barh([1],[iva],width,left=0,label='iva: {}'.format(iva))\n",
    "\n",
    "#ENVASADO Y MANTECA\n",
    "costes_pack=costes_pack1+costes_pack2+costes_pack3\n",
    "left=iva\n",
    "p3 = ax.barh([1],[costes_pack],width,left=left,label='costes_pack: {}'.format(costes_pack))\n",
    "\n",
    "\n",
    "#transporte gratuito y pedidos fuera de madrid\n",
    "transporte=round(precio*0.0586+0.06,2)\n",
    "left=left+costes_pack\n",
    "p4 = ax.barh([1],[transporte],width,left=left,label='transporte: {}'.format(transporte))\n",
    "\n",
    "#cajas\n",
    "cajas=0.32\n",
    "left=left+transporte\n",
    "p6 = ax.barh([1],[cajas],width,left=left,label='cajas: {}'.format(cajas))\n",
    "\n",
    "#comisiones\n",
    "comisiones=round(precio*0.033,2)\n",
    "left=left+cajas\n",
    "p5 = ax.barh([1],[comisiones],width,left=left,label='comisiones: {}'.format(comisiones))\n",
    "\n",
    "#margen\n",
    "left=left+comisiones\n",
    "margen=round(precio-left,2)\n",
    "p8 = ax.barh([0.8],[margen],width,left=left,label='margen: {}'.format(margen))\n",
    "\n",
    "costes_pack3=etiquetas+envasado+manteca\n",
    "\n",
    "perc_margen = round(100*margen/precio,2)\n",
    "\n",
    "text='MARGENES\\nPACK\\n{}% (6) = {}€'.format(perc_margen,margen)\n",
    "plt.text(1,1.4,text,fontsize=14)\n",
    "\n",
    "plt.ylim(0.6,1.6)\n",
    "ax.set_yticks([])\n",
    "ax.spines['left'].set_color('none')\n",
    "ax.spines['right'].set_color('none')\n",
    "ax.spines['top'].set_color('none')\n",
    "plt.legend()"
   ]
  },
  {
   "cell_type": "code",
   "execution_count": 157,
   "metadata": {},
   "outputs": [
    {
     "data": {
      "text/plain": [
       "<matplotlib.legend.Legend at 0x7f84e989c040>"
      ]
     },
     "execution_count": 157,
     "metadata": {},
     "output_type": "execute_result"
    },
    {
     "data": {
      "image/png": "[encoded data removed]",
      "text/plain": [
       "<Figure size 432x288 with 1 Axes>"
      ]
     },
     "metadata": {
      "needs_background": "light"
     },
     "output_type": "display_data"
    }
   ],
   "source": [
    "#PACK + HIDRATADA\n",
    "fig = plt.figure()\n",
    "ax = fig.add_axes((1,1,1,1))\n",
    "precio=22.5\n",
    "width=0.1\n",
    "#precio\n",
    "p1 = ax.barh([1],[precio],width,label='precio: {}'.format(precio))\n",
    "\n",
    "#IVA\n",
    "iva=round(precio*(1-1/1.21),2)\n",
    "p2 = ax.barh([1],[iva],width,left=0,label='iva: {}'.format(iva))\n",
    "\n",
    "#ENVASADO Y MANTECA\n",
    "costes_pack=costes_pack1+costes_pack2+costes_pack3\n",
    "left=iva\n",
    "p3 = ax.barh([1],[costes_pack],width,left=left,label='costes_pack: {}'.format(costes_pack))\n",
    "\n",
    "\n",
    "#transporte gratuito y pedidos fuera de madrid\n",
    "transporte=round(precio*0.0586+0.06,2)\n",
    "left=left+costes_pack\n",
    "p4 = ax.barh([1],[transporte],width,left=left,label='transporte: {}'.format(transporte))\n",
    "\n",
    "#cajas\n",
    "cajas=0.32\n",
    "left=left+transporte\n",
    "p6 = ax.barh([1],[cajas],width,left=left,label='cajas: {}'.format(cajas))\n",
    "\n",
    "#comisiones\n",
    "comisiones=round(precio*0.033,2)\n",
    "left=left+cajas\n",
    "p5 = ax.barh([1],[comisiones],width,left=left,label='comisiones: {}'.format(comisiones))\n",
    "\n",
    "#margen\n",
    "left=left+comisiones\n",
    "margen=round(precio-left,2)\n",
    "p8 = ax.barh([0.8],[margen],width,left=left,label='margen: {}'.format(margen))\n",
    "\n",
    "costes_pack3=etiquetas+envasado+manteca\n",
    "\n",
    "perc_margen = round(100*margen/precio,2)\n",
    "\n",
    "text='MARGENES\\nPACK MAVIDAD\\n{}% (6) = {}€'.format(perc_margen,margen)\n",
    "plt.text(1,1.4,text,fontsize=14)\n",
    "\n",
    "plt.ylim(0.6,1.6)\n",
    "ax.set_yticks([])\n",
    "ax.spines['left'].set_color('none')\n",
    "ax.spines['right'].set_color('none')\n",
    "ax.spines['top'].set_color('none')\n",
    "plt.legend()"
   ]
  },
  {
   "cell_type": "code",
   "execution_count": 158,
   "metadata": {},
   "outputs": [
    {
     "name": "stdout",
     "output_type": "stream",
     "text": [
      "649\n"
     ]
    },
    {
     "data": {
      "text/plain": [
       "0.0_cre||0.0_bal||0.0_mant||1.0_packH||0.0_packC    0.463790\n",
       "0.0_cre||0.0_bal||0.0_mant||0.0_packH||0.0_packC    0.192604\n",
       "0.0_cre||0.0_bal||1.0_mant||0.0_packH||0.0_packC    0.086287\n",
       "0.0_cre||0.0_bal||0.0_mant||3.0_packH||0.0_packC    0.064715\n",
       "0.0_cre||0.0_bal||0.0_mant||2.0_packH||0.0_packC    0.060092\n",
       "0.0_cre||0.0_bal||2.0_mant||0.0_packH||0.0_packC    0.038521\n",
       "0.0_cre||0.0_bal||1.0_mant||2.0_packH||0.0_packC    0.027735\n",
       "0.0_cre||0.0_bal||3.0_mant||0.0_packH||0.0_packC    0.027735\n",
       "0.0_cre||0.0_bal||1.0_mant||1.0_packH||0.0_packC    0.020031\n",
       "0.0_cre||0.0_bal||5.0_mant||0.0_packH||0.0_packC    0.018490\n",
       "dtype: float64"
      ]
     },
     "execution_count": 158,
     "metadata": {},
     "output_type": "execute_result"
    }
   ],
   "source": [
    "total=df_ventas.apply(lambda x:\n",
    "                ((str(x['crema_nb'])+'_cre||'\n",
    "                 )+(str(x['balsamo_nb'])+'_bal||'\n",
    "                 )+(str(x['manteca_nb'])+'_mant||'\n",
    "                 )+(str(x['packHidra_nb'])+'_packH||'\n",
    "                 )+(str(x['packContigo_nb'])+'_packC'\n",
    "                 )\n",
    "                 ),axis=1\n",
    "               ).value_counts()[0:10].sum()\n",
    "print(total)\n",
    "sales_dist=df_ventas.apply(lambda x:\n",
    "                ((str(x['crema_nb'])+'_cre||'\n",
    "                 )+(str(x['balsamo_nb'])+'_bal||'\n",
    "                 )+(str(x['manteca_nb'])+'_mant||'\n",
    "                 )+(str(x['packHidra_nb'])+'_packH||'\n",
    "                 )+(str(x['packContigo_nb'])+'_packC'\n",
    "                 )\n",
    "                 ),axis=1\n",
    "               ).value_counts()[0:10]/total\n",
    "sales_dist"
   ]
  },
  {
   "cell_type": "markdown",
   "metadata": {},
   "source": [
    "MANTECA: 45.4%\n",
    "CREMA: 28.5%\n",
    "BALSAMO: 32.5%\n",
    "PACK: 39.1%"
   ]
  },
  {
   "cell_type": "code",
   "execution_count": 159,
   "metadata": {},
   "outputs": [
    {
     "data": {
      "text/html": [
       "<div>\n",
       "<style scoped>\n",
       "    .dataframe tbody tr th:only-of-type {\n",
       "        vertical-align: middle;\n",
       "    }\n",
       "\n",
       "    .dataframe tbody tr th {\n",
       "        vertical-align: top;\n",
       "    }\n",
       "\n",
       "    .dataframe thead th {\n",
       "        text-align: right;\n",
       "    }\n",
       "</style>\n",
       "<table border=\"1\" class=\"dataframe\">\n",
       "  <thead>\n",
       "    <tr style=\"text-align: right;\">\n",
       "      <th></th>\n",
       "      <th>ventas mas comunes</th>\n",
       "      <th>mantecas</th>\n",
       "      <th>packs</th>\n",
       "      <th>% recurrencia</th>\n",
       "      <th>margenes</th>\n",
       "    </tr>\n",
       "  </thead>\n",
       "  <tbody>\n",
       "    <tr>\n",
       "      <th>0</th>\n",
       "      <td>1pack</td>\n",
       "      <td>0</td>\n",
       "      <td>1</td>\n",
       "      <td>0.463790</td>\n",
       "      <td>0.3910</td>\n",
       "    </tr>\n",
       "    <tr>\n",
       "      <th>1</th>\n",
       "      <td>1manteca</td>\n",
       "      <td>1</td>\n",
       "      <td>0</td>\n",
       "      <td>0.192604</td>\n",
       "      <td>0.4540</td>\n",
       "    </tr>\n",
       "    <tr>\n",
       "      <th>2</th>\n",
       "      <td>3packs</td>\n",
       "      <td>0</td>\n",
       "      <td>3</td>\n",
       "      <td>0.086287</td>\n",
       "      <td>0.3910</td>\n",
       "    </tr>\n",
       "    <tr>\n",
       "      <th>3</th>\n",
       "      <td>2packs</td>\n",
       "      <td>0</td>\n",
       "      <td>2</td>\n",
       "      <td>0.064715</td>\n",
       "      <td>0.3910</td>\n",
       "    </tr>\n",
       "    <tr>\n",
       "      <th>4</th>\n",
       "      <td>2mantecas</td>\n",
       "      <td>2</td>\n",
       "      <td>0</td>\n",
       "      <td>0.060092</td>\n",
       "      <td>0.4540</td>\n",
       "    </tr>\n",
       "    <tr>\n",
       "      <th>5</th>\n",
       "      <td>1mateca_2packs</td>\n",
       "      <td>1</td>\n",
       "      <td>2</td>\n",
       "      <td>0.038521</td>\n",
       "      <td>0.4120</td>\n",
       "    </tr>\n",
       "    <tr>\n",
       "      <th>6</th>\n",
       "      <td>1mateca_1packs</td>\n",
       "      <td>1</td>\n",
       "      <td>1</td>\n",
       "      <td>0.027735</td>\n",
       "      <td>0.4225</td>\n",
       "    </tr>\n",
       "    <tr>\n",
       "      <th>7</th>\n",
       "      <td>3matecas</td>\n",
       "      <td>3</td>\n",
       "      <td>0</td>\n",
       "      <td>0.027735</td>\n",
       "      <td>0.4540</td>\n",
       "    </tr>\n",
       "    <tr>\n",
       "      <th>8</th>\n",
       "      <td>5matecas</td>\n",
       "      <td>5</td>\n",
       "      <td>0</td>\n",
       "      <td>0.020031</td>\n",
       "      <td>0.4540</td>\n",
       "    </tr>\n",
       "    <tr>\n",
       "      <th>9</th>\n",
       "      <td>4packs</td>\n",
       "      <td>0</td>\n",
       "      <td>4</td>\n",
       "      <td>0.018490</td>\n",
       "      <td>0.3910</td>\n",
       "    </tr>\n",
       "  </tbody>\n",
       "</table>\n",
       "</div>"
      ],
      "text/plain": [
       "  ventas mas comunes  mantecas  packs  % recurrencia  margenes\n",
       "0              1pack         0      1       0.463790    0.3910\n",
       "1           1manteca         1      0       0.192604    0.4540\n",
       "2             3packs         0      3       0.086287    0.3910\n",
       "3             2packs         0      2       0.064715    0.3910\n",
       "4          2mantecas         2      0       0.060092    0.4540\n",
       "5     1mateca_2packs         1      2       0.038521    0.4120\n",
       "6     1mateca_1packs         1      1       0.027735    0.4225\n",
       "7           3matecas         3      0       0.027735    0.4540\n",
       "8           5matecas         5      0       0.020031    0.4540\n",
       "9             4packs         0      4       0.018490    0.3910"
      ]
     },
     "execution_count": 159,
     "metadata": {},
     "output_type": "execute_result"
    }
   ],
   "source": [
    "labels = ['1pack','1manteca','3packs','2packs','2mantecas','1mateca_2packs','1mateca_1packs',\n",
    "         '3matecas','5matecas','4packs']\n",
    "\n",
    "marg = [0.391,0.454,0.391,0.391,0.454,0.412,0.4225,0.454,0.454,0.391] \n",
    "\n",
    "mantecas = [0,1,0,0,2,1,1,3,5,0]\n",
    "packs = [1,0,3,2,0,2,1,0,0,4]\n",
    "\n",
    "margenes = pd.DataFrame({'ventas mas comunes':labels,\n",
    "                         'mantecas':mantecas,\n",
    "                         'packs':packs,\n",
    "                         '% recurrencia':sales_dist,\n",
    "                         'margenes':marg}).reset_index(drop=True)\n",
    "margenes"
   ]
  },
  {
   "cell_type": "code",
   "execution_count": 160,
   "metadata": {},
   "outputs": [],
   "source": [
    "margenes['precio']=margenes['mantecas']*10+margenes['packs']*18"
   ]
  },
  {
   "cell_type": "code",
   "execution_count": 161,
   "metadata": {},
   "outputs": [
    {
     "data": {
      "text/plain": [
       "0.41161171032357474"
      ]
     },
     "execution_count": 161,
     "metadata": {},
     "output_type": "execute_result"
    }
   ],
   "source": [
    "(margenes['margenes']*margenes['% recurrencia']).sum()/margenes['% recurrencia'].sum()"
   ]
  },
  {
   "cell_type": "markdown",
   "metadata": {},
   "source": [
    "# OBJETIVO DE VENTAS"
   ]
  },
  {
   "cell_type": "code",
   "execution_count": 162,
   "metadata": {},
   "outputs": [
    {
     "data": {
      "text/plain": [
       "1486.5389981770336"
      ]
     },
     "execution_count": 162,
     "metadata": {},
     "output_type": "execute_result"
    }
   ],
   "source": [
    "# COSTES FIJOS EN NIKKI 600€\n",
    "600/0.40362210526315795"
   ]
  },
  {
   "cell_type": "code",
   "execution_count": 163,
   "metadata": {},
   "outputs": [
    {
     "data": {
      "text/plain": [
       "17832"
      ]
     },
     "execution_count": 163,
     "metadata": {},
     "output_type": "execute_result"
    }
   ],
   "source": [
    "1486*12"
   ]
  },
  {
   "cell_type": "code",
   "execution_count": 164,
   "metadata": {},
   "outputs": [],
   "source": [
    "margenes['ventas']=margenes['% recurrencia']*1500"
   ]
  },
  {
   "cell_type": "code",
   "execution_count": 165,
   "metadata": {},
   "outputs": [],
   "source": [
    "margenes['beneficios']=margenes['ventas']*margenes['margenes']"
   ]
  },
  {
   "cell_type": "code",
   "execution_count": 166,
   "metadata": {},
   "outputs": [],
   "source": [
    "margenes['packs_total'] = margenes['packs']*margenes['ventas']/(margenes['precio'])"
   ]
  },
  {
   "cell_type": "code",
   "execution_count": 167,
   "metadata": {},
   "outputs": [],
   "source": [
    "margenes['mantecas_total'] =margenes['mantecas']*margenes['ventas']/(margenes['precio'])"
   ]
  },
  {
   "cell_type": "code",
   "execution_count": 168,
   "metadata": {},
   "outputs": [],
   "source": [
    "margenes=margenes.replace(np.nan,0)"
   ]
  },
  {
   "cell_type": "code",
   "execution_count": 169,
   "metadata": {},
   "outputs": [],
   "source": [
    "margenes['mantecas_total'] = margenes['mantecas_total']\n",
    "margenes['packs_total'] = margenes['packs_total']"
   ]
  },
  {
   "cell_type": "code",
   "execution_count": 170,
   "metadata": {},
   "outputs": [],
   "source": [
    "margenes['% recurrencia']=margenes['% recurrencia'].apply(lambda x:str(round(100*x,2))+'%')"
   ]
  },
  {
   "cell_type": "code",
   "execution_count": 171,
   "metadata": {},
   "outputs": [
    {
     "data": {
      "text/html": [
       "<div>\n",
       "<style scoped>\n",
       "    .dataframe tbody tr th:only-of-type {\n",
       "        vertical-align: middle;\n",
       "    }\n",
       "\n",
       "    .dataframe tbody tr th {\n",
       "        vertical-align: top;\n",
       "    }\n",
       "\n",
       "    .dataframe thead th {\n",
       "        text-align: right;\n",
       "    }\n",
       "</style>\n",
       "<table border=\"1\" class=\"dataframe\">\n",
       "  <thead>\n",
       "    <tr style=\"text-align: right;\">\n",
       "      <th></th>\n",
       "      <th>ventas mas comunes</th>\n",
       "      <th>mantecas</th>\n",
       "      <th>packs</th>\n",
       "      <th>% recurrencia</th>\n",
       "      <th>margenes</th>\n",
       "      <th>precio</th>\n",
       "      <th>ventas</th>\n",
       "      <th>beneficios</th>\n",
       "      <th>packs_total</th>\n",
       "      <th>mantecas_total</th>\n",
       "    </tr>\n",
       "  </thead>\n",
       "  <tbody>\n",
       "    <tr>\n",
       "      <th>0</th>\n",
       "      <td>1pack</td>\n",
       "      <td>0</td>\n",
       "      <td>1</td>\n",
       "      <td>46.38%</td>\n",
       "      <td>0.3910</td>\n",
       "      <td>18</td>\n",
       "      <td>695.685670</td>\n",
       "      <td>272.013097</td>\n",
       "      <td>38.649204</td>\n",
       "      <td>0.000000</td>\n",
       "    </tr>\n",
       "    <tr>\n",
       "      <th>1</th>\n",
       "      <td>1manteca</td>\n",
       "      <td>1</td>\n",
       "      <td>0</td>\n",
       "      <td>19.26%</td>\n",
       "      <td>0.4540</td>\n",
       "      <td>10</td>\n",
       "      <td>288.906009</td>\n",
       "      <td>131.163328</td>\n",
       "      <td>0.000000</td>\n",
       "      <td>28.890601</td>\n",
       "    </tr>\n",
       "    <tr>\n",
       "      <th>2</th>\n",
       "      <td>3packs</td>\n",
       "      <td>0</td>\n",
       "      <td>3</td>\n",
       "      <td>8.63%</td>\n",
       "      <td>0.3910</td>\n",
       "      <td>54</td>\n",
       "      <td>129.429892</td>\n",
       "      <td>50.607088</td>\n",
       "      <td>7.190550</td>\n",
       "      <td>0.000000</td>\n",
       "    </tr>\n",
       "    <tr>\n",
       "      <th>3</th>\n",
       "      <td>2packs</td>\n",
       "      <td>0</td>\n",
       "      <td>2</td>\n",
       "      <td>6.47%</td>\n",
       "      <td>0.3910</td>\n",
       "      <td>36</td>\n",
       "      <td>97.072419</td>\n",
       "      <td>37.955316</td>\n",
       "      <td>5.392912</td>\n",
       "      <td>0.000000</td>\n",
       "    </tr>\n",
       "    <tr>\n",
       "      <th>4</th>\n",
       "      <td>2mantecas</td>\n",
       "      <td>2</td>\n",
       "      <td>0</td>\n",
       "      <td>6.01%</td>\n",
       "      <td>0.4540</td>\n",
       "      <td>20</td>\n",
       "      <td>90.138675</td>\n",
       "      <td>40.922958</td>\n",
       "      <td>0.000000</td>\n",
       "      <td>9.013867</td>\n",
       "    </tr>\n",
       "    <tr>\n",
       "      <th>5</th>\n",
       "      <td>1mateca_2packs</td>\n",
       "      <td>1</td>\n",
       "      <td>2</td>\n",
       "      <td>3.85%</td>\n",
       "      <td>0.4120</td>\n",
       "      <td>46</td>\n",
       "      <td>57.781202</td>\n",
       "      <td>23.805855</td>\n",
       "      <td>2.512226</td>\n",
       "      <td>1.256113</td>\n",
       "    </tr>\n",
       "    <tr>\n",
       "      <th>6</th>\n",
       "      <td>1mateca_1packs</td>\n",
       "      <td>1</td>\n",
       "      <td>1</td>\n",
       "      <td>2.77%</td>\n",
       "      <td>0.4225</td>\n",
       "      <td>28</td>\n",
       "      <td>41.602465</td>\n",
       "      <td>17.577042</td>\n",
       "      <td>1.485802</td>\n",
       "      <td>1.485802</td>\n",
       "    </tr>\n",
       "    <tr>\n",
       "      <th>7</th>\n",
       "      <td>3matecas</td>\n",
       "      <td>3</td>\n",
       "      <td>0</td>\n",
       "      <td>2.77%</td>\n",
       "      <td>0.4540</td>\n",
       "      <td>30</td>\n",
       "      <td>41.602465</td>\n",
       "      <td>18.887519</td>\n",
       "      <td>0.000000</td>\n",
       "      <td>4.160247</td>\n",
       "    </tr>\n",
       "    <tr>\n",
       "      <th>8</th>\n",
       "      <td>5matecas</td>\n",
       "      <td>5</td>\n",
       "      <td>0</td>\n",
       "      <td>2.0%</td>\n",
       "      <td>0.4540</td>\n",
       "      <td>50</td>\n",
       "      <td>30.046225</td>\n",
       "      <td>13.640986</td>\n",
       "      <td>0.000000</td>\n",
       "      <td>3.004622</td>\n",
       "    </tr>\n",
       "    <tr>\n",
       "      <th>9</th>\n",
       "      <td>4packs</td>\n",
       "      <td>0</td>\n",
       "      <td>4</td>\n",
       "      <td>1.85%</td>\n",
       "      <td>0.3910</td>\n",
       "      <td>72</td>\n",
       "      <td>27.734977</td>\n",
       "      <td>10.844376</td>\n",
       "      <td>1.540832</td>\n",
       "      <td>0.000000</td>\n",
       "    </tr>\n",
       "  </tbody>\n",
       "</table>\n",
       "</div>"
      ],
      "text/plain": [
       "  ventas mas comunes  mantecas  packs % recurrencia  margenes  precio  \\\n",
       "0              1pack         0      1        46.38%    0.3910      18   \n",
       "1           1manteca         1      0        19.26%    0.4540      10   \n",
       "2             3packs         0      3         8.63%    0.3910      54   \n",
       "3             2packs         0      2         6.47%    0.3910      36   \n",
       "4          2mantecas         2      0         6.01%    0.4540      20   \n",
       "5     1mateca_2packs         1      2         3.85%    0.4120      46   \n",
       "6     1mateca_1packs         1      1         2.77%    0.4225      28   \n",
       "7           3matecas         3      0         2.77%    0.4540      30   \n",
       "8           5matecas         5      0          2.0%    0.4540      50   \n",
       "9             4packs         0      4         1.85%    0.3910      72   \n",
       "\n",
       "       ventas  beneficios  packs_total  mantecas_total  \n",
       "0  695.685670  272.013097    38.649204        0.000000  \n",
       "1  288.906009  131.163328     0.000000       28.890601  \n",
       "2  129.429892   50.607088     7.190550        0.000000  \n",
       "3   97.072419   37.955316     5.392912        0.000000  \n",
       "4   90.138675   40.922958     0.000000        9.013867  \n",
       "5   57.781202   23.805855     2.512226        1.256113  \n",
       "6   41.602465   17.577042     1.485802        1.485802  \n",
       "7   41.602465   18.887519     0.000000        4.160247  \n",
       "8   30.046225   13.640986     0.000000        3.004622  \n",
       "9   27.734977   10.844376     1.540832        0.000000  "
      ]
     },
     "execution_count": 171,
     "metadata": {},
     "output_type": "execute_result"
    }
   ],
   "source": [
    "margenes"
   ]
  },
  {
   "cell_type": "markdown",
   "metadata": {},
   "source": [
    "## 18€ packs y 10€ mantecas"
   ]
  },
  {
   "cell_type": "code",
   "execution_count": 172,
   "metadata": {},
   "outputs": [
    {
     "name": "stdout",
     "output_type": "stream",
     "text": [
      "Estadisticas mensuales\n"
     ]
    },
    {
     "data": {
      "text/plain": [
       "mantecas_total      47.811253\n",
       "packs_total         56.771526\n",
       "ventas            1500.000000\n",
       "beneficios         617.417565\n",
       "dtype: float64"
      ]
     },
     "execution_count": 172,
     "metadata": {},
     "output_type": "execute_result"
    }
   ],
   "source": [
    "print('Estadisticas mensuales')\n",
    "margenes[['mantecas_total','packs_total','ventas','beneficios']].sum()"
   ]
  },
  {
   "cell_type": "code",
   "execution_count": 173,
   "metadata": {},
   "outputs": [
    {
     "name": "stdout",
     "output_type": "stream",
     "text": [
      "Estadisticas diarias\n"
     ]
    },
    {
     "data": {
      "text/plain": [
       "mantecas_total     1.593708\n",
       "packs_total        1.892384\n",
       "ventas            50.000000\n",
       "beneficios        20.580586\n",
       "dtype: float64"
      ]
     },
     "execution_count": 173,
     "metadata": {},
     "output_type": "execute_result"
    }
   ],
   "source": [
    "print('Estadisticas diarias')\n",
    "margenes[['mantecas_total','packs_total','ventas','beneficios']].sum()/30"
   ]
  }
 ],
 "metadata": {
  "kernelspec": {
   "display_name": "Python 3",
   "language": "python",
   "name": "python3"
  },
  "language_info": {
   "codemirror_mode": {
    "name": "ipython",
    "version": 3
   },
   "file_extension": ".py",
   "mimetype": "text/x-python",
   "name": "python",
   "nbconvert_exporter": "python",
   "pygments_lexer": "ipython3",
   "version": "3.8.3"
  }
 },
 "nbformat": 4,
 "nbformat_minor": 2
}

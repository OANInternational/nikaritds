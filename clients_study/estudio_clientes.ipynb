{
 "cells": [
  {
   "cell_type": "markdown",
   "metadata": {
    "colab": {
     "base_uri": "https://localhost:8080/",
     "height": 34
    },
    "colab_type": "code",
    "id": "YLlHkfPNlSv1",
    "outputId": "a97dc925-4566-4442-e73e-fa0f72244536"
   },
   "source": [
    "# IMPORTS"
   ]
  },
  {
   "cell_type": "code",
   "execution_count": 5,
   "metadata": {
    "colab": {},
    "colab_type": "code",
    "id": "9KAdA-R8xKw5"
   },
   "outputs": [],
   "source": [
    "import yaml\n",
    "import firebase_admin\n",
    "import plotly\n",
    "import numpy as np\n",
    "import re\n",
    "\n",
    "import pandas as pd\n",
    "import pandas_gbq\n",
    "\n",
    "from google.cloud import bigquery\n",
    "\n",
    "import geocoder\n",
    "\n",
    "import os\n",
    "\n",
    "import gspread\n",
    "import httplib2\n",
    "import os, io\n",
    "import argparse\n",
    "import auth\n",
    "\n",
    "import unidecode\n",
    "\n",
    "from httplib2 import Http\n",
    "from oauth2client import file,client, tools\n",
    "from googleapiclient import discovery\n",
    "from googleapiclient.http import MediaFileUpload, MediaIoBaseDownload\n",
    "from oauth2client.service_account import ServiceAccountCredentials\n",
    "\n",
    "\n",
    "from fuzzywuzzy import fuzz\n",
    "from fuzzywuzzy import process"
   ]
  },
  {
   "cell_type": "markdown",
   "metadata": {
    "colab_type": "text",
    "id": "RtjMV_OZ_bPM"
   },
   "source": [
    "# ABRIR LAS BBDD"
   ]
  },
  {
   "cell_type": "markdown",
   "metadata": {
    "colab_type": "text",
    "id": "8xW2qPCe_lDT"
   },
   "source": [
    "## OPEN GOOGLE SHEETS"
   ]
  },
  {
   "cell_type": "markdown",
   "metadata": {},
   "source": [
    "## AUTHENTIFICATION"
   ]
  },
  {
   "cell_type": "code",
   "execution_count": 3,
   "metadata": {},
   "outputs": [],
   "source": [
    "SCOPES = ['https://spreadsheets.google.com/feeds',\n",
    "         'https://www.googleapis.com/auth/drive',\n",
    "         'https://www.googleapis.com/auth/drive.file',\n",
    "         'https://www.googleapis.com/auth/spreadsheets.currentonly',\n",
    "         'https://www.googleapis.com/auth/spreadsheets',\n",
    "         'https://www.googleapis.com/auth/presentations',\n",
    "         'https://www.googleapis.com/auth/drive.scripts',\n",
    "         'https://www.googleapis.com/auth/drive.appdata',\n",
    "         'https://www.googleapis.com/auth/drive.metadata'\n",
    "        ]\n",
    "store = file.Storage('/Users/5danalfaro/OAN/credentials/storage.json')\n",
    "creds = store.get()\n",
    "if not creds or creds.invalid:\n",
    "    flow = client.flow_from_clientsecrets('/Users/5danalfaro/OAN/credentials/client_id.json', SCOPES)\n",
    "    creds = tools.run_flow(flow, store)\n",
    "drive_service = discovery.build('drive', 'v3', http=creds.authorize(Http()))\n",
    "sheet_service = discovery.build('sheets', 'v4', http=creds.authorize(Http()))"
   ]
  },
  {
   "cell_type": "markdown",
   "metadata": {},
   "source": [
    "## GOOGLE SHETS IDS"
   ]
  },
  {
   "cell_type": "code",
   "execution_count": 4,
   "metadata": {},
   "outputs": [],
   "source": [
    "spreadsheet_ids = yaml.load( open(\"/Users/5danalfaro/OAN/credentials/clients_sheets_parameters.yaml\", \"r\" ),Loader=yaml.FullLoader)\n",
    "#bombas de 2018, ultima version\n",
    "ID1=str(spreadsheet_ids['web'])"
   ]
  },
  {
   "cell_type": "markdown",
   "metadata": {
    "colab_type": "text",
    "id": "Yzqr9P9nFav0"
   },
   "source": [
    "## get sheets"
   ]
  },
  {
   "cell_type": "code",
   "execution_count": 5,
   "metadata": {
    "colab": {},
    "colab_type": "code",
    "id": "TmlXIbSK__ig"
   },
   "outputs": [],
   "source": [
    "RANGE_NAME = 'Todos'\n",
    "gsheet = sheet_service.spreadsheets().values().get(spreadsheetId=ID1, range=RANGE_NAME).execute()\n",
    "df_clientes_web = pd.DataFrame(gsheet.get('values', [])[1:],columns= gsheet.get('values', [])[0:1][0])"
   ]
  },
  {
   "cell_type": "code",
   "execution_count": 6,
   "metadata": {},
   "outputs": [],
   "source": [
    "#df_clientes_web"
   ]
  },
  {
   "cell_type": "code",
   "execution_count": 7,
   "metadata": {},
   "outputs": [],
   "source": [
    "df_clientes_web['#Manteca']=df_clientes_web['#Manteca'].map(int)\n",
    "df_clientes_web['#Bálsamo labial']=df_clientes_web['#Bálsamo labial'].map(int)\n",
    "df_clientes_web['#Crema de manos']=df_clientes_web['#Crema de manos'].map(int)"
   ]
  },
  {
   "cell_type": "markdown",
   "metadata": {},
   "source": [
    "## FROM BIGQUERY"
   ]
  },
  {
   "cell_type": "code",
   "execution_count": 3,
   "metadata": {},
   "outputs": [],
   "source": [
    "os.environ['GOOGLE_APPLICATION_CREDENTIALS']='/Users/5danalfaro/OAN/credentials/nikaritcloud-05c476a4efcd.json'"
   ]
  },
  {
   "cell_type": "code",
   "execution_count": 6,
   "metadata": {},
   "outputs": [],
   "source": [
    "client = bigquery.Client()"
   ]
  },
  {
   "cell_type": "code",
   "execution_count": 31,
   "metadata": {},
   "outputs": [],
   "source": [
    "query_job = client.query(\"\"\"\n",
    "    SELECT *\n",
    "    FROM nikaritcloud.shopify_clients.clients_main_info\n",
    "\"\"\")\n",
    "\n",
    "results = query_job.result()  # Waits for job to complete."
   ]
  },
  {
   "cell_type": "code",
   "execution_count": 32,
   "metadata": {},
   "outputs": [],
   "source": [
    "df_clientes_web=query_job.to_dataframe()"
   ]
  },
  {
   "cell_type": "code",
   "execution_count": 33,
   "metadata": {},
   "outputs": [
    {
     "data": {
      "text/plain": [
       "Index(['fecha', 'total_price', 'name', 'sex', 'email', 'mantecas', 'cremas',\n",
       "       'balsamos', 'poblacion', 'latitude', 'longitude'],\n",
       "      dtype='object')"
      ]
     },
     "execution_count": 33,
     "metadata": {},
     "output_type": "execute_result"
    }
   ],
   "source": [
    "df_clientes_web.columns"
   ]
  },
  {
   "cell_type": "markdown",
   "metadata": {
    "colab_type": "text",
    "id": "99Z9fXCkZ3yq"
   },
   "source": [
    "### get localisation from geocoder"
   ]
  },
  {
   "cell_type": "code",
   "execution_count": 35,
   "metadata": {
    "colab": {},
    "colab_type": "code",
    "id": "iAo9JCuEd7xS"
   },
   "outputs": [],
   "source": [
    "def get_coor(x,name):\n",
    "    g=geocoder.geonames(x[name]+' Spain',key='5danalfaro')\n",
    "    if g:\n",
    "        return [float(g.lat),float(g.lng)]\n",
    "    else:\n",
    "        return[None,None]"
   ]
  },
  {
   "cell_type": "code",
   "execution_count": 36,
   "metadata": {
    "colab": {},
    "colab_type": "code",
    "id": "pvHHzpoddcoj"
   },
   "outputs": [],
   "source": [
    "#df_clientes_web['coordinates'] = df_clientes_web.apply(lambda x: get_coor(x,'Población destino'),axis=1)\n",
    "df_clientes_web['coordinates'] = df_clientes_web.apply(lambda x: get_coor(x,'poblacion'),axis=1)"
   ]
  },
  {
   "cell_type": "code",
   "execution_count": 37,
   "metadata": {
    "colab": {},
    "colab_type": "code",
    "id": "yz_yRRpEeeAi"
   },
   "outputs": [],
   "source": [
    "df_clientes_web['pob_latitude'] = df_clientes_web.apply(lambda x: x['coordinates'][0],axis=1)"
   ]
  },
  {
   "cell_type": "code",
   "execution_count": 38,
   "metadata": {
    "colab": {},
    "colab_type": "code",
    "id": "GnYy8J4jekv7"
   },
   "outputs": [],
   "source": [
    "df_clientes_web['pob_longitude'] = df_clientes_web.apply(lambda x: x['coordinates'][1],axis=1)"
   ]
  },
  {
   "cell_type": "code",
   "execution_count": 39,
   "metadata": {},
   "outputs": [],
   "source": [
    "l_municipios=pd.read_excel('https://www.ine.es/daco/daco42/codmun/codmun11/11codmun.xls',header=1)['NOMBRE']"
   ]
  },
  {
   "cell_type": "code",
   "execution_count": 40,
   "metadata": {},
   "outputs": [],
   "source": [
    "#df_clientes_web['municipio']=df_clientes_web['Población destino'].apply(lambda x: \n",
    "#                                                                        process.extractOne(x,l_municipios)[0])\n",
    "#\n",
    "df_clientes_web['municipio']=df_clientes_web['poblacion'].apply(lambda x: \n",
    "                                                                        process.extractOne(x,l_municipios)[0])"
   ]
  },
  {
   "cell_type": "code",
   "execution_count": 41,
   "metadata": {
    "colab": {},
    "colab_type": "code",
    "id": "qb9JrbCUgiqq"
   },
   "outputs": [],
   "source": [
    "#df_web_study=df_clientes_web[['municipio','pob_latitude','pob_longitude',\n",
    "#               'Fecha','#Manteca','#Bálsamo labial','#Crema de manos']]\n",
    "#\n",
    "df_web_study=df_clientes_web[['municipio','pob_latitude','pob_longitude',\n",
    "               'fecha','mantecas','balsamos','cremas','total_price','sex','latitude','longitude']]\n"
   ]
  },
  {
   "cell_type": "markdown",
   "metadata": {},
   "source": [
    "## MAPA DE PEDIDOS"
   ]
  },
  {
   "cell_type": "markdown",
   "metadata": {},
   "source": [
    "## PLOTLY"
   ]
  },
  {
   "cell_type": "code",
   "execution_count": 42,
   "metadata": {},
   "outputs": [],
   "source": [
    "import chart_studio.plotly as py\n",
    "import plotly.graph_objects as go\n",
    "\n",
    "from chart_studio.plotly import plot, iplot"
   ]
  },
  {
   "cell_type": "code",
   "execution_count": 43,
   "metadata": {},
   "outputs": [],
   "source": [
    "plotly_cred = yaml.load( open(\"/Users/5danalfaro/OAN/credentials/plotly_cred.yaml\", \"r\" ),Loader=yaml.FullLoader)\n",
    "#bombas de 2018, ultima version\n",
    "plotly_cred_user=str(plotly_cred['user'])\n",
    "plotly_cred_pass=str(plotly_cred['pass'])"
   ]
  },
  {
   "cell_type": "code",
   "execution_count": 44,
   "metadata": {},
   "outputs": [],
   "source": [
    "py.sign_in(plotly_cred_user, plotly_cred_pass)"
   ]
  },
  {
   "cell_type": "code",
   "execution_count": 45,
   "metadata": {},
   "outputs": [],
   "source": [
    "#df = df_web_study.groupby('municipio').agg({'pob_latitude': 'mean',\n",
    "#                                               'pob_longitude': 'mean',\n",
    "#                                               '#Manteca': 'sum',\n",
    "#                                               '#Bálsamo labial':'sum',\n",
    "#                                               '#Crema de manos':'sum',\n",
    "#                                                  'Fecha':'count'}).reset_index()\n",
    "#\n",
    "df = df_web_study.groupby('municipio').agg({'pob_latitude': 'mean',\n",
    "                                               'pob_longitude': 'mean',\n",
    "                                               'mantecas': 'sum',\n",
    "                                               'balsamos':'sum',\n",
    "                                               'cremas':'sum',\n",
    "                                                  'fecha':'count',\n",
    "                                                'total_price':'sum'}).reset_index()"
   ]
  },
  {
   "cell_type": "code",
   "execution_count": 46,
   "metadata": {
    "code_folding": []
   },
   "outputs": [],
   "source": [
    "#df.columns =  ['poblacion', 'latitude', 'longitude', 'mantecas', 'balsamos',\n",
    "#       'cremas', 'pedidos']\n",
    "#\n",
    "df.columns =  ['poblacion', 'latitude', 'longitude', 'mantecas', 'balsamos',\n",
    "       'cremas', 'pedidos','ingresos']"
   ]
  },
  {
   "cell_type": "code",
   "execution_count": 47,
   "metadata": {},
   "outputs": [],
   "source": [
    "#df['ingresos']=df['mantecas']*8+df['cremas']*6+df['balsamos']*4"
   ]
  },
  {
   "cell_type": "code",
   "execution_count": 48,
   "metadata": {},
   "outputs": [],
   "source": [
    "df=df.sort_values(by='ingresos')"
   ]
  },
  {
   "cell_type": "markdown",
   "metadata": {},
   "source": [
    "Spain lies between latitudes 36° and 44° N, and longitudes 19° W and 5° E. Its Atlantic coast is 710 km (441 mi) long."
   ]
  },
  {
   "cell_type": "code",
   "execution_count": 49,
   "metadata": {},
   "outputs": [
    {
     "data": {
      "text/html": [
       "\n",
       "        <iframe\n",
       "            width=\"100%\"\n",
       "            height=\"525px\"\n",
       "            src=\"https://plot.ly/~5danalfaro/38.embed\"\n",
       "            frameborder=\"0\"\n",
       "            allowfullscreen\n",
       "        ></iframe>\n",
       "        "
      ],
      "text/plain": [
       "<IPython.lib.display.IFrame at 0x126a2c0b8>"
      ]
     },
     "execution_count": 49,
     "metadata": {},
     "output_type": "execute_result"
    }
   ],
   "source": [
    "df['text'] = (df['poblacion'] + '<br>pedidos: ' + df['pedidos'].astype(str)+\n",
    "            ' | mantecas: '+df['mantecas'].astype(str)+' | cremas: '+df['cremas'].astype(str)+\n",
    "             ' | balsamos: '+df['balsamos'].astype(str)\n",
    "             + '<br>ingresos: '+df['ingresos'].astype(str))\n",
    "limits = [(0,20),(20,60),(60,120),(120,200),(200,df.ingresos.max())]\n",
    "colors = [\"rgb(0,116,217)\",\"rgb(255,65,54)\",\"rgb(133,20,75)\",\"rgb(255,133,27)\",\"lightgrey\"]\n",
    "cities = []\n",
    "scale = 50000\n",
    "\n",
    "for i in range(len(limits)):\n",
    "    lim = limits[i]\n",
    "    df_sub = df[(df.ingresos>lim[0]) &\n",
    "                (df.ingresos<=lim[1])]\n",
    "    city = go.Scattergeo(\n",
    "        locationmode = 'ISO-3',\n",
    "        lon = df_sub['longitude'],\n",
    "        lat = df_sub['latitude'],\n",
    "        text = df_sub['text'],\n",
    "        marker = go.scattergeo.Marker(\n",
    "            size = 10*df_sub['pedidos']**1.3,\n",
    "            color = colors[i],\n",
    "            line = go.scattergeo.marker.Line(\n",
    "                width=0.5, color='rgb(40,40,40)'\n",
    "            ),\n",
    "            sizemode = 'area'\n",
    "        ),\n",
    "        name = '{0} - {1}'.format(lim[0],lim[1]) )\n",
    "    cities.append(city)\n",
    "\n",
    "layout = go.Layout(\n",
    "        title = go.layout.Title(\n",
    "            text = ('Ventas online de Nikarit | pedidos: '+str(df.pedidos.sum())+\n",
    "                   '<br>Mantecas: '+str(df.mantecas.sum())+' | Cremas: '+str(df.cremas.sum())+\n",
    "                   ' | Bálsamos: '+str(df.balsamos.sum())+'<br>Ingresos: '+str(df.ingresos.sum())+'€')\n",
    "        ),\n",
    "        showlegend = True,\n",
    "        geo = go.layout.Geo(\n",
    "            scope = 'europe',\n",
    "            projection = go.layout.geo.Projection(\n",
    "                type='mercator'\n",
    "            ),\n",
    "            showland = True,\n",
    "            lataxis_range=[ 36, 44],\n",
    "            lonaxis_range=[ -9.5, 3.3],\n",
    "            landcolor = 'rgb(217, 217, 217)',\n",
    "            subunitwidth=1,\n",
    "            countrywidth=1,\n",
    "            subunitcolor=\"rgb(255, 255, 255)\",\n",
    "            countrycolor=\"rgb(255, 255, 255)\"\n",
    "        ),\n",
    "        annotations=[\n",
    "            dict(\n",
    "                x=1.08,\n",
    "                y=1.12,\n",
    "                align=\"right\",\n",
    "                valign=\"top\",\n",
    "                text='Click en las burbujas <br>para interactuar<br>(rango de ingresos)',\n",
    "                showarrow=False,\n",
    "                xref=\"paper\",\n",
    "                yref=\"paper\",\n",
    "                xanchor=\"center\",\n",
    "                yanchor=\"top\"\n",
    "            ),\n",
    "            dict(\n",
    "                x=0.08,\n",
    "                y=0.15,\n",
    "                align=\"right\",\n",
    "                valign=\"top\",\n",
    "                text='Tamaño de las burbuja: nº de pedidos',\n",
    "                showarrow=False,\n",
    "                xref=\"paper\",\n",
    "                yref=\"paper\",\n",
    "                xanchor=\"center\",\n",
    "                yanchor=\"bottom\"\n",
    "            )\n",
    "    ]\n",
    "    \n",
    "    )\n",
    "\n",
    "fig = go.Figure(data=cities, layout=layout)\n",
    "iplot(fig, filename='clientes_nikarit_municipios')"
   ]
  },
  {
   "cell_type": "markdown",
   "metadata": {},
   "source": [
    "## Histograma por fechas"
   ]
  },
  {
   "cell_type": "code",
   "execution_count": 50,
   "metadata": {},
   "outputs": [],
   "source": [
    "import datetime\n",
    "import matplotlib.pyplot as plt\n",
    "import seaborn as sns"
   ]
  },
  {
   "cell_type": "code",
   "execution_count": 53,
   "metadata": {},
   "outputs": [],
   "source": [
    "#df_clientes_web['Fecha']= df_clientes_web['Fecha'].apply(\n",
    "#    lambda x: datetime.datetime.strptime(x, '%d/%m/%Y %H:%M:%S'))"
   ]
  },
  {
   "cell_type": "code",
   "execution_count": 60,
   "metadata": {},
   "outputs": [],
   "source": [
    "df_clientes_web['mes']=df_clientes_web['fecha'].apply(\n",
    "    lambda x: x.month)"
   ]
  },
  {
   "cell_type": "code",
   "execution_count": 126,
   "metadata": {},
   "outputs": [],
   "source": [
    "#df_by_month=df_clientes_web.groupby('MES').agg({'#Manteca': 'sum',\n",
    "#                                               '#Bálsamo labial':'sum',\n",
    "#                                               '#Crema de manos':'sum',\n",
    "#                                                  'Fecha':'count'}).reset_index()\n",
    "#\n",
    "df_by_month=df_clientes_web.groupby('mes').agg({'mantecas': 'sum',\n",
    "                                               'balsamos':'sum',\n",
    "                                               'cremas':'sum',\n",
    "                                                  'fecha':'count',\n",
    "                                               'total_price':'sum'}).reset_index()"
   ]
  },
  {
   "cell_type": "code",
   "execution_count": 127,
   "metadata": {},
   "outputs": [],
   "source": [
    "df11=df_clientes_web[df_clientes_web.sex=='F'].groupby('mes')['sex'].count()\n",
    "df12=df_clientes_web[df_clientes_web.sex=='M'].groupby('mes')['sex'].count()"
   ]
  },
  {
   "cell_type": "code",
   "execution_count": 128,
   "metadata": {},
   "outputs": [],
   "source": [
    "df11=df11.reset_index()\n",
    "df11.columns=['mes','F']\n",
    "df12=df12.reset_index()\n",
    "df12.columns=['mes','M']"
   ]
  },
  {
   "cell_type": "code",
   "execution_count": 129,
   "metadata": {},
   "outputs": [],
   "source": [
    "df_by_month_sex=pd.merge(df11,df12,on='mes')"
   ]
  },
  {
   "cell_type": "code",
   "execution_count": 130,
   "metadata": {},
   "outputs": [],
   "source": [
    "df_by_month_sex['women']=df_by_month_sex['F']/(df_by_month_sex['F']+df_by_month_sex['M'])"
   ]
  },
  {
   "cell_type": "code",
   "execution_count": 131,
   "metadata": {},
   "outputs": [],
   "source": [
    "df_by_month_sex['men']=df_by_month_sex['M']/(df_by_month_sex['F']+df_by_month_sex['M'])"
   ]
  },
  {
   "cell_type": "code",
   "execution_count": 132,
   "metadata": {},
   "outputs": [],
   "source": [
    "#df_by_month.columns = ['MES', 'mantecas', 'balsamos', 'cremas', 'pedidos']\n",
    "df_by_month.columns = ['mes', 'mantecas', 'balsamos', 'cremas', 'pedidos','ingresos']"
   ]
  },
  {
   "cell_type": "code",
   "execution_count": 63,
   "metadata": {},
   "outputs": [],
   "source": [
    "#df_by_month['MES']=df_by_month['MES'].map(int)"
   ]
  },
  {
   "cell_type": "code",
   "execution_count": 110,
   "metadata": {},
   "outputs": [],
   "source": [
    "#df2 = pd.melt(df_by_month, id_vars=\"MES\", var_name=\"pedido\", value_name=\"n\")\n",
    "df2 = pd.melt(df_by_month[['mes', 'mantecas', 'balsamos', 'cremas', 'pedidos']], id_vars=\"mes\", var_name=\"pedido\", value_name=\"n\")"
   ]
  },
  {
   "cell_type": "code",
   "execution_count": 111,
   "metadata": {},
   "outputs": [],
   "source": [
    "#df_by_month['ingresos']=df_by_month['mantecas']*8+df_by_month['cremas']*6+df_by_month['balsamos']*4"
   ]
  },
  {
   "cell_type": "code",
   "execution_count": 112,
   "metadata": {},
   "outputs": [],
   "source": [
    "#df_by_month=df_by_month.sort_values(by='MES')\n",
    "df_by_month=df_by_month.sort_values(by='mes')"
   ]
  },
  {
   "cell_type": "code",
   "execution_count": 113,
   "metadata": {},
   "outputs": [],
   "source": [
    "df=df_by_month"
   ]
  },
  {
   "cell_type": "code",
   "execution_count": 122,
   "metadata": {},
   "outputs": [
    {
     "data": {
      "image/png": "[encoded data removed]",
      "text/plain": [
       "<Figure size 1440x720 with 2 Axes>"
      ]
     },
     "metadata": {
      "needs_background": "light"
     },
     "output_type": "display_data"
    }
   ],
   "source": [
    "plt.rcParams['figure.figsize'] = 20,10\n",
    "#ax=sns.barplot(x='MES', y='n',hue='pedido',data=df2)\n",
    "ax=sns.barplot(x='mes', y='n',hue='pedido',data=df2)\n",
    "ax.set_ylabel('Nº de Pedidos')\n",
    "ax.grid(axis='y')\n",
    "ax.legend(loc='upper left')\n",
    "ax2 = ax.twinx()\n",
    "#ax2.plot(df_by_month.MES-7,df_by_month.ingresos)\n",
    "ax2.plot(df_by_month.mes-4,df_by_month.ingresos)\n",
    "\n",
    "for ind in df_by_month.index:\n",
    "    ax2.text(df_by_month.loc[ind,'mes']-4,\n",
    "             df_by_month.loc[ind,'ingresos']+50,\n",
    "             str(df_by_month.loc[ind,'ingresos'])+'€',\n",
    "            bbox=dict(boxstyle=\"square\",\n",
    "                   ec=(1., 0.5, 0.5),\n",
    "                   fc=(1., 0.8, 0.8),\n",
    "                   ))\n",
    "\n",
    "ax2.set_ylabel('Ingresos (€)')\n",
    "ax2.legend(loc='upper right')\n",
    "title=('Distribución de Pedidos Web - Nikarit (JUN-NOV) \\n pedidos: '+str(df.pedidos.sum())+\n",
    "       ' | Ingresos: '+str(df.ingresos.sum())+'€'\n",
    "                   '\\nMantecas: '+str(df.mantecas.sum())+' | Cremas: '+str(df.cremas.sum())+\n",
    "                   ' | Bálsamos: '+str(df.balsamos.sum()))\n",
    "plt.title(title)\n",
    "plt.show()"
   ]
  },
  {
   "cell_type": "markdown",
   "metadata": {},
   "source": [
    "## by sex"
   ]
  },
  {
   "cell_type": "code",
   "execution_count": 133,
   "metadata": {},
   "outputs": [],
   "source": [
    "df_by_month_2=pd.merge(df_by_month,df_by_month_sex[['mes','women','men']],on='mes')"
   ]
  },
  {
   "cell_type": "code",
   "execution_count": 135,
   "metadata": {},
   "outputs": [],
   "source": [
    "df_by_month_2['women']=df_by_month_2['women']*df_by_month_2['pedidos']"
   ]
  },
  {
   "cell_type": "code",
   "execution_count": 136,
   "metadata": {},
   "outputs": [],
   "source": [
    "df_by_month_2['men']=df_by_month_2['men']*df_by_month_2['pedidos']"
   ]
  },
  {
   "cell_type": "code",
   "execution_count": 142,
   "metadata": {},
   "outputs": [],
   "source": [
    "df3 = pd.melt(df_by_month_2[['mes', 'women','men']], id_vars='mes', var_name=\"sex\", value_name=\"people\")"
   ]
  },
  {
   "cell_type": "code",
   "execution_count": 143,
   "metadata": {},
   "outputs": [],
   "source": [
    "df4=pd.merge(df2,df3,on='mes')"
   ]
  },
  {
   "cell_type": "code",
   "execution_count": 146,
   "metadata": {},
   "outputs": [
    {
     "data": {
      "image/png": "[encoded data removed]",
      "text/plain": [
       "<Figure size 1440x720 with 1 Axes>"
      ]
     },
     "metadata": {
      "needs_background": "light"
     },
     "output_type": "display_data"
    }
   ],
   "source": [
    "plt.rcParams['figure.figsize'] = 20,10\n",
    "#ax=sns.barplot(x='MES', y='n',hue='pedido',data=df2)\n",
    "ax=sns.barplot(x='mes', y='people',hue='sex',data=df4)\n",
    "ax.set_ylabel('Nº de Pedidos')\n",
    "ax.grid(axis='y')\n",
    "ax.legend(loc='upper right')\n",
    "title=('Distribución de Pedidos Web - Nikarit (JUN-NOV) \\n pedidos: '+str(df.pedidos.sum())+\n",
    "       ' | Ingresos: '+str(df.ingresos.sum())+'€'\n",
    "                   '\\nMantecas: '+str(df.mantecas.sum())+' | Cremas: '+str(df.cremas.sum())+\n",
    "                   ' | Bálsamos: '+str(df.balsamos.sum()))\n",
    "plt.title(title)\n",
    "plt.show()"
   ]
  },
  {
   "cell_type": "markdown",
   "metadata": {},
   "source": [
    "## Any repeaters?"
   ]
  },
  {
   "cell_type": "code",
   "execution_count": 153,
   "metadata": {},
   "outputs": [
    {
     "data": {
      "image/png": "[encoded data removed]",
      "text/plain": [
       "<Figure size 1440x720 with 1 Axes>"
      ]
     },
     "metadata": {
      "needs_background": "light"
     },
     "output_type": "display_data"
    }
   ],
   "source": [
    "df_clientes_web.latitude.value_counts().hist()\n",
    "plt.title('Numero de veces que han comprado nuestros clientes')\n",
    "plt.show()"
   ]
  },
  {
   "cell_type": "code",
   "execution_count": 155,
   "metadata": {},
   "outputs": [
    {
     "data": {
      "text/plain": [
       "40.436196    5\n",
       "40.561735    3\n",
       "40.473831    3\n",
       "40.579572    2\n",
       "40.432438    2\n",
       "            ..\n",
       "40.717197    1\n",
       "42.649089    1\n",
       "40.458405    1\n",
       "43.122006    1\n",
       "43.381134    1\n",
       "Name: latitude, Length: 143, dtype: int64"
      ]
     },
     "execution_count": 155,
     "metadata": {},
     "output_type": "execute_result"
    }
   ],
   "source": [
    "df_clientes_web.latitude.value_counts()"
   ]
  },
  {
   "cell_type": "code",
   "execution_count": null,
   "metadata": {},
   "outputs": [],
   "source": []
  }
 ],
 "metadata": {
  "accelerator": "GPU",
  "colab": {
   "collapsed_sections": [],
   "include_colab_link": true,
   "name": "colab_estructurar_bbdd_y_subir_a_firebase.ipynb",
   "provenance": []
  },
  "kernelspec": {
   "display_name": "Python 3",
   "language": "python",
   "name": "python3"
  },
  "language_info": {
   "codemirror_mode": {
    "name": "ipython",
    "version": 3
   },
   "file_extension": ".py",
   "mimetype": "text/x-python",
   "name": "python",
   "nbconvert_exporter": "python",
   "pygments_lexer": "ipython3",
   "version": "3.7.3"
  }
 },
 "nbformat": 4,
 "nbformat_minor": 1
}

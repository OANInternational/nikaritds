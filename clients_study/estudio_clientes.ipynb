{
 "cells": [
  {
   "cell_type": "markdown",
   "metadata": {
    "colab": {
     "base_uri": "https://localhost:8080/",
     "height": 34
    },
    "colab_type": "code",
    "id": "YLlHkfPNlSv1",
    "outputId": "a97dc925-4566-4442-e73e-fa0f72244536"
   },
   "source": [
    "# IMPORTS"
   ]
  },
  {
   "cell_type": "code",
   "execution_count": 51,
   "metadata": {
    "colab": {},
    "colab_type": "code",
    "id": "9KAdA-R8xKw5"
   },
   "outputs": [],
   "source": [
    "import yaml\n",
    "import firebase_admin\n",
    "import plotly\n",
    "import numpy as np\n",
    "import re\n",
    "\n",
    "import pandas as pd\n",
    "\n",
    "import geocoder\n",
    "\n",
    "\n",
    "import gspread\n",
    "import httplib2\n",
    "import os, io\n",
    "import argparse\n",
    "import auth\n",
    "\n",
    "import unidecode\n",
    "\n",
    "from httplib2 import Http\n",
    "from oauth2client import file,client, tools\n",
    "from googleapiclient import discovery\n",
    "from googleapiclient.http import MediaFileUpload, MediaIoBaseDownload\n",
    "from oauth2client.service_account import ServiceAccountCredentials\n",
    "\n",
    "\n",
    "from fuzzywuzzy import fuzz\n",
    "from fuzzywuzzy import process"
   ]
  },
  {
   "cell_type": "code",
   "execution_count": null,
   "metadata": {},
   "outputs": [],
   "source": [
    "from mpl_toolkits.basemap import Basemap\n",
    "import matplotlib.pyplot as plt"
   ]
  },
  {
   "cell_type": "markdown",
   "metadata": {
    "colab_type": "text",
    "id": "RtjMV_OZ_bPM"
   },
   "source": [
    "# ABRIR LAS BBDD"
   ]
  },
  {
   "cell_type": "markdown",
   "metadata": {
    "colab_type": "text",
    "id": "8xW2qPCe_lDT"
   },
   "source": [
    "## OPEN GOOGLE SHEETS"
   ]
  },
  {
   "cell_type": "markdown",
   "metadata": {},
   "source": [
    "## AUTHENTIFICATION"
   ]
  },
  {
   "cell_type": "code",
   "execution_count": 2,
   "metadata": {},
   "outputs": [],
   "source": [
    "SCOPES = ['https://spreadsheets.google.com/feeds',\n",
    "         'https://www.googleapis.com/auth/drive',\n",
    "         'https://www.googleapis.com/auth/drive.file',\n",
    "         'https://www.googleapis.com/auth/spreadsheets.currentonly',\n",
    "         'https://www.googleapis.com/auth/spreadsheets',\n",
    "         'https://www.googleapis.com/auth/presentations',\n",
    "         'https://www.googleapis.com/auth/drive.scripts',\n",
    "         'https://www.googleapis.com/auth/drive.appdata',\n",
    "         'https://www.googleapis.com/auth/drive.metadata'\n",
    "        ]\n",
    "store = file.Storage('/Users/5danalfaro/OAN/credentials/storage.json')\n",
    "creds = store.get()\n",
    "if not creds or creds.invalid:\n",
    "    flow = client.flow_from_clientsecrets('/Users/5danalfaro/OAN/credentials/client_id.json', SCOPES)\n",
    "    creds = tools.run_flow(flow, store)\n",
    "drive_service = discovery.build('drive', 'v3', http=creds.authorize(Http()))\n",
    "sheet_service = discovery.build('sheets', 'v4', http=creds.authorize(Http()))"
   ]
  },
  {
   "cell_type": "markdown",
   "metadata": {},
   "source": [
    "## GOOGLE SHETS IDS"
   ]
  },
  {
   "cell_type": "code",
   "execution_count": 3,
   "metadata": {},
   "outputs": [],
   "source": [
    "spreadsheet_ids = yaml.load( open(\"/Users/5danalfaro/OAN/credentials/clients_sheets_parameters.yaml\", \"r\" ),Loader=yaml.FullLoader)\n",
    "#bombas de 2018, ultima version\n",
    "ID1=str(spreadsheet_ids['web'])"
   ]
  },
  {
   "cell_type": "markdown",
   "metadata": {
    "colab_type": "text",
    "id": "Yzqr9P9nFav0"
   },
   "source": [
    "## get sheets"
   ]
  },
  {
   "cell_type": "code",
   "execution_count": 5,
   "metadata": {
    "colab": {},
    "colab_type": "code",
    "id": "TmlXIbSK__ig"
   },
   "outputs": [],
   "source": [
    "RANGE_NAME = 'Todos'\n",
    "gsheet = sheet_service.spreadsheets().values().get(spreadsheetId=ID1, range=RANGE_NAME).execute()\n",
    "df_clientes_web = pd.DataFrame(gsheet.get('values', [])[1:],columns= gsheet.get('values', [])[0:1][0])"
   ]
  },
  {
   "cell_type": "code",
   "execution_count": 20,
   "metadata": {},
   "outputs": [],
   "source": [
    "#df_clientes_web"
   ]
  },
  {
   "cell_type": "code",
   "execution_count": 36,
   "metadata": {},
   "outputs": [],
   "source": [
    "df_clientes_web['#Manteca']=df_clientes_web['#Manteca'].map(int)\n",
    "df_clientes_web['#Bálsamo labial']=df_clientes_web['#Bálsamo labial'].map(int)\n",
    "df_clientes_web['#Crema de manos']=df_clientes_web['#Crema de manos'].map(int)"
   ]
  },
  {
   "cell_type": "markdown",
   "metadata": {
    "colab_type": "text",
    "id": "99Z9fXCkZ3yq"
   },
   "source": [
    "### get localisation from geocoder"
   ]
  },
  {
   "cell_type": "code",
   "execution_count": 43,
   "metadata": {
    "colab": {},
    "colab_type": "code",
    "id": "iAo9JCuEd7xS"
   },
   "outputs": [],
   "source": [
    "def get_coor(x):\n",
    "    g=geocoder.geonames(x['Población destino']+' Spain',key='5danalfaro')\n",
    "    return [float(g.lat),float(g.lng)]"
   ]
  },
  {
   "cell_type": "code",
   "execution_count": 44,
   "metadata": {
    "colab": {},
    "colab_type": "code",
    "id": "pvHHzpoddcoj"
   },
   "outputs": [],
   "source": [
    "df_clientes_web['coordinates'] = df_clientes_web.apply(lambda x: get_coor(x),axis=1)"
   ]
  },
  {
   "cell_type": "code",
   "execution_count": 45,
   "metadata": {
    "colab": {},
    "colab_type": "code",
    "id": "yz_yRRpEeeAi"
   },
   "outputs": [],
   "source": [
    "df_clientes_web['latitude'] = df_clientes_web.apply(lambda x: x['coordinates'][0],axis=1)"
   ]
  },
  {
   "cell_type": "code",
   "execution_count": 46,
   "metadata": {
    "colab": {},
    "colab_type": "code",
    "id": "GnYy8J4jekv7"
   },
   "outputs": [],
   "source": [
    "df_clientes_web['longitude'] = df_clientes_web.apply(lambda x: x['coordinates'][1],axis=1)"
   ]
  },
  {
   "cell_type": "code",
   "execution_count": 73,
   "metadata": {},
   "outputs": [],
   "source": [
    "l_municipios=pd.read_excel('https://www.ine.es/daco/daco42/codmun/codmun11/11codmun.xls',header=1)['NOMBRE']"
   ]
  },
  {
   "cell_type": "code",
   "execution_count": 78,
   "metadata": {},
   "outputs": [],
   "source": [
    "df_clientes_web['Poblacion']=df_clientes_web['Población destino'].apply(lambda x: \n",
    "                                                                        process.extractOne(x,l_municipios)[0])"
   ]
  },
  {
   "cell_type": "code",
   "execution_count": 79,
   "metadata": {
    "colab": {},
    "colab_type": "code",
    "id": "qb9JrbCUgiqq"
   },
   "outputs": [],
   "source": [
    "df_web_study=df_clientes_web[['Poblacion','latitude','longitude',\n",
    "               'Fecha','#Manteca','#Bálsamo labial','#Crema de manos']]\n"
   ]
  },
  {
   "cell_type": "markdown",
   "metadata": {},
   "source": [
    "## MAPA DE PEDIDOS"
   ]
  },
  {
   "cell_type": "markdown",
   "metadata": {},
   "source": [
    "## PLOTLY"
   ]
  },
  {
   "cell_type": "code",
   "execution_count": 103,
   "metadata": {},
   "outputs": [],
   "source": [
    "from chart_studio.plotly import plot, iplot\n",
    "import plotly.graph_objects as go"
   ]
  },
  {
   "cell_type": "code",
   "execution_count": 102,
   "metadata": {},
   "outputs": [],
   "source": [
    "plotly_cred = yaml.load( open(\"/Users/5danalfaro/OAN/credentials/plotly_cred.yaml\", \"r\" ),Loader=yaml.FullLoader)\n",
    "#bombas de 2018, ultima version\n",
    "plotly_cred_user=str(plotly_cred['user'])\n",
    "plotly_cred_pass=str(plotly_cred['pass'])"
   ]
  },
  {
   "cell_type": "code",
   "execution_count": 104,
   "metadata": {},
   "outputs": [],
   "source": [
    "py.sign_in(plotly_cred_user, plotly_cred_pass)"
   ]
  },
  {
   "cell_type": "code",
   "execution_count": 105,
   "metadata": {},
   "outputs": [],
   "source": [
    "df = df_web_study.groupby('Poblacion').agg({'latitude': 'mean',\n",
    "                                               'longitude': 'mean',\n",
    "                                               '#Manteca': 'sum',\n",
    "                                               '#Bálsamo labial':'sum',\n",
    "                                               '#Crema de manos':'sum',\n",
    "                                                  'Fecha':'count'}).reset_index()"
   ]
  },
  {
   "cell_type": "code",
   "execution_count": 106,
   "metadata": {},
   "outputs": [],
   "source": [
    "df.columns =  ['poblacion', 'latitude', 'longitude', 'mantecas', 'balsamos',\n",
    "       'cremas', 'pedidos']"
   ]
  },
  {
   "cell_type": "code",
   "execution_count": 132,
   "metadata": {},
   "outputs": [],
   "source": [
    "df['ingresos']=df['mantecas']*8+df['cremas']*6+df['balsamos']*4"
   ]
  },
  {
   "cell_type": "code",
   "execution_count": 133,
   "metadata": {},
   "outputs": [],
   "source": [
    "df=df.sort_values(by='ingresos')"
   ]
  },
  {
   "cell_type": "markdown",
   "metadata": {},
   "source": [
    "Spain lies between latitudes 36° and 44° N, and longitudes 19° W and 5° E. Its Atlantic coast is 710 km (441 mi) long."
   ]
  },
  {
   "cell_type": "code",
   "execution_count": 154,
   "metadata": {},
   "outputs": [
    {
     "data": {
      "text/html": [
       "\n",
       "        <iframe\n",
       "            width=\"100%\"\n",
       "            height=\"525px\"\n",
       "            src=\"https://plot.ly/~5danalfaro/38.embed\"\n",
       "            frameborder=\"0\"\n",
       "            allowfullscreen\n",
       "        ></iframe>\n",
       "        "
      ],
      "text/plain": [
       "<IPython.lib.display.IFrame at 0x1235b9828>"
      ]
     },
     "execution_count": 154,
     "metadata": {},
     "output_type": "execute_result"
    }
   ],
   "source": [
    "df['text'] = (df['poblacion'] + '<br>pedidos: ' + df['pedidos'].astype(str)+\n",
    "            ' | mantecas: '+df['mantecas'].astype(str)+' | cremas: '+df['cremas'].astype(str)+\n",
    "             ' | balsamos: '+df['balsamos'].astype(str)\n",
    "             + '<br>ingresos: '+df['ingresos'].astype(str))\n",
    "limits = [(0,20),(20,40),(40,80),(80,140),(140,df.ingresos.max())]\n",
    "colors = [\"rgb(0,116,217)\",\"rgb(255,65,54)\",\"rgb(133,20,75)\",\"rgb(255,133,27)\",\"lightgrey\"]\n",
    "cities = []\n",
    "scale = 50000\n",
    "\n",
    "for i in range(len(limits)):\n",
    "    lim = limits[i]\n",
    "    df_sub = df[(df.ingresos>lim[0]) &\n",
    "                (df.ingresos<=lim[1])]\n",
    "    city = go.Scattergeo(\n",
    "        locationmode = 'ISO-3',\n",
    "        lon = df_sub['longitude'],\n",
    "        lat = df_sub['latitude'],\n",
    "        text = df_sub['text'],\n",
    "        marker = go.scattergeo.Marker(\n",
    "            size = 10*df_sub['pedidos']**1.3,\n",
    "            color = colors[i],\n",
    "            line = go.scattergeo.marker.Line(\n",
    "                width=0.5, color='rgb(40,40,40)'\n",
    "            ),\n",
    "            sizemode = 'area'\n",
    "        ),\n",
    "        name = '{0} - {1}'.format(lim[0],lim[1]) )\n",
    "    cities.append(city)\n",
    "\n",
    "layout = go.Layout(\n",
    "        title = go.layout.Title(\n",
    "            text = ('Ventas online de Nikarit | pedidos: '+str(df.pedidos.sum())+\n",
    "                   '<br>Mantecas: '+str(df.mantecas.sum())+' | Cremas: '+str(df.cremas.sum())+\n",
    "                   ' | Bálsamos: '+str(df.balsamos.sum())+'<br>Ingresos: '+str(df.ingresos.sum())+'€')\n",
    "        ),\n",
    "        showlegend = True,\n",
    "        geo = go.layout.Geo(\n",
    "            scope = 'europe',\n",
    "            projection = go.layout.geo.Projection(\n",
    "                type='mercator'\n",
    "            ),\n",
    "            showland = True,\n",
    "            lataxis_range=[ 36, 44],\n",
    "            lonaxis_range=[ -9.5, 3.3],\n",
    "            landcolor = 'rgb(217, 217, 217)',\n",
    "            subunitwidth=1,\n",
    "            countrywidth=1,\n",
    "            subunitcolor=\"rgb(255, 255, 255)\",\n",
    "            countrycolor=\"rgb(255, 255, 255)\"\n",
    "        ),\n",
    "        annotations=[\n",
    "            dict(\n",
    "                x=1.08,\n",
    "                y=1.15,\n",
    "                align=\"right\",\n",
    "                valign=\"top\",\n",
    "                text='Click en las burbujas <br>para interactuar<br>(rango de ingresos)',\n",
    "                showarrow=False,\n",
    "                xref=\"paper\",\n",
    "                yref=\"paper\",\n",
    "                xanchor=\"center\",\n",
    "                yanchor=\"top\"\n",
    "            ),\n",
    "            dict(\n",
    "                x=0.08,\n",
    "                y=0.15,\n",
    "                align=\"right\",\n",
    "                valign=\"top\",\n",
    "                text='Tamaño de las burbuja: nº de pedidos',\n",
    "                showarrow=False,\n",
    "                xref=\"paper\",\n",
    "                yref=\"paper\",\n",
    "                xanchor=\"center\",\n",
    "                yanchor=\"bottom\"\n",
    "            )\n",
    "    ]\n",
    "    \n",
    "    )\n",
    "\n",
    "fig = go.Figure(data=cities, layout=layout)\n",
    "iplot(fig, filename='clientes_nikarit_municipios')"
   ]
  },
  {
   "cell_type": "code",
   "execution_count": null,
   "metadata": {},
   "outputs": [],
   "source": []
  }
 ],
 "metadata": {
  "accelerator": "GPU",
  "colab": {
   "collapsed_sections": [],
   "include_colab_link": true,
   "name": "colab_estructurar_bbdd_y_subir_a_firebase.ipynb",
   "provenance": []
  },
  "kernelspec": {
   "display_name": "Python 3",
   "language": "python",
   "name": "python3"
  },
  "language_info": {
   "codemirror_mode": {
    "name": "ipython",
    "version": 3
   },
   "file_extension": ".py",
   "mimetype": "text/x-python",
   "name": "python",
   "nbconvert_exporter": "python",
   "pygments_lexer": "ipython3",
   "version": "3.7.3"
  }
 },
 "nbformat": 4,
 "nbformat_minor": 1
}

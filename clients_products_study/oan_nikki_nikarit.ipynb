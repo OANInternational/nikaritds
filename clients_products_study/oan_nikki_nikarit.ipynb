{
 "cells": [
  {
   "cell_type": "code",
   "execution_count": 1,
   "metadata": {},
   "outputs": [],
   "source": [
    "import os\n",
    "import pandas as pd"
   ]
  },
  {
   "cell_type": "code",
   "execution_count": 2,
   "metadata": {},
   "outputs": [
    {
     "data": {
      "text/plain": [
       "True"
      ]
     },
     "execution_count": 2,
     "metadata": {},
     "output_type": "execute_result"
    }
   ],
   "source": [
    "from dotenv import load_dotenv\n",
    "load_dotenv('/Users/daniel/OAN/credentials/contoan/.env')"
   ]
  },
  {
   "cell_type": "code",
   "execution_count": 4,
   "metadata": {},
   "outputs": [
    {
     "name": "stderr",
     "output_type": "stream",
     "text": [
      "Downloading: 100%|██████████| 2410/2410 [00:01<00:00, 1749.06rows/s]\n"
     ]
    }
   ],
   "source": [
    "sql = \"\"\"\n",
    "   SELECT acc.id as `ID`,\n",
    "       acc.creation_date as `CREACION`,\n",
    "       acc.execution_date as `EJECUCION`,\n",
    "       acc.concept as `CONCEPTO`,\n",
    "       pr.name as `PROJECTO`,\n",
    "       int.name as `INTERVENCION`,\n",
    "       ph.name as `FASE`,\n",
    "       CASE \n",
    "        WHEN acc.type = 'expense'  THEN 'Gasto'\n",
    "        WHEN acc.type = 'income'  THEN 'Ingreso'\n",
    "        WHEN acc.type = 'movement'  THEN 'Movimiento'\n",
    "        ELSE ''\n",
    "      END AS `TIPO`,\n",
    "       acc.amount as `CANTIDAD`,\n",
    "       acc.vat as `IVA`,\n",
    "       acc.vat_amount as `IVA_CTA`,\n",
    "       tg.name as `CAJA_BANCO`,\n",
    "       ac.name as `CATEGORIA`,\n",
    "       acc.description as `DESCRIPCION`,\n",
    "       cr.name as `CREADOR`,\n",
    "       rs.name as `RESPONSABLE`,      \n",
    "       acc.code as `COTADOR`,\n",
    "       acc.origin as `ORIGEN`,\n",
    "       acc.place as `LUGAR`,\n",
    "       acc.receipt as `FACTURA`\n",
    "       \n",
    "      \n",
    "FROM `oan-nikarit.contoan.accounting` acc\n",
    "LEFT OUTER JOIN `oan-nikarit.contoan.accounts` ac\n",
    "ON acc.account_id = ac.id\n",
    "LEFT OUTER JOIN `oan-nikarit.contoan.accounts` tg\n",
    "ON acc.target_id = tg.id\n",
    "LEFT OUTER JOIN `oan-nikarit.contoan.projects` pr\n",
    "ON acc.project = pr.id\n",
    "LEFT OUTER JOIN `oan-nikarit.contoan.projects` int\n",
    "ON acc.intervention = int.id\n",
    "LEFT OUTER JOIN `oan-nikarit.contoan.projects` ph\n",
    "ON acc.phase = ph.id\n",
    "LEFT OUTER JOIN `oan-nikarit.contoan.users` cr\n",
    "ON acc.creator_user = cr.id\n",
    "LEFT OUTER JOIN `oan-nikarit.contoan.users` rs\n",
    "ON acc.user_in_charge = rs.id\n",
    "\"\"\".lower()\n",
    "\n",
    "# Run a Standard SQL query using the environment's default project\n",
    "df = pd.read_gbq(sql)"
   ]
  },
  {
   "cell_type": "code",
   "execution_count": 83,
   "metadata": {},
   "outputs": [],
   "source": [
    "df['ano_mes'] =  df['ejecucion'].dt.year.apply(str)+df['ejecucion'].dt.month.apply(lambda x: '0'+str(x) if x<10 else str(x))"
   ]
  },
  {
   "cell_type": "code",
   "execution_count": 84,
   "metadata": {},
   "outputs": [
    {
     "name": "stdout",
     "output_type": "stream",
     "text": [
      "<class 'pandas.core.frame.DataFrame'>\n",
      "RangeIndex: 2410 entries, 0 to 2409\n",
      "Data columns (total 22 columns):\n",
      " #   Column        Non-Null Count  Dtype              \n",
      "---  ------        --------------  -----              \n",
      " 0   id            2410 non-null   object             \n",
      " 1   creacion      2410 non-null   datetime64[ns, UTC]\n",
      " 2   ejecucion     2410 non-null   datetime64[ns, UTC]\n",
      " 3   concepto      2410 non-null   object             \n",
      " 4   projecto      2410 non-null   object             \n",
      " 5   intervencion  2410 non-null   object             \n",
      " 6   fase          784 non-null    object             \n",
      " 7   tipo          2410 non-null   object             \n",
      " 8   cantidad      2410 non-null   float64            \n",
      " 9   iva           2406 non-null   float64            \n",
      " 10  iva_cta       2405 non-null   float64            \n",
      " 11  caja_banco    2410 non-null   object             \n",
      " 12  categoria     2410 non-null   object             \n",
      " 13  descripcion   2339 non-null   object             \n",
      " 14  creador       2410 non-null   object             \n",
      " 15  responsable   2410 non-null   object             \n",
      " 16  cotador       2410 non-null   int64              \n",
      " 17  origen        2410 non-null   object             \n",
      " 18  lugar         2410 non-null   object             \n",
      " 19  factura       349 non-null    object             \n",
      " 20  mes           2410 non-null   int64              \n",
      " 21  ano_mes       2410 non-null   object             \n",
      "dtypes: datetime64[ns, UTC](2), float64(3), int64(2), object(15)\n",
      "memory usage: 414.3+ KB\n"
     ]
    }
   ],
   "source": [
    "df.info()"
   ]
  },
  {
   "cell_type": "code",
   "execution_count": 85,
   "metadata": {},
   "outputs": [
    {
     "data": {
      "text/plain": [
       "(342, 22)"
      ]
     },
     "execution_count": 85,
     "metadata": {},
     "output_type": "execute_result"
    }
   ],
   "source": [
    "df[(df['factura'] != '') & \n",
    "   ~(df['factura'].isna())].shape"
   ]
  },
  {
   "cell_type": "code",
   "execution_count": 86,
   "metadata": {},
   "outputs": [],
   "source": [
    "df_cf = df[(df['factura'] != '') & \n",
    "   ~(df['factura'].isna())]"
   ]
  },
  {
   "cell_type": "code",
   "execution_count": 87,
   "metadata": {},
   "outputs": [],
   "source": [
    "df_sf = df[~(df.index.isin(df_cf.index))]"
   ]
  },
  {
   "cell_type": "code",
   "execution_count": 88,
   "metadata": {},
   "outputs": [
    {
     "data": {
      "text/plain": [
       "array(['Nikarit', 'Administration_general', 'Emancipacion', 'ADSAN',\n",
       "       'Aguapp', 'Évènements', 'Fassol', 'Forum Nikki', \"Pompes d'eau\"],\n",
       "      dtype=object)"
      ]
     },
     "execution_count": 88,
     "metadata": {},
     "output_type": "execute_result"
    }
   ],
   "source": [
    "df_sf['projecto'].unique()"
   ]
  },
  {
   "cell_type": "code",
   "execution_count": 89,
   "metadata": {},
   "outputs": [
    {
     "data": {
      "text/plain": [
       "ano_mes\n",
       "201909     1\n",
       "202002     1\n",
       "202003     2\n",
       "202004     3\n",
       "202008     5\n",
       "202009     7\n",
       "202010    12\n",
       "202011     6\n",
       "202012     7\n",
       "Name: id, dtype: int64"
      ]
     },
     "execution_count": 89,
     "metadata": {},
     "output_type": "execute_result"
    }
   ],
   "source": [
    "df_sf[(df_sf['creador'] == 'Mireille') &\n",
    "      ((df_sf['projecto'] == 'Nikarit') |\n",
    "       (df_sf['projecto'] == 'Emancipacion'))].groupby('ano_mes').count()['id']"
   ]
  },
  {
   "cell_type": "code",
   "execution_count": 90,
   "metadata": {},
   "outputs": [],
   "source": [
    "df_ob = df_sf[(df_sf['creador'] == 'Mireille') &\n",
    "              (df_sf['origen'] == 'contoan') &\n",
    "              (df_sf['tipo'] == 'gasto') &\n",
    "              ((df_sf['projecto'] == 'Nikarit') |\n",
    "               (df_sf['projecto'] == 'Emancipacion'))]"
   ]
  },
  {
   "cell_type": "code",
   "execution_count": 91,
   "metadata": {},
   "outputs": [
    {
     "data": {
      "text/plain": [
       "benin    38\n",
       "Name: lugar, dtype: int64"
      ]
     },
     "execution_count": 91,
     "metadata": {},
     "output_type": "execute_result"
    }
   ],
   "source": [
    "df_ob['lugar'].value_counts()"
   ]
  },
  {
   "cell_type": "code",
   "execution_count": 96,
   "metadata": {},
   "outputs": [
    {
     "name": "stdout",
     "output_type": "stream",
     "text": [
      "2020-12-31 salaire mireill https://nikarit.oaninternational.org/accounting/details/JeBqTh8Qs8pdK5oor9CC \n",
      "\n",
      "2020-12-31 salaire animatrice https://nikarit.oaninternational.org/accounting/details/UuUjfIx2G2HhyzgI6V8d \n",
      "\n",
      "2020-12-15 transport pour rencontrer les impayés de crédit sianson https://nikarit.oaninternational.org/accounting/details/j5k2wcUzLXMzcjexZ5kG \n",
      "\n",
      "2020-12-06 15000 https://nikarit.oaninternational.org/accounting/details/tALE8iLqcCB3jI4Q1vvH \n",
      "\n",
      "2020-12-06 salaire younouss https://nikarit.oaninternational.org/accounting/details/LIoXWYcAZ4rpmNNP7i22 \n",
      "\n",
      "2020-12-01 achat crédit https://nikarit.oaninternational.org/accounting/details/IMGLPH1C41d6d1qIFAxg \n",
      "\n",
      "2020-12-01 crédit pour appel   https://nikarit.oaninternational.org/accounting/details/m5EehMu4Ltco4WZ1ad6o \n",
      "\n",
      "2020-11-30 salaire Mireille https://nikarit.oaninternational.org/accounting/details/qCxezZFI7hM5cY1h4D9y \n",
      "\n",
      "2020-11-30 salaire coordonnatrice https://nikarit.oaninternational.org/accounting/details/UbhcExnhpq32d2rwNsSR \n",
      "\n",
      "2020-11-21 transport du beurre pour Cotonou https://nikarit.oaninternational.org/accounting/details/tptIWNljsYl21woslC5T \n",
      "\n",
      "2020-11-21 transport et hébergement à cotonou https://nikarit.oaninternational.org/accounting/details/mTQhR3C5Cjyk0zojTglv \n",
      "\n",
      "2020-11-01 achat credit https://nikarit.oaninternational.org/accounting/details/8KJa8nis6dOmh8cTL6R2 \n",
      "\n",
      "2020-11-01 achat crédit pour appel et internet  https://nikarit.oaninternational.org/accounting/details/zWNtP3yDIFTmfEVeMAQT \n",
      "\n",
      "2020-10-31 forfait appel et internet  https://nikarit.oaninternational.org/accounting/details/EZQLrgAFNPbTAG5BP1Tl \n",
      "\n",
      "2020-10-31 transport taxi moto https://nikarit.oaninternational.org/accounting/details/kWyC7n9DYWVNwoopc2iY \n",
      "\n",
      "2020-10-31 salaire coordonatrice https://nikarit.oaninternational.org/accounting/details/ZL6f24qApCSenLONqagV \n",
      "\n",
      "2020-10-31 matériels de bureau https://nikarit.oaninternational.org/accounting/details/8h47t9XjxIFm9NMbJD0W \n",
      "\n",
      "2020-10-31 salaire mireille https://nikarit.oaninternational.org/accounting/details/XjCSEDhciHy3oZSNSVEG \n",
      "\n",
      "2020-10-28 remise dargent au mécanicien de takou par le biais de younouss pour achat de pièces https://nikarit.oaninternational.org/accounting/details/IZzBZYHugAT68bLNgGNY \n",
      "\n",
      "2020-10-16 obtention chéquier banque https://nikarit.oaninternational.org/accounting/details/4OcZ4z7W7wvLOeAd3yKR \n",
      "\n",
      "2020-10-15 essence et péage https://nikarit.oaninternational.org/accounting/details/XETnZKvKRiXFoY6r2l14 \n",
      "\n",
      "2020-10-15 achat emballages https://nikarit.oaninternational.org/accounting/details/G2gKQhMucPCXQJT1L9ZG \n",
      "\n",
      "2020-10-15 essence https://nikarit.oaninternational.org/accounting/details/LGJ1TUK9hyUNbGP0UEFl \n",
      "\n",
      "2020-10-12 achat second plastique et filtre  https://nikarit.oaninternational.org/accounting/details/UvvVBTk8l7EigXJfCqse \n",
      "\n",
      "2020-10-01 forfait appel et internet  https://nikarit.oaninternational.org/accounting/details/B2FkCLpJGSYBL9w4b6Sc \n",
      "\n",
      "2020-09-30 forfait appel et internet https://nikarit.oaninternational.org/accounting/details/dgXDfR6xOh82KYa0zA9y \n",
      "\n",
      "2020-09-30 évaluation du projet https://nikarit.oaninternational.org/accounting/details/BjhudUFMkhhjoOMBy2Xv \n",
      "\n",
      "2020-09-30 salaire coordonatrice https://nikarit.oaninternational.org/accounting/details/XTcjIIeA2RC4m58hKEMP \n",
      "\n",
      "2020-09-29 main doeuvre ménusier , bois , clous, fils de fer et tôles https://nikarit.oaninternational.org/accounting/details/LTUAn2w2rjX4NkEnrdvn \n",
      "\n",
      "2020-09-10 solde dû https://nikarit.oaninternational.org/accounting/details/HRln0HZ34YumOGvy0zem \n",
      "\n",
      "2020-09-08 péage  https://nikarit.oaninternational.org/accounting/details/IhjjNGP2AYzyOJN9GAuU \n",
      "\n",
      "2020-09-01 achat crédit pour appel et internet https://nikarit.oaninternational.org/accounting/details/2bFq7WHJxqj79Eq0PUbE \n",
      "\n",
      "2020-08-31 forfait appel et internet https://nikarit.oaninternational.org/accounting/details/zJCCYmPuM5DtvhArqxxI \n",
      "\n",
      "2020-08-31 salaire coordonatrice https://nikarit.oaninternational.org/accounting/details/TYHDSMgeGV782S39gqB6 \n",
      "\n",
      "2020-08-31 salaire animatrice https://nikarit.oaninternational.org/accounting/details/RYfnqVXrmtYUIkL3o4Je \n",
      "\n",
      "2020-08-31 salaire animatrice https://nikarit.oaninternational.org/accounting/details/XOZTrnAQBS3eUd9dGZFk \n",
      "\n",
      "2020-08-01 achat crédit pour forfait appel et internet https://nikarit.oaninternational.org/accounting/details/IHH0RbojcmfkdxKml9dR \n",
      "\n",
      "2019-09-30 salaire animatrice https://nikarit.oaninternational.org/accounting/details/5vYhObdpMXhgQGh5WOXU \n",
      "\n"
     ]
    }
   ],
   "source": [
    "d_t = df_ob.sort_values('ejecucion',ascending=False).T.to_dict()\n",
    "for d in d_t:\n",
    "    row = d_t[d]\n",
    "    id_mov = row['id']\n",
    "    concepto = row['concepto']\n",
    "    e_date = str(row['ejecucion'])[0:10]\n",
    "    url = 'https://nikarit.oaninternational.org/accounting/details/'+id_mov\n",
    "    print(e_date,concepto,url,'\\n')"
   ]
  },
  {
   "cell_type": "code",
   "execution_count": null,
   "metadata": {},
   "outputs": [],
   "source": []
  }
 ],
 "metadata": {
  "kernelspec": {
   "display_name": "Python 3",
   "language": "python",
   "name": "python3"
  },
  "language_info": {
   "codemirror_mode": {
    "name": "ipython",
    "version": 3
   },
   "file_extension": ".py",
   "mimetype": "text/x-python",
   "name": "python",
   "nbconvert_exporter": "python",
   "pygments_lexer": "ipython3",
   "version": "3.8.3"
  }
 },
 "nbformat": 4,
 "nbformat_minor": 4
}
